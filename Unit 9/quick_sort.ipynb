{
 "cells": [
  {
   "cell_type": "code",
   "execution_count": 1,
   "id": "725b1622",
   "metadata": {},
   "outputs": [],
   "source": [
    "# Random array function\n",
    "import numpy as np\n",
    "import matplotlib.pyplot as plt\n",
    "\n",
    "def get_random_arrays():\n",
    "    rng = np.random.default_rng(42)\n",
    "    random_arrays = [rng.integers(low=-10000, high=10000, size=10**i) for i in range(1, 4)]\n",
    "    for arr in random_arrays:\n",
    "        print(arr.shape)\n",
    "\n",
    "    return random_arrays\n",
    "\n",
    "# Test list\n",
    "data = [5,7,3,9,4,2,1,8,6]"
   ]
  },
  {
   "cell_type": "code",
   "execution_count": 2,
   "id": "4e16460b",
   "metadata": {},
   "outputs": [],
   "source": [
    "def partition(arr, low, high):\n",
    "    # Choose the pivot (last element in the current partition)\n",
    "    pivot = arr[high]\n",
    "\n",
    "    # Initialize the pointer for the smaller element\n",
    "    i = low\n",
    "\n",
    "    # Iterate through the partitioned array, starting at low\n",
    "    for j in range(low, high):\n",
    "        # If the current element is smaller than or equal to the pivot, swap it with the pointer\n",
    "        if arr[j] <= pivot:\n",
    "            arr[i], arr[j] = arr[j], arr[i]\n",
    "            i += 1\n",
    "\n",
    "    # Place the pivot in its correct position by swapping it with the element next to the smaller element\n",
    "    arr[i], arr[high] = arr[high], arr[i]\n",
    "\n",
    "    # Return the index of the pivot\n",
    "    return i"
   ]
  },
  {
   "cell_type": "code",
   "execution_count": 3,
   "id": "00f50533",
   "metadata": {},
   "outputs": [
    {
     "data": {
      "text/plain": [
       "2"
      ]
     },
     "execution_count": 3,
     "metadata": {},
     "output_type": "execute_result"
    }
   ],
   "source": [
    "# Test partitioning (pivot at position 2)\n",
    "test_pivot = [1, 4, 5, 2, 3]\n",
    "partition(test_pivot, 0, len(test_pivot) - 1)"
   ]
  },
  {
   "cell_type": "code",
   "execution_count": 4,
   "id": "f9cc5996",
   "metadata": {},
   "outputs": [],
   "source": [
    "# In place quick sorting\n",
    "def in_place_quick_sort(arr, low, high):\n",
    "    if low < high:\n",
    "        # Partition the array and get the index of the pivot\n",
    "        pivot_index = partition(arr, low, high)\n",
    "\n",
    "        # Recursively call quick_sort on the less partition\n",
    "        in_place_quick_sort(arr, low, pivot_index - 1)\n",
    "        \n",
    "        # Recursively call quick_sort on the greater partition\n",
    "        in_place_quick_sort(arr, pivot_index + 1, high)\n"
   ]
  },
  {
   "cell_type": "code",
   "execution_count": 5,
   "id": "e2f689bb",
   "metadata": {},
   "outputs": [
    {
     "name": "stdout",
     "output_type": "stream",
     "text": [
      "[1, 2, 3, 4, 5, 6, 7, 8, 9]\n"
     ]
    }
   ],
   "source": [
    "in_place_quick_sort(data, 0, len(data) - 1)\n",
    "print(data)"
   ]
  },
  {
   "cell_type": "code",
   "execution_count": 6,
   "id": "6528f981",
   "metadata": {},
   "outputs": [
    {
     "data": {
      "text/plain": [
       "0.00027399975806474686"
      ]
     },
     "execution_count": 6,
     "metadata": {},
     "output_type": "execute_result"
    }
   ],
   "source": [
    "# Time in place sorting\n",
    "import timeit\n",
    "\n",
    "data = [5,7,3,9,4,2,1,8,6]\n",
    "timeit.timeit(lambda: in_place_quick_sort(data, 0 , len(data) - 1), number=100)"
   ]
  },
  {
   "cell_type": "code",
   "execution_count": 7,
   "id": "4565f113",
   "metadata": {},
   "outputs": [],
   "source": [
    "# Quick sort with list comprehension\n",
    "def list_comp_quick_sort(arr):\n",
    "    if len(arr) <= 1:\n",
    "        return arr\n",
    "\n",
    "    # Choose the pivot element (in this case, the last element of the array)\n",
    "    pivot = arr[-1]\n",
    "\n",
    "    # Divide the remaining elements into two lists: less and greater\n",
    "    less = [x for x in arr[:-1] if x <= pivot]\n",
    "    greater = [x for x in arr[:-1] if x > pivot]\n",
    "\n",
    "    # Recursively call quick_sort on the less and greater lists\n",
    "    sorted_less = list_comp_quick_sort(less)\n",
    "    sorted_greater = list_comp_quick_sort(greater)\n",
    "\n",
    "    # Combine the sorted less, pivot, and sorted greater lists\n",
    "    sorted_array = sorted_less + [pivot] + sorted_greater\n",
    "\n",
    "    # Print the current state of the array at each step\n",
    "    # print(f\"Sorted: {sorted_less} [{pivot}] {sorted_greater}\")\n",
    "\n",
    "    # Return the sorted array\n",
    "    return sorted_array"
   ]
  },
  {
   "cell_type": "code",
   "execution_count": 8,
   "id": "e7cceadc",
   "metadata": {},
   "outputs": [
    {
     "data": {
      "text/plain": [
       "[1, 2, 3, 4, 5, 6, 7, 8, 9]"
      ]
     },
     "execution_count": 8,
     "metadata": {},
     "output_type": "execute_result"
    }
   ],
   "source": [
    "# sort some data\n",
    "data = [5,7,3,9,4,2,1,8,6]\n",
    "list_comp_quick_sort(data)"
   ]
  },
  {
   "cell_type": "code",
   "execution_count": 9,
   "id": "f0d385fc",
   "metadata": {},
   "outputs": [
    {
     "name": "stdout",
     "output_type": "stream",
     "text": [
      "(10,)\n",
      "(100,)\n",
      "(1000,)\n"
     ]
    }
   ],
   "source": [
    "# Make random arrays\n",
    "random_arrays = get_random_arrays()"
   ]
  },
  {
   "cell_type": "code",
   "execution_count": 10,
   "id": "a892a446",
   "metadata": {},
   "outputs": [],
   "source": [
    "# Time comparisons (with built-in sorted). Sometimes in place hits recursion limit, so only run first two arrays\n",
    "from timeit import timeit\n",
    "\n",
    "list_comp_times = [timeit(lambda: list_comp_quick_sort(arr), number=100) / 100 for arr in random_arrays]\n",
    "in_place_times = [timeit(lambda: in_place_quick_sort(arr, 0, len(arr) - 1), number=100) / 100 for arr in random_arrays]\n",
    "sorted_times = [timeit(lambda: sorted(arr), number=100) / 100 for arr in random_arrays]"
   ]
  },
  {
   "cell_type": "code",
   "execution_count": 11,
   "id": "c69b3983",
   "metadata": {},
   "outputs": [
    {
     "data": {
      "image/png": "[encoded data removed]",
      "text/plain": [
       "<Figure size 640x480 with 1 Axes>"
      ]
     },
     "metadata": {},
     "output_type": "display_data"
    }
   ],
   "source": [
    "# Plot results\n",
    "import matplotlib.pyplot as plt\n",
    "\n",
    "x = [len(arr) for arr in random_arrays]\n",
    "\n",
    "fig, ax = plt.subplots(1)\n",
    "ax.plot(x, sorted_times, marker=\"o\", markersize=7, alpha=0.5, label=\"sorted\")\n",
    "ax.plot(x, in_place_times, marker=\"o\", markersize=7, alpha=0.5, label=\"in place\")\n",
    "ax.plot(x, list_comp_times, marker=\"o\", markersize=7, alpha=0.5, label=\"list comp\")\n",
    "ax.set_xscale(\"log\")\n",
    "ax.set_title(\"Comparison of Quick Sort methods\")\n",
    "ax.set_xlabel(\"Array length\")\n",
    "ax.set_ylabel(\"Average time (s)\")\n",
    "ax.legend()\n",
    "plt.show()\n"
   ]
  },
  {
   "cell_type": "code",
   "execution_count": null,
   "id": "4cd89fdd",
   "metadata": {},
   "outputs": [],
   "source": []
  }
 ],
 "metadata": {
  "kernelspec": {
   "display_name": "Python 3 (ipykernel)",
   "language": "python",
   "name": "python3"
  },
  "language_info": {
   "codemirror_mode": {
    "name": "ipython",
    "version": 3
   },
   "file_extension": ".py",
   "mimetype": "text/x-python",
   "name": "python",
   "nbconvert_exporter": "python",
   "pygments_lexer": "ipython3",
   "version": "3.11.5"
  }
 },
 "nbformat": 4,
 "nbformat_minor": 5
}
