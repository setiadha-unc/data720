{
 "cells": [
  {
   "cell_type": "markdown",
   "id": "4f45f3e0-1593-490b-82d1-23e3ea6142b4",
   "metadata": {},
   "source": [
    "# Graded: 7 of 7 correct\n",
    "- [x] bubble or insertion\n",
    "- [x] merge or quick\n",
    "- [x] timing function\n",
    "- [x] create random arrays\n",
    "- [x] time bubble/insertion on random arrays\n",
    "- [x] time merge/quick on random arrays\n",
    "- [x] plot of times\n",
    "\n",
    "\n",
    "Comments: "
   ]
  },
  {
   "cell_type": "markdown",
   "id": "8d80d567",
   "metadata": {},
   "source": [
    "# Assignment 9: Comparing sorting algorithms"
   ]
  },
  {
   "cell_type": "markdown",
   "id": "4e4a70b6",
   "metadata": {},
   "source": [
    "## Creating sorting functions\n",
    "Create functions for two of the sorting algorithms introduced in this unit:\n",
    "1. Bubble or insertion sort\n",
    "2. Merge or quick sort\n",
    "\n",
    "The functions must accept an array and return the sorted array."
   ]
  },
  {
   "cell_type": "code",
   "execution_count": null,
   "id": "e1d425ce",
   "metadata": {},
   "outputs": [],
   "source": []
  },
  {
   "cell_type": "markdown",
   "id": "c65de103",
   "metadata": {},
   "source": [
    "## Timing function\n",
    "Below is an example function that uses the `time` library's `perf_counter_ns` to calculate the elapsed time of a `sorting_function()` in nanoseconds:\n",
    "```\n",
    "import time\n",
    "\n",
    "def get_elapsed_time(array):\n",
    "    start = time.perf_counter_ns()\n",
    "    sorted_array = sorting_function(array)\n",
    "    end = time.perf_counter_ns()\n",
    "    elapsed_time = end - start\n",
    "    \n",
    "    return elapsed_time\n",
    "```\n",
    "Use the `perf_counter_ns` to create a function to return the time your sorting algorithms take to run."
   ]
  },
  {
   "cell_type": "code",
   "execution_count": null,
   "id": "0ffcdc1c",
   "metadata": {},
   "outputs": [],
   "source": []
  },
  {
   "cell_type": "markdown",
   "id": "82246648",
   "metadata": {},
   "source": [
    "# Time arrays of different lengths\n",
    "Create random arrays of length 100, 1000, and 10000. Time both of your sorting functions on each array and then plot the results using length as the `x` variable and time as the `y` variable.\n",
    "\n",
    "Arrays can be created using the NumPy `randint` function. Below is an example for creating a an array of 100 random integers between 0 and 1000:\n",
    "`np.random.randint(low=0, high=1000, size=100)`"
   ]
  },
  {
   "cell_type": "code",
   "execution_count": null,
   "id": "99a858ec",
   "metadata": {},
   "outputs": [],
   "source": []
  }
 ],
 "metadata": {
  "kernelspec": {
   "display_name": "Python 3 (ipykernel)",
   "language": "python",
   "name": "python3"
  },
  "language_info": {
   "codemirror_mode": {
    "name": "ipython",
    "version": 3
   },
   "file_extension": ".py",
   "mimetype": "text/x-python",
   "name": "python",
   "nbconvert_exporter": "python",
   "pygments_lexer": "ipython3",
   "version": "3.11.5"
  }
 },
 "nbformat": 4,
 "nbformat_minor": 5
}
