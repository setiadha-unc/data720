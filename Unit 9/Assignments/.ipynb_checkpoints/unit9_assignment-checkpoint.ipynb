{
 "cells": [
  {
   "cell_type": "markdown",
   "id": "4f45f3e0-1593-490b-82d1-23e3ea6142b4",
   "metadata": {},
   "source": [
    "# Graded: 7 of 7 correct\n",
    "- [x] bubble or insertion\n",
    "- [x] merge or quick\n",
    "- [x] timing function\n",
    "- [x] create random arrays\n",
    "- [x] time bubble/insertion on random arrays\n",
    "- [x] time merge/quick on random arrays\n",
    "- [x] plot of times\n",
    "\n",
    "\n",
    "Comments: "
   ]
  },
  {
   "cell_type": "markdown",
   "id": "8d80d567",
   "metadata": {},
   "source": [
    "# Assignment 9: Comparing sorting algorithms"
   ]
  },
  {
   "cell_type": "markdown",
   "id": "4e4a70b6",
   "metadata": {},
   "source": [
    "## Creating sorting functions\n",
    "Create functions for two of the sorting algorithms introduced in this unit:\n",
    "1. Bubble or insertion sort\n",
    "2. Merge or quick sort\n",
    "\n",
    "The functions must accept an array and return the sorted array."
   ]
  },
  {
   "cell_type": "markdown",
   "id": "3c7060bf",
   "metadata": {},
   "source": [
    "##### Bubble vs Merge\n",
    "\n",
    "as seen on the exercise on this same unit"
   ]
  },
  {
   "cell_type": "code",
   "execution_count": 8,
   "id": "e1d425ce",
   "metadata": {},
   "outputs": [],
   "source": [
    "# Bubble sort. Sorry I copy paste the bubble short from the exercise from this same unit\n",
    "def bubble_sort(arr):\n",
    "    n = len(arr)\n",
    "\n",
    "    # Traverse through all array elements\n",
    "    for i in range(n):\n",
    "        # Last i elements are already in place\n",
    "        for j in range(n - i - 1):\n",
    "            # Swap if the element found is greater than the next element\n",
    "            if arr[j] > arr[j + 1]:\n",
    "                arr[j], arr[j + 1] = arr[j + 1], arr[j]\n",
    "\n",
    "    return arr\n"
   ]
  },
  {
   "cell_type": "code",
   "execution_count": 9,
   "id": "2fe5529a",
   "metadata": {},
   "outputs": [],
   "source": [
    "# Merge function\n",
    "def merge(left, right):\n",
    "    result = []\n",
    "    left_index, right_index = 0, 0\n",
    "\n",
    "    while left_index < len(left) and right_index < len(right):\n",
    "        if left[left_index] < right[right_index]:\n",
    "            result.append(left[left_index])\n",
    "            left_index += 1\n",
    "        else:\n",
    "            result.append(right[right_index])\n",
    "            right_index += 1\n",
    "\n",
    "    result.extend(left[left_index:])\n",
    "    result.extend(right[right_index:])\n",
    "    print(f\"Left over: {left[left_index:]} and Right over: {right[right_index:]}\")\n",
    "    return result\n",
    "\n",
    "\n",
    "# Merge sort\n",
    "def merge_sort(arr):\n",
    "    if len(arr) <= 1:\n",
    "        return arr\n",
    "\n",
    "    mid = len(arr) // 2 # floor division 15 //2 = 7\n",
    "    left_half = arr[:mid]\n",
    "    right_half = arr[mid:]\n",
    "\n",
    "    left_half = merge_sort(left_half)\n",
    "    right_half = merge_sort(right_half)\n",
    "    merged = merge(left_half, right_half)\n",
    "\n",
    "    return merged\n"
   ]
  },
  {
   "cell_type": "markdown",
   "id": "c65de103",
   "metadata": {},
   "source": [
    "## Timing function\n",
    "Below is an example function that uses the `time` library's `perf_counter_ns` to calculate the elapsed time of a `sorting_function()` in nanoseconds:\n",
    "```\n",
    "import time\n",
    "\n",
    "def get_elapsed_time(array):\n",
    "    start = time.perf_counter_ns()\n",
    "    sorted_array = sorting_function(array)\n",
    "    end = time.perf_counter_ns()\n",
    "    elapsed_time = end - start\n",
    "    \n",
    "    return elapsed_time\n",
    "```\n",
    "Use the `perf_counter_ns` to create a function to return the time your sorting algorithms take to run."
   ]
  },
  {
   "cell_type": "code",
   "execution_count": 10,
   "id": "0ffcdc1c",
   "metadata": {},
   "outputs": [],
   "source": [
    "import time\n",
    "\n",
    "def get_elapsed_time(array, func_name):\n",
    "    start = time.perf_counter_ns()\n",
    "    if func_name == \"merge\":\n",
    "        sorted_array = merge_sort(array)\n",
    "    elif func_name == \"bubble\":\n",
    "        sorted_array = bubble_sort(array)\n",
    "    end = time.perf_counter_ns()\n",
    "    elapsed_time = end - start\n",
    "    \n",
    "    return elapsed_time"
   ]
  },
  {
   "cell_type": "markdown",
   "id": "82246648",
   "metadata": {},
   "source": [
    "# Time arrays of different lengths\n",
    "Create random arrays of length 100, 1000, and 10000. Time both of your sorting functions on each array and then plot the results using length as the `x` variable and time as the `y` variable.\n",
    "\n",
    "Arrays can be created using the NumPy `randint` function. Below is an example for creating a an array of 100 random integers between 0 and 1000:\n",
    "`np.random.randint(low=0, high=1000, size=100)`"
   ]
  },
  {
   "cell_type": "code",
   "execution_count": 13,
   "id": "99a858ec",
   "metadata": {},
   "outputs": [],
   "source": [
    "# Random array function\n",
    "import numpy as np\n",
    "\n",
    "def get_random_arrays():    \n",
    "    random_arrays = [np.random.randint(low=0, high=1000, size=10**i) for i in range(2, 5) if i ]\n",
    "    for arr in random_arrays:\n",
    "        print(arr.shape)\n",
    "\n",
    "    return random_arrays"
   ]
  },
  {
   "cell_type": "code",
   "execution_count": 14,
   "id": "95c7d241",
   "metadata": {},
   "outputs": [
    {
     "name": "stdout",
     "output_type": "stream",
     "text": [
      "(100,)\n",
      "(1000,)\n",
      "(10000,)\n"
     ]
    }
   ],
   "source": [
    "# Make random arrays\n",
    "random_arrays = get_random_arrays()"
   ]
  },
  {
   "cell_type": "code",
   "execution_count": null,
   "id": "8ffb6854-41d1-4061-b2eb-393685764538",
   "metadata": {},
   "outputs": [],
   "source": []
  }
 ],
 "metadata": {
  "kernelspec": {
   "display_name": "Python 3 (ipykernel)",
   "language": "python",
   "name": "python3"
  },
  "language_info": {
   "codemirror_mode": {
    "name": "ipython",
    "version": 3
   },
   "file_extension": ".py",
   "mimetype": "text/x-python",
   "name": "python",
   "nbconvert_exporter": "python",
   "pygments_lexer": "ipython3",
   "version": "3.12.5"
  }
 },
 "nbformat": 4,
 "nbformat_minor": 5
}
