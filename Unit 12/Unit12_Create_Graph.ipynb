{
 "cells": [
  {
   "cell_type": "markdown",
   "id": "dc9b5e2a",
   "metadata": {},
   "source": [
    "## Unit 12 Create a graph from a text file\n",
    "* The objective of this quiz is for you to write code that creates a graph as a Python dictionary and uses teh Graph class discussed in class.\n",
    "* The graph should be created by reading teh data for the graph from a text file.\n",
    "    * You should use the text file `simple_graph.txt` for this purpose\n",
    "* For the pruposes of this quiz, you can assume that the graph is undirected and non-weighted, and that there are no isolated vertices.\n",
    "* Each line in the text file will have two values which are alphanumeric and separated by at least one whitespace character.\n",
    "    * Each alphanumeric value in the line represents a node.\n",
    "    * Each line represents an edge between those two nodes in that line.\n",
    "    * So for example, a text file as below\n",
    "        * A1 A2\n",
    "        * A3 A4\n",
    "        * A4 A1\n",
    "    * is a graph with 4 nodes, A1, A2, A3, A4 and with edges connecting A1 and A2, A3 and A4 and A1 and A4\n",
    "* After you have read in the text file and created the dictionary representing the graph, you should then instatiate a graph object using the `Graph` class discussed in the class.\n",
    "* Finally, print out the graph using the print method in the `Graph` class. Your output should be as seen below for the simple graph.\n",
    "    * vertex: A1 \n",
    "    * edges: ['A2', 'A4']\n",
    "\n",
    "    * vertex: A2 \n",
    "    * edges: ['A1']\n",
    "\n",
    "    * vertex: A3 \n",
    "    * edges: ['A4']\n",
    "\n",
    "    * vertex: A4 \n",
    "    * edges: ['A3', 'A1']\n",
    "    \n",
    "* You should organize your code appropriately to show a clean and thoughtful design.\n",
    "    * Use functions as needed.\n",
    "    * Break up into cells so smaller pieces can be easily tested.\n",
    "    * Add the appropriate documentation to make your code comprehensible."
   ]
  },
  {
   "cell_type": "code",
   "execution_count": 1,
   "id": "c194bcd6",
   "metadata": {},
   "outputs": [],
   "source": [
    "# Write the code for your program below."
   ]
  }
 ],
 "metadata": {
  "kernelspec": {
   "display_name": "Python 3",
   "language": "python",
   "name": "python3"
  },
  "language_info": {
   "codemirror_mode": {
    "name": "ipython",
    "version": 3
   },
   "file_extension": ".py",
   "mimetype": "text/x-python",
   "name": "python",
   "nbconvert_exporter": "python",
   "pygments_lexer": "ipython3",
   "version": "3.12.5"
  }
 },
 "nbformat": 4,
 "nbformat_minor": 5
}
