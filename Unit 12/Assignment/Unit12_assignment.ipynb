{
 "cells": [
  {
   "cell_type": "markdown",
   "id": "f190c22a-0a30-411b-9684-9c82e577a7aa",
   "metadata": {},
   "source": [
    "# Graded: x of 6 correct\n",
    "- [x] Read file\n",
    "- [x] Extract nodes/edges\n",
    "- [x] Build a graph dictionary or class\n",
    "- [x] Make depth first search function\n",
    "- [x] Correctly count connected components\n",
    "- [x] Test on both files\n",
    "\n",
    "Comments:"
   ]
  },
  {
   "cell_type": "markdown",
   "id": "dc9b5e2a",
   "metadata": {},
   "source": [
    "## Unit 12 Count the number of components in an undirected graph\n",
    "* The objective of this programming assignment is for you to write code that creates a graph from a text file, and computes the number of connected components.\n",
    "* You will use two graphs as examples for your code. Each graph is stored in a text file as described below.\n",
    "* You can assume that the graphs are undirected and unweighted, and that there are no isolated vertices.\n",
    "* The two graph files are `one_graph.txt` and `two_graph.txt`.\n",
    "<br>\n",
    "* Each line in the graph text file will have two values which are alphanumeric and separated by at least one whitespace character.\n",
    "    * Each alphanumeric value in the line represents a node.\n",
    "    * Each line in the file represents an edge between the two nodes in that line.\n",
    "    * So for example, a text file such as:\n",
    "        * A1 A2\n",
    "        * A3 A4\n",
    "        * A4 A1\n",
    "    * is a graph with 4 nodes, A1, A2, A3, A4, and with edges connecting A1 and A2, A3 and A4 and A4 and A1\n",
    "<br>   \n",
    "* An algorithm for computing the number of connected components in a graph is as follows:\n",
    "    * Set `no_connected_components` to 0\n",
    "    * Create an empty set `visited` to track nodes that have been visited\n",
    "    * For each vertex, `v`,  in the graph:\n",
    "        * if `v` is not in `visited`:\n",
    "            * increment `no_connected_components` by 1\n",
    "            * do a depth first search from `v`, adding each node you visit to the `visited` set\n",
    "    * At the end of the for loop, `no_connected_components` will have the number of connected components in the graph.\n",
    "    * Print out `no_connected_components`\n",
    "<br>    \n",
    "* You should organize your code appropriately to show a clean and thoughtful design.\n",
    "    * Use functions as needed.\n",
    "    * Break up into cells so smaller pieces can be easily tested.\n",
    "    * Add the appropriate documentation to make your code comprehensible."
   ]
  },
  {
   "cell_type": "code",
   "execution_count": null,
   "id": "d95be652-0a5c-4d45-a9d9-e695002ebd33",
   "metadata": {},
   "outputs": [],
   "source": [
    "# Enter your code below"
   ]
  }
 ],
 "metadata": {
  "kernelspec": {
   "display_name": "Python 3 (ipykernel)",
   "language": "python",
   "name": "python3"
  },
  "language_info": {
   "codemirror_mode": {
    "name": "ipython",
    "version": 3
   },
   "file_extension": ".py",
   "mimetype": "text/x-python",
   "name": "python",
   "nbconvert_exporter": "python",
   "pygments_lexer": "ipython3",
   "version": "3.11.5"
  }
 },
 "nbformat": 4,
 "nbformat_minor": 5
}
