{
 "cells": [
  {
   "cell_type": "markdown",
   "id": "f190c22a-0a30-411b-9684-9c82e577a7aa",
   "metadata": {},
   "source": [
    "# Graded: x of 6 correct\n",
    "- [x] Read file\n",
    "- [x] Extract nodes/edges\n",
    "- [x] Build a graph dictionary or class\n",
    "- [x] Make depth first search function\n",
    "- [x] Correctly count connected components\n",
    "- [x] Test on both files\n",
    "\n",
    "Comments:"
   ]
  },
  {
   "cell_type": "markdown",
   "id": "dc9b5e2a",
   "metadata": {},
   "source": [
    "## Unit 12 Count the number of components in an undirected graph\n",
    "* The objective of this programming assignment is for you to write code that creates a graph from a text file, and computes the number of connected components.\n",
    "* You will use two graphs as examples for your code. Each graph is stored in a text file as described below.\n",
    "* You can assume that the graphs are undirected and unweighted, and that there are no isolated vertices.\n",
    "* The two graph files are `one_graph.txt` and `two_graph.txt`.\n",
    "<br>\n",
    "* Each line in the graph text file will have two values which are alphanumeric and separated by at least one whitespace character.\n",
    "    * Each alphanumeric value in the line represents a node.\n",
    "    * Each line in the file represents an edge between the two nodes in that line.\n",
    "    * So for example, a text file such as:\n",
    "        * A1 A2\n",
    "        * A3 A4\n",
    "        * A4 A1\n",
    "    * is a graph with 4 nodes, A1, A2, A3, A4, and with edges connecting A1 and A2, A3 and A4 and A4 and A1\n",
    "<br>   \n",
    "* An algorithm for computing the number of connected components in a graph is as follows:\n",
    "    * Set `no_connected_components` to 0\n",
    "    * Create an empty set `visited` to track nodes that have been visited\n",
    "    * For each vertex, `v`,  in the graph:\n",
    "        * if `v` is not in `visited`:\n",
    "            * increment `no_connected_components` by 1\n",
    "            * do a depth first search from `v`, adding each node you visit to the `visited` set\n",
    "    * At the end of the for loop, `no_connected_components` will have the number of connected components in the graph.\n",
    "    * Print out `no_connected_components`\n",
    "<br>    \n",
    "* You should organize your code appropriately to show a clean and thoughtful design.\n",
    "    * Use functions as needed.\n",
    "    * Break up into cells so smaller pieces can be easily tested.\n",
    "    * Add the appropriate documentation to make your code comprehensible."
   ]
  },
  {
   "cell_type": "code",
   "execution_count": 1,
   "id": "d95be652-0a5c-4d45-a9d9-e695002ebd33",
   "metadata": {},
   "outputs": [],
   "source": [
    "# Enter your code below\n",
    "from collections import deque\n",
    "\n",
    "class Graph:\n",
    "    def __init__(self):\n",
    "        self.adj_list = {}\n",
    "\n",
    "    def add_edge(self, node1, node2):\n",
    "        # Undirected graph: add both directions\n",
    "        if node1 not in self.adj_list:\n",
    "            self.adj_list[node1] = []\n",
    "        if node2 not in self.adj_list:\n",
    "            self.adj_list[node2] = []\n",
    "        self.adj_list[node1].append(node2)\n",
    "        self.adj_list[node2].append(node1)\n",
    "\n",
    "    def load_from_file(self, filename):\n",
    "        \"\"\"\n",
    "        Reads edges from a file and builds the adjacency list.\n",
    "        \"\"\"\n",
    "        with open(filename, 'r') as file:\n",
    "            for line in file:\n",
    "                node1, node2 = line.strip().split()\n",
    "                self.add_edge(node1, node2)\n",
    "\n",
    "    def _dfs_recursive(self, node, visited):\n",
    "        \"\"\"\n",
    "        Recursive Depth-First Search to mark all connected nodes.\n",
    "        \"\"\"\n",
    "        visited.add(node)\n",
    "        for neighbor in self.adj_list.get(node, []):\n",
    "            if neighbor not in visited:\n",
    "                self._dfs_recursive(neighbor, visited)\n",
    "\n",
    "    def _bfs(self, node, visited):\n",
    "        \"\"\"\n",
    "        Breadth-First Search to mark all connected nodes.\n",
    "        \"\"\"\n",
    "        queue = deque([node])\n",
    "        while queue:\n",
    "            current = queue.popleft()\n",
    "            if current not in visited:\n",
    "                visited.add(current)\n",
    "                for neighbor in self.adj_list.get(current, []):\n",
    "                    if neighbor not in visited:\n",
    "                        queue.append(neighbor)\n",
    "\n",
    "    def count_connected_components(self, method='dfs'):\n",
    "        \"\"\"\n",
    "        Counts the number of connected components using either DFS or BFS.\n",
    "        \"\"\"\n",
    "        visited = set()\n",
    "        count = 0\n",
    "\n",
    "        for node in self.adj_list:\n",
    "            if node not in visited:\n",
    "                count += 1\n",
    "                if method == 'dfs':\n",
    "                    self._dfs_recursive(node, visited)\n",
    "                elif method == 'bfs':\n",
    "                    self._bfs(node, visited)\n",
    "                else:\n",
    "                    raise ValueError(\"Unknown method. Use 'dfs' or 'bfs'.\")\n",
    "        return count\n"
   ]
  },
  {
   "cell_type": "code",
   "execution_count": 2,
   "id": "42271c16",
   "metadata": {},
   "outputs": [
    {
     "name": "stdout",
     "output_type": "stream",
     "text": [
      "DFS: 1\n",
      "BFS: 2\n"
     ]
    }
   ],
   "source": [
    "# Example for DFS\n",
    "g1 = Graph()\n",
    "g1.load_from_file('one_graph.txt')\n",
    "print(\"DFS:\", g1.count_connected_components(method='dfs'))  # Output: 1\n",
    "\n",
    "# Example for BFS\n",
    "g2 = Graph()\n",
    "g2.load_from_file('two_graph.txt')\n",
    "print(\"BFS:\", g2.count_connected_components(method='bfs'))  # Output: 2\n"
   ]
  },
  {
   "cell_type": "code",
   "execution_count": null,
   "id": "98981cf6",
   "metadata": {},
   "outputs": [],
   "source": []
  }
 ],
 "metadata": {
  "kernelspec": {
   "display_name": "Python 3",
   "language": "python",
   "name": "python3"
  },
  "language_info": {
   "codemirror_mode": {
    "name": "ipython",
    "version": 3
   },
   "file_extension": ".py",
   "mimetype": "text/x-python",
   "name": "python",
   "nbconvert_exporter": "python",
   "pygments_lexer": "ipython3",
   "version": "3.12.5"
  }
 },
 "nbformat": 4,
 "nbformat_minor": 5
}
