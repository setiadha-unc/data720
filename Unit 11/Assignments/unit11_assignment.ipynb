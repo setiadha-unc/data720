{
 "cells": [
  {
   "cell_type": "markdown",
   "id": "202ea898-78d2-4072-b6b6-afb982c2511e",
   "metadata": {},
   "source": [
    "# Graded: 8 of 8 correct\n",
    "BinarySearchTree\n",
    "- [x] list of nodes\n",
    "- [x] accepts 1D array\n",
    "- [x] accepts 2D matrix\n",
    "- [x] sorts tree\n",
    "- [x] find function\n",
    "Merge function\n",
    "- [x] accepts two binary trees\n",
    "- [x] combines list of nodes\n",
    "- [x] sorts nodes\n",
    "\n",
    "Comments: "
   ]
  },
  {
   "cell_type": "markdown",
   "id": "dbaaaacf",
   "metadata": {},
   "source": [
    "# Assignment 11: fun with binary trees"
   ]
  },
  {
   "cell_type": "markdown",
   "id": "6d39201c",
   "metadata": {},
   "source": [
    "## Search a matrix using a binary tree\n",
    "Create a class `BinarySearchTree` that contains:\n",
    "1. A list of nodes\n",
    "2. A function `build` that accepts a 1D or 2D matrix builds and sorts the tree\n",
    "3. A function `find` that accepts a value and finds the element with that value"
   ]
  },
  {
   "cell_type": "code",
   "execution_count": null,
   "id": "fb4e252d",
   "metadata": {},
   "outputs": [],
   "source": []
  },
  {
   "cell_type": "markdown",
   "id": "71359217",
   "metadata": {},
   "source": [
    "## Merge two trees\n",
    "Create a function that merges two `BinarySearchTree` objects and sorts the values"
   ]
  },
  {
   "cell_type": "code",
   "execution_count": null,
   "id": "cb572160",
   "metadata": {},
   "outputs": [],
   "source": []
  }
 ],
 "metadata": {
  "kernelspec": {
   "display_name": "Python 3 (ipykernel)",
   "language": "python",
   "name": "python3"
  },
  "language_info": {
   "codemirror_mode": {
    "name": "ipython",
    "version": 3
   },
   "file_extension": ".py",
   "mimetype": "text/x-python",
   "name": "python",
   "nbconvert_exporter": "python",
   "pygments_lexer": "ipython3",
   "version": "3.11.5"
  }
 },
 "nbformat": 4,
 "nbformat_minor": 5
}
