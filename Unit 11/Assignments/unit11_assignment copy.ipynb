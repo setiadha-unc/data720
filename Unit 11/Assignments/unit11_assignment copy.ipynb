{
 "cells": [
  {
   "cell_type": "markdown",
   "id": "202ea898-78d2-4072-b6b6-afb982c2511e",
   "metadata": {},
   "source": [
    "# Graded: 8 of 8 correct\n",
    "BinarySearchTree\n",
    "- [x] list of nodes\n",
    "- [x] accepts 1D array\n",
    "- [x] accepts 2D matrix\n",
    "- [x] sorts tree\n",
    "- [x] find function\n",
    "Merge function\n",
    "- [x] accepts two binary trees\n",
    "- [x] combines list of nodes\n",
    "- [x] sorts nodes\n",
    "\n",
    "Comments: "
   ]
  },
  {
   "cell_type": "markdown",
   "id": "dbaaaacf",
   "metadata": {},
   "source": [
    "# Assignment 11: fun with binary trees"
   ]
  },
  {
   "cell_type": "markdown",
   "id": "6d39201c",
   "metadata": {},
   "source": [
    "## Search a matrix using a binary tree\n",
    "Create a class `BinarySearchTree` that contains:\n",
    "1. A list of nodes\n",
    "2. A function `build` that accepts a 1D or 2D matrix builds and sorts the tree\n",
    "3. A function `find` that accepts a value and finds the element with that value"
   ]
  },
  {
   "cell_type": "code",
   "execution_count": 3,
   "id": "9421d4e3-9286-4287-be82-75259241a36c",
   "metadata": {},
   "outputs": [],
   "source": [
    "from collections import deque"
   ]
  },
  {
   "cell_type": "code",
   "execution_count": 4,
   "id": "fb4e252d",
   "metadata": {},
   "outputs": [],
   "source": [
    "class Node:\n",
    "    def __init__(self, key):\n",
    "        self.key = key\n",
    "        self.left = None\n",
    "        self.right = None"
   ]
  },
  {
   "cell_type": "code",
   "execution_count": 5,
   "id": "cbd73c05-54bc-41c7-8baf-f183b0449306",
   "metadata": {},
   "outputs": [],
   "source": [
    "class BinarySearchTree: \n",
    "    def __init__(self):\n",
    "        self.root = None\n",
    "        self.nodes = []  # List to keep track of all nodes inserted into the tree\n",
    "\n",
    "    def insert(self, key):\n",
    "        self.root = self._insert_recursive(self.root, key)\n",
    "        self.nodes.append(key)  # Store the key in the node list\n",
    "\n",
    "    def _insert_recursive(self, node, key):\n",
    "        if node is None:\n",
    "            return Node(key)\n",
    "\n",
    "        if key < node.key:\n",
    "            node.left = self._insert_recursive(node.left, key)\n",
    "        elif key > node.key:\n",
    "            node.right = self._insert_recursive(node.right, key)\n",
    "\n",
    "        return node\n",
    "\n",
    "    def build(self, matrix):\n",
    "        self.root = None\n",
    "        self.nodes = []\n",
    "        \n",
    "        # Flatten the matrix to a list of values\n",
    "        if isinstance(matrix[0], list):\n",
    "            flat_values = [item for sublist in matrix for item in sublist]\n",
    "        else:\n",
    "            flat_values = matrix\n",
    "\n",
    "        for value in sorted(set(flat_values)):  # Sort and remove duplicates\n",
    "            self.insert(value)\n",
    "\n",
    "    def find(self, key):\n",
    "        visited_nodes = {'count': 0}\n",
    "        result_node = self._search_recursive(self.root, key, visited_nodes)\n",
    "        if result_node:\n",
    "            print(f\"Key {key} found. Visited {visited_nodes['count']} nodes.\")\n",
    "            return result_node\n",
    "        else:\n",
    "            print(f\"Key {key} not found after visiting {visited_nodes['count']} nodes.\")\n",
    "            return None\n",
    "\n",
    "    def _search_recursive(self, node, key, visited_nodes):\n",
    "        visited_nodes['count'] += 1\n",
    "\n",
    "        if node is None or node.key == key:\n",
    "            return node\n",
    "\n",
    "        if key < node.key:\n",
    "            return self._search_recursive(node.left, key, visited_nodes)\n",
    "        else:\n",
    "            return self._search_recursive(node.right, key, visited_nodes)\n",
    "\n",
    "    def print_levels(self):\n",
    "        if not self.root:\n",
    "            return\n",
    "\n",
    "        queue = deque([self.root])\n",
    "        while queue:\n",
    "            level_size = len(queue)\n",
    "            for _ in range(level_size):\n",
    "                current_node = queue.popleft()\n",
    "                print(current_node.key, end=\" \")\n",
    "\n",
    "                if current_node.left:\n",
    "                    queue.append(current_node.left)\n",
    "                if current_node.right:\n",
    "                    queue.append(current_node.right)\n",
    "\n",
    "            print()  # Move to the next line for the next level"
   ]
  },
  {
   "cell_type": "code",
   "execution_count": 6,
   "id": "7608fba8-697d-4544-ad0a-1228450b27aa",
   "metadata": {},
   "outputs": [
    {
     "name": "stdout",
     "output_type": "stream",
     "text": [
      "20 \n",
      "30 \n",
      "40 \n",
      "50 \n",
      "60 \n",
      "70 \n",
      "80 \n",
      "Key 15 not found after visiting 2 nodes.\n",
      "Found node key: None\n",
      "All inserted nodes: [20, 30, 40, 50, 60, 70, 80]\n"
     ]
    }
   ],
   "source": [
    "bst = BinarySearchTree()\n",
    "value = [[50, 30], [70, 20], [40, 60]]\n",
    "value = [50, 30, 70, 20, 40, 60, 80]\n",
    "bst.build(value)\n",
    "bst.print_levels()\n",
    "\n",
    "found = bst.find(15)\n",
    "print(\"Found node key:\", found.key if found else \"None\")\n",
    "\n",
    "print(\"All inserted nodes:\", bst.nodes)\n"
   ]
  },
  {
   "cell_type": "code",
   "execution_count": 7,
   "id": "d6c552c2",
   "metadata": {},
   "outputs": [
    {
     "data": {
      "text/plain": [
       "[20, 30, 40, 50, 60, 70, 80]"
      ]
     },
     "execution_count": 7,
     "metadata": {},
     "output_type": "execute_result"
    }
   ],
   "source": [
    "bst.nodes"
   ]
  },
  {
   "cell_type": "markdown",
   "id": "71359217",
   "metadata": {},
   "source": [
    "## Merge two trees\n",
    "Create a function that merges two `BinarySearchTree` objects and sorts the values"
   ]
  },
  {
   "cell_type": "code",
   "execution_count": 8,
   "id": "827dc230",
   "metadata": {},
   "outputs": [],
   "source": [
    "def merge_bsts(tree1, tree2):\n",
    "    # Combine and deduplicate values from both trees\n",
    "    combined_values = list(set(tree1.nodes + tree2.nodes))\n",
    "    combined_values.sort()\n",
    "\n",
    "    # Create a new BinarySearchTree and build it with merged values\n",
    "    merged_tree = BinarySearchTree()\n",
    "    for value in combined_values:\n",
    "        merged_tree.insert(value)\n",
    "\n",
    "    return merged_tree"
   ]
  },
  {
   "cell_type": "code",
   "execution_count": 9,
   "id": "5849aa4e-290b-474b-a18b-1322ca91f878",
   "metadata": {},
   "outputs": [
    {
     "name": "stdout",
     "output_type": "stream",
     "text": [
      "Merged Tree (Level Order):\n",
      "1 \n",
      "2 \n",
      "3 \n",
      "4 \n",
      "5 \n",
      "6 \n",
      "7 \n",
      "8 \n",
      "Merged Node Values List: [1, 2, 3, 4, 5, 6, 7, 8]\n"
     ]
    }
   ],
   "source": [
    "bst1 = BinarySearchTree()\n",
    "bst1.build([1, 3, 5, 7])\n",
    "\n",
    "bst2 = BinarySearchTree()\n",
    "bst2.build([2, 4, 6, 7, 8])\n",
    "\n",
    "merged_bst = merge_bsts(bst1, bst2)\n",
    "print(\"Merged Tree (Level Order):\")\n",
    "merged_bst.print_levels()\n",
    "\n",
    "print(\"Merged Node Values List:\", merged_bst.nodes)\n"
   ]
  },
  {
   "cell_type": "code",
   "execution_count": null,
   "id": "dd53a0bd-4ae2-40af-b6d5-c5e3b6c862f2",
   "metadata": {},
   "outputs": [],
   "source": []
  }
 ],
 "metadata": {
  "kernelspec": {
   "display_name": "Python 3 (ipykernel)",
   "language": "python",
   "name": "python3"
  },
  "language_info": {
   "codemirror_mode": {
    "name": "ipython",
    "version": 3
   },
   "file_extension": ".py",
   "mimetype": "text/x-python",
   "name": "python",
   "nbconvert_exporter": "python",
   "pygments_lexer": "ipython3",
   "version": "3.12.5"
  }
 },
 "nbformat": 4,
 "nbformat_minor": 5
}
