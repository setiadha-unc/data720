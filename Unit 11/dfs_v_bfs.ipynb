{
 "cells": [
  {
   "cell_type": "code",
   "execution_count": 1,
   "id": "c45810f5",
   "metadata": {},
   "outputs": [],
   "source": [
    "from collections import deque"
   ]
  },
  {
   "cell_type": "code",
   "execution_count": 2,
   "id": "28be297d",
   "metadata": {},
   "outputs": [],
   "source": [
    "class Node:\n",
    "    def __init__(self, data):\n",
    "        self.data = data\n",
    "        self.left = None\n",
    "        self.right = None\n",
    "\n",
    "\n",
    "class BinaryTree:\n",
    "    def __init__(self):\n",
    "        self.root = None\n",
    "\n",
    "    def insert(self, arr):\n",
    "        # Function to insert elements from the array into the binary tree\n",
    "        if not arr:\n",
    "            return None\n",
    "\n",
    "        self.root = Node(arr[0])\n",
    "        queue = deque([self.root])\n",
    "        i = 1\n",
    "\n",
    "        while queue:\n",
    "            current = queue.popleft()\n",
    "\n",
    "            if i < len(arr):\n",
    "                if arr[i] is not None:\n",
    "                    current.left = Node(arr[i])\n",
    "                    queue.append(current.left)\n",
    "                i += 1\n",
    "\n",
    "            if i < len(arr):\n",
    "                if arr[i] is not None:\n",
    "                    current.right = Node(arr[i])\n",
    "                    queue.append(current.right)\n",
    "                i += 1\n",
    "\n",
    "    def breadth_first_search(self):\n",
    "        # Function for breadth-first search (BFS) traversal\n",
    "        if not self.root:\n",
    "            return []\n",
    "\n",
    "        result = []\n",
    "        queue = deque([self.root])\n",
    "\n",
    "        while queue:\n",
    "            node = queue.popleft()\n",
    "            result.append(node.data)\n",
    "\n",
    "            if node.left:\n",
    "                queue.append(node.left)\n",
    "            if node.right:\n",
    "                queue.append(node.right)\n",
    "\n",
    "        return result\n",
    "\n",
    "    def depth_first_search(self):\n",
    "        # Function for depth-first search (DFS) traversal\n",
    "        def dfs_recursive(node):\n",
    "            if not node:\n",
    "                return []\n",
    "\n",
    "            result = []\n",
    "            result.append(node.data)\n",
    "            result.extend(dfs_recursive(node.left))\n",
    "            result.extend(dfs_recursive(node.right))\n",
    "\n",
    "            return result\n",
    "\n",
    "        return dfs_recursive(self.root)\n",
    "\n",
    "\n",
    "    def print_levels(self):\n",
    "        # Function to print out the levels of the binary tree\n",
    "        if not self.root:\n",
    "            return\n",
    "\n",
    "        queue = deque([self.root])\n",
    "        while queue:\n",
    "            level_size = len(queue)\n",
    "            level_values = []\n",
    "\n",
    "            for _ in range(level_size):\n",
    "                node = queue.popleft()\n",
    "                level_values.append(node.data)\n",
    "\n",
    "                if node.left:\n",
    "                    queue.append(node.left)\n",
    "                if node.right:\n",
    "                    queue.append(node.right)\n",
    "\n",
    "            print(level_values)"
   ]
  },
  {
   "cell_type": "code",
   "execution_count": 3,
   "id": "4c953210",
   "metadata": {},
   "outputs": [
    {
     "name": "stdout",
     "output_type": "stream",
     "text": [
      "Levels:\n",
      "[1]\n",
      "[2, 3]\n",
      "[4, 5, 6, 7]\n"
     ]
    }
   ],
   "source": [
    "# Create a binary tree from an array\n",
    "binary_tree = BinaryTree()\n",
    "binary_tree.insert([1, 2, 3, 4, 5, 6, 7])\n",
    "\n",
    "# Print out the levels of the binary tree\n",
    "print(\"Levels:\")\n",
    "binary_tree.print_levels()"
   ]
  },
  {
   "cell_type": "code",
   "execution_count": 4,
   "id": "3b87cf31",
   "metadata": {},
   "outputs": [
    {
     "name": "stdout",
     "output_type": "stream",
     "text": [
      "BFS: [1, 2, 3, 4, 5, 6, 7]\n",
      "DFS: [1, 2, 4, 5, 3, 6, 7]\n"
     ]
    }
   ],
   "source": [
    "# Perform BFS traversal and print the result\n",
    "bfs_result = binary_tree.breadth_first_search()\n",
    "print(\"BFS:\", bfs_result)\n",
    "\n",
    "# Perform DFS traversal and print the result\n",
    "dfs_result = binary_tree.depth_first_search()\n",
    "print(\"DFS:\", dfs_result)\n",
    "\n"
   ]
  },
  {
   "cell_type": "code",
   "execution_count": null,
   "id": "708073e0",
   "metadata": {},
   "outputs": [],
   "source": []
  },
  {
   "cell_type": "code",
   "execution_count": null,
   "id": "13e1830c",
   "metadata": {},
   "outputs": [],
   "source": []
  }
 ],
 "metadata": {
  "kernelspec": {
   "display_name": "Python 3 (ipykernel)",
   "language": "python",
   "name": "python3"
  },
  "language_info": {
   "codemirror_mode": {
    "name": "ipython",
    "version": 3
   },
   "file_extension": ".py",
   "mimetype": "text/x-python",
   "name": "python",
   "nbconvert_exporter": "python",
   "pygments_lexer": "ipython3",
   "version": "3.8.2"
  }
 },
 "nbformat": 4,
 "nbformat_minor": 5
}
