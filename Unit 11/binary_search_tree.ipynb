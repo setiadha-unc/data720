{
 "cells": [
  {
   "cell_type": "code",
   "execution_count": 1,
   "id": "807e10c7",
   "metadata": {},
   "outputs": [],
   "source": [
    "from collections import deque"
   ]
  },
  {
   "cell_type": "code",
   "execution_count": 2,
   "id": "0c976d4e",
   "metadata": {},
   "outputs": [],
   "source": [
    "class Node:\n",
    "    def __init__(self, key):\n",
    "        self.key = key\n",
    "        self.left = None\n",
    "        self.right = None"
   ]
  },
  {
   "cell_type": "code",
   "execution_count": 3,
   "id": "d4e4ad2f",
   "metadata": {},
   "outputs": [],
   "source": [
    "class BinarySearchTree:\n",
    "    def __init__(self):\n",
    "        self.root = None\n",
    "\n",
    "    def insert(self, key):\n",
    "        self.root = self._insert_recursive(self.root, key)\n",
    "\n",
    "    def _insert_recursive(self, node, key):\n",
    "        if node is None:\n",
    "            return Node(key)\n",
    "\n",
    "        if key < node.key:\n",
    "            node.left = self._insert_recursive(node.left, key)\n",
    "        elif key > node.key:\n",
    "            node.right = self._insert_recursive(node.right, key)\n",
    "\n",
    "        return node\n",
    "\n",
    "    def search(self, key):\n",
    "        visited_nodes = {'count': 0}  # Dictionary to keep track of visited nodes count\n",
    "        result_node = self._search_recursive(self.root, key, visited_nodes)\n",
    "        if result_node:\n",
    "            print(f\"Key found. Visited {visited_nodes['count']} nodes.\")\n",
    "        else:\n",
    "            print(\"Key not found in tree.\")\n",
    "\n",
    "    def _search_recursive(self, node, key, visited_nodes):\n",
    "        visited_nodes['count'] += 1  # Increment the visited node count\n",
    "\n",
    "        if node is None or node.key == key:\n",
    "            return node\n",
    "\n",
    "        if key < node.key:\n",
    "            return self._search_recursive(node.left, key, visited_nodes)\n",
    "        else:\n",
    "            return self._search_recursive(node.right, key, visited_nodes)\n",
    "\n",
    "    def print_levels(self):\n",
    "        if not self.root:\n",
    "            return\n",
    "\n",
    "        queue = deque([self.root])\n",
    "        while queue:\n",
    "            level_size = len(queue)\n",
    "            for _ in range(level_size):\n",
    "                current_node = queue.popleft()\n",
    "                print(current_node.key, end=\" \")\n",
    "\n",
    "                if current_node.left:\n",
    "                    queue.append(current_node.left)\n",
    "                if current_node.right:\n",
    "                    queue.append(current_node.right)\n",
    "\n",
    "            print()  # Move to the next line for the next level\n",
    "    "
   ]
  },
  {
   "cell_type": "code",
   "execution_count": 9,
   "id": "f3e57133",
   "metadata": {},
   "outputs": [
    {
     "name": "stdout",
     "output_type": "stream",
     "text": [
      "50 \n",
      "30 70 \n",
      "20 60 80 \n",
      "25 \n"
     ]
    }
   ],
   "source": [
    "bst = BinarySearchTree()\n",
    "# values = [50, 30, 70, 20, 40, 60, 80]\n",
    "values = [50, 30, 70, 20, 25, 60, 80]\n",
    "for value in values:\n",
    "    bst.insert(value)\n",
    "\n",
    "bst.print_levels()"
   ]
  },
  {
   "cell_type": "code",
   "execution_count": 8,
   "id": "0896598d",
   "metadata": {},
   "outputs": [
    {
     "name": "stdout",
     "output_type": "stream",
     "text": [
      "Key found. Visited 3 nodes.\n"
     ]
    }
   ],
   "source": [
    "bst.search(80)"
   ]
  },
  {
   "cell_type": "code",
   "execution_count": 48,
   "id": "f7c85b85",
   "metadata": {},
   "outputs": [
    {
     "name": "stdout",
     "output_type": "stream",
     "text": [
      "Key found. Visited 6 nodes.\n"
     ]
    }
   ],
   "source": [
    "bst.bfs_find_node(60)"
   ]
  },
  {
   "cell_type": "code",
   "execution_count": null,
   "id": "1dd14772",
   "metadata": {},
   "outputs": [],
   "source": []
  }
 ],
 "metadata": {
  "kernelspec": {
   "display_name": "Python 3",
   "language": "python",
   "name": "python3"
  },
  "language_info": {
   "codemirror_mode": {
    "name": "ipython",
    "version": 3
   },
   "file_extension": ".py",
   "mimetype": "text/x-python",
   "name": "python",
   "nbconvert_exporter": "python",
   "pygments_lexer": "ipython3",
   "version": "3.12.5"
  }
 },
 "nbformat": 4,
 "nbformat_minor": 5
}
