{
 "cells": [
  {
   "cell_type": "markdown",
   "id": "452da9b3-5527-4bd9-b467-9e551a74582b",
   "metadata": {},
   "source": [
    "# Graded: 5 of 5 correct\n",
    "- [x] Display summary info\n",
    "- [x] Display nan counts\n",
    "- [x] Drop nans\n",
    "- [x] Convert `id` to `int`\n",
    "- [x] Convert `birthdate` to `datetime`\n",
    "\n",
    "Comments: "
   ]
  },
  {
   "cell_type": "code",
   "execution_count": 1,
   "id": "641c94e7",
   "metadata": {},
   "outputs": [],
   "source": [
    "import pandas as pd"
   ]
  },
  {
   "cell_type": "markdown",
   "id": "182d1e25",
   "metadata": {},
   "source": [
    "The next cell reads in the `dirty_data.csv` file as `data` and displays the first 5 rows."
   ]
  },
  {
   "cell_type": "code",
   "execution_count": 2,
   "id": "28e4a9fb",
   "metadata": {},
   "outputs": [
    {
     "data": {
      "application/vnd.microsoft.datawrangler.viewer.v0+json": {
       "columns": [
        {
         "name": "index",
         "rawType": "int64",
         "type": "integer"
        },
        {
         "name": "id",
         "rawType": "float64",
         "type": "float"
        },
        {
         "name": "name",
         "rawType": "object",
         "type": "unknown"
        },
        {
         "name": "address",
         "rawType": "object",
         "type": "string"
        },
        {
         "name": "height",
         "rawType": "float64",
         "type": "float"
        },
        {
         "name": "birthdate",
         "rawType": "object",
         "type": "string"
        },
        {
         "name": "eyes",
         "rawType": "object",
         "type": "string"
        }
       ],
       "conversionMethod": "pd.DataFrame",
       "ref": "43b09a5d-0823-42f7-a6a3-ba1787858ea6",
       "rows": [
        [
         "0",
         "125500.0",
         null,
         "94932 Amanda Way\nSouth Cassandraville, WV 15612",
         "158.0",
         "1997-6-21",
         "brown"
        ],
        [
         "1",
         "168840.0",
         "Kenneth Waters",
         "510 Sean Mall Apt. 205\nFarmershire, UT 20150",
         "81.0",
         "1966-10-23",
         "brown"
        ],
        [
         "2",
         "224772.0",
         "Nicole Brown",
         "56984 Edward Parkway\nSchmidtmouth, MA 41988",
         "143.0",
         "1962-9-17",
         "amber"
        ],
        [
         "3",
         "254365.0",
         null,
         "1681 Nicole Ridge Apt. 523\nNew Casey, MH 82120",
         "171.0",
         "1958-12-2",
         "green"
        ],
        [
         "4",
         "749255.0",
         "Debbie Murray",
         "59986 Christopher Squares Suite 667\nChristopherland, TX 03558",
         "88.0",
         "1952-12-5",
         "amber"
        ]
       ],
       "shape": {
        "columns": 6,
        "rows": 5
       }
      },
      "text/html": [
       "<div>\n",
       "<style scoped>\n",
       "    .dataframe tbody tr th:only-of-type {\n",
       "        vertical-align: middle;\n",
       "    }\n",
       "\n",
       "    .dataframe tbody tr th {\n",
       "        vertical-align: top;\n",
       "    }\n",
       "\n",
       "    .dataframe thead th {\n",
       "        text-align: right;\n",
       "    }\n",
       "</style>\n",
       "<table border=\"1\" class=\"dataframe\">\n",
       "  <thead>\n",
       "    <tr style=\"text-align: right;\">\n",
       "      <th></th>\n",
       "      <th>id</th>\n",
       "      <th>name</th>\n",
       "      <th>address</th>\n",
       "      <th>height</th>\n",
       "      <th>birthdate</th>\n",
       "      <th>eyes</th>\n",
       "    </tr>\n",
       "  </thead>\n",
       "  <tbody>\n",
       "    <tr>\n",
       "      <th>0</th>\n",
       "      <td>125500.0</td>\n",
       "      <td>NaN</td>\n",
       "      <td>94932 Amanda Way\\nSouth Cassandraville, WV 15612</td>\n",
       "      <td>158.0</td>\n",
       "      <td>1997-6-21</td>\n",
       "      <td>brown</td>\n",
       "    </tr>\n",
       "    <tr>\n",
       "      <th>1</th>\n",
       "      <td>168840.0</td>\n",
       "      <td>Kenneth Waters</td>\n",
       "      <td>510 Sean Mall Apt. 205\\nFarmershire, UT 20150</td>\n",
       "      <td>81.0</td>\n",
       "      <td>1966-10-23</td>\n",
       "      <td>brown</td>\n",
       "    </tr>\n",
       "    <tr>\n",
       "      <th>2</th>\n",
       "      <td>224772.0</td>\n",
       "      <td>Nicole Brown</td>\n",
       "      <td>56984 Edward Parkway\\nSchmidtmouth, MA 41988</td>\n",
       "      <td>143.0</td>\n",
       "      <td>1962-9-17</td>\n",
       "      <td>amber</td>\n",
       "    </tr>\n",
       "    <tr>\n",
       "      <th>3</th>\n",
       "      <td>254365.0</td>\n",
       "      <td>NaN</td>\n",
       "      <td>1681 Nicole Ridge Apt. 523\\nNew Casey, MH 82120</td>\n",
       "      <td>171.0</td>\n",
       "      <td>1958-12-2</td>\n",
       "      <td>green</td>\n",
       "    </tr>\n",
       "    <tr>\n",
       "      <th>4</th>\n",
       "      <td>749255.0</td>\n",
       "      <td>Debbie Murray</td>\n",
       "      <td>59986 Christopher Squares Suite 667\\nChristoph...</td>\n",
       "      <td>88.0</td>\n",
       "      <td>1952-12-5</td>\n",
       "      <td>amber</td>\n",
       "    </tr>\n",
       "  </tbody>\n",
       "</table>\n",
       "</div>"
      ],
      "text/plain": [
       "         id            name  \\\n",
       "0  125500.0             NaN   \n",
       "1  168840.0  Kenneth Waters   \n",
       "2  224772.0    Nicole Brown   \n",
       "3  254365.0             NaN   \n",
       "4  749255.0   Debbie Murray   \n",
       "\n",
       "                                             address  height   birthdate  \\\n",
       "0   94932 Amanda Way\\nSouth Cassandraville, WV 15612   158.0   1997-6-21   \n",
       "1      510 Sean Mall Apt. 205\\nFarmershire, UT 20150    81.0  1966-10-23   \n",
       "2       56984 Edward Parkway\\nSchmidtmouth, MA 41988   143.0   1962-9-17   \n",
       "3    1681 Nicole Ridge Apt. 523\\nNew Casey, MH 82120   171.0   1958-12-2   \n",
       "4  59986 Christopher Squares Suite 667\\nChristoph...    88.0   1952-12-5   \n",
       "\n",
       "    eyes  \n",
       "0  brown  \n",
       "1  brown  \n",
       "2  amber  \n",
       "3  green  \n",
       "4  amber  "
      ]
     },
     "execution_count": 2,
     "metadata": {},
     "output_type": "execute_result"
    }
   ],
   "source": [
    "data = pd.read_csv('dirty_data.csv')\n",
    "data.head()"
   ]
  },
  {
   "cell_type": "markdown",
   "id": "946090a4",
   "metadata": {},
   "source": [
    "Display the summary information for `data`."
   ]
  },
  {
   "cell_type": "code",
   "execution_count": 5,
   "id": "8966c361",
   "metadata": {},
   "outputs": [
    {
     "name": "stdout",
     "output_type": "stream",
     "text": [
      "<class 'pandas.core.frame.DataFrame'>\n",
      "RangeIndex: 520 entries, 0 to 519\n",
      "Data columns (total 6 columns):\n",
      " #   Column     Non-Null Count  Dtype  \n",
      "---  ------     --------------  -----  \n",
      " 0   id         481 non-null    float64\n",
      " 1   name       487 non-null    object \n",
      " 2   address    491 non-null    object \n",
      " 3   height     486 non-null    float64\n",
      " 4   birthdate  480 non-null    object \n",
      " 5   eyes       492 non-null    object \n",
      "dtypes: float64(2), object(4)\n",
      "memory usage: 24.5+ KB\n"
     ]
    }
   ],
   "source": [
    "data.info()"
   ]
  },
  {
   "cell_type": "markdown",
   "id": "8ae4a0ad",
   "metadata": {},
   "source": [
    "Display the number of `NaN` values in each column."
   ]
  },
  {
   "cell_type": "code",
   "execution_count": 6,
   "id": "3c4d5cbd",
   "metadata": {},
   "outputs": [
    {
     "data": {
      "text/plain": [
       "id           39\n",
       "name         33\n",
       "address      29\n",
       "height       34\n",
       "birthdate    40\n",
       "eyes         28\n",
       "dtype: int64"
      ]
     },
     "execution_count": 6,
     "metadata": {},
     "output_type": "execute_result"
    }
   ],
   "source": [
    "data.isna().sum()"
   ]
  },
  {
   "cell_type": "markdown",
   "id": "20ac05e9",
   "metadata": {},
   "source": [
    "Drop all rows that have `NaN` values and display the first 5 rows of `data`."
   ]
  },
  {
   "cell_type": "code",
   "execution_count": 8,
   "id": "e85f75b4",
   "metadata": {},
   "outputs": [
    {
     "name": "stdout",
     "output_type": "stream",
     "text": [
      "520\n",
      "343\n"
     ]
    }
   ],
   "source": [
    "print(len(data))\n",
    "data.dropna(subset=[\"id\", \"name\", \"address\", \"height\", \"birthdate\", \"eyes\"], inplace=True)\n",
    "print(len(data))"
   ]
  },
  {
   "cell_type": "markdown",
   "id": "32d9e9a3",
   "metadata": {},
   "source": [
    "Convert the `id` column to type `int` and the `birthdate` column to type `datetime`. Display the first 5 rows of `data`."
   ]
  },
  {
   "cell_type": "code",
   "execution_count": 12,
   "id": "f26760dd",
   "metadata": {},
   "outputs": [],
   "source": [
    "data[\"id\"] = data[\"id\"].astype(int)\n",
    "data[\"birthdate\"] = pd.to_datetime(data[\"birthdate\"])\n",
    "data[\"birthdate\"] = data[\"birthdate\"].dt.strftime('%d/%m/%Y')"
   ]
  },
  {
   "cell_type": "code",
   "execution_count": 13,
   "id": "3c0b17af",
   "metadata": {},
   "outputs": [
    {
     "data": {
      "application/vnd.microsoft.datawrangler.viewer.v0+json": {
       "columns": [
        {
         "name": "index",
         "rawType": "int64",
         "type": "integer"
        },
        {
         "name": "id",
         "rawType": "int64",
         "type": "integer"
        },
        {
         "name": "name",
         "rawType": "object",
         "type": "string"
        },
        {
         "name": "address",
         "rawType": "object",
         "type": "string"
        },
        {
         "name": "height",
         "rawType": "float64",
         "type": "float"
        },
        {
         "name": "birthdate",
         "rawType": "object",
         "type": "string"
        },
        {
         "name": "eyes",
         "rawType": "object",
         "type": "string"
        }
       ],
       "conversionMethod": "pd.DataFrame",
       "ref": "d353941f-dc72-4a04-8fbf-3ae67647af7c",
       "rows": [
        [
         "1",
         "168840",
         "Kenneth Waters",
         "510 Sean Mall Apt. 205\nFarmershire, UT 20150",
         "81.0",
         "23/10/1966",
         "brown"
        ],
        [
         "2",
         "224772",
         "Nicole Brown",
         "56984 Edward Parkway\nSchmidtmouth, MA 41988",
         "143.0",
         "17/09/1962",
         "amber"
        ],
        [
         "4",
         "749255",
         "Debbie Murray",
         "59986 Christopher Squares Suite 667\nChristopherland, TX 03558",
         "88.0",
         "05/12/1952",
         "amber"
        ],
        [
         "6",
         "555484",
         "Michael Rodriguez",
         "7156 Jackson Turnpike\nGrayburgh, CA 61906",
         "227.0",
         "23/07/1957",
         "brown"
        ],
        [
         "7",
         "250463",
         "Michael Bishop",
         "585 Newman Ville Suite 183\nPort Jillton, NJ 21607",
         "226.0",
         "22/11/1972",
         "blue"
        ]
       ],
       "shape": {
        "columns": 6,
        "rows": 5
       }
      },
      "text/html": [
       "<div>\n",
       "<style scoped>\n",
       "    .dataframe tbody tr th:only-of-type {\n",
       "        vertical-align: middle;\n",
       "    }\n",
       "\n",
       "    .dataframe tbody tr th {\n",
       "        vertical-align: top;\n",
       "    }\n",
       "\n",
       "    .dataframe thead th {\n",
       "        text-align: right;\n",
       "    }\n",
       "</style>\n",
       "<table border=\"1\" class=\"dataframe\">\n",
       "  <thead>\n",
       "    <tr style=\"text-align: right;\">\n",
       "      <th></th>\n",
       "      <th>id</th>\n",
       "      <th>name</th>\n",
       "      <th>address</th>\n",
       "      <th>height</th>\n",
       "      <th>birthdate</th>\n",
       "      <th>eyes</th>\n",
       "    </tr>\n",
       "  </thead>\n",
       "  <tbody>\n",
       "    <tr>\n",
       "      <th>1</th>\n",
       "      <td>168840</td>\n",
       "      <td>Kenneth Waters</td>\n",
       "      <td>510 Sean Mall Apt. 205\\nFarmershire, UT 20150</td>\n",
       "      <td>81.0</td>\n",
       "      <td>23/10/1966</td>\n",
       "      <td>brown</td>\n",
       "    </tr>\n",
       "    <tr>\n",
       "      <th>2</th>\n",
       "      <td>224772</td>\n",
       "      <td>Nicole Brown</td>\n",
       "      <td>56984 Edward Parkway\\nSchmidtmouth, MA 41988</td>\n",
       "      <td>143.0</td>\n",
       "      <td>17/09/1962</td>\n",
       "      <td>amber</td>\n",
       "    </tr>\n",
       "    <tr>\n",
       "      <th>4</th>\n",
       "      <td>749255</td>\n",
       "      <td>Debbie Murray</td>\n",
       "      <td>59986 Christopher Squares Suite 667\\nChristoph...</td>\n",
       "      <td>88.0</td>\n",
       "      <td>05/12/1952</td>\n",
       "      <td>amber</td>\n",
       "    </tr>\n",
       "    <tr>\n",
       "      <th>6</th>\n",
       "      <td>555484</td>\n",
       "      <td>Michael Rodriguez</td>\n",
       "      <td>7156 Jackson Turnpike\\nGrayburgh, CA 61906</td>\n",
       "      <td>227.0</td>\n",
       "      <td>23/07/1957</td>\n",
       "      <td>brown</td>\n",
       "    </tr>\n",
       "    <tr>\n",
       "      <th>7</th>\n",
       "      <td>250463</td>\n",
       "      <td>Michael Bishop</td>\n",
       "      <td>585 Newman Ville Suite 183\\nPort Jillton, NJ 2...</td>\n",
       "      <td>226.0</td>\n",
       "      <td>22/11/1972</td>\n",
       "      <td>blue</td>\n",
       "    </tr>\n",
       "  </tbody>\n",
       "</table>\n",
       "</div>"
      ],
      "text/plain": [
       "       id               name  \\\n",
       "1  168840     Kenneth Waters   \n",
       "2  224772       Nicole Brown   \n",
       "4  749255      Debbie Murray   \n",
       "6  555484  Michael Rodriguez   \n",
       "7  250463     Michael Bishop   \n",
       "\n",
       "                                             address  height   birthdate  \\\n",
       "1      510 Sean Mall Apt. 205\\nFarmershire, UT 20150    81.0  23/10/1966   \n",
       "2       56984 Edward Parkway\\nSchmidtmouth, MA 41988   143.0  17/09/1962   \n",
       "4  59986 Christopher Squares Suite 667\\nChristoph...    88.0  05/12/1952   \n",
       "6         7156 Jackson Turnpike\\nGrayburgh, CA 61906   227.0  23/07/1957   \n",
       "7  585 Newman Ville Suite 183\\nPort Jillton, NJ 2...   226.0  22/11/1972   \n",
       "\n",
       "    eyes  \n",
       "1  brown  \n",
       "2  amber  \n",
       "4  amber  \n",
       "6  brown  \n",
       "7   blue  "
      ]
     },
     "execution_count": 13,
     "metadata": {},
     "output_type": "execute_result"
    }
   ],
   "source": [
    "data.head(5)"
   ]
  }
 ],
 "metadata": {
  "kernelspec": {
   "display_name": "Python 3",
   "language": "python",
   "name": "python3"
  },
  "language_info": {
   "codemirror_mode": {
    "name": "ipython",
    "version": 3
   },
   "file_extension": ".py",
   "mimetype": "text/x-python",
   "name": "python",
   "nbconvert_exporter": "python",
   "pygments_lexer": "ipython3",
   "version": "3.12.5"
  }
 },
 "nbformat": 4,
 "nbformat_minor": 5
}
