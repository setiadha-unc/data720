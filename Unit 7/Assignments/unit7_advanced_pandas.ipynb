{
 "cells": [
  {
   "cell_type": "markdown",
   "id": "02e9ecf6-c1e7-4f44-a9b1-b2be244e5ee3",
   "metadata": {},
   "source": [
    "# Graded: 4 of 4 correct\n",
    "- [x] Set index to `abbrev`\n",
    "- [x] Get correlations\n",
    "- [x] Display correlation heatmap\n",
    "- [x] Sample 5 rows at random\n",
    "\n",
    "Comments: "
   ]
  },
  {
   "cell_type": "code",
   "execution_count": null,
   "id": "151ce674",
   "metadata": {},
   "outputs": [],
   "source": [
    "import pandas as pd\n",
    "import seaborn as sns"
   ]
  },
  {
   "cell_type": "markdown",
   "id": "c465c3b3",
   "metadata": {},
   "source": [
    "The next cell loads the `car_crashes` dataset from Seaborn"
   ]
  },
  {
   "cell_type": "code",
   "execution_count": null,
   "id": "d5d678eb",
   "metadata": {},
   "outputs": [],
   "source": [
    "data = sns.load_dataset('car_crashes')\n",
    "data.head()"
   ]
  },
  {
   "cell_type": "markdown",
   "id": "4c149d48",
   "metadata": {},
   "source": [
    "Set the index of `data` to the state abbreviation"
   ]
  },
  {
   "cell_type": "code",
   "execution_count": null,
   "id": "cc91272c",
   "metadata": {},
   "outputs": [],
   "source": []
  },
  {
   "cell_type": "markdown",
   "id": "983fb655",
   "metadata": {},
   "source": [
    "Display a heatmap of the correlations between column variables in `data`"
   ]
  },
  {
   "cell_type": "code",
   "execution_count": null,
   "id": "9882d5c5",
   "metadata": {},
   "outputs": [],
   "source": []
  },
  {
   "cell_type": "markdown",
   "id": "8487ff07",
   "metadata": {},
   "source": [
    "Display a random sample of 5 rows from `data`"
   ]
  },
  {
   "cell_type": "code",
   "execution_count": null,
   "id": "3c620fea",
   "metadata": {},
   "outputs": [],
   "source": []
  }
 ],
 "metadata": {
  "kernelspec": {
   "display_name": "Python 3 (ipykernel)",
   "language": "python",
   "name": "python3"
  },
  "language_info": {
   "codemirror_mode": {
    "name": "ipython",
    "version": 3
   },
   "file_extension": ".py",
   "mimetype": "text/x-python",
   "name": "python",
   "nbconvert_exporter": "python",
   "pygments_lexer": "ipython3",
   "version": "3.11.5"
  }
 },
 "nbformat": 4,
 "nbformat_minor": 5
}
