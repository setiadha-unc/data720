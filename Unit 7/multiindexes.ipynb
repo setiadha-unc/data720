{
 "cells": [
  {
   "cell_type": "code",
   "execution_count": 1,
   "id": "0550f187",
   "metadata": {},
   "outputs": [
    {
     "data": {
      "text/html": [
       "<div>\n",
       "<style scoped>\n",
       "    .dataframe tbody tr th:only-of-type {\n",
       "        vertical-align: middle;\n",
       "    }\n",
       "\n",
       "    .dataframe tbody tr th {\n",
       "        vertical-align: top;\n",
       "    }\n",
       "\n",
       "    .dataframe thead th {\n",
       "        text-align: right;\n",
       "    }\n",
       "</style>\n",
       "<table border=\"1\" class=\"dataframe\">\n",
       "  <thead>\n",
       "    <tr style=\"text-align: right;\">\n",
       "      <th></th>\n",
       "      <th>Vehicle</th>\n",
       "      <th>Make</th>\n",
       "      <th>MPG</th>\n",
       "    </tr>\n",
       "  </thead>\n",
       "  <tbody>\n",
       "    <tr>\n",
       "      <th>0</th>\n",
       "      <td>Sedan</td>\n",
       "      <td>Toyota</td>\n",
       "      <td>33</td>\n",
       "    </tr>\n",
       "    <tr>\n",
       "      <th>1</th>\n",
       "      <td>Sedan</td>\n",
       "      <td>Ford</td>\n",
       "      <td>32</td>\n",
       "    </tr>\n",
       "    <tr>\n",
       "      <th>2</th>\n",
       "      <td>Sedan</td>\n",
       "      <td>Honda</td>\n",
       "      <td>36</td>\n",
       "    </tr>\n",
       "    <tr>\n",
       "      <th>3</th>\n",
       "      <td>SUV</td>\n",
       "      <td>Honda</td>\n",
       "      <td>27</td>\n",
       "    </tr>\n",
       "    <tr>\n",
       "      <th>4</th>\n",
       "      <td>SUV</td>\n",
       "      <td>Acura</td>\n",
       "      <td>24</td>\n",
       "    </tr>\n",
       "    <tr>\n",
       "      <th>5</th>\n",
       "      <td>SUV</td>\n",
       "      <td>Toyota</td>\n",
       "      <td>26</td>\n",
       "    </tr>\n",
       "    <tr>\n",
       "      <th>6</th>\n",
       "      <td>Truck</td>\n",
       "      <td>Toyota</td>\n",
       "      <td>22</td>\n",
       "    </tr>\n",
       "    <tr>\n",
       "      <th>7</th>\n",
       "      <td>Truck</td>\n",
       "      <td>Ford</td>\n",
       "      <td>21</td>\n",
       "    </tr>\n",
       "  </tbody>\n",
       "</table>\n",
       "</div>"
      ],
      "text/plain": [
       "  Vehicle    Make  MPG\n",
       "0   Sedan  Toyota   33\n",
       "1   Sedan    Ford   32\n",
       "2   Sedan   Honda   36\n",
       "3     SUV   Honda   27\n",
       "4     SUV   Acura   24\n",
       "5     SUV  Toyota   26\n",
       "6   Truck  Toyota   22\n",
       "7   Truck    Ford   21"
      ]
     },
     "execution_count": 1,
     "metadata": {},
     "output_type": "execute_result"
    }
   ],
   "source": [
    "import pandas as pd\n",
    "\n",
    "# Creating a sample DataFrame with a MultiIndex\n",
    "data = {\n",
    "    'Vehicle': ['Sedan', 'Sedan', 'Sedan', 'SUV', 'SUV', 'SUV', 'Truck', 'Truck'],\n",
    "    'Make': ['Toyota', 'Ford', 'Honda', 'Honda', 'Acura', 'Toyota', 'Toyota', 'Ford'],\n",
    "    'MPG': [33, 32, 36, 27, 24, 26, 22, 21],\n",
    "}\n",
    "\n",
    "df = pd.DataFrame(data)\n",
    "df"
   ]
  },
  {
   "cell_type": "code",
   "execution_count": 2,
   "id": "e55a95ba",
   "metadata": {},
   "outputs": [
    {
     "data": {
      "application/vnd.microsoft.datawrangler.viewer.v0+json": {
       "columns": [
        {
         "name": "('Vehicle', 'Make')",
         "rawType": "object",
         "type": "unknown"
        },
        {
         "name": "MPG",
         "rawType": "int64",
         "type": "integer"
        }
       ],
       "conversionMethod": "pd.DataFrame",
       "ref": "3f2113a2-00eb-41a5-8264-179811100e58",
       "rows": [
        [
         "('Sedan', 'Toyota')",
         "33"
        ],
        [
         "('Sedan', 'Ford')",
         "32"
        ],
        [
         "('Sedan', 'Honda')",
         "36"
        ],
        [
         "('SUV', 'Honda')",
         "27"
        ],
        [
         "('SUV', 'Acura')",
         "24"
        ],
        [
         "('SUV', 'Toyota')",
         "26"
        ],
        [
         "('Truck', 'Toyota')",
         "22"
        ],
        [
         "('Truck', 'Ford')",
         "21"
        ]
       ],
       "shape": {
        "columns": 1,
        "rows": 8
       }
      },
      "text/html": [
       "<div>\n",
       "<style scoped>\n",
       "    .dataframe tbody tr th:only-of-type {\n",
       "        vertical-align: middle;\n",
       "    }\n",
       "\n",
       "    .dataframe tbody tr th {\n",
       "        vertical-align: top;\n",
       "    }\n",
       "\n",
       "    .dataframe thead th {\n",
       "        text-align: right;\n",
       "    }\n",
       "</style>\n",
       "<table border=\"1\" class=\"dataframe\">\n",
       "  <thead>\n",
       "    <tr style=\"text-align: right;\">\n",
       "      <th></th>\n",
       "      <th></th>\n",
       "      <th>MPG</th>\n",
       "    </tr>\n",
       "    <tr>\n",
       "      <th>Vehicle</th>\n",
       "      <th>Make</th>\n",
       "      <th></th>\n",
       "    </tr>\n",
       "  </thead>\n",
       "  <tbody>\n",
       "    <tr>\n",
       "      <th rowspan=\"3\" valign=\"top\">Sedan</th>\n",
       "      <th>Toyota</th>\n",
       "      <td>33</td>\n",
       "    </tr>\n",
       "    <tr>\n",
       "      <th>Ford</th>\n",
       "      <td>32</td>\n",
       "    </tr>\n",
       "    <tr>\n",
       "      <th>Honda</th>\n",
       "      <td>36</td>\n",
       "    </tr>\n",
       "    <tr>\n",
       "      <th rowspan=\"3\" valign=\"top\">SUV</th>\n",
       "      <th>Honda</th>\n",
       "      <td>27</td>\n",
       "    </tr>\n",
       "    <tr>\n",
       "      <th>Acura</th>\n",
       "      <td>24</td>\n",
       "    </tr>\n",
       "    <tr>\n",
       "      <th>Toyota</th>\n",
       "      <td>26</td>\n",
       "    </tr>\n",
       "    <tr>\n",
       "      <th rowspan=\"2\" valign=\"top\">Truck</th>\n",
       "      <th>Toyota</th>\n",
       "      <td>22</td>\n",
       "    </tr>\n",
       "    <tr>\n",
       "      <th>Ford</th>\n",
       "      <td>21</td>\n",
       "    </tr>\n",
       "  </tbody>\n",
       "</table>\n",
       "</div>"
      ],
      "text/plain": [
       "                MPG\n",
       "Vehicle Make       \n",
       "Sedan   Toyota   33\n",
       "        Ford     32\n",
       "        Honda    36\n",
       "SUV     Honda    27\n",
       "        Acura    24\n",
       "        Toyota   26\n",
       "Truck   Toyota   22\n",
       "        Ford     21"
      ]
     },
     "execution_count": 2,
     "metadata": {},
     "output_type": "execute_result"
    }
   ],
   "source": [
    "# Creating a MultiIndex using set_index\n",
    "multi_df = df.set_index(['Vehicle', 'Make'])\n",
    "multi_df"
   ]
  },
  {
   "cell_type": "code",
   "execution_count": 3,
   "id": "5f96fd04",
   "metadata": {},
   "outputs": [
    {
     "data": {
      "application/vnd.microsoft.datawrangler.viewer.v0+json": {
       "columns": [
        {
         "name": "Make",
         "rawType": "object",
         "type": "string"
        },
        {
         "name": "MPG",
         "rawType": "int64",
         "type": "integer"
        }
       ],
       "conversionMethod": "pd.DataFrame",
       "ref": "12acbac4-4018-4075-a927-f8e52c9b6d4c",
       "rows": [
        [
         "Toyota",
         "33"
        ],
        [
         "Ford",
         "32"
        ],
        [
         "Honda",
         "36"
        ]
       ],
       "shape": {
        "columns": 1,
        "rows": 3
       }
      },
      "text/html": [
       "<div>\n",
       "<style scoped>\n",
       "    .dataframe tbody tr th:only-of-type {\n",
       "        vertical-align: middle;\n",
       "    }\n",
       "\n",
       "    .dataframe tbody tr th {\n",
       "        vertical-align: top;\n",
       "    }\n",
       "\n",
       "    .dataframe thead th {\n",
       "        text-align: right;\n",
       "    }\n",
       "</style>\n",
       "<table border=\"1\" class=\"dataframe\">\n",
       "  <thead>\n",
       "    <tr style=\"text-align: right;\">\n",
       "      <th></th>\n",
       "      <th>MPG</th>\n",
       "    </tr>\n",
       "    <tr>\n",
       "      <th>Make</th>\n",
       "      <th></th>\n",
       "    </tr>\n",
       "  </thead>\n",
       "  <tbody>\n",
       "    <tr>\n",
       "      <th>Toyota</th>\n",
       "      <td>33</td>\n",
       "    </tr>\n",
       "    <tr>\n",
       "      <th>Ford</th>\n",
       "      <td>32</td>\n",
       "    </tr>\n",
       "    <tr>\n",
       "      <th>Honda</th>\n",
       "      <td>36</td>\n",
       "    </tr>\n",
       "  </tbody>\n",
       "</table>\n",
       "</div>"
      ],
      "text/plain": [
       "        MPG\n",
       "Make       \n",
       "Toyota   33\n",
       "Ford     32\n",
       "Honda    36"
      ]
     },
     "execution_count": 3,
     "metadata": {},
     "output_type": "execute_result"
    }
   ],
   "source": [
    "# Accessing data with a MultiIndex\n",
    "multi_df.loc['Sedan']  "
   ]
  },
  {
   "cell_type": "code",
   "execution_count": 4,
   "id": "54be7eeb",
   "metadata": {},
   "outputs": [
    {
     "data": {
      "application/vnd.microsoft.datawrangler.viewer.v0+json": {
       "columns": [
        {
         "name": "Vehicle",
         "rawType": "object",
         "type": "string"
        },
        {
         "name": "MPG",
         "rawType": "int64",
         "type": "integer"
        }
       ],
       "conversionMethod": "pd.DataFrame",
       "ref": "55cdfbf3-88ce-4a21-8e73-4b8e638cb178",
       "rows": [
        [
         "Sedan",
         "32"
        ],
        [
         "Truck",
         "21"
        ]
       ],
       "shape": {
        "columns": 1,
        "rows": 2
       }
      },
      "text/html": [
       "<div>\n",
       "<style scoped>\n",
       "    .dataframe tbody tr th:only-of-type {\n",
       "        vertical-align: middle;\n",
       "    }\n",
       "\n",
       "    .dataframe tbody tr th {\n",
       "        vertical-align: top;\n",
       "    }\n",
       "\n",
       "    .dataframe thead th {\n",
       "        text-align: right;\n",
       "    }\n",
       "</style>\n",
       "<table border=\"1\" class=\"dataframe\">\n",
       "  <thead>\n",
       "    <tr style=\"text-align: right;\">\n",
       "      <th></th>\n",
       "      <th>MPG</th>\n",
       "    </tr>\n",
       "    <tr>\n",
       "      <th>Vehicle</th>\n",
       "      <th></th>\n",
       "    </tr>\n",
       "  </thead>\n",
       "  <tbody>\n",
       "    <tr>\n",
       "      <th>Sedan</th>\n",
       "      <td>32</td>\n",
       "    </tr>\n",
       "    <tr>\n",
       "      <th>Truck</th>\n",
       "      <td>21</td>\n",
       "    </tr>\n",
       "  </tbody>\n",
       "</table>\n",
       "</div>"
      ],
      "text/plain": [
       "         MPG\n",
       "Vehicle     \n",
       "Sedan     32\n",
       "Truck     21"
      ]
     },
     "execution_count": 4,
     "metadata": {},
     "output_type": "execute_result"
    }
   ],
   "source": [
    "# Accessing data with a MultiIndex\n",
    "multi_df.xs('Ford', level='Make')  "
   ]
  },
  {
   "cell_type": "code",
   "execution_count": 5,
   "id": "52371329",
   "metadata": {},
   "outputs": [
    {
     "data": {
      "text/plain": [
       "MPG    24\n",
       "Name: (SUV, Acura), dtype: int64"
      ]
     },
     "execution_count": 5,
     "metadata": {},
     "output_type": "execute_result"
    }
   ],
   "source": [
    "multi_df.loc['SUV', 'Acura'] "
   ]
  },
  {
   "cell_type": "code",
   "execution_count": 6,
   "id": "03c64786",
   "metadata": {},
   "outputs": [
    {
     "data": {
      "application/vnd.microsoft.datawrangler.viewer.v0+json": {
       "columns": [
        {
         "name": "('Vehicle', 'Make')",
         "rawType": "object",
         "type": "unknown"
        },
        {
         "name": "MPG",
         "rawType": "int64",
         "type": "integer"
        }
       ],
       "conversionMethod": "pd.DataFrame",
       "ref": "4fa7c8b8-6e8e-4828-9fbb-3d2a9617bdd5",
       "rows": [
        [
         "('SUV', 'Acura')",
         "24"
        ],
        [
         "('SUV', 'Honda')",
         "27"
        ],
        [
         "('SUV', 'Toyota')",
         "26"
        ],
        [
         "('Sedan', 'Ford')",
         "32"
        ],
        [
         "('Sedan', 'Honda')",
         "36"
        ],
        [
         "('Sedan', 'Toyota')",
         "33"
        ],
        [
         "('Truck', 'Ford')",
         "21"
        ],
        [
         "('Truck', 'Toyota')",
         "22"
        ]
       ],
       "shape": {
        "columns": 1,
        "rows": 8
       }
      },
      "text/html": [
       "<div>\n",
       "<style scoped>\n",
       "    .dataframe tbody tr th:only-of-type {\n",
       "        vertical-align: middle;\n",
       "    }\n",
       "\n",
       "    .dataframe tbody tr th {\n",
       "        vertical-align: top;\n",
       "    }\n",
       "\n",
       "    .dataframe thead th {\n",
       "        text-align: right;\n",
       "    }\n",
       "</style>\n",
       "<table border=\"1\" class=\"dataframe\">\n",
       "  <thead>\n",
       "    <tr style=\"text-align: right;\">\n",
       "      <th></th>\n",
       "      <th></th>\n",
       "      <th>MPG</th>\n",
       "    </tr>\n",
       "    <tr>\n",
       "      <th>Vehicle</th>\n",
       "      <th>Make</th>\n",
       "      <th></th>\n",
       "    </tr>\n",
       "  </thead>\n",
       "  <tbody>\n",
       "    <tr>\n",
       "      <th rowspan=\"3\" valign=\"top\">SUV</th>\n",
       "      <th>Acura</th>\n",
       "      <td>24</td>\n",
       "    </tr>\n",
       "    <tr>\n",
       "      <th>Honda</th>\n",
       "      <td>27</td>\n",
       "    </tr>\n",
       "    <tr>\n",
       "      <th>Toyota</th>\n",
       "      <td>26</td>\n",
       "    </tr>\n",
       "    <tr>\n",
       "      <th rowspan=\"3\" valign=\"top\">Sedan</th>\n",
       "      <th>Ford</th>\n",
       "      <td>32</td>\n",
       "    </tr>\n",
       "    <tr>\n",
       "      <th>Honda</th>\n",
       "      <td>36</td>\n",
       "    </tr>\n",
       "    <tr>\n",
       "      <th>Toyota</th>\n",
       "      <td>33</td>\n",
       "    </tr>\n",
       "    <tr>\n",
       "      <th rowspan=\"2\" valign=\"top\">Truck</th>\n",
       "      <th>Ford</th>\n",
       "      <td>21</td>\n",
       "    </tr>\n",
       "    <tr>\n",
       "      <th>Toyota</th>\n",
       "      <td>22</td>\n",
       "    </tr>\n",
       "  </tbody>\n",
       "</table>\n",
       "</div>"
      ],
      "text/plain": [
       "                MPG\n",
       "Vehicle Make       \n",
       "SUV     Acura    24\n",
       "        Honda    27\n",
       "        Toyota   26\n",
       "Sedan   Ford     32\n",
       "        Honda    36\n",
       "        Toyota   33\n",
       "Truck   Ford     21\n",
       "        Toyota   22"
      ]
     },
     "execution_count": 6,
     "metadata": {},
     "output_type": "execute_result"
    }
   ],
   "source": [
    "# Sorting the MultiIndex\n",
    "multi_df.sort_index(inplace=True)\n",
    "multi_df"
   ]
  },
  {
   "cell_type": "code",
   "execution_count": 7,
   "id": "f0ad9308",
   "metadata": {},
   "outputs": [
    {
     "data": {
      "application/vnd.microsoft.datawrangler.viewer.v0+json": {
       "columns": [
        {
         "name": "Vehicle",
         "rawType": "object",
         "type": "string"
        },
        {
         "name": "('MPG', 'Acura')",
         "rawType": "float64",
         "type": "float"
        },
        {
         "name": "('MPG', 'Ford')",
         "rawType": "float64",
         "type": "float"
        },
        {
         "name": "('MPG', 'Honda')",
         "rawType": "float64",
         "type": "float"
        },
        {
         "name": "('MPG', 'Toyota')",
         "rawType": "float64",
         "type": "float"
        }
       ],
       "conversionMethod": "pd.DataFrame",
       "ref": "d761e8ff-5bc7-415b-89f2-940b203d8949",
       "rows": [
        [
         "SUV",
         "24.0",
         null,
         "27.0",
         "26.0"
        ],
        [
         "Sedan",
         null,
         "32.0",
         "36.0",
         "33.0"
        ],
        [
         "Truck",
         null,
         "21.0",
         null,
         "22.0"
        ]
       ],
       "shape": {
        "columns": 4,
        "rows": 3
       }
      },
      "text/html": [
       "<div>\n",
       "<style scoped>\n",
       "    .dataframe tbody tr th:only-of-type {\n",
       "        vertical-align: middle;\n",
       "    }\n",
       "\n",
       "    .dataframe tbody tr th {\n",
       "        vertical-align: top;\n",
       "    }\n",
       "\n",
       "    .dataframe thead tr th {\n",
       "        text-align: left;\n",
       "    }\n",
       "\n",
       "    .dataframe thead tr:last-of-type th {\n",
       "        text-align: right;\n",
       "    }\n",
       "</style>\n",
       "<table border=\"1\" class=\"dataframe\">\n",
       "  <thead>\n",
       "    <tr>\n",
       "      <th></th>\n",
       "      <th colspan=\"4\" halign=\"left\">MPG</th>\n",
       "    </tr>\n",
       "    <tr>\n",
       "      <th>Make</th>\n",
       "      <th>Acura</th>\n",
       "      <th>Ford</th>\n",
       "      <th>Honda</th>\n",
       "      <th>Toyota</th>\n",
       "    </tr>\n",
       "    <tr>\n",
       "      <th>Vehicle</th>\n",
       "      <th></th>\n",
       "      <th></th>\n",
       "      <th></th>\n",
       "      <th></th>\n",
       "    </tr>\n",
       "  </thead>\n",
       "  <tbody>\n",
       "    <tr>\n",
       "      <th>SUV</th>\n",
       "      <td>24.0</td>\n",
       "      <td>NaN</td>\n",
       "      <td>27.0</td>\n",
       "      <td>26.0</td>\n",
       "    </tr>\n",
       "    <tr>\n",
       "      <th>Sedan</th>\n",
       "      <td>NaN</td>\n",
       "      <td>32.0</td>\n",
       "      <td>36.0</td>\n",
       "      <td>33.0</td>\n",
       "    </tr>\n",
       "    <tr>\n",
       "      <th>Truck</th>\n",
       "      <td>NaN</td>\n",
       "      <td>21.0</td>\n",
       "      <td>NaN</td>\n",
       "      <td>22.0</td>\n",
       "    </tr>\n",
       "  </tbody>\n",
       "</table>\n",
       "</div>"
      ],
      "text/plain": [
       "          MPG                   \n",
       "Make    Acura  Ford Honda Toyota\n",
       "Vehicle                         \n",
       "SUV      24.0   NaN  27.0   26.0\n",
       "Sedan     NaN  32.0  36.0   33.0\n",
       "Truck     NaN  21.0   NaN   22.0"
      ]
     },
     "execution_count": 7,
     "metadata": {},
     "output_type": "execute_result"
    }
   ],
   "source": [
    "# Stacking and Unstacking\n",
    "unstacked_df = multi_df.unstack('Make')\n",
    "unstacked_df"
   ]
  },
  {
   "cell_type": "code",
   "execution_count": 8,
   "id": "b115c1c9",
   "metadata": {},
   "outputs": [
    {
     "data": {
      "application/vnd.microsoft.datawrangler.viewer.v0+json": {
       "columns": [
        {
         "name": "('Vehicle', 'Make')",
         "rawType": "object",
         "type": "unknown"
        },
        {
         "name": "MPG",
         "rawType": "float64",
         "type": "float"
        }
       ],
       "conversionMethod": "pd.DataFrame",
       "ref": "5a1c26a3-b5f3-463d-8113-c3fcfb8d6c5a",
       "rows": [
        [
         "('SUV', 'Acura')",
         "24.0"
        ],
        [
         "('SUV', 'Ford')",
         null
        ],
        [
         "('SUV', 'Honda')",
         "27.0"
        ],
        [
         "('SUV', 'Toyota')",
         "26.0"
        ],
        [
         "('Sedan', 'Acura')",
         null
        ],
        [
         "('Sedan', 'Ford')",
         "32.0"
        ],
        [
         "('Sedan', 'Honda')",
         "36.0"
        ],
        [
         "('Sedan', 'Toyota')",
         "33.0"
        ],
        [
         "('Truck', 'Acura')",
         null
        ],
        [
         "('Truck', 'Ford')",
         "21.0"
        ],
        [
         "('Truck', 'Honda')",
         null
        ],
        [
         "('Truck', 'Toyota')",
         "22.0"
        ]
       ],
       "shape": {
        "columns": 1,
        "rows": 12
       }
      },
      "text/html": [
       "<div>\n",
       "<style scoped>\n",
       "    .dataframe tbody tr th:only-of-type {\n",
       "        vertical-align: middle;\n",
       "    }\n",
       "\n",
       "    .dataframe tbody tr th {\n",
       "        vertical-align: top;\n",
       "    }\n",
       "\n",
       "    .dataframe thead th {\n",
       "        text-align: right;\n",
       "    }\n",
       "</style>\n",
       "<table border=\"1\" class=\"dataframe\">\n",
       "  <thead>\n",
       "    <tr style=\"text-align: right;\">\n",
       "      <th></th>\n",
       "      <th></th>\n",
       "      <th>MPG</th>\n",
       "    </tr>\n",
       "    <tr>\n",
       "      <th>Vehicle</th>\n",
       "      <th>Make</th>\n",
       "      <th></th>\n",
       "    </tr>\n",
       "  </thead>\n",
       "  <tbody>\n",
       "    <tr>\n",
       "      <th rowspan=\"4\" valign=\"top\">SUV</th>\n",
       "      <th>Acura</th>\n",
       "      <td>24.0</td>\n",
       "    </tr>\n",
       "    <tr>\n",
       "      <th>Ford</th>\n",
       "      <td>NaN</td>\n",
       "    </tr>\n",
       "    <tr>\n",
       "      <th>Honda</th>\n",
       "      <td>27.0</td>\n",
       "    </tr>\n",
       "    <tr>\n",
       "      <th>Toyota</th>\n",
       "      <td>26.0</td>\n",
       "    </tr>\n",
       "    <tr>\n",
       "      <th rowspan=\"4\" valign=\"top\">Sedan</th>\n",
       "      <th>Acura</th>\n",
       "      <td>NaN</td>\n",
       "    </tr>\n",
       "    <tr>\n",
       "      <th>Ford</th>\n",
       "      <td>32.0</td>\n",
       "    </tr>\n",
       "    <tr>\n",
       "      <th>Honda</th>\n",
       "      <td>36.0</td>\n",
       "    </tr>\n",
       "    <tr>\n",
       "      <th>Toyota</th>\n",
       "      <td>33.0</td>\n",
       "    </tr>\n",
       "    <tr>\n",
       "      <th rowspan=\"4\" valign=\"top\">Truck</th>\n",
       "      <th>Acura</th>\n",
       "      <td>NaN</td>\n",
       "    </tr>\n",
       "    <tr>\n",
       "      <th>Ford</th>\n",
       "      <td>21.0</td>\n",
       "    </tr>\n",
       "    <tr>\n",
       "      <th>Honda</th>\n",
       "      <td>NaN</td>\n",
       "    </tr>\n",
       "    <tr>\n",
       "      <th>Toyota</th>\n",
       "      <td>22.0</td>\n",
       "    </tr>\n",
       "  </tbody>\n",
       "</table>\n",
       "</div>"
      ],
      "text/plain": [
       "                 MPG\n",
       "Vehicle Make        \n",
       "SUV     Acura   24.0\n",
       "        Ford     NaN\n",
       "        Honda   27.0\n",
       "        Toyota  26.0\n",
       "Sedan   Acura    NaN\n",
       "        Ford    32.0\n",
       "        Honda   36.0\n",
       "        Toyota  33.0\n",
       "Truck   Acura    NaN\n",
       "        Ford    21.0\n",
       "        Honda    NaN\n",
       "        Toyota  22.0"
      ]
     },
     "execution_count": 8,
     "metadata": {},
     "output_type": "execute_result"
    }
   ],
   "source": [
    "stacked_df = unstacked_df.stack('Make', future_stack=True)\n",
    "stacked_df"
   ]
  },
  {
   "cell_type": "code",
   "execution_count": 9,
   "id": "3ceca37f",
   "metadata": {},
   "outputs": [],
   "source": [
    "newunstacked_df = multi_df.unstack(\"Vehicle\")"
   ]
  },
  {
   "cell_type": "code",
   "execution_count": 11,
   "id": "f1fb3a94",
   "metadata": {},
   "outputs": [
    {
     "data": {
      "application/vnd.microsoft.datawrangler.viewer.v0+json": {
       "columns": [
        {
         "name": "Make",
         "rawType": "object",
         "type": "string"
        },
        {
         "name": "('MPG', 'SUV')",
         "rawType": "float64",
         "type": "float"
        },
        {
         "name": "('MPG', 'Sedan')",
         "rawType": "float64",
         "type": "float"
        },
        {
         "name": "('MPG', 'Truck')",
         "rawType": "float64",
         "type": "float"
        }
       ],
       "conversionMethod": "pd.DataFrame",
       "ref": "0040d3cb-5678-4a82-8acc-a00949102abf",
       "rows": [
        [
         "Acura",
         "24.0",
         null,
         null
        ],
        [
         "Ford",
         null,
         "32.0",
         "21.0"
        ],
        [
         "Honda",
         "27.0",
         "36.0",
         null
        ],
        [
         "Toyota",
         "26.0",
         "33.0",
         "22.0"
        ]
       ],
       "shape": {
        "columns": 3,
        "rows": 4
       }
      },
      "text/html": [
       "<div>\n",
       "<style scoped>\n",
       "    .dataframe tbody tr th:only-of-type {\n",
       "        vertical-align: middle;\n",
       "    }\n",
       "\n",
       "    .dataframe tbody tr th {\n",
       "        vertical-align: top;\n",
       "    }\n",
       "\n",
       "    .dataframe thead tr th {\n",
       "        text-align: left;\n",
       "    }\n",
       "\n",
       "    .dataframe thead tr:last-of-type th {\n",
       "        text-align: right;\n",
       "    }\n",
       "</style>\n",
       "<table border=\"1\" class=\"dataframe\">\n",
       "  <thead>\n",
       "    <tr>\n",
       "      <th></th>\n",
       "      <th colspan=\"3\" halign=\"left\">MPG</th>\n",
       "    </tr>\n",
       "    <tr>\n",
       "      <th>Vehicle</th>\n",
       "      <th>SUV</th>\n",
       "      <th>Sedan</th>\n",
       "      <th>Truck</th>\n",
       "    </tr>\n",
       "    <tr>\n",
       "      <th>Make</th>\n",
       "      <th></th>\n",
       "      <th></th>\n",
       "      <th></th>\n",
       "    </tr>\n",
       "  </thead>\n",
       "  <tbody>\n",
       "    <tr>\n",
       "      <th>Acura</th>\n",
       "      <td>24.0</td>\n",
       "      <td>NaN</td>\n",
       "      <td>NaN</td>\n",
       "    </tr>\n",
       "    <tr>\n",
       "      <th>Ford</th>\n",
       "      <td>NaN</td>\n",
       "      <td>32.0</td>\n",
       "      <td>21.0</td>\n",
       "    </tr>\n",
       "    <tr>\n",
       "      <th>Honda</th>\n",
       "      <td>27.0</td>\n",
       "      <td>36.0</td>\n",
       "      <td>NaN</td>\n",
       "    </tr>\n",
       "    <tr>\n",
       "      <th>Toyota</th>\n",
       "      <td>26.0</td>\n",
       "      <td>33.0</td>\n",
       "      <td>22.0</td>\n",
       "    </tr>\n",
       "  </tbody>\n",
       "</table>\n",
       "</div>"
      ],
      "text/plain": [
       "          MPG            \n",
       "Vehicle   SUV Sedan Truck\n",
       "Make                     \n",
       "Acura    24.0   NaN   NaN\n",
       "Ford      NaN  32.0  21.0\n",
       "Honda    27.0  36.0   NaN\n",
       "Toyota   26.0  33.0  22.0"
      ]
     },
     "execution_count": 11,
     "metadata": {},
     "output_type": "execute_result"
    }
   ],
   "source": [
    "newunstacked_df"
   ]
  },
  {
   "cell_type": "code",
   "execution_count": 12,
   "id": "c1590831",
   "metadata": {},
   "outputs": [
    {
     "data": {
      "text/plain": [
       "Make\n",
       "Acura     24.0\n",
       "Ford      26.5\n",
       "Honda     31.5\n",
       "Toyota    27.0\n",
       "Name: MPG, dtype: float64"
      ]
     },
     "execution_count": 12,
     "metadata": {},
     "output_type": "execute_result"
    }
   ],
   "source": [
    "# Aggregating data with MultiIndex\n",
    "multi_df.groupby('Make')['MPG'].mean()"
   ]
  },
  {
   "cell_type": "code",
   "execution_count": 13,
   "id": "53890c99",
   "metadata": {},
   "outputs": [
    {
     "data": {
      "text/plain": [
       "Make\n",
       "Acura     24.0\n",
       "Ford      26.5\n",
       "Honda     31.5\n",
       "Toyota    26.0\n",
       "Name: MPG, dtype: float64"
      ]
     },
     "execution_count": 13,
     "metadata": {},
     "output_type": "execute_result"
    }
   ],
   "source": [
    "multi_df.groupby('Make')['MPG'].median()"
   ]
  },
  {
   "cell_type": "code",
   "execution_count": 14,
   "id": "3643f3d3",
   "metadata": {},
   "outputs": [
    {
     "data": {
      "text/plain": [
       "Vehicle\n",
       "SUV      25.666667\n",
       "Sedan    33.666667\n",
       "Truck    21.500000\n",
       "Name: MPG, dtype: float64"
      ]
     },
     "execution_count": 14,
     "metadata": {},
     "output_type": "execute_result"
    }
   ],
   "source": [
    "multi_df.groupby('Vehicle')['MPG'].mean()"
   ]
  },
  {
   "cell_type": "code",
   "execution_count": 15,
   "id": "5b2459ad",
   "metadata": {},
   "outputs": [
    {
     "data": {
      "application/vnd.microsoft.datawrangler.viewer.v0+json": {
       "columns": [
        {
         "name": "index",
         "rawType": "int64",
         "type": "integer"
        },
        {
         "name": "Vehicle",
         "rawType": "object",
         "type": "string"
        },
        {
         "name": "Make",
         "rawType": "object",
         "type": "string"
        },
        {
         "name": "MPG",
         "rawType": "int64",
         "type": "integer"
        }
       ],
       "conversionMethod": "pd.DataFrame",
       "ref": "c8a003b1-57b7-45c6-ab7e-9442f52cbccd",
       "rows": [
        [
         "0",
         "SUV",
         "Acura",
         "24"
        ],
        [
         "1",
         "SUV",
         "Honda",
         "27"
        ],
        [
         "2",
         "SUV",
         "Toyota",
         "26"
        ],
        [
         "3",
         "Sedan",
         "Ford",
         "32"
        ],
        [
         "4",
         "Sedan",
         "Honda",
         "36"
        ],
        [
         "5",
         "Sedan",
         "Toyota",
         "33"
        ],
        [
         "6",
         "Truck",
         "Ford",
         "21"
        ],
        [
         "7",
         "Truck",
         "Toyota",
         "22"
        ]
       ],
       "shape": {
        "columns": 3,
        "rows": 8
       }
      },
      "text/html": [
       "<div>\n",
       "<style scoped>\n",
       "    .dataframe tbody tr th:only-of-type {\n",
       "        vertical-align: middle;\n",
       "    }\n",
       "\n",
       "    .dataframe tbody tr th {\n",
       "        vertical-align: top;\n",
       "    }\n",
       "\n",
       "    .dataframe thead th {\n",
       "        text-align: right;\n",
       "    }\n",
       "</style>\n",
       "<table border=\"1\" class=\"dataframe\">\n",
       "  <thead>\n",
       "    <tr style=\"text-align: right;\">\n",
       "      <th></th>\n",
       "      <th>Vehicle</th>\n",
       "      <th>Make</th>\n",
       "      <th>MPG</th>\n",
       "    </tr>\n",
       "  </thead>\n",
       "  <tbody>\n",
       "    <tr>\n",
       "      <th>0</th>\n",
       "      <td>SUV</td>\n",
       "      <td>Acura</td>\n",
       "      <td>24</td>\n",
       "    </tr>\n",
       "    <tr>\n",
       "      <th>1</th>\n",
       "      <td>SUV</td>\n",
       "      <td>Honda</td>\n",
       "      <td>27</td>\n",
       "    </tr>\n",
       "    <tr>\n",
       "      <th>2</th>\n",
       "      <td>SUV</td>\n",
       "      <td>Toyota</td>\n",
       "      <td>26</td>\n",
       "    </tr>\n",
       "    <tr>\n",
       "      <th>3</th>\n",
       "      <td>Sedan</td>\n",
       "      <td>Ford</td>\n",
       "      <td>32</td>\n",
       "    </tr>\n",
       "    <tr>\n",
       "      <th>4</th>\n",
       "      <td>Sedan</td>\n",
       "      <td>Honda</td>\n",
       "      <td>36</td>\n",
       "    </tr>\n",
       "    <tr>\n",
       "      <th>5</th>\n",
       "      <td>Sedan</td>\n",
       "      <td>Toyota</td>\n",
       "      <td>33</td>\n",
       "    </tr>\n",
       "    <tr>\n",
       "      <th>6</th>\n",
       "      <td>Truck</td>\n",
       "      <td>Ford</td>\n",
       "      <td>21</td>\n",
       "    </tr>\n",
       "    <tr>\n",
       "      <th>7</th>\n",
       "      <td>Truck</td>\n",
       "      <td>Toyota</td>\n",
       "      <td>22</td>\n",
       "    </tr>\n",
       "  </tbody>\n",
       "</table>\n",
       "</div>"
      ],
      "text/plain": [
       "  Vehicle    Make  MPG\n",
       "0     SUV   Acura   24\n",
       "1     SUV   Honda   27\n",
       "2     SUV  Toyota   26\n",
       "3   Sedan    Ford   32\n",
       "4   Sedan   Honda   36\n",
       "5   Sedan  Toyota   33\n",
       "6   Truck    Ford   21\n",
       "7   Truck  Toyota   22"
      ]
     },
     "execution_count": 15,
     "metadata": {},
     "output_type": "execute_result"
    }
   ],
   "source": [
    "# Resetting the MultiIndex\n",
    "multi_df.reset_index()"
   ]
  },
  {
   "cell_type": "code",
   "execution_count": 24,
   "id": "dfaf1581",
   "metadata": {},
   "outputs": [
    {
     "data": {
      "application/vnd.microsoft.datawrangler.viewer.v0+json": {
       "columns": [
        {
         "name": "index",
         "rawType": "int64",
         "type": "integer"
        },
        {
         "name": "Model Year",
         "rawType": "int64",
         "type": "integer"
        },
        {
         "name": "Make",
         "rawType": "object",
         "type": "string"
        },
        {
         "name": "Model",
         "rawType": "object",
         "type": "string"
        },
        {
         "name": "Vehicle Class",
         "rawType": "object",
         "type": "string"
        },
        {
         "name": "Engine Size (L)",
         "rawType": "float64",
         "type": "float"
        },
        {
         "name": "Cylinders",
         "rawType": "int64",
         "type": "integer"
        },
        {
         "name": "Transmission",
         "rawType": "object",
         "type": "string"
        },
        {
         "name": "Fuel Type",
         "rawType": "object",
         "type": "string"
        },
        {
         "name": "Fuel Consumption City (L/100 km)",
         "rawType": "float64",
         "type": "float"
        },
        {
         "name": "Fuel Consumption Hwy (L/100 km)",
         "rawType": "float64",
         "type": "float"
        },
        {
         "name": "Fuel Consumption Comb (L/100 km)",
         "rawType": "float64",
         "type": "float"
        },
        {
         "name": "Fuel Consumption Comb (mpg)",
         "rawType": "int64",
         "type": "integer"
        },
        {
         "name": "CO2 Emissions (g/km)",
         "rawType": "int64",
         "type": "integer"
        },
        {
         "name": "CO2 Rating",
         "rawType": "int64",
         "type": "integer"
        },
        {
         "name": "Smog Rating",
         "rawType": "int64",
         "type": "integer"
        }
       ],
       "conversionMethod": "pd.DataFrame",
       "ref": "e9ea0261-62dc-4ba5-8404-49cff4187317",
       "rows": [
        [
         "0",
         "2023",
         "Acura",
         "Integra",
         "Full-size",
         "1.5",
         "4",
         "AV7",
         "Z",
         "7.9",
         "6.3",
         "7.2",
         "39",
         "167",
         "6",
         "7"
        ],
        [
         "1",
         "2023",
         "Acura",
         "Integra A-SPEC",
         "Full-size",
         "1.5",
         "4",
         "AV7",
         "Z",
         "8.1",
         "6.5",
         "7.4",
         "38",
         "172",
         "6",
         "7"
        ],
        [
         "2",
         "2023",
         "Acura",
         "Integra A-SPEC",
         "Full-size",
         "1.5",
         "4",
         "M6",
         "Z",
         "8.9",
         "6.5",
         "7.8",
         "36",
         "181",
         "6",
         "6"
        ],
        [
         "3",
         "2023",
         "Acura",
         "MDX SH-AWD",
         "SUV: Small",
         "3.5",
         "6",
         "AS10",
         "Z",
         "12.6",
         "9.4",
         "11.2",
         "25",
         "263",
         "4",
         "5"
        ],
        [
         "4",
         "2023",
         "Acura",
         "MDX SH-AWD Type S",
         "SUV: Standard",
         "3.0",
         "6",
         "AS10",
         "Z",
         "13.8",
         "11.2",
         "12.4",
         "23",
         "291",
         "4",
         "5"
        ]
       ],
       "shape": {
        "columns": 15,
        "rows": 5
       }
      },
      "text/html": [
       "<div>\n",
       "<style scoped>\n",
       "    .dataframe tbody tr th:only-of-type {\n",
       "        vertical-align: middle;\n",
       "    }\n",
       "\n",
       "    .dataframe tbody tr th {\n",
       "        vertical-align: top;\n",
       "    }\n",
       "\n",
       "    .dataframe thead th {\n",
       "        text-align: right;\n",
       "    }\n",
       "</style>\n",
       "<table border=\"1\" class=\"dataframe\">\n",
       "  <thead>\n",
       "    <tr style=\"text-align: right;\">\n",
       "      <th></th>\n",
       "      <th>Model Year</th>\n",
       "      <th>Make</th>\n",
       "      <th>Model</th>\n",
       "      <th>Vehicle Class</th>\n",
       "      <th>Engine Size (L)</th>\n",
       "      <th>Cylinders</th>\n",
       "      <th>Transmission</th>\n",
       "      <th>Fuel Type</th>\n",
       "      <th>Fuel Consumption City (L/100 km)</th>\n",
       "      <th>Fuel Consumption Hwy (L/100 km)</th>\n",
       "      <th>Fuel Consumption Comb (L/100 km)</th>\n",
       "      <th>Fuel Consumption Comb (mpg)</th>\n",
       "      <th>CO2 Emissions (g/km)</th>\n",
       "      <th>CO2 Rating</th>\n",
       "      <th>Smog Rating</th>\n",
       "    </tr>\n",
       "  </thead>\n",
       "  <tbody>\n",
       "    <tr>\n",
       "      <th>0</th>\n",
       "      <td>2023</td>\n",
       "      <td>Acura</td>\n",
       "      <td>Integra</td>\n",
       "      <td>Full-size</td>\n",
       "      <td>1.5</td>\n",
       "      <td>4</td>\n",
       "      <td>AV7</td>\n",
       "      <td>Z</td>\n",
       "      <td>7.9</td>\n",
       "      <td>6.3</td>\n",
       "      <td>7.2</td>\n",
       "      <td>39</td>\n",
       "      <td>167</td>\n",
       "      <td>6</td>\n",
       "      <td>7</td>\n",
       "    </tr>\n",
       "    <tr>\n",
       "      <th>1</th>\n",
       "      <td>2023</td>\n",
       "      <td>Acura</td>\n",
       "      <td>Integra A-SPEC</td>\n",
       "      <td>Full-size</td>\n",
       "      <td>1.5</td>\n",
       "      <td>4</td>\n",
       "      <td>AV7</td>\n",
       "      <td>Z</td>\n",
       "      <td>8.1</td>\n",
       "      <td>6.5</td>\n",
       "      <td>7.4</td>\n",
       "      <td>38</td>\n",
       "      <td>172</td>\n",
       "      <td>6</td>\n",
       "      <td>7</td>\n",
       "    </tr>\n",
       "    <tr>\n",
       "      <th>2</th>\n",
       "      <td>2023</td>\n",
       "      <td>Acura</td>\n",
       "      <td>Integra A-SPEC</td>\n",
       "      <td>Full-size</td>\n",
       "      <td>1.5</td>\n",
       "      <td>4</td>\n",
       "      <td>M6</td>\n",
       "      <td>Z</td>\n",
       "      <td>8.9</td>\n",
       "      <td>6.5</td>\n",
       "      <td>7.8</td>\n",
       "      <td>36</td>\n",
       "      <td>181</td>\n",
       "      <td>6</td>\n",
       "      <td>6</td>\n",
       "    </tr>\n",
       "    <tr>\n",
       "      <th>3</th>\n",
       "      <td>2023</td>\n",
       "      <td>Acura</td>\n",
       "      <td>MDX SH-AWD</td>\n",
       "      <td>SUV: Small</td>\n",
       "      <td>3.5</td>\n",
       "      <td>6</td>\n",
       "      <td>AS10</td>\n",
       "      <td>Z</td>\n",
       "      <td>12.6</td>\n",
       "      <td>9.4</td>\n",
       "      <td>11.2</td>\n",
       "      <td>25</td>\n",
       "      <td>263</td>\n",
       "      <td>4</td>\n",
       "      <td>5</td>\n",
       "    </tr>\n",
       "    <tr>\n",
       "      <th>4</th>\n",
       "      <td>2023</td>\n",
       "      <td>Acura</td>\n",
       "      <td>MDX SH-AWD Type S</td>\n",
       "      <td>SUV: Standard</td>\n",
       "      <td>3.0</td>\n",
       "      <td>6</td>\n",
       "      <td>AS10</td>\n",
       "      <td>Z</td>\n",
       "      <td>13.8</td>\n",
       "      <td>11.2</td>\n",
       "      <td>12.4</td>\n",
       "      <td>23</td>\n",
       "      <td>291</td>\n",
       "      <td>4</td>\n",
       "      <td>5</td>\n",
       "    </tr>\n",
       "  </tbody>\n",
       "</table>\n",
       "</div>"
      ],
      "text/plain": [
       "   Model Year   Make              Model  Vehicle Class  Engine Size (L)  \\\n",
       "0        2023  Acura            Integra      Full-size              1.5   \n",
       "1        2023  Acura     Integra A-SPEC      Full-size              1.5   \n",
       "2        2023  Acura     Integra A-SPEC      Full-size              1.5   \n",
       "3        2023  Acura         MDX SH-AWD     SUV: Small              3.5   \n",
       "4        2023  Acura  MDX SH-AWD Type S  SUV: Standard              3.0   \n",
       "\n",
       "   Cylinders Transmission Fuel Type  Fuel Consumption City (L/100 km)  \\\n",
       "0          4          AV7         Z                               7.9   \n",
       "1          4          AV7         Z                               8.1   \n",
       "2          4           M6         Z                               8.9   \n",
       "3          6         AS10         Z                              12.6   \n",
       "4          6         AS10         Z                              13.8   \n",
       "\n",
       "   Fuel Consumption Hwy (L/100 km)  Fuel Consumption Comb (L/100 km)  \\\n",
       "0                              6.3                               7.2   \n",
       "1                              6.5                               7.4   \n",
       "2                              6.5                               7.8   \n",
       "3                              9.4                              11.2   \n",
       "4                             11.2                              12.4   \n",
       "\n",
       "   Fuel Consumption Comb (mpg)  CO2 Emissions (g/km)  CO2 Rating  Smog Rating  \n",
       "0                           39                   167           6            7  \n",
       "1                           38                   172           6            7  \n",
       "2                           36                   181           6            6  \n",
       "3                           25                   263           4            5  \n",
       "4                           23                   291           4            5  "
      ]
     },
     "execution_count": 24,
     "metadata": {},
     "output_type": "execute_result"
    }
   ],
   "source": [
    "# Read csv\n",
    "emissions = pd.read_csv(\"MY2023_Fuel_Consumption_Ratings.csv\")\n",
    "emissions.head()"
   ]
  },
  {
   "cell_type": "code",
   "execution_count": 25,
   "id": "9dc91a09",
   "metadata": {},
   "outputs": [
    {
     "name": "stdout",
     "output_type": "stream",
     "text": [
      "<class 'pandas.core.frame.DataFrame'>\n",
      "RangeIndex: 823 entries, 0 to 822\n",
      "Data columns (total 15 columns):\n",
      " #   Column                            Non-Null Count  Dtype  \n",
      "---  ------                            --------------  -----  \n",
      " 0   Model Year                        823 non-null    int64  \n",
      " 1   Make                              823 non-null    object \n",
      " 2   Model                             823 non-null    object \n",
      " 3   Vehicle Class                     823 non-null    object \n",
      " 4   Engine Size (L)                   823 non-null    float64\n",
      " 5   Cylinders                         823 non-null    int64  \n",
      " 6   Transmission                      823 non-null    object \n",
      " 7   Fuel Type                         823 non-null    object \n",
      " 8   Fuel Consumption City (L/100 km)  823 non-null    float64\n",
      " 9   Fuel Consumption Hwy (L/100 km)   823 non-null    float64\n",
      " 10  Fuel Consumption Comb (L/100 km)  823 non-null    float64\n",
      " 11  Fuel Consumption Comb (mpg)       823 non-null    int64  \n",
      " 12  CO2 Emissions (g/km)              823 non-null    int64  \n",
      " 13  CO2 Rating                        823 non-null    int64  \n",
      " 14  Smog Rating                       823 non-null    int64  \n",
      "dtypes: float64(4), int64(6), object(5)\n",
      "memory usage: 96.6+ KB\n"
     ]
    }
   ],
   "source": [
    "emissions.info()"
   ]
  },
  {
   "cell_type": "code",
   "execution_count": 26,
   "id": "cdc2c7d4",
   "metadata": {},
   "outputs": [
    {
     "data": {
      "application/vnd.microsoft.datawrangler.viewer.v0+json": {
       "columns": [
        {
         "name": "('Make', 'Vehicle Class')",
         "rawType": "object",
         "type": "unknown"
        },
        {
         "name": "Model",
         "rawType": "object",
         "type": "string"
        },
        {
         "name": "Engine Size (L)",
         "rawType": "float64",
         "type": "float"
        },
        {
         "name": "Cylinders",
         "rawType": "int64",
         "type": "integer"
        },
        {
         "name": "Transmission",
         "rawType": "object",
         "type": "string"
        },
        {
         "name": "Fuel Type",
         "rawType": "object",
         "type": "string"
        },
        {
         "name": "Fuel Consumption City (L/100 km)",
         "rawType": "float64",
         "type": "float"
        },
        {
         "name": "Fuel Consumption Hwy (L/100 km)",
         "rawType": "float64",
         "type": "float"
        },
        {
         "name": "Fuel Consumption Comb (L/100 km)",
         "rawType": "float64",
         "type": "float"
        },
        {
         "name": "Fuel Consumption Comb (mpg)",
         "rawType": "int64",
         "type": "integer"
        },
        {
         "name": "CO2 Emissions (g/km)",
         "rawType": "int64",
         "type": "integer"
        },
        {
         "name": "CO2 Rating",
         "rawType": "int64",
         "type": "integer"
        },
        {
         "name": "Smog Rating",
         "rawType": "int64",
         "type": "integer"
        }
       ],
       "conversionMethod": "pd.DataFrame",
       "ref": "23802153-9669-4185-8cae-320fe3e1fd1d",
       "rows": [
        [
         "('Acura', 'Full-size')",
         "Integra",
         "1.5",
         "4",
         "AV7",
         "Z",
         "7.9",
         "6.3",
         "7.2",
         "39",
         "167",
         "6",
         "7"
        ],
        [
         "('Acura', 'Full-size')",
         "Integra A-SPEC",
         "1.5",
         "4",
         "AV7",
         "Z",
         "8.1",
         "6.5",
         "7.4",
         "38",
         "172",
         "6",
         "7"
        ],
        [
         "('Acura', 'Full-size')",
         "Integra A-SPEC",
         "1.5",
         "4",
         "M6",
         "Z",
         "8.9",
         "6.5",
         "7.8",
         "36",
         "181",
         "6",
         "6"
        ],
        [
         "('Acura', 'SUV: Small')",
         "MDX SH-AWD",
         "3.5",
         "6",
         "AS10",
         "Z",
         "12.6",
         "9.4",
         "11.2",
         "25",
         "263",
         "4",
         "5"
        ],
        [
         "('Acura', 'SUV: Standard')",
         "MDX SH-AWD Type S",
         "3.0",
         "6",
         "AS10",
         "Z",
         "13.8",
         "11.2",
         "12.4",
         "23",
         "291",
         "4",
         "5"
        ]
       ],
       "shape": {
        "columns": 12,
        "rows": 5
       }
      },
      "text/html": [
       "<div>\n",
       "<style scoped>\n",
       "    .dataframe tbody tr th:only-of-type {\n",
       "        vertical-align: middle;\n",
       "    }\n",
       "\n",
       "    .dataframe tbody tr th {\n",
       "        vertical-align: top;\n",
       "    }\n",
       "\n",
       "    .dataframe thead th {\n",
       "        text-align: right;\n",
       "    }\n",
       "</style>\n",
       "<table border=\"1\" class=\"dataframe\">\n",
       "  <thead>\n",
       "    <tr style=\"text-align: right;\">\n",
       "      <th></th>\n",
       "      <th></th>\n",
       "      <th>Model</th>\n",
       "      <th>Engine Size (L)</th>\n",
       "      <th>Cylinders</th>\n",
       "      <th>Transmission</th>\n",
       "      <th>Fuel Type</th>\n",
       "      <th>Fuel Consumption City (L/100 km)</th>\n",
       "      <th>Fuel Consumption Hwy (L/100 km)</th>\n",
       "      <th>Fuel Consumption Comb (L/100 km)</th>\n",
       "      <th>Fuel Consumption Comb (mpg)</th>\n",
       "      <th>CO2 Emissions (g/km)</th>\n",
       "      <th>CO2 Rating</th>\n",
       "      <th>Smog Rating</th>\n",
       "    </tr>\n",
       "    <tr>\n",
       "      <th>Make</th>\n",
       "      <th>Vehicle Class</th>\n",
       "      <th></th>\n",
       "      <th></th>\n",
       "      <th></th>\n",
       "      <th></th>\n",
       "      <th></th>\n",
       "      <th></th>\n",
       "      <th></th>\n",
       "      <th></th>\n",
       "      <th></th>\n",
       "      <th></th>\n",
       "      <th></th>\n",
       "      <th></th>\n",
       "    </tr>\n",
       "  </thead>\n",
       "  <tbody>\n",
       "    <tr>\n",
       "      <th rowspan=\"5\" valign=\"top\">Acura</th>\n",
       "      <th>Full-size</th>\n",
       "      <td>Integra</td>\n",
       "      <td>1.5</td>\n",
       "      <td>4</td>\n",
       "      <td>AV7</td>\n",
       "      <td>Z</td>\n",
       "      <td>7.9</td>\n",
       "      <td>6.3</td>\n",
       "      <td>7.2</td>\n",
       "      <td>39</td>\n",
       "      <td>167</td>\n",
       "      <td>6</td>\n",
       "      <td>7</td>\n",
       "    </tr>\n",
       "    <tr>\n",
       "      <th>Full-size</th>\n",
       "      <td>Integra A-SPEC</td>\n",
       "      <td>1.5</td>\n",
       "      <td>4</td>\n",
       "      <td>AV7</td>\n",
       "      <td>Z</td>\n",
       "      <td>8.1</td>\n",
       "      <td>6.5</td>\n",
       "      <td>7.4</td>\n",
       "      <td>38</td>\n",
       "      <td>172</td>\n",
       "      <td>6</td>\n",
       "      <td>7</td>\n",
       "    </tr>\n",
       "    <tr>\n",
       "      <th>Full-size</th>\n",
       "      <td>Integra A-SPEC</td>\n",
       "      <td>1.5</td>\n",
       "      <td>4</td>\n",
       "      <td>M6</td>\n",
       "      <td>Z</td>\n",
       "      <td>8.9</td>\n",
       "      <td>6.5</td>\n",
       "      <td>7.8</td>\n",
       "      <td>36</td>\n",
       "      <td>181</td>\n",
       "      <td>6</td>\n",
       "      <td>6</td>\n",
       "    </tr>\n",
       "    <tr>\n",
       "      <th>SUV: Small</th>\n",
       "      <td>MDX SH-AWD</td>\n",
       "      <td>3.5</td>\n",
       "      <td>6</td>\n",
       "      <td>AS10</td>\n",
       "      <td>Z</td>\n",
       "      <td>12.6</td>\n",
       "      <td>9.4</td>\n",
       "      <td>11.2</td>\n",
       "      <td>25</td>\n",
       "      <td>263</td>\n",
       "      <td>4</td>\n",
       "      <td>5</td>\n",
       "    </tr>\n",
       "    <tr>\n",
       "      <th>SUV: Standard</th>\n",
       "      <td>MDX SH-AWD Type S</td>\n",
       "      <td>3.0</td>\n",
       "      <td>6</td>\n",
       "      <td>AS10</td>\n",
       "      <td>Z</td>\n",
       "      <td>13.8</td>\n",
       "      <td>11.2</td>\n",
       "      <td>12.4</td>\n",
       "      <td>23</td>\n",
       "      <td>291</td>\n",
       "      <td>4</td>\n",
       "      <td>5</td>\n",
       "    </tr>\n",
       "  </tbody>\n",
       "</table>\n",
       "</div>"
      ],
      "text/plain": [
       "                                 Model  Engine Size (L)  Cylinders  \\\n",
       "Make  Vehicle Class                                                  \n",
       "Acura Full-size                Integra              1.5          4   \n",
       "      Full-size         Integra A-SPEC              1.5          4   \n",
       "      Full-size         Integra A-SPEC              1.5          4   \n",
       "      SUV: Small            MDX SH-AWD              3.5          6   \n",
       "      SUV: Standard  MDX SH-AWD Type S              3.0          6   \n",
       "\n",
       "                    Transmission Fuel Type  Fuel Consumption City (L/100 km)  \\\n",
       "Make  Vehicle Class                                                            \n",
       "Acura Full-size              AV7         Z                               7.9   \n",
       "      Full-size              AV7         Z                               8.1   \n",
       "      Full-size               M6         Z                               8.9   \n",
       "      SUV: Small            AS10         Z                              12.6   \n",
       "      SUV: Standard         AS10         Z                              13.8   \n",
       "\n",
       "                     Fuel Consumption Hwy (L/100 km)  \\\n",
       "Make  Vehicle Class                                    \n",
       "Acura Full-size                                  6.3   \n",
       "      Full-size                                  6.5   \n",
       "      Full-size                                  6.5   \n",
       "      SUV: Small                                 9.4   \n",
       "      SUV: Standard                             11.2   \n",
       "\n",
       "                     Fuel Consumption Comb (L/100 km)  \\\n",
       "Make  Vehicle Class                                     \n",
       "Acura Full-size                                   7.2   \n",
       "      Full-size                                   7.4   \n",
       "      Full-size                                   7.8   \n",
       "      SUV: Small                                 11.2   \n",
       "      SUV: Standard                              12.4   \n",
       "\n",
       "                     Fuel Consumption Comb (mpg)  CO2 Emissions (g/km)  \\\n",
       "Make  Vehicle Class                                                      \n",
       "Acura Full-size                               39                   167   \n",
       "      Full-size                               38                   172   \n",
       "      Full-size                               36                   181   \n",
       "      SUV: Small                              25                   263   \n",
       "      SUV: Standard                           23                   291   \n",
       "\n",
       "                     CO2 Rating  Smog Rating  \n",
       "Make  Vehicle Class                           \n",
       "Acura Full-size               6            7  \n",
       "      Full-size               6            7  \n",
       "      Full-size               6            6  \n",
       "      SUV: Small              4            5  \n",
       "      SUV: Standard           4            5  "
      ]
     },
     "execution_count": 26,
     "metadata": {},
     "output_type": "execute_result"
    }
   ],
   "source": [
    "# Drop model year and make multiindex\n",
    "emissions = emissions.drop(columns=\"Model Year\")\n",
    "emissions = emissions.set_index([\"Make\", \"Vehicle Class\"])\n",
    "emissions.head()"
   ]
  },
  {
   "cell_type": "code",
   "execution_count": 27,
   "id": "daf2a734",
   "metadata": {},
   "outputs": [
    {
     "data": {
      "application/vnd.microsoft.datawrangler.viewer.v0+json": {
       "columns": [
        {
         "name": "Make",
         "rawType": "object",
         "type": "string"
        },
        {
         "name": "Model",
         "rawType": "object",
         "type": "string"
        },
        {
         "name": "Engine Size (L)",
         "rawType": "float64",
         "type": "float"
        },
        {
         "name": "Cylinders",
         "rawType": "int64",
         "type": "integer"
        },
        {
         "name": "Transmission",
         "rawType": "object",
         "type": "string"
        },
        {
         "name": "Fuel Type",
         "rawType": "object",
         "type": "string"
        },
        {
         "name": "Fuel Consumption City (L/100 km)",
         "rawType": "float64",
         "type": "float"
        },
        {
         "name": "Fuel Consumption Hwy (L/100 km)",
         "rawType": "float64",
         "type": "float"
        },
        {
         "name": "Fuel Consumption Comb (L/100 km)",
         "rawType": "float64",
         "type": "float"
        },
        {
         "name": "Fuel Consumption Comb (mpg)",
         "rawType": "int64",
         "type": "integer"
        },
        {
         "name": "CO2 Emissions (g/km)",
         "rawType": "int64",
         "type": "integer"
        },
        {
         "name": "CO2 Rating",
         "rawType": "int64",
         "type": "integer"
        },
        {
         "name": "Smog Rating",
         "rawType": "int64",
         "type": "integer"
        }
       ],
       "conversionMethod": "pd.DataFrame",
       "ref": "aa7d00db-f39e-4788-9cc4-d75dbcf22b25",
       "rows": [
        [
         "Acura",
         "Integra",
         "1.5",
         "4",
         "AV7",
         "Z",
         "7.9",
         "6.3",
         "7.2",
         "39",
         "167",
         "6",
         "7"
        ],
        [
         "Acura",
         "Integra A-SPEC",
         "1.5",
         "4",
         "AV7",
         "Z",
         "8.1",
         "6.5",
         "7.4",
         "38",
         "172",
         "6",
         "7"
        ],
        [
         "Acura",
         "Integra A-SPEC",
         "1.5",
         "4",
         "M6",
         "Z",
         "8.9",
         "6.5",
         "7.8",
         "36",
         "181",
         "6",
         "6"
        ],
        [
         "Audi",
         "A8 L Sedan 55 TFSI quattro",
         "3.0",
         "6",
         "AS8",
         "Z",
         "12.5",
         "8.3",
         "10.6",
         "27",
         "247",
         "5",
         "5"
        ],
        [
         "Audi",
         "S8 Sedan quattro",
         "4.0",
         "8",
         "AS8",
         "Z",
         "15.9",
         "10.3",
         "13.4",
         "21",
         "313",
         "4",
         "3"
        ],
        [
         "BMW",
         "760i xDrive Sedan",
         "4.4",
         "8",
         "AS8",
         "Z",
         "13.0",
         "9.1",
         "11.3",
         "25",
         "261",
         "4",
         "5"
        ],
        [
         "Chrysler",
         "300",
         "3.6",
         "6",
         "A8",
         "X",
         "12.4",
         "7.8",
         "10.3",
         "27",
         "242",
         "5",
         "5"
        ],
        [
         "Chrysler",
         "300",
         "5.7",
         "8",
         "A8",
         "X",
         "14.7",
         "9.4",
         "12.3",
         "23",
         "289",
         "4",
         "3"
        ],
        [
         "Chrysler",
         "300 AWD",
         "3.6",
         "6",
         "A8",
         "X",
         "12.8",
         "8.7",
         "11.0",
         "26",
         "258",
         "4",
         "5"
        ],
        [
         "Chrysler",
         "300C",
         "6.4",
         "8",
         "A8",
         "Z",
         "15.9",
         "9.6",
         "13.1",
         "22",
         "307",
         "4",
         "1"
        ]
       ],
       "shape": {
        "columns": 12,
        "rows": 10
       }
      },
      "text/html": [
       "<div>\n",
       "<style scoped>\n",
       "    .dataframe tbody tr th:only-of-type {\n",
       "        vertical-align: middle;\n",
       "    }\n",
       "\n",
       "    .dataframe tbody tr th {\n",
       "        vertical-align: top;\n",
       "    }\n",
       "\n",
       "    .dataframe thead th {\n",
       "        text-align: right;\n",
       "    }\n",
       "</style>\n",
       "<table border=\"1\" class=\"dataframe\">\n",
       "  <thead>\n",
       "    <tr style=\"text-align: right;\">\n",
       "      <th></th>\n",
       "      <th>Model</th>\n",
       "      <th>Engine Size (L)</th>\n",
       "      <th>Cylinders</th>\n",
       "      <th>Transmission</th>\n",
       "      <th>Fuel Type</th>\n",
       "      <th>Fuel Consumption City (L/100 km)</th>\n",
       "      <th>Fuel Consumption Hwy (L/100 km)</th>\n",
       "      <th>Fuel Consumption Comb (L/100 km)</th>\n",
       "      <th>Fuel Consumption Comb (mpg)</th>\n",
       "      <th>CO2 Emissions (g/km)</th>\n",
       "      <th>CO2 Rating</th>\n",
       "      <th>Smog Rating</th>\n",
       "    </tr>\n",
       "    <tr>\n",
       "      <th>Make</th>\n",
       "      <th></th>\n",
       "      <th></th>\n",
       "      <th></th>\n",
       "      <th></th>\n",
       "      <th></th>\n",
       "      <th></th>\n",
       "      <th></th>\n",
       "      <th></th>\n",
       "      <th></th>\n",
       "      <th></th>\n",
       "      <th></th>\n",
       "      <th></th>\n",
       "    </tr>\n",
       "  </thead>\n",
       "  <tbody>\n",
       "    <tr>\n",
       "      <th>Acura</th>\n",
       "      <td>Integra</td>\n",
       "      <td>1.5</td>\n",
       "      <td>4</td>\n",
       "      <td>AV7</td>\n",
       "      <td>Z</td>\n",
       "      <td>7.9</td>\n",
       "      <td>6.3</td>\n",
       "      <td>7.2</td>\n",
       "      <td>39</td>\n",
       "      <td>167</td>\n",
       "      <td>6</td>\n",
       "      <td>7</td>\n",
       "    </tr>\n",
       "    <tr>\n",
       "      <th>Acura</th>\n",
       "      <td>Integra A-SPEC</td>\n",
       "      <td>1.5</td>\n",
       "      <td>4</td>\n",
       "      <td>AV7</td>\n",
       "      <td>Z</td>\n",
       "      <td>8.1</td>\n",
       "      <td>6.5</td>\n",
       "      <td>7.4</td>\n",
       "      <td>38</td>\n",
       "      <td>172</td>\n",
       "      <td>6</td>\n",
       "      <td>7</td>\n",
       "    </tr>\n",
       "    <tr>\n",
       "      <th>Acura</th>\n",
       "      <td>Integra A-SPEC</td>\n",
       "      <td>1.5</td>\n",
       "      <td>4</td>\n",
       "      <td>M6</td>\n",
       "      <td>Z</td>\n",
       "      <td>8.9</td>\n",
       "      <td>6.5</td>\n",
       "      <td>7.8</td>\n",
       "      <td>36</td>\n",
       "      <td>181</td>\n",
       "      <td>6</td>\n",
       "      <td>6</td>\n",
       "    </tr>\n",
       "    <tr>\n",
       "      <th>Audi</th>\n",
       "      <td>A8 L Sedan 55 TFSI quattro</td>\n",
       "      <td>3.0</td>\n",
       "      <td>6</td>\n",
       "      <td>AS8</td>\n",
       "      <td>Z</td>\n",
       "      <td>12.5</td>\n",
       "      <td>8.3</td>\n",
       "      <td>10.6</td>\n",
       "      <td>27</td>\n",
       "      <td>247</td>\n",
       "      <td>5</td>\n",
       "      <td>5</td>\n",
       "    </tr>\n",
       "    <tr>\n",
       "      <th>Audi</th>\n",
       "      <td>S8 Sedan quattro</td>\n",
       "      <td>4.0</td>\n",
       "      <td>8</td>\n",
       "      <td>AS8</td>\n",
       "      <td>Z</td>\n",
       "      <td>15.9</td>\n",
       "      <td>10.3</td>\n",
       "      <td>13.4</td>\n",
       "      <td>21</td>\n",
       "      <td>313</td>\n",
       "      <td>4</td>\n",
       "      <td>3</td>\n",
       "    </tr>\n",
       "    <tr>\n",
       "      <th>BMW</th>\n",
       "      <td>760i xDrive Sedan</td>\n",
       "      <td>4.4</td>\n",
       "      <td>8</td>\n",
       "      <td>AS8</td>\n",
       "      <td>Z</td>\n",
       "      <td>13.0</td>\n",
       "      <td>9.1</td>\n",
       "      <td>11.3</td>\n",
       "      <td>25</td>\n",
       "      <td>261</td>\n",
       "      <td>4</td>\n",
       "      <td>5</td>\n",
       "    </tr>\n",
       "    <tr>\n",
       "      <th>Chrysler</th>\n",
       "      <td>300</td>\n",
       "      <td>3.6</td>\n",
       "      <td>6</td>\n",
       "      <td>A8</td>\n",
       "      <td>X</td>\n",
       "      <td>12.4</td>\n",
       "      <td>7.8</td>\n",
       "      <td>10.3</td>\n",
       "      <td>27</td>\n",
       "      <td>242</td>\n",
       "      <td>5</td>\n",
       "      <td>5</td>\n",
       "    </tr>\n",
       "    <tr>\n",
       "      <th>Chrysler</th>\n",
       "      <td>300</td>\n",
       "      <td>5.7</td>\n",
       "      <td>8</td>\n",
       "      <td>A8</td>\n",
       "      <td>X</td>\n",
       "      <td>14.7</td>\n",
       "      <td>9.4</td>\n",
       "      <td>12.3</td>\n",
       "      <td>23</td>\n",
       "      <td>289</td>\n",
       "      <td>4</td>\n",
       "      <td>3</td>\n",
       "    </tr>\n",
       "    <tr>\n",
       "      <th>Chrysler</th>\n",
       "      <td>300 AWD</td>\n",
       "      <td>3.6</td>\n",
       "      <td>6</td>\n",
       "      <td>A8</td>\n",
       "      <td>X</td>\n",
       "      <td>12.8</td>\n",
       "      <td>8.7</td>\n",
       "      <td>11.0</td>\n",
       "      <td>26</td>\n",
       "      <td>258</td>\n",
       "      <td>4</td>\n",
       "      <td>5</td>\n",
       "    </tr>\n",
       "    <tr>\n",
       "      <th>Chrysler</th>\n",
       "      <td>300C</td>\n",
       "      <td>6.4</td>\n",
       "      <td>8</td>\n",
       "      <td>A8</td>\n",
       "      <td>Z</td>\n",
       "      <td>15.9</td>\n",
       "      <td>9.6</td>\n",
       "      <td>13.1</td>\n",
       "      <td>22</td>\n",
       "      <td>307</td>\n",
       "      <td>4</td>\n",
       "      <td>1</td>\n",
       "    </tr>\n",
       "  </tbody>\n",
       "</table>\n",
       "</div>"
      ],
      "text/plain": [
       "                               Model  Engine Size (L)  Cylinders Transmission  \\\n",
       "Make                                                                            \n",
       "Acura                        Integra              1.5          4          AV7   \n",
       "Acura                 Integra A-SPEC              1.5          4          AV7   \n",
       "Acura                 Integra A-SPEC              1.5          4           M6   \n",
       "Audi      A8 L Sedan 55 TFSI quattro              3.0          6          AS8   \n",
       "Audi                S8 Sedan quattro              4.0          8          AS8   \n",
       "BMW                760i xDrive Sedan              4.4          8          AS8   \n",
       "Chrysler                         300              3.6          6           A8   \n",
       "Chrysler                         300              5.7          8           A8   \n",
       "Chrysler                     300 AWD              3.6          6           A8   \n",
       "Chrysler                        300C              6.4          8           A8   \n",
       "\n",
       "         Fuel Type  Fuel Consumption City (L/100 km)  \\\n",
       "Make                                                   \n",
       "Acura            Z                               7.9   \n",
       "Acura            Z                               8.1   \n",
       "Acura            Z                               8.9   \n",
       "Audi             Z                              12.5   \n",
       "Audi             Z                              15.9   \n",
       "BMW              Z                              13.0   \n",
       "Chrysler         X                              12.4   \n",
       "Chrysler         X                              14.7   \n",
       "Chrysler         X                              12.8   \n",
       "Chrysler         Z                              15.9   \n",
       "\n",
       "          Fuel Consumption Hwy (L/100 km)  Fuel Consumption Comb (L/100 km)  \\\n",
       "Make                                                                          \n",
       "Acura                                 6.3                               7.2   \n",
       "Acura                                 6.5                               7.4   \n",
       "Acura                                 6.5                               7.8   \n",
       "Audi                                  8.3                              10.6   \n",
       "Audi                                 10.3                              13.4   \n",
       "BMW                                   9.1                              11.3   \n",
       "Chrysler                              7.8                              10.3   \n",
       "Chrysler                              9.4                              12.3   \n",
       "Chrysler                              8.7                              11.0   \n",
       "Chrysler                              9.6                              13.1   \n",
       "\n",
       "          Fuel Consumption Comb (mpg)  CO2 Emissions (g/km)  CO2 Rating  \\\n",
       "Make                                                                      \n",
       "Acura                              39                   167           6   \n",
       "Acura                              38                   172           6   \n",
       "Acura                              36                   181           6   \n",
       "Audi                               27                   247           5   \n",
       "Audi                               21                   313           4   \n",
       "BMW                                25                   261           4   \n",
       "Chrysler                           27                   242           5   \n",
       "Chrysler                           23                   289           4   \n",
       "Chrysler                           26                   258           4   \n",
       "Chrysler                           22                   307           4   \n",
       "\n",
       "          Smog Rating  \n",
       "Make                   \n",
       "Acura               7  \n",
       "Acura               7  \n",
       "Acura               6  \n",
       "Audi                5  \n",
       "Audi                3  \n",
       "BMW                 5  \n",
       "Chrysler            5  \n",
       "Chrysler            3  \n",
       "Chrysler            5  \n",
       "Chrysler            1  "
      ]
     },
     "execution_count": 27,
     "metadata": {},
     "output_type": "execute_result"
    }
   ],
   "source": [
    "# Make a cross section\n",
    "emissions.xs(\"Full-size\", level=\"Vehicle Class\").head(10)"
   ]
  },
  {
   "cell_type": "code",
   "execution_count": 28,
   "id": "99c09425",
   "metadata": {},
   "outputs": [
    {
     "data": {
      "application/vnd.microsoft.datawrangler.viewer.v0+json": {
       "columns": [
        {
         "name": "('Make', 'Vehicle Class')",
         "rawType": "object",
         "type": "unknown"
        },
        {
         "name": "Model",
         "rawType": "object",
         "type": "string"
        },
        {
         "name": "Engine Size (L)",
         "rawType": "float64",
         "type": "float"
        },
        {
         "name": "Cylinders",
         "rawType": "int64",
         "type": "integer"
        },
        {
         "name": "Transmission",
         "rawType": "object",
         "type": "string"
        },
        {
         "name": "Fuel Type",
         "rawType": "object",
         "type": "string"
        },
        {
         "name": "Fuel Consumption City (L/100 km)",
         "rawType": "float64",
         "type": "float"
        },
        {
         "name": "Fuel Consumption Hwy (L/100 km)",
         "rawType": "float64",
         "type": "float"
        },
        {
         "name": "Fuel Consumption Comb (L/100 km)",
         "rawType": "float64",
         "type": "float"
        },
        {
         "name": "Fuel Consumption Comb (mpg)",
         "rawType": "int64",
         "type": "integer"
        },
        {
         "name": "CO2 Emissions (g/km)",
         "rawType": "int64",
         "type": "integer"
        },
        {
         "name": "CO2 Rating",
         "rawType": "int64",
         "type": "integer"
        },
        {
         "name": "Smog Rating",
         "rawType": "int64",
         "type": "integer"
        }
       ],
       "conversionMethod": "pd.DataFrame",
       "ref": "b821e2f0-bdfc-4902-9433-fa0043f834f3",
       "rows": [
        [
         "('Honda', 'Full-size')",
         "Accord",
         "1.5",
         "4",
         "AV",
         "X",
         "8.1",
         "6.4",
         "7.3",
         "39",
         "171",
         "6",
         "7"
        ],
        [
         "('Honda', 'Full-size')",
         "Civic Hatchback",
         "1.5",
         "4",
         "AV7",
         "X",
         "7.7",
         "6.3",
         "7.1",
         "40",
         "166",
         "6",
         "7"
        ],
        [
         "('Honda', 'Full-size')",
         "Civic Hatchback",
         "1.5",
         "4",
         "M6",
         "X",
         "8.5",
         "6.3",
         "7.5",
         "38",
         "175",
         "6",
         "6"
        ],
        [
         "('Honda', 'Full-size')",
         "Civic Hatchback",
         "2.0",
         "4",
         "AV",
         "X",
         "8.0",
         "6.2",
         "7.2",
         "39",
         "167",
         "6",
         "7"
        ],
        [
         "('Honda', 'Full-size')",
         "Civic Hatchback",
         "2.0",
         "4",
         "M6",
         "X",
         "9.1",
         "6.6",
         "8.0",
         "35",
         "186",
         "6",
         "6"
        ],
        [
         "('Honda', 'Full-size')",
         "Civic Type R",
         "2.0",
         "4",
         "M6",
         "Z",
         "10.8",
         "8.3",
         "9.7",
         "29",
         "224",
         "5",
         "6"
        ]
       ],
       "shape": {
        "columns": 12,
        "rows": 6
       }
      },
      "text/html": [
       "<div>\n",
       "<style scoped>\n",
       "    .dataframe tbody tr th:only-of-type {\n",
       "        vertical-align: middle;\n",
       "    }\n",
       "\n",
       "    .dataframe tbody tr th {\n",
       "        vertical-align: top;\n",
       "    }\n",
       "\n",
       "    .dataframe thead th {\n",
       "        text-align: right;\n",
       "    }\n",
       "</style>\n",
       "<table border=\"1\" class=\"dataframe\">\n",
       "  <thead>\n",
       "    <tr style=\"text-align: right;\">\n",
       "      <th></th>\n",
       "      <th></th>\n",
       "      <th>Model</th>\n",
       "      <th>Engine Size (L)</th>\n",
       "      <th>Cylinders</th>\n",
       "      <th>Transmission</th>\n",
       "      <th>Fuel Type</th>\n",
       "      <th>Fuel Consumption City (L/100 km)</th>\n",
       "      <th>Fuel Consumption Hwy (L/100 km)</th>\n",
       "      <th>Fuel Consumption Comb (L/100 km)</th>\n",
       "      <th>Fuel Consumption Comb (mpg)</th>\n",
       "      <th>CO2 Emissions (g/km)</th>\n",
       "      <th>CO2 Rating</th>\n",
       "      <th>Smog Rating</th>\n",
       "    </tr>\n",
       "    <tr>\n",
       "      <th>Make</th>\n",
       "      <th>Vehicle Class</th>\n",
       "      <th></th>\n",
       "      <th></th>\n",
       "      <th></th>\n",
       "      <th></th>\n",
       "      <th></th>\n",
       "      <th></th>\n",
       "      <th></th>\n",
       "      <th></th>\n",
       "      <th></th>\n",
       "      <th></th>\n",
       "      <th></th>\n",
       "      <th></th>\n",
       "    </tr>\n",
       "  </thead>\n",
       "  <tbody>\n",
       "    <tr>\n",
       "      <th rowspan=\"6\" valign=\"top\">Honda</th>\n",
       "      <th>Full-size</th>\n",
       "      <td>Accord</td>\n",
       "      <td>1.5</td>\n",
       "      <td>4</td>\n",
       "      <td>AV</td>\n",
       "      <td>X</td>\n",
       "      <td>8.1</td>\n",
       "      <td>6.4</td>\n",
       "      <td>7.3</td>\n",
       "      <td>39</td>\n",
       "      <td>171</td>\n",
       "      <td>6</td>\n",
       "      <td>7</td>\n",
       "    </tr>\n",
       "    <tr>\n",
       "      <th>Full-size</th>\n",
       "      <td>Civic Hatchback</td>\n",
       "      <td>1.5</td>\n",
       "      <td>4</td>\n",
       "      <td>AV7</td>\n",
       "      <td>X</td>\n",
       "      <td>7.7</td>\n",
       "      <td>6.3</td>\n",
       "      <td>7.1</td>\n",
       "      <td>40</td>\n",
       "      <td>166</td>\n",
       "      <td>6</td>\n",
       "      <td>7</td>\n",
       "    </tr>\n",
       "    <tr>\n",
       "      <th>Full-size</th>\n",
       "      <td>Civic Hatchback</td>\n",
       "      <td>1.5</td>\n",
       "      <td>4</td>\n",
       "      <td>M6</td>\n",
       "      <td>X</td>\n",
       "      <td>8.5</td>\n",
       "      <td>6.3</td>\n",
       "      <td>7.5</td>\n",
       "      <td>38</td>\n",
       "      <td>175</td>\n",
       "      <td>6</td>\n",
       "      <td>6</td>\n",
       "    </tr>\n",
       "    <tr>\n",
       "      <th>Full-size</th>\n",
       "      <td>Civic Hatchback</td>\n",
       "      <td>2.0</td>\n",
       "      <td>4</td>\n",
       "      <td>AV</td>\n",
       "      <td>X</td>\n",
       "      <td>8.0</td>\n",
       "      <td>6.2</td>\n",
       "      <td>7.2</td>\n",
       "      <td>39</td>\n",
       "      <td>167</td>\n",
       "      <td>6</td>\n",
       "      <td>7</td>\n",
       "    </tr>\n",
       "    <tr>\n",
       "      <th>Full-size</th>\n",
       "      <td>Civic Hatchback</td>\n",
       "      <td>2.0</td>\n",
       "      <td>4</td>\n",
       "      <td>M6</td>\n",
       "      <td>X</td>\n",
       "      <td>9.1</td>\n",
       "      <td>6.6</td>\n",
       "      <td>8.0</td>\n",
       "      <td>35</td>\n",
       "      <td>186</td>\n",
       "      <td>6</td>\n",
       "      <td>6</td>\n",
       "    </tr>\n",
       "    <tr>\n",
       "      <th>Full-size</th>\n",
       "      <td>Civic Type R</td>\n",
       "      <td>2.0</td>\n",
       "      <td>4</td>\n",
       "      <td>M6</td>\n",
       "      <td>Z</td>\n",
       "      <td>10.8</td>\n",
       "      <td>8.3</td>\n",
       "      <td>9.7</td>\n",
       "      <td>29</td>\n",
       "      <td>224</td>\n",
       "      <td>5</td>\n",
       "      <td>6</td>\n",
       "    </tr>\n",
       "  </tbody>\n",
       "</table>\n",
       "</div>"
      ],
      "text/plain": [
       "                               Model  Engine Size (L)  Cylinders Transmission  \\\n",
       "Make  Vehicle Class                                                             \n",
       "Honda Full-size               Accord              1.5          4           AV   \n",
       "      Full-size      Civic Hatchback              1.5          4          AV7   \n",
       "      Full-size      Civic Hatchback              1.5          4           M6   \n",
       "      Full-size      Civic Hatchback              2.0          4           AV   \n",
       "      Full-size      Civic Hatchback              2.0          4           M6   \n",
       "      Full-size         Civic Type R              2.0          4           M6   \n",
       "\n",
       "                    Fuel Type  Fuel Consumption City (L/100 km)  \\\n",
       "Make  Vehicle Class                                               \n",
       "Honda Full-size             X                               8.1   \n",
       "      Full-size             X                               7.7   \n",
       "      Full-size             X                               8.5   \n",
       "      Full-size             X                               8.0   \n",
       "      Full-size             X                               9.1   \n",
       "      Full-size             Z                              10.8   \n",
       "\n",
       "                     Fuel Consumption Hwy (L/100 km)  \\\n",
       "Make  Vehicle Class                                    \n",
       "Honda Full-size                                  6.4   \n",
       "      Full-size                                  6.3   \n",
       "      Full-size                                  6.3   \n",
       "      Full-size                                  6.2   \n",
       "      Full-size                                  6.6   \n",
       "      Full-size                                  8.3   \n",
       "\n",
       "                     Fuel Consumption Comb (L/100 km)  \\\n",
       "Make  Vehicle Class                                     \n",
       "Honda Full-size                                   7.3   \n",
       "      Full-size                                   7.1   \n",
       "      Full-size                                   7.5   \n",
       "      Full-size                                   7.2   \n",
       "      Full-size                                   8.0   \n",
       "      Full-size                                   9.7   \n",
       "\n",
       "                     Fuel Consumption Comb (mpg)  CO2 Emissions (g/km)  \\\n",
       "Make  Vehicle Class                                                      \n",
       "Honda Full-size                               39                   171   \n",
       "      Full-size                               40                   166   \n",
       "      Full-size                               38                   175   \n",
       "      Full-size                               39                   167   \n",
       "      Full-size                               35                   186   \n",
       "      Full-size                               29                   224   \n",
       "\n",
       "                     CO2 Rating  Smog Rating  \n",
       "Make  Vehicle Class                           \n",
       "Honda Full-size               6            7  \n",
       "      Full-size               6            7  \n",
       "      Full-size               6            6  \n",
       "      Full-size               6            7  \n",
       "      Full-size               6            6  \n",
       "      Full-size               5            6  "
      ]
     },
     "execution_count": 28,
     "metadata": {},
     "output_type": "execute_result"
    }
   ],
   "source": [
    "# Can cross section using multiple levels\n",
    "emissions.xs((\"Full-size\", \"Honda\"), level=(\"Vehicle Class\", \"Make\"))"
   ]
  },
  {
   "cell_type": "code",
   "execution_count": 29,
   "id": "d1628158",
   "metadata": {},
   "outputs": [
    {
     "data": {
      "application/vnd.microsoft.datawrangler.viewer.v0+json": {
       "columns": [
        {
         "name": "Cylinders",
         "rawType": "int64",
         "type": "integer"
        },
        {
         "name": "Engine Size (L)",
         "rawType": "float64",
         "type": "float"
        },
        {
         "name": "Fuel Consumption City (L/100 km)",
         "rawType": "float64",
         "type": "float"
        },
        {
         "name": "Fuel Consumption Hwy (L/100 km)",
         "rawType": "float64",
         "type": "float"
        },
        {
         "name": "Fuel Consumption Comb (L/100 km)",
         "rawType": "float64",
         "type": "float"
        },
        {
         "name": "Fuel Consumption Comb (mpg)",
         "rawType": "float64",
         "type": "float"
        },
        {
         "name": "CO2 Emissions (g/km)",
         "rawType": "float64",
         "type": "float"
        },
        {
         "name": "CO2 Rating",
         "rawType": "float64",
         "type": "float"
        },
        {
         "name": "Smog Rating",
         "rawType": "float64",
         "type": "float"
        }
       ],
       "conversionMethod": "pd.DataFrame",
       "ref": "9fa6b5e4-b96e-4c47-b630-6e4b27fe050e",
       "rows": [
        [
         "4",
         "1.935",
         "8.83",
         "6.695",
         "7.88",
         "36.45",
         "184.7",
         "5.85",
         "6.15"
        ],
        [
         "6",
         "3.309090909090909",
         "13.29090909090909",
         "8.845454545454546",
         "11.290909090909091",
         "25.09090909090909",
         "264.27272727272725",
         "4.363636363636363",
         "4.545454545454546"
        ],
        [
         "8",
         "5.181818181818182",
         "15.69090909090909",
         "9.954545454545455",
         "13.118181818181819",
         "21.818181818181817",
         "307.1818181818182",
         "3.727272727272727",
         "2.6363636363636362"
        ],
        [
         "12",
         "6.7",
         "20.02",
         "12.86",
         "16.82",
         "17.0",
         "391.6",
         "2.0",
         "3.0"
        ]
       ],
       "shape": {
        "columns": 8,
        "rows": 4
       }
      },
      "text/html": [
       "<div>\n",
       "<style scoped>\n",
       "    .dataframe tbody tr th:only-of-type {\n",
       "        vertical-align: middle;\n",
       "    }\n",
       "\n",
       "    .dataframe tbody tr th {\n",
       "        vertical-align: top;\n",
       "    }\n",
       "\n",
       "    .dataframe thead th {\n",
       "        text-align: right;\n",
       "    }\n",
       "</style>\n",
       "<table border=\"1\" class=\"dataframe\">\n",
       "  <thead>\n",
       "    <tr style=\"text-align: right;\">\n",
       "      <th></th>\n",
       "      <th>Engine Size (L)</th>\n",
       "      <th>Fuel Consumption City (L/100 km)</th>\n",
       "      <th>Fuel Consumption Hwy (L/100 km)</th>\n",
       "      <th>Fuel Consumption Comb (L/100 km)</th>\n",
       "      <th>Fuel Consumption Comb (mpg)</th>\n",
       "      <th>CO2 Emissions (g/km)</th>\n",
       "      <th>CO2 Rating</th>\n",
       "      <th>Smog Rating</th>\n",
       "    </tr>\n",
       "    <tr>\n",
       "      <th>Cylinders</th>\n",
       "      <th></th>\n",
       "      <th></th>\n",
       "      <th></th>\n",
       "      <th></th>\n",
       "      <th></th>\n",
       "      <th></th>\n",
       "      <th></th>\n",
       "      <th></th>\n",
       "    </tr>\n",
       "  </thead>\n",
       "  <tbody>\n",
       "    <tr>\n",
       "      <th>4</th>\n",
       "      <td>1.935000</td>\n",
       "      <td>8.830000</td>\n",
       "      <td>6.695000</td>\n",
       "      <td>7.880000</td>\n",
       "      <td>36.450000</td>\n",
       "      <td>184.700000</td>\n",
       "      <td>5.850000</td>\n",
       "      <td>6.150000</td>\n",
       "    </tr>\n",
       "    <tr>\n",
       "      <th>6</th>\n",
       "      <td>3.309091</td>\n",
       "      <td>13.290909</td>\n",
       "      <td>8.845455</td>\n",
       "      <td>11.290909</td>\n",
       "      <td>25.090909</td>\n",
       "      <td>264.272727</td>\n",
       "      <td>4.363636</td>\n",
       "      <td>4.545455</td>\n",
       "    </tr>\n",
       "    <tr>\n",
       "      <th>8</th>\n",
       "      <td>5.181818</td>\n",
       "      <td>15.690909</td>\n",
       "      <td>9.954545</td>\n",
       "      <td>13.118182</td>\n",
       "      <td>21.818182</td>\n",
       "      <td>307.181818</td>\n",
       "      <td>3.727273</td>\n",
       "      <td>2.636364</td>\n",
       "    </tr>\n",
       "    <tr>\n",
       "      <th>12</th>\n",
       "      <td>6.700000</td>\n",
       "      <td>20.020000</td>\n",
       "      <td>12.860000</td>\n",
       "      <td>16.820000</td>\n",
       "      <td>17.000000</td>\n",
       "      <td>391.600000</td>\n",
       "      <td>2.000000</td>\n",
       "      <td>3.000000</td>\n",
       "    </tr>\n",
       "  </tbody>\n",
       "</table>\n",
       "</div>"
      ],
      "text/plain": [
       "           Engine Size (L)  Fuel Consumption City (L/100 km)  \\\n",
       "Cylinders                                                      \n",
       "4                 1.935000                          8.830000   \n",
       "6                 3.309091                         13.290909   \n",
       "8                 5.181818                         15.690909   \n",
       "12                6.700000                         20.020000   \n",
       "\n",
       "           Fuel Consumption Hwy (L/100 km)  Fuel Consumption Comb (L/100 km)  \\\n",
       "Cylinders                                                                      \n",
       "4                                 6.695000                          7.880000   \n",
       "6                                 8.845455                         11.290909   \n",
       "8                                 9.954545                         13.118182   \n",
       "12                               12.860000                         16.820000   \n",
       "\n",
       "           Fuel Consumption Comb (mpg)  CO2 Emissions (g/km)  CO2 Rating  \\\n",
       "Cylinders                                                                  \n",
       "4                            36.450000            184.700000    5.850000   \n",
       "6                            25.090909            264.272727    4.363636   \n",
       "8                            21.818182            307.181818    3.727273   \n",
       "12                           17.000000            391.600000    2.000000   \n",
       "\n",
       "           Smog Rating  \n",
       "Cylinders               \n",
       "4             6.150000  \n",
       "6             4.545455  \n",
       "8             2.636364  \n",
       "12            3.000000  "
      ]
     },
     "execution_count": 29,
     "metadata": {},
     "output_type": "execute_result"
    }
   ],
   "source": [
    "# Aggregation on cross sections\n",
    "emissions.xs(\"Full-size\", level=\"Vehicle Class\").groupby(\"Cylinders\").mean(numeric_only=True)"
   ]
  },
  {
   "cell_type": "code",
   "execution_count": null,
   "id": "888b3d6e",
   "metadata": {},
   "outputs": [],
   "source": []
  }
 ],
 "metadata": {
  "kernelspec": {
   "display_name": "Python 3",
   "language": "python",
   "name": "python3"
  },
  "language_info": {
   "codemirror_mode": {
    "name": "ipython",
    "version": 3
   },
   "file_extension": ".py",
   "mimetype": "text/x-python",
   "name": "python",
   "nbconvert_exporter": "python",
   "pygments_lexer": "ipython3",
   "version": "3.12.5"
  }
 },
 "nbformat": 4,
 "nbformat_minor": 5
}
