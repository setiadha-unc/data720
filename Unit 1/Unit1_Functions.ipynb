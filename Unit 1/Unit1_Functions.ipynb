{
 "cells": [
  {
   "cell_type": "markdown",
   "id": "c4230680-ba23-4630-bdcc-5cf607c2c436",
   "metadata": {},
   "source": [
    "# Grading: x of 3 correct\n",
    "- [x] Takes string\n",
    "- [x] Returns Boolean\n",
    "- [x] Tested on inputs from strings quiz"
   ]
  },
  {
   "cell_type": "markdown",
   "id": "79b9b181-ebe4-49aa-ae71-0bd72176b056",
   "metadata": {},
   "source": [
    "## Unit 1 Functions Quiz\n",
    "* The objective of this quiz is for you to write a function called `palindrome` that implements the palindorme checker that you wrote earlier as a function.\n",
    "    * `palindrome` takes a single input that is a string\n",
    "    * `palindrome` returns a single output that is a Boolean.\n",
    "* Test the `palindrome` function with the same inputs that you used with the previous quiz."
   ]
  },
  {
   "cell_type": "code",
   "execution_count": 1,
   "id": "53aeda80-8714-47eb-b914-76c37e7858ac",
   "metadata": {},
   "outputs": [],
   "source": [
    "# Write your code here for the palidrome function here.\n",
    "def isPalindromes(myString):\n",
    "  '''Function to check if the string is palindrome'''\n",
    "  stringOne = myString.lower()\n",
    "  stringTwo = stringOne[-1::-1]\n",
    "\n",
    "  return stringOne == stringTwo\n"
   ]
  },
  {
   "cell_type": "code",
   "execution_count": 2,
   "id": "79112d3d-c6af-405b-b8f4-cc54aeedfa84",
   "metadata": {},
   "outputs": [
    {
     "name": "stdout",
     "output_type": "stream",
     "text": [
      "is 'Madam' palindromes? True\n",
      "is 'madam' palindromes? True\n",
      "is 'was it a car or a cat I saw' palindromes? False\n",
      "is 'ThesiS' palindromes? False\n",
      "is 'Be a TarHeel' palindromes? False\n"
     ]
    }
   ],
   "source": [
    "# Write the code here for testing the palindrome function.\n",
    "\n",
    "print(f\"is 'Madam' palindromes? {isPalindromes(\"Madam\")}\")\n",
    "print(f\"is 'madam' palindromes? {isPalindromes(\"madam\")}\")\n",
    "print(f\"is 'was it a car or a cat I saw' palindromes? {isPalindromes(\"was it a car or a cat I saw\")}\")\n",
    "print(f\"is 'ThesiS' palindromes? {isPalindromes(\"ThesiS\")}\")\n",
    "print(f\"is 'Be a TarHeel' palindromes? {isPalindromes(\"Be a TarHeel\")}\")"
   ]
  },
  {
   "cell_type": "code",
   "execution_count": null,
   "id": "c76bdb46",
   "metadata": {},
   "outputs": [],
   "source": []
  }
 ],
 "metadata": {
  "kernelspec": {
   "display_name": "Python 3",
   "language": "python",
   "name": "python3"
  },
  "language_info": {
   "codemirror_mode": {
    "name": "ipython",
    "version": 3
   },
   "file_extension": ".py",
   "mimetype": "text/x-python",
   "name": "python",
   "nbconvert_exporter": "python",
   "pygments_lexer": "ipython3",
   "version": "3.12.5"
  }
 },
 "nbformat": 4,
 "nbformat_minor": 5
}
