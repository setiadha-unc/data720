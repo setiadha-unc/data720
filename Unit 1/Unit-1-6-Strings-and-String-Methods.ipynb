{
 "cells": [
  {
   "cell_type": "markdown",
   "id": "bda9e156-b057-4cb4-b032-ce8aa62bdc92",
   "metadata": {},
   "source": [
    "##### <img src=\"../SDSS-Logo.png\" style=\"display:inline; width:500px\" />\n",
    "\n",
    "\n",
    "# Learning Objectives\n",
    "1. Understand the string data types in Python.\n",
    "2. Understanding how to index and slice in Python\n",
    " "
   ]
  },
  {
   "cell_type": "markdown",
   "id": "ec7fbfb5-df7f-46c1-a1f2-4d63911f54fc",
   "metadata": {},
   "source": [
    "## strings in Python are used to hold a sequence of characters\n",
    "### The sequence of characters can be enclosed in single quotes (') or double quotes (\"), but the two ends must match\n"
   ]
  },
  {
   "cell_type": "code",
   "execution_count": 1,
   "id": "3c674413-ab2e-44c3-b9f1-0cd04adc5064",
   "metadata": {
    "tags": []
   },
   "outputs": [
    {
     "data": {
      "text/plain": [
       "'Creating a string'"
      ]
     },
     "execution_count": 1,
     "metadata": {},
     "output_type": "execute_result"
    }
   ],
   "source": [
    "## Strings\n",
    "\"Creating a string\""
   ]
  },
  {
   "cell_type": "code",
   "execution_count": 2,
   "id": "5d136231-e3bd-4d84-a80d-e067ae4a18cd",
   "metadata": {
    "tags": []
   },
   "outputs": [
    {
     "data": {
      "text/plain": [
       "'Another string'"
      ]
     },
     "execution_count": 2,
     "metadata": {},
     "output_type": "execute_result"
    }
   ],
   "source": [
    "## Single quotes work also\n",
    "'Another string'"
   ]
  },
  {
   "cell_type": "code",
   "execution_count": null,
   "id": "a96cfb0c-a53f-41da-bd8d-5d638cf51d46",
   "metadata": {
    "tags": []
   },
   "outputs": [
    {
     "ename": "SyntaxError",
     "evalue": "unterminated string literal (detected at line 2) (519509423.py, line 2)",
     "output_type": "error",
     "traceback": [
      "\u001b[1;36m  Cell \u001b[1;32mIn[3], line 2\u001b[1;36m\u001b[0m\n\u001b[1;33m    \"Not a string'\u001b[0m\n\u001b[1;37m    ^\u001b[0m\n\u001b[1;31mSyntaxError\u001b[0m\u001b[1;31m:\u001b[0m unterminated string literal (detected at line 2)\n"
     ]
    },
    {
     "ename": "",
     "evalue": "",
     "output_type": "error",
     "traceback": [
      "\u001b[1;31mThe Kernel crashed while executing code in the current cell or a previous cell. \n",
      "\u001b[1;31mPlease review the code in the cell(s) to identify a possible cause of the failure. \n",
      "\u001b[1;31mClick <a href='https://aka.ms/vscodeJupyterKernelCrash'>here</a> for more info. \n",
      "\u001b[1;31mView Jupyter <a href='command:jupyter.viewOutput'>log</a> for further details."
     ]
    }
   ],
   "source": [
    "# But the two sides should match\n",
    "\"Not a string'"
   ]
  },
  {
   "cell_type": "markdown",
   "id": "8c697726-70e9-4ac7-bc38-f7dd6ccc3dfa",
   "metadata": {},
   "source": [
    "## Triple `\"` or `'` can be used to create strings.\n",
    "### This is useful for block strings\n",
    "### And is frequently used as a docstring to describe what a function does"
   ]
  },
  {
   "cell_type": "code",
   "execution_count": null,
   "id": "58a3d526-a4df-4848-b12d-f525354d9932",
   "metadata": {
    "tags": []
   },
   "outputs": [
    {
     "name": "stdout",
     "output_type": "stream",
     "text": [
      "It is wonderful\n",
      "to be a TarHeel\n"
     ]
    }
   ],
   "source": [
    "x = \"\"\"It is wonderful\n",
    "to be a TarHeel\"\"\"\n",
    "print(x)"
   ]
  },
  {
   "cell_type": "markdown",
   "id": "15cb5a7a-624b-45eb-9764-f60499552446",
   "metadata": {
    "tags": []
   },
   "source": [
    "## You can check the type of a string"
   ]
  },
  {
   "cell_type": "code",
   "execution_count": null,
   "id": "a0394f6b-556d-4113-bed3-388cf2a6f751",
   "metadata": {
    "tags": []
   },
   "outputs": [
    {
     "data": {
      "text/plain": [
       "str"
      ]
     },
     "execution_count": 9,
     "metadata": {},
     "output_type": "execute_result"
    }
   ],
   "source": [
    "# Check string type\n",
    "type('Yet another string')"
   ]
  },
  {
   "cell_type": "markdown",
   "id": "668608ad-48e3-4e48-a147-97d1fc0a9e8d",
   "metadata": {},
   "source": [
    "## Addition operator on strings\n",
    "\n",
    "You can use the add operator between strings.\n",
    "This is very useful as it **concatenates** the two strings.\n",
    "\n",
    "Let's add `'Hello' + 'World'` and assign it to variable y.\n",
    "Let's make variable z have the value `'Hello ' + 'World'`. Note that compared to y, z has a blank after `Hello`.\n",
    "\n",
    "Let's print out y and z using the `print` function."
   ]
  },
  {
   "cell_type": "code",
   "execution_count": null,
   "id": "7f0e421b-0336-4ebd-9b5c-176d3695923b",
   "metadata": {
    "tags": []
   },
   "outputs": [
    {
     "name": "stdout",
     "output_type": "stream",
     "text": [
      "y= HelloWorld\n",
      "z= Hello World\n"
     ]
    }
   ],
   "source": [
    "y = \"Hello\" + \"World\"\n",
    "z = \"Hello \" + \"World\"\n",
    "\n",
    "print('y=', y)\n",
    "print('z=', z)"
   ]
  },
  {
   "cell_type": "markdown",
   "id": "7d394149-050a-496e-a1d8-ddc90010b8eb",
   "metadata": {},
   "source": [
    " ## Multiplication operator on strings\n",
    "You can even multiply a string by an integer.\n",
    "This is very useful if you need to make a string a defined length or copy a string.\n",
    "\n",
    "Think if you had to make a string of 100 blanks.\n",
    "What about a thousand blanks!\n",
    "\n",
    "See what happens when you type `y * 3` in the cell below."
   ]
  },
  {
   "cell_type": "code",
   "execution_count": null,
   "id": "5ebc65a7-1e23-42ae-9a4c-88d32db70fa6",
   "metadata": {
    "tags": []
   },
   "outputs": [
    {
     "data": {
      "text/plain": [
       "'HelloWorldHelloWorldHelloWorld'"
      ]
     },
     "execution_count": 7,
     "metadata": {},
     "output_type": "execute_result"
    }
   ],
   "source": [
    "y * 3"
   ]
  },
  {
   "cell_type": "markdown",
   "id": "31fcb492-57b5-4e0f-93c0-a450b9b1d2e3",
   "metadata": {},
   "source": [
    "## Length of a string\n",
    "In many cases, it is useful to know how many characters there are in a string. This is called the length of the string. <br>\n",
    "\n",
    "In python, you can use the `len` built-in function to find the number of characters (or length) of a string.\n",
    "To read more, click on this link, [`len`](https://www.w3schools.com/python/ref_func_len.asp).  \n",
    "\n",
    "In the cell below, let us calculate the length of variable `y`."
   ]
  },
  {
   "cell_type": "code",
   "execution_count": null,
   "id": "7a9983ff-95a4-4af2-b4c9-085109b09206",
   "metadata": {
    "tags": []
   },
   "outputs": [
    {
     "data": {
      "text/plain": [
       "10"
      ]
     },
     "execution_count": 8,
     "metadata": {},
     "output_type": "execute_result"
    }
   ],
   "source": [
    "len(y)"
   ]
  },
  {
   "cell_type": "markdown",
   "id": "faca1284-6a04-4185-80f0-362fbad8518c",
   "metadata": {},
   "source": [
    "# Indexing\n",
    "### A string is an example of a Python object that is made up of a number of other objects (in this characters) in a specified sequence.\n",
    "### There are many Python objects like that, as we will see.\n",
    "### An important thing to learn is how to access pieces of such objects - this comes up again and again.\n",
    "### This is done using **indexing**."
   ]
  },
  {
   "cell_type": "markdown",
   "id": "c273f3c8-7a24-46ed-a7fb-5e253ccfda7a",
   "metadata": {},
   "source": [
    "### The first character in a string has the index 0, the next character has index 1 etc.\n",
    "\n",
    "Now, what if we want just the first letter of the string \"Hello World\" which is stored in variable `x`?\n",
    "\n",
    "The square brackets are the notation used to reference the individual letters of the string.\n",
    "The integer within the brackets is the **index**.\n",
    "\n",
    "Remember that tidy computer scientists count from zero, so to reference the first character of a string\n",
    "use the integer 0.\n",
    "The first character of a string `x` is `x[0]`.\n",
    "The second character of a string `x` is `x[1]` and so on."
   ]
  },
  {
   "cell_type": "code",
   "execution_count": null,
   "id": "f096da7c-4c06-4e6f-9a9b-8e39fa91267c",
   "metadata": {
    "tags": []
   },
   "outputs": [
    {
     "data": {
      "text/plain": [
       "'M'"
      ]
     },
     "execution_count": 9,
     "metadata": {},
     "output_type": "execute_result"
    }
   ],
   "source": [
    "x = 'My string'\n",
    "x[0]"
   ]
  },
  {
   "cell_type": "code",
   "execution_count": null,
   "id": "e9299b12-8094-4c2a-b0d8-9700ade6c098",
   "metadata": {
    "tags": []
   },
   "outputs": [
    {
     "data": {
      "text/plain": [
       "'y'"
      ]
     },
     "execution_count": 10,
     "metadata": {},
     "output_type": "execute_result"
    }
   ],
   "source": [
    "x[1]"
   ]
  },
  {
   "cell_type": "markdown",
   "id": "16a8466d-e69e-4f72-8f3b-8750ac13569e",
   "metadata": {},
   "source": [
    "### Since there are `len(x)` characters in the string `x` and we start indexing with 0, the index of the last chatacter is `len(x) - 1`"
   ]
  },
  {
   "cell_type": "code",
   "execution_count": null,
   "id": "d408771f-6c6c-47c5-a0d8-47d51418276a",
   "metadata": {
    "tags": []
   },
   "outputs": [
    {
     "data": {
      "text/plain": [
       "'g'"
      ]
     },
     "execution_count": 11,
     "metadata": {},
     "output_type": "execute_result"
    }
   ],
   "source": [
    "x[len(x) - 1]"
   ]
  },
  {
   "cell_type": "markdown",
   "id": "5c45ad58-3aa3-4228-960a-7b5e35c4d6d8",
   "metadata": {},
   "source": [
    "### What if we use an index larger than that?"
   ]
  },
  {
   "cell_type": "code",
   "execution_count": null,
   "id": "983149a6-347b-4f5f-8ac6-78b1b16a8122",
   "metadata": {
    "tags": []
   },
   "outputs": [
    {
     "ename": "IndexError",
     "evalue": "string index out of range",
     "output_type": "error",
     "traceback": [
      "\u001b[0;31m---------------------------------------------------------------------------\u001b[0m",
      "\u001b[0;31mIndexError\u001b[0m                                Traceback (most recent call last)",
      "Cell \u001b[0;32mIn[12], line 1\u001b[0m\n\u001b[0;32m----> 1\u001b[0m \u001b[43mx\u001b[49m\u001b[43m[\u001b[49m\u001b[38;5;28;43mlen\u001b[39;49m\u001b[43m(\u001b[49m\u001b[43mx\u001b[49m\u001b[43m)\u001b[49m\u001b[43m \u001b[49m\u001b[38;5;241;43m+\u001b[39;49m\u001b[43m \u001b[49m\u001b[38;5;241;43m2\u001b[39;49m\u001b[43m]\u001b[49m\n",
      "\u001b[0;31mIndexError\u001b[0m: string index out of range"
     ]
    }
   ],
   "source": [
    "x[len(x) + 2]"
   ]
  },
  {
   "cell_type": "markdown",
   "id": "999eca85-7363-4755-b2a2-41669e151451",
   "metadata": {},
   "source": [
    "### What if you use a negative index?"
   ]
  },
  {
   "cell_type": "code",
   "execution_count": null,
   "id": "bd3920c6-ca77-4649-b12c-b7840eda619b",
   "metadata": {
    "tags": []
   },
   "outputs": [
    {
     "data": {
      "text/plain": [
       "'g'"
      ]
     },
     "execution_count": 12,
     "metadata": {},
     "output_type": "execute_result"
    }
   ],
   "source": [
    "x[-1]"
   ]
  },
  {
   "cell_type": "markdown",
   "id": "71c15e79-aee5-4388-9978-7038c926b366",
   "metadata": {},
   "source": [
    "### Surprisingly, negative integers can also index a single character in a string\n",
    "\n",
    "`x[-1]` is the last character of the string x.\n",
    "`x[-2]` is the next-to-last character of x. <br>\n",
    "And so, `x[-len(x)]` is the first character of the string x.\n",
    "<br>\n",
    "<br>"
   ]
  },
  {
   "cell_type": "code",
   "execution_count": null,
   "id": "34ccb10a-cd0e-4690-a357-4576340b3374",
   "metadata": {
    "tags": []
   },
   "outputs": [
    {
     "name": "stdout",
     "output_type": "stream",
     "text": [
      "l\n",
      "e\n",
      "e\n",
      "t\n",
      "I\n"
     ]
    }
   ],
   "source": [
    "print(x[-1])\n",
    "print(x[-2])\n",
    "print(x[-3])\n",
    "\n",
    "\n",
    "print(x[-len(x) + 1])\n",
    "print(x[-len(x)])"
   ]
  },
  {
   "cell_type": "markdown",
   "id": "d7d3e9aa-b797-472c-8082-769d37412c0a",
   "metadata": {},
   "source": [
    "### Too far negative will also lead to an index error"
   ]
  },
  {
   "cell_type": "code",
   "execution_count": null,
   "id": "89464e51-3fac-43d0-984f-dc7d2e391227",
   "metadata": {
    "tags": []
   },
   "outputs": [
    {
     "ename": "IndexError",
     "evalue": "string index out of range",
     "output_type": "error",
     "traceback": [
      "\u001b[1;31m---------------------------------------------------------------------------\u001b[0m",
      "\u001b[1;31mIndexError\u001b[0m                                Traceback (most recent call last)",
      "Cell \u001b[1;32mIn[14], line 1\u001b[0m\n\u001b[1;32m----> 1\u001b[0m \u001b[43mx\u001b[49m\u001b[43m[\u001b[49m\u001b[38;5;241;43m-\u001b[39;49m\u001b[38;5;241;43m25\u001b[39;49m\u001b[43m]\u001b[49m\n",
      "\u001b[1;31mIndexError\u001b[0m: string index out of range"
     ]
    }
   ],
   "source": [
    "x[-25]"
   ]
  },
  {
   "cell_type": "markdown",
   "id": "d3496311-03a0-41c0-8e98-6bf86c80ed7c",
   "metadata": {},
   "source": [
    "### Putting all this indexing stuff together\n",
    "To reference a letter of the string, $x$,\n",
    "use a positive integer that is between 0 and (1 less than the length of the string, $len(x)$). Or to index backwards, use a negative number between -1 and -len(x).\n",
    "So valid indexes are from $-len(x)$ to $len(x)-1$.  <br><br>\n",
    " $ x[n] = \\begin{cases}\n",
    "IndexError, & n \\ge len(x),\\\\   \n",
    "(n+1)^{th} \\space character \\space of \\space x, & 0 \\le n  \\le len(x)-1, \\\\\n",
    "(len(x) + n +1)^{th} \\space character \\space of \\space x, & -len(x) \\le n \\le -1,  \\\\\n",
    "IndexError, & n < -len(x)\\\\  \n",
    "\\end{cases}$  <br><br>\n"
   ]
  },
  {
   "cell_type": "markdown",
   "id": "f428bc2e-8ec0-477d-99e4-ae290cc64338",
   "metadata": {},
   "source": [
    "# Slicing\n",
    "### What if you want to access subsets of the string as opposed to just single characters?\n",
    "### This is where slicing using the indexes comes in.\n",
    "\n",
    "### To access a portion of the string starting from index `i1` to index `i2-1`, put the two indexes separated by a `:` within the square brackets.\n",
    "\n",
    "### For example, to access from index 1 to index 3, you will say `x[1:4]`"
   ]
  },
  {
   "cell_type": "code",
   "execution_count": null,
   "id": "c54d772f-9eae-47e2-947b-1ae30cd3f72e",
   "metadata": {
    "tags": []
   },
   "outputs": [
    {
     "data": {
      "text/plain": [
       "'ons'"
      ]
     },
     "execution_count": 12,
     "metadata": {},
     "output_type": "execute_result"
    }
   ],
   "source": [
    "x = \"Consider this string here\"\n",
    "x[1:4]"
   ]
  },
  {
   "cell_type": "markdown",
   "id": "7c0781b3-dd3d-451e-9dbc-22a34e172794",
   "metadata": {},
   "source": [
    "## In general you can slice using `start-index:stop-index:step-size`, where step-size is how much to increment between indexes.\n",
    "\n",
    "### For example, to get the 1st, 3rd, 5th and 7th characters, use `x[0:8:2]`"
   ]
  },
  {
   "cell_type": "code",
   "execution_count": null,
   "id": "c62bb2b1-5512-41b8-a3ad-611034dfb262",
   "metadata": {
    "tags": []
   },
   "outputs": [
    {
     "data": {
      "text/plain": [
       "'osdr'"
      ]
     },
     "execution_count": 13,
     "metadata": {},
     "output_type": "execute_result"
    }
   ],
   "source": [
    "x = \"Consider this string here\"\n",
    "x[1:8:2]"
   ]
  },
  {
   "cell_type": "markdown",
   "id": "667a1359-4eb6-46d9-a99e-93eed21411c0",
   "metadata": {},
   "source": [
    "### You can use negative indexes while slicing, as well as negative step sizes.\n",
    "### See if you can understand why the output is what you get below."
   ]
  },
  {
   "cell_type": "code",
   "execution_count": null,
   "id": "86899a2b-8b95-4fa2-8767-924c24505267",
   "metadata": {
    "tags": []
   },
   "outputs": [
    {
     "name": "stdout",
     "output_type": "stream",
     "text": [
      "her\n"
     ]
    }
   ],
   "source": [
    "print(x[-4:-1])"
   ]
  },
  {
   "cell_type": "code",
   "execution_count": null,
   "id": "a55f1a4a-cad6-4cd2-b85a-9660068b005c",
   "metadata": {
    "tags": []
   },
   "outputs": [
    {
     "name": "stdout",
     "output_type": "stream",
     "text": [
      "here\n"
     ]
    }
   ],
   "source": [
    "print(x[-4::])"
   ]
  },
  {
   "cell_type": "code",
   "execution_count": null,
   "id": "3b39b2d5-86f3-42a4-a912-adeace77603c",
   "metadata": {
    "tags": []
   },
   "outputs": [
    {
     "name": "stdout",
     "output_type": "stream",
     "text": [
      "ee nrssh einC\n"
     ]
    }
   ],
   "source": [
    "print(x[-1::-2])"
   ]
  },
  {
   "cell_type": "code",
   "execution_count": null,
   "id": "404ab9dc-7534-4d7f-aad3-3080de3136ea",
   "metadata": {
    "tags": []
   },
   "outputs": [
    {
     "name": "stdout",
     "output_type": "stream",
     "text": [
      "ereh gnirts siht redisnoC\n"
     ]
    }
   ],
   "source": [
    "# Reverse a string? Why does this work?\n",
    "print(x[-1::-1])"
   ]
  },
  {
   "cell_type": "markdown",
   "id": "9e02e3b3-6ef0-4f5b-9675-b8a2f6726281",
   "metadata": {},
   "source": [
    "# String Methods\n",
    "## Everything in Python is an object.\n",
    "### Objects have associated attributes.\n",
    "### There are two types of attributes to an object:\n",
    "- Data attributes\n",
    "- Methods\n",
    "<br>\n",
    "<br>\n",
    "\n",
    "## Strings have a number of [useful methods](https://docs.python.org/3/library/stdtypes.html#string-methods) that can be used for string processing.\n"
   ]
  },
  {
   "cell_type": "markdown",
   "id": "8143315a-8970-4238-b6bc-8ca34e631133",
   "metadata": {},
   "source": [
    "### We will not look at all of the string methods here, you can look them as you need them.\n",
    "\n",
    "Instead, let us look at some simple string problems and see how string methds are useful.\n",
    "\n",
    "Let us start with defining a string that we will use."
   ]
  },
  {
   "cell_type": "code",
   "execution_count": null,
   "id": "81bfd684-3862-4f5d-8a47-a16719c8ed05",
   "metadata": {
    "tags": []
   },
   "outputs": [],
   "source": [
    "my_string = '''\n",
    "When Katrina Morgan explains to people that she studies math as a doctoral candidate in the College of Arts & Sciences,\n",
    "they often respond unfavorably, saying they just “aren’t a math person\".\n",
    "“You wouldn’t just say, “Oh, I’m not a history person,’” Morgan said.\n",
    "She argues that mathematics is a field where people decide whether they are or are not fit for the field very early in their academic careers.\n",
    "This is especially true for girls because there is less representation of women in mathematics, Morgan explained.\n",
    "In 2016, Morgan, along with fellow doctoral student Francesca Bernardi,\n",
    "set out to change that by founding Girls Talk Math, which invites high school girls from North Carolina\n",
    "to UNC-Chapel Hill to participate in a two-week day camp that explores mathematical concepts.\n",
    "'''"
   ]
  },
  {
   "cell_type": "markdown",
   "id": "cea4d586-19c4-4a4b-a8cd-2dca2a62f094",
   "metadata": {},
   "source": [
    "### The `find()` method can be used to find a substring within a string. It returns the index of the start of the substring\n",
    "### if it found, and -1 otherwise.\n",
    "\n",
    "Let us see if we find some substrings in `my_string`."
   ]
  },
  {
   "cell_type": "code",
   "execution_count": null,
   "id": "fd68a8b5-f889-46f1-9d57-086a83c20392",
   "metadata": {
    "tags": []
   },
   "outputs": [
    {
     "name": "stdout",
     "output_type": "stream",
     "text": [
      "Index of math is 57\n"
     ]
    }
   ],
   "source": [
    "substring = 'math'\n",
    "print(f\"Index of {substring} is {my_string.find(substring)}\")"
   ]
  },
  {
   "cell_type": "markdown",
   "id": "a9eb9a93-4190-48a5-9e6d-f6689543c806",
   "metadata": {},
   "source": [
    "### The `count()` method counts how many times a given substring occurs within the string."
   ]
  },
  {
   "cell_type": "code",
   "execution_count": null,
   "id": "57f265d5-650a-44eb-a600-e1e9aeb4a3df",
   "metadata": {
    "tags": []
   },
   "outputs": [
    {
     "name": "stdout",
     "output_type": "stream",
     "text": [
      "math occurs 5 times\n"
     ]
    }
   ],
   "source": [
    "print(f\"{substring} occurs {my_string.count(substring)} times\")"
   ]
  },
  {
   "cell_type": "markdown",
   "id": "990b8c8e-e1ef-4575-98c1-b54c380cd5ba",
   "metadata": {},
   "source": [
    "## Find the second sentence in `my_string`\n",
    "\n",
    "- We assume that each sentence ends in a period `.`\n",
    "- We can use `find()` to the index of the first `.`, `first_index`\n",
    "- We can use `find()` again to get the index of the second '.', `second_index`\n",
    "- The second sentence hen stretches from `first_index` to `second_index`."
   ]
  },
  {
   "cell_type": "code",
   "execution_count": null,
   "id": "3d94fa80-44e4-4a51-a104-3a8b3e3d83a8",
   "metadata": {
    "tags": []
   },
   "outputs": [
    {
     "name": "stdout",
     "output_type": "stream",
     "text": [
      "Second sentence is \n",
      "“You wouldn’t just say, “Oh, I’m not a history person,’” Morgan said.\n"
     ]
    }
   ],
   "source": [
    "first_index = my_string.find('.')\n",
    "second_index = my_string.find('.', first_index + 1)\n",
    "print(f\"Second sentence is {my_string[first_index+1:second_index+1]}\")\n"
   ]
  },
  {
   "cell_type": "markdown",
   "id": "db8aa0ed-13a2-4536-89aa-aad9714d63e3",
   "metadata": {},
   "source": [
    "### Hmmm, why are we getting the second sentence on the next line?"
   ]
  },
  {
   "cell_type": "code",
   "execution_count": null,
   "id": "0d8ec705-c27e-417e-b102-416d7158eae9",
   "metadata": {
    "tags": []
   },
   "outputs": [
    {
     "data": {
      "text/plain": [
       "'\\n'"
      ]
     },
     "execution_count": 18,
     "metadata": {},
     "output_type": "execute_result"
    }
   ],
   "source": [
    "my_string[first_index+1]"
   ]
  },
  {
   "cell_type": "markdown",
   "id": "79b821a2-62db-4e6f-9e81-03eeef0a55bf",
   "metadata": {},
   "source": [
    "### Aah, it is becasuse the original string has a newline character.\n",
    "\n",
    "The string method `strip()` can help here"
   ]
  },
  {
   "cell_type": "code",
   "execution_count": null,
   "id": "41f942e0-45ab-4fe0-b9ba-cf6bfa7407d3",
   "metadata": {
    "tags": []
   },
   "outputs": [
    {
     "name": "stdout",
     "output_type": "stream",
     "text": [
      "Second sentence is “You wouldn’t just say, “Oh, I’m not a history person,’” Morgan said.\n"
     ]
    }
   ],
   "source": [
    "print(f\"Second sentence is {my_string[first_index+1:second_index+1].strip()}\")"
   ]
  },
  {
   "cell_type": "code",
   "execution_count": null,
   "id": "0385ddcd-723a-4b78-b74e-5c87f4dd5d21",
   "metadata": {},
   "outputs": [],
   "source": []
  }
 ],
 "metadata": {
  "kernelspec": {
   "display_name": "Python 3",
   "language": "python",
   "name": "python3"
  },
  "language_info": {
   "codemirror_mode": {
    "name": "ipython",
    "version": 3
   },
   "file_extension": ".py",
   "mimetype": "text/x-python",
   "name": "python",
   "nbconvert_exporter": "python",
   "pygments_lexer": "ipython3",
   "version": "3.12.5"
  }
 },
 "nbformat": 4,
 "nbformat_minor": 5
}
