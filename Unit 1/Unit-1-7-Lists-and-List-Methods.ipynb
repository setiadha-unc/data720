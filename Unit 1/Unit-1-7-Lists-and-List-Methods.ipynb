{
 "cells": [
  {
   "cell_type": "markdown",
   "id": "bda9e156-b057-4cb4-b032-ce8aa62bdc92",
   "metadata": {},
   "source": [
    "##### <img src=\"../SDSS-Logo.png\" style=\"display:inline; width:500px\" />\n",
    "\n",
    "\n",
    "# Learning Objectives\n",
    "1. Understand the list data type in Python.\n",
    "2. Difference between immutable and mutable data types in python.\n",
    "3. List methods.\n",
    " "
   ]
  },
  {
   "cell_type": "markdown",
   "id": "65f90ba4-58d3-4c6e-b8d0-667bd3a0b0bd",
   "metadata": {},
   "source": [
    "## Lists\n",
    "- Lists are similar but not identical to strings.\n",
    "   - They have a length\n",
    "   - You can select elements\n",
    "   - You can slice a list\n",
    "- Lists can hold an arbitrary collection of things\n",
    "    - strings can only hold characters\n",
    "- Lists are created by listing the \"things\" in it inside `[ ]` and separated by `,`s\n",
    " - Lists are different from strings because **you can update elements of a list**\n",
    "   - In computer science terminology, lists elements are mutable\n",
    " - Knowing lists and how to reference elements are important skills"
   ]
  },
  {
   "cell_type": "markdown",
   "id": "9892ceb4-8be4-4eb4-8f25-fb241cf8afc7",
   "metadata": {},
   "source": [
    "### Let's create an empty list\n",
    "\n",
    "You create a list using square brackets with elements separated by commas.\n",
    "So if you assign `[ ]` to a variable, you assign an empty list.  \n",
    "\n",
    "Assign the variable `empty_list` the value of an empty list\n"
   ]
  },
  {
   "cell_type": "code",
   "execution_count": 1,
   "id": "e2316b9a-bbe0-43fe-9624-88a5b0db0ddb",
   "metadata": {
    "tags": []
   },
   "outputs": [
    {
     "name": "stdout",
     "output_type": "stream",
     "text": [
      "The empty list is []\n"
     ]
    }
   ],
   "source": [
    "empty_list = []   \n",
    "print('The empty list is', empty_list)"
   ]
  },
  {
   "cell_type": "markdown",
   "id": "f8da63f5-c348-483c-bc32-f77db6856fa9",
   "metadata": {},
   "source": [
    "### Another way to create a list is to use the `list()` function \n"
   ]
  },
  {
   "cell_type": "code",
   "execution_count": 2,
   "id": "0c17df5b-c1b4-494d-90e3-75f3c99490d8",
   "metadata": {
    "tags": []
   },
   "outputs": [
    {
     "name": "stdout",
     "output_type": "stream",
     "text": [
      "Another empty list  []\n"
     ]
    }
   ],
   "source": [
    "# Create an empty list\n",
    "empty_list_2 = list()\n",
    "print('Another empty list ', empty_list_2)"
   ]
  },
  {
   "cell_type": "markdown",
   "id": "ca7151d7-f9e0-4c98-9ff9-d853d9a956a5",
   "metadata": {},
   "source": [
    "### Let's create a list of the first ten positive integers\n",
    "\n",
    "When you create a list, you separate the elements in the list by using commas.\n",
    "\n",
    "Assign the variable `first_ten_positive_integer_list` the list of the first ten positive integers"
   ]
  },
  {
   "cell_type": "code",
   "execution_count": 3,
   "id": "4f58652e-70b8-42bd-9c03-c24ec6a55eff",
   "metadata": {
    "tags": []
   },
   "outputs": [
    {
     "name": "stdout",
     "output_type": "stream",
     "text": [
      "The first ten postive integers are [1, 2, 3, 4, 5, 6, 7, 8, 9, 10]\n",
      "Another first ten postive integers are [range(1, 11)]\n"
     ]
    }
   ],
   "source": [
    "first_ten_positive_integer_list =  list(range(1,11)) \n",
    "print('The first ten postive integers are', first_ten_positive_integer_list)\n",
    "\n",
    "another_first_ten_integers = [range(1,11)]\n",
    "print('Another first ten postive integers are', another_first_ten_integers)"
   ]
  },
  {
   "cell_type": "markdown",
   "id": "bb4d046b-02b2-4b3f-bf9a-50af15586e97",
   "metadata": {},
   "source": [
    "### Look at the two cases above <html>&#11014;</html>, and see if you can understand why the outputs are different\n"
   ]
  },
  {
   "cell_type": "markdown",
   "id": "f6a8ae20-c6b2-4c2b-9be3-6c4655d86829",
   "metadata": {},
   "source": [
    "### Elements of a list can be addressed by their index, just like for strings\n",
    "\n",
    "- Remember, all good computer scientists count from zero.\n",
    "- So, the first element in a list has an offset, or index, of zero.\n",
    "<br>\n",
    "\n",
    "Assign the variable `at_index_five` to the element with index 5 within `first_ten_positive_integer_list`"
   ]
  },
  {
   "cell_type": "code",
   "execution_count": 4,
   "id": "9b9df504-7e59-4c54-b274-6855a9df4e31",
   "metadata": {
    "tags": []
   },
   "outputs": [
    {
     "name": "stdout",
     "output_type": "stream",
     "text": [
      "6\n"
     ]
    }
   ],
   "source": [
    "at_index_5 = first_ten_positive_integer_list[5]\n",
    "print(at_index_5)\n"
   ]
  },
  {
   "cell_type": "code",
   "execution_count": 5,
   "id": "5d90ff43-eee5-476f-b426-85815f00a54d",
   "metadata": {},
   "outputs": [
    {
     "name": "stdout",
     "output_type": "stream",
     "text": [
      "The element at offset five in the list is 6\n"
     ]
    }
   ],
   "source": [
    "offsetfive = first_ten_positive_integer_list[5]   \n",
    "print('The element at offset five in the list is', offsetfive)"
   ]
  },
  {
   "cell_type": "markdown",
   "id": "3992ff3a-e59d-4e59-a19a-4b9d751765ef",
   "metadata": {},
   "source": [
    "### lists can be sliced to get at subsets of the list, just like strings.\n",
    "* Get the 3rd through 6th element of `first_ten_positive_integer_list`."
   ]
  },
  {
   "cell_type": "code",
   "execution_count": 6,
   "id": "8a47837b-f494-480b-845b-b5e1a11bb7a8",
   "metadata": {
    "tags": []
   },
   "outputs": [
    {
     "data": {
      "text/plain": [
       "[3, 4, 5, 6, 7]"
      ]
     },
     "execution_count": 6,
     "metadata": {},
     "output_type": "execute_result"
    }
   ],
   "source": [
    "list_subset = first_ten_positive_integer_list[2:7]\n",
    "list_subset"
   ]
  },
  {
   "cell_type": "markdown",
   "id": "49d23d18-3aa1-4e9e-bf5a-1d7738209515",
   "metadata": {},
   "source": [
    "### Let's create a list with elements of different types\n",
    "\n",
    "- Python list's elements do not have to be of the same type.\n",
    "- Not so for other python data types; strings can only contain characters. Numpy arrays are also homogeneous.\n",
    "- Python lists are not under any such requirement, which makes them quite powerful.\n",
    "\n",
    "Let's create a grocery list, `grocery_list` that has the convention that the odd numbered \n",
    "elements (with offsets of 0, etc) are the number of items to get and the even numbered elements is the name of the item.\n",
    "For example, `grocery_list = [ 1, 'loaf of bread']`\n",
    "\n",
    "Create a variable `grocery_list` that has the following information.\n",
    " - 1 loaf of bread\n",
    " - 1 gallon of milk\n",
    " - 5 bananas \n",
    " - 1 bag of peanuts\n",
    " - 1 gallon of ice cream"
   ]
  },
  {
   "cell_type": "code",
   "execution_count": 5,
   "id": "7ca88208-8b76-4444-bbe3-aee4de47e410",
   "metadata": {
    "tags": []
   },
   "outputs": [
    {
     "name": "stdout",
     "output_type": "stream",
     "text": [
      "The name of the items to get are: ['loaf of bread', 'gallon of milk', 'bananas', 'bag of peanuts', 'gallon of ice cream']\n",
      "\n",
      "The entire list is [1, 'loaf of bread', 1, 'gallon of milk', 5, 'bananas', 1, 'bag of peanuts', 1, 'gallon of ice cream']\n"
     ]
    }
   ],
   "source": [
    "grocery_list = [1, 'loaf of bread', 1, 'gallon of milk', 5, 'bananas', 1, 'bag of peanuts', 1, 'gallon of ice cream' ]\n",
    "print('The name of the items to get are:', grocery_list[1::2])\n",
    "print()\n",
    "print('The entire list is', grocery_list)"
   ]
  },
  {
   "cell_type": "markdown",
   "id": "91f90196-1c04-48da-9954-6adf6ecfd79e",
   "metadata": {},
   "source": [
    "### Just like for strings, the `len` function gives you the number of elements in a list.\n",
    "### And lists can be added and multiplied by a scalar with the expected effect."
   ]
  },
  {
   "cell_type": "code",
   "execution_count": 6,
   "id": "70578511-af18-41ff-aa0d-1598f96e82b9",
   "metadata": {
    "tags": []
   },
   "outputs": [
    {
     "name": "stdout",
     "output_type": "stream",
     "text": [
      "grocery list has 10 elements\n"
     ]
    }
   ],
   "source": [
    "print(f\"grocery list has {len(grocery_list)} elements\")"
   ]
  },
  {
   "cell_type": "code",
   "execution_count": 7,
   "id": "f293ab82-e97f-4f83-bba4-8da4ba8deebb",
   "metadata": {
    "tags": []
   },
   "outputs": [
    {
     "data": {
      "text/plain": [
       "['a', 'b', 'c', 1, 2, 3]"
      ]
     },
     "execution_count": 7,
     "metadata": {},
     "output_type": "execute_result"
    }
   ],
   "source": [
    "['a', 'b', 'c'] + [1, 2, 3]"
   ]
  },
  {
   "cell_type": "code",
   "execution_count": 8,
   "id": "0e72255d-873b-455e-839d-4d4750f3a5b3",
   "metadata": {
    "tags": []
   },
   "outputs": [
    {
     "data": {
      "text/plain": [
       "['cat', 24, [1, 2], 'cat', 24, [1, 2], 'cat', 24, [1, 2]]"
      ]
     },
     "execution_count": 8,
     "metadata": {},
     "output_type": "execute_result"
    }
   ],
   "source": [
    "['cat', 24, [1, 2]]*3"
   ]
  },
  {
   "cell_type": "markdown",
   "id": "109dfa40-4ec5-4348-b67d-bdd9be02329a",
   "metadata": {},
   "source": [
    "## Mutable vs immutable data objects in python.\n",
    "### An important distinction between lists and strings is that lists are mutable (i.e., the values can be changed) whereas strings are immutable (the chars inside the string cannot be changed.\n",
    "You cannot update an character of a string.\n",
    "If you do you get a TypeError.\n",
    "\n",
    "Lists, on the other hand, can be updated."
   ]
  },
  {
   "cell_type": "markdown",
   "id": "ba07f3fe-1ebb-4fd6-b552-14cfc99863ca",
   "metadata": {},
   "source": [
    "### Let us say we want to `grocery list` so that we get 2 `bag of peanuts`."
   ]
  },
  {
   "cell_type": "code",
   "execution_count": 9,
   "id": "f7d7355e-9e09-42e7-b55b-f83755c9954f",
   "metadata": {
    "tags": []
   },
   "outputs": [
    {
     "name": "stdout",
     "output_type": "stream",
     "text": [
      "[1, 'loaf of bread', 1, 'gallon of milk', 5, 'bananas', 2, 'bag of peanuts', 1, 'gallon of ice cream']\n"
     ]
    }
   ],
   "source": [
    "grocery_list[6] = 2\n",
    "print(grocery_list)"
   ]
  },
  {
   "cell_type": "markdown",
   "id": "5fcb6c5c-7427-4092-a3cf-f47ac19688e8",
   "metadata": {},
   "source": [
    "## Now try to change a character in a string."
   ]
  },
  {
   "cell_type": "code",
   "execution_count": 10,
   "id": "8af67e27-01d7-436c-81f1-81e324d2c93c",
   "metadata": {
    "tags": []
   },
   "outputs": [
    {
     "ename": "TypeError",
     "evalue": "'str' object does not support item assignment",
     "output_type": "error",
     "traceback": [
      "\u001b[1;31m---------------------------------------------------------------------------\u001b[0m",
      "\u001b[1;31mTypeError\u001b[0m                                 Traceback (most recent call last)",
      "Cell \u001b[1;32mIn[10], line 2\u001b[0m\n\u001b[0;32m      1\u001b[0m my_string \u001b[38;5;241m=\u001b[39m \u001b[38;5;124m'\u001b[39m\u001b[38;5;124mHere is a nice string\u001b[39m\u001b[38;5;124m'\u001b[39m\n\u001b[1;32m----> 2\u001b[0m \u001b[43mmy_string\u001b[49m\u001b[43m[\u001b[49m\u001b[38;5;241;43m6\u001b[39;49m\u001b[43m]\u001b[49m \u001b[38;5;241m=\u001b[39m \u001b[38;5;124m'\u001b[39m\u001b[38;5;124mx\u001b[39m\u001b[38;5;124m'\u001b[39m\n",
      "\u001b[1;31mTypeError\u001b[0m: 'str' object does not support item assignment"
     ]
    }
   ],
   "source": [
    "my_string = 'Here is a nice string'\n",
    "my_string[6] = 'x'"
   ]
  },
  {
   "cell_type": "markdown",
   "id": "0e639025-36cf-41e8-a128-41faadf386b3",
   "metadata": {},
   "source": [
    "### Since variables in python are just pointers to the object, one has to be careful about asigning a variable equal to another when they are pointing to a mutable object like a list. See example below.\n",
    "### You should use the list `copy` method if you really want a second variable that starts with the same list elements."
   ]
  },
  {
   "cell_type": "code",
   "execution_count": 11,
   "id": "8fb57018-a4cc-45ac-a532-c5138e6a2f00",
   "metadata": {
    "tags": []
   },
   "outputs": [
    {
     "name": "stdout",
     "output_type": "stream",
     "text": [
      "Assigning variable l3 to point to the same list as l1\n",
      "l1= [1, 2, 3, 4, 5]\n",
      "l3= [1, 2, 3, 4, 5]\n",
      "\n",
      "updating l3[1] to have the value 75.\n",
      "l1= [1, 75, 3, 4, 5]\n",
      "l3= [1, 75, 3, 4, 5]\n",
      "\n",
      "using the list copy() function to assign a copy of l1 to variable l4\n",
      "l1= [1, 75, 3, 4, 5]\n",
      "l4= [1, 85, 3, 4, 5]\n",
      "address of l1 is 2309046846592\n",
      "address of l3 is 2309046846592\n",
      "address of l4 is 2309046826624\n"
     ]
    }
   ],
   "source": [
    "# A variable that's a list, is actually just a pointer to the data\n",
    "l1 = [1, 2, 3, 4, 5]\n",
    "l3 = l1\n",
    "print('Assigning variable l3 to point to the same list as l1')\n",
    "print('l1=', l1)\n",
    "print('l3=', l3)\n",
    "print()\n",
    "\n",
    "# If you set another variable to the second element of l3, both variables point to the same list\n",
    "print('updating l3[1] to have the value 75.')\n",
    "l3[1] = 75\n",
    "\n",
    "# print both lists\n",
    "print(\"l1=\", l1)\n",
    "print(\"l3=\", l3)\n",
    "print()\n",
    "\n",
    "# Copy each individual member of l2 over to l4\n",
    "print('using the list copy() function to assign a copy of l1 to variable l4')\n",
    "l4 = l1.copy()\n",
    "l4[1] = 85\n",
    "print(\"l1=\", l1)\n",
    "print(\"l4=\", l4)\n",
    "\n",
    "# The function id() gives the address of the object and can be useful to see what is going on here\n",
    "print(f\"address of l1 is {id(l1)}\")\n",
    "print(f\"address of l3 is {id(l3)}\")\n",
    "print(f\"address of l4 is {id(l4)}\")"
   ]
  },
  {
   "cell_type": "markdown",
   "id": "91778272-f493-48ba-9fe0-abc1c5429883",
   "metadata": {},
   "source": [
    "## list methods\n",
    "### Just like strings, there are a number of [very useful methods](https://docs.python.org/3/tutorial/datastructures.html) that are available for lists."
   ]
  },
  {
   "cell_type": "markdown",
   "id": "ec2f2fa5-aa53-456f-849c-1834d75d00a5",
   "metadata": {},
   "source": [
    "### Adding an element to the end of a list\n",
    "\n",
    "* While lists are mutable, you cannot just use an index that does not exist to add an element to the list.\n",
    "* Instead you have to use the list method append()\n",
    "* In the example below, add 6 at index 6 to x."
   ]
  },
  {
   "cell_type": "code",
   "execution_count": 14,
   "id": "de7d16c0-8001-4f23-95d3-970b68d9695c",
   "metadata": {
    "tags": []
   },
   "outputs": [
    {
     "name": "stdout",
     "output_type": "stream",
     "text": [
      "6\n",
      "[0, 1, 2, 3, 4, 5, 6]\n",
      "7\n"
     ]
    }
   ],
   "source": [
    "x = [ 0, 1, 2, 3, 4, 5]\n",
    "print(len(x))\n",
    "x.append(6)\n",
    "\n",
    "print(x)\n",
    "print(len(x))"
   ]
  },
  {
   "cell_type": "markdown",
   "id": "db66e462-ef4d-4be6-8e86-680b98a2de67",
   "metadata": {},
   "source": [
    "### You can sort a list in-place"
   ]
  },
  {
   "cell_type": "code",
   "execution_count": 15,
   "id": "dbbd73de-b856-465c-9c07-bbbd235e9bdf",
   "metadata": {
    "tags": []
   },
   "outputs": [
    {
     "name": "stdout",
     "output_type": "stream",
     "text": [
      "[-16, 0, 1, 3, 15, 22, 75]\n",
      "[75, 22, 15, 3, 1, 0, -16]\n"
     ]
    }
   ],
   "source": [
    "x = [0, 1, 22, 15, 3, 75, -16]\n",
    "x.sort()\n",
    "print(x)\n",
    "x.sort(reverse = True)\n",
    "print(x)"
   ]
  },
  {
   "cell_type": "markdown",
   "id": "33546950-720b-44bf-9416-63cca75ab4a0",
   "metadata": {},
   "source": [
    "### A list of lists comes up in several situations\n",
    "* For example, when reading a file row-by-row (coming up in a bit)\n",
    "* Creating a 2-d numpy array (coming up soon)\n",
    "* In the cell below, create two lists, `list_num_a` and `list_num_b` which have the values `1, 2, 3, 4` and `13, 14, 15, 16` respectively."
   ]
  },
  {
   "cell_type": "code",
   "execution_count": 16,
   "id": "07e7dee2-a8a9-4c77-83c2-b7b07ac0de24",
   "metadata": {
    "tags": []
   },
   "outputs": [
    {
     "name": "stdout",
     "output_type": "stream",
     "text": [
      "list_num_a is [1, 2, 3, 4]\n",
      "list_num_b is [13, 14, 15, 16]\n"
     ]
    }
   ],
   "source": [
    "list_num_a=[1, 2, 3, 4]\n",
    "list_num_b=[13,14,15,16]\n",
    "\n",
    "print('list_num_a is', list_num_a)\n",
    "print('list_num_b is', list_num_b)"
   ]
  },
  {
   "cell_type": "markdown",
   "id": "63737f6c-ad22-4016-8b76-5d5b56c77da2",
   "metadata": {},
   "source": [
    "### Creating lists of lists\n",
    "* In the cell below: \n",
    "    * create a list called `list_of_lists` that has `list_num_a` as its first element and `list_num_b` as its second element.\n",
    "    * create a list called `list_num_c` which has the values `26, 27, 28, 29, 30` as its elements\n",
    "    * append `list_num_c` to `list_of_lists`"
   ]
  },
  {
   "cell_type": "code",
   "execution_count": 17,
   "id": "9cb7a0a1-7523-4b0b-b01d-0355aa60d8f3",
   "metadata": {
    "tags": []
   },
   "outputs": [
    {
     "name": "stdout",
     "output_type": "stream",
     "text": [
      "list_num_c is [26, 27, 28, 29, 30]\n",
      "list_of_lists is [[1, 2, 3, 4], [13, 14, 15, 16], [26, 27, 28, 29, 30]]\n"
     ]
    }
   ],
   "source": [
    "list_of_lists = [list_num_a, list_num_b]\n",
    "list_num_c = [26, 27, 28, 29, 30]\n",
    "list_of_lists.append(list_num_c)\n",
    "\n",
    "print('list_num_c is', list_num_c)\n",
    "print('list_of_lists is', list_of_lists)"
   ]
  },
  {
   "cell_type": "code",
   "execution_count": null,
   "id": "2c2638ba-1d55-47c6-b45a-2e485cab8284",
   "metadata": {},
   "outputs": [],
   "source": []
  }
 ],
 "metadata": {
  "kernelspec": {
   "display_name": "Python 3",
   "language": "python",
   "name": "python3"
  },
  "language_info": {
   "codemirror_mode": {
    "name": "ipython",
    "version": 3
   },
   "file_extension": ".py",
   "mimetype": "text/x-python",
   "name": "python",
   "nbconvert_exporter": "python",
   "pygments_lexer": "ipython3",
   "version": "3.12.5"
  }
 },
 "nbformat": 4,
 "nbformat_minor": 5
}
