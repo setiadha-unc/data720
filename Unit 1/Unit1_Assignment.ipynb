{
 "cells": [
  {
   "cell_type": "markdown",
   "id": "84a184dd-46c6-49fc-99ab-ba32dc70ba53",
   "metadata": {},
   "source": [
    "# Grading: x of 10 correct\n",
    "1. myString:\n",
    "- [x] Print myString\n",
    "- [x] Count lines\n",
    "- [x] Count sentences\n",
    "- [x] Print counts with f-string\n",
    "2. newString:\n",
    "- [x] Replace '\\n' with ' '\n",
    "- [x] Use find() or splitlines() to get 4th sentence\n",
    "3. getSentenceN:\n",
    "- [x] Takes in string and sentence number\n",
    "- [x] Returns correct sentence\n",
    "- [x] Contains docstring\n",
    "- [x] Tested with different inputs\n",
    "\n",
    "Comments:"
   ]
  },
  {
   "cell_type": "markdown",
   "id": "79b9b181-ebe4-49aa-ae71-0bd72176b056",
   "metadata": {},
   "source": [
    "# Unit 1 Programming Assignment\n",
    "* The objective of this assignment is to help reinforce the Python concepts from Unit 1.\n",
    "* We will accomplish this by doing several string and list manipulation exercises, then create a function that encapsulates some of the pieces."
   ]
  },
  {
   "cell_type": "markdown",
   "id": "7b5c88fe-b94e-4c16-a80b-62c36e04bfe8",
   "metadata": {},
   "source": [
    "## This programming exercise will use a number of string and list methods.\n",
    "### Here are the Python documentation links for [string methods](https://docs.python.org/3/library/stdtypes.html#string-methods) and [list methods](https://docs.python.org/3/library/stdtypes.html#generator-types)\n",
    "\n",
    "### Generaly useful Python resources are [Python Like You Mean It](https://www.pythonlikeyoumeanit.com/), [Python Data Science Handbook](https://github.com/jakevdp/PythonDataScienceHandbook) and [A Whirlwind Tour of Python](https://jakevdp.github.io/WhirlwindTourOfPython/)"
   ]
  },
  {
   "cell_type": "markdown",
   "id": "a925bf44-c7b2-49e5-98ae-5c1a81e7bf7a",
   "metadata": {
    "tags": []
   },
   "source": [
    "### Let us start be defining a string called `myString` that is an excerpt from **Python Like You Mean It**."
   ]
  },
  {
   "cell_type": "code",
   "execution_count": 1,
   "id": "f79e7d81-ee55-46e1-86d5-7a6e15e20584",
   "metadata": {
    "tags": []
   },
   "outputs": [],
   "source": [
    "myString = '''A Jupyter notebook is similar to the IPython console, but, instead of only being able to work with a single line of code at a time,\n",
    "you can easily edit and re-execute any code that had been written in a notebook. Furthermore,\n",
    "you can save a notebook, and thus return to it later.\n",
    "Additionally, a notebook provides many terrific features.\n",
    "For instance, you can embed visualizations of data within a notebook, and write blocks of nicely-formatted text\n",
    "(using the Markdown syntax), for presenting and explaining the contents of the notebook.\n",
    "\n",
    "Jupyter lab is a new web interface from Project Jupyter that provides a rich web-based interface for managing and running Jupyter notebooks,\n",
    "console terminals, and text editors, all within your browser. Among its useful features and polished user interface, Jupyter lab provides\n",
    "moveable panes for viewing data, images, and code output apart from the rest of the notebook.\n",
    "This is facilitates effective data science work flows.'''\n"
   ]
  },
  {
   "cell_type": "markdown",
   "id": "d3bcc94a-3266-43cf-94a0-2bff108a74bb",
   "metadata": {},
   "source": [
    "### Use `print` to print out `myString`."
   ]
  },
  {
   "cell_type": "code",
   "execution_count": 2,
   "id": "6c8e1167-4831-4e96-80b6-b2835c8f68ce",
   "metadata": {
    "tags": []
   },
   "outputs": [],
   "source": [
    "# Write your code to print myString below."
   ]
  },
  {
   "cell_type": "code",
   "execution_count": 3,
   "id": "9a2b7dec-da1c-49f1-8414-de8c0b4d346d",
   "metadata": {
    "tags": []
   },
   "outputs": [
    {
     "name": "stdout",
     "output_type": "stream",
     "text": [
      "A Jupyter notebook is similar to the IPython console, but, instead of only being able to work with a single line of code at a time,\n",
      "you can easily edit and re-execute any code that had been written in a notebook. Furthermore,\n",
      "you can save a notebook, and thus return to it later.\n",
      "Additionally, a notebook provides many terrific features.\n",
      "For instance, you can embed visualizations of data within a notebook, and write blocks of nicely-formatted text\n",
      "(using the Markdown syntax), for presenting and explaining the contents of the notebook.\n",
      "\n",
      "Jupyter lab is a new web interface from Project Jupyter that provides a rich web-based interface for managing and running Jupyter notebooks,\n",
      "console terminals, and text editors, all within your browser. Among its useful features and polished user interface, Jupyter lab provides\n",
      "moveable panes for viewing data, images, and code output apart from the rest of the notebook.\n",
      "This is facilitates effective data science work flows.\n"
     ]
    }
   ],
   "source": [
    "print(myString)"
   ]
  },
  {
   "cell_type": "markdown",
   "id": "20907f3a-a59c-4fdd-a882-6976507ad354",
   "metadata": {},
   "source": [
    "### Notice that `myString` has several lines and several sentences.\n",
    "* Assume that each line is terminated with a newline character (`\\n`)  and each sentence is terminated in a period(`.`).\n",
    "* Use the string `count` method to count the number of lines and the number of sentences in `myString`. \n",
    "* Use an f-string to print out the message \"myString has NN lines and MM sentences.\" where NN and MM are replaced by the actual values."
   ]
  },
  {
   "cell_type": "code",
   "execution_count": 4,
   "id": "a1fea2c6",
   "metadata": {},
   "outputs": [
    {
     "data": {
      "text/plain": [
       "10"
      ]
     },
     "execution_count": 4,
     "metadata": {},
     "output_type": "execute_result"
    }
   ],
   "source": [
    "# Write you code below to calculate and print out the number of lines and sentences in myString\n",
    "nn = myString.count('\\n')\n",
    "nn"
   ]
  },
  {
   "cell_type": "code",
   "execution_count": 5,
   "id": "76a61f39",
   "metadata": {},
   "outputs": [
    {
     "data": {
      "text/plain": [
       "7"
      ]
     },
     "execution_count": 5,
     "metadata": {},
     "output_type": "execute_result"
    }
   ],
   "source": [
    "mm = myString.count('.')\n",
    "mm"
   ]
  },
  {
   "cell_type": "code",
   "execution_count": 6,
   "id": "c6d76fc4-77ab-40c2-b642-2403a1a5ca3c",
   "metadata": {
    "tags": []
   },
   "outputs": [
    {
     "name": "stdout",
     "output_type": "stream",
     "text": [
      "myString has 10 lines and 7 sentences.\n"
     ]
    }
   ],
   "source": [
    "print(f\"myString has {nn} lines and {mm} sentences.\")"
   ]
  },
  {
   "cell_type": "markdown",
   "id": "41abcd50-46fc-4b66-b507-5da0ee4521a9",
   "metadata": {},
   "source": [
    "### Let us convert `myString` to a new string (call it `newString`) that replaces all the newline (`\\n`) characters with a single space character.\n",
    "* You may find the string method `str.replace` handy to do this.\n",
    "* Print out `newString` to confirm that all newline characters have been removed."
   ]
  },
  {
   "cell_type": "code",
   "execution_count": 7,
   "id": "a04fb0f5-b5e3-46d7-aea1-a35c82892397",
   "metadata": {},
   "outputs": [
    {
     "name": "stdout",
     "output_type": "stream",
     "text": [
      "A Jupyter notebook is similar to the IPython console, but, instead of only being able to work with a single line of code at a time, you can easily edit and re-execute any code that had been written in a notebook. Furthermore, you can save a notebook, and thus return to it later. Additionally, a notebook provides many terrific features. For instance, you can embed visualizations of data within a notebook, and write blocks of nicely-formatted text (using the Markdown syntax), for presenting and explaining the contents of the notebook.  Jupyter lab is a new web interface from Project Jupyter that provides a rich web-based interface for managing and running Jupyter notebooks, console terminals, and text editors, all within your browser. Among its useful features and polished user interface, Jupyter lab provides moveable panes for viewing data, images, and code output apart from the rest of the notebook. This is facilitates effective data science work flows.\n"
     ]
    }
   ],
   "source": [
    "# Write your code here to create newString and print it out.\n",
    "newString = myString.replace('\\n', ' ')\n",
    "print(newString)"
   ]
  },
  {
   "cell_type": "markdown",
   "id": "35a9ed53-2f00-4686-9e49-58b8346cea18",
   "metadata": {},
   "source": [
    "### Now we want to extract the 4th sentence in `newString` to a variable called `sentence4`.\n",
    "* The class lecture showed one way of doing this using `find` to locate the index of `.` characters and then subsetting the full string.\n",
    "    * You can use a similar method if you want.\n",
    "* Another way to do this is to use the `splitlines` method - \n",
    "    * first use `replace` to convert `.` to `\\n`, then \n",
    "    * use `splitlines` to get a list of all the sentences, then\n",
    "    * use indexing to get the 4th sentence."
   ]
  },
  {
   "cell_type": "code",
   "execution_count": 8,
   "id": "96adb4c4-50fb-4275-8e39-02e3dec3aeee",
   "metadata": {},
   "outputs": [
    {
     "name": "stdout",
     "output_type": "stream",
     "text": [
      " For instance, you can embed visualizations of data within a notebook, and write blocks of nicely-formatted text (using the Markdown syntax), for presenting and explaining the contents of the notebook\n"
     ]
    }
   ],
   "source": [
    "# Write your code to create `sentence4` here.\n",
    "# replace all the dot with new line then split the string based on the new line using splitlines\n",
    "sentence4 = newString.replace('.', '\\n').splitlines()\n",
    "print(sentence4[3])"
   ]
  },
  {
   "cell_type": "markdown",
   "id": "b545b374-a773-42b8-bd55-7d738706cb1a",
   "metadata": {},
   "source": [
    "### Now let us put all these steps together and write a function `getSentenceN` that:\n",
    "* given a string `inString` and a sentence number `sentNumb`\n",
    "* returns the `sentNumb` sentence.\n",
    "* You can assume that:\n",
    "    * the only line separators are newlines ('\\n')\n",
    "    * each sentence ends in a `.`\n",
    "    * there are at least `sentNumb` number of sentences in `inString`\n",
    "* You must include an approrpiate docstring describing your function so that `help getSentence` prints the appropriate message"
   ]
  },
  {
   "cell_type": "code",
   "execution_count": 9,
   "id": "d45a19e2-e236-4a2f-a0fb-e811ef26041f",
   "metadata": {},
   "outputs": [],
   "source": [
    "# Write your code for getSentenceN here\n",
    "\n",
    "# Defining the function getSentenceN to get the n sentence from a text\n",
    "# by receiving 2 params, the text and the number of the sentence that we want to take\n",
    "def getSentenceN(inString, sentNumb):\n",
    "    # replace all the new lines since we're going to use splitliness to devide the string into arr\n",
    "    getString = inString.replace('\\n', ' ') \n",
    "\n",
    "    sentenceArr = getString.replace('.', '\\n').splitlines()\n",
    "\n",
    "    #sentNumb validation\n",
    "    maxSentences = len(sentenceArr)\n",
    "    if sentNumb > maxSentences:\n",
    "      indxNumb = maxSentences - 1\n",
    "    elif sentNumb < 1:\n",
    "      indxNumb = 0\n",
    "    else:\n",
    "      indxNumb = sentNumb - 1\n",
    "\n",
    "    print(f\"String you use as input: \\n {inString} \\n\\nThe sentence number: {sentNumb} \\n\\nThe output: {sentenceArr[indxNumb]}\")"
   ]
  },
  {
   "cell_type": "markdown",
   "id": "32cfa5c9-45a9-440b-acdb-54519040574d",
   "metadata": {},
   "source": [
    "### Test your function using a number of examples of `inString` and `sentNumb`.\n",
    "* The prior example would be `inString = myString` and `sentNumb = 4`\n",
    "* For each example, clearly indicate the string you are using as input, the sentence number and the output of your function."
   ]
  },
  {
   "cell_type": "code",
   "execution_count": 10,
   "id": "034a2680-8655-4c83-a5fb-1221ae3ab2b6",
   "metadata": {},
   "outputs": [
    {
     "name": "stdout",
     "output_type": "stream",
     "text": [
      "String you use as input: \n",
      " A Jupyter notebook is similar to the IPython console, but, instead of only being able to work with a single line of code at a time,\n",
      "you can easily edit and re-execute any code that had been written in a notebook. Furthermore,\n",
      "you can save a notebook, and thus return to it later.\n",
      "Additionally, a notebook provides many terrific features.\n",
      "For instance, you can embed visualizations of data within a notebook, and write blocks of nicely-formatted text\n",
      "(using the Markdown syntax), for presenting and explaining the contents of the notebook.\n",
      "\n",
      "Jupyter lab is a new web interface from Project Jupyter that provides a rich web-based interface for managing and running Jupyter notebooks,\n",
      "console terminals, and text editors, all within your browser. Among its useful features and polished user interface, Jupyter lab provides\n",
      "moveable panes for viewing data, images, and code output apart from the rest of the notebook.\n",
      "This is facilitates effective data science work flows. \n",
      "\n",
      "The sentence number: 4 \n",
      "\n",
      "The output:  For instance, you can embed visualizations of data within a notebook, and write blocks of nicely-formatted text (using the Markdown syntax), for presenting and explaining the contents of the notebook\n"
     ]
    }
   ],
   "source": [
    "getSentenceN(myString, 4)"
   ]
  },
  {
   "cell_type": "code",
   "execution_count": 11,
   "id": "42818f5d",
   "metadata": {},
   "outputs": [],
   "source": [
    "# Second sample using different text\n",
    "string2 = \"\"\"Ut venenatis eleifend felis lobortis mattis. Phasellus auctor nec leo sed tristique. \n",
    "Curabitur finibus sed orci eu sodales. Aenean malesuada arcu eget purus blandit, \n",
    "sit amet malesuada massa facilisis. Aliquam enim nisl, lacinia eget nunc sed, iaculis blandit diam. \n",
    "Aenean sed fermentum leo, id sodales mi. Phasellus a ante dolor. Curabitur vitae suscipit magna, \n",
    "et porttitor tellus. Sed est magna, eleifend sit amet quam ac, elementum ultrices tortor.\"\"\""
   ]
  },
  {
   "cell_type": "code",
   "execution_count": 12,
   "id": "6327fb44",
   "metadata": {},
   "outputs": [
    {
     "name": "stdout",
     "output_type": "stream",
     "text": [
      "String you use as input: \n",
      " Ut venenatis eleifend felis lobortis mattis. Phasellus auctor nec leo sed tristique. \n",
      "Curabitur finibus sed orci eu sodales. Aenean malesuada arcu eget purus blandit, \n",
      "sit amet malesuada massa facilisis. Aliquam enim nisl, lacinia eget nunc sed, iaculis blandit diam. \n",
      "Aenean sed fermentum leo, id sodales mi. Phasellus a ante dolor. Curabitur vitae suscipit magna, \n",
      "et porttitor tellus. Sed est magna, eleifend sit amet quam ac, elementum ultrices tortor. \n",
      "\n",
      "The sentence number: 5 \n",
      "\n",
      "The output:  Aliquam enim nisl, lacinia eget nunc sed, iaculis blandit diam\n"
     ]
    }
   ],
   "source": [
    "getSentenceN(string2, 5)"
   ]
  },
  {
   "cell_type": "code",
   "execution_count": null,
   "id": "255ff576",
   "metadata": {},
   "outputs": [],
   "source": []
  }
 ],
 "metadata": {
  "kernelspec": {
   "display_name": "Python 3",
   "language": "python",
   "name": "python3"
  },
  "language_info": {
   "codemirror_mode": {
    "name": "ipython",
    "version": 3
   },
   "file_extension": ".py",
   "mimetype": "text/x-python",
   "name": "python",
   "nbconvert_exporter": "python",
   "pygments_lexer": "ipython3",
   "version": "3.12.5"
  }
 },
 "nbformat": 4,
 "nbformat_minor": 5
}
