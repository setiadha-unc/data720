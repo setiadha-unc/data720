{
 "cells": [
  {
   "cell_type": "markdown",
   "id": "44b931b5-b24d-43ba-861e-6e1df668b026",
   "metadata": {},
   "source": [
    "# Grading: x of 6 correct\n",
    "- [x] Create l1\n",
    "- [x] Extract y with index\n",
    "- [x] Convert l1 to tuple\n",
    "- [x] Try to change 3 in t1 to 7\n",
    "- [x] Change 4 in t1 to new list\n",
    "- [x] Tuple items are immutable, but items within mutable objects in a tuple are\n",
    "\n",
    "Comments:"
   ]
  },
  {
   "cell_type": "markdown",
   "id": "79b9b181-ebe4-49aa-ae71-0bd72176b056",
   "metadata": {},
   "source": [
    "## Unit 1 Lists and Tuples Quiz\n",
    "* The objective of this quiz is for you to write code to create and manipulate lists and tuples.\n",
    "* Lists example\n",
    "* Create a nested list `l1` that has the value `[3, ['test', 4], ['howdy', [5, 6]]]`\n",
    "    * Use indexing to extract the `y` in the list and print it out.\n",
    "* Tuples example\n",
    "* Convert the list `l1` to a tuple called `t1` and print it out.\n",
    "    * Try to change the value 3 in `t1` to 7.\n",
    "    * Try to change the 4 in the second element (index 1) of `t1` to the list `['Hi', \"how are you?\"]`\n",
    "    * What do the results in the two cases of tuple manipulation imply?"
   ]
  },
  {
   "cell_type": "code",
   "execution_count": 22,
   "id": "53aeda80-8714-47eb-b914-76c37e7858ac",
   "metadata": {},
   "outputs": [
    {
     "data": {
      "text/plain": [
       "[3, ['test', 4], ['howdy', [5, 6]]]"
      ]
     },
     "execution_count": 22,
     "metadata": {},
     "output_type": "execute_result"
    }
   ],
   "source": [
    "# Write your code here for creating l1\n",
    "l1 = [3, ['test', 4], ['howdy', [5,6]]]\n",
    "l1"
   ]
  },
  {
   "cell_type": "code",
   "execution_count": 23,
   "id": "aea196e8",
   "metadata": {},
   "outputs": [
    {
     "data": {
      "text/plain": [
       "'y'"
      ]
     },
     "execution_count": 23,
     "metadata": {},
     "output_type": "execute_result"
    }
   ],
   "source": [
    "# Extract y using indexing\n",
    "extractStr = l1[2][0][4]\n",
    "extractStr"
   ]
  },
  {
   "cell_type": "code",
   "execution_count": 24,
   "id": "79112d3d-c6af-405b-b8f4-cc54aeedfa84",
   "metadata": {},
   "outputs": [
    {
     "name": "stdout",
     "output_type": "stream",
     "text": [
      "(3, ['test', 4], ['howdy', [5, 6]])\n"
     ]
    },
    {
     "data": {
      "text/plain": [
       "tuple"
      ]
     },
     "execution_count": 24,
     "metadata": {},
     "output_type": "execute_result"
    }
   ],
   "source": [
    "# Write the code here for converting l1 to t1\n",
    "t1 = tuple(l1)\n",
    "print(t1)\n",
    "type(t1)"
   ]
  },
  {
   "cell_type": "code",
   "execution_count": 25,
   "id": "e83e81c5-c89f-43df-8dcf-0711cfe24672",
   "metadata": {},
   "outputs": [
    {
     "data": {
      "text/plain": [
       "(7, ['test', 4], ['howdy', [5, 6]])"
      ]
     },
     "execution_count": 25,
     "metadata": {},
     "output_type": "execute_result"
    }
   ],
   "source": [
    "# Write the code here to change the value 3 in t1 to 7\n",
    "\n",
    "# One way to do this is actually by converting the tuple to list then convert it back to tuples, \n",
    "lToTuples = list(t1)\n",
    "lToTuples[0] = 7\n",
    "t1 = tuple(lToTuples)\n",
    "t1"
   ]
  },
  {
   "cell_type": "code",
   "execution_count": 26,
   "id": "71a33e84-82ff-4d81-ba46-8fd25dc3d23f",
   "metadata": {},
   "outputs": [
    {
     "data": {
      "text/plain": [
       "(7, ['test', ['H1', 'how are you']], ['howdy', [5, 6]])"
      ]
     },
     "execution_count": 26,
     "metadata": {},
     "output_type": "execute_result"
    }
   ],
   "source": [
    "# Write the code here to change the 4 in t1 to ['H1', 'how are you']\n",
    "\n",
    "# unles the element of the tuple that we want to change is mutable element\n",
    "t1[1][1] = ['H1', 'how are you']\n",
    "t1"
   ]
  },
  {
   "cell_type": "markdown",
   "id": "07659f63",
   "metadata": {},
   "source": [
    "Tuple items are immutable, but items within mutable objects in a tuple are?\n",
    "\n",
    "Tuple items are indeed immutable, but item within mutable objects in a tuple can be mutable items.<br />\n",
    "The first example we can not change the item because it is the item of the tuple and is immutable,<br />\n",
    "but the second example is the item of mutable variable which is a list so we can change that directly using indexing. We can't change the list, but we can change the item of the list."
   ]
  },
  {
   "cell_type": "code",
   "execution_count": null,
   "id": "84207be2",
   "metadata": {},
   "outputs": [],
   "source": []
  }
 ],
 "metadata": {
  "kernelspec": {
   "display_name": "Python 3",
   "language": "python",
   "name": "python3"
  },
  "language_info": {
   "codemirror_mode": {
    "name": "ipython",
    "version": 3
   },
   "file_extension": ".py",
   "mimetype": "text/x-python",
   "name": "python",
   "nbconvert_exporter": "python",
   "pygments_lexer": "ipython3",
   "version": "3.12.5"
  }
 },
 "nbformat": 4,
 "nbformat_minor": 5
}
