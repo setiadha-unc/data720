{
 "cells": [
  {
   "cell_type": "markdown",
   "id": "bda9e156-b057-4cb4-b032-ce8aa62bdc92",
   "metadata": {},
   "source": [
    "##### <img src=\"../SDSS-Logo.png\" style=\"display:inline; width:500px\" />\n",
    "\n",
    "\n",
    "# Learning Objectives\n",
    "1. Understand the tuple data type in Python.\n",
    "1. Immutability of tuples\n",
    "1. Tuple packing/unpacking\n",
    " "
   ]
  },
  {
   "cell_type": "markdown",
   "id": "65f90ba4-58d3-4c6e-b8d0-667bd3a0b0bd",
   "metadata": {},
   "source": [
    "## Sequence types\n",
    "- strings and lists are examples of Python [Sequence types](https://docs.python.org/3/library/stdtypes.html#typesseq)\n",
    "- Two other examples are `range()` and tuples."
   ]
  },
  {
   "cell_type": "markdown",
   "id": "9892ceb4-8be4-4eb4-8f25-fb241cf8afc7",
   "metadata": {},
   "source": [
    "## Creating tuples\n",
    "### A tuple is a number of values of any type separated by commas.\n",
    "### If needed, the values can be enclosed in paramtheses `()`.\n",
    "### An empty tuple is a pair of parenthesis with nothing in between.\n",
    "\n"
   ]
  },
  {
   "cell_type": "code",
   "execution_count": 1,
   "id": "e2316b9a-bbe0-43fe-9624-88a5b0db0ddb",
   "metadata": {
    "tags": []
   },
   "outputs": [
    {
     "name": "stdout",
     "output_type": "stream",
     "text": [
      "<class 'tuple'>\n"
     ]
    }
   ],
   "source": [
    "empty_tuple = ()\n",
    "print(type(empty_tuple))"
   ]
  },
  {
   "cell_type": "code",
   "execution_count": 2,
   "id": "c6ec43e8-bdef-4a0c-bd49-963ccbf22248",
   "metadata": {
    "tags": []
   },
   "outputs": [
    {
     "name": "stdout",
     "output_type": "stream",
     "text": [
      "('Python', 1, 'language')\n",
      "([1, 2, 3], 'Pop', 45)\n"
     ]
    }
   ],
   "source": [
    "tuple_1 = 'Python', 1, 'language'\n",
    "tuple_2 = ([1, 2, 3], 'Pop', 45)\n",
    "\n",
    "print(tuple_1)\n",
    "print(tuple_2)"
   ]
  },
  {
   "cell_type": "markdown",
   "id": "fe9d99b4-ed7c-40f7-ba32-e14e61e0bb34",
   "metadata": {},
   "source": [
    "### There are some idiosyncrasies (that make sense when you think about it) in creating singleton tuples"
   ]
  },
  {
   "cell_type": "code",
   "execution_count": 3,
   "id": "6ed481e4-1210-4c32-874b-a8bd393e06c0",
   "metadata": {
    "tags": []
   },
   "outputs": [
    {
     "name": "stdout",
     "output_type": "stream",
     "text": [
      "<class 'int'>\n",
      "<class 'int'>\n"
     ]
    }
   ],
   "source": [
    "# Is this a tuple?\n",
    "x1 = 45\n",
    "x2 = (45)\n",
    "\n",
    "print(type(x1))\n",
    "print(type(x2))"
   ]
  },
  {
   "cell_type": "markdown",
   "id": "16f4106f-66cd-46d3-b287-18744381abbb",
   "metadata": {},
   "source": [
    "### so how do you create a 1 element tuple?"
   ]
  },
  {
   "cell_type": "code",
   "execution_count": 4,
   "id": "f04b0be7-b24f-4b69-8e24-30bd579bd206",
   "metadata": {
    "tags": []
   },
   "outputs": [
    {
     "name": "stdout",
     "output_type": "stream",
     "text": [
      "<class 'tuple'>\n",
      "<class 'tuple'>\n"
     ]
    }
   ],
   "source": [
    "x3 = 45,\n",
    "x4 = (45,)\n",
    "\n",
    "print(type(x3))\n",
    "print(type(x4))"
   ]
  },
  {
   "cell_type": "markdown",
   "id": "f6a8ae20-c6b2-4c2b-9be3-6c4655d86829",
   "metadata": {},
   "source": [
    "### Elements of a tuple can be addressed by their index, just like for strings and lists\n",
    "\n",
    "- Remember, all good computer scientists count from zero.\n",
    "- So, the first element in a tuple has an offset, or index, of zero.\n",
    "<br>\n",
    "\n",
    "Assign the variable `tuple_2_val` to the element with index 2 within `tuple_2`"
   ]
  },
  {
   "cell_type": "code",
   "execution_count": 5,
   "id": "9b9df504-7e59-4c54-b274-6855a9df4e31",
   "metadata": {
    "tags": []
   },
   "outputs": [
    {
     "name": "stdout",
     "output_type": "stream",
     "text": [
      "45\n"
     ]
    }
   ],
   "source": [
    "tuple_2_val = tuple_2[2]\n",
    "print(tuple_2_val)\n"
   ]
  },
  {
   "cell_type": "markdown",
   "id": "3992ff3a-e59d-4e59-a19a-4b9d751765ef",
   "metadata": {},
   "source": [
    "### tuples can be sliced to get at subsets of the tuple, just like string and lists\n",
    "* Create a tuple called `my_tuple` that has the values 6, [2, 3], \"This is a string\", (45, 78), [72, 'Test', (89, 90)] in that order\n",
    "* Get the 2rd through 4th element of `my_tuple`."
   ]
  },
  {
   "cell_type": "code",
   "execution_count": 8,
   "id": "8a47837b-f494-480b-845b-b5e1a11bb7a8",
   "metadata": {
    "tags": []
   },
   "outputs": [
    {
     "name": "stdout",
     "output_type": "stream",
     "text": [
      "((45, 78), [72, 'Test', (89, 90)])\n"
     ]
    }
   ],
   "source": [
    "my_tuple = 6, [2, 3], \"This is a string\", (45, 78), [72, 'Test', (89, 90)]\n",
    "print(my_tuple[3:])"
   ]
  },
  {
   "cell_type": "markdown",
   "id": "49d23d18-3aa1-4e9e-bf5a-1d7738209515",
   "metadata": {},
   "source": [
    "### tuple packing and unpacking\n",
    "\n",
    "- A very common way of creating and using tuples is called packing and unpacking\n",
    "- we have already seen packing when creating tuples.\n",
    "- unpacking tuples assigns tuple values to a comma separated list of "
   ]
  },
  {
   "cell_type": "code",
   "execution_count": 9,
   "id": "70989a21-7853-49a2-977c-f55bc0f1ea16",
   "metadata": {
    "tags": []
   },
   "outputs": [
    {
     "name": "stdout",
     "output_type": "stream",
     "text": [
      "6\n",
      "[2, 3]\n",
      "This is a string\n"
     ]
    }
   ],
   "source": [
    "# packing\n",
    "new_tuple = 6, [2, 3], \"This is a string\" \n",
    "\n",
    "# unpacking; no of variable son LHS has to be equal to number of elements in tuple\n",
    "ele1, ele2, ele3 = new_tuple\n",
    "print(ele1)\n",
    "print(ele2)\n",
    "print(ele3)"
   ]
  },
  {
   "cell_type": "markdown",
   "id": "91f90196-1c04-48da-9954-6adf6ecfd79e",
   "metadata": {},
   "source": [
    "### Just like for strings, the `len` function gives you the number of elements in a tuple.\n",
    "### And tuples can be added and multiplied by a scalar with the expected effect."
   ]
  },
  {
   "cell_type": "code",
   "execution_count": 10,
   "id": "70578511-af18-41ff-aa0d-1598f96e82b9",
   "metadata": {
    "tags": []
   },
   "outputs": [
    {
     "name": "stdout",
     "output_type": "stream",
     "text": [
      "ingedient_tuple has 5 elements\n"
     ]
    }
   ],
   "source": [
    "ingredient_tuple = 'flour', 'sugar', 'butter', 'vanilla', 'chocolate_chips' \n",
    "print(f\"ingedient_tuple has {len(ingredient_tuple)} elements\")"
   ]
  },
  {
   "cell_type": "code",
   "execution_count": 11,
   "id": "f293ab82-e97f-4f83-bba4-8da4ba8deebb",
   "metadata": {
    "tags": []
   },
   "outputs": [
    {
     "data": {
      "text/plain": [
       "('a', 'b', 'c', 1, 2, 3)"
      ]
     },
     "execution_count": 11,
     "metadata": {},
     "output_type": "execute_result"
    }
   ],
   "source": [
    "('a', 'b', 'c') + (1, 2, 3)"
   ]
  },
  {
   "cell_type": "code",
   "execution_count": 12,
   "id": "0e72255d-873b-455e-839d-4d4750f3a5b3",
   "metadata": {
    "tags": []
   },
   "outputs": [
    {
     "data": {
      "text/plain": [
       "('cat', 24, [1, 2], 'cat', 24, [1, 2], 'cat', 24, [1, 2])"
      ]
     },
     "execution_count": 12,
     "metadata": {},
     "output_type": "execute_result"
    }
   ],
   "source": [
    "('cat', 24, [1, 2])*3"
   ]
  },
  {
   "cell_type": "markdown",
   "id": "109dfa40-4ec5-4348-b67d-bdd9be02329a",
   "metadata": {},
   "source": [
    "### tuples are immutable, but they can contain mutable values"
   ]
  },
  {
   "cell_type": "code",
   "execution_count": 13,
   "id": "f7d7355e-9e09-42e7-b55b-f83755c9954f",
   "metadata": {
    "tags": []
   },
   "outputs": [
    {
     "ename": "TypeError",
     "evalue": "'tuple' object does not support item assignment",
     "output_type": "error",
     "traceback": [
      "\u001b[1;31m---------------------------------------------------------------------------\u001b[0m",
      "\u001b[1;31mTypeError\u001b[0m                                 Traceback (most recent call last)",
      "Cell \u001b[1;32mIn[13], line 2\u001b[0m\n\u001b[0;32m      1\u001b[0m my_tuple \u001b[38;5;241m=\u001b[39m \u001b[38;5;241m6\u001b[39m, [\u001b[38;5;241m2\u001b[39m, \u001b[38;5;241m3\u001b[39m], \u001b[38;5;124m\"\u001b[39m\u001b[38;5;124mThis is a string\u001b[39m\u001b[38;5;124m\"\u001b[39m, (\u001b[38;5;241m45\u001b[39m, \u001b[38;5;241m78\u001b[39m), [\u001b[38;5;241m72\u001b[39m, \u001b[38;5;124m'\u001b[39m\u001b[38;5;124mTest\u001b[39m\u001b[38;5;124m'\u001b[39m, (\u001b[38;5;241m89\u001b[39m, \u001b[38;5;241m90\u001b[39m)]\n\u001b[1;32m----> 2\u001b[0m \u001b[43mmy_tuple\u001b[49m\u001b[43m[\u001b[49m\u001b[38;5;241;43m1\u001b[39;49m\u001b[43m]\u001b[49m \u001b[38;5;241m=\u001b[39m \u001b[38;5;241m0\u001b[39m\n",
      "\u001b[1;31mTypeError\u001b[0m: 'tuple' object does not support item assignment"
     ]
    }
   ],
   "source": [
    "my_tuple = 6, [2, 3], \"This is a string\", (45, 78), [72, 'Test', (89, 90)]\n",
    "my_tuple[1] = 0"
   ]
  },
  {
   "cell_type": "code",
   "execution_count": 14,
   "id": "8af67e27-01d7-436c-81f1-81e324d2c93c",
   "metadata": {
    "tags": []
   },
   "outputs": [
    {
     "name": "stdout",
     "output_type": "stream",
     "text": [
      "(6, [2, 3, 35], 'This is a string', (45, 78), [72, 'Test', (89, 90)])\n"
     ]
    }
   ],
   "source": [
    "my_tuple[1].append(35)\n",
    "print(my_tuple)"
   ]
  }
 ],
 "metadata": {
  "kernelspec": {
   "display_name": "Python 3",
   "language": "python",
   "name": "python3"
  },
  "language_info": {
   "codemirror_mode": {
    "name": "ipython",
    "version": 3
   },
   "file_extension": ".py",
   "mimetype": "text/x-python",
   "name": "python",
   "nbconvert_exporter": "python",
   "pygments_lexer": "ipython3",
   "version": "3.12.5"
  }
 },
 "nbformat": 4,
 "nbformat_minor": 5
}
