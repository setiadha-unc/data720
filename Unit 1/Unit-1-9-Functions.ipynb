{
 "cells": [
  {
   "cell_type": "markdown",
   "metadata": {},
   "source": [
    "##### <img src=\"../SDSS-Logo.png\" style=\"display:inline; width:500px\" />\n",
    "\n",
    "\n",
    "# Learning Objectives\n",
    "1. Learn how to create functions in Python.\n",
    "1. Understand that python uses indentation for scoping and that saves on `{}` etc\n"
   ]
  },
  {
   "cell_type": "markdown",
   "metadata": {},
   "source": [
    "## Motivation\n",
    "* Python has become the language of choice for most (but not all) data science work.\n",
    "* Functions are used in many languages in order to de-compose a problem into manageable chunks that can be re-used in varying circumstances.\n",
    "* Functions, for example, `print` can be quite complex and contain many options, but the name/semantics of the function restrict the function to a task that makes sense to think of as a common, or highly useful task.\n",
    "* Functions are **named/labeled** chunks of code that are designed to do a specific job.\n",
    "* Functions should be designed to be re-used.\n",
    "* Functions are \"called\" when they are used in expressions, typically, but not always with provided inputs, and they can, or typically do, \"return\" outputs."
   ]
  },
  {
   "cell_type": "markdown",
   "metadata": {},
   "source": [
    "## Python functions\n",
    "* Functions are used to encapsulate a piece of code that performs a coherent task.\n",
    "* Example - a function to reverse a string\n",
    "* Definition of function from [Python Like You Mean It, PLYMI](https://www.pythonlikeyoumeanit.com/Module2_EssentialsOfPython/Functions.html)\n",
    "\n",
    ">A Python function is an object that encapsulates code. Calling the function will execute the encapsulated code and return an object. A function can be defined so that it accepts arguments, which are objects that are to be passed to the encapsulated code.\n",
    "\n"
   ]
  },
  {
   "cell_type": "markdown",
   "metadata": {},
   "source": [
    "### We've been using functions since the first class.\n",
    "`print` is a function."
   ]
  },
  {
   "cell_type": "code",
   "execution_count": 1,
   "metadata": {},
   "outputs": [
    {
     "name": "stdout",
     "output_type": "stream",
     "text": [
      "Go Tar Heels!\n"
     ]
    }
   ],
   "source": [
    "print('Go Tar Heels!')"
   ]
  },
  {
   "cell_type": "markdown",
   "metadata": {},
   "source": [
    "## How to define a function:.\n",
    "\n",
    "* The first line of the function is called the *signature*.\n",
    "* It starts with the `def` keyword followed by the name of the function.\n",
    "    * Every function definition starts with `def`\n",
    "    * In the first example below, the name of the function is `square`\n",
    "* You can pass parameters to a function. Parameters are inputs to the function.\n",
    "    * Any parameters are entered in parenthesis after the function name.\n",
    "        * The function square has one parameter called `number` in the signature line.\n",
    "    * Parameters are optional - a function need not have any parameters  that are passed to it.\n",
    "    * Functions can be defined with *default* parameters and can be run whether or not data is provided to the function. If no data is sent to the function, the defaults for the paramters will be used.\n",
    "    * Even when a function takes no parameters, you need empty parenthesis.\n",
    "        * See the definition of the function `junk()` below the `square()` function.\n",
    "* Conventionally, following the signature line you have a comment that documents what the function does.\n",
    "    * The optional `doc-string` follows the signature.\n",
    "    * Use the `doc-string` much like a comment to tell the user what the function does.\n",
    "* A function can include any number of return statements (including 0).\n",
    "    * Values that are to be returned to the statement calling the function are added after return.\n",
    "    * The `square` function below returns the value of `number * number`\n",
    "    * The `junk` function below has no return statement and returns `null`\n",
    "* All statements that should be executed when a function is called should be indented wrt the function signature line.\n",
    "* A function definition is complete when the indentation returns to the same level as the `def` statement."
   ]
  },
  {
   "cell_type": "code",
   "execution_count": 2,
   "metadata": {},
   "outputs": [],
   "source": [
    "def square(number):\n",
    "    ''' Given a number, return the square of the number'''\n",
    "    return number * number\n",
    "# note that you did not have to write this function this way - there are many varations."
   ]
  },
  {
   "cell_type": "code",
   "execution_count": 3,
   "metadata": {},
   "outputs": [],
   "source": [
    "def junk():\n",
    "    ''' Just prints the string Junk'''\n",
    "    print(\"Junk\")"
   ]
  },
  {
   "cell_type": "code",
   "execution_count": 4,
   "metadata": {},
   "outputs": [
    {
     "name": "stdout",
     "output_type": "stream",
     "text": [
      "4\n"
     ]
    }
   ],
   "source": [
    "print(square(2))\n",
    "#after we run this, can we figure out a way to test it for generality?"
   ]
  },
  {
   "cell_type": "code",
   "execution_count": 5,
   "metadata": {},
   "outputs": [
    {
     "name": "stdout",
     "output_type": "stream",
     "text": [
      "Junk\n"
     ]
    }
   ],
   "source": [
    "junk()"
   ]
  },
  {
   "cell_type": "code",
   "execution_count": 6,
   "metadata": {},
   "outputs": [
    {
     "name": "stdout",
     "output_type": "stream",
     "text": [
      "Junk\n",
      "None\n"
     ]
    }
   ],
   "source": [
    "print(junk())"
   ]
  },
  {
   "cell_type": "markdown",
   "metadata": {},
   "source": [
    "### Consider the function below called `calculateTip` that calculates and returns a value that is 20% of the input parameter `bill`"
   ]
  },
  {
   "cell_type": "code",
   "execution_count": 7,
   "metadata": {},
   "outputs": [],
   "source": [
    "def calculateTip(bill):\n",
    "    ''' Determine the waiter/waitress tip'''\n",
    "    return 0.20 * bill"
   ]
  },
  {
   "cell_type": "code",
   "execution_count": 8,
   "metadata": {},
   "outputs": [
    {
     "name": "stdout",
     "output_type": "stream",
     "text": [
      "The tip for a restaurant bill of 25.5 is 5.1000000000000005\n"
     ]
    }
   ],
   "source": [
    "bill = 25.50\n",
    "print('The tip for a restaurant bill of', bill, 'is', calculateTip(bill))"
   ]
  },
  {
   "cell_type": "markdown",
   "metadata": {},
   "source": [
    "### The next function `totalBill` returns the sum of the input parameter `bill` and 20% of `bill`."
   ]
  },
  {
   "cell_type": "code",
   "execution_count": 9,
   "metadata": {},
   "outputs": [],
   "source": [
    "def totalBill(bill):\n",
    "    ''' Given a restaurant bill, return the bill plus tip'''\n",
    "    return bill + calculateTip(bill)"
   ]
  },
  {
   "cell_type": "code",
   "execution_count": 10,
   "metadata": {},
   "outputs": [
    {
     "name": "stdout",
     "output_type": "stream",
     "text": [
      "Given a bill of 25.5 the total bill, including tip is 30.6\n"
     ]
    }
   ],
   "source": [
    "print('Given a bill of', bill, 'the total bill, including tip is', totalBill(bill))"
   ]
  },
  {
   "cell_type": "markdown",
   "metadata": {},
   "source": [
    "### Global versus local variables\n",
    "\n",
    "* Consider the version of the function `calculateTip` below that has no input parameters.\n",
    "* `calculateTip` still uses the variable `bill` to calculate and return 20% of `bill`.\n",
    "* So where does `caluclateTip` get the value of `bill`?\n",
    "* The assumption is that `bill` is defined somewhere in the program that calls `calculateTip`.\n",
    "    * `calculateTip` uses this value of `bill`\n",
    "    * `bill` serves as a **Global** Variable in this case.\n",
    "* Global variables are variables like `bill` below.\n",
    "* They are not defined locally within the function.\n",
    "* The compiler discovers the variable globally outside the function.\n",
    "\n",
    "* Be careful when using global variables.\n",
    "* There are only a few examples where the use of Global Variables is warranted.\n",
    "* Global variables will be detected and discounted by the `check()` function."
   ]
  },
  {
   "cell_type": "code",
   "execution_count": 11,
   "metadata": {},
   "outputs": [],
   "source": [
    "def calculateTip():\n",
    "    ''' CalculateTip using global variables '''\n",
    "    return bill * 0.20"
   ]
  },
  {
   "cell_type": "code",
   "execution_count": 12,
   "metadata": {},
   "outputs": [
    {
     "name": "stdout",
     "output_type": "stream",
     "text": [
      "The tip for a bill of 28.0 is 5.6000000000000005\n"
     ]
    }
   ],
   "source": [
    "bill = 28.00\n",
    "print('The tip for a bill of', bill, 'is', calculateTip())"
   ]
  },
  {
   "cell_type": "markdown",
   "metadata": {},
   "source": [
    "### The name of the variable that is used when calling a function DOES NOT have to match the name of the parameter used in the function definition in the signature line.\n",
    "* See the example below."
   ]
  },
  {
   "cell_type": "code",
   "execution_count": 13,
   "metadata": {},
   "outputs": [],
   "source": [
    "def calculateTip(bill_local):\n",
    "    ''' CalculateTip using local variables'''\n",
    "    return bill_local * 0.20"
   ]
  },
  {
   "cell_type": "code",
   "execution_count": 14,
   "metadata": {},
   "outputs": [
    {
     "name": "stdout",
     "output_type": "stream",
     "text": [
      "The tip for a bill of 28.0 is 5.6000000000000005\n"
     ]
    }
   ],
   "source": [
    "bill = 28.00\n",
    "print('The tip for a bill of', bill, 'is', calculateTip(bill))"
   ]
  },
  {
   "cell_type": "markdown",
   "metadata": {},
   "source": [
    "### Write a function triple\n",
    "\n",
    "* Typically, in an exam you will not be asked to write a function from scratch.\n",
    "* In general, you will be given the `def` statement for the function.\n",
    "* You will also be given the docstring which is the first string in the function and should describe what the function does.\n",
    "* You will use the docstring and the `def` statement to write the function body.\n",
    "\n",
    "### Write a function `triple` that takes a parameter `x` and returns triple it's value."
   ]
  },
  {
   "cell_type": "code",
   "execution_count": 15,
   "metadata": {},
   "outputs": [
    {
     "name": "stdout",
     "output_type": "stream",
     "text": [
      "Triple 5 is 15\n",
      "Triple -1 is -3\n"
     ]
    }
   ],
   "source": [
    "def triple(x):\n",
    "    ''' Take a single parameter x and return triple it's value '''\n",
    "    y = x * 3\n",
    "    return y\n",
    "\n",
    "a = 5\n",
    "print('Triple', a, 'is', triple(a))\n",
    "a = -1\n",
    "print('Triple', a, 'is', triple(a))"
   ]
  },
  {
   "cell_type": "markdown",
   "metadata": {},
   "source": [
    "## Python allows you to write a function that uses default values.\n",
    "### This allows the function to be called with fewer arguments.\n",
    "### Be careful with this, as the default values are picked up at the point of function definition."
   ]
  },
  {
   "cell_type": "code",
   "execution_count": 16,
   "metadata": {},
   "outputs": [],
   "source": [
    "def tea_time(num_sugar='one', num_milk='no'):\n",
    "    \"\"\"Make your tea, your way!\"\"\"\n",
    "    print(\"Here is your tea with \" + num_sugar + \" sugar and \" + num_milk + \" milk\")\n",
    "    "
   ]
  },
  {
   "cell_type": "code",
   "execution_count": 17,
   "metadata": {},
   "outputs": [
    {
     "name": "stdout",
     "output_type": "stream",
     "text": [
      "Here is your tea with one sugar and no milk\n"
     ]
    }
   ],
   "source": [
    "tea_time()\n"
   ]
  },
  {
   "cell_type": "code",
   "execution_count": 18,
   "metadata": {},
   "outputs": [
    {
     "name": "stdout",
     "output_type": "stream",
     "text": [
      "Here is your tea with two sugar and no milk\n"
     ]
    }
   ],
   "source": [
    "tea_time('two')"
   ]
  },
  {
   "cell_type": "code",
   "execution_count": 19,
   "metadata": {},
   "outputs": [
    {
     "name": "stdout",
     "output_type": "stream",
     "text": [
      "Here is your tea with two sugar and a sconch of milk\n"
     ]
    }
   ],
   "source": [
    "tea_time('two', 'a sconch of')"
   ]
  },
  {
   "cell_type": "markdown",
   "metadata": {},
   "source": [
    "### Some unexpected behavior with default parameters"
   ]
  },
  {
   "cell_type": "code",
   "execution_count": 20,
   "metadata": {
    "tags": []
   },
   "outputs": [
    {
     "ename": "NameError",
     "evalue": "name 'i' is not defined",
     "output_type": "error",
     "traceback": [
      "\u001b[1;31m---------------------------------------------------------------------------\u001b[0m",
      "\u001b[1;31mNameError\u001b[0m                                 Traceback (most recent call last)",
      "Cell \u001b[1;32mIn[20], line 1\u001b[0m\n\u001b[1;32m----> 1\u001b[0m \u001b[38;5;28;01mdef\u001b[39;00m \u001b[38;5;21mmy_func\u001b[39m(value \u001b[38;5;241m=\u001b[39m \u001b[43mi\u001b[49m):\n\u001b[0;32m      2\u001b[0m     \u001b[38;5;28;01mreturn\u001b[39;00m value\u001b[38;5;241m+\u001b[39m\u001b[38;5;241m1\u001b[39m\n\u001b[0;32m      4\u001b[0m i \u001b[38;5;241m=\u001b[39m \u001b[38;5;241m2\u001b[39m\n",
      "\u001b[1;31mNameError\u001b[0m: name 'i' is not defined"
     ]
    }
   ],
   "source": [
    "def my_func(value = i):\n",
    "    return value+1\n",
    "\n",
    "i = 2\n",
    "my_func()"
   ]
  },
  {
   "cell_type": "code",
   "execution_count": 21,
   "metadata": {
    "tags": []
   },
   "outputs": [
    {
     "data": {
      "text/plain": [
       "5"
      ]
     },
     "execution_count": 21,
     "metadata": {},
     "output_type": "execute_result"
    }
   ],
   "source": [
    "i = 4\n",
    "def my_func_2(value = i):\n",
    "    return value+1\n",
    "\n",
    "i = 2\n",
    "my_func_2()"
   ]
  },
  {
   "cell_type": "markdown",
   "metadata": {},
   "source": [
    "### The answer above<html>&#11014;</html> is  5 and not 3. Why?"
   ]
  },
  {
   "cell_type": "markdown",
   "metadata": {},
   "source": [
    "## Positional and keyword parameters\n",
    "### Python allows you to write functions that have both positional and keyword parameters.\n",
    "### Positional parameters have to come before keyword parameters.\n",
    "### Positional parameters have to be specified in the correct order.\n",
    "### The order of keyword parameters does not matter."
   ]
  },
  {
   "cell_type": "code",
   "execution_count": 22,
   "metadata": {
    "tags": []
   },
   "outputs": [
    {
     "name": "stdout",
     "output_type": "stream",
     "text": [
      "a = 1. b = 2, c = 3\n",
      "a = 9.6. b = test, c = [99, 77]\n",
      "a = 10. b = running, c = [99, 107]\n"
     ]
    }
   ],
   "source": [
    "def for_arg_example(a, b, c):\n",
    "    print(f\"a = {a}. b = {b}, c = {c}\")\n",
    "    return\n",
    "\n",
    "for_arg_example(1, 2, 3)\n",
    "\n",
    "for_arg_example(9.6, \"test\", c = [99, 77])\n",
    "\n",
    "for_arg_example(10, c = [99, 107], b = \"running\")\n",
    "          "
   ]
  },
  {
   "cell_type": "markdown",
   "metadata": {},
   "source": [
    "## Arbitrary number of arguments\n",
    "### Python has a way to pass an arbitrary number of positional and keyword arguments to a function.\n",
    "\n",
    "* The example below is from the [online Python documentation](https://docs.python.org/3/tutorial/controlflow.html#keyword-arguments)\n"
   ]
  },
  {
   "cell_type": "code",
   "execution_count": 23,
   "metadata": {
    "tags": []
   },
   "outputs": [],
   "source": [
    "def cheeseshop(kind, *arguments, **keywords):\n",
    "    print(\"-- Do you have any\", kind, \"?\")\n",
    "    print(\"-- I'm sorry, we're all out of\", kind)\n",
    "    for arg in arguments:\n",
    "        print(arg)\n",
    "    print(\"-\" * 40)\n",
    "    for kw in keywords:\n",
    "        print(kw, \":\", keywords[kw])"
   ]
  },
  {
   "cell_type": "markdown",
   "metadata": {},
   "source": [
    "### The function `cheeseshop()` above will be called with one required, several positional and several keyword arguments."
   ]
  },
  {
   "cell_type": "code",
   "execution_count": 24,
   "metadata": {
    "tags": []
   },
   "outputs": [
    {
     "name": "stdout",
     "output_type": "stream",
     "text": [
      "-- Do you have any Limburger ?\n",
      "-- I'm sorry, we're all out of Limburger\n",
      "It's very runny, sir.\n",
      "It's really very, VERY runny, sir.\n",
      "----------------------------------------\n",
      "shopkeeper : Michael Palin\n",
      "client : John Cleese\n",
      "sketch : Cheese Shop Sketch\n"
     ]
    }
   ],
   "source": [
    "cheeseshop(\"Limburger\", \"It's very runny, sir.\",\n",
    "           \"It's really very, VERY runny, sir.\",\n",
    "           shopkeeper=\"Michael Palin\",\n",
    "           client=\"John Cleese\",\n",
    "           sketch=\"Cheese Shop Sketch\")"
   ]
  },
  {
   "cell_type": "code",
   "execution_count": null,
   "metadata": {},
   "outputs": [],
   "source": []
  }
 ],
 "metadata": {
  "celltoolbar": "Edit Metadata",
  "kernelspec": {
   "display_name": "Python 3",
   "language": "python",
   "name": "python3"
  },
  "language_info": {
   "codemirror_mode": {
    "name": "ipython",
    "version": 3
   },
   "file_extension": ".py",
   "mimetype": "text/x-python",
   "name": "python",
   "nbconvert_exporter": "python",
   "pygments_lexer": "ipython3",
   "version": "3.12.5"
  }
 },
 "nbformat": 4,
 "nbformat_minor": 4
}
