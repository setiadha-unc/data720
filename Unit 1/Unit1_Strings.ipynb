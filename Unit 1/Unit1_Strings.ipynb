{
 "cells": [
  {
   "cell_type": "markdown",
   "id": "de1f5b8f-bb71-4751-bb2d-8f2206895105",
   "metadata": {},
   "source": [
    "# Graded: x of 5 correct\n",
    "- [x] Correctly identifies palindromes\n",
    "- [x] Case insensitive\n",
    "- [x] Create a Boolean \n",
    "- [x] Print answer\n",
    "- [x] Test using listed examples\n",
    "\n",
    "Comments:"
   ]
  },
  {
   "cell_type": "markdown",
   "id": "79b9b181-ebe4-49aa-ae71-0bd72176b056",
   "metadata": {},
   "source": [
    "## Unit 1 Strings Quiz\n",
    "* The objective of this quiz is for you to write code to manipulate strings.\n",
    "* Write code below that checks to see is a given string is a palindrome.\n",
    "    * A palindrome is a string that reads the same backwards and forwards\n",
    "    * For example. 'atta' and 'madam'  are palindromes but'fits' is not.\n",
    "    * You code should not care about case i.e., both 'madam' and \"Madam' are palindromes.\n",
    "* Your code should create a variable that takes the value `True` if it is a palindrome and `False` if it is not.\n",
    "    * Print out your answer.\n",
    "* Test you code with the following strings 'Madam', 'madam', 'was it a car or a cat I saw`, 'ThesiS' and 'Be a TarHeel'"
   ]
  },
  {
   "cell_type": "code",
   "execution_count": 11,
   "id": "53aeda80-8714-47eb-b914-76c37e7858ac",
   "metadata": {},
   "outputs": [
    {
     "name": "stdout",
     "output_type": "stream",
     "text": [
      "Is ' Madam ' Palindromes? True\n",
      "Is ' madam ' Palindromes? True\n",
      "Is ' was it a car or a cat I saw ' Palindromes? False\n",
      "Is ' ThesiS ' Palindromes? False\n",
      "Is ' Be a TarHeel ' Palindromes? False\n"
     ]
    }
   ],
   "source": [
    "# Write your code here\n",
    "def isPalindromes(myString):\n",
    "  stringOne = myString.lower()\n",
    "  stringTwo = stringOne[-1::-1]\n",
    "\n",
    "  isPalindromes = stringOne == stringTwo\n",
    "  print(\"Is '\", myString , \"' Palindromes?\", isPalindromes)\n",
    "\n",
    "isPalindromes(\"Madam\")\n",
    "isPalindromes(\"madam\")\n",
    "isPalindromes(\"was it a car or a cat I saw\")\n",
    "isPalindromes(\"ThesiS\")\n",
    "isPalindromes(\"Be a TarHeel\")"
   ]
  },
  {
   "cell_type": "code",
   "execution_count": null,
   "id": "5ec15729",
   "metadata": {},
   "outputs": [],
   "source": []
  }
 ],
 "metadata": {
  "kernelspec": {
   "display_name": "Python 3",
   "language": "python",
   "name": "python3"
  },
  "language_info": {
   "codemirror_mode": {
    "name": "ipython",
    "version": 3
   },
   "file_extension": ".py",
   "mimetype": "text/x-python",
   "name": "python",
   "nbconvert_exporter": "python",
   "pygments_lexer": "ipython3",
   "version": "3.12.5"
  }
 },
 "nbformat": 4,
 "nbformat_minor": 5
}
