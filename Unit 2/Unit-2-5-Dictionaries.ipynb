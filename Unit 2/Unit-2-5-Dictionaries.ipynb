{
 "cells": [
  {
   "cell_type": "markdown",
   "metadata": {},
   "source": [
    "##### <img src=\"../SDSS-Logo.png\" style=\"display:inline; width:500px\" />\n",
    "\n",
    "\n",
    "## Learning Objectives\n",
    "- Understand dictionaries and how these are used in Data Science\n",
    "- Write code using dictionaries to model certain data types.\n"
   ]
  },
  {
   "cell_type": "code",
   "execution_count": 3,
   "metadata": {
    "tags": []
   },
   "outputs": [
    {
     "name": "stdout",
     "output_type": "stream",
     "text": [
      "EU_countries are ['Austria' 'Belgium' 'Bulgaria' 'Croatia' 'Cyprus' 'Czech Republic'\n",
      " 'Denmark' 'Estonia' 'Finland' 'France']\n",
      "Movie key is title\n",
      "The county poll locations array has 2662 entries\n"
     ]
    }
   ],
   "source": [
    "import comp116\n",
    "import pickle # A Python library for serializing and deserializing objects.\n",
    "import os\n",
    "import numpy as np #For numerical operations and handling arrays.\n",
    "import pandas as pd # For working with data frames and CSV files.\n",
    "\n",
    "EU_countries = np.array(['Austria', 'Belgium', 'Bulgaria', 'Croatia', 'Cyprus', 'Czech Republic', 'Denmark', 'Estonia', 'Finland', 'France'])\n",
    "EU_countries.flags.writeable = False # makes the EU_countries array immutable (read-only). Any attempt to modify its elements will raise an error.\n",
    "\n",
    "movie_key = 'title'\n",
    "\n",
    "df1 = pd.read_csv(\"Unit-2-5-polling_place_NC_20201103.csv\", sep = ',')\n",
    "county_poll_locations = df1['county_name'] # The column county_name is extracted and stored in the variable county_poll_locations.\n",
    "\n",
    "# The EU_countries array, movie_key, and county_poll_locations are serialized (saved) as a binary file\n",
    "# wb: Indicates the file is opened in write-binary mode.\n",
    "with open('Unit-2-5-Dictionaries.data.pickle', 'wb') as fid:\n",
    "    pickle.dump((EU_countries, movie_key, county_poll_locations) , fid)\n",
    "\n",
    "# deleted from memory\n",
    "del EU_countries,  movie_key, county_poll_locations \n",
    "\n",
    "# The objects previously saved in the pickle file are loaded back into memory.\n",
    "# rb: Indicates the file is opened in read-binary mode.\n",
    "with open('Unit-2-5-Dictionaries.data.pickle', 'rb') as fid:\n",
    "    EU_countries, movie_key, county_poll_locations = pickle.load(fid)\n",
    "\n",
    "print('EU_countries are', EU_countries)\n",
    "print('Movie key is', movie_key)\n",
    "print('The county poll locations array has', len(county_poll_locations), 'entries')"
   ]
  },
  {
   "cell_type": "markdown",
   "metadata": {},
   "source": [
    "## Dictionaries\n",
    "\n",
    "* Dictionaries are an important data structure in python.\n",
    "    * Dictionaries are naturally useful in dealing with JSON, which is a widely used standard in Web programming\n",
    "    * Dictionaries are a key component in pandas, which is python library that is widely used in Data Science\n",
    "* A python dictionary is a collection of objects which are indexed by a key, which can be any **immutable** python object.\n",
    "* So the data in a dictionary is organized as a collection of `key`:`value` pair.\n",
    "* A dictionary is\n",
    "    * unordered, \n",
    "    * changeable \n",
    "    * indexed by a key which doesn't have to be an integer.\n",
    "        * Keys can be a string, tuple, date or any **immutable** object\n",
    "        * strings like location names\n",
    "        * tuples like latitude and longitude\n",
    "     \n",
    " * A dictionary can be created \n",
    "     * with curly braces `x = {}` \n",
    "     * or using the `dict()` keyword.\n",
    " \n",
    "* For more information on dictionaries see:\n",
    "    * [PLYMI](https://www.pythonlikeyoumeanit.com/Module2_EssentialsOfPython/DataStructures_II_Dictionaries.html)\n",
    "    * [Official python docs](https://docs.python.org/3/tutorial/datastructures.html#dictionaries)\n",
    "    * [W3 Schools](https://www.w3schools.com/python/python_dictionaries.asp)"
   ]
  },
  {
   "cell_type": "code",
   "execution_count": 5,
   "metadata": {
    "tags": []
   },
   "outputs": [
    {
     "name": "stdout",
     "output_type": "stream",
     "text": [
      "The two dictionaries are equal\n"
     ]
    }
   ],
   "source": [
    "# Two ways of creating an empty dictionary\n",
    "empty_dictionary = dict()\n",
    "another_empty_dictionary = {}\n",
    "\n",
    "if empty_dictionary == another_empty_dictionary:\n",
    "    print('The two dictionaries are equal')\n"
   ]
  },
  {
   "cell_type": "code",
   "execution_count": 6,
   "metadata": {
    "tags": []
   },
   "outputs": [
    {
     "name": "stdout",
     "output_type": "stream",
     "text": [
      "dict1 and dict2 are equal\n"
     ]
    }
   ],
   "source": [
    "# You can also create the dictionary with the key-value pairs added\n",
    "dict1 = {'apple':'fruit', 'carrot':'vegetable'}\n",
    "dict2 = dict([('apple','fruit'), ('carrot','vegetable')])\n",
    "\n",
    "if (dict1 == dict2):\n",
    "    print('dict1 and dict2 are equal')"
   ]
  },
  {
   "cell_type": "code",
   "execution_count": 7,
   "metadata": {
    "tags": []
   },
   "outputs": [
    {
     "name": "stdout",
     "output_type": "stream",
     "text": [
      "class_dict= {'semester': 'Fall', 'year': 2020, 'course no': 'COMP116'}\n"
     ]
    }
   ],
   "source": [
    "# You can also create an empty dictionary and add the key value pairs later.\n",
    "# You use the key as the index for the dictionary.\n",
    "\n",
    "class_dict = dict()\n",
    "class_dict['semester'] = 'Fall'\n",
    "class_dict['year'] = 2020\n",
    "class_dict['course no'] = 'COMP116'\n",
    "print('class_dict=',class_dict)\n"
   ]
  },
  {
   "cell_type": "code",
   "execution_count": 9,
   "metadata": {
    "tags": []
   },
   "outputs": [
    {
     "name": "stdout",
     "output_type": "stream",
     "text": [
      "For key semester ,class_dict has value Fall\n",
      "For key year ,class_dict has value 2020\n",
      "For key course no ,class_dict has value COMP116\n"
     ]
    }
   ],
   "source": [
    "# You can iterate through the dictionary using a for loop\n",
    "for key in class_dict:\n",
    "    print('For key', key, ',class_dict has value', class_dict[key])"
   ]
  },
  {
   "cell_type": "code",
   "execution_count": 10,
   "metadata": {
    "tags": []
   },
   "outputs": [
    {
     "name": "stdout",
     "output_type": "stream",
     "text": [
      "For key semester ,class_dict has value Fall\n",
      "For key year ,class_dict has value 2020\n",
      "For key course no ,class_dict has value COMP116\n",
      "For key course name ,class_dict has value Introduction to Scientific Programming\n"
     ]
    }
   ],
   "source": [
    "# You can add additional key-value pairs to the dictionary\n",
    "class_dict['course name'] = 'Introduction to Scientific Programming'\n",
    "for key in class_dict:\n",
    "    print('For key', key, ',class_dict has value', class_dict[key])"
   ]
  },
  {
   "cell_type": "code",
   "execution_count": 13,
   "metadata": {
    "tags": []
   },
   "outputs": [
    {
     "name": "stdout",
     "output_type": "stream",
     "text": [
      "Key apple is a fruit\n",
      "Key carrot is a vegetable\n",
      "Key banana is a fruit\n",
      "Key radish is a vegetable\n"
     ]
    }
   ],
   "source": [
    "# just like for sets, you can add multiple items using update\n",
    "dict1.update({'banana':'fruit', 'radish':'vegetable'})\n",
    "for key in dict1:\n",
    "    print('Key', key, 'is a', dict1[key])"
   ]
  },
  {
   "cell_type": "markdown",
   "metadata": {},
   "source": [
    "### Why dictionaries?\n",
    "\n",
    "* Arrays or lists, as compared to dictionaries, are accessed using the numerical index.\n",
    "\n",
    "* Dictionary values, on the other hand can be accessed using the key value, which can be much more human friendly.\n",
    "\n",
    "* As an example,assume you want to put information about movies into Python collections.\n",
    "    * You have movie title, year it was released, director, etc\n",
    "    * Compare doing it using lists vs dictionaries\n"
   ]
  },
  {
   "cell_type": "code",
   "execution_count": 15,
   "metadata": {
    "tags": []
   },
   "outputs": [
    {
     "name": "stdout",
     "output_type": "stream",
     "text": [
      "movie array= ['Guardians of the galaxy', 2014, 'James Gunn']\n",
      "movie dictionary= {'title': 'Guardians of the galaxy', 'year': 2014, 'director': 'James Gunn'}\n"
     ]
    }
   ],
   "source": [
    "# First as a list\n",
    "movie1_array = ['Guardians of the galaxy', 2014, 'James Gunn']\n",
    "print('movie array=', movie1_array)\n",
    "\n",
    "# Then as a dictionary\n",
    "movie1_dict = {}\n",
    "movie1_dict['title'] = 'Guardians of the galaxy'\n",
    "movie1_dict['year'] = 2014\n",
    "movie1_dict['director'] = 'James Gunn'\n",
    "print('movie dictionary=', movie1_dict)"
   ]
  },
  {
   "cell_type": "code",
   "execution_count": 19,
   "metadata": {},
   "outputs": [
    {
     "name": "stdout",
     "output_type": "stream",
     "text": [
      "Index: 0, Value: Alice\n",
      "Index: 1, Value: Bob\n",
      "Index: 2, Value: Charlie\n",
      "Key: Alice, Value: 25\n",
      "Key: Bob, Value: 30\n",
      "Key: Charlie, Value: 35\n"
     ]
    }
   ],
   "source": [
    "names = [\"Alice\", \"Bob\", \"Charlie\"]\n",
    "\n",
    "for index, value in enumerate(names):\n",
    "    print(f\"Index: {index}, Value: {value}\")\n",
    "\n",
    "names = {\"Alice\": 25, \"Bob\": 30, \"Charlie\": 35}\n",
    "for key, value in names.items():\n",
    "    print(f\"Key: {key}, Value: {value}\")"
   ]
  },
  {
   "cell_type": "code",
   "execution_count": 21,
   "metadata": {
    "tags": []
   },
   "outputs": [
    {
     "name": "stdout",
     "output_type": "stream",
     "text": [
      "The title is Guardians of the galaxy\n",
      "The title is Guardians of the galaxy\n"
     ]
    }
   ],
   "source": [
    "# Now suppose you want to access the movie's title\n",
    "# For a list you need to know that title is the 1st element (0th index) of the array\n",
    "print('The title is', movie1_array[0])\n",
    "\n",
    "# For the dictionary, you just need to remember that the movie title is the value for the key title\n",
    "print('The title is', movie1_dict['title'])"
   ]
  },
  {
   "cell_type": "markdown",
   "metadata": {},
   "source": [
    "### Let us try accessing other data\n",
    "\n",
    "* Set variable `movie1_dict_director` to `movie1_dict` director.\n",
    "\n",
    "* Set variable `movie1_array_director` to `movie1_array`'s director.\n",
    "\n",
    "* In the first cell we read in `movie_key` from the pickle file.\n",
    "\n",
    "* Set variable `movie1_dict_key_value` to `movie_dict`'s value for the key `movie_key`.\n",
    "\n",
    "* Set variable `movie_array_key_value` to `movie_array`'s value for the key `movie_key`.\n",
    "\n",
    "\n",
    "#### **Note:** What if we collected hundreds of items for each movie, would it be easy to remember which entry of an array was the director?"
   ]
  },
  {
   "cell_type": "code",
   "execution_count": 22,
   "metadata": {
    "tags": []
   },
   "outputs": [
    {
     "name": "stdout",
     "output_type": "stream",
     "text": [
      "Movie key is  title and is of type <class 'str'>\n",
      "The movie director was James Gunn James Gunn\n",
      "The movie key's value was Guardians of the galaxy Guardians of the galaxy\n"
     ]
    }
   ],
   "source": [
    "print('Movie key is ', movie_key, 'and is of type', type(movie_key))\n",
    "\n",
    "movie1_dict_director = movie1_dict['director']\n",
    "movie1_array_director = movie1_array[2]\n",
    "    \n",
    "movie1_dict_key_value = movie1_dict[movie_key]\n",
    "movie_array_key_value = movie1_array[0]\n",
    "\n",
    "\n",
    "print('The movie director was', movie1_dict_director, movie1_array_director)\n",
    "print('The movie key\\'s value was', movie1_dict_key_value, movie_array_key_value)"
   ]
  },
  {
   "cell_type": "code",
   "execution_count": 23,
   "metadata": {
    "tags": []
   },
   "outputs": [
    {
     "name": "stdout",
     "output_type": "stream",
     "text": [
      "moviedictionary= {'title': 'Avengers: Endgame', 'year': 2019, 'director': ['Anthony Russo', 'Joe Russo']}\n"
     ]
    }
   ],
   "source": [
    "# You can define a dictionary with it's keys:\n",
    "\n",
    "movie2_dict = {\n",
    "    'title': 'Avengers: Endgame',\n",
    "    'year': 2019,\n",
    "    'director': ['Anthony Russo', 'Joe Russo']\n",
    "}\n",
    "print('moviedictionary=', movie2_dict)"
   ]
  },
  {
   "cell_type": "code",
   "execution_count": 24,
   "metadata": {
    "tags": []
   },
   "outputs": [
    {
     "name": "stdout",
     "output_type": "stream",
     "text": [
      "The information we have on Guardians of the galaxy is:\n",
      "\tkey title has value Guardians of the galaxy\n",
      "\tkey year has value 2014\n",
      "\tkey director has value James Gunn\n"
     ]
    }
   ],
   "source": [
    "# You can iterate over a dictionary's keys\n",
    "print('The information we have on', movie1_dict['title'], 'is:')\n",
    "for key in movie1_dict:\n",
    "    print('\\tkey', key, 'has value', movie1_dict[key])"
   ]
  },
  {
   "cell_type": "markdown",
   "metadata": {},
   "source": [
    "### Keys don't have to be character strings\n",
    "\n",
    "* Keys can be anything immutable (i.e. that do not change.)\n",
    "* So you could use a tuple, which are objects grouped by parenthesis. Tuples are immutable.\n",
    "* You can't use a list or array as a key because elements within a list can change.\n",
    "* In assignment 4 you might make the city name be the key to a dictionary of where complaints were issued.  \n",
    "* Also in assignment 4 you might make the coordinates the key to where a blocked driveway occurred."
   ]
  },
  {
   "cell_type": "markdown",
   "metadata": {},
   "source": [
    " ### Dictionary keys are hashed for quick look up\n",
    " #### Becasue they are hashed, they have to be immutable\n",
    " \n",
    "* Hashing is a common approach that is used in Computer Science to speed up searching for something.\n",
    "\n",
    "* You can check [this page](https://wiki.python.org/moin/DictionaryKeys) to understand why python uses hashes for keys.\n",
    " \n",
    "* A dictionary key is _hashed_ to convert to numerical lookup.\n",
    "* If a key changes, then its has value also changes, so the simple numerical lookup points to the wrong place.\n",
    "* This is why an array cannot be used as a key but a tuple can be.\n",
    "\n",
    "        \n",
    "<pre>\n",
    "\n",
    "\n",
    "</pre>"
   ]
  },
  {
   "cell_type": "code",
   "execution_count": 25,
   "metadata": {
    "tags": []
   },
   "outputs": [
    {
     "name": "stdout",
     "output_type": "stream",
     "text": [
      "[-1, 2] [-1, 2]\n"
     ]
    }
   ],
   "source": [
    "x = [1, 2]\n",
    "y = x\n",
    "x[0] = -1\n",
    "print(x, y )"
   ]
  },
  {
   "cell_type": "code",
   "execution_count": 26,
   "metadata": {
    "tags": []
   },
   "outputs": [
    {
     "name": "stdout",
     "output_type": "stream",
     "text": [
      "-3550055125485641917\n",
      "Hashing a list failed, unhashable type: 'list'\n",
      "\n"
     ]
    }
   ],
   "source": [
    "x=1\n",
    "y=2\n",
    "print(hash((x, y)))\n",
    "\n",
    "try:\n",
    "    hash([x,y])\n",
    "except Exception as e:\n",
    "    print(\"Hashing a list failed,\", e)\n",
    "\n",
    "print(\"\")"
   ]
  },
  {
   "cell_type": "code",
   "execution_count": 1,
   "metadata": {
    "tags": []
   },
   "outputs": [
    {
     "name": "stdout",
     "output_type": "stream",
     "text": [
      "hash of 'a' is -699068648616606769\n",
      "\n",
      "Notice when x[0] was changed, so was y[0] [-1, 2] [-1, 2]\n",
      "This is why you cannot use an array as a key.  It can change in a hidden way, and its hash value will change\n",
      "\n",
      "unhashable type: 'list'\n",
      "MyDict1 is  {(1, 2): 'Chapel Hill'}\n"
     ]
    }
   ],
   "source": [
    "# Hash is used here\n",
    "# only to help you understand why keys have to be immutable\n",
    "print(\"hash of 'a' is\", hash('a'))\n",
    "print()\n",
    "\n",
    "x = [1, 2]\n",
    "y = x\n",
    "x[0] = -1\n",
    "print(\"Notice when x[0] was changed, so was y[0]\", x, y)\n",
    "print(\"This is why you cannot use an array as a key.  It can change in a hidden way, and its hash value will change\")\n",
    "print()\n",
    "\n",
    "#What happens if you try to use a list as a key?\n",
    "try:\n",
    "    myDict = {x:  \"Chapel Hill\"}\n",
    "except TypeError as e:\n",
    "    print(e)\n",
    "\n",
    "# But you can use a tuple as a key\n",
    "a = 1\n",
    "b = 2\n",
    "myDict1 = {(a, b): 'Chapel Hill'}\n",
    "print('MyDict1 is ', myDict1)"
   ]
  },
  {
   "cell_type": "markdown",
   "metadata": {},
   "source": [
    "### A key has to have a value before you can reference it.\n",
    "\n",
    "* You cannot reference a dictionary by a key that has not had a value set yet.\n",
    "\n",
    "* You can test by using `if key in dict` format"
   ]
  },
  {
   "cell_type": "code",
   "execution_count": null,
   "metadata": {
    "tags": []
   },
   "outputs": [],
   "source": [
    "try:\n",
    "    x = movie1_dict['non-existent-key'] # causes KeyError\n",
    "except Exception as e:\n",
    "    print(\"Error with accessing,\", e)\n",
    "\n",
    "# We can test to see if the key exists and add it if it does not.\n",
    "if 'non-existent-key' not in movie1_dict:\n",
    "    movie1_dict['non-existent-key'] = None \n",
    "    \n",
    "print('movie1_dict is now', movie1_dict)\n",
    "\n",
    "# Another way to do this is to use the get() method\n",
    "movie1_dict['New movie'] = movie1_dict.get('New movie', \"Dune\")\n",
    "print('movie1_dict is now', movie1_dict)"
   ]
  },
  {
   "cell_type": "markdown",
   "metadata": {},
   "source": [
    "### Using dictionaries to count characters in an array of strings\n",
    "\n",
    "#### Strategy to solve countCharacters\n",
    "\n",
    " 1. Create a dictionary for counting the characters\n",
    " 1. Iterate over each `string` in `string_list`\n",
    "    1. Iterate over each character in `string`\n",
    "       1. If the character was not seen before, set dictionary key's value to zero\n",
    "       1. Increment the dictionary key's value by one\n",
    " 1. Return the dictionary\n",
    "<pre>\n",
    "\n",
    "</pre>"
   ]
  },
  {
   "cell_type": "code",
   "execution_count": 8,
   "metadata": {
    "tags": []
   },
   "outputs": [
    {
     "name": "stdout",
     "output_type": "stream",
     "text": [
      "{'A': 1, 'u': 5, 's': 3, 't': 3, 'r': 6, 'i': 7, 'a': 9, 'B': 2, 'e': 5, 'l': 4, 'g': 2, 'm': 2, 'C': 3, 'o': 2, 'y': 1, 'p': 2, 'z': 1, 'c': 3, 'h': 1, ' ': 1, 'R': 1, 'b': 1, 'D': 1, 'n': 5, 'k': 1, 'E': 1, 'F': 2, 'd': 1}\n"
     ]
    }
   ],
   "source": [
    "def countCharacters(string_list):\n",
    "    '''\n",
    "    For an array of strings, string_list, create a dictionary that has a key for each character\n",
    "    in string_list and has a value for the number of occurences of that character.  Return the dictionary.\n",
    "    \n",
    "    For example, if string_list is\n",
    "    ['Austria', 'Belgium', 'Bulgaria', 'Croatia', 'Cyprus', 'Czech Republic', 'Denmark', 'Estonia', 'Finland', 'France'],\n",
    "    \n",
    "    countCharacters would return {\n",
    "    '{'A': 1, 'u': 5, 's': 3, 't': 3, 'r': 6, 'i': 7, 'a': 9, 'B': 2, 'e': 5, 'l': 4, 'g': 2, 'm': 2, \n",
    "    'C': 3, 'o': 2, 'y': 1, 'p': 2, 'z': 1, 'c': 3, 'h': 1, ' ': 1, 'R': 1, 'b': 1, 'D': 1, 'n': 5, \n",
    "    'k': 1, 'E': 1, 'F': 2, 'd': 1}\n",
    "    '''\n",
    "    ret_dict = {}\n",
    "    # For each string in string list:\n",
    "    #   For each character in string:\n",
    "    #       if that character is not a key in ret_dict:\n",
    "    #            set the key's value to zer\n",
    "    #       increment ret_dict key char by 1\n",
    "\n",
    "    for string in string_list:\n",
    "        for char in string:\n",
    "            if char not in ret_dict:\n",
    "                ret_dict[char] = 0\n",
    "            ret_dict[char] += 1\n",
    "\n",
    "    return ret_dict\n",
    "\n",
    "print(countCharacters(EU_countries))"
   ]
  },
  {
   "cell_type": "code",
   "execution_count": 9,
   "metadata": {},
   "outputs": [
    {
     "data": {
      "text/plain": [
       "array(['Austria', 'Belgium', 'Bulgaria', 'Croatia', 'Cyprus',\n",
       "       'Czech Republic', 'Denmark', 'Estonia', 'Finland', 'France'],\n",
       "      dtype='<U14')"
      ]
     },
     "execution_count": 9,
     "metadata": {},
     "output_type": "execute_result"
    }
   ],
   "source": [
    "EU_countries"
   ]
  },
  {
   "cell_type": "markdown",
   "metadata": {},
   "source": [
    "### The Dictionary `get` method can help here\n",
    "\n",
    "* You can also use the `get` method of a dictionary to test if a key exists and to provide a default value\n",
    "\n",
    "* `ret_list.get(char, 0)` will get `ret_list[char]` if it exists.\n",
    "* It will get 0 if it does not exist.\n"
   ]
  },
  {
   "cell_type": "code",
   "execution_count": null,
   "metadata": {
    "tags": []
   },
   "outputs": [],
   "source": [
    "def countCharacters(string_list):\n",
    "    '''\n",
    "    For an array of strings, string_list, create a dictionary that has a key for each character\n",
    "    in string_list and has a value for the number of occurances of the character.  Return the dictionary\n",
    "    \n",
    "    For example, if string_list is\n",
    "    ['Austria', 'Belgium', 'Bulgaria', 'Croatia', 'Cyprus', 'Czech Republic', 'Denmark', 'Estonia', 'Finland', 'France'],\n",
    "    \n",
    "    countCharacters would return {\n",
    "    '{'A': 1, 'u': 5, 's': 3, 't': 3, 'r': 6, 'i': 7, 'a': 9, 'B': 2, 'e': 5, 'l': 4, 'g': 2, 'm': 2, \n",
    "    'C': 3, 'o': 2, 'y': 1, 'p': 2, 'z': 1, 'c': 3, 'h': 1, ' ': 1, 'R': 1, 'b': 1, 'D': 1, 'n': 5, \n",
    "    'k': 1, 'E': 1, 'F': 2, 'd': 1}\n",
    "    '''\n",
    "    ret_dict = {}\n",
    "    for string in string_list:\n",
    "        for char in string:\n",
    "            ret_dict[char] = ret_dict.get(char, 0) + 1\n",
    "    return ret_dict\n",
    "\n",
    "print(countCharacters(EU_countries))"
   ]
  },
  {
   "cell_type": "markdown",
   "metadata": {},
   "source": [
    "### Revisit the county poll locations problem:\n",
    "\n",
    "* Write a function called `pollingLocationCountsDict` that given a numpy string array of county names with polling locations, returns a dictionary with county names as key and  the number of polling locations in that county as the key value."
   ]
  },
  {
   "cell_type": "code",
   "execution_count": 4,
   "metadata": {
    "tags": []
   },
   "outputs": [
    {
     "name": "stdout",
     "output_type": "stream",
     "text": [
      "{'ALAMANCE': 38, 'ALEXANDER': 10, 'ALLEGHANY': 4, 'ANSON': 9, 'ASHE': 17, 'AVERY': 19, 'BEAUFORT': 21, 'BERTIE': 12, 'BLADEN': 17, 'BRUNSWICK': 25, 'BUNCOMBE': 80, 'BURKE': 33, 'CABARRUS': 39, 'CALDWELL': 20, 'CAMDEN': 3, 'CARTERET': 26, 'CASWELL': 9, 'CATAWBA': 40, 'CHATHAM': 18, 'CHEROKEE': 16, 'CHOWAN': 6, 'CLAY': 9, 'CLEVELAND': 21, 'COLUMBUS': 26, 'CRAVEN': 21, 'CUMBERLAND': 75, 'CURRITUCK': 11, 'DARE': 16, 'DAVIDSON': 43, 'DAVIE': 14, 'DUPLIN': 19, 'DURHAM': 57, 'EDGECOMBE': 21, 'FORSYTH': 101, 'FRANKLIN': 18, 'GASTON': 46, 'GATES': 6, 'GRAHAM': 4, 'GRANVILLE': 15, 'GREENE': 10, 'GUILFORD': 165, 'HALIFAX': 19, 'HARNETT': 13, 'HAYWOOD': 29, 'HENDERSON': 35, 'HERTFORD': 13, 'HOKE': 15, 'HYDE': 7, 'IREDELL': 29, 'JACKSON': 13, 'JOHNSTON': 36, 'JONES': 7, 'LEE': 10, 'LENOIR': 22, 'LINCOLN': 23, 'MACON': 15, 'MADISON': 12, 'MARTIN': 13, 'MCDOWELL': 17, 'MECKLENBURG': 195, 'MITCHELL': 9, 'MONTGOMERY': 14, 'MOORE': 26, 'NASH': 24, 'NEW HANOVER': 43, 'NORTHAMPTON': 13, 'ONSLOW': 24, 'ORANGE': 41, 'PAMLICO': 10, 'PASQUOTANK': 9, 'PENDER': 19, 'PERQUIMANS': 7, 'PERSON': 11, 'PITT': 40, 'POLK': 7, 'RANDOLPH': 22, 'RICHMOND': 16, 'ROBESON': 39, 'ROCKINGHAM': 15, 'ROWAN': 41, 'RUTHERFORD': 17, 'SAMPSON': 23, 'SCOTLAND': 7, 'STANLY': 22, 'STOKES': 18, 'SURRY': 24, 'SWAIN': 5, 'TRANSYLVANIA': 15, 'TYRRELL': 6, 'UNION': 52, 'VANCE': 12, 'WAKE': 206, 'WARREN': 14, 'WASHINGTON': 6, 'WATAUGA': 20, 'WAYNE': 28, 'WILKES': 27, 'WILSON': 24, 'YADKIN': 12, 'YANCEY': 11}\n"
     ]
    }
   ],
   "source": [
    "def pollingLocationCountsDict(names):\n",
    "    '''\n",
    "    Given a Python array of county names, returns a dictionary of the unique\n",
    "    counties as key and the number of polling locations in each county as value\n",
    "    '''\n",
    "    # Unique counties and number of polling locations\n",
    "    poll_loc_count = {}\n",
    "    for county in names:\n",
    "        poll_loc_count[county] = poll_loc_count.get(county, 0) + 1\n",
    "\n",
    "    return poll_loc_count\n",
    "\n",
    "polling_locations_count_dict = pollingLocationCountsDict(county_poll_locations)\n",
    "print(polling_locations_count_dict)"
   ]
  },
  {
   "cell_type": "code",
   "execution_count": 1,
   "metadata": {},
   "outputs": [
    {
     "data": {
      "image/png": "[encoded data removed]",
      "text/plain": [
       "<Figure size 640x480 with 1 Axes>"
      ]
     },
     "metadata": {},
     "output_type": "display_data"
    }
   ],
   "source": [
    "import matplotlib.pyplot as plt\n",
    "import matplotlib.gridspec as gridspec\n",
    "import numpy as np\n",
    "\n",
    "# Sample Data\n",
    "groups = ['Group A', 'Group B', 'Group C']\n",
    "values1 = [10, 15, 20]\n",
    "values2 = [8, 12, 18]\n",
    "\n",
    "# Create a figure and a gridspec\n",
    "fig = plt.figure()\n",
    "gs = gridspec.GridSpec(1, 1)\n",
    "\n",
    "# Create an axes within the gridspec\n",
    "ax = fig.add_subplot(gs[0])\n",
    "\n",
    "# Set the width of the bars\n",
    "bar_width = 0.35\n",
    "\n",
    "# Create the grouped bar chart\n",
    "index = np.arange(len(groups))\n",
    "bar1 = ax.bar(index, values1, bar_width, label='Category 1')\n",
    "bar2 = ax.bar(index + bar_width, values2, bar_width, label='Category 2')\n",
    "\n",
    "# Add labels and title\n",
    "ax.set_xlabel('Groups')\n",
    "ax.set_ylabel('Values')\n",
    "ax.set_title('Grouped Bar Chart')\n",
    "ax.set_xticks(index + bar_width / 2)\n",
    "ax.set_xticklabels(groups)\n",
    "ax.legend()\n",
    "\n",
    "# Display the plot\n",
    "plt.show()"
   ]
  }
 ],
 "metadata": {
  "celltoolbar": "Edit Metadata",
  "kernelspec": {
   "display_name": "Python 3",
   "language": "python",
   "name": "python3"
  },
  "language_info": {
   "codemirror_mode": {
    "name": "ipython",
    "version": 3
   },
   "file_extension": ".py",
   "mimetype": "text/x-python",
   "name": "python",
   "nbconvert_exporter": "python",
   "pygments_lexer": "ipython3",
   "version": "3.12.5"
  }
 },
 "nbformat": 4,
 "nbformat_minor": 4
}
