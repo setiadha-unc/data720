{
 "cells": [
  {
   "cell_type": "markdown",
   "id": "9a0761f7-f192-4395-9001-a3c48509ce59",
   "metadata": {},
   "source": [
    "# Graded: x of 4 correct\n",
    "- [x] Read the data from the file\n",
    "- [x] Extract the date, city, and temperature values\n",
    "- [x] Calculate mean temperature for each city\n",
    "- [x] Identify dates where the city temperature was above the city average\n",
    "\n",
    "Comments: "
   ]
  },
  {
   "cell_type": "markdown",
   "id": "79b9b181-ebe4-49aa-ae71-0bd72176b056",
   "metadata": {},
   "source": [
    "## Unit 2 File I/O Quiz\n",
    "* The objective of this quiz is for you to write code that reads data from a file and does simple analysis on the data.\n",
    "* The name of the file is `Unit2_city_weather_data.csv`.\n",
    "* The file contains weather data for two North Carolina cities.\n",
    "* The file is in the CSV format.\n",
    "* The file has three columns: a date, a city and the temperature for that city and date.\n",
    "* Your code should do the following:\n",
    "    * Read the data from Unit2_city_weather_data.txt.\n",
    "    * Extract the date, city, and temperature values.\n",
    "    * Calculate the average temperature for each city.\n",
    "    * Print out the average temperature for each city.\n",
    "    * Identify and print the dates for each city where the temperature was above the city's average.\n",
    "* **Note: Do not use Pandas to read in data**"
   ]
  },
  {
   "cell_type": "code",
   "execution_count": 37,
   "id": "79112d3d-c6af-405b-b8f4-cc54aeedfa84",
   "metadata": {},
   "outputs": [
    {
     "name": "stdout",
     "output_type": "stream",
     "text": [
      "\n",
      "Average temperature for Raleigh is 21.75\n",
      "Dates for Raleigh when the temperature above the average:\n",
      "Date: 2024-01-01 has temperature 22 C\n",
      "Date: 2024-01-03 has temperature 23 C\n",
      "Date: 2024-01-07 has temperature 22 C\n",
      "\n",
      "Average temperature for Charlotte is 21.333333333333332\n",
      "Dates for Charlotte when the temperature above the average:\n",
      "Date: 2024-01-04 has temperature 24 C\n"
     ]
    }
   ],
   "source": [
    "# Write the code for your program below.\n",
    "import csv\n",
    "bigList = [] # per line -> per array index\n",
    "cities = [] # cities\n",
    "totalTemp = [0, 0] # Sum total temp each cities\n",
    "cityTemp = [[], []] # list temp each cities \n",
    "cityDate = [[], []] # list date each cities \n",
    "noLines = 0\n",
    "with open('Unit2_city_weather_data.csv', mode = 'r') as myFile:\n",
    "    csvFile = csv.reader(myFile)\n",
    "    for lines in csvFile:\n",
    "        noLines += 1\n",
    "        bigList.append(lines)\n",
    "\n",
    "        # Only execute when it's not a header\n",
    "        if noLines > 1:\n",
    "            \n",
    "            # If the city doesn't exist on var cities then add it to the list\n",
    "            if not lines[1] in cities:\n",
    "                cities.append(lines[1])\n",
    "\n",
    "            # Get the index of the city, then use the same index to store the total temp\n",
    "            idx = cities.index(lines[1])\n",
    "            if not len(totalTemp) > idx:\n",
    "                totalTemp[idx] = 0\n",
    "                print(\"ABC\")\n",
    "\n",
    "            totalTemp[idx] += int(lines[2])\n",
    "            cityTemp[idx].append(lines[2])\n",
    "            cityDate[idx].append(lines[0])\n",
    "\n",
    "# print(f\"Number of lines read = {noLines}\")\n",
    "# print(f\"First 10 list values\\n {bigList[:10]}\")\n",
    "# print(f\"Cities list values\\n {cities}\")\n",
    "# print(f\"totalTemp list values\\n {totalTemp}\")\n",
    "# print(f\"cityTemp list values\\n {cityTemp}\")\n",
    "# print(f\"cityDate list values\\n {cityDate} \\n\\n\")\n",
    "\n",
    "for idxCity in range(len(cities)):\n",
    "    avgTemp = totalTemp[idxCity]/len(cityTemp[idxCity])\n",
    "    print(f\"\\nAverage temperature for {cities[idxCity]} is {avgTemp}\")\n",
    "    print(f\"Dates for {cities[idxCity]} when the temperature above the average:\")\n",
    "    for idxDate in range(len(cityDate[idxCity])):\n",
    "        if(int(cityTemp[idxCity][idxDate]) > avgTemp):\n",
    "            print(f\"Date: {cityDate[idxCity][idxDate]} has temperature {cityTemp[idxCity][idxDate]} C\")\n",
    "# type(csvFile)\n",
    "# csvFile"
   ]
  },
  {
   "cell_type": "code",
   "execution_count": null,
   "id": "2383bb4f",
   "metadata": {},
   "outputs": [],
   "source": []
  }
 ],
 "metadata": {
  "kernelspec": {
   "display_name": "Python 3",
   "language": "python",
   "name": "python3"
  },
  "language_info": {
   "codemirror_mode": {
    "name": "ipython",
    "version": 3
   },
   "file_extension": ".py",
   "mimetype": "text/x-python",
   "name": "python",
   "nbconvert_exporter": "python",
   "pygments_lexer": "ipython3",
   "version": "3.12.5"
  }
 },
 "nbformat": 4,
 "nbformat_minor": 5
}
