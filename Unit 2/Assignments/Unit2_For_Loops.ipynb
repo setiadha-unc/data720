{
 "cells": [
  {
   "cell_type": "markdown",
   "id": "dd8776d3-0d41-498b-9581-a9392b6c52be",
   "metadata": {},
   "source": [
    "# Graded: x of 8 correct\n",
    "- [x] Print message that explains rules\n",
    "- [x] Generate random number between\n",
    "- [x] Guess prompt\n",
    "- [x] Check value\n",
    "- [x] Provide guess feedback\n",
    "- [x] Exit when correct or guess limit is reached\n",
    "- [x] Success/failure message\n",
    "- [x] Test with different ranges/guess amounts\n",
    "\n",
    "Comments: "
   ]
  },
  {
   "cell_type": "markdown",
   "id": "79b9b181-ebe4-49aa-ae71-0bd72176b056",
   "metadata": {},
   "source": [
    "## Unit 2 For Loops Quiz\n",
    "* The objective of this quiz is for you to write code that implements a number guessing game.\n",
    "* The objective of the game is for the player to guess a randomly chosen number within a given number of guesses.\n",
    "* Your program should do the following:\n",
    "    * Print a suitable message that explains the rules of the game.\n",
    "    * Generate a random number within a specified range.\n",
    "        * Consider using the Python function `randint` from the [`random`](https://docs.python.org/3/library/random.html) module. Example usage is shown below.\n",
    "        * To begin with, assume that the range is from 0-100 and the player has to guess it within 6 guesses.\n",
    "    * Create a `for` loop that:\n",
    "        * Prompts the player to enter a guess.\n",
    "        * Checks if the entered value is equal to the randomly chosen value, greater than it or less than it.\n",
    "        * Provide feedback to the user on how the enetered value is related to the randomly chosen value.\n",
    "        * Exit the `for` loop if the guess is correct or the number of guesses exceeds the allowed number.\n",
    "    * Present a suitable message to the player about their success or failure in guessing the number.\n",
    "    \n",
    "* Test you code for different values of the range within which the random integer lies, and differeent numbers of allowed guesses.."
   ]
  },
  {
   "cell_type": "code",
   "execution_count": 7,
   "id": "53aeda80-8714-47eb-b914-76c37e7858ac",
   "metadata": {},
   "outputs": [],
   "source": [
    "# Generating a random integer between 0 and 100 and save it to rInt\n",
    "import random\n",
    "rInt = random.randint(0, 100)\n",
    "#print(\"Random integer: \", rInt)"
   ]
  },
  {
   "cell_type": "markdown",
   "id": "cca6c0dd",
   "metadata": {},
   "source": []
  },
  {
   "cell_type": "code",
   "execution_count": 5,
   "id": "402633dc",
   "metadata": {},
   "outputs": [
    {
     "name": "stdout",
     "output_type": "stream",
     "text": [
      "Guess The Number. Guess the number between 0 to 100, you have 5 chances to guess the right number. Good luck!\n"
     ]
    }
   ],
   "source": [
    "print(\"Guess The Number. Guess the number between 0 to 100, you have 5 chances to guess the right number. Good luck!\")"
   ]
  },
  {
   "cell_type": "code",
   "execution_count": 6,
   "id": "79112d3d-c6af-405b-b8f4-cc54aeedfa84",
   "metadata": {},
   "outputs": [
    {
     "name": "stdout",
     "output_type": "stream",
     "text": [
      "Attempt No 1.\n",
      "Your guess: 20 is LESS than the random number\n",
      "Attempt No 2.\n",
      "Yay 39 ! You got it right.\n"
     ]
    }
   ],
   "source": [
    "# Write the code for your program below.\n",
    "\n",
    "# Var as indicator for the result whether the user success or not\n",
    "guess_result = False\n",
    "\n",
    "# Loop input by user\n",
    "for i in range(1,6):\n",
    "    guess_input = input(\"Enter your guess!\")\n",
    "\n",
    "    guess_input = int(guess_input)\n",
    "\n",
    "    print(f\"Attempt No {i}.\")\n",
    "\n",
    "    # Print their guess compare to the random number\n",
    "    if guess_input > rInt:\n",
    "        print(f\"Your guess: {guess_input} is GREATER than the random number\")\n",
    "    elif guess_input < rInt:\n",
    "        print(f\"Your guess: {guess_input} is LESS than the random number\")\n",
    "    else:\n",
    "        print(f\"Yay {guess_input} ! You got it right.\")\n",
    "        guess_result = True\n",
    "        break"
   ]
  },
  {
   "cell_type": "code",
   "execution_count": 4,
   "id": "65f1e720",
   "metadata": {},
   "outputs": [
    {
     "name": "stdout",
     "output_type": "stream",
     "text": [
      "Great job, you did it!\n"
     ]
    }
   ],
   "source": [
    "# Print out the result\n",
    "if guess_result:\n",
    "    print(\"Great job, you did it!\")\n",
    "else:\n",
    "    print(f\"Try your luck again next time! The random number is {rInt}\")"
   ]
  }
 ],
 "metadata": {
  "kernelspec": {
   "display_name": "Python 3",
   "language": "python",
   "name": "python3"
  },
  "language_info": {
   "codemirror_mode": {
    "name": "ipython",
    "version": 3
   },
   "file_extension": ".py",
   "mimetype": "text/x-python",
   "name": "python",
   "nbconvert_exporter": "python",
   "pygments_lexer": "ipython3",
   "version": "3.12.5"
  }
 },
 "nbformat": 4,
 "nbformat_minor": 5
}
