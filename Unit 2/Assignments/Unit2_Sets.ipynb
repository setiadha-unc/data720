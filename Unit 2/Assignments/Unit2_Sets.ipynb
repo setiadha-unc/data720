{
 "cells": [
  {
   "cell_type": "markdown",
   "id": "b4522b94-c728-4075-9352-8013e828e4da",
   "metadata": {},
   "source": [
    "# Graded: x of 5 correct\n",
    "- [x] Function accepts list\n",
    "- [x] Function uses set\n",
    "- [x] Function returns list of uniques\n",
    "- [x] Tested with myList\n",
    "- [x] Tested with larger and non-numerical values\n",
    "\n",
    "Comments:"
   ]
  },
  {
   "cell_type": "markdown",
   "id": "79b9b181-ebe4-49aa-ae71-0bd72176b056",
   "metadata": {},
   "source": [
    "## Unit 2 Sets Quiz\n",
    "* The objective of this quiz is for you to write code that uses sets.\n",
    "* Please write a `function` called `keep_unique` that should do the following:\n",
    "    * Accept an input list.\n",
    "    * Return another list that contains only the unique elements in the input list.\n",
    "* Print out the number of items in the original list and the number of unique elements in the list.\n",
    "* A list called `myList` is included below for you to test your code.\n",
    "    * Please test you code with other larger lists as well as lists with non-numerical values."
   ]
  },
  {
   "cell_type": "code",
   "execution_count": 2,
   "id": "003dc922-6347-477b-84fe-397c0c0ce58b",
   "metadata": {},
   "outputs": [],
   "source": [
    "## List for testing\n",
    "myList = [0, 1, 22, 1, 34, 67, 0, 67, 120, 33, 33, 0, 1]"
   ]
  },
  {
   "cell_type": "code",
   "execution_count": 3,
   "id": "79112d3d-c6af-405b-b8f4-cc54aeedfa84",
   "metadata": {},
   "outputs": [],
   "source": [
    "# Write the code for your program below.\n",
    "def keep_unique(myList):\n",
    "    return set(myList)"
   ]
  },
  {
   "cell_type": "code",
   "execution_count": 4,
   "id": "60e13bab",
   "metadata": {},
   "outputs": [
    {
     "name": "stdout",
     "output_type": "stream",
     "text": [
      "{0, 1, 34, 67, 33, 22, 120}\n"
     ]
    }
   ],
   "source": [
    "print(keep_unique(myList))"
   ]
  },
  {
   "cell_type": "code",
   "execution_count": 8,
   "id": "f3723d3a",
   "metadata": {},
   "outputs": [
    {
     "name": "stdout",
     "output_type": "stream",
     "text": [
      "{1, 3, 5, 7, 9, 11, 13, 15, 17, 19, 21, 23, 25, 27, 29, 31, 33, 35, 37, 39, 95}\n"
     ]
    }
   ],
   "source": [
    "myList2 = [95, 9, 21, 23, 25, 27, 1, 3, 5, 7, 9, 11, 13, 15, 17, 19, 5, 7, 9, 21, 23, 25, 27, 29, 31, 33, 35, 37, 39]\n",
    "print(keep_unique(myList2))"
   ]
  },
  {
   "cell_type": "code",
   "execution_count": 10,
   "id": "81475e36",
   "metadata": {},
   "outputs": [
    {
     "name": "stdout",
     "output_type": "stream",
     "text": [
      "{3, 4, 6, 'Grape', 9, 10, 11, 'Lemon', 'Jackfruit', 23, 'Banana', 'Apple', 'Indian Fig', 54, 58, 'Elderberry', 'Fig', 'Date', 'Cherry', 'Kiwi', 'Honeydew', 'Mango'}\n"
     ]
    }
   ],
   "source": [
    "fruitList = [\"Apple\",  23, \"Mango\", \"Elderberry\", \"Fig\", 58, 54, \"Banana\", \"Cherry\", \"Date\", \"Elderberry\", 3, 4, \"Jackfruit\", 9, 10, \"Kiwi\", \"Lemon\", 11, \"Mango\", \"Kiwi\", \"Lemon\", 6, 6, \"Mango\", \"Elderberry\", \"Fig\", \"Grape\", \"Honeydew\", \"Indian Fig\", \"Apple\",  \"Mango\", \"Elderberry\", \"Jackfruit\", \"Kiwi\", \"Lemon\", \"Mango\"]\n",
    "print(keep_unique(fruitList))"
   ]
  },
  {
   "cell_type": "code",
   "execution_count": null,
   "id": "b8b11003",
   "metadata": {},
   "outputs": [],
   "source": []
  }
 ],
 "metadata": {
  "kernelspec": {
   "display_name": "Python 3",
   "language": "python",
   "name": "python3"
  },
  "language_info": {
   "codemirror_mode": {
    "name": "ipython",
    "version": 3
   },
   "file_extension": ".py",
   "mimetype": "text/x-python",
   "name": "python",
   "nbconvert_exporter": "python",
   "pygments_lexer": "ipython3",
   "version": "3.12.5"
  }
 },
 "nbformat": 4,
 "nbformat_minor": 5
}
