{
 "cells": [
  {
   "cell_type": "markdown",
   "id": "f5deae5b-bd88-41e9-bc35-55dd35f16b94",
   "metadata": {},
   "source": [
    "# Graded: x of 4 correct\n",
    "- [x] Function accepts integer\n",
    "- [x] Function uses list comprehension\n",
    "- [x] Function returns list of squares for evens from 1 to N\n",
    "- [x] Function returns list of cubes for odds from 1 to N\n",
    "\n",
    "Comments:"
   ]
  },
  {
   "cell_type": "markdown",
   "id": "79b9b181-ebe4-49aa-ae71-0bd72176b056",
   "metadata": {},
   "source": [
    "## Unit 2 Comprehensions Quiz\n",
    "* The objective of this quiz is for you to write code that uses list comprehension.\n",
    "* Please write a `function` called `even_odd_powers` that should do the following:\n",
    "    * Accept as input an integer > 0. Let us call it `N`.\n",
    "    * Use list comprehension to generate two lists:\n",
    "        * The first list should contain the squares of all integers between 1 and `N` that are even.\n",
    "        * The second list should contain the cubes of all integers between 1 and `N` that are odd.\n",
    "        * You function should return both lists.\n",
    "* Test you code for different values of `N`."
   ]
  },
  {
   "cell_type": "code",
   "execution_count": 12,
   "id": "79112d3d-c6af-405b-b8f4-cc54aeedfa84",
   "metadata": {},
   "outputs": [],
   "source": [
    "# Write the code for your program below.\n",
    "def even_odd_powers(n):\n",
    "    ''' FUNCTION RETURNING RESCEIVING ONE INT PARAM > 0\n",
    "    2 LIST, FIRST ONE IS THE SQUARE OF EVEN NUMBERS FROM 1 TO N'''\n",
    "    if not n > 0:\n",
    "        return []\n",
    "    \n",
    "    even_list = [val * val for val in range(1,n+1) if val % 2 == 0]\n",
    "    odd_list = [val * val * val for val in range(1,n+1) if val % 2 == 1]\n",
    "    return [even_list, odd_list]"
   ]
  },
  {
   "cell_type": "code",
   "execution_count": 13,
   "id": "c4be3ab7",
   "metadata": {},
   "outputs": [
    {
     "name": "stdout",
     "output_type": "stream",
     "text": [
      "[[4, 16, 36], [1, 27, 125]]\n"
     ]
    }
   ],
   "source": [
    "my_list = even_odd_powers(6)\n",
    "print(my_list)"
   ]
  },
  {
   "cell_type": "code",
   "execution_count": 14,
   "id": "9523c22b",
   "metadata": {},
   "outputs": [
    {
     "name": "stdout",
     "output_type": "stream",
     "text": [
      "[[4, 16, 36, 64, 100, 144, 196], [1, 27, 125, 343, 729, 1331, 2197, 3375]]\n"
     ]
    }
   ],
   "source": [
    "my_list = even_odd_powers(15)\n",
    "print(my_list)"
   ]
  },
  {
   "cell_type": "code",
   "execution_count": 15,
   "id": "6280ff5b",
   "metadata": {},
   "outputs": [
    {
     "name": "stdout",
     "output_type": "stream",
     "text": [
      "[]\n"
     ]
    }
   ],
   "source": [
    "my_list = even_odd_powers(0)\n",
    "print(my_list)"
   ]
  },
  {
   "cell_type": "code",
   "execution_count": 16,
   "id": "8ebd5361",
   "metadata": {},
   "outputs": [
    {
     "name": "stdout",
     "output_type": "stream",
     "text": [
      "[]\n"
     ]
    }
   ],
   "source": [
    "my_list = even_odd_powers(-9)\n",
    "print(my_list)"
   ]
  },
  {
   "cell_type": "code",
   "execution_count": null,
   "id": "52ec3226",
   "metadata": {},
   "outputs": [],
   "source": []
  }
 ],
 "metadata": {
  "kernelspec": {
   "display_name": "Python 3",
   "language": "python",
   "name": "python3"
  },
  "language_info": {
   "codemirror_mode": {
    "name": "ipython",
    "version": 3
   },
   "file_extension": ".py",
   "mimetype": "text/x-python",
   "name": "python",
   "nbconvert_exporter": "python",
   "pygments_lexer": "ipython3",
   "version": "3.12.5"
  }
 },
 "nbformat": 4,
 "nbformat_minor": 5
}
