{
 "cells": [
  {
   "cell_type": "markdown",
   "id": "2c62c615-7555-4d80-8cd0-b1dc40432d8e",
   "metadata": {},
   "source": [
    "# Graded: x of 8 correct\n",
    "- [x] Read the text file\n",
    "- [x] Remove punctuation\n",
    "- [x] Convert to lowercase\n",
    "- [x] Split into words\n",
    "- [x] Create a `set` of unique words\n",
    "- [x] Dictionary of word counts\n",
    "- [x] Display unique words and frequencies\n",
    "- [x] Code organization and comments\n",
    "\n",
    "Comments: \n"
   ]
  },
  {
   "cell_type": "markdown",
   "id": "79b9b181-ebe4-49aa-ae71-0bd72176b056",
   "metadata": {},
   "source": [
    "## Unit 2 Programming Assignment\n",
    "* The objective of this assignment is for you to write code that reads a text file and computes on the text data.\n",
    "* Your program should read a text file, do some cleaning of the text and compute word statistics.\n",
    "* In particular, the code should:\n",
    "    1. Read the content of the text file `Unit2_Python_learning_journey.txt`.\n",
    "        * The text in this file is from the free Python text book, [Python for everybody](https://www.py4e.com/book.php)\n",
    "    2. Remove punctuation and convert all words to lowercase.\n",
    "    3. Split the text into individual words.\n",
    "    4. Use a set to find all unique words.\n",
    "    5. Use a dictionary to count the frequency of each unique word.\n",
    "    6. Display each unique word along with its frequency.\n",
    "* You should organize your code appropriately to show a clean and thoughtful design.\n",
    "    * Use functions as needed.\n",
    "    * Break up into cells so smaller pieces can be easily tested.\n",
    "    * Add teh appropriate documentation to make your code comprehensible."
   ]
  },
  {
   "cell_type": "code",
   "execution_count": 1,
   "id": "44a2aabb",
   "metadata": {},
   "outputs": [
    {
     "name": "stdout",
     "output_type": "stream",
     "text": [
      "['As you progress through the rest of the book, donâ€™t be afraid if the concepts donâ€™t seem to fit together well the first time. When you were learning to speak, it was not a problem for your first few years that you just made cute gurgling noises. And it was OK if it took six months for you to move from simple vocabulary to simple sentences and took 5-6 more years to move from sentences to paragraphs, and a few more years to be able to write an interesting complete short story on your own. \\n', '\\n', 'We want you to learn Python much more rapidly, so we teach it all at the same time over the next few chapters. But it is like learning a new language that takes time to absorb and understand before it feels natural. That leads to some confusion as we visit and revisit topics to try to get you to see the big picture while we are defining the tiny fragments that make up that big picture. While the book is written linearly, and if you are taking a course it will progress in a linear fashion, donâ€™t hesitate to be very nonlinear in how you approach the material. Look forwards and backwards and read with a light touch. By skimming more advanced material without fully understanding the details, you can get a better understanding of the \"why?\" of programming. By reviewing previous material and even redoing earlier exercises, you will realize that you actually learned a lot of material even if the material you are currently staring at seems a bit impenetrable. \\n', '\\n', 'Usually when you are learning your first programming language, there are a few wonderful \"Ah Hah!\" moments where you can look up from pounding away at some rock with a hammer and chisel and step away and see that you are indeed building a beautiful sculpture. \\n', '\\n', 'If something seems particularly hard, there is usually no value in staying up all night and staring at it. Take a break, take a nap, have a snack, explain what you are having a problem with to someone (or perhaps your dog), and then come back to it with fresh eyes. I assure you that once you learn the programming concepts in the book you will look back and see that it was all really easy and elegant and it simply took you a bit of time to absorb it.']\n"
     ]
    }
   ],
   "source": [
    "# Write the code for your program below.\n",
    "\n",
    "# 1 Read the file\n",
    "journey_file = open('Unit2_Python_learning_journey.txt', 'r')    \n",
    "journey_lines = journey_file.readlines()\n",
    "print(journey_lines)"
   ]
  },
  {
   "cell_type": "code",
   "execution_count": 2,
   "id": "53db9155",
   "metadata": {},
   "outputs": [
    {
     "name": "stdout",
     "output_type": "stream",
     "text": [
      "[['a', 's', ' ', 'y', 'o', 'u', ' ', 'p', 'r', 'o', 'g', 'r', 'e', 's', 's', ' ', 't', 'h', 'r', 'o', 'u', 'g', 'h', ' ', 't', 'h', 'e', ' ', 'r', 'e', 's', 't', ' ', 'o', 'f', ' ', 't', 'h', 'e', ' ', 'b', 'o', 'o', 'k', ',', ' ', 'd', 'o', 'n', 'â', '€', '™', 't', ' ', 'b', 'e', ' ', 'a', 'f', 'r', 'a', 'i', 'd', ' ', 'i', 'f', ' ', 't', 'h', 'e', ' ', 'c', 'o', 'n', 'c', 'e', 'p', 't', 's', ' ', 'd', 'o', 'n', 'â', '€', '™', 't', ' ', 's', 'e', 'e', 'm', ' ', 't', 'o', ' ', 'f', 'i', 't', ' ', 't', 'o', 'g', 'e', 't', 'h', 'e', 'r', ' ', 'w', 'e', 'l', 'l', ' ', 't', 'h', 'e', ' ', 'f', 'i', 'r', 's', 't', ' ', 't', 'i', 'm', 'e', '.', ' ', 'w', 'h', 'e', 'n', ' ', 'y', 'o', 'u', ' ', 'w', 'e', 'r', 'e', ' ', 'l', 'e', 'a', 'r', 'n', 'i', 'n', 'g', ' ', 't', 'o', ' ', 's', 'p', 'e', 'a', 'k', ',', ' ', 'i', 't', ' ', 'w', 'a', 's', ' ', 'n', 'o', 't', ' ', 'a', ' ', 'p', 'r', 'o', 'b', 'l', 'e', 'm', ' ', 'f', 'o', 'r', ' ', 'y', 'o', 'u', 'r', ' ', 'f', 'i', 'r', 's', 't', ' ', 'f', 'e', 'w', ' ', 'y', 'e', 'a', 'r', 's', ' ', 't', 'h', 'a', 't', ' ', 'y', 'o', 'u', ' ', 'j', 'u', 's', 't', ' ', 'm', 'a', 'd', 'e', ' ', 'c', 'u', 't', 'e', ' ', 'g', 'u', 'r', 'g', 'l', 'i', 'n', 'g', ' ', 'n', 'o', 'i', 's', 'e', 's', '.', ' ', 'a', 'n', 'd', ' ', 'i', 't', ' ', 'w', 'a', 's', ' ', 'o', 'k', ' ', 'i', 'f', ' ', 'i', 't', ' ', 't', 'o', 'o', 'k', ' ', 's', 'i', 'x', ' ', 'm', 'o', 'n', 't', 'h', 's', ' ', 'f', 'o', 'r', ' ', 'y', 'o', 'u', ' ', 't', 'o', ' ', 'm', 'o', 'v', 'e', ' ', 'f', 'r', 'o', 'm', ' ', 's', 'i', 'm', 'p', 'l', 'e', ' ', 'v', 'o', 'c', 'a', 'b', 'u', 'l', 'a', 'r', 'y', ' ', 't', 'o', ' ', 's', 'i', 'm', 'p', 'l', 'e', ' ', 's', 'e', 'n', 't', 'e', 'n', 'c', 'e', 's', ' ', 'a', 'n', 'd', ' ', 't', 'o', 'o', 'k', ' ', '5', '-', '6', ' ', 'm', 'o', 'r', 'e', ' ', 'y', 'e', 'a', 'r', 's', ' ', 't', 'o', ' ', 'm', 'o', 'v', 'e', ' ', 'f', 'r', 'o', 'm', ' ', 's', 'e', 'n', 't', 'e', 'n', 'c', 'e', 's', ' ', 't', 'o', ' ', 'p', 'a', 'r', 'a', 'g', 'r', 'a', 'p', 'h', 's', ',', ' ', 'a', 'n', 'd', ' ', 'a', ' ', 'f', 'e', 'w', ' ', 'm', 'o', 'r', 'e', ' ', 'y', 'e', 'a', 'r', 's', ' ', 't', 'o', ' ', 'b', 'e', ' ', 'a', 'b', 'l', 'e', ' ', 't', 'o', ' ', 'w', 'r', 'i', 't', 'e', ' ', 'a', 'n', ' ', 'i', 'n', 't', 'e', 'r', 'e', 's', 't', 'i', 'n', 'g', ' ', 'c', 'o', 'm', 'p', 'l', 'e', 't', 'e', ' ', 's', 'h', 'o', 'r', 't', ' ', 's', 't', 'o', 'r', 'y', ' ', 'o', 'n', ' ', 'y', 'o', 'u', 'r', ' ', 'o', 'w', 'n', '.', ' '], [], ['w', 'e', ' ', 'w', 'a', 'n', 't', ' ', 'y', 'o', 'u', ' ', 't', 'o', ' ', 'l', 'e', 'a', 'r', 'n', ' ', 'p', 'y', 't', 'h', 'o', 'n', ' ', 'm', 'u', 'c', 'h', ' ', 'm', 'o', 'r', 'e', ' ', 'r', 'a', 'p', 'i', 'd', 'l', 'y', ',', ' ', 's', 'o', ' ', 'w', 'e', ' ', 't', 'e', 'a', 'c', 'h', ' ', 'i', 't', ' ', 'a', 'l', 'l', ' ', 'a', 't', ' ', 't', 'h', 'e', ' ', 's', 'a', 'm', 'e', ' ', 't', 'i', 'm', 'e', ' ', 'o', 'v', 'e', 'r', ' ', 't', 'h', 'e', ' ', 'n', 'e', 'x', 't', ' ', 'f', 'e', 'w', ' ', 'c', 'h', 'a', 'p', 't', 'e', 'r', 's', '.', ' ', 'b', 'u', 't', ' ', 'i', 't', ' ', 'i', 's', ' ', 'l', 'i', 'k', 'e', ' ', 'l', 'e', 'a', 'r', 'n', 'i', 'n', 'g', ' ', 'a', ' ', 'n', 'e', 'w', ' ', 'l', 'a', 'n', 'g', 'u', 'a', 'g', 'e', ' ', 't', 'h', 'a', 't', ' ', 't', 'a', 'k', 'e', 's', ' ', 't', 'i', 'm', 'e', ' ', 't', 'o', ' ', 'a', 'b', 's', 'o', 'r', 'b', ' ', 'a', 'n', 'd', ' ', 'u', 'n', 'd', 'e', 'r', 's', 't', 'a', 'n', 'd', ' ', 'b', 'e', 'f', 'o', 'r', 'e', ' ', 'i', 't', ' ', 'f', 'e', 'e', 'l', 's', ' ', 'n', 'a', 't', 'u', 'r', 'a', 'l', '.', ' ', 't', 'h', 'a', 't', ' ', 'l', 'e', 'a', 'd', 's', ' ', 't', 'o', ' ', 's', 'o', 'm', 'e', ' ', 'c', 'o', 'n', 'f', 'u', 's', 'i', 'o', 'n', ' ', 'a', 's', ' ', 'w', 'e', ' ', 'v', 'i', 's', 'i', 't', ' ', 'a', 'n', 'd', ' ', 'r', 'e', 'v', 'i', 's', 'i', 't', ' ', 't', 'o', 'p', 'i', 'c', 's', ' ', 't', 'o', ' ', 't', 'r', 'y', ' ', 't', 'o', ' ', 'g', 'e', 't', ' ', 'y', 'o', 'u', ' ', 't', 'o', ' ', 's', 'e', 'e', ' ', 't', 'h', 'e', ' ', 'b', 'i', 'g', ' ', 'p', 'i', 'c', 't', 'u', 'r', 'e', ' ', 'w', 'h', 'i', 'l', 'e', ' ', 'w', 'e', ' ', 'a', 'r', 'e', ' ', 'd', 'e', 'f', 'i', 'n', 'i', 'n', 'g', ' ', 't', 'h', 'e', ' ', 't', 'i', 'n', 'y', ' ', 'f', 'r', 'a', 'g', 'm', 'e', 'n', 't', 's', ' ', 't', 'h', 'a', 't', ' ', 'm', 'a', 'k', 'e', ' ', 'u', 'p', ' ', 't', 'h', 'a', 't', ' ', 'b', 'i', 'g', ' ', 'p', 'i', 'c', 't', 'u', 'r', 'e', '.', ' ', 'w', 'h', 'i', 'l', 'e', ' ', 't', 'h', 'e', ' ', 'b', 'o', 'o', 'k', ' ', 'i', 's', ' ', 'w', 'r', 'i', 't', 't', 'e', 'n', ' ', 'l', 'i', 'n', 'e', 'a', 'r', 'l', 'y', ',', ' ', 'a', 'n', 'd', ' ', 'i', 'f', ' ', 'y', 'o', 'u', ' ', 'a', 'r', 'e', ' ', 't', 'a', 'k', 'i', 'n', 'g', ' ', 'a', ' ', 'c', 'o', 'u', 'r', 's', 'e', ' ', 'i', 't', ' ', 'w', 'i', 'l', 'l', ' ', 'p', 'r', 'o', 'g', 'r', 'e', 's', 's', ' ', 'i', 'n', ' ', 'a', ' ', 'l', 'i', 'n', 'e', 'a', 'r', ' ', 'f', 'a', 's', 'h', 'i', 'o', 'n', ',', ' ', 'd', 'o', 'n', 'â', '€', '™', 't', ' ', 'h', 'e', 's', 'i', 't', 'a', 't', 'e', ' ', 't', 'o', ' ', 'b', 'e', ' ', 'v', 'e', 'r', 'y', ' ', 'n', 'o', 'n', 'l', 'i', 'n', 'e', 'a', 'r', ' ', 'i', 'n', ' ', 'h', 'o', 'w', ' ', 'y', 'o', 'u', ' ', 'a', 'p', 'p', 'r', 'o', 'a', 'c', 'h', ' ', 't', 'h', 'e', ' ', 'm', 'a', 't', 'e', 'r', 'i', 'a', 'l', '.', ' ', 'l', 'o', 'o', 'k', ' ', 'f', 'o', 'r', 'w', 'a', 'r', 'd', 's', ' ', 'a', 'n', 'd', ' ', 'b', 'a', 'c', 'k', 'w', 'a', 'r', 'd', 's', ' ', 'a', 'n', 'd', ' ', 'r', 'e', 'a', 'd', ' ', 'w', 'i', 't', 'h', ' ', 'a', ' ', 'l', 'i', 'g', 'h', 't', ' ', 't', 'o', 'u', 'c', 'h', '.', ' ', 'b', 'y', ' ', 's', 'k', 'i', 'm', 'm', 'i', 'n', 'g', ' ', 'm', 'o', 'r', 'e', ' ', 'a', 'd', 'v', 'a', 'n', 'c', 'e', 'd', ' ', 'm', 'a', 't', 'e', 'r', 'i', 'a', 'l', ' ', 'w', 'i', 't', 'h', 'o', 'u', 't', ' ', 'f', 'u', 'l', 'l', 'y', ' ', 'u', 'n', 'd', 'e', 'r', 's', 't', 'a', 'n', 'd', 'i', 'n', 'g', ' ', 't', 'h', 'e', ' ', 'd', 'e', 't', 'a', 'i', 'l', 's', ',', ' ', 'y', 'o', 'u', ' ', 'c', 'a', 'n', ' ', 'g', 'e', 't', ' ', 'a', ' ', 'b', 'e', 't', 't', 'e', 'r', ' ', 'u', 'n', 'd', 'e', 'r', 's', 't', 'a', 'n', 'd', 'i', 'n', 'g', ' ', 'o', 'f', ' ', 't', 'h', 'e', ' ', '\"', 'w', 'h', 'y', '?', '\"', ' ', 'o', 'f', ' ', 'p', 'r', 'o', 'g', 'r', 'a', 'm', 'm', 'i', 'n', 'g', '.', ' ', 'b', 'y', ' ', 'r', 'e', 'v', 'i', 'e', 'w', 'i', 'n', 'g', ' ', 'p', 'r', 'e', 'v', 'i', 'o', 'u', 's', ' ', 'm', 'a', 't', 'e', 'r', 'i', 'a', 'l', ' ', 'a', 'n', 'd', ' ', 'e', 'v', 'e', 'n', ' ', 'r', 'e', 'd', 'o', 'i', 'n', 'g', ' ', 'e', 'a', 'r', 'l', 'i', 'e', 'r', ' ', 'e', 'x', 'e', 'r', 'c', 'i', 's', 'e', 's', ',', ' ', 'y', 'o', 'u', ' ', 'w', 'i', 'l', 'l', ' ', 'r', 'e', 'a', 'l', 'i', 'z', 'e', ' ', 't', 'h', 'a', 't', ' ', 'y', 'o', 'u', ' ', 'a', 'c', 't', 'u', 'a', 'l', 'l', 'y', ' ', 'l', 'e', 'a', 'r', 'n', 'e', 'd', ' ', 'a', ' ', 'l', 'o', 't', ' ', 'o', 'f', ' ', 'm', 'a', 't', 'e', 'r', 'i', 'a', 'l', ' ', 'e', 'v', 'e', 'n', ' ', 'i', 'f', ' ', 't', 'h', 'e', ' ', 'm', 'a', 't', 'e', 'r', 'i', 'a', 'l', ' ', 'y', 'o', 'u', ' ', 'a', 'r', 'e', ' ', 'c', 'u', 'r', 'r', 'e', 'n', 't', 'l', 'y', ' ', 's', 't', 'a', 'r', 'i', 'n', 'g', ' ', 'a', 't', ' ', 's', 'e', 'e', 'm', 's', ' ', 'a', ' ', 'b', 'i', 't', ' ', 'i', 'm', 'p', 'e', 'n', 'e', 't', 'r', 'a', 'b', 'l', 'e', '.', ' '], [], ['u', 's', 'u', 'a', 'l', 'l', 'y', ' ', 'w', 'h', 'e', 'n', ' ', 'y', 'o', 'u', ' ', 'a', 'r', 'e', ' ', 'l', 'e', 'a', 'r', 'n', 'i', 'n', 'g', ' ', 'y', 'o', 'u', 'r', ' ', 'f', 'i', 'r', 's', 't', ' ', 'p', 'r', 'o', 'g', 'r', 'a', 'm', 'm', 'i', 'n', 'g', ' ', 'l', 'a', 'n', 'g', 'u', 'a', 'g', 'e', ',', ' ', 't', 'h', 'e', 'r', 'e', ' ', 'a', 'r', 'e', ' ', 'a', ' ', 'f', 'e', 'w', ' ', 'w', 'o', 'n', 'd', 'e', 'r', 'f', 'u', 'l', ' ', '\"', 'a', 'h', ' ', 'h', 'a', 'h', '!', '\"', ' ', 'm', 'o', 'm', 'e', 'n', 't', 's', ' ', 'w', 'h', 'e', 'r', 'e', ' ', 'y', 'o', 'u', ' ', 'c', 'a', 'n', ' ', 'l', 'o', 'o', 'k', ' ', 'u', 'p', ' ', 'f', 'r', 'o', 'm', ' ', 'p', 'o', 'u', 'n', 'd', 'i', 'n', 'g', ' ', 'a', 'w', 'a', 'y', ' ', 'a', 't', ' ', 's', 'o', 'm', 'e', ' ', 'r', 'o', 'c', 'k', ' ', 'w', 'i', 't', 'h', ' ', 'a', ' ', 'h', 'a', 'm', 'm', 'e', 'r', ' ', 'a', 'n', 'd', ' ', 'c', 'h', 'i', 's', 'e', 'l', ' ', 'a', 'n', 'd', ' ', 's', 't', 'e', 'p', ' ', 'a', 'w', 'a', 'y', ' ', 'a', 'n', 'd', ' ', 's', 'e', 'e', ' ', 't', 'h', 'a', 't', ' ', 'y', 'o', 'u', ' ', 'a', 'r', 'e', ' ', 'i', 'n', 'd', 'e', 'e', 'd', ' ', 'b', 'u', 'i', 'l', 'd', 'i', 'n', 'g', ' ', 'a', ' ', 'b', 'e', 'a', 'u', 't', 'i', 'f', 'u', 'l', ' ', 's', 'c', 'u', 'l', 'p', 't', 'u', 'r', 'e', '.', ' '], [], ['i', 'f', ' ', 's', 'o', 'm', 'e', 't', 'h', 'i', 'n', 'g', ' ', 's', 'e', 'e', 'm', 's', ' ', 'p', 'a', 'r', 't', 'i', 'c', 'u', 'l', 'a', 'r', 'l', 'y', ' ', 'h', 'a', 'r', 'd', ',', ' ', 't', 'h', 'e', 'r', 'e', ' ', 'i', 's', ' ', 'u', 's', 'u', 'a', 'l', 'l', 'y', ' ', 'n', 'o', ' ', 'v', 'a', 'l', 'u', 'e', ' ', 'i', 'n', ' ', 's', 't', 'a', 'y', 'i', 'n', 'g', ' ', 'u', 'p', ' ', 'a', 'l', 'l', ' ', 'n', 'i', 'g', 'h', 't', ' ', 'a', 'n', 'd', ' ', 's', 't', 'a', 'r', 'i', 'n', 'g', ' ', 'a', 't', ' ', 'i', 't', '.', ' ', 't', 'a', 'k', 'e', ' ', 'a', ' ', 'b', 'r', 'e', 'a', 'k', ',', ' ', 't', 'a', 'k', 'e', ' ', 'a', ' ', 'n', 'a', 'p', ',', ' ', 'h', 'a', 'v', 'e', ' ', 'a', ' ', 's', 'n', 'a', 'c', 'k', ',', ' ', 'e', 'x', 'p', 'l', 'a', 'i', 'n', ' ', 'w', 'h', 'a', 't', ' ', 'y', 'o', 'u', ' ', 'a', 'r', 'e', ' ', 'h', 'a', 'v', 'i', 'n', 'g', ' ', 'a', ' ', 'p', 'r', 'o', 'b', 'l', 'e', 'm', ' ', 'w', 'i', 't', 'h', ' ', 't', 'o', ' ', 's', 'o', 'm', 'e', 'o', 'n', 'e', ' ', '(', 'o', 'r', ' ', 'p', 'e', 'r', 'h', 'a', 'p', 's', ' ', 'y', 'o', 'u', 'r', ' ', 'd', 'o', 'g', ')', ',', ' ', 'a', 'n', 'd', ' ', 't', 'h', 'e', 'n', ' ', 'c', 'o', 'm', 'e', ' ', 'b', 'a', 'c', 'k', ' ', 't', 'o', ' ', 'i', 't', ' ', 'w', 'i', 't', 'h', ' ', 'f', 'r', 'e', 's', 'h', ' ', 'e', 'y', 'e', 's', '.', ' ', 'i', ' ', 'a', 's', 's', 'u', 'r', 'e', ' ', 'y', 'o', 'u', ' ', 't', 'h', 'a', 't', ' ', 'o', 'n', 'c', 'e', ' ', 'y', 'o', 'u', ' ', 'l', 'e', 'a', 'r', 'n', ' ', 't', 'h', 'e', ' ', 'p', 'r', 'o', 'g', 'r', 'a', 'm', 'm', 'i', 'n', 'g', ' ', 'c', 'o', 'n', 'c', 'e', 'p', 't', 's', ' ', 'i', 'n', ' ', 't', 'h', 'e', ' ', 'b', 'o', 'o', 'k', ' ', 'y', 'o', 'u', ' ', 'w', 'i', 'l', 'l', ' ', 'l', 'o', 'o', 'k', ' ', 'b', 'a', 'c', 'k', ' ', 'a', 'n', 'd', ' ', 's', 'e', 'e', ' ', 't', 'h', 'a', 't', ' ', 'i', 't', ' ', 'w', 'a', 's', ' ', 'a', 'l', 'l', ' ', 'r', 'e', 'a', 'l', 'l', 'y', ' ', 'e', 'a', 's', 'y', ' ', 'a', 'n', 'd', ' ', 'e', 'l', 'e', 'g', 'a', 'n', 't', ' ', 'a', 'n', 'd', ' ', 'i', 't', ' ', 's', 'i', 'm', 'p', 'l', 'y', ' ', 't', 'o', 'o', 'k', ' ', 'y', 'o', 'u', ' ', 'a', ' ', 'b', 'i', 't', ' ', 'o', 'f', ' ', 't', 'i', 'm', 'e', ' ', 't', 'o', ' ', 'a', 'b', 's', 'o', 'r', 'b', ' ', 'i', 't', '.']]\n"
     ]
    }
   ],
   "source": [
    "# 2. Remove punctuation and convert all words to lowercase\n",
    "# Using lambda together with list and map to iterate the journey_lines which consist of sentences\n",
    "# Then using comprehension to check each string to not include punctuation, somehow some other punctuations are special characters\n",
    "journey_lower = list(map(lambda line: [str.lower() for str in line.replace('\\n', '') if str != '\\'' or str != '\"' or str != '\"'], journey_lines))\n",
    "print(journey_lower)"
   ]
  },
  {
   "cell_type": "code",
   "execution_count": 3,
   "id": "20c82647",
   "metadata": {},
   "outputs": [
    {
     "name": "stdout",
     "output_type": "stream",
     "text": [
      "as you progress through the rest of the book, donâ€™t be afraid if the concepts donâ€™t seem to fit together well the first time. when you were learning to speak, it was not a problem for your first few years that you just made cute gurgling noises. and it was ok if it took six months for you to move from simple vocabulary to simple sentences and took 5-6 more years to move from sentences to paragraphs, and a few more years to be able to write an interesting complete short story on your own. we want you to learn python much more rapidly, so we teach it all at the same time over the next few chapters. but it is like learning a new language that takes time to absorb and understand before it feels natural. that leads to some confusion as we visit and revisit topics to try to get you to see the big picture while we are defining the tiny fragments that make up that big picture. while the book is written linearly, and if you are taking a course it will progress in a linear fashion, donâ€™t hesitate to be very nonlinear in how you approach the material. look forwards and backwards and read with a light touch. by skimming more advanced material without fully understanding the details, you can get a better understanding of the \"why?\" of programming. by reviewing previous material and even redoing earlier exercises, you will realize that you actually learned a lot of material even if the material you are currently staring at seems a bit impenetrable. usually when you are learning your first programming language, there are a few wonderful \"ah hah!\" moments where you can look up from pounding away at some rock with a hammer and chisel and step away and see that you are indeed building a beautiful sculpture. if something seems particularly hard, there is usually no value in staying up all night and staring at it. take a break, take a nap, have a snack, explain what you are having a problem with to someone (or perhaps your dog), and then come back to it with fresh eyes. i assure you that once you learn the programming concepts in the book you will look back and see that it was all really easy and elegant and it simply took you a bit of time to absorb it.\n"
     ]
    }
   ],
   "source": [
    "# Since the output is 2 dimension list of str, we concanate those strings using loop\n",
    "paragraph = ''\n",
    "for line in journey_lower: \n",
    "  for str in line:\n",
    "    paragraph += str\n",
    "\n",
    "print(paragraph)"
   ]
  },
  {
   "cell_type": "code",
   "execution_count": 4,
   "id": "d7a7e218",
   "metadata": {},
   "outputs": [
    {
     "name": "stdout",
     "output_type": "stream",
     "text": [
      "['as', 'you', 'progress', 'through', 'the', 'rest', 'of', 'the', 'book,', 'donâ€™t', 'be', 'afraid', 'if', 'the', 'concepts', 'donâ€™t', 'seem', 'to', 'fit', 'together', 'well', 'the', 'first', 'time.', 'when', 'you', 'were', 'learning', 'to', 'speak,', 'it', 'was', 'not', 'a', 'problem', 'for', 'your', 'first', 'few', 'years', 'that', 'you', 'just', 'made', 'cute', 'gurgling', 'noises.', 'and', 'it', 'was', 'ok', 'if', 'it', 'took', 'six', 'months', 'for', 'you', 'to', 'move', 'from', 'simple', 'vocabulary', 'to', 'simple', 'sentences', 'and', 'took', '5-6', 'more', 'years', 'to', 'move', 'from', 'sentences', 'to', 'paragraphs,', 'and', 'a', 'few', 'more', 'years', 'to', 'be', 'able', 'to', 'write', 'an', 'interesting', 'complete', 'short', 'story', 'on', 'your', 'own.', 'we', 'want', 'you', 'to', 'learn', 'python', 'much', 'more', 'rapidly,', 'so', 'we', 'teach', 'it', 'all', 'at', 'the', 'same', 'time', 'over', 'the', 'next', 'few', 'chapters.', 'but', 'it', 'is', 'like', 'learning', 'a', 'new', 'language', 'that', 'takes', 'time', 'to', 'absorb', 'and', 'understand', 'before', 'it', 'feels', 'natural.', 'that', 'leads', 'to', 'some', 'confusion', 'as', 'we', 'visit', 'and', 'revisit', 'topics', 'to', 'try', 'to', 'get', 'you', 'to', 'see', 'the', 'big', 'picture', 'while', 'we', 'are', 'defining', 'the', 'tiny', 'fragments', 'that', 'make', 'up', 'that', 'big', 'picture.', 'while', 'the', 'book', 'is', 'written', 'linearly,', 'and', 'if', 'you', 'are', 'taking', 'a', 'course', 'it', 'will', 'progress', 'in', 'a', 'linear', 'fashion,', 'donâ€™t', 'hesitate', 'to', 'be', 'very', 'nonlinear', 'in', 'how', 'you', 'approach', 'the', 'material.', 'look', 'forwards', 'and', 'backwards', 'and', 'read', 'with', 'a', 'light', 'touch.', 'by', 'skimming', 'more', 'advanced', 'material', 'without', 'fully', 'understanding', 'the', 'details,', 'you', 'can', 'get', 'a', 'better', 'understanding', 'of', 'the', '\"why?\"', 'of', 'programming.', 'by', 'reviewing', 'previous', 'material', 'and', 'even', 'redoing', 'earlier', 'exercises,', 'you', 'will', 'realize', 'that', 'you', 'actually', 'learned', 'a', 'lot', 'of', 'material', 'even', 'if', 'the', 'material', 'you', 'are', 'currently', 'staring', 'at', 'seems', 'a', 'bit', 'impenetrable.', 'usually', 'when', 'you', 'are', 'learning', 'your', 'first', 'programming', 'language,', 'there', 'are', 'a', 'few', 'wonderful', '\"ah', 'hah!\"', 'moments', 'where', 'you', 'can', 'look', 'up', 'from', 'pounding', 'away', 'at', 'some', 'rock', 'with', 'a', 'hammer', 'and', 'chisel', 'and', 'step', 'away', 'and', 'see', 'that', 'you', 'are', 'indeed', 'building', 'a', 'beautiful', 'sculpture.', 'if', 'something', 'seems', 'particularly', 'hard,', 'there', 'is', 'usually', 'no', 'value', 'in', 'staying', 'up', 'all', 'night', 'and', 'staring', 'at', 'it.', 'take', 'a', 'break,', 'take', 'a', 'nap,', 'have', 'a', 'snack,', 'explain', 'what', 'you', 'are', 'having', 'a', 'problem', 'with', 'to', 'someone', '(or', 'perhaps', 'your', 'dog),', 'and', 'then', 'come', 'back', 'to', 'it', 'with', 'fresh', 'eyes.', 'i', 'assure', 'you', 'that', 'once', 'you', 'learn', 'the', 'programming', 'concepts', 'in', 'the', 'book', 'you', 'will', 'look', 'back', 'and', 'see', 'that', 'it', 'was', 'all', 'really', 'easy', 'and', 'elegant', 'and', 'it', 'simply', 'took', 'you', 'a', 'bit', 'of', 'time', 'to', 'absorb', 'it.']\n"
     ]
    }
   ],
   "source": [
    "# 3 split text into individual words\n",
    "journey_words = paragraph.split()\n",
    "print(journey_words)"
   ]
  },
  {
   "cell_type": "code",
   "execution_count": 5,
   "id": "1493473b",
   "metadata": {},
   "outputs": [
    {
     "name": "stdout",
     "output_type": "stream",
     "text": [
      "{'afraid', 'in', 'night', 'then', 'not', 'advanced', 'material.', 'what', 'something', 'look', 'absorb', 'for', 'fragments', 'bit', 'learning', 'currently', 'leads', 'much', 'own.', 'approach', 'usually', 'value', 'hammer', 'speak,', 'topics', 'linear', 'staying', 'concepts', 'teach', 'want', 'big', 'some', 'get', 'simple', 'make', 'rapidly,', 'forwards', 'up', 'of', 'realize', 'impenetrable.', 'perhaps', 'without', 'on', 'short', 'where', 'and', 'fit', 'through', 'was', 'light', 'fresh', 'made', 'moments', 'story', 'touch.', 'defining', 'python', 'like', 'seems', 'indeed', 'be', 'to', 'from', 'complete', 'next', 'are', 'building', 'break,', 'if', 'progress', '\"why?\"', 'explain', 'really', 'noises.', 'very', 'pounding', 'chisel', 'particularly', 'i', 'vocabulary', 'hah!\"', 'nap,', 'your', 'learn', 'visit', 'hard,', 'take', 'elegant', 'chapters.', 'move', 'written', 'book', 'reviewing', '(or', 'few', 'took', 'someone', 'better', 'dog),', 'rest', 'rock', 'you', 'easy', 'nonlinear', 'understand', 'seem', 'gurgling', 'how', 'months', 'having', 'language', 'there', 'fully', 'beautiful', 'picture', 'before', 'problem', '5-6', 'the', 'but', 'just', 'more', 'confusion', 'time', 'feels', 'natural.', 'hesitate', 'picture.', 'together', 'language,', 'exercises,', 'understanding', 'same', 'first', 'sculpture.', 'book,', 'earlier', 'as', 'actually', 'no', 'that', 'away', 'at', 'so', 'revisit', 'with', 'is', 'able', 'taking', 'by', 'redoing', 'donâ€™t', 'simply', 'wonderful', 'write', 'takes', 'an', 'read', 'new', 'will', 'interesting', 'try', 'programming', 'course', 'sentences', 'a', 'six', 'all', 'details,', 'once', 'learned', 'see', 'years', 'previous', 'have', 'skimming', 'step', 'linearly,', 'while', 'programming.', 'over', 'eyes.', 'tiny', 'it.', 'time.', 'ok', 'backwards', 'well', 'assure', 'can', 'material', 'paragraphs,', 'when', 'fashion,', 'back', 'lot', 'cute', 'were', '\"ah', 'it', 'staring', 'snack,', 'come', 'even', 'we'}\n"
     ]
    }
   ],
   "source": [
    "# 4 Use set to find all unique words\n",
    "journey_set = set(journey_words)\n",
    "print(journey_set)"
   ]
  },
  {
   "cell_type": "code",
   "execution_count": 6,
   "id": "70bc5d4e",
   "metadata": {},
   "outputs": [
    {
     "name": "stdout",
     "output_type": "stream",
     "text": [
      "{'as': 2, 'you': 20, 'progress': 2, 'through': 1, 'the': 15, 'rest': 1, 'of': 5, 'book,': 1, 'donâ€™t': 3, 'be': 3, 'afraid': 1, 'if': 5, 'concepts': 2, 'seem': 1, 'to': 18, 'fit': 1, 'together': 1, 'well': 1, 'first': 3, 'time.': 1, 'when': 2, 'were': 1, 'learning': 3, 'speak,': 1, 'it': 10, 'was': 3, 'not': 1, 'a': 17, 'problem': 2, 'for': 2, 'your': 4, 'few': 4, 'years': 3, 'that': 9, 'just': 1, 'made': 1, 'cute': 1, 'gurgling': 1, 'noises.': 1, 'and': 17, 'ok': 1, 'took': 3, 'six': 1, 'months': 1, 'move': 2, 'from': 3, 'simple': 2, 'vocabulary': 1, 'sentences': 2, '5-6': 1, 'more': 4, 'paragraphs,': 1, 'able': 1, 'write': 1, 'an': 1, 'interesting': 1, 'complete': 1, 'short': 1, 'story': 1, 'on': 1, 'own.': 1, 'we': 4, 'want': 1, 'learn': 2, 'python': 1, 'much': 1, 'rapidly,': 1, 'so': 1, 'teach': 1, 'all': 3, 'at': 4, 'same': 1, 'time': 3, 'over': 1, 'next': 1, 'chapters.': 1, 'but': 1, 'is': 3, 'like': 1, 'new': 1, 'language': 1, 'takes': 1, 'absorb': 2, 'understand': 1, 'before': 1, 'feels': 1, 'natural.': 1, 'leads': 1, 'some': 2, 'confusion': 1, 'visit': 1, 'revisit': 1, 'topics': 1, 'try': 1, 'get': 2, 'see': 3, 'big': 2, 'picture': 1, 'while': 2, 'are': 7, 'defining': 1, 'tiny': 1, 'fragments': 1, 'make': 1, 'up': 3, 'picture.': 1, 'book': 2, 'written': 1, 'linearly,': 1, 'taking': 1, 'course': 1, 'will': 3, 'in': 4, 'linear': 1, 'fashion,': 1, 'hesitate': 1, 'very': 1, 'nonlinear': 1, 'how': 1, 'approach': 1, 'material.': 1, 'look': 3, 'forwards': 1, 'backwards': 1, 'read': 1, 'with': 4, 'light': 1, 'touch.': 1, 'by': 2, 'skimming': 1, 'advanced': 1, 'material': 4, 'without': 1, 'fully': 1, 'understanding': 2, 'details,': 1, 'can': 2, 'better': 1, '\"why?\"': 1, 'programming.': 1, 'reviewing': 1, 'previous': 1, 'even': 2, 'redoing': 1, 'earlier': 1, 'exercises,': 1, 'realize': 1, 'actually': 1, 'learned': 1, 'lot': 1, 'currently': 1, 'staring': 2, 'seems': 2, 'bit': 2, 'impenetrable.': 1, 'usually': 2, 'programming': 2, 'language,': 1, 'there': 2, 'wonderful': 1, '\"ah': 1, 'hah!\"': 1, 'moments': 1, 'where': 1, 'pounding': 1, 'away': 2, 'rock': 1, 'hammer': 1, 'chisel': 1, 'step': 1, 'indeed': 1, 'building': 1, 'beautiful': 1, 'sculpture.': 1, 'something': 1, 'particularly': 1, 'hard,': 1, 'no': 1, 'value': 1, 'staying': 1, 'night': 1, 'it.': 2, 'take': 2, 'break,': 1, 'nap,': 1, 'have': 1, 'snack,': 1, 'explain': 1, 'what': 1, 'having': 1, 'someone': 1, '(or': 1, 'perhaps': 1, 'dog),': 1, 'then': 1, 'come': 1, 'back': 2, 'fresh': 1, 'eyes.': 1, 'i': 1, 'assure': 1, 'once': 1, 'really': 1, 'easy': 1, 'elegant': 1, 'simply': 1}\n"
     ]
    }
   ],
   "source": [
    "# 5 Use dict count the frequency of each unique word & 6 Display it.\n",
    "word_count = {}\n",
    "for word in journey_words:\n",
    "    word_count[word] = word_count.get(word, 0) + 1\n",
    "\n",
    "print(word_count)"
   ]
  },
  {
   "cell_type": "code",
   "execution_count": null,
   "id": "081522d6",
   "metadata": {},
   "outputs": [],
   "source": []
  }
 ],
 "metadata": {
  "kernelspec": {
   "display_name": "Python 3",
   "language": "python",
   "name": "python3"
  },
  "language_info": {
   "codemirror_mode": {
    "name": "ipython",
    "version": 3
   },
   "file_extension": ".py",
   "mimetype": "text/x-python",
   "name": "python",
   "nbconvert_exporter": "python",
   "pygments_lexer": "ipython3",
   "version": "3.12.5"
  }
 },
 "nbformat": 4,
 "nbformat_minor": 5
}
