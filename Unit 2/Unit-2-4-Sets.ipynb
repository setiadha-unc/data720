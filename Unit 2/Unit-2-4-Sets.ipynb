{
 "cells": [
  {
   "cell_type": "markdown",
   "metadata": {},
   "source": [
    "##### <img src=\"../SDSS-Logo.png\" style=\"display:inline; width:500px\" />\n",
    "\n",
    "\n",
    "## Learning Objectives\n",
    "\n",
    "- Understand how sets are represented and managed in python\n",
    "- Learn how to use sets to de-duplicate data\n"
   ]
  },
  {
   "cell_type": "code",
   "execution_count": 15,
   "metadata": {
    "tags": []
   },
   "outputs": [],
   "source": [
    "import numpy as np\n",
    "import pickle\n",
    "import comp116\n",
    "\n",
    "\n",
    "\n",
    "with open('Unit-2-4-Sets.data.pickle', 'rb') as fid:\n",
    "    county_poll_locations, counties, pop_dates, pop_county = pickle.load(fid)\n"
   ]
  },
  {
   "cell_type": "markdown",
   "metadata": {},
   "source": [
    "# Sets\n",
    "* Sets are an important data structure in python\n",
    "* The python data structure **sets** is designed to provide many of the features we associate with the mathematical concept of a set.\n",
    "#### Here are a few places to get more information about python sets:\n",
    "* [Real Python](https://realpython.com/python-sets/)\n",
    "* [PLYMI](https://www.pythonlikeyoumeanit.com/Module2_EssentialsOfPython/DataStructures_III_Sets_and_More.html)\n",
    "* [python docs](https://docs.python.org/2/library/stdtypes.html#set-types-set-frozenset)\n",
    "\n",
    "#### There are many features to sets, we will cover only the most important ones."
   ]
  },
  {
   "cell_type": "markdown",
   "metadata": {},
   "source": [
    "# What are Sets\n",
    "\n",
    "* Sets are unordered collections of **unique** items.\n",
    "\n",
    "* We'll be exploring:\n",
    "    * What set members are in both sets (the set intersection)\n",
    "    * What set members are unique to one set and not in antoher (the set difference)\n",
    "    * What'set members are in either set (the set union)\n",
    "<img src=\"Unit-2-4-Venn-Diagram.png\" style=\"display:inline; width:250px; float:right\" />   \n",
    "* Set operations are generally explained using a Venn Diagram\n",
    "   * Venn Diagrams shows\n",
    "      * Sets as circles with the members within the circle, non-members outside the circle\n",
    "      * The intersection, difference, or union is shown by colored areas\n",
    "     \n",
    "* Python has set operations for each of the above.\n",
    "  \n",
    "* There are other operations possible, but we will just concentrate on the above.\n",
    " "
   ]
  },
  {
   "cell_type": "markdown",
   "metadata": {},
   "source": [
    "## Creating Sets\n",
    "\n",
    "* You can instantiate a Python set similar to a list or a numpy array.  \n",
    "* You can add things to a set using the set method `add`.\n",
    "* You can also cast a list or a numpy array to a set\n",
    "\n",
    "### Note: An elegant feature in python is what are called comprehensions.\n",
    "* You can have list, tuple, set, dictionary, generator comprehensions, see [here](https://book.pythontips.com/en/latest/comprehensions.html).\n",
    "* One of the examples below uses a set comprehension.\n",
    "\n",
    "<pre>\n",
    "\n",
    "</pre>"
   ]
  },
  {
   "cell_type": "code",
   "execution_count": 16,
   "metadata": {
    "tags": []
   },
   "outputs": [
    {
     "name": "stdout",
     "output_type": "stream",
     "text": [
      "{0, 1, 2, 3, 4, 5, 6, 7, 8, 9}\n",
      "{0, 1, 2, 3, 4, 5, 6, 7, 8, 9}\n",
      "{0, 1, 2, 3, 4, 5, 6, 7, 8, 9}\n",
      "{'a', 't', ' ', 'T', 'r', 'n', 'h', 's', 'g', 'i'}\n",
      "{'this', 9, 3}\n",
      "{np.int64(0), np.int64(1), np.int64(2), np.int64(3), np.int64(4), np.int64(5), np.int64(6), np.int64(7), np.int64(8), np.int64(9)}\n"
     ]
    }
   ],
   "source": [
    "# Method 1\n",
    "my_set_1 = set()\n",
    "for i in range(10):\n",
    "    my_set_1.add(i)\n",
    "print(my_set_1)\n",
    "\n",
    "# Method 2\n",
    "my_set_2 = {0, 1, 2, 3, 4, 5, 6, 7, 8, 9}\n",
    "print(my_set_2)\n",
    "\n",
    "# Method 3\n",
    "# The way we are creating the set here uses a comprehension\n",
    "my_set_3 = {j for j in range(10)}\n",
    "print(my_set_3)\n",
    "\n",
    "# Method 4\n",
    "my_set_4 = set(\"This is a  string\")\n",
    "print(my_set_4)\n",
    "\n",
    "# Method 5\n",
    "my_set_5 = set([9, 'this', 3])\n",
    "print(my_set_5)\n",
    "\n",
    "# Method 6\n",
    "my_set_6 = set(np.array(np.arange(10)))\n",
    "print(my_set_6)\n",
    "               "
   ]
  },
  {
   "cell_type": "markdown",
   "metadata": {},
   "source": [
    "### Set elements need to be immutable"
   ]
  },
  {
   "cell_type": "code",
   "execution_count": 23,
   "metadata": {
    "tags": []
   },
   "outputs": [
    {
     "name": "stdout",
     "output_type": "stream",
     "text": [
      "{'test', (8, 9), 6}\n",
      "Exception Try 2\n",
      "unhashable type: 'numpy.ndarray'\n"
     ]
    }
   ],
   "source": [
    "# This code will fail. What is the error message?\n",
    "try:\n",
    "    no_set = {6, 'test', (8, 9)}\n",
    "    print(no_set)\n",
    "except Exception as e:\n",
    "    print(\"Exception Try 1\")\n",
    "    print(e)\n",
    "\n",
    "# And so will this code\n",
    "try:\n",
    "    no_set_2 = {6, 'test', np.array([8, 9])}\n",
    "    print(no_set_2)\n",
    "except Exception as e2:\n",
    "    print(\"Exception Try 2\")\n",
    "    print(e2)\n",
    "    "
   ]
  },
  {
   "cell_type": "markdown",
   "metadata": {},
   "source": [
    "## Disadvantage of sets\n",
    "\n",
    "* Sets are unordered.  \n",
    "\n",
    "* Therefore you can't reference an element of the set like you can in a list, array, or dictionary.\n",
    "\n",
    "* But a set is an iterable, so you can use it in a for loop to process the set elements one at a time. You are not guaranteed that the set elements will come out in the same order each time.\n",
    "\n",
    "<pre>\n",
    "\n",
    "\n",
    "</pre>"
   ]
  },
  {
   "cell_type": "code",
   "execution_count": 24,
   "metadata": {
    "tags": []
   },
   "outputs": [
    {
     "name": "stdout",
     "output_type": "stream",
     "text": [
      "{0, 2, 4, 6, 8}\n",
      "Error: 'set' object is not subscriptable\n"
     ]
    }
   ],
   "source": [
    "# Attempt to access a set element using an index\n",
    "# Note how we are adding an if condition to the comprehension below.\n",
    "# What does the if condition do?\n",
    "my_set_3 = {j for j in range(10) if j%2 == 0}\n",
    "print(my_set_3)\n",
    "\n",
    "try:\n",
    "    print(my_set_3[2])\n",
    "except Exception as e:\n",
    "    print(\"Error:\", e)"
   ]
  },
  {
   "cell_type": "code",
   "execution_count": 26,
   "metadata": {
    "tags": []
   },
   "outputs": [
    {
     "name": "stdout",
     "output_type": "stream",
     "text": [
      "{'a', 't', ' ', 'T', 'r', 'n', 'h', 's', 'g', 'i'}\n",
      "Character in my_set_4: a\n",
      "Character in my_set_4: t\n",
      "Character in my_set_4:  \n",
      "Character in my_set_4: T\n",
      "Character in my_set_4: r\n",
      "Character in my_set_4: n\n",
      "Character in my_set_4: h\n",
      "Character in my_set_4: s\n",
      "Character in my_set_4: g\n",
      "Character in my_set_4: i\n"
     ]
    }
   ],
   "source": [
    "# for loop over the elements of a set\n",
    "my_set_4 = set(\"This is a  string\")\n",
    "print(my_set_4)\n",
    "\n",
    "for ch in my_set_4:\n",
    "    print(\"Character in my_set_4:\", ch)"
   ]
  },
  {
   "cell_type": "markdown",
   "metadata": {},
   "source": [
    "## `sorted()` to sort all types of objects  in python\n",
    "\n",
    "* `sorted` is an overloaded function that can be used to sort a number of python objects."
   ]
  },
  {
   "cell_type": "code",
   "execution_count": 28,
   "metadata": {
    "tags": []
   },
   "outputs": [
    {
     "name": "stdout",
     "output_type": "stream",
     "text": [
      "[' ', 'M', 'g', 'i', 'n', 'r', 's', 't', 'y']\n",
      "[-9, -8, 4, 22]\n",
      "[np.int64(-9), np.int64(-8), np.int64(4), np.int64(22)]\n",
      "[-9, -8, 4, 22]\n",
      "['4', '9', 'May I']\n"
     ]
    }
   ],
   "source": [
    "# Sort a string\n",
    "print(sorted(\"My string\"))\n",
    "# Sort a list\n",
    "print(sorted([4, -9, 22, -8]))\n",
    "# Sort a numpy array\n",
    "print(sorted(np.array([4, -9, 22, -8])))\n",
    "# Sort a set\n",
    "print(sorted(set([4, -9, 4, -9, 22, -8, -8, 22])))\n",
    "# Can everything be sorted?\n",
    "#Solution\n",
    "try:\n",
    "#End\n",
    "    print(sorted([4, 'May I', 9]))\n",
    "#Solution\n",
    "except:\n",
    "    pass\n",
    "#End\n",
    "# Sorting uses lexical ordering\n",
    "print(sorted(['4', 'May I', '9']))"
   ]
  },
  {
   "cell_type": "markdown",
   "metadata": {},
   "source": [
    "## Venn Diagram of Sets\n",
    "\n",
    "<img src=\"https://online.visual-paradigm.com/repository/images/8f05154c-2e9c-43f3-b2fe-bc4dc180c4d8.png\" style=\"display:inline; width:400px\" />\n",
    "\n",
    "* Green/left are characteristics common to whales\n",
    "* Right/red are characteristics common only to fish\n",
    "* Middle are characteristics common to whales and fish\n",
    "\n",
    "### Set intersection: Characteristics that are common to *both* whales *and* fish\n",
    "### Set union: Characteristics that are present in *either* whales *or* fish"
   ]
  },
  {
   "cell_type": "code",
   "execution_count": 29,
   "metadata": {
    "tags": []
   },
   "outputs": [
    {
     "name": "stdout",
     "output_type": "stream",
     "text": [
      "Intersection, whales and fish: {'have fins', 'can swim', 'live in water'}\n",
      "Union, whales or fish: {'live birth', 'lay eggs', 'live in water', 'breathe water', 'have hair', 'have fins', 'have scales', 'breathe air', 'can swim'}\n"
     ]
    }
   ],
   "source": [
    "whales = set(['live birth', 'breathe air', 'have hair', 'can swim',\\\n",
    "              'live in water', 'have fins'])\n",
    "fish = set(['have scales', 'lay eggs', 'breathe water', 'can swim',\\\n",
    "            'live in water', 'have fins'])\n",
    "whales_and_fish = whales.intersection(fish)\n",
    "print(\"Intersection, whales and fish:\", whales_and_fish)\n",
    "print(\"Union, whales or fish:\", fish.union(whales))"
   ]
  },
  {
   "cell_type": "markdown",
   "metadata": {},
   "source": [
    "### Suppose we want to find what is in one set but not the other?\n",
    "### The set `difference` method can do that."
   ]
  },
  {
   "cell_type": "code",
   "execution_count": 12,
   "metadata": {
    "tags": []
   },
   "outputs": [
    {
     "name": "stdout",
     "output_type": "stream",
     "text": [
      "{'live birth', 'breathe air', 'have hair'}\n",
      "{'lay eggs', 'have scales', 'breathe water'}\n"
     ]
    }
   ],
   "source": [
    "# What do whales have but not fish?\n",
    "print(whales.difference(fish))\n",
    "\n",
    "# And what fish have but not whales?\n",
    "print(fish.difference(whales))"
   ]
  },
  {
   "cell_type": "markdown",
   "metadata": {},
   "source": [
    "### Removing items from a set can be done using the `remove` or `discard` methods."
   ]
  },
  {
   "cell_type": "code",
   "execution_count": 30,
   "metadata": {
    "tags": []
   },
   "outputs": [
    {
     "name": "stdout",
     "output_type": "stream",
     "text": [
      "{'live birth', 'live in water', 'have hair', 'have fins', 'breathe air', 'can swim'}\n",
      "{'live birth', 'live in water', 'have hair', 'have fins', 'can swim'}\n"
     ]
    }
   ],
   "source": [
    "print(whales)\n",
    "whales.discard('breathe air')\n",
    "print(whales)\n"
   ]
  },
  {
   "cell_type": "markdown",
   "metadata": {},
   "source": [
    "### What is the difference between `remove` and `discard`?"
   ]
  },
  {
   "cell_type": "code",
   "execution_count": 31,
   "metadata": {
    "tags": []
   },
   "outputs": [
    {
     "name": "stdout",
     "output_type": "stream",
     "text": [
      "{'live birth', 'live in water', 'have hair', 'have fins', 'can swim'}\n",
      "remove error: 'breathe air'\n"
     ]
    }
   ],
   "source": [
    "print(whales)\n",
    "\n",
    "try:\n",
    "    whales.discard('breathe air')\n",
    "except Exception as e:\n",
    "    print('discard error:', e)\n",
    "\n",
    "try:\n",
    "    whales.remove('breathe air')\n",
    "except Exception as e:\n",
    "    print('remove error:', e)"
   ]
  },
  {
   "cell_type": "markdown",
   "metadata": {},
   "source": [
    "## North Carolina voting sites and population during the Nov 2020 election\n",
    "### Let us say we want to determine how many voting sites were available in each county during the November 2020 elections.\n",
    "* The State of North Carolina makes many datasets about the [demography](https://www.osbm.nc.gov/facts-figures/population-demographics) of NC publicly available.\n",
    "* [Data related to elections](https://www.ncsbe.gov/) is made available by the NC State Board of Elections.\n",
    "* One such [data is about polling places](https://www.ncsbe.gov/results-data/polling-place-data).\n",
    "* We will be working with the [polling place data from Nov. 3, 2020](https://s3.amazonaws.com/dl.ncsbe.gov/ENRS/2020_11_03/polling_place_20201103.csv).\n",
    "* The data is provided as a CSV file, see below.\n",
    "* We have extracted just the `county_name` field from this spreadsheet and made it available as the string numpy array `county_poll_locations`.\n",
    "\n",
    "<img src=\"Unit-2-4-NC-Polling-Places.jpg\" style=\"display:inline; width:800px; float:bottom\" />\n"
   ]
  },
  {
   "cell_type": "markdown",
   "metadata": {},
   "source": [
    "### Write a function called `setOfUniqueCountiesInArray` that given a numpy string array of counties in the variable `names` returns a set of the unique counties in `names`."
   ]
  },
  {
   "cell_type": "code",
   "execution_count": 32,
   "metadata": {
    "tags": []
   },
   "outputs": [
    {
     "name": "stdout",
     "output_type": "stream",
     "text": [
      "There are 100 unique counties in the county_poll_locations array.\n",
      "The unique countries are:\n",
      "CAMDEN, ONSLOW, GATES, HYDE, PERQUIMANS, HENDERSON, MOORE, DAVIE, CHOWAN, WILKES, CABARRUS, DURHAM, RANDOLPH, ASHE, GREENE, IREDELL, PITT, CLAY, EDGECOMBE, DARE, CHEROKEE, GUILFORD, CURRITUCK, NORTHAMPTON, ROBESON, RUTHERFORD, ROCKINGHAM, SCOTLAND, GASTON, MARTIN, CUMBERLAND, TYRRELL, STOKES, HOKE, MADISON, CALDWELL, AVERY, GRANVILLE, GRAHAM, SAMPSON, YADKIN, WARREN, CATAWBA, FRANKLIN, COLUMBUS, RICHMOND, WAYNE, WATAUGA, MITCHELL, HALIFAX, BEAUFORT, ORANGE, MECKLENBURG, POLK, ALEXANDER, JONES, NASH, DUPLIN, VANCE, CASWELL, JOHNSTON, CLEVELAND, WASHINGTON, BURKE, LENOIR, PENDER, WILSON, SURRY, CRAVEN, NEW HANOVER, SWAIN, PASQUOTANK, LEE, LINCOLN, STANLY, CHATHAM, TRANSYLVANIA, HARNETT, DAVIDSON, BRUNSWICK, ALAMANCE, BUNCOMBE, YANCEY, BERTIE, PAMLICO, ANSON, MCDOWELL, ALLEGHANY, CARTERET, ROWAN, PERSON, FORSYTH, HERTFORD, HAYWOOD, JACKSON, MONTGOMERY, MACON, WAKE, UNION, BLADEN\n"
     ]
    }
   ],
   "source": [
    "def setOfUniqueCountiesInArray(names):\n",
    "    '''\n",
    "    Given a Python array of county names, return the unique counties in a set\n",
    "    '''\n",
    "    # Unique counties in names\n",
    "\n",
    "    unique_counties = set(names)\n",
    "\n",
    "    return unique_counties\n",
    "\n",
    "\n",
    "uc_set = setOfUniqueCountiesInArray(county_poll_locations)\n",
    "\n",
    "print('There are', len(uc_set), 'unique counties in the county_poll_locations array.')\n",
    "\n",
    "print('The unique countries are:')\n",
    "print(*uc_set, sep=', ')\n",
    "\n",
    "\n",
    "\n",
    "\n"
   ]
  },
  {
   "cell_type": "markdown",
   "metadata": {},
   "source": [
    "### Write a function called `pollingLocationCounts` that given a numpy string array of county names with polling locations, returns a numpy array of unique county names and a numpy array of the number of polling locations in that county."
   ]
  },
  {
   "cell_type": "code",
   "execution_count": 35,
   "metadata": {
    "tags": []
   },
   "outputs": [
    {
     "name": "stdout",
     "output_type": "stream",
     "text": [
      "0       ALAMANCE\n",
      "1       ALAMANCE\n",
      "2       ALAMANCE\n",
      "3       ALAMANCE\n",
      "4       ALAMANCE\n",
      "          ...   \n",
      "2657      YANCEY\n",
      "2658      YANCEY\n",
      "2659      YANCEY\n",
      "2660      YANCEY\n",
      "2661      YANCEY\n",
      "Name: county_name, Length: 2662, dtype: object\n"
     ]
    },
    {
     "data": {
      "text/html": [
       "<table border=\"1\" class=\"dataframe\">\n",
       "  <thead>\n",
       "    <tr style=\"text-align: right;\">\n",
       "      <th></th>\n",
       "      <th>Number</th>\n",
       "    </tr>\n",
       "  </thead>\n",
       "  <tbody>\n",
       "    <tr>\n",
       "      <th>CAMDEN</th>\n",
       "      <td>3</td>\n",
       "    </tr>\n",
       "    <tr>\n",
       "      <th>ONSLOW</th>\n",
       "      <td>24</td>\n",
       "    </tr>\n",
       "    <tr>\n",
       "      <th>GATES</th>\n",
       "      <td>6</td>\n",
       "    </tr>\n",
       "    <tr>\n",
       "      <th>HYDE</th>\n",
       "      <td>7</td>\n",
       "    </tr>\n",
       "    <tr>\n",
       "      <th>PERQUIMANS</th>\n",
       "      <td>7</td>\n",
       "    </tr>\n",
       "    <tr>\n",
       "      <th>HENDERSON</th>\n",
       "      <td>35</td>\n",
       "    </tr>\n",
       "    <tr>\n",
       "      <th>MOORE</th>\n",
       "      <td>26</td>\n",
       "    </tr>\n",
       "    <tr>\n",
       "      <th>DAVIE</th>\n",
       "      <td>14</td>\n",
       "    </tr>\n",
       "    <tr>\n",
       "      <th>CHOWAN</th>\n",
       "      <td>6</td>\n",
       "    </tr>\n",
       "    <tr>\n",
       "      <th>WILKES</th>\n",
       "      <td>27</td>\n",
       "    </tr>\n",
       "    <tr>\n",
       "      <th>CABARRUS</th>\n",
       "      <td>39</td>\n",
       "    </tr>\n",
       "    <tr>\n",
       "      <th>DURHAM</th>\n",
       "      <td>57</td>\n",
       "    </tr>\n",
       "    <tr>\n",
       "      <th>RANDOLPH</th>\n",
       "      <td>22</td>\n",
       "    </tr>\n",
       "    <tr>\n",
       "      <th>ASHE</th>\n",
       "      <td>17</td>\n",
       "    </tr>\n",
       "    <tr>\n",
       "      <th>GREENE</th>\n",
       "      <td>10</td>\n",
       "    </tr>\n",
       "    <tr>\n",
       "      <th>IREDELL</th>\n",
       "      <td>29</td>\n",
       "    </tr>\n",
       "    <tr>\n",
       "      <th>PITT</th>\n",
       "      <td>40</td>\n",
       "    </tr>\n",
       "    <tr>\n",
       "      <th>CLAY</th>\n",
       "      <td>9</td>\n",
       "    </tr>\n",
       "    <tr>\n",
       "      <th>EDGECOMBE</th>\n",
       "      <td>21</td>\n",
       "    </tr>\n",
       "    <tr>\n",
       "      <th>DARE</th>\n",
       "      <td>16</td>\n",
       "    </tr>\n",
       "    <tr>\n",
       "      <th>CHEROKEE</th>\n",
       "      <td>16</td>\n",
       "    </tr>\n",
       "    <tr>\n",
       "      <th>GUILFORD</th>\n",
       "      <td>165</td>\n",
       "    </tr>\n",
       "    <tr>\n",
       "      <th>CURRITUCK</th>\n",
       "      <td>11</td>\n",
       "    </tr>\n",
       "    <tr>\n",
       "      <th>NORTHAMPTON</th>\n",
       "      <td>13</td>\n",
       "    </tr>\n",
       "    <tr>\n",
       "      <th>ROBESON</th>\n",
       "      <td>39</td>\n",
       "    </tr>\n",
       "    <tr>\n",
       "      <th>RUTHERFORD</th>\n",
       "      <td>17</td>\n",
       "    </tr>\n",
       "    <tr>\n",
       "      <th>ROCKINGHAM</th>\n",
       "      <td>15</td>\n",
       "    </tr>\n",
       "    <tr>\n",
       "      <th>SCOTLAND</th>\n",
       "      <td>7</td>\n",
       "    </tr>\n",
       "    <tr>\n",
       "      <th>GASTON</th>\n",
       "      <td>46</td>\n",
       "    </tr>\n",
       "    <tr>\n",
       "      <th>MARTIN</th>\n",
       "      <td>13</td>\n",
       "    </tr>\n",
       "    <tr>\n",
       "      <th>CUMBERLAND</th>\n",
       "      <td>75</td>\n",
       "    </tr>\n",
       "    <tr>\n",
       "      <th>TYRRELL</th>\n",
       "      <td>6</td>\n",
       "    </tr>\n",
       "    <tr>\n",
       "      <th>STOKES</th>\n",
       "      <td>18</td>\n",
       "    </tr>\n",
       "    <tr>\n",
       "      <th>HOKE</th>\n",
       "      <td>15</td>\n",
       "    </tr>\n",
       "    <tr>\n",
       "      <th>MADISON</th>\n",
       "      <td>12</td>\n",
       "    </tr>\n",
       "    <tr>\n",
       "      <th>CALDWELL</th>\n",
       "      <td>20</td>\n",
       "    </tr>\n",
       "    <tr>\n",
       "      <th>AVERY</th>\n",
       "      <td>19</td>\n",
       "    </tr>\n",
       "    <tr>\n",
       "      <th>GRANVILLE</th>\n",
       "      <td>15</td>\n",
       "    </tr>\n",
       "    <tr>\n",
       "      <th>GRAHAM</th>\n",
       "      <td>4</td>\n",
       "    </tr>\n",
       "    <tr>\n",
       "      <th>SAMPSON</th>\n",
       "      <td>23</td>\n",
       "    </tr>\n",
       "    <tr>\n",
       "      <th>YADKIN</th>\n",
       "      <td>12</td>\n",
       "    </tr>\n",
       "    <tr>\n",
       "      <th>WARREN</th>\n",
       "      <td>14</td>\n",
       "    </tr>\n",
       "    <tr>\n",
       "      <th>CATAWBA</th>\n",
       "      <td>40</td>\n",
       "    </tr>\n",
       "    <tr>\n",
       "      <th>FRANKLIN</th>\n",
       "      <td>18</td>\n",
       "    </tr>\n",
       "    <tr>\n",
       "      <th>COLUMBUS</th>\n",
       "      <td>26</td>\n",
       "    </tr>\n",
       "    <tr>\n",
       "      <th>RICHMOND</th>\n",
       "      <td>16</td>\n",
       "    </tr>\n",
       "    <tr>\n",
       "      <th>WAYNE</th>\n",
       "      <td>28</td>\n",
       "    </tr>\n",
       "    <tr>\n",
       "      <th>WATAUGA</th>\n",
       "      <td>20</td>\n",
       "    </tr>\n",
       "    <tr>\n",
       "      <th>MITCHELL</th>\n",
       "      <td>9</td>\n",
       "    </tr>\n",
       "    <tr>\n",
       "      <th>HALIFAX</th>\n",
       "      <td>19</td>\n",
       "    </tr>\n",
       "    <tr>\n",
       "      <th>BEAUFORT</th>\n",
       "      <td>21</td>\n",
       "    </tr>\n",
       "    <tr>\n",
       "      <th>ORANGE</th>\n",
       "      <td>41</td>\n",
       "    </tr>\n",
       "    <tr>\n",
       "      <th>MECKLENBURG</th>\n",
       "      <td>195</td>\n",
       "    </tr>\n",
       "    <tr>\n",
       "      <th>POLK</th>\n",
       "      <td>7</td>\n",
       "    </tr>\n",
       "    <tr>\n",
       "      <th>ALEXANDER</th>\n",
       "      <td>10</td>\n",
       "    </tr>\n",
       "    <tr>\n",
       "      <th>JONES</th>\n",
       "      <td>7</td>\n",
       "    </tr>\n",
       "    <tr>\n",
       "      <th>NASH</th>\n",
       "      <td>24</td>\n",
       "    </tr>\n",
       "    <tr>\n",
       "      <th>DUPLIN</th>\n",
       "      <td>19</td>\n",
       "    </tr>\n",
       "    <tr>\n",
       "      <th>VANCE</th>\n",
       "      <td>12</td>\n",
       "    </tr>\n",
       "    <tr>\n",
       "      <th>CASWELL</th>\n",
       "      <td>9</td>\n",
       "    </tr>\n",
       "    <tr>\n",
       "      <th>JOHNSTON</th>\n",
       "      <td>36</td>\n",
       "    </tr>\n",
       "    <tr>\n",
       "      <th>CLEVELAND</th>\n",
       "      <td>21</td>\n",
       "    </tr>\n",
       "    <tr>\n",
       "      <th>WASHINGTON</th>\n",
       "      <td>6</td>\n",
       "    </tr>\n",
       "    <tr>\n",
       "      <th>BURKE</th>\n",
       "      <td>33</td>\n",
       "    </tr>\n",
       "    <tr>\n",
       "      <th>LENOIR</th>\n",
       "      <td>22</td>\n",
       "    </tr>\n",
       "    <tr>\n",
       "      <th>PENDER</th>\n",
       "      <td>19</td>\n",
       "    </tr>\n",
       "    <tr>\n",
       "      <th>WILSON</th>\n",
       "      <td>24</td>\n",
       "    </tr>\n",
       "    <tr>\n",
       "      <th>SURRY</th>\n",
       "      <td>24</td>\n",
       "    </tr>\n",
       "    <tr>\n",
       "      <th>CRAVEN</th>\n",
       "      <td>21</td>\n",
       "    </tr>\n",
       "    <tr>\n",
       "      <th>NEW HANOVER</th>\n",
       "      <td>43</td>\n",
       "    </tr>\n",
       "    <tr>\n",
       "      <th>SWAIN</th>\n",
       "      <td>5</td>\n",
       "    </tr>\n",
       "    <tr>\n",
       "      <th>PASQUOTANK</th>\n",
       "      <td>9</td>\n",
       "    </tr>\n",
       "    <tr>\n",
       "      <th>LEE</th>\n",
       "      <td>10</td>\n",
       "    </tr>\n",
       "    <tr>\n",
       "      <th>LINCOLN</th>\n",
       "      <td>23</td>\n",
       "    </tr>\n",
       "    <tr>\n",
       "      <th>STANLY</th>\n",
       "      <td>22</td>\n",
       "    </tr>\n",
       "    <tr>\n",
       "      <th>CHATHAM</th>\n",
       "      <td>18</td>\n",
       "    </tr>\n",
       "    <tr>\n",
       "      <th>TRANSYLVANIA</th>\n",
       "      <td>15</td>\n",
       "    </tr>\n",
       "    <tr>\n",
       "      <th>HARNETT</th>\n",
       "      <td>13</td>\n",
       "    </tr>\n",
       "    <tr>\n",
       "      <th>DAVIDSON</th>\n",
       "      <td>43</td>\n",
       "    </tr>\n",
       "    <tr>\n",
       "      <th>BRUNSWICK</th>\n",
       "      <td>25</td>\n",
       "    </tr>\n",
       "    <tr>\n",
       "      <th>ALAMANCE</th>\n",
       "      <td>38</td>\n",
       "    </tr>\n",
       "    <tr>\n",
       "      <th>BUNCOMBE</th>\n",
       "      <td>80</td>\n",
       "    </tr>\n",
       "    <tr>\n",
       "      <th>YANCEY</th>\n",
       "      <td>11</td>\n",
       "    </tr>\n",
       "    <tr>\n",
       "      <th>BERTIE</th>\n",
       "      <td>12</td>\n",
       "    </tr>\n",
       "    <tr>\n",
       "      <th>PAMLICO</th>\n",
       "      <td>10</td>\n",
       "    </tr>\n",
       "    <tr>\n",
       "      <th>ANSON</th>\n",
       "      <td>9</td>\n",
       "    </tr>\n",
       "    <tr>\n",
       "      <th>MCDOWELL</th>\n",
       "      <td>17</td>\n",
       "    </tr>\n",
       "    <tr>\n",
       "      <th>ALLEGHANY</th>\n",
       "      <td>4</td>\n",
       "    </tr>\n",
       "    <tr>\n",
       "      <th>CARTERET</th>\n",
       "      <td>26</td>\n",
       "    </tr>\n",
       "    <tr>\n",
       "      <th>ROWAN</th>\n",
       "      <td>41</td>\n",
       "    </tr>\n",
       "    <tr>\n",
       "      <th>PERSON</th>\n",
       "      <td>11</td>\n",
       "    </tr>\n",
       "    <tr>\n",
       "      <th>FORSYTH</th>\n",
       "      <td>101</td>\n",
       "    </tr>\n",
       "    <tr>\n",
       "      <th>HERTFORD</th>\n",
       "      <td>13</td>\n",
       "    </tr>\n",
       "    <tr>\n",
       "      <th>HAYWOOD</th>\n",
       "      <td>29</td>\n",
       "    </tr>\n",
       "    <tr>\n",
       "      <th>JACKSON</th>\n",
       "      <td>13</td>\n",
       "    </tr>\n",
       "    <tr>\n",
       "      <th>MONTGOMERY</th>\n",
       "      <td>14</td>\n",
       "    </tr>\n",
       "    <tr>\n",
       "      <th>MACON</th>\n",
       "      <td>15</td>\n",
       "    </tr>\n",
       "    <tr>\n",
       "      <th>WAKE</th>\n",
       "      <td>206</td>\n",
       "    </tr>\n",
       "    <tr>\n",
       "      <th>UNION</th>\n",
       "      <td>52</td>\n",
       "    </tr>\n",
       "    <tr>\n",
       "      <th>BLADEN</th>\n",
       "      <td>17</td>\n",
       "    </tr>\n",
       "  </tbody>\n",
       "</table>"
      ],
      "text/plain": [
       "<IPython.core.display.HTML object>"
      ]
     },
     "metadata": {},
     "output_type": "display_data"
    }
   ],
   "source": [
    "def pollingLocationCounts(names):\n",
    "    '''\n",
    "    Given a Python array of county names, returns a numpy array of the unique\n",
    "    counties and a numpy array of the number of polling locations in each county\n",
    "    '''\n",
    "    # Unique counties and number of polling locations\n",
    "\n",
    "    unique_counties_set = set(names)\n",
    "    poll_location_count = []\n",
    "    for county in unique_counties_set:\n",
    "        poll_location_count.append(np.count_nonzero(names == county))\n",
    "\n",
    "    return (np.array(list(unique_counties_set)), np.array(poll_location_count))\n",
    "\n",
    "print(county_poll_locations)\n",
    "county_array, poll_count_array = pollingLocationCounts(county_poll_locations)\n",
    "\n",
    "# print('There are', len(county_array), 'unique counties in the county_poll_locations array.')\n",
    "# print('The unique countries are:')\n",
    "# print(*county_array, sep=', ')\n",
    "# print('Number of poll locations by county is:', *poll_count_array)\n",
    "comp116.array_to_html(poll_count_array, row_names=county_array, col_names=['Number'])"
   ]
  },
  {
   "cell_type": "code",
   "execution_count": 36,
   "metadata": {
    "tags": []
   },
   "outputs": [
    {
     "name": "stdout",
     "output_type": "stream",
     "text": [
      "41\n"
     ]
    }
   ],
   "source": [
    "## Quick check\n",
    "county = 'ORANGE'\n",
    "print(np.sum(county_poll_locations == county))"
   ]
  },
  {
   "cell_type": "markdown",
   "metadata": {},
   "source": [
    "## What attributes and methods are available for sets?"
   ]
  },
  {
   "cell_type": "code",
   "execution_count": 37,
   "metadata": {
    "tags": []
   },
   "outputs": [
    {
     "data": {
      "text/plain": [
       "['__and__',\n",
       " '__class__',\n",
       " '__class_getitem__',\n",
       " '__contains__',\n",
       " '__delattr__',\n",
       " '__dir__',\n",
       " '__doc__',\n",
       " '__eq__',\n",
       " '__format__',\n",
       " '__ge__',\n",
       " '__getattribute__',\n",
       " '__getstate__',\n",
       " '__gt__',\n",
       " '__hash__',\n",
       " '__iand__',\n",
       " '__init__',\n",
       " '__init_subclass__',\n",
       " '__ior__',\n",
       " '__isub__',\n",
       " '__iter__',\n",
       " '__ixor__',\n",
       " '__le__',\n",
       " '__len__',\n",
       " '__lt__',\n",
       " '__ne__',\n",
       " '__new__',\n",
       " '__or__',\n",
       " '__rand__',\n",
       " '__reduce__',\n",
       " '__reduce_ex__',\n",
       " '__repr__',\n",
       " '__ror__',\n",
       " '__rsub__',\n",
       " '__rxor__',\n",
       " '__setattr__',\n",
       " '__sizeof__',\n",
       " '__str__',\n",
       " '__sub__',\n",
       " '__subclasshook__',\n",
       " '__xor__',\n",
       " 'add',\n",
       " 'clear',\n",
       " 'copy',\n",
       " 'difference',\n",
       " 'difference_update',\n",
       " 'discard',\n",
       " 'intersection',\n",
       " 'intersection_update',\n",
       " 'isdisjoint',\n",
       " 'issubset',\n",
       " 'issuperset',\n",
       " 'pop',\n",
       " 'remove',\n",
       " 'symmetric_difference',\n",
       " 'symmetric_difference_update',\n",
       " 'union',\n",
       " 'update']"
      ]
     },
     "execution_count": 37,
     "metadata": {},
     "output_type": "execute_result"
    }
   ],
   "source": [
    "whales = set(['live birth', 'breathe air', 'have hair', 'can swim',\\\n",
    "              'live in water', 'have fins'])\n",
    "dir(whales)"
   ]
  },
  {
   "cell_type": "markdown",
   "metadata": {},
   "source": [
    "### Find a list of prime numbers by removing items from a set\n",
    "\n",
    "* Let's find all the prime numbers from 2 to some max number, call it `limit`.\n",
    "    * (Remember a prime number is a number that's only divisible by itself and one. One is not a prime number.)\n",
    "\n",
    "* We know that all the divisors of a number, $N$ (say 100) can be found by investigating divisors upto $N^{1/2}$ ($100 ^ {1/2}$ = 10).\n",
    "\n",
    "* So write the function `allPrimesUpto` which takes one integer parameter, `limit` and returns a set of all prime numbers upto `limit`.\n",
    "\n",
    "* Note that this is actually a very bad way to find primes: it is too computtionally expensive. There are many more sophisticated ways of finding primes as well as checking if a number is a prime.\n",
    "\n",
    "* Primes are very important in cryptography.\n"
   ]
  },
  {
   "cell_type": "code",
   "execution_count": 41,
   "metadata": {
    "tags": []
   },
   "outputs": [
    {
     "name": "stdout",
     "output_type": "stream",
     "text": [
      "Range 1: 11\n",
      "All prime numbers up to 100 are {2, 3, 5, 7, 11, 13, 17, 19, 23, 29, 31, 37, 41, 43, 47, 53, 59, 61, 67, 71, 73, 79, 83, 89, 97}\n"
     ]
    }
   ],
   "source": [
    "def allPrimesUpto( limit ):\n",
    "    \"\"\"\n",
    "    Find all prime numbers upto limit.\n",
    "    \"\"\"\n",
    "\n",
    "    Allnumbers = set(range(2, limit)) # Create a set of all numbers from 2 up to limit\n",
    "    print(\"Range 1:\", int(limit ** 0.5)+1)\n",
    "    for number in range(2, int(limit ** 0.5)+1): #  all numbers from 2 to square root of limit\n",
    "        for factor in range(2 * number, limit, number): # iterate over all the factors to 100\n",
    "            Allnumbers.discard(factor) # discard each of these multiple of a number\n",
    "    return Allnumbers # return the remanents of the set\n",
    "\n",
    "print(\"All prime numbers up to 100 are\", allPrimesUpto(100))\n",
    "\n",
    "\n",
    "\n",
    "\n"
   ]
  },
  {
   "cell_type": "markdown",
   "metadata": {},
   "source": [
    "### NumPy provides a function to keep only unique items in an array\n",
    "\n",
    "* The advantage of NumPy `np.unique` as compared to sets is that you can reference items by index.\n",
    "\n",
    "* But, you don't have the intersection, union, difference, etc."
   ]
  },
  {
   "cell_type": "code",
   "execution_count": 45,
   "metadata": {
    "tags": []
   },
   "outputs": [
    {
     "name": "stdout",
     "output_type": "stream",
     "text": [
      "The unique words in George Washington quote are, ['--' 'A' 'And' 'George' 'In' 'Washington' 'a' 'are' 'be' 'can'\n",
      " 'communicating' 'country' 'duty' 'education' 'equally' 'future'\n",
      " 'government.' 'guardians' 'important?' 'in' 'it' 'knowledge' 'liberties'\n",
      " 'more' 'object' 'of' 'our' 'pressing' 'primary' 'republic,' 'science'\n",
      " 'should' 'species' 'than' 'the' 'those' 'to' 'what' 'who' 'youth']\n"
     ]
    }
   ],
   "source": [
    "words = '''\n",
    "A primary object should be the education of our youth in the science of government. \n",
    "In a republic, what species of knowledge can be equally important? And what duty \n",
    "more pressing than communicating it to those who are to be the future guardians \n",
    "of the liberties of the country -- George Washington\n",
    "'''\n",
    "\n",
    "unique_words = np.unique( words.split() )\n",
    "print('The unique words in George Washington quote are', unique_words, sep=\", \")"
   ]
  },
  {
   "cell_type": "markdown",
   "metadata": {},
   "source": [
    "# Unpacking\n",
    "\n",
    "* You may have noticed that  we are using asterisk `*` in print.\n",
    "\n",
    "* You can use it if you want to unpack things in a list, set, array, or other collections.\n",
    "\n",
    "* Really handy for short hand prints."
   ]
  },
  {
   "cell_type": "code",
   "execution_count": 44,
   "metadata": {
    "tags": []
   },
   "outputs": [
    {
     "name": "stdout",
     "output_type": "stream",
     "text": [
      "The number of new daily Covid-19 cases has plunged 57 percent since peaking on Sept. 1.\n",
      "T h e   n u m b e r   o f   n e w   d a i l y   C o v i d - 1 9   c a s e s   h a s   p l u n g e d   5 7   p e r c e n t   s i n c e   p e a k i n g   o n   S e p t .   1 .\n",
      "T|h|e| |n|u|m|b|e|r| |o|f| |n|e|w| |d|a|i|l|y| |C|o|v|i|d|-|1|9| |c|a|s|e|s| |h|a|s| |p|l|u|n|g|e|d| |5|7| |p|e|r|c|e|n|t| |s|i|n|c|e| |p|e|a|k|i|n|g| |o|n| |S|e|p|t|.| |1|.\n",
      "[0 1 2 3 4 5 6 7 8 9]\n",
      "0 1 2 3 4 5 6 7 8 9\n"
     ]
    }
   ],
   "source": [
    "from_nyt = \"The number of new daily Covid-19 cases has plunged 57 percent since peaking on Sept. 1.\"\n",
    "print(from_nyt)\n",
    "print(*from_nyt)\n",
    "print(*from_nyt, sep=\"|\")\n",
    "\n",
    "arr = np.arange(10)\n",
    "print(arr)\n",
    "print(*arr)\n"
   ]
  },
  {
   "cell_type": "code",
   "execution_count": null,
   "metadata": {},
   "outputs": [],
   "source": []
  }
 ],
 "metadata": {
  "celltoolbar": "Edit Metadata",
  "kernelspec": {
   "display_name": "Python 3",
   "language": "python",
   "name": "python3"
  },
  "language_info": {
   "codemirror_mode": {
    "name": "ipython",
    "version": 3
   },
   "file_extension": ".py",
   "mimetype": "text/x-python",
   "name": "python",
   "nbconvert_exporter": "python",
   "pygments_lexer": "ipython3",
   "version": "3.12.5"
  }
 },
 "nbformat": 4,
 "nbformat_minor": 4
}
