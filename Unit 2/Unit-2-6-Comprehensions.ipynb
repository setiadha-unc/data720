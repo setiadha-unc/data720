{
 "cells": [
  {
   "cell_type": "markdown",
   "metadata": {},
   "source": [
    "##### <img src=\"../SDSS-Logo.png\" style=\"display:inline; width:500px\" />\n",
    "\n",
    "\n",
    "## Learning Objectives\n",
    "\n",
    "- Learn about comprehensions in python"
   ]
  },
  {
   "cell_type": "markdown",
   "metadata": {},
   "source": [
    "## Comprehensions\n",
    "* Comprehension is an elegant way to create new sequences from existing sequences based on certain conditions, if needed.\n",
    "* In Python you can have several types of comprehensions:\n",
    "    * List comprehension\n",
    "    * Set comprehension\n",
    "    * Dictionary conprehension\n",
    "    * Generator comprehension\n",
    "* It is important to know that anything that can be done using comprehensions can also be done using `for` loops\n",
    "    * Comprehensions produce more readable code\n",
    "#### Here are a few places to get more information about python comprehensions:\n",
    "\n",
    "* [PLYMI](https://www.pythonlikeyoumeanit.com/Module2_EssentialsOfPython/Generators_and_Comprehensions.html#)\n",
    "* [python docs](https://docs.python.org/3/tutorial/datastructures.html#list-comprehensions)\n"
   ]
  },
  {
   "cell_type": "markdown",
   "metadata": {},
   "source": [
    "## List comprehension example\n",
    "\n",
    "### Consider the problem of creating a list that has the squares of the first 10 integers.\n",
    "### Below is one way to do this using a for loop"
   ]
  },
  {
   "cell_type": "code",
   "execution_count": 1,
   "metadata": {
    "tags": []
   },
   "outputs": [
    {
     "name": "stdout",
     "output_type": "stream",
     "text": [
      "List of squares [0, 1, 4, 9, 16, 25, 36, 49, 64, 81]\n"
     ]
    }
   ],
   "source": [
    "# List of first 10 squares using for loop\n",
    "squares_list = []\n",
    "for val in range(10):\n",
    "    squares_list.append(val*val)\n",
    "    \n",
    "print(f\"List of squares {squares_list}\")"
   ]
  },
  {
   "cell_type": "markdown",
   "metadata": {},
   "source": [
    "## Now we do this using list comprehension"
   ]
  },
  {
   "cell_type": "code",
   "execution_count": 3,
   "metadata": {
    "tags": []
   },
   "outputs": [
    {
     "name": "stdout",
     "output_type": "stream",
     "text": [
      "List of sqaures using comprehension [0, 1, 4, 9, 16, 25, 36, 49, 64, 81]\n"
     ]
    }
   ],
   "source": [
    "squares_list_comp = [val*val for val in range(10)]\n",
    "\n",
    "print(f\"List of sqaures using comprehension {squares_list_comp}\")"
   ]
  },
  {
   "cell_type": "markdown",
   "metadata": {},
   "source": [
    "## The basic structure of a comprehension is \n",
    "```python\n",
    "<expression> for <var> in <iterable> if <condition>\n",
    "```\n",
    "\n",
    "`expression` can be any single line of python code.\n",
    "\n",
    "* In the previous example `expression` is `val*val`, `var` is `val`, and  the `iterable` is `range(10)`. "
   ]
  },
  {
   "cell_type": "markdown",
   "metadata": {},
   "source": [
    "### What is the value of the `if <condition>` in the comprehension expression?\n",
    "\n",
    "### What if we want to create list of the squares of the even integers between 0 and 10?\n",
    "\n",
    "* See the for loop and list comprehension solutions:"
   ]
  },
  {
   "cell_type": "code",
   "execution_count": 4,
   "metadata": {
    "tags": []
   },
   "outputs": [
    {
     "name": "stdout",
     "output_type": "stream",
     "text": [
      "List of even squares [0, 4, 16, 36, 64]\n",
      "List of even squares using comprehension [0, 4, 16, 36, 64]\n"
     ]
    }
   ],
   "source": [
    "squares_list_even = []\n",
    "for val in range(10):\n",
    "    if val%2 == 0:\n",
    "        squares_list_even.append(val*val)\n",
    "print(f\"List of even squares {squares_list_even}\")\n",
    "\n",
    "# Solution using list comprehension\n",
    "squares_list_even_comp = [val*val for val in range(10) if val%2 == 0]\n",
    "print(f\"List of even squares using comprehension {squares_list_even_comp}\")"
   ]
  },
  {
   "cell_type": "markdown",
   "metadata": {},
   "source": [
    "### Comprehensions can be nested\n",
    "\n",
    "### For example, given two lists, `x` and `y`, create a list of tuples `(xi,yi)` where `xi == 2*yi`\n"
   ]
  },
  {
   "cell_type": "code",
   "execution_count": 5,
   "metadata": {
    "tags": []
   },
   "outputs": [
    {
     "name": "stdout",
     "output_type": "stream",
     "text": [
      "[(0, 0), (2, 1), (4, 2), (6, 3), (8, 4), (10, 5), (12, 6), (14, 7), (16, 8), (18, 9), (20, 10), (22, 11), (24, 12), (26, 13), (28, 14)]\n"
     ]
    }
   ],
   "source": [
    "x = list(range(30))\n",
    "y = list(range(30))\n",
    "\n",
    "new_list = [(xi, yi) for xi in x for yi in y if (xi == 2*yi)]\n",
    "print(new_list)"
   ]
  },
  {
   "cell_type": "code",
   "execution_count": null,
   "metadata": {},
   "outputs": [],
   "source": []
  }
 ],
 "metadata": {
  "celltoolbar": "Edit Metadata",
  "kernelspec": {
   "display_name": "Python 3",
   "language": "python",
   "name": "python3"
  },
  "language_info": {
   "codemirror_mode": {
    "name": "ipython",
    "version": 3
   },
   "file_extension": ".py",
   "mimetype": "text/x-python",
   "name": "python",
   "nbconvert_exporter": "python",
   "pygments_lexer": "ipython3",
   "version": "3.12.5"
  }
 },
 "nbformat": 4,
 "nbformat_minor": 4
}
