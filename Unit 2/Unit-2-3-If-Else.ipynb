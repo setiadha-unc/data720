{
 "cells": [
  {
   "cell_type": "markdown",
   "metadata": {},
   "source": [
    "##### <img src=\"../SDSS-Logo.png\" style=\"display:inline; width:500px\" />\n",
    "\n",
    "\n",
    "## Learning Objectives\n",
    "1. Understand `if` and `if-else` statements\n",
    "1. Follow the flow of execution when `if` and `if-else` are used\n",
    "1.  Write your own `if` statements as part of their code development\n"
   ]
  },
  {
   "cell_type": "markdown",
   "metadata": {},
   "source": [
    "## Control Flow\n",
    "* So far, all the code that we have written is sequential i.e. each line of code is executed one after the other in the same order as in the program. However, the true power of computers is in being able to change the order of execution (using conditionals) or execute a group of statements repeatedly (using loops).\n",
    "* Quoting from the book by [Jake VanderPlas, \"A whirlwind tour of python\",](https://jakevdp.github.io/WhirlwindTourOfPython/07-control-flow-statements.html)\n",
    "<img src=\"Unit-2-2-vanderplas-whirlwind-python.gif\" width=\"200\" style=\"float: right\" />\n",
    "\n",
    "> Control flow is where the rubber really meets the road in programming. Without it, a program is simply a list of statements that are sequentially executed. With control flow, you can execute certain code blocks conditionally and/or repeatedly: these basic building blocks can be combined to create surprisingly sophisticated programs!\n",
    "\n",
    "* Looping in python:\n",
    "    * For loops\n",
    "    * While loops\n",
    "* Conditional statements in python\n",
    "    * if-elif-else\n",
    "\n"
   ]
  },
  {
   "cell_type": "markdown",
   "metadata": {},
   "source": [
    "### `if` and `if-else`statements\n",
    "- `if` and `if-else` statements are another important python control structure\n",
    "- `if` statements are used when you want to selectively execute pieces of codes based on certain conditions\n",
    "- `if` statements are present in all programming languages\n",
    "- `if` statmenets are frequently used with `for` loops in many programming tasks\n",
    "\n",
    "* The `if` statement, allow the programmer to execute certain pieces of code depending on some Boolean condition.\n",
    "* This will allow us to create simple branches in our code. See the flowchart below.\n",
    "<img src=\"Unit-2-2-if-flow-diagram.png\" width=\"500\" style=\"float: bottom\" />\n",
    "* The statements that should be executed when the condition is `True` are indented wrt the `if` statement itself."
   ]
  },
  {
   "cell_type": "code",
   "execution_count": 1,
   "metadata": {
    "tags": []
   },
   "outputs": [
    {
     "name": "stdout",
     "output_type": "stream",
     "text": [
      "0 is zero\n",
      "Twice of x is 0\n",
      "Done with the if\n"
     ]
    }
   ],
   "source": [
    "# A simple If example\n",
    "x = -15\n",
    "x = 0\n",
    "\n",
    "if x == 0:\n",
    "    print(x, \"is zero\")\n",
    "    print(\"Twice of x is\", 2*x)\n",
    "print(\"Done with the if\")"
   ]
  },
  {
   "cell_type": "markdown",
   "metadata": {},
   "source": [
    "### If-else statement\n",
    "* You may want to execute a different set of statements if the condition being tested is `False`.\n",
    "* Here is the flowchart for `If ... .else`\n",
    "<br>\n",
    "<img src=\"Unit-2-2-flowchart-if-else-programming.jpg\" width=\"300\" style=\"float: bottom\" />"
   ]
  },
  {
   "cell_type": "code",
   "execution_count": 2,
   "metadata": {
    "tags": []
   },
   "outputs": [
    {
     "name": "stdout",
     "output_type": "stream",
     "text": [
      "-15 is not zero\n"
     ]
    }
   ],
   "source": [
    "# An If ... else example\n",
    "x = -15\n",
    "#x = 0\n",
    "\n",
    "if x == 0:\n",
    "    print(x, \"is zero\")\n",
    "else:\n",
    "    print(x, \"is not zero\")"
   ]
  },
  {
   "cell_type": "code",
   "execution_count": 3,
   "metadata": {
    "tags": []
   },
   "outputs": [
    {
     "name": "stdout",
     "output_type": "stream",
     "text": [
      "0 is zero\n",
      "isZero is  True\n"
     ]
    }
   ],
   "source": [
    "# An If or Else block can be more than 1 statement\n",
    "x = 0\n",
    "isZero = 'dummy'\n",
    "if x == 0:\n",
    "    isZero = True\n",
    "    print(x, \"is zero\")\n",
    "else:\n",
    "    isZero = False\n",
    "    print(x, \"is not zero\")\n",
    "print('isZero is ', isZero)"
   ]
  },
  {
   "cell_type": "markdown",
   "metadata": {},
   "source": [
    "### [Python Uses Whitespace to Delimit Scope, see PLYMI link](https://www.pythonlikeyoumeanit.com/Module2_EssentialsOfPython/Introduction.html?highlight=whitespace#Python-Uses-Whitespace-to-Delimit-Scope)\n",
    "* You have seen this in function definitions, For loops and If-Else statements.\n",
    "* Python’s syntax is quite flexible in terms of what it defines as a whitespace delimiter. Its rules are that:\n",
    "    * One or more whitespace characters (spaces or tabs) is sufficient to serve as indentation.\n",
    "    * A given indented block must use a uniform level of indentation. E.g. if the first line of an indented block has two leading spaces, all subsequent lines in that block must lead with exactly two white spaces.\n",
    "    * Convention is to use 4 spaces as the indentation. Try to stick with this. This is what Jupyter notebooks use by default."
   ]
  },
  {
   "cell_type": "markdown",
   "metadata": {},
   "source": [
    "### For loops and If statements can be combined\n",
    "* See example below\n",
    "    * an If statement inside a For loop\n",
    "    * a For statement inside an Else block\n"
   ]
  },
  {
   "cell_type": "code",
   "execution_count": 4,
   "metadata": {
    "tags": []
   },
   "outputs": [
    {
     "name": "stdout",
     "output_type": "stream",
     "text": [
      "0 is an even number\n",
      "1 is an odd number\n",
      "2 is an even number\n",
      "3 is an odd number\n",
      "4 is an even number\n",
      "5 is an odd number\n",
      "6 is an even number\n",
      "7 is an odd number\n",
      "8 is an even number\n",
      "9 is an odd number\n"
     ]
    }
   ],
   "source": [
    "for x in range(0, 10):\n",
    "    if x % 2 == 0:\n",
    "        print(x, 'is an even number')\n",
    "    else:\n",
    "        print(x, 'is an odd number')"
   ]
  },
  {
   "cell_type": "code",
   "execution_count": 5,
   "metadata": {
    "tags": []
   },
   "outputs": [
    {
     "name": "stdout",
     "output_type": "stream",
     "text": [
      "[2, 6, 10]\n"
     ]
    }
   ],
   "source": [
    "myList = [1, 3, 5]\n",
    "\n",
    "if myList == []:\n",
    "    newList = []\n",
    "else:\n",
    "    newList = []\n",
    "    for i in myList:\n",
    "        newList.append(2*i)\n",
    "print(newList)"
   ]
  },
  {
   "cell_type": "markdown",
   "metadata": {},
   "source": [
    "#### Is a number prime function?\n",
    "\n",
    "* A for loop can be used to determine if a number is prime.\n",
    "* A number is prime, it is:\n",
    "     * greater than 1\n",
    "     * divisible only by the number 1 and the number itself\n"
   ]
  },
  {
   "cell_type": "code",
   "execution_count": 6,
   "metadata": {
    "tags": []
   },
   "outputs": [
    {
     "name": "stdout",
     "output_type": "stream",
     "text": [
      "-1 is NOT prime.\n",
      "2 is prime!\n",
      "30 is NOT prime.\n",
      "11 is prime!\n",
      "10230192809809102938 is NOT prime.\n"
     ]
    }
   ],
   "source": [
    "def isPrime( number ):\n",
    "    ''' Return True if number is prime and False otherwise\n",
    "    \n",
    "    A integer is considered prime if it is both greater than one \n",
    "    and divisible only by the integers one and the number itself.\n",
    "    Otherwise it is False.\n",
    "    \n",
    "    For example, isPrime(-1) return False, isPrime(2) returns True,\n",
    "    isPrime(30) returns False\n",
    "    '''\n",
    "    if number <= 1:\n",
    "        return False\n",
    "    for index in range(2, number):\n",
    "        if number % index == 0:\n",
    "            return False\n",
    "    return True\n",
    "\n",
    "# Test the isPrime function\n",
    "for number in [-1, 2, 30, 11, 10230192809809102938]:\n",
    "    if isPrime(number):\n",
    "        print(number, 'is prime!')\n",
    "    else:\n",
    "        print(number, 'is NOT prime.')\n",
    "        \n",
    "#print(isPrime(24))"
   ]
  },
  {
   "cell_type": "markdown",
   "metadata": {},
   "source": [
    "### Determine which numbers are even\n",
    "* Given a list of numbers, create another list that are those numbers which are even.\n",
    "\n"
   ]
  },
  {
   "cell_type": "code",
   "execution_count": 7,
   "metadata": {
    "tags": []
   },
   "outputs": [
    {
     "name": "stdout",
     "output_type": "stream",
     "text": [
      "The even numbers are [108, 406]\n"
     ]
    }
   ],
   "source": [
    "def isEven( number ):\n",
    "    ''' Given a number, return True if the number is even and False otherwise.\n",
    "    \n",
    "    A number is considered even if it is divides evenly by two.\n",
    "    \n",
    "    isEven(35) returns False, isEven(34) returns True, isEven(34.2) returns False    \n",
    "    '''\n",
    "    return number%2 == 0\n",
    "\n",
    "    # In Python, the percent symbol is the modulo opreator so maybe return (number percent 2 == 0)\"\" \n",
    "\n",
    "even_numbers = []\n",
    "\n",
    "for number in [ 271, 37, 108, 127, 47, 406, 39, 42.2 ]:\n",
    "    if isEven(number):\n",
    "        even_numbers.append(number)\n",
    "        # Append only the even numbers to variable even_numbers   \n",
    "        \n",
    "print('The even numbers are', even_numbers)"
   ]
  },
  {
   "cell_type": "markdown",
   "metadata": {},
   "source": [
    "### Find all prime numbers upto a given number max_number\n",
    "\n",
    "* An example of nested loops.\n",
    "* In the outer loop iterate over each number up to max_number\n",
    "   * Assume the number is prime\n",
    "   * Loop for each possible divisor of number\n",
    "      * if it's divisible, it's not prime\n",
    "   * If the number is prime\n",
    "      * append the number to the primes list\n",
    " "
   ]
  },
  {
   "cell_type": "code",
   "execution_count": 8,
   "metadata": {
    "tags": []
   },
   "outputs": [
    {
     "name": "stdout",
     "output_type": "stream",
     "text": [
      "The prime numbers up to 100 are [2, 3, 5, 7, 11, 13, 17, 19, 23, 29, 31, 37, 41, 43, 47, 53, 59, 61, 67, 71, 73, 79, 83, 89, 97]\n"
     ]
    }
   ],
   "source": [
    "def listOfPrimes( max_number ):\n",
    "    '''\n",
    "    Return all the number that are prime up to the max_number.\n",
    "    \n",
    "    For example, listOfPrimes(10) returns [2, 3, 5, 7 ]\n",
    "    '''\n",
    "    list_of_primes = []\n",
    "    for number in range(2, max_number):\n",
    "        is_prime = True\n",
    "        for index in range(2, number):\n",
    "            if number % index == 0:\n",
    "                is_prime = False\n",
    "        if is_prime:\n",
    "            list_of_primes.append( number )\n",
    "    #Solution\n",
    "    return list_of_primes\n",
    "    #End\n",
    "    \n",
    "#print('The prime numbers up to 10 are', listOfPrimes(10))\n",
    "print('The prime numbers up to 100 are', listOfPrimes(100))"
   ]
  },
  {
   "cell_type": "markdown",
   "metadata": {},
   "source": [
    "## fizzbuzz\n",
    "\n",
    "[Fizzbuzz](http://wiki.c2.com/?FizzBuzzTest) is a entry level programming interiew test.\n",
    "It's a simple logical process that seems to, for some reason, weed out a lot of entry-level programmers.\n",
    "\n",
    "We will print the numbers 1 through 20. If the number is a multiple of 3, instead of the number we will print \"fizz\". If the number is a multiple of 5, we'll print \"buzz\". If it is a multiple of both, we'll print \"fizzbuzz\".\n",
    "\n",
    "In true problem decomposition, we'll do this program in steps\n",
    " 1. Is the number a multiple of 3, print fizz\n",
    " 1. Is the number a multiple of 5, print buzz\n",
    " 1. Is the number a multiple of both, print fizzbuzz."
   ]
  },
  {
   "cell_type": "markdown",
   "metadata": {},
   "source": [
    "### 1. Print fizz when for numbers divisible by 3"
   ]
  },
  {
   "cell_type": "code",
   "execution_count": 9,
   "metadata": {
    "tags": []
   },
   "outputs": [
    {
     "name": "stdout",
     "output_type": "stream",
     "text": [
      "3 fizz\n",
      "6 fizz\n",
      "9 fizz\n",
      "12 fizz\n",
      "15 fizz\n",
      "18 fizz\n"
     ]
    }
   ],
   "source": [
    "for i in range(1, 21):\n",
    "    if i % 3 == 0:\n",
    "        print(i,\"fizz\")"
   ]
  },
  {
   "cell_type": "markdown",
   "metadata": {},
   "source": [
    "### 2. If the number is not divisible by 3, print out the number"
   ]
  },
  {
   "cell_type": "code",
   "execution_count": 10,
   "metadata": {
    "tags": []
   },
   "outputs": [
    {
     "name": "stdout",
     "output_type": "stream",
     "text": [
      "1\n",
      "2\n",
      "fizz\n",
      "4\n",
      "5\n",
      "fizz\n",
      "7\n",
      "8\n",
      "fizz\n",
      "10\n",
      "11\n",
      "fizz\n",
      "13\n",
      "14\n",
      "fizz\n",
      "16\n",
      "17\n",
      "fizz\n",
      "19\n",
      "20\n"
     ]
    }
   ],
   "source": [
    "for i in range(1, 21):\n",
    "    if i % 3 == 0:\n",
    "        print(\"fizz\")\n",
    "    else:\n",
    "        print(i)"
   ]
  },
  {
   "cell_type": "markdown",
   "metadata": {},
   "source": [
    "### 3. If the number is divisible by 5 print out buzz"
   ]
  },
  {
   "cell_type": "code",
   "execution_count": 11,
   "metadata": {
    "tags": []
   },
   "outputs": [
    {
     "name": "stdout",
     "output_type": "stream",
     "text": [
      "1\n",
      "2\n",
      "fizz\n",
      "4\n",
      "buzz\n",
      "fizz\n",
      "7\n",
      "8\n",
      "fizz\n",
      "buzz\n",
      "11\n",
      "fizz\n",
      "13\n",
      "14\n",
      "fizzbuzz\n",
      "16\n",
      "17\n",
      "fizz\n",
      "19\n",
      "buzz\n",
      "fizz\n"
     ]
    }
   ],
   "source": [
    "for i in range(1, 22):\n",
    "    if (i % 3 == 0) and (i % 5 == 0):\n",
    "        print(\"fizzbuzz\")\n",
    "    elif i % 3 == 0:\n",
    "            print(\"fizz\")\n",
    "    elif i % 5 == 0:\n",
    "            print(\"buzz\")\n",
    "    else:\n",
    "        print(i)"
   ]
  },
  {
   "cell_type": "code",
   "execution_count": null,
   "metadata": {},
   "outputs": [],
   "source": []
  }
 ],
 "metadata": {
  "celltoolbar": "Edit Metadata",
  "kernelspec": {
   "display_name": "Python 3",
   "language": "python",
   "name": "python3"
  },
  "language_info": {
   "codemirror_mode": {
    "name": "ipython",
    "version": 3
   },
   "file_extension": ".py",
   "mimetype": "text/x-python",
   "name": "python",
   "nbconvert_exporter": "python",
   "pygments_lexer": "ipython3",
   "version": "3.12.5"
  }
 },
 "nbformat": 4,
 "nbformat_minor": 4
}
