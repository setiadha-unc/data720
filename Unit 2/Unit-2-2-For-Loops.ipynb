{
 "cells": [
  {
   "cell_type": "markdown",
   "metadata": {},
   "source": [
    "##### <img src=\"../SDSS-Logo.png\" style=\"display:inline; width:500px\" />\n",
    "\n",
    "\n",
    "## Learning Objectives\n",
    "\n",
    "1. Understand `for` loops\n",
    "1. Follow the execution of a given `for` loop and understand how the loop variables are changing\n",
    "1. Write your own `for` loops as part of your code development\n",
    "\n"
   ]
  },
  {
   "cell_type": "markdown",
   "metadata": {},
   "source": [
    "## Control Flow\n",
    "* So far, all the code that we have written is sequential i.e. each line of code is executed one after the other in the same order as in the program. However, the true power of computers is in being able to change the order of execution (using conditionals) or execute a group of statements repeatedly (using loops).\n",
    "* Quoting from the book by [Jake VanderPlas, \"A whirlwind tour of python\",](https://jakevdp.github.io/WhirlwindTourOfPython/07-control-flow-statements.html)\n",
    "<img src=\"Unit-2-2-vanderplas-whirlwind-python.gif\" width=\"200\" style=\"float: right\" />\n",
    "\n",
    "> Control flow is where the rubber really meets the road in programming. Without it, a program is simply a list of statements that are sequentially executed. With control flow, you can execute certain code blocks conditionally and/or repeatedly: these basic building blocks can be combined to create surprisingly sophisticated programs!\n",
    "\n",
    "* Looping in python:\n",
    "    * For loops\n",
    "    * While loops\n",
    "* Conditional statements in python\n",
    "    * if-elif-else\n",
    "\n"
   ]
  },
  {
   "cell_type": "markdown",
   "metadata": {},
   "source": [
    "### For loops\n",
    "* `for` loops are an important way of controlling the flow of execution of a program.\n",
    "* In many computations, you want to perform a set of operations on a number of items or a given number of times.\n",
    "* For example:\n",
    "    * Find the squares of a list of numbers\n",
    "    * Compute the factorial of `n` by multiplying the first `n` integers\n",
    "    * Read line-by-line from a file until you finish reading all lines in the file.\n",
    "* A For loop is the control structure that is used to accomplish this.\n",
    "    * Iterate over a sequence like a list, array, string, lines in a file etc.\n",
    "    * Think of the for loop as repeating the same process for each member of a list, array, string, etc\n",
    "* The general syntax for a For loop is:\n",
    "    ```python\n",
    "    for <var> in <iterable>:\n",
    "        block of code # Note the identation. It is necessary.\n",
    "    ```\n",
    "* `<var>` is the `iteration variable` that is updated every time through the loop.\n",
    "* `<iterable>` is a python object called an `iterable`. Anything that has a sequence is an iterable.\n",
    "* The indentation marks the block of code to be executed as part of the For loop.\n"
   ]
  },
  {
   "cell_type": "markdown",
   "metadata": {},
   "source": [
    "## Example for loops\n",
    "### `range(0,10)` is the iterable\n",
    "### `x` is the iteration variable"
   ]
  },
  {
   "cell_type": "code",
   "execution_count": 1,
   "metadata": {
    "tags": []
   },
   "outputs": [
    {
     "name": "stdout",
     "output_type": "stream",
     "text": [
      "0\n",
      "1\n",
      "2\n",
      "3\n",
      "4\n",
      "5\n",
      "6\n",
      "7\n",
      "8\n",
      "9\n"
     ]
    }
   ],
   "source": [
    "# Print the first 10 intgers starting at 0.\n",
    "for x in range(0, 10):\n",
    "    print(x)"
   ]
  },
  {
   "cell_type": "markdown",
   "metadata": {},
   "source": [
    "### In the example below, `i` is the iteration variable, and `a string` is the iterable"
   ]
  },
  {
   "cell_type": "code",
   "execution_count": 2,
   "metadata": {
    "tags": []
   },
   "outputs": [
    {
     "name": "stdout",
     "output_type": "stream",
     "text": [
      "a\n",
      " \n",
      "s\n",
      "t\n",
      "r\n",
      "i\n",
      "n\n",
      "g\n"
     ]
    }
   ],
   "source": [
    "# Print the characters in `a string`, one per line\n",
    "for i in 'a string':\n",
    "    print(i)"
   ]
  },
  {
   "cell_type": "markdown",
   "metadata": {},
   "source": [
    "### Consider the `for` loop below.  What are the values of `j`  and `i` at the end of the loop?\n",
    "\n",
    "* Print the value of `j` at the end of the loop.\n",
    "* Print the value of `i` at the end of the loop.\n",
    "\n",
    "* If you're confused, print the value of `j` and `i` within the loop.\n",
    "  * If you add statements to the loop they must be at the same indentation as the `j = j+i` statement.\n"
   ]
  },
  {
   "cell_type": "code",
   "execution_count": 3,
   "metadata": {
    "tags": []
   },
   "outputs": [
    {
     "name": "stdout",
     "output_type": "stream",
     "text": [
      "11\n",
      "7\n"
     ]
    }
   ],
   "source": [
    "j = 0\n",
    "for i in [1, 3, 7]:\n",
    "    j = j+i\n",
    "\n",
    "\n",
    "print(j)\n",
    "print(i)\n"
   ]
  },
  {
   "cell_type": "markdown",
   "metadata": {},
   "source": [
    "### Loop invariant\n",
    "* A loop invariant is a logical assertion about a program loop that is true before (and after) each iteration.\n",
    "* Loop invariants are useful in proving correctness of loops.\n",
    "* They can also be useful in coding complicated loops.\n",
    "* But it is still useful for you to hear about it.\n",
    "* For the above `for` loop, the loop assertion is that `j` is the sum of the first `n` numbers in the list, where `n` is the iteration count through the loop.\n"
   ]
  },
  {
   "cell_type": "markdown",
   "metadata": {},
   "source": [
    "### General ideas about `for` loop creation:\n",
    " 1. You will typically set some things up at the beginning of the loop.\n",
    " 1. You will loop a finite number of times.\n",
    " 1. You will compute something that you will use later."
   ]
  },
  {
   "cell_type": "markdown",
   "metadata": {},
   "source": [
    "### `for` loop to compute factorial"
   ]
  },
  {
   "cell_type": "code",
   "execution_count": 4,
   "metadata": {
    "tags": []
   },
   "outputs": [
    {
     "name": "stdout",
     "output_type": "stream",
     "text": [
      "range(0, 7)\n",
      "The factorial of  7 is  5040\n"
     ]
    }
   ],
   "source": [
    "# set up the value of n\n",
    "n = 7\n",
    "\n",
    "# initialize the factorial value\n",
    "fact = 1\n",
    "# Loop n times to compute n!\n",
    "print(range(n))\n",
    "for i in range(n):\n",
    "    fact = fact*(i+1)\n",
    "# Print n!\n",
    "print('The factorial of ', n, 'is ', fact)"
   ]
  },
  {
   "cell_type": "markdown",
   "metadata": {},
   "source": [
    "### The loop invariant for the factorial `for` loop is: `fact` is equal to factorial of iteration variable `i`"
   ]
  },
  {
   "cell_type": "markdown",
   "metadata": {},
   "source": [
    "### Nested `for` loops\n",
    "\n",
    "* A `for` loop can have another `for` loop inside.\n",
    "* Such loops are called nested `for` loops.\n",
    "\n",
    "* Consider the code below:\n",
    "    * The outer loop iterates for 0, 1.\n",
    "    * The inner loop iterates for 1, 2, 3.\n",
    "    * Loops have access to variables outside the loop.\n",
    "    * In this example, the inner loop can access the variable j.\n",
    "\n",
    "* Print statements can help you to know what the code does."
   ]
  },
  {
   "cell_type": "code",
   "execution_count": 5,
   "metadata": {
    "tags": []
   },
   "outputs": [
    {
     "name": "stdout",
     "output_type": "stream",
     "text": [
      "0 1 1\n",
      "0 2 3\n",
      "0 3 6\n",
      "the inner loop ended\n",
      "1 1 7\n",
      "1 2 9\n",
      "1 3 12\n",
      "the inner loop ended\n",
      "the outer loop ended\n",
      "The total is 12\n"
     ]
    }
   ],
   "source": [
    "total = 0\n",
    "for notused in [0, 1]:\n",
    "    for i in [1, 2, 3]:\n",
    "        total = total + i\n",
    "        print(notused, i, total)\n",
    "    print('the inner loop ended')\n",
    "print('the outer loop ended')\n",
    "print('The total is', total)"
   ]
  },
  {
   "cell_type": "markdown",
   "metadata": {},
   "source": [
    "## Let's read a file\n",
    "\n",
    "Generally you read a file by using the Python built-in function open.\n",
    "open takes a filename and, optionally, how to operate on the file.\n",
    "The default operation on a file is read or option `r`."
   ]
  },
  {
   "cell_type": "code",
   "execution_count": 6,
   "metadata": {
    "tags": []
   },
   "outputs": [
    {
     "name": "stdout",
     "output_type": "stream",
     "text": [
      "Roses are red\n",
      "\n",
      "violets are blue\n",
      "\n",
      "I'm a programmer\n",
      "\n",
      "and so are you.\n"
     ]
    }
   ],
   "source": [
    "for line in open('Unit-2-2.poem.txt', 'r'):\n",
    "    print(line)"
   ]
  },
  {
   "cell_type": "markdown",
   "metadata": {},
   "source": [
    "## Let's read every word of a file\n",
    "\n",
    "Let's make the previous loop the outer loop and print each word of the file on a separate line.\n",
    "(There are more efficient ways to do this, this is just an example.)"
   ]
  },
  {
   "cell_type": "code",
   "execution_count": 7,
   "metadata": {
    "tags": []
   },
   "outputs": [
    {
     "name": "stdout",
     "output_type": "stream",
     "text": [
      "The 1 -th word is Roses\n",
      "The 2 -th word is are\n",
      "The 3 -th word is red\n",
      "The 4 -th word is violets\n",
      "The 5 -th word is are\n",
      "The 6 -th word is blue\n",
      "The 7 -th word is I'm\n",
      "The 8 -th word is a\n",
      "The 9 -th word is programmer\n",
      "The 10 -th word is and\n",
      "The 11 -th word is so\n",
      "The 12 -th word is are\n",
      "The 13 -th word is you.\n"
     ]
    }
   ],
   "source": [
    "j=1\n",
    "for line in open('Unit-2-2.poem.txt'):\n",
    "    for word in line.split():\n",
    "        print('The', j, '-th word is', word)\n",
    "        j = j + 1"
   ]
  },
  {
   "cell_type": "markdown",
   "metadata": {},
   "source": [
    "### Let's unwrap the outter for loop\n",
    "\n",
    "<font color='red'> Work through each statement</font>"
   ]
  },
  {
   "cell_type": "code",
   "execution_count": 8,
   "metadata": {
    "tags": []
   },
   "outputs": [
    {
     "data": {
      "text/plain": [
       "<_io.TextIOWrapper name='Unit-2-2.poem.txt' mode='r' encoding='cp1252'>"
      ]
     },
     "execution_count": 8,
     "metadata": {},
     "output_type": "execute_result"
    }
   ],
   "source": [
    "apoem = open('Unit-2-2.poem.txt')\n",
    "\n",
    "apoem\n"
   ]
  },
  {
   "cell_type": "code",
   "execution_count": 9,
   "metadata": {
    "tags": []
   },
   "outputs": [
    {
     "data": {
      "text/plain": [
       "'Roses are red\\n'"
      ]
     },
     "execution_count": 9,
     "metadata": {},
     "output_type": "execute_result"
    }
   ],
   "source": [
    "# What's the first line?\n",
    "apoem.readline()\n"
   ]
  },
  {
   "cell_type": "code",
   "execution_count": 10,
   "metadata": {
    "tags": []
   },
   "outputs": [
    {
     "data": {
      "text/plain": [
       "'violets are blue\\n'"
      ]
     },
     "execution_count": 10,
     "metadata": {},
     "output_type": "execute_result"
    }
   ],
   "source": [
    "# What's the second line?\n",
    "apoem.readline()\n"
   ]
  },
  {
   "cell_type": "markdown",
   "metadata": {},
   "source": [
    "### Just print the first two lines of the poem"
   ]
  },
  {
   "cell_type": "code",
   "execution_count": 11,
   "metadata": {
    "tags": []
   },
   "outputs": [
    {
     "name": "stdout",
     "output_type": "stream",
     "text": [
      "Roses are red\n",
      "\n",
      "violets are blue\n",
      "\n"
     ]
    }
   ],
   "source": [
    "apoem = open('Unit-2-2.poem.txt')\n",
    "for i in range(2):\n",
    "    print(apoem.readline())"
   ]
  },
  {
   "cell_type": "markdown",
   "metadata": {},
   "source": [
    "## break and continue statement\n",
    "\n",
    "There are two statements that can be used in a for loop to interrupt the flow of the code\n",
    "\n",
    "The `continue` statement terminates this iteration of the loop and the next statement that gets executed is the top of the loop.\n",
    "\n",
    "The `break` statement terminates the loop and the next statement that gets executed is the one immediately following the loop body.\n",
    "With nested `for` loops, the `break` statement terminates only the loop in which it occurs.\n",
    "\n"
   ]
  },
  {
   "cell_type": "markdown",
   "metadata": {},
   "source": [
    "### break statement example\n",
    "\n",
    "\n",
    "Let's assume, for testing purposes, you wanted to just do one iteration of the loop.\n",
    "For example, you may want to check if the loop body just works correctly for the first row of data.\n"
   ]
  },
  {
   "cell_type": "code",
   "execution_count": 12,
   "metadata": {
    "tags": []
   },
   "outputs": [
    {
     "name": "stdout",
     "output_type": "stream",
     "text": [
      "Line 1 has 3 words: Roses are red\n",
      "\n"
     ]
    }
   ],
   "source": [
    "# count up the number of words in each line of a file\n",
    "\n",
    "# Output appears correct, but is it?\n",
    "j = 1\n",
    "for line in open('Unit-2-2.poem.txt'): \n",
    "    words = len(line.split())\n",
    "    print('Line', j, 'has', words, 'words:', line)\n",
    "    break"
   ]
  },
  {
   "cell_type": "markdown",
   "metadata": {},
   "source": [
    "### continue statement\n",
    "\n",
    "Let's assume your code works for all cases but line 2"
   ]
  },
  {
   "cell_type": "code",
   "execution_count": 11,
   "metadata": {
    "tags": []
   },
   "outputs": [
    {
     "name": "stdout",
     "output_type": "stream",
     "text": [
      "Line 0 is Roses are red\n",
      "\n",
      "I do some computing here for line 0\n",
      "Line 1 is violets are blue\n",
      "\n",
      "I do some computing here for line 1\n",
      "Line 2 is I'm a programmer\n",
      "\n",
      "This is the problem line\n",
      "Line 2 has 3 words: I'm a programmer\n",
      "\n",
      "Line 3 is and so are you.\n",
      "I do some computing here for line 3\n"
     ]
    }
   ],
   "source": [
    "j = 0\n",
    "for line in open('Unit-2-2.poem.txt'):\n",
    "    print('Line', j, 'is', line)\n",
    "    if j != 2:\n",
    "        print(\"I do some computing here for line\", j)\n",
    "        j += 1\n",
    "        continue\n",
    "    words = len(line.split())\n",
    "    print(\"This is the problem line\")\n",
    "    print('Line', j, 'has', words, 'words:', line)\n",
    "    j += 1\n",
    "    "
   ]
  },
  {
   "cell_type": "markdown",
   "metadata": {},
   "source": [
    "## Factorial\n",
    "\n",
    "* The [factorial](https://en.wikipedia.org/wiki/Factorial) of a non-negative number is that number multiple by all of the positive numbers that proceed it.  \n",
    "\n",
    "* Let's write `fact`, a function that will return the factorial of any non-negative number and returns 0 otherwise."
   ]
  },
  {
   "cell_type": "code",
   "execution_count": 13,
   "metadata": {
    "tags": []
   },
   "outputs": [
    {
     "name": "stdout",
     "output_type": "stream",
     "text": [
      "The factorial of 5 is 120\n",
      "The factorial of -1 is 0\n",
      "The factorial of 0 is 0\n",
      "The factorial of 1.5 is 1\n",
      "The factorial of 2 is 2\n",
      "The factorial of 1.4142135623730951 is 1\n",
      "The factorial of 3 is 6\n",
      "The factorial of 4 is 24\n",
      "The factorial of 5 is 120\n"
     ]
    }
   ],
   "source": [
    "def fact(number):\n",
    "    ''' If number is a positive integer, return the factorial of number.\n",
    "        If number is a zero or negative integer, return 0'''\n",
    "   \n",
    "    # Just to be safe, ensure number is an integer\n",
    "    number = int(number)\n",
    "    \n",
    "    # If number < 1, the docstring says to return 0\n",
    "    if number <= 0:\n",
    "        return 0\n",
    "    \n",
    "    # Compute the factorial by taking the product of all the numbers\n",
    "    # upto and including `number`\n",
    "    return_value = 1\n",
    "    for indx in range(1, number+1):\n",
    "        return_value = return_value * indx\n",
    "    return return_value    \n",
    "\n",
    "print('The factorial of 5 is', fact(5))\n",
    "\n",
    "# Let's try it out with some different numbers\n",
    "for num in  [-1, 0, 1.5, 2, 2**0.5, 3,4,5]:\n",
    "    print('The factorial of', num, 'is', fact(num))"
   ]
  },
  {
   "cell_type": "markdown",
   "metadata": {},
   "source": [
    "## Rameses push ups\n",
    "\n",
    "<img src='https://media.gettyimages.com/photos/mascot-rameses-does-pushups-after-a-unc-touchdown-during-the-north-picture-id885077926' width='300' style='float: right'/>\n",
    "<img src='Unit-2-2-UNC-Virginia-Football-2021.png' width = '600' style='float:top'/>\n",
    "\n",
    "After each UNC touchdown, UNC mascot Rameses does push ups equal to UNC's points at that time.\n",
    "Assuming the UNC's score is a multiple of only touch downs,\n",
    "how many push ups does Rameses do *in total* for a given score?\n",
    "\n",
    "In football, a touchdown with a point after is worth 7 points.\n",
    "A field goal is 3 points etc.\n",
    "For this discussion, assume that Rameses does pushups for touch downs only.\n",
    "\n",
    "In the cell below, develop the function `pushups` that counts the total number of push ups that Rameses for a given UNC points. The code should:\n",
    "\n",
    " 1. Keep track of how many push ups were done and how many touch downs were scored\n",
    " 1. For each touch down, add seven to the number of push ups\n",
    " 1. Return the total number of push ups"
   ]
  },
  {
   "cell_type": "code",
   "execution_count": 13,
   "metadata": {
    "tags": []
   },
   "outputs": [
    {
     "name": "stdout",
     "output_type": "stream",
     "text": [
      "If UNC scored 59 points then Rameses does 252 push ups.\n"
     ]
    }
   ],
   "source": [
    "def pushups(score):\n",
    "    ''' Determine the number of push ups Rameses does at the end of the game.\n",
    "    \n",
    "    After each touchdown, Rameses has to do as many push ups as UNC's score.\n",
    "    \n",
    "    When UNC scores a touchdown Rameses does seven push ups.  When they score\n",
    "    a second touchdown he does fourteen more for a total of 21.\n",
    "    '''\n",
    "    # Problem decomposition\n",
    "    total_push_ups = 0\n",
    "    # 1. Determine how many touchdowns were scored\n",
    "    #Solution\n",
    "    num_touch_downs = score // 7\n",
    "    #End\n",
    "    \n",
    "    # 2. Sum up the number of push ups after each touch down\n",
    "    #Solution\n",
    "    for td in range(1, num_touch_downs+1):\n",
    "        # We scored another touchdown! So Rameses has done `total_push_ups` so \n",
    "        # far and for this touchdown will do td*7 more.\n",
    "        total_push_ups += td * 7\n",
    "    #End\n",
    "    \n",
    "    return total_push_ups\n",
    "\n",
    "UNC_points = 59\n",
    "print('If UNC scored', UNC_points, 'points', 'then Rameses does', pushups(UNC_points), 'push ups.')"
   ]
  },
  {
   "cell_type": "code",
   "execution_count": null,
   "metadata": {},
   "outputs": [],
   "source": []
  }
 ],
 "metadata": {
  "celltoolbar": "Edit Metadata",
  "kernelspec": {
   "display_name": "Python 3",
   "language": "python",
   "name": "python3"
  },
  "language_info": {
   "codemirror_mode": {
    "name": "ipython",
    "version": 3
   },
   "file_extension": ".py",
   "mimetype": "text/x-python",
   "name": "python",
   "nbconvert_exporter": "python",
   "pygments_lexer": "ipython3",
   "version": "3.12.5"
  }
 },
 "nbformat": 4,
 "nbformat_minor": 4
}
