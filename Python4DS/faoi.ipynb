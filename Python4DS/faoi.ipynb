{
 "cells": [
  {
   "cell_type": "code",
   "execution_count": 8,
   "metadata": {},
   "outputs": [
    {
     "name": "stdout",
     "output_type": "stream",
     "text": [
      "tensor([[0.7688, 0.5160, 0.5546],\n",
      "        [0.8928, 0.1482, 0.6680],\n",
      "        [0.8364, 0.9951, 0.6291],\n",
      "        [0.4378, 0.2507, 0.0775],\n",
      "        [0.5475, 0.8774, 0.5709]])\n"
     ]
    }
   ],
   "source": [
    "import torch\n",
    "x = torch.rand(5, 3)\n",
    "print(x)"
   ]
  },
  {
   "cell_type": "code",
   "execution_count": 9,
   "metadata": {},
   "outputs": [],
   "source": [
    "import torch\n",
    "import torch.nn as nn\n",
    "import torch.optim as optim\n",
    "\n",
    "class SimpleNN(nn.Module):\n",
    "\tdef __init__(self) :\n",
    "\t\tsuper(SimpleNN, self).__init__()"
   ]
  },
  {
   "cell_type": "code",
   "execution_count": 10,
   "metadata": {},
   "outputs": [
    {
     "ename": "NameError",
     "evalue": "name 'self' is not defined",
     "output_type": "error",
     "traceback": [
      "\u001b[1;31m---------------------------------------------------------------------------\u001b[0m",
      "\u001b[1;31mNameError\u001b[0m                                 Traceback (most recent call last)",
      "Cell \u001b[1;32mIn[10], line 1\u001b[0m\n\u001b[1;32m----> 1\u001b[0m \u001b[38;5;28;43mself\u001b[39;49m\u001b[38;5;241m.\u001b[39mfc2 \u001b[38;5;241m=\u001b[39m nn\u001b[38;5;241m.\u001b[39mLinear(\u001b[38;5;241m250\u001b[39m, \u001b[38;5;241m150\u001b[39m)\n\u001b[0;32m      2\u001b[0m \u001b[38;5;66;03m# First hidden layer\u001b[39;00m\n\u001b[0;32m      4\u001b[0m \u001b[38;5;28mself\u001b[39m\u001b[38;5;241m.\u001b[39mrelu \u001b[38;5;241m=\u001b[39m nn\u001b[38;5;241m.\u001b[39m ReLU()\n",
      "\u001b[1;31mNameError\u001b[0m: name 'self' is not defined"
     ]
    }
   ],
   "source": [
    "self.fc2 = nn.Linear(250, 150)\n",
    "# First hidden layer\n",
    "\n",
    "self.relu = nn. ReLU()\n",
    "# Activation function"
   ]
  },
  {
   "cell_type": "code",
   "execution_count": null,
   "metadata": {},
   "outputs": [],
   "source": [
    "# OUTPUT LAYER\n",
    "self.fc3 = nn.Linear(150, 2)\n",
    "# Output layer with 2 neurons (for 2 classes)\n",
    "\n",
    "self.softmax = nn. Softmax(dim=1)\n",
    "\n",
    "#"
   ]
  },
  {
   "cell_type": "code",
   "execution_count": null,
   "metadata": {},
   "outputs": [],
   "source": [
    "def forward(self, x):\n",
    "\tx = self.relu(self.fc1(x))\t# Input -> Hidden layer 1\n",
    "\tx = self.relu(self.fc2(x))\t# Hidden layer 1 -> Hidden layer 2\n",
    "\tx = self.fc3(x)\t\t\t\t# Hidden layer 2 -> Output layer\n",
    "\tx = self.softmax(x)\t\t\t# Apply softmax activation\n",
    "\treturn x\n",
    "\n",
    "\n",
    "\n",
    "\n"
   ]
  }
 ],
 "metadata": {
  "kernelspec": {
   "display_name": "Python 3",
   "language": "python",
   "name": "python3"
  },
  "language_info": {
   "codemirror_mode": {
    "name": "ipython",
    "version": 3
   },
   "file_extension": ".py",
   "mimetype": "text/x-python",
   "name": "python",
   "nbconvert_exporter": "python",
   "pygments_lexer": "ipython3",
   "version": "3.12.5"
  }
 },
 "nbformat": 4,
 "nbformat_minor": 2
}
