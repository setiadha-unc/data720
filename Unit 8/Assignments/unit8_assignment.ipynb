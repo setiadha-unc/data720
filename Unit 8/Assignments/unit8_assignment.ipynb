{
 "cells": [
  {
   "cell_type": "markdown",
   "id": "4809e4f6-b15d-4514-b73f-dd02343ba66e",
   "metadata": {},
   "source": [
    "# Graded: 12 of 12 correct\n",
    "1. Node class\n",
    "- [x] coefficient\n",
    "- [x] exponent\n",
    "- [x] next pointer\n",
    "- [x] previous pointer\n",
    "2. Polynomial class\n",
    "- [x] head pointer\n",
    "- [x] tail pointer\n",
    "- [x] append function\n",
    "- [x] pop function\n",
    "- [x] popleft function\n",
    "- [x] display function\n",
    "3. Functions\n",
    "- [x] derivative function\n",
    "- [x] antiderivative function\n",
    "\n",
    "\n",
    "Comments: "
   ]
  },
  {
   "cell_type": "markdown",
   "id": "8d80d567",
   "metadata": {},
   "source": [
    "# Assignment 8: Building multidriectional linked lists"
   ]
  },
  {
   "cell_type": "markdown",
   "id": "4e4a70b6",
   "metadata": {},
   "source": [
    "## Define a node\n",
    "Create a class `Node` that contains:\n",
    "1. A `coefficient` value\n",
    "2. An `exponent` value\n",
    "3. A `next` pointer, pointing to the next node (`None` if at end)\n",
    "4. A `previous` pointer, pointing to the previous node (`None` if at start)"
   ]
  },
  {
   "cell_type": "code",
   "execution_count": 1,
   "id": "e1d425ce",
   "metadata": {},
   "outputs": [],
   "source": [
    "class Node:\n",
    "\tdef __init__(self, coef, exp):\n",
    "\t\tself.coef = coef\n",
    "\t\tself.exp = exp\n",
    "\t\tself.next = None\n",
    "\t\tself.prev = None"
   ]
  },
  {
   "cell_type": "markdown",
   "id": "c65de103",
   "metadata": {},
   "source": [
    "## Create a bidirectional linked list representation of a polynomial\n",
    "Create a class `Polynomial` with the following characteristics:\n",
    "1. A pointer `head` that points to the first node\n",
    "2. A pointer `tail` that points to the last node\n",
    "3. An `append` function for adding nodes to the list\n",
    "4. A `pop` function that removes and returns the last node, updating pointers as necessary\n",
    "5. A `popleft` function that removes and returns the first node, updating pointers as necessary\n",
    "6. A `display` function that displays the polynomial, for example `3x^2 + 2x + 4`"
   ]
  },
  {
   "cell_type": "code",
   "execution_count": 2,
   "id": "3150e3cd",
   "metadata": {},
   "outputs": [],
   "source": [
    "# Class Poly\n",
    "class Polynomial:\n",
    "    def __init__(self):\n",
    "        self.head = None\n",
    "        self.tail = None\n",
    "    \n",
    "    def append(self, coef=None, exp=0):\n",
    "        if not coef: # should have value, at least 1\n",
    "            return\n",
    "        new_code = Node(coef, exp)\n",
    "\n",
    "        # IN CASE THE LINK IS STILL EMPTY\n",
    "        if not self.head:\n",
    "            self.head = new_code\n",
    "            self.tail = new_code\n",
    "            # self.display()\n",
    "            return\n",
    "        \n",
    "        # IN CASE THE LINK IS NOT EMPTY\n",
    "        prev_node = self.tail\n",
    "        self.tail.next = new_code\n",
    "        self.tail = new_code\n",
    "        self.tail.prev = prev_node\n",
    "\n",
    "        # self.display()\n",
    "        \n",
    "    def pop(self):\n",
    "        del_node = None\n",
    "        if self.tail:\n",
    "            del_node = self.tail            \n",
    "            if self.tail.prev: # IF IT HAS PREV, MEANS THE LINK HAS MORE THAN 1 NODE\n",
    "                self.tail = self.tail.prev\n",
    "                self.tail.next = None\n",
    "            else: # IF IT HAS TAIL BUT HAVE NO PREV, MEANS THE TAIL AND THE HEAD IS THE SAME AKA, ONLY ONE NODE ON THE LIST\n",
    "                self.tail = None\n",
    "                self.head = None            \n",
    "        else: # IF IT DOESNT HAVE TAIL, MEANS THE LIST IS EMPTY\n",
    "            print(\"Empty link\")\n",
    "            return\n",
    "        \n",
    "        print(\"Deleted PopLeft node: \", self.display_node(del_node))\n",
    "        \n",
    "    def popleft(self):\n",
    "        # IF IT HAS NEXT, MEANS IT HAS MORE THAN ONE NODE\n",
    "        del_node = None\n",
    "        # if self.head.next:\n",
    "        #     del_node = self.head.next\n",
    "        #     self.head = self.head.next\n",
    "        #     self.head.prev = None\n",
    "        # else:\n",
    "        # IF IT'S TRUE, MEANS IT'S NOT EMPTY\n",
    "        if self.head:\n",
    "            del_node = self.head\n",
    "            if self.head.next: #IT HAS ANOTHER NODE\n",
    "                self.head = self.head.next\n",
    "                self.head.prev = None\n",
    "            else: # OTHERWISE IT'S ONLY ONE NODE ON THE LIST\n",
    "                self.head = None\n",
    "                self.tail = None\n",
    "            \n",
    "        else: # OTHERWISE IT'S EMPTY LIST\n",
    "            print(\"Empty link\")\n",
    "            return\n",
    "        print(\"Deleted PopLeft node: \", self.display_node(del_node))\n",
    "        \n",
    "    # TO DISPLAY THE LIST\n",
    "    def display(self):\n",
    "        current = self.head\n",
    "        to_print = \"\"\n",
    "        while current:\n",
    "            if to_print != \"\":\n",
    "                to_print += \" + \"\n",
    "            to_print += self.display_node(current)\n",
    "            current = current.next        \n",
    "        print(to_print)\n",
    "\n",
    "    # TO DISPLAY THE NODE INDIVIDUALLY\n",
    "    def display_node(self, value):\n",
    "        if(value.coef):\n",
    "            to_print = \"\"\n",
    "            if value.coef == \"C\":\n",
    "                to_print += \"C\"\n",
    "            elif value.coef > 1:\n",
    "                to_print += str(value.coef)\n",
    "            # to_print = str(value.coef)\n",
    "            if value.exp > 0:\n",
    "                to_print += \"x\"\n",
    "                if value.exp > 1:\n",
    "                    to_print += \"^\" +  str(value.exp)\n",
    "            return to_print\n",
    "        else:\n",
    "            return"
   ]
  },
  {
   "cell_type": "code",
   "execution_count": 3,
   "id": "064c2e49-3761-4c2a-8c94-828a2b210a22",
   "metadata": {},
   "outputs": [],
   "source": [
    "ll = Polynomial()"
   ]
  },
  {
   "cell_type": "code",
   "execution_count": 4,
   "id": "abbfbd49-7b89-464f-ba76-ad33151df688",
   "metadata": {},
   "outputs": [],
   "source": [
    "ll.append(6,4)"
   ]
  },
  {
   "cell_type": "code",
   "execution_count": 5,
   "id": "bff7de67",
   "metadata": {},
   "outputs": [],
   "source": [
    "ll.append(2,3)"
   ]
  },
  {
   "cell_type": "code",
   "execution_count": 6,
   "id": "1e410d54",
   "metadata": {},
   "outputs": [],
   "source": [
    "ll.append(4,2)"
   ]
  },
  {
   "cell_type": "code",
   "execution_count": 7,
   "id": "56d938df",
   "metadata": {},
   "outputs": [],
   "source": [
    "ll.append(11, 1)"
   ]
  },
  {
   "cell_type": "code",
   "execution_count": 8,
   "id": "58ac1c56",
   "metadata": {},
   "outputs": [],
   "source": [
    "ll.append(7)"
   ]
  },
  {
   "cell_type": "code",
   "execution_count": 9,
   "id": "3ddf358a",
   "metadata": {},
   "outputs": [],
   "source": [
    "ll.append()"
   ]
  },
  {
   "cell_type": "code",
   "execution_count": 10,
   "id": "fa440159",
   "metadata": {},
   "outputs": [
    {
     "name": "stdout",
     "output_type": "stream",
     "text": [
      "Deleted PopLeft node:  6x^4\n"
     ]
    }
   ],
   "source": [
    "ll.popleft()"
   ]
  },
  {
   "cell_type": "code",
   "execution_count": 11,
   "id": "088d7f13",
   "metadata": {},
   "outputs": [
    {
     "name": "stdout",
     "output_type": "stream",
     "text": [
      "Deleted PopLeft node:  7\n"
     ]
    }
   ],
   "source": [
    "ll.pop()"
   ]
  },
  {
   "cell_type": "code",
   "execution_count": 12,
   "id": "71b46456-a424-4fda-a0de-52dd474c260f",
   "metadata": {},
   "outputs": [
    {
     "name": "stdout",
     "output_type": "stream",
     "text": [
      "2x^3 + 4x^2 + 11x\n"
     ]
    }
   ],
   "source": [
    "ll.display()"
   ]
  },
  {
   "cell_type": "markdown",
   "id": "82246648",
   "metadata": {},
   "source": [
    "# Finding derivatives/antiderivatives\n",
    "To find the derivative of the polynomial function, for each term in the polynomial, the power of the variable is reduced by 1 and the coefficient is the existing coefficient multiplied by the prior exponent. In the case of a constant term, the value would become 0 and can be removed. For example:\n",
    "```\n",
    "f(x) = 3x^2 + 2x + 4\n",
    "f'(x) = 6x + 2\n",
    "```\n",
    "The antiderivative is simply the function (plus some constant) whose derivative is the original function. The formula for determining each term is to increase the exponent by 1 and divide the term by the new exponent. Finally, a constant C is added to the end.\n",
    "```\n",
    "f(x) = 6x + 2\n",
    "F(x) = 3x^2 + 2x + C\n",
    "```\n",
    "1. Create a function that takes a Polynomial and returns a new Polynomial for the derivative\n",
    "2. Create a function that takes a Polynomial and a constant `C` and returns a new Polynomial for the antiderivative"
   ]
  },
  {
   "cell_type": "code",
   "execution_count": null,
   "id": "99a858ec",
   "metadata": {},
   "outputs": [],
   "source": [
    "def derivatives(poly):\n",
    "\t\n",
    "\tnew_poly = Polynomial()\n",
    "\tcurrent = poly.head\n",
    "\twhile current:\t\t\n",
    "\t\tif(current.exp) > 0:\n",
    "\t\t\tnew_coef = current.exp * current.coef\n",
    "\t\t\tnew_exp = current.exp - 1\n",
    "\t\t\tnew_poly.append(new_coef, new_exp)\n",
    "\t\tcurrent = current.next\n",
    "\t\n",
    "\treturn new_poly\n",
    "\n",
    "def antiderivatives(poly):\n",
    "\tnew_poly = Polynomial()\n",
    "\tcurrent = poly.head\n",
    "\twhile current:\n",
    "\t\t# can improve this part when the coef / exp is not integer\n",
    "\t\tnew_exp = int(current.exp + 1)\n",
    "\t\tnew_coef = int(current.coef / new_exp)\n",
    "\t\tnew_poly.append(new_coef, new_exp)\n",
    "\t\tcurrent = current.next\n",
    "\t\n",
    "\tnew_poly.append(\"C\", 0)\n",
    "\treturn new_poly"
   ]
  },
  {
   "cell_type": "code",
   "execution_count": 14,
   "id": "36aacf7a",
   "metadata": {},
   "outputs": [],
   "source": [
    "new_ll = Polynomial()"
   ]
  },
  {
   "cell_type": "code",
   "execution_count": 15,
   "id": "199d3a87",
   "metadata": {},
   "outputs": [],
   "source": [
    "new_ll.append(3,2)\n",
    "new_ll.append(2,1)\n",
    "new_ll.append(4,0)"
   ]
  },
  {
   "cell_type": "code",
   "execution_count": 16,
   "id": "84c4bc5b",
   "metadata": {},
   "outputs": [
    {
     "name": "stdout",
     "output_type": "stream",
     "text": [
      "3x^2 + 2x + 4\n"
     ]
    }
   ],
   "source": [
    "new_ll.display()"
   ]
  },
  {
   "cell_type": "code",
   "execution_count": 17,
   "id": "669aec97",
   "metadata": {},
   "outputs": [],
   "source": [
    "deri_poly = derivatives(new_ll)"
   ]
  },
  {
   "cell_type": "code",
   "execution_count": 18,
   "id": "ce181b59",
   "metadata": {},
   "outputs": [
    {
     "name": "stdout",
     "output_type": "stream",
     "text": [
      "6x + 2\n",
      "None\n"
     ]
    }
   ],
   "source": [
    "print(deri_poly.display())"
   ]
  },
  {
   "cell_type": "code",
   "execution_count": 19,
   "id": "64b4a06d",
   "metadata": {},
   "outputs": [],
   "source": [
    "anti_poly = antiderivatives(new_ll)"
   ]
  },
  {
   "cell_type": "code",
   "execution_count": 20,
   "id": "6618276c",
   "metadata": {},
   "outputs": [
    {
     "name": "stdout",
     "output_type": "stream",
     "text": [
      "x^3 + x^2 + 4x + C\n",
      "None\n"
     ]
    }
   ],
   "source": [
    "print(anti_poly.display())"
   ]
  },
  {
   "cell_type": "code",
   "execution_count": 22,
   "id": "94a7b88c",
   "metadata": {},
   "outputs": [],
   "source": [
    "deri_anti = antiderivatives(deri_poly)"
   ]
  },
  {
   "cell_type": "code",
   "execution_count": 23,
   "id": "eb975821",
   "metadata": {},
   "outputs": [
    {
     "name": "stdout",
     "output_type": "stream",
     "text": [
      "3x^2 + 2x + C\n",
      "None\n"
     ]
    }
   ],
   "source": [
    "print(deri_anti.display())"
   ]
  }
 ],
 "metadata": {
  "kernelspec": {
   "display_name": "Python 3",
   "language": "python",
   "name": "python3"
  },
  "language_info": {
   "codemirror_mode": {
    "name": "ipython",
    "version": 3
   },
   "file_extension": ".py",
   "mimetype": "text/x-python",
   "name": "python",
   "nbconvert_exporter": "python",
   "pygments_lexer": "ipython3",
   "version": "3.12.5"
  }
 },
 "nbformat": 4,
 "nbformat_minor": 5
}
