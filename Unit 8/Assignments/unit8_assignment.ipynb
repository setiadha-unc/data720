{
 "cells": [
  {
   "cell_type": "markdown",
   "id": "4809e4f6-b15d-4514-b73f-dd02343ba66e",
   "metadata": {},
   "source": [
    "# Graded: 12 of 12 correct\n",
    "1. Node class\n",
    "- [x] coefficient\n",
    "- [x] exponent\n",
    "- [x] next pointer\n",
    "- [x] previous pointer\n",
    "2. Polynomial class\n",
    "- [x] head pointer\n",
    "- [x] tail pointer\n",
    "- [x] append function\n",
    "- [x] pop function\n",
    "- [x] popleft function\n",
    "- [x] display function\n",
    "3. Functions\n",
    "- [x] derivative function\n",
    "- [x] antiderivative function\n",
    "\n",
    "\n",
    "Comments: "
   ]
  },
  {
   "cell_type": "markdown",
   "id": "8d80d567",
   "metadata": {},
   "source": [
    "# Assignment 8: Building multidriectional linked lists"
   ]
  },
  {
   "cell_type": "markdown",
   "id": "4e4a70b6",
   "metadata": {},
   "source": [
    "## Define a node\n",
    "Create a class `Node` that contains:\n",
    "1. A `coefficient` value\n",
    "2. An `exponent` value\n",
    "3. A `next` pointer, pointing to the next node (`None` if at end)\n",
    "4. A `previous` pointer, pointing to the previous node (`None` if at start)"
   ]
  },
  {
   "cell_type": "code",
   "execution_count": 5,
   "id": "e1d425ce",
   "metadata": {},
   "outputs": [],
   "source": [
    "class Node:\n",
    "\tdef __init__(self, coef, exp):\n",
    "\t\tself.coef = coef\n",
    "\t\tself.exp = exp\n",
    "\t\tself.next = None\n",
    "\t\tself.prev = None"
   ]
  },
  {
   "cell_type": "markdown",
   "id": "c65de103",
   "metadata": {},
   "source": [
    "## Create a bidirectional linked list representation of a polynomial\n",
    "Create a class `Polynomial` with the following characteristics:\n",
    "1. A pointer `head` that points to the first node\n",
    "2. A pointer `tail` that points to the last node\n",
    "3. An `append` function for adding nodes to the list\n",
    "4. A `pop` function that removes and returns the last node, updating pointers as necessary\n",
    "5. A `popleft` function that removes and returns the first node, updating pointers as necessary\n",
    "6. A `display` function that displays the polynomial, for example `3x^2 + 2x + 4`"
   ]
  },
  {
   "cell_type": "code",
   "execution_count": null,
   "id": "0ffcdc1c",
   "metadata": {},
   "outputs": [
    {
     "ename": "TabError",
     "evalue": "inconsistent use of tabs and spaces in indentation (<string>, line 6)",
     "output_type": "error",
     "traceback": [
      "\u001b[1;36m  File \u001b[1;32m<string>:6\u001b[1;36m\u001b[0m\n\u001b[1;33m    def append(self, node):\u001b[0m\n\u001b[1;37m                           ^\u001b[0m\n\u001b[1;31mTabError\u001b[0m\u001b[1;31m:\u001b[0m inconsistent use of tabs and spaces in indentation\n"
     ]
    }
   ],
   "source": [
    "class Poly:\n",
    "    def __init__(self):\n",
    "        self.head = None\n",
    "        self.tail = None\n",
    "\t\n",
    "\tdef append(self, node):\n",
    "        pass"
   ]
  },
  {
   "cell_type": "markdown",
   "id": "82246648",
   "metadata": {},
   "source": [
    "# Finding derivatives/antiderivatives\n",
    "To find the derivative of the polynomial function, for each term in the polynomial, the power of the variable is reduced by 1 and the coefficient is the existing coefficient multiplied by the prior exponent. In the case of a constant term, the value would become 0 and can be removed. For example:\n",
    "```\n",
    "f(x) = 3x^2 + 2x + 4\n",
    "f'(x) = 6x + 2\n",
    "```\n",
    "The antiderivative is simply the function (plus some constant) whose derivative is the original function. The formula for determining each term is to increase the exponent by 1 and divide the term by the new exponent. Finally, a constant C is added to the end.\n",
    "```\n",
    "f(x) = 6x + 2\n",
    "F(x) = 3x^2 + 2x + C\n",
    "```\n",
    "1. Create a function that takes a Polynomial and returns a new Polynomial for the derivative\n",
    "2. Create a function that takes a Polynomial and a constant `C` and returns a new Polynomial for the antiderivative"
   ]
  },
  {
   "cell_type": "code",
   "execution_count": null,
   "id": "99a858ec",
   "metadata": {},
   "outputs": [],
   "source": []
  }
 ],
 "metadata": {
  "kernelspec": {
   "display_name": "Python 3",
   "language": "python",
   "name": "python3"
  },
  "language_info": {
   "codemirror_mode": {
    "name": "ipython",
    "version": 3
   },
   "file_extension": ".py",
   "mimetype": "text/x-python",
   "name": "python",
   "nbconvert_exporter": "python",
   "pygments_lexer": "ipython3",
   "version": "3.12.5"
  }
 },
 "nbformat": 4,
 "nbformat_minor": 5
}
