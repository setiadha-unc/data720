{
 "cells": [
  {
   "cell_type": "markdown",
   "id": "4809e4f6-b15d-4514-b73f-dd02343ba66e",
   "metadata": {},
   "source": [
    "# Graded: 12 of 12 correct\n",
    "1. Node class\n",
    "- [x] coefficient\n",
    "- [x] exponent\n",
    "- [x] next pointer\n",
    "- [x] previous pointer\n",
    "2. Polynomial class\n",
    "- [x] head pointer\n",
    "- [x] tail pointer\n",
    "- [x] append function\n",
    "- [x] pop function\n",
    "- [x] popleft function\n",
    "- [x] display function\n",
    "3. Functions\n",
    "- [x] derivative function\n",
    "- [x] antiderivative function\n",
    "\n",
    "\n",
    "Comments: "
   ]
  },
  {
   "cell_type": "markdown",
   "id": "8d80d567",
   "metadata": {},
   "source": [
    "# Assignment 8: Building multidriectional linked lists"
   ]
  },
  {
   "cell_type": "markdown",
   "id": "4e4a70b6",
   "metadata": {},
   "source": [
    "## Define a node\n",
    "Create a class `Node` that contains:\n",
    "1. A `coefficient` value\n",
    "2. An `exponent` value\n",
    "3. A `next` pointer, pointing to the next node (`None` if at end)\n",
    "4. A `previous` pointer, pointing to the previous node (`None` if at start)"
   ]
  },
  {
   "cell_type": "code",
   "execution_count": 1,
   "id": "e1d425ce",
   "metadata": {},
   "outputs": [],
   "source": [
    "class Node:\n",
    "\tdef __init__(self, coef, exp):\n",
    "\t\tself.coef = coef\n",
    "\t\tself.exp = exp\n",
    "\t\tself.next = None\n",
    "\t\tself.prev = None"
   ]
  },
  {
   "cell_type": "markdown",
   "id": "c65de103",
   "metadata": {},
   "source": [
    "## Create a bidirectional linked list representation of a polynomial\n",
    "Create a class `Polynomial` with the following characteristics:\n",
    "1. A pointer `head` that points to the first node\n",
    "2. A pointer `tail` that points to the last node\n",
    "3. An `append` function for adding nodes to the list\n",
    "4. A `pop` function that removes and returns the last node, updating pointers as necessary\n",
    "5. A `popleft` function that removes and returns the first node, updating pointers as necessary\n",
    "6. A `display` function that displays the polynomial, for example `3x^2 + 2x + 4`"
   ]
  },
  {
   "cell_type": "code",
   "execution_count": 43,
   "id": "3150e3cd",
   "metadata": {},
   "outputs": [],
   "source": [
    "# Class Poly\n",
    "class Polynomial:\n",
    "    def __init__(self, coef=None, exp=0):\n",
    "        self.head = None\n",
    "        self.tail = None\n",
    "        if coef:\n",
    "            self.append(coef, exp)\n",
    "            print(\"mausk 4\")\n",
    "    \n",
    "    def append(self, coef, exp=0):\n",
    "        if coef:\n",
    "            return\n",
    "        new_code = Node(coef, exp)\n",
    "\n",
    "        # IN CASE THE LINK IS STILL EMPTY\n",
    "        if not self.head:\n",
    "            print(\"mausk 1\")\n",
    "            self.head = new_code\n",
    "            self.tail = new_code\n",
    "            return\n",
    "        print(\"mausk 2\")\n",
    "        current = self.head\n",
    "        # IN CASE THE LINK IS NOT EMPTY\n",
    "        while current:            \n",
    "            current = current.next\n",
    "        current.next = new_code\n",
    "        print(\"mausk 3\")\n",
    "        \n",
    "    def pop(self):        \n",
    "        if self.tail:\n",
    "            current = self.tail\n",
    "            self.tail = None\n",
    "            while current:\n",
    "                pass\n",
    "        else:\n",
    "            return\n",
    "        \n",
    "    def popleft(self):\n",
    "        if self.head:\n",
    "            self.head = None\n",
    "        \n",
    "        if self.head.next:\n",
    "            while self.head.next:\n",
    "                self.head = self.head.next                \n",
    "        \n",
    "    def display(self):\n",
    "        current = self.head\n",
    "        print(\"mausk 5 \", current.coef, \"x^\" , current.exp)\n",
    "        while current:\n",
    "            print(current.coef)\n",
    "            if current.exp > 0:\n",
    "                print(\"x\")\n",
    "                if current.exp > 1:\n",
    "                    print(\"^\", current.exp)            \n",
    "            print(\" -> \")\n",
    "            current = current.next\n",
    "        \n",
    "        print(\"None\")\n",
    "\n",
    "    def derivatives(self):\n",
    "        pass\n",
    "\n",
    "    def antiderivatives(self):\n",
    "        pass"
   ]
  },
  {
   "cell_type": "code",
   "execution_count": 44,
   "id": "064c2e49-3761-4c2a-8c94-828a2b210a22",
   "metadata": {},
   "outputs": [],
   "source": [
    "ll = Polynomial()"
   ]
  },
  {
   "cell_type": "code",
   "execution_count": 45,
   "id": "abbfbd49-7b89-464f-ba76-ad33151df688",
   "metadata": {},
   "outputs": [],
   "source": [
    "ll.append(3,2)"
   ]
  },
  {
   "cell_type": "code",
   "execution_count": 46,
   "id": "71b46456-a424-4fda-a0de-52dd474c260f",
   "metadata": {},
   "outputs": [
    {
     "name": "stdout",
     "output_type": "stream",
     "text": [
      "mausk 5\n",
      "None\n"
     ]
    }
   ],
   "source": [
    "ll.display()"
   ]
  },
  {
   "cell_type": "markdown",
   "id": "82246648",
   "metadata": {},
   "source": [
    "# Finding derivatives/antiderivatives\n",
    "To find the derivative of the polynomial function, for each term in the polynomial, the power of the variable is reduced by 1 and the coefficient is the existing coefficient multiplied by the prior exponent. In the case of a constant term, the value would become 0 and can be removed. For example:\n",
    "```\n",
    "f(x) = 3x^2 + 2x + 4\n",
    "f'(x) = 6x + 2\n",
    "```\n",
    "The antiderivative is simply the function (plus some constant) whose derivative is the original function. The formula for determining each term is to increase the exponent by 1 and divide the term by the new exponent. Finally, a constant C is added to the end.\n",
    "```\n",
    "f(x) = 6x + 2\n",
    "F(x) = 3x^2 + 2x + C\n",
    "```\n",
    "1. Create a function that takes a Polynomial and returns a new Polynomial for the derivative\n",
    "2. Create a function that takes a Polynomial and a constant `C` and returns a new Polynomial for the antiderivative"
   ]
  },
  {
   "cell_type": "code",
   "execution_count": null,
   "id": "99a858ec",
   "metadata": {},
   "outputs": [],
   "source": []
  }
 ],
 "metadata": {
  "kernelspec": {
   "display_name": "Python 3 (ipykernel)",
   "language": "python",
   "name": "python3"
  },
  "language_info": {
   "codemirror_mode": {
    "name": "ipython",
    "version": 3
   },
   "file_extension": ".py",
   "mimetype": "text/x-python",
   "name": "python",
   "nbconvert_exporter": "python",
   "pygments_lexer": "ipython3",
   "version": "3.12.5"
  }
 },
 "nbformat": 4,
 "nbformat_minor": 5
}
