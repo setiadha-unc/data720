{
 "cells": [
  {
   "cell_type": "code",
   "execution_count": 1,
   "id": "67a9b8cf-f9b9-43f5-9eef-e682f978e870",
   "metadata": {},
   "outputs": [],
   "source": [
    "# Node class\n",
    "class Node:\n",
    "    def __init__(self, data):\n",
    "        self.data = data\n",
    "        self.next = None"
   ]
  },
  {
   "cell_type": "code",
   "execution_count": 2,
   "id": "dc9621b5-2157-4622-a11c-baee1f505470",
   "metadata": {},
   "outputs": [],
   "source": [
    "# Linked list class\n",
    "class LinkedList:\n",
    "    def __init__(self):\n",
    "        \"\"\" init \"\"\"\n",
    "        self.head = None\n",
    "\n",
    "    def append(self, data):\n",
    "        \"\"\" append a value \"\"\"\n",
    "        new_node = Node(data)\n",
    "        if not self.head:\n",
    "            self.head = new_node\n",
    "            return\n",
    "        current = self.head\n",
    "        while current.next:\n",
    "            current = current.next\n",
    "        current.next = new_node\n",
    "\n",
    "    def display(self):\n",
    "        \"\"\" display with arrows \"\"\"\n",
    "        current = self.head\n",
    "        while current:\n",
    "            print(current.data, end=' -> ')\n",
    "            current = current.next\n",
    "        print('None')\n",
    "\n",
    "    def search(self, data):\n",
    "        \"\"\" check if a value is in the list \"\"\"\n",
    "        current = self.head\n",
    "        while current:\n",
    "            if current.data == data:\n",
    "                return True\n",
    "            current = current.next\n",
    "        return False\n",
    "\n",
    "    def remove(self, data):\n",
    "        \"\"\" remove a node \"\"\"\n",
    "        if not self.head:\n",
    "            return\n",
    "\n",
    "        if self.head.data == data:\n",
    "            self.head = self.head.next\n",
    "            return\n",
    "\n",
    "        current = self.head\n",
    "        while current.next:\n",
    "            if current.next.data == data:\n",
    "                current.next = current.next.next\n",
    "                return\n",
    "            current = current.next\n",
    "\n",
    "    def length(self):\n",
    "        \"\"\" get the length \"\"\"\n",
    "        count = 0\n",
    "        current = self.head\n",
    "        while current:\n",
    "            count += 1\n",
    "            current = current.next\n",
    "        return count"
   ]
  },
  {
   "cell_type": "code",
   "execution_count": 3,
   "id": "3a502d65-4b71-4329-be6d-13cf7ebcdc81",
   "metadata": {},
   "outputs": [],
   "source": [
    "# Make a linked list\n",
    "linked_list = LinkedList()\n",
    "linked_list.append(10)\n",
    "linked_list.append(20)\n",
    "linked_list.append(30)"
   ]
  },
  {
   "cell_type": "code",
   "execution_count": 4,
   "id": "7cda8bb5-c933-43e8-a45b-f3661a31a7e8",
   "metadata": {},
   "outputs": [
    {
     "name": "stdout",
     "output_type": "stream",
     "text": [
      "10 -> 20 -> 30 -> None\n"
     ]
    }
   ],
   "source": [
    "# Display it\n",
    "linked_list.display()"
   ]
  },
  {
   "cell_type": "code",
   "execution_count": 5,
   "id": "3a165ebe-974e-4610-a9ec-dcdf384e2dfc",
   "metadata": {},
   "outputs": [
    {
     "name": "stdout",
     "output_type": "stream",
     "text": [
      "Length: 3\n"
     ]
    }
   ],
   "source": [
    "# Print the length\n",
    "print(\"Length:\", linked_list.length())"
   ]
  },
  {
   "cell_type": "code",
   "execution_count": 6,
   "id": "6fafa998-d69b-4940-8929-431bb3fb0a9a",
   "metadata": {},
   "outputs": [
    {
     "name": "stdout",
     "output_type": "stream",
     "text": [
      "Search 20: True\n",
      "Search 40: False\n"
     ]
    }
   ],
   "source": [
    "# Find if values are in the list\n",
    "print(\"Search 20:\", linked_list.search(20))\n",
    "print(\"Search 40:\", linked_list.search(40))"
   ]
  },
  {
   "cell_type": "code",
   "execution_count": 7,
   "id": "153da10f-77eb-441f-bba0-094366d4ef0d",
   "metadata": {},
   "outputs": [
    {
     "name": "stdout",
     "output_type": "stream",
     "text": [
      "Search 20: False\n",
      "Length: 2\n",
      "10 -> 30 -> None\n"
     ]
    }
   ],
   "source": [
    "# Remove a value\n",
    "linked_list.remove(20)\n",
    "print(\"Search 20:\", linked_list.search(20))\n",
    "print(\"Length:\", linked_list.length())\n",
    "linked_list.display()  # Output: 10 -> 30 -> None"
   ]
  },
  {
   "cell_type": "code",
   "execution_count": null,
   "id": "5034a7e0",
   "metadata": {},
   "outputs": [],
   "source": []
  }
 ],
 "metadata": {
  "kernelspec": {
   "display_name": "Python 3 (ipykernel)",
   "language": "python",
   "name": "python3"
  },
  "language_info": {
   "codemirror_mode": {
    "name": "ipython",
    "version": 3
   },
   "file_extension": ".py",
   "mimetype": "text/x-python",
   "name": "python",
   "nbconvert_exporter": "python",
   "pygments_lexer": "ipython3",
   "version": "3.11.5"
  }
 },
 "nbformat": 4,
 "nbformat_minor": 5
}
