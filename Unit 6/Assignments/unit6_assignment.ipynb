{
 "cells": [
  {
   "cell_type": "markdown",
   "metadata": {},
   "source": [
    "# Graded: 13 of 13 correct\n",
    "- [x] Read in data\n",
    "- [x] Display first 5 rows\n",
    "- [x] Set `coal` to coal column\n",
    "- [x] Coal min\n",
    "- [x] Coal max\n",
    "- [x] Coal ratio\n",
    "- [x] Coal/gas/petro line plot\n",
    "- [x] Total sum\n",
    "- [x] Bar plot, fraction co2 by state\n",
    "- [x] Total NC\n",
    "- [x] Sort total NC\n",
    "- [x] Plot toal NC\n",
    "- [x] Plot relative change\n",
    "\n",
    "Comments: \n"
   ]
  },
  {
   "cell_type": "markdown",
   "metadata": {},
   "source": [
    "# Assignment 6: Working with Pandas data frames"
   ]
  },
  {
   "cell_type": "code",
   "execution_count": null,
   "metadata": {},
   "outputs": [],
   "source": [
    "%matplotlib inline\n",
    "%autosave 15\n",
    "\n",
    "# these next lines make the array and plotting modules available\n",
    "import numpy as np\n",
    "import matplotlib\n",
    "import matplotlib.pyplot as plt\n",
    "import pandas as pd"
   ]
  },
  {
   "cell_type": "markdown",
   "metadata": {
    "editable": false
   },
   "source": [
    "## The data\n",
    "\n",
    "* First we will read two data sets from files. \n",
    "* The original data is taken from the <a href=\"https://www.eia.gov/\" target=\"_blank\">U.S. Energy Information Administration</a> setup by the U.S. Congress with a mission to _\"Collect, analyze, and disseminate independent and impartial energy information to promote sound policymaking, efficient markets, and public understanding of energy and its interaction with the economy and the environment.\"_\n",
    "* For this assignment we have made minor data modifications purely for educational purposes.\n",
    "* If you are interested in this data, you can download the actual data from their <a href=\"https://www.eia.gov/opendata/bulkfiles.php\" target=\"_blank\">latest bulk download site</a>.\n",
    "* We will be more than happy to help anyone interested in a more thorough scientific look at this data.\n",
    "\n",
    "### The data sets are:\n",
    "* `states_co2_pd` is a pandas data frame of size `n`&Cross;`3` where the three columns are the number of million metric tons of $CO_2$ produced by that state from coal, natural gas, and petroleum respectively, and `n` is the number of US states in the dataset.\n",
    "\n",
    "* `nc_co2_pd` is a pandas data frame of size `m`&Cross;`3` where the three columns are the number of million metric tons of $CO_2$ produced by the state of North Carolina from coal, natural gas, and petroleum respectively, and `m` is number of years of EIA information.\n",
    "\n",
    "* The two datasets are shown below."
   ]
  },
  {
   "cell_type": "markdown",
   "metadata": {},
   "source": [
    "## Read in states data\n",
    "1. Set variable `states_co2_pd` to a Pandas DataFrame by reading the `states_co2.csv` file.\n",
    "2. Display the first 5 rows of `states_co2_pd`."
   ]
  },
  {
   "cell_type": "code",
   "execution_count": null,
   "metadata": {},
   "outputs": [],
   "source": [
    "states_co2_pd = update with your code\n"
   ]
  },
  {
   "cell_type": "markdown",
   "metadata": {
    "editable": false
   },
   "source": [
    "## Q1 coal use\n",
    "\n",
    "Each state uses different amounts of coal.\n",
    " 1. Set variable `coal` to the column of `states_co2_pd` that corresponds to coal use.\n",
    " 1. Find the smallest amount of $CO_2$ emitted by any state in 2016 and assign that to `coal_min`\n",
    " 1. Find the largest amount of $CO_2$ emitted by any state in 2016 and assign that to `coal_max`\n",
    " 1. Find the <a href=\"https://www.mathsisfun.com/definitions/ratio.html\" target=\"_blank\">ratio</a> of the state emitting the largest amount of $CO_2$ to the smallest amount (`coal_max:coal_min`) as a real (float) number and assign it to `coal_ratio`.\n",
    " \n",
    " **NOTE:** A more scientific comparison of the output of $CO_2$ from Indiana and Connecticut should consider the population of each state and make a per capita comparison."
   ]
  },
  {
   "cell_type": "code",
   "execution_count": null,
   "metadata": {
    "execution": {
     "iopub.execute_input": "2021-11-26T19:25:55.497621Z",
     "iopub.status.busy": "2021-11-26T19:25:55.496664Z",
     "iopub.status.idle": "2021-11-26T19:25:55.501221Z",
     "shell.execute_reply": "2021-11-26T19:25:55.500641Z"
    }
   },
   "outputs": [],
   "source": [
    "# cell 5 of 25\n",
    "\n",
    "coal = update with your code\n",
    "\n",
    "print(type(coal))\n",
    "display(coal.head(90))"
   ]
  },
  {
   "cell_type": "code",
   "execution_count": null,
   "metadata": {
    "execution": {
     "iopub.execute_input": "2021-11-26T19:25:55.515310Z",
     "iopub.status.busy": "2021-11-26T19:25:55.514648Z",
     "iopub.status.idle": "2021-11-26T19:25:55.519078Z",
     "shell.execute_reply": "2021-11-26T19:25:55.518548Z"
    }
   },
   "outputs": [],
   "source": [
    "# cell 7 of 25\n",
    "\n",
    "coal_min = update with your code\n",
    "\n",
    "print(type(coal_min))\n",
    "print('The smallest amount of CO2 emitted by any state in 2016 was', coal_min)"
   ]
  },
  {
   "cell_type": "code",
   "execution_count": null,
   "metadata": {
    "execution": {
     "iopub.execute_input": "2021-11-26T19:25:55.532165Z",
     "iopub.status.busy": "2021-11-26T19:25:55.531540Z",
     "iopub.status.idle": "2021-11-26T19:25:55.535236Z",
     "shell.execute_reply": "2021-11-26T19:25:55.535714Z"
    }
   },
   "outputs": [],
   "source": [
    "# cell 9 of 25\n",
    "\n",
    "coal_max = update with your code\n",
    "print('The largest amount of CO2 emitted by any state in 2016 was', coal_max)"
   ]
  },
  {
   "cell_type": "code",
   "execution_count": null,
   "metadata": {
    "execution": {
     "iopub.execute_input": "2021-11-26T19:25:55.548140Z",
     "iopub.status.busy": "2021-11-26T19:25:55.547500Z",
     "iopub.status.idle": "2021-11-26T19:25:55.551106Z",
     "shell.execute_reply": "2021-11-26T19:25:55.551543Z"
    }
   },
   "outputs": [],
   "source": [
    "# cell 11 of 25\n",
    "\n",
    "coal_ratio = update with your code\n",
    "\n",
    "print('The ratio of CO2 emitted in 2016 by the state with the largest amount of CO2 to the state with the smallest was', coal_ratio)"
   ]
  },
  {
   "cell_type": "markdown",
   "metadata": {
    "editable": false
   },
   "source": [
    "# Plotting data\n",
    "\n",
    "## Q2 Plot each states $CO_2$ emissions by source type\n",
    "\n",
    "<img src=\"plot1.png\" width=\"300\" style=\"float: right\" />\n",
    "\n",
    "Similar to variable `coal`,\n",
    "you may want to create a variable `nat_gas` and `petro` that are copies of the columns in `states_co2`.\n",
    "\n",
    "Plot a line graph of $CO_2$ emissions by each of the three source types\n",
    "The graph you produce should look like the figure to the right.\n",
    "You won't have to put in the title or axis labels as\n",
    "they have been provided for you."
   ]
  },
  {
   "cell_type": "code",
   "execution_count": null,
   "metadata": {
    "execution": {
     "iopub.execute_input": "2021-11-26T19:25:55.582674Z",
     "iopub.status.busy": "2021-11-26T19:25:55.581979Z",
     "iopub.status.idle": "2021-11-26T19:25:56.140710Z",
     "shell.execute_reply": "2021-11-26T19:25:56.141233Z"
    }
   },
   "outputs": [],
   "source": [
    "# cell 13 of 25\n",
    "\n",
    "# First plot the coal line\n",
    "plt.plot( update with your data, color='black', marker='1')\n",
    "\n",
    "# Then natural gas\n",
    "nat_gas = update with your code\n",
    "plt.plot(nat_gas, color='blue', marker='2')\n",
    "\n",
    "# Finally petroleum\n",
    "petro = update with your code\n",
    "plt.plot(petro, color='grey', marker='3')\n",
    "\n",
    "\n",
    "# The following statements show how to label the figure\n",
    "# DO NOT UPDATE THE FOLLOWING LINES OF CODE!!!!\n",
    "plt.title('State emission of CO2 by source type')\n",
    "plt.ylabel('CO2 emission million metric tons')\n",
    "plt.xlabel('States')\n",
    "plt.legend(('Coal', 'Natural gas', 'Petroleum'), loc='upper right')\n",
    "plt.xticks(range(len(states_co2_pd.index)), states_co2_pd.index, rotation='vertical')\n",
    "q2_graph = plt.gcf()  # DO NOT TOUCH THIS LINE. ENSURE IT'S THE LAST LINE IN THIS CELL"
   ]
  },
  {
   "cell_type": "markdown",
   "metadata": {
    "editable": false
   },
   "source": [
    "## Q3 Total emission by type\n",
    "\n",
    "Create a variable `total` that is an array that has each state's sum of its three emission source types\n"
   ]
  },
  {
   "cell_type": "code",
   "execution_count": null,
   "metadata": {
    "execution": {
     "iopub.execute_input": "2021-11-26T19:25:56.159514Z",
     "iopub.status.busy": "2021-11-26T19:25:56.158856Z",
     "iopub.status.idle": "2021-11-26T19:25:56.164836Z",
     "shell.execute_reply": "2021-11-26T19:25:56.164260Z"
    }
   },
   "outputs": [],
   "source": [
    "# cell 15 of 25\n",
    "\n",
    "total = update with your code\n",
    "\n",
    "display(total.head(30))"
   ]
  },
  {
   "cell_type": "markdown",
   "metadata": {
    "editable": false
   },
   "source": [
    "## Q4 Fraction of coal $CO_2$ emission\n",
    "\n",
    "<img src=\"plot2.png\" width=\"300\" style=\"float: right\" />\n",
    "\n",
    "For each state, plot the fraction of $CO_2$ emissions that are attributable to coal.\n",
    "\n",
    "**NOTE** that you will have to put in the label, legend, tick, and title."
   ]
  },
  {
   "cell_type": "code",
   "execution_count": null,
   "metadata": {
    "execution": {
     "iopub.execute_input": "2021-11-26T19:25:56.326562Z",
     "iopub.status.busy": "2021-11-26T19:25:56.184016Z",
     "iopub.status.idle": "2021-11-26T19:25:56.767460Z",
     "shell.execute_reply": "2021-11-26T19:25:56.768046Z"
    }
   },
   "outputs": [],
   "source": [
    "# cell 17 of 25\n",
    "\n",
    "# Add title, x labels, y labels, and xticks\n",
    "plt.bar(range(len(???)), <data>)\n",
    "other statements to decorate the plot\n",
    "q4_graph = plt.gcf() # DO NOT TOUCH THIS LINE. ENSURE IT'S THE LAST LINE IN THIS CELL"
   ]
  },
  {
   "cell_type": "markdown",
   "metadata": {
    "editable": false
   },
   "source": [
    "## Q5 Total North Carolina $CO_2$ in chronological order\n",
    "\n",
    "* Compute the total $CO_2$ produced in North Carolina from coal, natural gas, and petroleum.\n",
    "* Assign the value to variable `total_nc`.\n",
    "\n",
    "* Put `total_nc` to be in increasing chronological order.\n",
    "* In other words, the last element in `total_nc` should be from 2016. The next to last element should be from 2015, etc.\n"
   ]
  },
  {
   "cell_type": "code",
   "execution_count": null,
   "metadata": {
    "execution": {
     "iopub.execute_input": "2021-11-26T19:25:56.784915Z",
     "iopub.status.busy": "2021-11-26T19:25:56.784201Z",
     "iopub.status.idle": "2021-11-26T19:25:56.787672Z",
     "shell.execute_reply": "2021-11-26T19:25:56.788204Z"
    }
   },
   "outputs": [],
   "source": [
    "# cell 19 of 25\n",
    "\n",
    "total_nc = \n",
    "total_nc.name = 'NC Total Emissions'\n",
    "print(total_nc)"
   ]
  },
  {
   "cell_type": "markdown",
   "metadata": {
    "editable": false
   },
   "source": [
    "## Q6 North Carolina $CO_2$ emmissions\n",
    "\n",
    "<img src=\"plot3.png\" width=\"300\" style=\"float: right\" />\n",
    "\n",
    "\n",
    "Using `total_nc`, plot a graph, similar to the graph to the right, that shows North Carolina's total emission of $CO_2$ over the years in increasing chronological order."
   ]
  },
  {
   "cell_type": "code",
   "execution_count": null,
   "metadata": {
    "execution": {
     "iopub.execute_input": "2021-11-26T19:25:56.820220Z",
     "iopub.status.busy": "2021-11-26T19:25:56.818360Z",
     "iopub.status.idle": "2021-11-26T19:25:57.396117Z",
     "shell.execute_reply": "2021-11-26T19:25:57.396582Z"
    },
    "scrolled": true
   },
   "outputs": [],
   "source": [
    "# cell 21 of 25\n",
    "\n",
    "\n",
    "plt.plot(stuff)\n",
    "plt.xlabel(xlabel)\n",
    "plt.ylabel(ylabel)\n",
    "plt.title(title)\n",
    "plt.xticks(range(len(years_in_order)), stuff, rotation=vertical)\n",
    "\n",
    "plt.gcf().savefig('plot3.png', bbox_inches='tight')\n",
    "q6_graph = plt.gcf()  # DO NOT TOUCH THIS LINE. ENSURE IT'S THE LAST LINE IN THIS CELL"
   ]
  },
  {
   "cell_type": "markdown",
   "metadata": {
    "editable": false
   },
   "source": [
    "## Terminology \n",
    "\n",
    "**Change or difference** is simply the second number minus the first number.\n",
    "The change from 100 to 101 is 1.\n",
    "The change from 101 to 102 is 1.\n",
    "\n",
    "**Relative change** is the __change__ divided by the first value. The relative change from 100 to 101 is 0.01.\n",
    "\n",
    "When we're talking about multiple years, use the terms above applied to each pair of years.\n",
    "Consider the values `[1, 2, 1, 4]`.\n",
    "\n",
    "* The __change__ is `[1, -1, 3]`,\n",
    "* The __relative change__ is `[1/1, -1/2, 3/1]` or `[1.0, -0.5, 3.0]`."
   ]
  },
  {
   "cell_type": "markdown",
   "metadata": {
    "editable": false
   },
   "source": [
    "## Q7 Relative change in $CO_2$\n",
    "\n",
    "<img src=\"plot4.png\" width=\"300\" style=\"float: right\" />\n",
    "\n",
    " 1. Plot the relative change in North Carolina's total $CO_2$ emissions.\n",
    "    The plot should appear similar to the graph at the right.\n",
    "    - A negative relative change for any year implies a decrease in $CO_2$ emmissions\n",
    "    - You may want to print out the numbers so that you understand to help you understand the data!!!\n",
    " 1. Add a red line at 0 height to facilitate knowing positive relative change versus negative relative change\n",
    " 1. Compute the minimum, maximum, and average relative change in North Carolina's total $CO_2$ emissions.\n",
    " 1. How many years had negative relative change from the previous year?\n",
    " 1. How many years had non-negative relative change?\n",
    "\n",
    "Again, since you will be doing multiple computations, you may want to print out your results at each step."
   ]
  },
  {
   "cell_type": "code",
   "execution_count": null,
   "metadata": {
    "execution": {
     "iopub.execute_input": "2021-11-26T19:25:57.432379Z",
     "iopub.status.busy": "2021-11-26T19:25:57.430722Z",
     "iopub.status.idle": "2021-11-26T19:25:58.056162Z",
     "shell.execute_reply": "2021-11-26T19:25:58.056613Z"
    }
   },
   "outputs": [],
   "source": [
    "# cell 23 of 25\n",
    "\n",
    "relative_difference = \n",
    "nc_max = \n",
    "nc_min = \n",
    "nc_avg = \n",
    "\n",
    "nc_neg = \n",
    "nc_pos = \n",
    "\n",
    "plt.plot(stuff)\n",
    "# add the x and y label\n",
    "# add the title \n",
    "# add the xticks\n",
    "\n",
    "print('The maximum, minimum, and average relative change is', nc_max, nc_min, nc_avg)\n",
    "print(nc_neg, 'years had increases (negative relative change) in CO2 emissions in North Carolina.')\n",
    "print(nc_pos, 'years had decreases (positive relative change) in CO2 emissions in North Carolina.')"
   ]
  }
 ],
 "metadata": {
  "kernelspec": {
   "display_name": "Python 3 (ipykernel)",
   "language": "python",
   "name": "python3"
  },
  "language_info": {
   "codemirror_mode": {
    "name": "ipython",
    "version": 3
   },
   "file_extension": ".py",
   "mimetype": "text/x-python",
   "name": "python",
   "nbconvert_exporter": "python",
   "pygments_lexer": "ipython3",
   "version": "3.11.5"
  }
 },
 "nbformat": 4,
 "nbformat_minor": 4
}
