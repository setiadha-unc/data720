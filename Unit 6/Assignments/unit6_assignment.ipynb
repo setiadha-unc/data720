{
 "cells": [
  {
   "cell_type": "markdown",
   "metadata": {},
   "source": [
    "# Graded: 13 of 13 correct\n",
    "- [x] Read in data\n",
    "- [x] Display first 5 rows\n",
    "- [x] Set `coal` to coal column\n",
    "- [x] Coal min\n",
    "- [x] Coal max\n",
    "- [x] Coal ratio\n",
    "- [x] Coal/gas/petro line plot\n",
    "- [x] Total sum\n",
    "- [x] Bar plot, fraction co2 by state\n",
    "- [x] Total NC\n",
    "- [x] Sort total NC\n",
    "- [x] Plot toal NC\n",
    "- [x] Plot relative change\n",
    "\n",
    "Comments: \n"
   ]
  },
  {
   "cell_type": "markdown",
   "metadata": {},
   "source": [
    "# Assignment 6: Working with Pandas data frames"
   ]
  },
  {
   "cell_type": "code",
   "execution_count": 1,
   "metadata": {},
   "outputs": [
    {
     "data": {
      "application/javascript": "IPython.notebook.set_autosave_interval(15000)"
     },
     "metadata": {},
     "output_type": "display_data"
    },
    {
     "name": "stdout",
     "output_type": "stream",
     "text": [
      "Autosaving every 15 seconds\n"
     ]
    }
   ],
   "source": [
    "%matplotlib inline\n",
    "%autosave 15\n",
    "\n",
    "# these next lines make the array and plotting modules available\n",
    "import numpy as np\n",
    "import matplotlib\n",
    "import matplotlib.pyplot as plt\n",
    "import pandas as pd"
   ]
  },
  {
   "cell_type": "markdown",
   "metadata": {
    "editable": false
   },
   "source": [
    "## The data\n",
    "\n",
    "* First we will read two data sets from files. \n",
    "* The original data is taken from the <a href=\"https://www.eia.gov/\" target=\"_blank\">U.S. Energy Information Administration</a> setup by the U.S. Congress with a mission to _\"Collect, analyze, and disseminate independent and impartial energy information to promote sound policymaking, efficient markets, and public understanding of energy and its interaction with the economy and the environment.\"_\n",
    "* For this assignment we have made minor data modifications purely for educational purposes.\n",
    "* If you are interested in this data, you can download the actual data from their <a href=\"https://www.eia.gov/opendata/bulkfiles.php\" target=\"_blank\">latest bulk download site</a>.\n",
    "* We will be more than happy to help anyone interested in a more thorough scientific look at this data.\n",
    "\n",
    "### The data sets are:\n",
    "* `states_co2_pd` is a pandas data frame of size `n`&Cross;`3` where the three columns are the number of million metric tons of $CO_2$ produced by that state from coal, natural gas, and petroleum respectively, and `n` is the number of US states in the dataset.\n",
    "\n",
    "* `nc_co2_pd` is a pandas data frame of size `m`&Cross;`3` where the three columns are the number of million metric tons of $CO_2$ produced by the state of North Carolina from coal, natural gas, and petroleum respectively, and `m` is number of years of EIA information.\n",
    "\n",
    "* The two datasets are shown below."
   ]
  },
  {
   "cell_type": "markdown",
   "metadata": {},
   "source": [
    "## Read in states data\n",
    "1. Set variable `states_co2_pd` to a Pandas DataFrame by reading the `states_co2.csv` file.\n",
    "2. Display the first 5 rows of `states_co2_pd`."
   ]
  },
  {
   "cell_type": "code",
   "execution_count": 2,
   "metadata": {},
   "outputs": [
    {
     "data": {
      "application/vnd.microsoft.datawrangler.viewer.v0+json": {
       "columns": [
        {
         "name": "index",
         "rawType": "int64",
         "type": "integer"
        },
        {
         "name": "Unnamed: 0",
         "rawType": "object",
         "type": "string"
        },
        {
         "name": "coal",
         "rawType": "float64",
         "type": "float"
        },
        {
         "name": "natural gas",
         "rawType": "float64",
         "type": "float"
        },
        {
         "name": "petroleum",
         "rawType": "float64",
         "type": "float"
        }
       ],
       "conversionMethod": "pd.DataFrame",
       "ref": "6c8514d6-e9ee-4cd0-83fc-0777c10b4f90",
       "rows": [
        [
         "0",
         "Florida",
         "40.24242",
         "75.027273",
         "114.793297"
        ],
        [
         "1",
         "Iowa",
         "28.120345",
         "16.828779",
         "28.183284"
        ],
        [
         "2",
         "Indiana",
         "89.142017",
         "41.38871",
         "51.322376"
        ],
        [
         "3",
         "Alaska",
         "1.563846",
         "17.556345",
         "15.789255"
        ],
        [
         "4",
         "Arizona",
         "30.58456",
         "19.711348",
         "36.710043"
        ]
       ],
       "shape": {
        "columns": 4,
        "rows": 5
       }
      },
      "text/html": [
       "<div>\n",
       "<style scoped>\n",
       "    .dataframe tbody tr th:only-of-type {\n",
       "        vertical-align: middle;\n",
       "    }\n",
       "\n",
       "    .dataframe tbody tr th {\n",
       "        vertical-align: top;\n",
       "    }\n",
       "\n",
       "    .dataframe thead th {\n",
       "        text-align: right;\n",
       "    }\n",
       "</style>\n",
       "<table border=\"1\" class=\"dataframe\">\n",
       "  <thead>\n",
       "    <tr style=\"text-align: right;\">\n",
       "      <th></th>\n",
       "      <th>Unnamed: 0</th>\n",
       "      <th>coal</th>\n",
       "      <th>natural gas</th>\n",
       "      <th>petroleum</th>\n",
       "    </tr>\n",
       "  </thead>\n",
       "  <tbody>\n",
       "    <tr>\n",
       "      <th>0</th>\n",
       "      <td>Florida</td>\n",
       "      <td>40.242420</td>\n",
       "      <td>75.027273</td>\n",
       "      <td>114.793297</td>\n",
       "    </tr>\n",
       "    <tr>\n",
       "      <th>1</th>\n",
       "      <td>Iowa</td>\n",
       "      <td>28.120345</td>\n",
       "      <td>16.828779</td>\n",
       "      <td>28.183284</td>\n",
       "    </tr>\n",
       "    <tr>\n",
       "      <th>2</th>\n",
       "      <td>Indiana</td>\n",
       "      <td>89.142017</td>\n",
       "      <td>41.388710</td>\n",
       "      <td>51.322376</td>\n",
       "    </tr>\n",
       "    <tr>\n",
       "      <th>3</th>\n",
       "      <td>Alaska</td>\n",
       "      <td>1.563846</td>\n",
       "      <td>17.556345</td>\n",
       "      <td>15.789255</td>\n",
       "    </tr>\n",
       "    <tr>\n",
       "      <th>4</th>\n",
       "      <td>Arizona</td>\n",
       "      <td>30.584560</td>\n",
       "      <td>19.711348</td>\n",
       "      <td>36.710043</td>\n",
       "    </tr>\n",
       "  </tbody>\n",
       "</table>\n",
       "</div>"
      ],
      "text/plain": [
       "  Unnamed: 0       coal  natural gas   petroleum\n",
       "0    Florida  40.242420    75.027273  114.793297\n",
       "1       Iowa  28.120345    16.828779   28.183284\n",
       "2    Indiana  89.142017    41.388710   51.322376\n",
       "3     Alaska   1.563846    17.556345   15.789255\n",
       "4    Arizona  30.584560    19.711348   36.710043"
      ]
     },
     "execution_count": 2,
     "metadata": {},
     "output_type": "execute_result"
    }
   ],
   "source": [
    "states_co2_pd = pd.read_csv(\"states_co2.csv\")\n",
    "states_co2_pd.head(5)\n"
   ]
  },
  {
   "cell_type": "code",
   "execution_count": 3,
   "metadata": {},
   "outputs": [
    {
     "data": {
      "application/vnd.microsoft.datawrangler.viewer.v0+json": {
       "columns": [
        {
         "name": "index",
         "rawType": "int64",
         "type": "integer"
        },
        {
         "name": "Unnamed: 0",
         "rawType": "object",
         "type": "string"
        },
        {
         "name": "coal",
         "rawType": "float64",
         "type": "float"
        },
        {
         "name": "natural gas",
         "rawType": "float64",
         "type": "float"
        },
        {
         "name": "petroleum",
         "rawType": "float64",
         "type": "float"
        }
       ],
       "conversionMethod": "pd.DataFrame",
       "ref": "73b18c2d-13f7-4ee1-8aa5-29d4e3dfd239",
       "rows": [
        [
         "0",
         "Florida",
         "40.24242",
         "75.027273",
         "114.793297"
        ],
        [
         "1",
         "Iowa",
         "28.120345",
         "16.828779",
         "28.183284"
        ],
        [
         "2",
         "Indiana",
         "89.142017",
         "41.38871",
         "51.322376"
        ],
        [
         "3",
         "Alaska",
         "1.563846",
         "17.556345",
         "15.789255"
        ],
        [
         "4",
         "Arizona",
         "30.58456",
         "19.711348",
         "36.710043"
        ],
        [
         "5",
         "Connecticut",
         "0.220985",
         "13.511039",
         "20.569305"
        ],
        [
         "6",
         "Maryland",
         "15.381395",
         "11.325847",
         "30.850718"
        ],
        [
         "7",
         "Minnesota",
         "24.662918",
         "24.750139",
         "39.841909"
        ],
        [
         "8",
         "Montana",
         "15.29087",
         "4.11534",
         "11.052955"
        ],
        [
         "9",
         "New Hampshire",
         "0.49835",
         "3.156553",
         "10.098009"
        ],
        [
         "10",
         "Nevada",
         "2.902463",
         "16.763572",
         "16.98507"
        ],
        [
         "11",
         "North Carolina",
         "36.044177",
         "28.662326",
         "55.84664"
        ],
        [
         "12",
         "Pennsylvania",
         "68.917226",
         "72.357143",
         "76.134342"
        ],
        [
         "13",
         "South Dakota",
         "2.516145",
         "4.541491",
         "7.937385"
        ],
        [
         "14",
         "Virginia",
         "20.940565",
         "30.352499",
         "52.944754"
        ],
        [
         "15",
         "Wisconsin",
         "33.73718",
         "26.506474",
         "35.365374"
        ],
        [
         "16",
         "Utah",
         "25.399385",
         "13.311334",
         "20.050797"
        ]
       ],
       "shape": {
        "columns": 4,
        "rows": 17
       }
      },
      "text/html": [
       "<div>\n",
       "<style scoped>\n",
       "    .dataframe tbody tr th:only-of-type {\n",
       "        vertical-align: middle;\n",
       "    }\n",
       "\n",
       "    .dataframe tbody tr th {\n",
       "        vertical-align: top;\n",
       "    }\n",
       "\n",
       "    .dataframe thead th {\n",
       "        text-align: right;\n",
       "    }\n",
       "</style>\n",
       "<table border=\"1\" class=\"dataframe\">\n",
       "  <thead>\n",
       "    <tr style=\"text-align: right;\">\n",
       "      <th></th>\n",
       "      <th>Unnamed: 0</th>\n",
       "      <th>coal</th>\n",
       "      <th>natural gas</th>\n",
       "      <th>petroleum</th>\n",
       "    </tr>\n",
       "  </thead>\n",
       "  <tbody>\n",
       "    <tr>\n",
       "      <th>0</th>\n",
       "      <td>Florida</td>\n",
       "      <td>40.242420</td>\n",
       "      <td>75.027273</td>\n",
       "      <td>114.793297</td>\n",
       "    </tr>\n",
       "    <tr>\n",
       "      <th>1</th>\n",
       "      <td>Iowa</td>\n",
       "      <td>28.120345</td>\n",
       "      <td>16.828779</td>\n",
       "      <td>28.183284</td>\n",
       "    </tr>\n",
       "    <tr>\n",
       "      <th>2</th>\n",
       "      <td>Indiana</td>\n",
       "      <td>89.142017</td>\n",
       "      <td>41.388710</td>\n",
       "      <td>51.322376</td>\n",
       "    </tr>\n",
       "    <tr>\n",
       "      <th>3</th>\n",
       "      <td>Alaska</td>\n",
       "      <td>1.563846</td>\n",
       "      <td>17.556345</td>\n",
       "      <td>15.789255</td>\n",
       "    </tr>\n",
       "    <tr>\n",
       "      <th>4</th>\n",
       "      <td>Arizona</td>\n",
       "      <td>30.584560</td>\n",
       "      <td>19.711348</td>\n",
       "      <td>36.710043</td>\n",
       "    </tr>\n",
       "    <tr>\n",
       "      <th>5</th>\n",
       "      <td>Connecticut</td>\n",
       "      <td>0.220985</td>\n",
       "      <td>13.511039</td>\n",
       "      <td>20.569305</td>\n",
       "    </tr>\n",
       "    <tr>\n",
       "      <th>6</th>\n",
       "      <td>Maryland</td>\n",
       "      <td>15.381395</td>\n",
       "      <td>11.325847</td>\n",
       "      <td>30.850718</td>\n",
       "    </tr>\n",
       "    <tr>\n",
       "      <th>7</th>\n",
       "      <td>Minnesota</td>\n",
       "      <td>24.662918</td>\n",
       "      <td>24.750139</td>\n",
       "      <td>39.841909</td>\n",
       "    </tr>\n",
       "    <tr>\n",
       "      <th>8</th>\n",
       "      <td>Montana</td>\n",
       "      <td>15.290870</td>\n",
       "      <td>4.115340</td>\n",
       "      <td>11.052955</td>\n",
       "    </tr>\n",
       "    <tr>\n",
       "      <th>9</th>\n",
       "      <td>New Hampshire</td>\n",
       "      <td>0.498350</td>\n",
       "      <td>3.156553</td>\n",
       "      <td>10.098009</td>\n",
       "    </tr>\n",
       "    <tr>\n",
       "      <th>10</th>\n",
       "      <td>Nevada</td>\n",
       "      <td>2.902463</td>\n",
       "      <td>16.763572</td>\n",
       "      <td>16.985070</td>\n",
       "    </tr>\n",
       "    <tr>\n",
       "      <th>11</th>\n",
       "      <td>North Carolina</td>\n",
       "      <td>36.044177</td>\n",
       "      <td>28.662326</td>\n",
       "      <td>55.846640</td>\n",
       "    </tr>\n",
       "    <tr>\n",
       "      <th>12</th>\n",
       "      <td>Pennsylvania</td>\n",
       "      <td>68.917226</td>\n",
       "      <td>72.357143</td>\n",
       "      <td>76.134342</td>\n",
       "    </tr>\n",
       "    <tr>\n",
       "      <th>13</th>\n",
       "      <td>South Dakota</td>\n",
       "      <td>2.516145</td>\n",
       "      <td>4.541491</td>\n",
       "      <td>7.937385</td>\n",
       "    </tr>\n",
       "    <tr>\n",
       "      <th>14</th>\n",
       "      <td>Virginia</td>\n",
       "      <td>20.940565</td>\n",
       "      <td>30.352499</td>\n",
       "      <td>52.944754</td>\n",
       "    </tr>\n",
       "    <tr>\n",
       "      <th>15</th>\n",
       "      <td>Wisconsin</td>\n",
       "      <td>33.737180</td>\n",
       "      <td>26.506474</td>\n",
       "      <td>35.365374</td>\n",
       "    </tr>\n",
       "    <tr>\n",
       "      <th>16</th>\n",
       "      <td>Utah</td>\n",
       "      <td>25.399385</td>\n",
       "      <td>13.311334</td>\n",
       "      <td>20.050797</td>\n",
       "    </tr>\n",
       "  </tbody>\n",
       "</table>\n",
       "</div>"
      ],
      "text/plain": [
       "        Unnamed: 0       coal  natural gas   petroleum\n",
       "0          Florida  40.242420    75.027273  114.793297\n",
       "1             Iowa  28.120345    16.828779   28.183284\n",
       "2          Indiana  89.142017    41.388710   51.322376\n",
       "3           Alaska   1.563846    17.556345   15.789255\n",
       "4          Arizona  30.584560    19.711348   36.710043\n",
       "5      Connecticut   0.220985    13.511039   20.569305\n",
       "6         Maryland  15.381395    11.325847   30.850718\n",
       "7        Minnesota  24.662918    24.750139   39.841909\n",
       "8          Montana  15.290870     4.115340   11.052955\n",
       "9    New Hampshire   0.498350     3.156553   10.098009\n",
       "10          Nevada   2.902463    16.763572   16.985070\n",
       "11  North Carolina  36.044177    28.662326   55.846640\n",
       "12    Pennsylvania  68.917226    72.357143   76.134342\n",
       "13    South Dakota   2.516145     4.541491    7.937385\n",
       "14        Virginia  20.940565    30.352499   52.944754\n",
       "15       Wisconsin  33.737180    26.506474   35.365374\n",
       "16            Utah  25.399385    13.311334   20.050797"
      ]
     },
     "execution_count": 3,
     "metadata": {},
     "output_type": "execute_result"
    }
   ],
   "source": [
    "states_co2_pd"
   ]
  },
  {
   "cell_type": "markdown",
   "metadata": {
    "editable": false
   },
   "source": [
    "## Q1 coal use\n",
    "\n",
    "Each state uses different amounts of coal.\n",
    " 1. Set variable `coal` to the column of `states_co2_pd` that corresponds to coal use.\n",
    " 1. Find the smallest amount of $CO_2$ emitted by any state in 2016 and assign that to `coal_min`\n",
    " 1. Find the largest amount of $CO_2$ emitted by any state in 2016 and assign that to `coal_max`\n",
    " 1. Find the <a href=\"https://www.mathsisfun.com/definitions/ratio.html\" target=\"_blank\">ratio</a> of the state emitting the largest amount of $CO_2$ to the smallest amount (`coal_max:coal_min`) as a real (float) number and assign it to `coal_ratio`.\n",
    " \n",
    " **NOTE:** A more scientific comparison of the output of $CO_2$ from Indiana and Connecticut should consider the population of each state and make a per capita comparison."
   ]
  },
  {
   "cell_type": "code",
   "execution_count": 4,
   "metadata": {
    "execution": {
     "iopub.execute_input": "2021-11-26T19:25:55.497621Z",
     "iopub.status.busy": "2021-11-26T19:25:55.496664Z",
     "iopub.status.idle": "2021-11-26T19:25:55.501221Z",
     "shell.execute_reply": "2021-11-26T19:25:55.500641Z"
    }
   },
   "outputs": [
    {
     "data": {
      "text/plain": [
       "0     40.242420\n",
       "1     28.120345\n",
       "2     89.142017\n",
       "3      1.563846\n",
       "4     30.584560\n",
       "5      0.220985\n",
       "6     15.381395\n",
       "7     24.662918\n",
       "8     15.290870\n",
       "9      0.498350\n",
       "10     2.902463\n",
       "11    36.044177\n",
       "12    68.917226\n",
       "13     2.516145\n",
       "14    20.940565\n",
       "15    33.737180\n",
       "16    25.399385\n",
       "Name: coal, dtype: float64"
      ]
     },
     "metadata": {},
     "output_type": "display_data"
    }
   ],
   "source": [
    "coal = states_co2_pd[\"coal\"]\n",
    "\n",
    "display(coal.head(90))"
   ]
  },
  {
   "cell_type": "code",
   "execution_count": 5,
   "metadata": {
    "execution": {
     "iopub.execute_input": "2021-11-26T19:25:55.515310Z",
     "iopub.status.busy": "2021-11-26T19:25:55.514648Z",
     "iopub.status.idle": "2021-11-26T19:25:55.519078Z",
     "shell.execute_reply": "2021-11-26T19:25:55.518548Z"
    }
   },
   "outputs": [
    {
     "name": "stdout",
     "output_type": "stream",
     "text": [
      "The smallest amount of CO2 emitted by any state in 2016 was 0.220985\n"
     ]
    }
   ],
   "source": [
    "# cell 7 of 25\n",
    "\n",
    "coal_min = states_co2_pd[\"coal\"].min()\n",
    "\n",
    "print('The smallest amount of CO2 emitted by any state in 2016 was', coal_min)"
   ]
  },
  {
   "cell_type": "code",
   "execution_count": 6,
   "metadata": {
    "execution": {
     "iopub.execute_input": "2021-11-26T19:25:55.532165Z",
     "iopub.status.busy": "2021-11-26T19:25:55.531540Z",
     "iopub.status.idle": "2021-11-26T19:25:55.535236Z",
     "shell.execute_reply": "2021-11-26T19:25:55.535714Z"
    }
   },
   "outputs": [
    {
     "name": "stdout",
     "output_type": "stream",
     "text": [
      "The largest amount of CO2 emitted by any state in 2016 was 89.142017\n"
     ]
    }
   ],
   "source": [
    "# cell 9 of 25\n",
    "\n",
    "coal_max = states_co2_pd[\"coal\"].max()\n",
    "print('The largest amount of CO2 emitted by any state in 2016 was', coal_max)"
   ]
  },
  {
   "cell_type": "code",
   "execution_count": 7,
   "metadata": {
    "execution": {
     "iopub.execute_input": "2021-11-26T19:25:55.548140Z",
     "iopub.status.busy": "2021-11-26T19:25:55.547500Z",
     "iopub.status.idle": "2021-11-26T19:25:55.551106Z",
     "shell.execute_reply": "2021-11-26T19:25:55.551543Z"
    }
   },
   "outputs": [
    {
     "name": "stdout",
     "output_type": "stream",
     "text": [
      "The ratio of CO2 emitted in 2016 by the state with the largest amount of CO2 to the state with the smallest was 403.38492205353305\n"
     ]
    }
   ],
   "source": [
    "# cell 11 of 25\n",
    "\n",
    "coal_ratio = coal_max / coal_min\n",
    "\n",
    "print('The ratio of CO2 emitted in 2016 by the state with the largest amount of CO2 to the state with the smallest was', coal_ratio)"
   ]
  },
  {
   "cell_type": "markdown",
   "metadata": {
    "editable": false
   },
   "source": [
    "# Plotting data\n",
    "\n",
    "## Q2 Plot each states $CO_2$ emissions by source type\n",
    "\n",
    "<img src=\"plot1.png\" width=\"300\" style=\"float: right\" />\n",
    "\n",
    "Similar to variable `coal`,\n",
    "you may want to create a variable `nat_gas` and `petro` that are copies of the columns in `states_co2`.\n",
    "\n",
    "Plot a line graph of $CO_2$ emissions by each of the three source types\n",
    "The graph you produce should look like the figure to the right.\n",
    "You won't have to put in the title or axis labels as\n",
    "they have been provided for you."
   ]
  },
  {
   "cell_type": "code",
   "execution_count": 8,
   "metadata": {
    "execution": {
     "iopub.execute_input": "2021-11-26T19:25:55.582674Z",
     "iopub.status.busy": "2021-11-26T19:25:55.581979Z",
     "iopub.status.idle": "2021-11-26T19:25:56.140710Z",
     "shell.execute_reply": "2021-11-26T19:25:56.141233Z"
    }
   },
   "outputs": [
    {
     "data": {
      "image/png": "[encoded data removed]",
      "text/plain": [
       "<Figure size 640x480 with 1 Axes>"
      ]
     },
     "metadata": {},
     "output_type": "display_data"
    }
   ],
   "source": [
    "# cell 13 of 25\n",
    "\n",
    "# First plot the coal line\n",
    "plt.plot(states_co2_pd[\"coal\"], color='black', marker='1')\n",
    "\n",
    "# Then natural gas\n",
    "nat_gas = states_co2_pd[\"natural gas\"]\n",
    "plt.plot(nat_gas, color='blue', marker='2')\n",
    "\n",
    "# Finally petroleum\n",
    "petro = states_co2_pd[\"petroleum\"]\n",
    "plt.plot(petro, color='grey', marker='3')\n",
    "\n",
    "\n",
    "# The following statements show how to label the figure\n",
    "# DO NOT UPDATE THE FOLLOWING LINES OF CODE!!!!\n",
    "plt.title('State emission of CO2 by source type')\n",
    "plt.ylabel('CO2 emission million metric tons')\n",
    "plt.xlabel('States')\n",
    "plt.legend(('Coal', 'Natural gas', 'Petroleum'), loc='upper right')\n",
    "# plt.xticks(range(len(states_co2_pd.index)), states_co2_pd.index, rotation='vertical')\n",
    "# states_co2_pd.index ->return number. replace by states name\n",
    "states_name = states_co2_pd.iloc[:, 0]\n",
    "plt.xticks(range(len(states_name)), states_name, rotation='vertical')\n",
    "q2_graph = plt.gcf()  # DO NOT TOUCH THIS LINE. ENSURE IT'S THE LAST LINE IN THIS CELL"
   ]
  },
  {
   "cell_type": "markdown",
   "metadata": {
    "editable": false
   },
   "source": [
    "## Q3 Total emission by type\n",
    "\n",
    "Create a variable `total` that is an array that has each state's sum of its three emission source types\n"
   ]
  },
  {
   "cell_type": "code",
   "execution_count": 9,
   "metadata": {
    "execution": {
     "iopub.execute_input": "2021-11-26T19:25:56.159514Z",
     "iopub.status.busy": "2021-11-26T19:25:56.158856Z",
     "iopub.status.idle": "2021-11-26T19:25:56.164836Z",
     "shell.execute_reply": "2021-11-26T19:25:56.164260Z"
    }
   },
   "outputs": [
    {
     "data": {
      "text/plain": [
       "Unnamed: 0\n",
       "Florida           230.062990\n",
       "Iowa               73.132408\n",
       "Indiana           181.853103\n",
       "Alaska             34.909446\n",
       "Arizona            87.005951\n",
       "Connecticut        34.301329\n",
       "Maryland           57.557960\n",
       "Minnesota          89.254966\n",
       "Montana            30.459165\n",
       "New Hampshire      13.752912\n",
       "Nevada             36.651105\n",
       "North Carolina    120.553143\n",
       "Pennsylvania      217.408711\n",
       "South Dakota       14.995021\n",
       "Virginia          104.237818\n",
       "Wisconsin          95.609028\n",
       "Utah               58.761516\n",
       "dtype: float64"
      ]
     },
     "execution_count": 9,
     "metadata": {},
     "output_type": "execute_result"
    }
   ],
   "source": [
    "# cell 15 of 25\n",
    "total = states_co2_pd.iloc[:,1:].sum(axis=1) \n",
    "total.index = states_co2_pd.iloc[:, 0]\n",
    "total.head(30)"
   ]
  },
  {
   "cell_type": "markdown",
   "metadata": {
    "editable": false
   },
   "source": [
    "## Q4 Fraction of coal $CO_2$ emission\n",
    "\n",
    "<img src=\"plot2.png\" width=\"300\" style=\"float: right\" />\n",
    "\n",
    "For each state, plot the fraction of $CO_2$ emissions that are attributable to coal.\n",
    "\n",
    "**NOTE** that you will have to put in the label, legend, tick, and title."
   ]
  },
  {
   "cell_type": "code",
   "execution_count": 10,
   "metadata": {
    "execution": {
     "iopub.execute_input": "2021-11-26T19:25:56.326562Z",
     "iopub.status.busy": "2021-11-26T19:25:56.184016Z",
     "iopub.status.idle": "2021-11-26T19:25:56.767460Z",
     "shell.execute_reply": "2021-11-26T19:25:56.768046Z"
    }
   },
   "outputs": [
    {
     "data": {
      "image/png": "[encoded data removed]",
      "text/plain": [
       "<Figure size 640x480 with 1 Axes>"
      ]
     },
     "metadata": {},
     "output_type": "display_data"
    }
   ],
   "source": [
    "# cell 17 of 25\n",
    "\n",
    "coal_fraction = states_co2_pd[\"coal\"] / (states_co2_pd[\"coal\"] + states_co2_pd[\"natural gas\"] + states_co2_pd[\"petroleum\"])\n",
    "# Add title, x labels, y labels, and xticks\n",
    "plt.bar(range(len(coal_fraction)), coal_fraction)\n",
    "plt.title('Fraction Coal CO2 Emission')\n",
    "plt.ylabel('Fraction of CO2 Emission by Coal')\n",
    "plt.xlabel('States')\n",
    "plt.xticks(ticks=range(len(states_name)), labels=states_name, rotation=90, ha=\"right\", rotation_mode=\"anchor\")\n",
    "\n",
    "# other statements to decorate the plot\n",
    "q4_graph = plt.gcf() # DO NOT TOUCH THIS LINE. ENSURE IT'S THE LAST LINE IN THIS CELL"
   ]
  },
  {
   "cell_type": "markdown",
   "metadata": {
    "editable": false
   },
   "source": [
    "## Q5 Total North Carolina $CO_2$ in chronological order\n",
    "\n",
    "* Compute the total $CO_2$ produced in North Carolina from coal, natural gas, and petroleum.\n",
    "* Assign the value to variable `total_nc`.\n",
    "\n",
    "* Put `total_nc` to be in increasing chronological order.\n",
    "* In other words, the last element in `total_nc` should be from 2016. The next to last element should be from 2015, etc.\n"
   ]
  },
  {
   "cell_type": "code",
   "execution_count": 11,
   "metadata": {
    "execution": {
     "iopub.execute_input": "2021-11-26T19:25:56.784915Z",
     "iopub.status.busy": "2021-11-26T19:25:56.784201Z",
     "iopub.status.idle": "2021-11-26T19:25:56.787672Z",
     "shell.execute_reply": "2021-11-26T19:25:56.788204Z"
    }
   },
   "outputs": [
    {
     "name": "stdout",
     "output_type": "stream",
     "text": [
      "0     120.553143\n",
      "1     121.049573\n",
      "2     127.375161\n",
      "3     125.059373\n",
      "4     121.306233\n",
      "5     128.624282\n",
      "6     143.008967\n",
      "7     132.991562\n",
      "8     149.198769\n",
      "9     154.458804\n",
      "10    148.628039\n",
      "11    154.028166\n",
      "12    149.714438\n",
      "13    146.500279\n",
      "14    145.333685\n",
      "15    143.810536\n",
      "16    148.851011\n",
      "17    140.780871\n",
      "18    142.466784\n",
      "19    143.130764\n",
      "20    140.647141\n",
      "21    128.709154\n",
      "22    122.388064\n",
      "23    127.082332\n",
      "24    121.140638\n",
      "25    110.888882\n",
      "26    111.113882\n",
      "27    115.510696\n",
      "28    111.425114\n",
      "29    107.298984\n",
      "30    112.107540\n",
      "31    106.760886\n",
      "32    108.807569\n",
      "33    107.343971\n",
      "34    107.742362\n",
      "35    111.861576\n",
      "36    112.346916\n",
      "Name: NC Total Emissions, dtype: float64\n"
     ]
    }
   ],
   "source": [
    "# cell 19 of 25\n",
    "nc_co2_pd = pd.read_csv(\"nc_co2.csv\")\n",
    "\n",
    "total_nc = nc_co2_pd.iloc[:,1:].sum(axis=1)\n",
    "total_nc.name = 'NC Total Emissions'\n",
    "print(total_nc)"
   ]
  },
  {
   "cell_type": "markdown",
   "metadata": {
    "editable": false
   },
   "source": [
    "## Q6 North Carolina $CO_2$ emmissions\n",
    "\n",
    "<img src=\"plot3.png\" width=\"300\" style=\"float: right\" />\n",
    "\n",
    "\n",
    "Using `total_nc`, plot a graph, similar to the graph to the right, that shows North Carolina's total emission of $CO_2$ over the years in increasing chronological order."
   ]
  },
  {
   "cell_type": "code",
   "execution_count": 15,
   "metadata": {},
   "outputs": [],
   "source": [
    "nc_co2_years = nc_co2_pd.iloc[:,0]"
   ]
  },
  {
   "cell_type": "code",
   "execution_count": 16,
   "metadata": {
    "execution": {
     "iopub.execute_input": "2021-11-26T19:25:56.820220Z",
     "iopub.status.busy": "2021-11-26T19:25:56.818360Z",
     "iopub.status.idle": "2021-11-26T19:25:57.396117Z",
     "shell.execute_reply": "2021-11-26T19:25:57.396582Z"
    },
    "scrolled": true
   },
   "outputs": [
    {
     "data": {
      "image/png": "[encoded data removed]",
      "text/plain": [
       "<Figure size 640x480 with 1 Axes>"
      ]
     },
     "metadata": {},
     "output_type": "display_data"
    }
   ],
   "source": [
    "# cell 21 of 25\n",
    "\n",
    "\n",
    "plt.plot(total_nc)\n",
    "plt.xlabel(\"Years\")\n",
    "plt.ylabel(\"Total CO2 emission\")\n",
    "plt.title(\"North Carolina CO2 Emission\")\n",
    "plt.xticks(range(len(nc_co2_years)), nc_co2_years, rotation=90)\n",
    "plt.gcf().savefig('plot3.png', bbox_inches='tight')\n",
    "q6_graph = plt.gcf()  # DO NOT TOUCH THIS LINE. ENSURE IT'S THE LAST LINE IN THIS CELL"
   ]
  },
  {
   "cell_type": "markdown",
   "metadata": {
    "editable": false
   },
   "source": [
    "## Terminology \n",
    "\n",
    "**Change or difference** is simply the second number minus the first number.\n",
    "The change from 100 to 101 is 1.\n",
    "The change from 101 to 102 is 1.\n",
    "\n",
    "**Relative change** is the __change__ divided by the first value. The relative change from 100 to 101 is 0.01.\n",
    "\n",
    "When we're talking about multiple years, use the terms above applied to each pair of years.\n",
    "Consider the values `[1, 2, 1, 4]`.\n",
    "\n",
    "* The __change__ is `[1, -1, 3]`,\n",
    "* The __relative change__ is `[1/1, -1/2, 3/1]` or `[1.0, -0.5, 3.0]`."
   ]
  },
  {
   "cell_type": "markdown",
   "metadata": {
    "editable": false
   },
   "source": [
    "## Q7 Relative change in $CO_2$\n",
    "\n",
    "<img src=\"plot4.png\" width=\"300\" style=\"float: right\" />\n",
    "\n",
    " 1. Plot the relative change in North Carolina's total $CO_2$ emissions.\n",
    "    The plot should appear similar to the graph at the right.\n",
    "    - A negative relative change for any year implies a decrease in $CO_2$ emmissions\n",
    "    - You may want to print out the numbers so that you understand to help you understand the data!!!\n",
    " 1. Add a red line at 0 height to facilitate knowing positive relative change versus negative relative change\n",
    " 1. Compute the minimum, maximum, and average relative change in North Carolina's total $CO_2$ emissions.\n",
    " 1. How many years had negative relative change from the previous year?\n",
    " 1. How many years had non-negative relative change?\n",
    "\n",
    "Again, since you will be doing multiple computations, you may want to print out your results at each step."
   ]
  },
  {
   "cell_type": "code",
   "execution_count": 14,
   "metadata": {
    "execution": {
     "iopub.execute_input": "2021-11-26T19:25:57.432379Z",
     "iopub.status.busy": "2021-11-26T19:25:57.430722Z",
     "iopub.status.idle": "2021-11-26T19:25:58.056162Z",
     "shell.execute_reply": "2021-11-26T19:25:58.056613Z"
    }
   },
   "outputs": [
    {
     "ename": "SyntaxError",
     "evalue": "invalid syntax (230888484.py, line 3)",
     "output_type": "error",
     "traceback": [
      "\u001b[1;36m  Cell \u001b[1;32mIn[14], line 3\u001b[1;36m\u001b[0m\n\u001b[1;33m    relative_difference =\u001b[0m\n\u001b[1;37m                          ^\u001b[0m\n\u001b[1;31mSyntaxError\u001b[0m\u001b[1;31m:\u001b[0m invalid syntax\n"
     ]
    }
   ],
   "source": [
    "# cell 23 of 25\n",
    "\n",
    "relative_difference = \n",
    "nc_max = \n",
    "nc_min = \n",
    "nc_avg = \n",
    "\n",
    "nc_neg = \n",
    "nc_pos = \n",
    "\n",
    "plt.plot(stuff)\n",
    "# add the x and y label\n",
    "# add the title \n",
    "# add the xticks\n",
    "\n",
    "print('The maximum, minimum, and average relative change is', nc_max, nc_min, nc_avg)\n",
    "print(nc_neg, 'years had increases (negative relative change) in CO2 emissions in North Carolina.')\n",
    "print(nc_pos, 'years had decreases (positive relative change) in CO2 emissions in North Carolina.')"
   ]
  }
 ],
 "metadata": {
  "kernelspec": {
   "display_name": "Python 3",
   "language": "python",
   "name": "python3"
  },
  "language_info": {
   "codemirror_mode": {
    "name": "ipython",
    "version": 3
   },
   "file_extension": ".py",
   "mimetype": "text/x-python",
   "name": "python",
   "nbconvert_exporter": "python",
   "pygments_lexer": "ipython3",
   "version": "3.12.5"
  }
 },
 "nbformat": 4,
 "nbformat_minor": 4
}
