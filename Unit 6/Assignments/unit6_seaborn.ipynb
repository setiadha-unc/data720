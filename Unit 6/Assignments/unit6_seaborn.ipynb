{
 "cells": [
  {
   "cell_type": "markdown",
   "id": "b59b9576-cfdf-41cc-b764-6d42bb6fd426",
   "metadata": {},
   "source": [
    "# Graded: 6 of 6 correct\n",
    "- [x] Display head\n",
    "- [x] histogram\n",
    "- [x] KDE plot\n",
    "- [x] KDE hues\n",
    "- [x] scatterplot\n",
    "- [x] scatterplot hues\n",
    "\n",
    "Comments: "
   ]
  },
  {
   "cell_type": "markdown",
   "id": "59c06eab",
   "metadata": {},
   "source": [
    "# Unit 6 Short Understanding: Seaborn"
   ]
  },
  {
   "cell_type": "code",
   "execution_count": null,
   "id": "a4f85798",
   "metadata": {},
   "outputs": [],
   "source": [
    "import pandas as pd\n",
    "import seaborn as sns"
   ]
  },
  {
   "cell_type": "markdown",
   "id": "342a3a15",
   "metadata": {},
   "source": [
    "The following cell loads the `iris` dataset from Seaborn, which is loaded as a Pandas DataFrame"
   ]
  },
  {
   "cell_type": "code",
   "execution_count": null,
   "id": "0d81f1e5",
   "metadata": {},
   "outputs": [],
   "source": [
    "df = sns.load_dataset(\"iris\")"
   ]
  },
  {
   "cell_type": "markdown",
   "id": "fcd0896e",
   "metadata": {},
   "source": [
    "Display the first 5 rows of `df`"
   ]
  },
  {
   "cell_type": "code",
   "execution_count": null,
   "id": "38b8c39e",
   "metadata": {},
   "outputs": [],
   "source": []
  },
  {
   "cell_type": "markdown",
   "id": "60968cb1",
   "metadata": {},
   "source": [
    "Using Seaborn, plot a histogram of the distribution of `sepal_width` (regardless of species)"
   ]
  },
  {
   "cell_type": "code",
   "execution_count": null,
   "id": "d18115c9",
   "metadata": {},
   "outputs": [],
   "source": []
  },
  {
   "cell_type": "markdown",
   "id": "8d717eac",
   "metadata": {},
   "source": [
    "Now plot the kernel density estimate (KDE) of `sepal_width`, separating each `species` into different colors"
   ]
  },
  {
   "cell_type": "code",
   "execution_count": null,
   "id": "5f87fa27",
   "metadata": {},
   "outputs": [],
   "source": []
  },
  {
   "cell_type": "markdown",
   "id": "57a5abbb",
   "metadata": {},
   "source": [
    "Using Seaborn, plot `sepal_length` against `petal_length` in a scatter plot with different colors for each `species`"
   ]
  },
  {
   "cell_type": "code",
   "execution_count": null,
   "id": "25448e61",
   "metadata": {},
   "outputs": [],
   "source": []
  }
 ],
 "metadata": {
  "kernelspec": {
   "display_name": "Python 3 (ipykernel)",
   "language": "python",
   "name": "python3"
  },
  "language_info": {
   "codemirror_mode": {
    "name": "ipython",
    "version": 3
   },
   "file_extension": ".py",
   "mimetype": "text/x-python",
   "name": "python",
   "nbconvert_exporter": "python",
   "pygments_lexer": "ipython3",
   "version": "3.11.5"
  }
 },
 "nbformat": 4,
 "nbformat_minor": 5
}
