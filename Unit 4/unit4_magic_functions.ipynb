{
 "cells": [
  {
   "cell_type": "code",
   "execution_count": null,
   "id": "d803295a",
   "metadata": {},
   "outputs": [],
   "source": [
    "class Vehicle:\n",
    "    def __init__(self, mpg=None, tank_size=None, passengers=None, transmission=None):\n",
    "        self.mpg = mpg\n",
    "        self.tank_size = tank_size\n",
    "        self.passengers = passengers\n",
    "        self.transmission = transmission\n",
    "        self.max_range = self.calculate_max_range()\n",
    "        self.co2_per_tank = self.calculate_emissions()\n",
    "        \n",
    "    def calculate_max_range(self):\n",
    "        if (self.mpg is None) or (self.tank_size is None):\n",
    "            return None\n",
    "        return self.mpg * self.tank_size\n",
    "    \n",
    "    def calculate_emissions(self):\n",
    "        if (self.mpg is None) or (self.tank_size is None):\n",
    "            return None\n",
    "        return 8.9 * self.tank_size\n",
    "    \n",
    "def print_vehicle(vehicle):\n",
    "    print(f\"Fuel efficiency: {vehicle.mpg} mpg\")\n",
    "    print(f\"Fuel capacity: {vehicle.tank_size} gallons\")\n",
    "    print(f\"Passenger capacity: {vehicle.passengers} passengers\")\n",
    "    print(f\"Transmission: {vehicle.transmission}\")\n",
    "    print(f\"Max range: {vehicle.max_range} miles\")\n",
    "    print(f\"CO2 emissions per tank: {vehicle.co2_per_tank} kg\")"
   ]
  },
  {
   "cell_type": "code",
   "execution_count": 16,
   "id": "4bacf8e4",
   "metadata": {},
   "outputs": [
    {
     "name": "stdout",
     "output_type": "stream",
     "text": [
      "Fuel efficiency: 35 mpg\n",
      "Fuel capacity: 15 gallons\n",
      "Passenger capacity: 5 passengers\n",
      "Transmission: automatic\n",
      "Max range: 525 miles\n",
      "CO2 emissions per tank: 133.5 kg\n"
     ]
    }
   ],
   "source": [
    "sedan = Vehicle(mpg=35, tank_size=15, passengers=5, transmission=\"automatic\")\n",
    "\n",
    "print_vehicle(sedan)"
   ]
  },
  {
   "cell_type": "code",
   "execution_count": 46,
   "id": "9162a07b",
   "metadata": {},
   "outputs": [],
   "source": [
    "class Vehicle:\n",
    "    def __init__(self, mpg=None, tank_size=None, passengers=None, transmission=None):\n",
    "        self.mpg = mpg\n",
    "        self.tank_size = tank_size\n",
    "        self.passengers = passengers\n",
    "        self.transmission = transmission\n",
    "        self.max_range = self.calculate_max_range()\n",
    "        self.co2_per_tank = self.calculate_emissions()\n",
    "        \n",
    "    def calculate_max_range(self):\n",
    "        if (self.mpg is None) or (self.tank_size is None):\n",
    "            return None\n",
    "        return self.mpg * self.tank_size\n",
    "    \n",
    "    def calculate_emissions(self):\n",
    "        if (self.mpg is None) or (self.tank_size is None):\n",
    "            return None\n",
    "        return 8.9 * self.tank_size\n",
    "    \n",
    "    def __str__(self):\n",
    "        string = f\"\"\"\n",
    "        Fuel efficiency: {self.mpg} mpg\n",
    "        Fuel capacity: {self.tank_size} gallons\n",
    "        Passenger capacity: {self.passengers} passengers\n",
    "        Transmission: {self.transmission}\n",
    "        Max range: {self.max_range} miles\n",
    "        CO2 emissions per tank: {self.co2_per_tank} kg\n",
    "        \"\"\"\n",
    "        return string"
   ]
  },
  {
   "cell_type": "code",
   "execution_count": 48,
   "id": "5afd8000",
   "metadata": {},
   "outputs": [
    {
     "name": "stdout",
     "output_type": "stream",
     "text": [
      "\n",
      "        Fuel efficiency: 35 mpg\n",
      "        Fuel capacity: 15 gallons\n",
      "        Passenger capacity: 5 passengers\n",
      "        Transmission: automatic\n",
      "        Max range: 525 miles\n",
      "        CO2 emissions per tank: 133.5 kg\n",
      "        \n"
     ]
    }
   ],
   "source": [
    "sedan = Vehicle(mpg=35, tank_size=15, passengers=5, transmission=\"automatic\")\n",
    "print(sedan)"
   ]
  },
  {
   "cell_type": "markdown",
   "id": "da343706",
   "metadata": {},
   "source": [
    "# Customize logic"
   ]
  },
  {
   "cell_type": "code",
   "execution_count": 49,
   "id": "50c9a5c6",
   "metadata": {},
   "outputs": [],
   "source": [
    "class Vehicle:\n",
    "    def __init__(self, mpg=None, tank_size=None, passengers=None, transmission=None, rating=None):\n",
    "        self.mpg = mpg\n",
    "        self.tank_size = tank_size\n",
    "        self.passengers = passengers\n",
    "        self.transmission = transmission\n",
    "        self.max_range = self.calculate_max_range()\n",
    "        self.co2_per_tank = self.calculate_emissions()\n",
    "        self.rating = rating\n",
    "        \n",
    "    def calculate_max_range(self):\n",
    "        if (self.mpg is None) or (self.tank_size is None):\n",
    "            return None\n",
    "        return self.mpg * self.tank_size\n",
    "    \n",
    "    def calculate_emissions(self):\n",
    "        if (self.mpg is None) or (self.tank_size is None):\n",
    "            return None\n",
    "        return 8.9 * self.tank_size\n",
    "    \n",
    "    def __str__(self):\n",
    "        string = f\"\"\"\n",
    "        Fuel efficiency: {self.mpg} mpg\n",
    "        Fuel capacity: {self.tank_size} gallons\n",
    "        Passenger capacity: {self.passengers} passengers\n",
    "        Transmission: {self.transmission}\n",
    "        Max range: {self.max_range} miles\n",
    "        CO2 emissions per tank: {self.co2_per_tank} kg\n",
    "        Rating: {self.rating} kg\n",
    "        \"\"\"\n",
    "        return string\n",
    "    \n",
    "    # Equal to\n",
    "    def __eq__(self, other):\n",
    "        if isinstance(other, Vehicle):\n",
    "            return self.rating == other.rating\n",
    "        else:\n",
    "            return False\n",
    "    \n",
    "    # Not equal to\n",
    "    def __ne__(self, other):\n",
    "        if isinstance(other, Vehicle):\n",
    "            return self.rating != other.rating\n",
    "        else:\n",
    "            return False\n",
    "        \n",
    "    # Less than\n",
    "    def __lt__(self, other):\n",
    "        if isinstance(other, Vehicle):\n",
    "            return self.rating < other.rating\n",
    "        else:\n",
    "            return False\n",
    "        \n",
    "    # Less than or equal to\n",
    "    def __le__(self, other):\n",
    "        if isinstance(other, Vehicle):\n",
    "            return self.rating <= other.rating\n",
    "        else:\n",
    "            return False\n",
    "    \n",
    "    # Greater than\n",
    "    def __gt__(self, other):\n",
    "        if isinstance(other, Vehicle):\n",
    "            return self.rating > other.rating\n",
    "        else:\n",
    "            return False\n",
    "    \n",
    "    # Greater than or equal to\n",
    "    def __ge__(self, other):\n",
    "        if isinstance(other, Vehicle):\n",
    "            return self.rating >= other.rating\n",
    "        else:\n",
    "            return False"
   ]
  },
  {
   "cell_type": "code",
   "execution_count": 50,
   "id": "8dc2d89e",
   "metadata": {},
   "outputs": [],
   "source": [
    "sedan = Vehicle(mpg=35, tank_size=15, passengers=5, transmission=\"automatic\", rating=4.2)\n",
    "sports_car = Vehicle(mpg=17, tank_size=15, passengers=2, transmission=\"manual\", rating=4.9)"
   ]
  },
  {
   "cell_type": "code",
   "execution_count": 52,
   "id": "5f479565",
   "metadata": {},
   "outputs": [
    {
     "name": "stdout",
     "output_type": "stream",
     "text": [
      "False\n",
      "False\n",
      "True\n",
      "True\n"
     ]
    }
   ],
   "source": [
    "print(sedan > sports_car)\n",
    "print(sedan == sports_car)\n",
    "print(sedan < sports_car)\n",
    "print(sedan != sports_car)"
   ]
  },
  {
   "cell_type": "markdown",
   "id": "46ec4c4d",
   "metadata": {},
   "source": [
    "# Let's look at a more complex example: a vector"
   ]
  },
  {
   "cell_type": "code",
   "execution_count": 41,
   "id": "6041c38b",
   "metadata": {},
   "outputs": [],
   "source": [
    "class Vector:\n",
    "    def __init__(self, values):\n",
    "        self.values = values\n",
    "\n",
    "    def __repr__(self):\n",
    "        return f\"Vector({self.values})\"\n",
    "\n",
    "    def __str__(self):\n",
    "        string_values = [str(x) for x in self.values]\n",
    "        return \" \".join(string_values)\n",
    "\n",
    "    def __eq__(self, other):\n",
    "        if isinstance(other, Vector):\n",
    "            return self.values == other.values\n",
    "        else:\n",
    "            return False\n",
    "\n",
    "    def __add__(self, other):\n",
    "        if isinstance(other, Vector):\n",
    "            if len(self.values) != len(other.values):\n",
    "                raise ValueError(\"Vectors must have the same dimensions for addition.\")\n",
    "            result = [x + y for x, y in zip(self.values, other.values)]\n",
    "            return Vector(result)\n",
    "        else:\n",
    "            raise TypeError(\"Unsupported operand type for +: Vector and {}\".format(type(other).__name__))\n",
    "\n",
    "    def __sub__(self, other):\n",
    "        if isinstance(other, Vector):\n",
    "            if len(self.values) != len(other.values):\n",
    "                raise ValueError(\"Vectors must have the same dimensions for subtraction.\")\n",
    "            result = [x - y for x, y in zip(self.values, other.values)]\n",
    "            return Vector(result)\n",
    "        else:\n",
    "            raise TypeError(\"Unsupported operand type for -: Vector and {}\".format(type(other).__name__))\n",
    "\n",
    "    def __mul__(self, other):\n",
    "        if isinstance(other, (int, float)):\n",
    "            result = [x * other for x in self.values]\n",
    "            return Vector(result)\n",
    "        else:\n",
    "            raise TypeError(\"Unsupported operand type for *: Vector and {}\".format(type(other).__name__))\n",
    "\n",
    "    def dot_product(self, other):\n",
    "        if isinstance(other, Vector):\n",
    "            if len(self.values) != len(other.values):\n",
    "                raise ValueError(\"Vectors must have the same dimensions for dot product.\")\n",
    "            result = sum(x * y for x, y in zip(self.values, other.values))\n",
    "            return result\n",
    "        else:\n",
    "            raise TypeError(\"Unsupported operand type for dot product: Vector and {}\".format(type(other).__name__))"
   ]
  },
  {
   "cell_type": "code",
   "execution_count": 44,
   "id": "eb10a919",
   "metadata": {},
   "outputs": [
    {
     "name": "stdout",
     "output_type": "stream",
     "text": [
      "v1 == v2? False\n",
      "v1 == v3? True\n",
      "5 7 9\n",
      "3 3 3\n",
      "2 4 6\n",
      "32\n"
     ]
    }
   ],
   "source": [
    "# Creating Vectors\n",
    "v1 = Vector([1, 2, 3])\n",
    "v2 = Vector([4, 5, 6])\n",
    "v3 = Vector([1, 2, 3])\n",
    "\n",
    "# Check equivalence\n",
    "print(f\"v1 == v2? {v1 == v2}\")\n",
    "print(f\"v1 == v3? {v1 == v3}\")\n",
    "\n",
    "# Using the magic functions for vector operations\n",
    "v3 = v1 + v2\n",
    "print(v3)  # [5, 7, 9]\n",
    "\n",
    "v4 = v2 - v1\n",
    "print(v4)  # [3, 3, 3]\n",
    "\n",
    "v5 = v1 * 2\n",
    "print(v5)  # [2, 4, 6]\n",
    "\n",
    "dot_product = v1.dot_product(v2)\n",
    "print(dot_product)  # 32\n"
   ]
  },
  {
   "cell_type": "code",
   "execution_count": null,
   "id": "65994cbe",
   "metadata": {},
   "outputs": [],
   "source": []
  }
 ],
 "metadata": {
  "kernelspec": {
   "display_name": "Python 3 (ipykernel)",
   "language": "python",
   "name": "python3"
  },
  "language_info": {
   "codemirror_mode": {
    "name": "ipython",
    "version": 3
   },
   "file_extension": ".py",
   "mimetype": "text/x-python",
   "name": "python",
   "nbconvert_exporter": "python",
   "pygments_lexer": "ipython3",
   "version": "3.11.5"
  }
 },
 "nbformat": 4,
 "nbformat_minor": 5
}
