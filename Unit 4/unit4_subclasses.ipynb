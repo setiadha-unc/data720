{
 "cells": [
  {
   "cell_type": "markdown",
   "id": "03af87bf",
   "metadata": {},
   "source": [
    "# Start with example class from before\n",
    "\n",
    "Also, define a function so we can print our vehicle out easily"
   ]
  },
  {
   "cell_type": "code",
   "execution_count": 1,
   "id": "3f0ee7dc",
   "metadata": {},
   "outputs": [],
   "source": [
    "class Vehicle:\n",
    "    def __init__(self, mpg=None, tank_size=None, passengers=None, transmission=None):\n",
    "        self.mpg = mpg\n",
    "        self.tank_size = tank_size\n",
    "        self.passengers = passengers\n",
    "        self.transmission = transmission\n",
    "        self.max_range = self.calculate_max_range()\n",
    "        \n",
    "    def calculate_max_range(self):\n",
    "        if (self.mpg is None) or (self.tank_size is None):\n",
    "            return None\n",
    "        return self.mpg * self.tank_size\n",
    "    \n",
    "def print_vehicle(vehicle):\n",
    "    print(f\"Fuel efficiency: {vehicle.mpg} mpg\")\n",
    "    print(f\"Fuel capacity: {vehicle.tank_size} gallons\")\n",
    "    print(f\"Passenger capacity: {vehicle.passengers} passengers\")\n",
    "    print(f\"Transmission: {vehicle.transmission}\")\n",
    "    print(f\"Max range: {vehicle.max_range} miles\")"
   ]
  },
  {
   "cell_type": "code",
   "execution_count": 2,
   "id": "ae769a18",
   "metadata": {},
   "outputs": [
    {
     "name": "stdout",
     "output_type": "stream",
     "text": [
      "Fuel efficiency: 35 mpg\n",
      "Fuel capacity: 15 gallons\n",
      "Passenger capacity: 5 passengers\n",
      "Transmission: automatic\n",
      "Max range: 525 miles\n"
     ]
    }
   ],
   "source": [
    "sedan = Vehicle(mpg=35, tank_size=15, passengers=5, transmission=\"automatic\")\n",
    "\n",
    "print_vehicle(sedan)"
   ]
  },
  {
   "cell_type": "markdown",
   "id": "c397daf6",
   "metadata": {},
   "source": [
    "# Now let's say we want to do an electric car\n",
    "Electric cars don't have gas tanks or miles per gallon ratings. Instead they have a battery which has some capacity and efficiency that determine how far they can travel. We could rewrite the who class, but it would be nice to reuse what we've already done. We can do this through `subclassing`."
   ]
  },
  {
   "cell_type": "code",
   "execution_count": 3,
   "id": "8898d7ea",
   "metadata": {},
   "outputs": [],
   "source": [
    "class ElectricVehicle(Vehicle):\n",
    "    def __init__(self, battery_capacity, battery_efficiency):\n",
    "        self.battery_capacity = battery_capacity # in kWh\n",
    "        self.battery_efficiency = battery_efficiency # in kWh/mile"
   ]
  },
  {
   "cell_type": "markdown",
   "id": "993cc1d9",
   "metadata": {},
   "source": [
    "To create a subclass, we define a new class `ElectricVehicle` and pass the parent class `Vehicle` as an argument. However, we aren't quite done yet."
   ]
  },
  {
   "cell_type": "code",
   "execution_count": 4,
   "id": "a75c3233",
   "metadata": {},
   "outputs": [
    {
     "ename": "AttributeError",
     "evalue": "'ElectricVehicle' object has no attribute 'mpg'",
     "output_type": "error",
     "traceback": [
      "\u001b[1;31m---------------------------------------------------------------------------\u001b[0m",
      "\u001b[1;31mAttributeError\u001b[0m                            Traceback (most recent call last)",
      "Cell \u001b[1;32mIn[4], line 3\u001b[0m\n\u001b[0;32m      1\u001b[0m volta \u001b[38;5;241m=\u001b[39m ElectricVehicle(battery_capacity\u001b[38;5;241m=\u001b[39m\u001b[38;5;241m85\u001b[39m, battery_efficiency\u001b[38;5;241m=\u001b[39m\u001b[38;5;241m0.341\u001b[39m)\n\u001b[1;32m----> 3\u001b[0m \u001b[43mprint_vehicle\u001b[49m\u001b[43m(\u001b[49m\u001b[43mvolta\u001b[49m\u001b[43m)\u001b[49m\n",
      "Cell \u001b[1;32mIn[1], line 15\u001b[0m, in \u001b[0;36mprint_vehicle\u001b[1;34m(vehicle)\u001b[0m\n\u001b[0;32m     14\u001b[0m \u001b[38;5;28;01mdef\u001b[39;00m \u001b[38;5;21mprint_vehicle\u001b[39m(vehicle):\n\u001b[1;32m---> 15\u001b[0m     \u001b[38;5;28mprint\u001b[39m(\u001b[38;5;124mf\u001b[39m\u001b[38;5;124m\"\u001b[39m\u001b[38;5;124mFuel efficiency: \u001b[39m\u001b[38;5;132;01m{\u001b[39;00m\u001b[43mvehicle\u001b[49m\u001b[38;5;241;43m.\u001b[39;49m\u001b[43mmpg\u001b[49m\u001b[38;5;132;01m}\u001b[39;00m\u001b[38;5;124m mpg\u001b[39m\u001b[38;5;124m\"\u001b[39m)\n\u001b[0;32m     16\u001b[0m     \u001b[38;5;28mprint\u001b[39m(\u001b[38;5;124mf\u001b[39m\u001b[38;5;124m\"\u001b[39m\u001b[38;5;124mFuel capacity: \u001b[39m\u001b[38;5;132;01m{\u001b[39;00mvehicle\u001b[38;5;241m.\u001b[39mtank_size\u001b[38;5;132;01m}\u001b[39;00m\u001b[38;5;124m gallons\u001b[39m\u001b[38;5;124m\"\u001b[39m)\n\u001b[0;32m     17\u001b[0m     \u001b[38;5;28mprint\u001b[39m(\u001b[38;5;124mf\u001b[39m\u001b[38;5;124m\"\u001b[39m\u001b[38;5;124mPassenger capacity: \u001b[39m\u001b[38;5;132;01m{\u001b[39;00mvehicle\u001b[38;5;241m.\u001b[39mpassengers\u001b[38;5;132;01m}\u001b[39;00m\u001b[38;5;124m passengers\u001b[39m\u001b[38;5;124m\"\u001b[39m)\n",
      "\u001b[1;31mAttributeError\u001b[0m: 'ElectricVehicle' object has no attribute 'mpg'"
     ]
    }
   ],
   "source": [
    "volta = ElectricVehicle(battery_capacity=85, battery_efficiency=0.341)\n",
    "\n",
    "print_vehicle(volta)"
   ]
  },
  {
   "cell_type": "markdown",
   "id": "7d54327a",
   "metadata": {},
   "source": [
    "Currently, our `ElectricVehicle` is not `inheriting` the attributes of the `Vehicle` class. To do this, we need to initiate the parent class using a `super()` function."
   ]
  },
  {
   "cell_type": "code",
   "execution_count": 122,
   "id": "eec2049d",
   "metadata": {},
   "outputs": [],
   "source": [
    "class ElectricVehicle(Vehicle):\n",
    "    def __init__(self, battery_capacity, battery_efficiency):\n",
    "        super().__init__()\n",
    "        self.battery_capacity = battery_capacity # in kWh\n",
    "        self.battery_efficiency = battery_efficiency # in kWh/mile"
   ]
  },
  {
   "cell_type": "code",
   "execution_count": 123,
   "id": "588ec52e",
   "metadata": {},
   "outputs": [
    {
     "name": "stdout",
     "output_type": "stream",
     "text": [
      "Fuel efficiency: None mpg\n",
      "Fuel capacity: None gallons\n",
      "Passenger capacity: None passengers\n",
      "Transmission: None\n",
      "Max range: None\n"
     ]
    }
   ],
   "source": [
    "volta = ElectricVehicle(battery_capacity=85, battery_efficiency=0.341)\n",
    "\n",
    "print_vehicle(volta)"
   ]
  },
  {
   "cell_type": "markdown",
   "id": "6a47c540",
   "metadata": {},
   "source": [
    "Now our new instance has access to all of the variables and functions defined in the parent class. All of the variables have a `None` value because those were the defaults given when we defined `Vehicle`. We can change those values by adding arguments to our `ElectricVehicle` class and passing those to the `super()` function."
   ]
  },
  {
   "cell_type": "code",
   "execution_count": 124,
   "id": "7b7da40e",
   "metadata": {},
   "outputs": [],
   "source": [
    "class ElectricVehicle(Vehicle):\n",
    "    def __init__(self, battery_capacity, battery_efficiency, passengers, transmission):\n",
    "        super().__init__(passengers=passengers, transmission=transmission)\n",
    "        self.battery_capacity = battery_capacity # in kWh\n",
    "        self.battery_efficiency = battery_efficiency # in kWh/mile\n",
    "        "
   ]
  },
  {
   "cell_type": "code",
   "execution_count": 125,
   "id": "d9480812",
   "metadata": {},
   "outputs": [
    {
     "name": "stdout",
     "output_type": "stream",
     "text": [
      "Fuel efficiency: None mpg\n",
      "Fuel capacity: None gallons\n",
      "Passenger capacity: 5 passengers\n",
      "Transmission: automatic\n",
      "Max range: None\n"
     ]
    }
   ],
   "source": [
    "volta = ElectricVehicle(battery_capacity=85, battery_efficiency=0.341, passengers=5, transmission=\"automatic\")\n",
    "\n",
    "print_vehicle(volta)"
   ]
  },
  {
   "cell_type": "markdown",
   "id": "0dbf0b52",
   "metadata": {},
   "source": [
    "We have populated the `passengers` and `transmission` fields, but there is a problem. Our `max_range` variable is defined by calling the `calculate_max_range()` function, which the `mpg` and `tank_size` as arguments. To prevent errors, we provide some initial logic that if either of these values is `None`, the result is `None`, which is what we get here. To change this, we can override the `calculate_max_range()` function by redefining it using the battery parameters."
   ]
  },
  {
   "cell_type": "code",
   "execution_count": 127,
   "id": "867f7cda",
   "metadata": {},
   "outputs": [],
   "source": [
    "class ElectricVehicle(Vehicle):\n",
    "    def __init__(self, battery_capacity, battery_efficiency, passengers=None, transmission=None):\n",
    "        super().__init__(passengers=passengers, transmission=transmission)\n",
    "        self.battery_capacity = battery_capacity # in kWh\n",
    "        self.battery_efficiency = battery_efficiency # in kWh/mile\n",
    "        \n",
    "    def calculate_max_range(self):\n",
    "        if (self.battery_capacity is None) or (self.battery_efficiency is None):\n",
    "            return None\n",
    "        return int(self.battery_capacity / self.battery_efficiency)\n",
    "        "
   ]
  },
  {
   "cell_type": "markdown",
   "id": "d0a51802",
   "metadata": {},
   "source": [
    "However, if we try to run this we will encounter an error."
   ]
  },
  {
   "cell_type": "code",
   "execution_count": 128,
   "id": "a0ec797d",
   "metadata": {},
   "outputs": [
    {
     "ename": "AttributeError",
     "evalue": "'ElectricVehicle' object has no attribute 'battery_capacity'",
     "output_type": "error",
     "traceback": [
      "\u001b[0;31m---------------------------------------------------------------------------\u001b[0m",
      "\u001b[0;31mAttributeError\u001b[0m                            Traceback (most recent call last)",
      "Cell \u001b[0;32mIn [128], line 1\u001b[0m\n\u001b[0;32m----> 1\u001b[0m volta \u001b[38;5;241m=\u001b[39m \u001b[43mElectricVehicle\u001b[49m\u001b[43m(\u001b[49m\u001b[43mbattery_capacity\u001b[49m\u001b[38;5;241;43m=\u001b[39;49m\u001b[38;5;241;43m85\u001b[39;49m\u001b[43m,\u001b[49m\u001b[43m \u001b[49m\u001b[43mbattery_efficiency\u001b[49m\u001b[38;5;241;43m=\u001b[39;49m\u001b[38;5;241;43m0.341\u001b[39;49m\u001b[43m,\u001b[49m\u001b[43m \u001b[49m\u001b[43mpassengers\u001b[49m\u001b[38;5;241;43m=\u001b[39;49m\u001b[38;5;241;43m5\u001b[39;49m\u001b[43m,\u001b[49m\u001b[43m \u001b[49m\u001b[43mtransmission\u001b[49m\u001b[38;5;241;43m=\u001b[39;49m\u001b[38;5;124;43m\"\u001b[39;49m\u001b[38;5;124;43mautomatic\u001b[39;49m\u001b[38;5;124;43m\"\u001b[39;49m\u001b[43m)\u001b[49m\n\u001b[1;32m      3\u001b[0m print_vehicle(volta)\n",
      "Cell \u001b[0;32mIn [127], line 3\u001b[0m, in \u001b[0;36mElectricVehicle.__init__\u001b[0;34m(self, battery_capacity, battery_efficiency, passengers, transmission)\u001b[0m\n\u001b[1;32m      2\u001b[0m \u001b[38;5;28;01mdef\u001b[39;00m \u001b[38;5;21m__init__\u001b[39m(\u001b[38;5;28mself\u001b[39m, battery_capacity, battery_efficiency, passengers\u001b[38;5;241m=\u001b[39m\u001b[38;5;28;01mNone\u001b[39;00m, transmission\u001b[38;5;241m=\u001b[39m\u001b[38;5;28;01mNone\u001b[39;00m):\n\u001b[0;32m----> 3\u001b[0m     \u001b[38;5;28;43msuper\u001b[39;49m\u001b[43m(\u001b[49m\u001b[43m)\u001b[49m\u001b[38;5;241;43m.\u001b[39;49m\u001b[38;5;21;43m__init__\u001b[39;49m\u001b[43m(\u001b[49m\u001b[43mpassengers\u001b[49m\u001b[38;5;241;43m=\u001b[39;49m\u001b[43mpassengers\u001b[49m\u001b[43m,\u001b[49m\u001b[43m \u001b[49m\u001b[43mtransmission\u001b[49m\u001b[38;5;241;43m=\u001b[39;49m\u001b[43mtransmission\u001b[49m\u001b[43m)\u001b[49m\n\u001b[1;32m      4\u001b[0m     \u001b[38;5;28mself\u001b[39m\u001b[38;5;241m.\u001b[39mbattery_capacity \u001b[38;5;241m=\u001b[39m battery_capacity \u001b[38;5;66;03m# in kWh\u001b[39;00m\n\u001b[1;32m      5\u001b[0m     \u001b[38;5;28mself\u001b[39m\u001b[38;5;241m.\u001b[39mbattery_efficiency \u001b[38;5;241m=\u001b[39m battery_efficiency\n",
      "Cell \u001b[0;32mIn [95], line 7\u001b[0m, in \u001b[0;36mVehicle.__init__\u001b[0;34m(self, mpg, tank_size, passengers, transmission)\u001b[0m\n\u001b[1;32m      5\u001b[0m \u001b[38;5;28mself\u001b[39m\u001b[38;5;241m.\u001b[39mpassengers \u001b[38;5;241m=\u001b[39m passengers\n\u001b[1;32m      6\u001b[0m \u001b[38;5;28mself\u001b[39m\u001b[38;5;241m.\u001b[39mtransmission \u001b[38;5;241m=\u001b[39m transmission\n\u001b[0;32m----> 7\u001b[0m \u001b[38;5;28mself\u001b[39m\u001b[38;5;241m.\u001b[39mmax_range \u001b[38;5;241m=\u001b[39m \u001b[38;5;28;43mself\u001b[39;49m\u001b[38;5;241;43m.\u001b[39;49m\u001b[43mcalculate_max_range\u001b[49m\u001b[43m(\u001b[49m\u001b[43m)\u001b[49m\n",
      "Cell \u001b[0;32mIn [127], line 8\u001b[0m, in \u001b[0;36mElectricVehicle.calculate_max_range\u001b[0;34m(self)\u001b[0m\n\u001b[1;32m      7\u001b[0m \u001b[38;5;28;01mdef\u001b[39;00m \u001b[38;5;21mcalculate_max_range\u001b[39m(\u001b[38;5;28mself\u001b[39m):\n\u001b[0;32m----> 8\u001b[0m     \u001b[38;5;28;01mif\u001b[39;00m (\u001b[38;5;28;43mself\u001b[39;49m\u001b[38;5;241;43m.\u001b[39;49m\u001b[43mbattery_capacity\u001b[49m \u001b[38;5;129;01mis\u001b[39;00m \u001b[38;5;28;01mNone\u001b[39;00m) \u001b[38;5;129;01mor\u001b[39;00m (\u001b[38;5;28mself\u001b[39m\u001b[38;5;241m.\u001b[39mbattery_efficiency \u001b[38;5;129;01mis\u001b[39;00m \u001b[38;5;28;01mNone\u001b[39;00m):\n\u001b[1;32m      9\u001b[0m         \u001b[38;5;28;01mreturn\u001b[39;00m \u001b[38;5;28;01mNone\u001b[39;00m\n\u001b[1;32m     10\u001b[0m     \u001b[38;5;28;01mreturn\u001b[39;00m \u001b[38;5;28mint\u001b[39m(\u001b[38;5;28mself\u001b[39m\u001b[38;5;241m.\u001b[39mbattery_capacity \u001b[38;5;241m/\u001b[39m \u001b[38;5;28mself\u001b[39m\u001b[38;5;241m.\u001b[39mbattery_efficiency)\n",
      "\u001b[0;31mAttributeError\u001b[0m: 'ElectricVehicle' object has no attribute 'battery_capacity'"
     ]
    }
   ],
   "source": [
    "volta = ElectricVehicle(battery_capacity=85, battery_efficiency=0.341, passengers=5, transmission=\"automatic\")\n",
    "\n",
    "print_vehicle(volta)"
   ]
  },
  {
   "cell_type": "markdown",
   "id": "72d69ae7",
   "metadata": {},
   "source": [
    "The error arises from our order of operations. Here we have redefined the `calculate_max_range()` function, which overrides the existing function definition in `Vehicle`. When we called the `super()` function, the parent class has tried to define `max_range` by calling the updated `calculate_max_range()` function. Unfortunately, we haven't defined the `battery_capacity` attribute, which results in this error. We can easily correct it by moving the `super()` call to after we define our battery attributes."
   ]
  },
  {
   "cell_type": "code",
   "execution_count": 129,
   "id": "77e8365d",
   "metadata": {},
   "outputs": [],
   "source": [
    "class ElectricVehicle(Vehicle):\n",
    "    def __init__(self, battery_capacity, battery_efficiency, passengers=None, transmission=None):\n",
    "        self.battery_capacity = battery_capacity # in kWh\n",
    "        self.battery_efficiency = battery_efficiency # in kWh/mile\n",
    "        super().__init__(passengers=passengers, transmission=transmission)\n",
    "        \n",
    "    def calculate_max_range(self):\n",
    "        if (self.battery_capacity is None) or (self.battery_efficiency is None):\n",
    "            return None\n",
    "        return int(self.battery_capacity / self.battery_efficiency)\n",
    "        "
   ]
  },
  {
   "cell_type": "code",
   "execution_count": 130,
   "id": "4fcbc96f",
   "metadata": {},
   "outputs": [
    {
     "name": "stdout",
     "output_type": "stream",
     "text": [
      "Fuel efficiency: None mpg\n",
      "Fuel capacity: None gallons\n",
      "Passenger capacity: 5 passengers\n",
      "Transmission: automatic\n",
      "Max range: 249\n"
     ]
    }
   ],
   "source": [
    "volta = ElectricVehicle(battery_capacity=85, battery_efficiency=0.341, passengers=5, transmission=\"automatic\")\n",
    "\n",
    "print_vehicle(volta)"
   ]
  },
  {
   "cell_type": "markdown",
   "id": "17e3b00c",
   "metadata": {},
   "source": [
    "# Propagation of class changes\n",
    "One benefit of subclassing is that you can make changes to the parent class and those changes will be inherited by the child class. Let's say we want our vehicle class to calculate the carbon footprint caused by consumption of a tank of fuel. The US Environmental Protection Agency estimates that 8.9 kg of CO2 are emitted for every gallon of gasoline burned (https://www.epa.gov/greenvehicles/tailpipe-greenhouse-gas-emissions-typical-passenger-vehicle)."
   ]
  },
  {
   "cell_type": "code",
   "execution_count": 132,
   "id": "e56c1106",
   "metadata": {},
   "outputs": [],
   "source": [
    "class Vehicle:\n",
    "    def __init__(self, mpg=None, tank_size=None, passengers=None, transmission=None):\n",
    "        self.mpg = mpg\n",
    "        self.tank_size = tank_size\n",
    "        self.passengers = passengers\n",
    "        self.transmission = transmission\n",
    "        self.max_range = self.calculate_max_range()\n",
    "        self.co2_per_tank = self.calculate_emissions()\n",
    "        \n",
    "    def calculate_max_range(self):\n",
    "        if (self.mpg is None) or (self.tank_size is None):\n",
    "            return None\n",
    "        return self.mpg * self.tank_size\n",
    "    \n",
    "    def calculate_emissions(self):\n",
    "        if (self.mpg is None) or (self.tank_size is None):\n",
    "            return None\n",
    "        return 8.9 * self.tank_size\n",
    "    \n",
    "def print_vehicle(vehicle):\n",
    "    print(f\"Fuel efficiency: {vehicle.mpg} mpg\")\n",
    "    print(f\"Fuel capacity: {vehicle.tank_size} gallons\")\n",
    "    print(f\"Passenger capacity: {vehicle.passengers} passengers\")\n",
    "    print(f\"Transmission: {vehicle.transmission}\")\n",
    "    print(f\"Max range: {vehicle.max_range} miles\")\n",
    "    print(f\"CO2 emissions per tank: {vehicle.co2_per_tank} kg\")"
   ]
  },
  {
   "cell_type": "code",
   "execution_count": 133,
   "id": "4c35fa04",
   "metadata": {},
   "outputs": [
    {
     "name": "stdout",
     "output_type": "stream",
     "text": [
      "Fuel efficiency: 35 mpg\n",
      "Fuel capacity: 15 gallons\n",
      "Passenger capacity: 5 passengers\n",
      "Transmission: automatic\n",
      "Max range: 525\n",
      "CO2 emissions per tank: 133.5 kg\n"
     ]
    }
   ],
   "source": [
    "sedan = Vehicle(mpg=35, tank_size=15, passengers=5, transmission=\"automatic\")\n",
    "\n",
    "print_vehicle(sedan)"
   ]
  },
  {
   "cell_type": "markdown",
   "id": "b2ffcb41",
   "metadata": {},
   "source": [
    "Without changing anything in our `ElectricVehicle` class, we can run the definition code again and then all new instances will be updated with the new class attributes."
   ]
  },
  {
   "cell_type": "code",
   "execution_count": 135,
   "id": "50780d6d",
   "metadata": {},
   "outputs": [],
   "source": [
    "class ElectricVehicle(Vehicle):\n",
    "    def __init__(self, battery_capacity, battery_efficiency, passengers=None, transmission=None):\n",
    "        self.battery_capacity = battery_capacity # in kWh\n",
    "        self.battery_efficiency = battery_efficiency # in kWh/mile\n",
    "        super().__init__(passengers=passengers, transmission=transmission)\n",
    "        \n",
    "    def calculate_max_range(self):\n",
    "        if (self.battery_capacity is None) or (self.battery_efficiency is None):\n",
    "            return None\n",
    "        return int(self.battery_capacity / self.battery_efficiency)\n"
   ]
  },
  {
   "cell_type": "code",
   "execution_count": 136,
   "id": "2c4b1f97",
   "metadata": {},
   "outputs": [
    {
     "name": "stdout",
     "output_type": "stream",
     "text": [
      "Fuel efficiency: None mpg\n",
      "Fuel capacity: None gallons\n",
      "Passenger capacity: 5 passengers\n",
      "Transmission: automatic\n",
      "Max range: 249\n",
      "CO2 emissions per tank: None kg\n"
     ]
    }
   ],
   "source": [
    "volta = ElectricVehicle(battery_capacity=85, battery_efficiency=0.341, passengers=5, transmission=\"automatic\")\n",
    "\n",
    "print_vehicle(volta)"
   ]
  },
  {
   "cell_type": "code",
   "execution_count": null,
   "id": "0deb3fc0",
   "metadata": {},
   "outputs": [],
   "source": []
  }
 ],
 "metadata": {
  "kernelspec": {
   "display_name": "Python 3",
   "language": "python",
   "name": "python3"
  },
  "language_info": {
   "codemirror_mode": {
    "name": "ipython",
    "version": 3
   },
   "file_extension": ".py",
   "mimetype": "text/x-python",
   "name": "python",
   "nbconvert_exporter": "python",
   "pygments_lexer": "ipython3",
   "version": "3.12.5"
  }
 },
 "nbformat": 4,
 "nbformat_minor": 5
}
