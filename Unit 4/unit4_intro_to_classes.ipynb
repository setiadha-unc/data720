{
 "cells": [
  {
   "cell_type": "markdown",
   "id": "7d897f0c",
   "metadata": {},
   "source": [
    "# Primitive data structures aren't intended for complex data"
   ]
  },
  {
   "cell_type": "markdown",
   "id": "340f2d93",
   "metadata": {},
   "source": [
    "Let's say for any vehicle, we want to store some basic values associated with it\n",
    "- miles per gallon (mpg)\n",
    "- fuel tank size\n",
    "- max passengers\n",
    "- transmission"
   ]
  },
  {
   "cell_type": "markdown",
   "id": "3ba9e5ad",
   "metadata": {},
   "source": [
    "We could store it as a list"
   ]
  },
  {
   "cell_type": "code",
   "execution_count": 12,
   "id": "a4ad2220",
   "metadata": {},
   "outputs": [],
   "source": [
    "sedan = [35, 15, 5, \"automatic\"]"
   ]
  },
  {
   "cell_type": "markdown",
   "id": "d38706d1",
   "metadata": {},
   "source": [
    "What happens if we have missing data? For example, what if we want to define a pickup truck, but don't know how big the gas tank is"
   ]
  },
  {
   "cell_type": "code",
   "execution_count": 13,
   "id": "6ff3a02a",
   "metadata": {},
   "outputs": [],
   "source": [
    "pickup = [20, 3, \"automatic\"]"
   ]
  },
  {
   "cell_type": "markdown",
   "id": "4431091f",
   "metadata": {},
   "source": [
    "If we try to call the number of passengers, we have to use different indexes"
   ]
  },
  {
   "cell_type": "code",
   "execution_count": 14,
   "id": "d682f052",
   "metadata": {},
   "outputs": [
    {
     "name": "stdout",
     "output_type": "stream",
     "text": [
      "Sedan capacity: 5 passengers\n",
      "Pickup capacity: 3 passengers\n"
     ]
    }
   ],
   "source": [
    "print(f\"Sedan capacity: {sedan[2]} passengers\")\n",
    "print(f\"Pickup capacity: {pickup[1]} passengers\")"
   ]
  },
  {
   "cell_type": "markdown",
   "id": "1ce8fada",
   "metadata": {},
   "source": [
    "Alternatively, we could use a dictionary. Using the dictionary keys, missing data won't affect the call."
   ]
  },
  {
   "cell_type": "code",
   "execution_count": 15,
   "id": "4ab433bd",
   "metadata": {},
   "outputs": [
    {
     "name": "stdout",
     "output_type": "stream",
     "text": [
      "Sedan capacity: 5 passengers\n",
      "Pickup capacity: 3 passengers\n"
     ]
    }
   ],
   "source": [
    "sedan = {\"mpg\": 35, \"tank_size\": 15, \"passengers\": 5, \"transmission\": \"automatic\"}\n",
    "pickup = {\"mpg\": 20, \"passengers\": 3, \"transmission\": \"automatic\"}\n",
    "\n",
    "print(f\"Sedan capacity: {sedan['passengers']} passengers\")\n",
    "print(f\"Pickup capacity: {pickup['passengers']} passengers\")"
   ]
  },
  {
   "cell_type": "markdown",
   "id": "dabda4ab",
   "metadata": {},
   "source": [
    "The downside of this approach is that every time a new vehicle is added, each field will have to be written out manually. As the data become more complicated, defining a new vehicle requires more complex code."
   ]
  },
  {
   "cell_type": "markdown",
   "id": "ef86191e",
   "metadata": {},
   "source": [
    "Let's look at another issue with a dictionary approach. Because we have the fuel tank capacity in gallons and the fuel efficiency in miles per gallon, we can define a function to calculate the maximum range of the vehicle by multiplying those two values."
   ]
  },
  {
   "cell_type": "code",
   "execution_count": 16,
   "id": "d0163b10",
   "metadata": {},
   "outputs": [],
   "source": [
    "def calculate_max_range(vehicle):\n",
    "    return vehicle[\"mpg\"] * vehicle[\"tank_size\"]"
   ]
  },
  {
   "cell_type": "markdown",
   "id": "4e2660b2",
   "metadata": {},
   "source": [
    "Now we can add a new field to the dictionary for the maximum range"
   ]
  },
  {
   "cell_type": "code",
   "execution_count": 17,
   "id": "cb63699c",
   "metadata": {},
   "outputs": [
    {
     "name": "stdout",
     "output_type": "stream",
     "text": [
      "Sedan max range: 525 miles\n"
     ]
    }
   ],
   "source": [
    "sedan[\"max_range\"] = calculate_max_range(sedan)\n",
    "print(f\"Sedan max range: {sedan['max_range']} miles\")"
   ]
  },
  {
   "cell_type": "markdown",
   "id": "91809181",
   "metadata": {},
   "source": [
    "However, this field can't be defined at the same time as our dictionary because the variable hasn't been instantiated yet"
   ]
  },
  {
   "cell_type": "code",
   "execution_count": 19,
   "id": "3fefcec3",
   "metadata": {},
   "outputs": [
    {
     "ename": "NameError",
     "evalue": "name 'sports_car' is not defined",
     "output_type": "error",
     "traceback": [
      "\u001b[0;31m---------------------------------------------------------------------------\u001b[0m",
      "\u001b[0;31mNameError\u001b[0m                                 Traceback (most recent call last)",
      "Cell \u001b[0;32mIn [19], line 6\u001b[0m\n\u001b[1;32m      1\u001b[0m sports_car \u001b[38;5;241m=\u001b[39m {\n\u001b[1;32m      2\u001b[0m     \u001b[38;5;124m\"\u001b[39m\u001b[38;5;124mmpg\u001b[39m\u001b[38;5;124m\"\u001b[39m: \u001b[38;5;241m17\u001b[39m,\n\u001b[1;32m      3\u001b[0m     \u001b[38;5;124m\"\u001b[39m\u001b[38;5;124mtank_size\u001b[39m\u001b[38;5;124m\"\u001b[39m: \u001b[38;5;241m20\u001b[39m,\n\u001b[1;32m      4\u001b[0m     \u001b[38;5;124m\"\u001b[39m\u001b[38;5;124mpassengers\u001b[39m\u001b[38;5;124m\"\u001b[39m: \u001b[38;5;241m2\u001b[39m,\n\u001b[1;32m      5\u001b[0m     \u001b[38;5;124m\"\u001b[39m\u001b[38;5;124mtransmission\u001b[39m\u001b[38;5;124m\"\u001b[39m: \u001b[38;5;124m\"\u001b[39m\u001b[38;5;124mmanual\u001b[39m\u001b[38;5;124m\"\u001b[39m,\n\u001b[0;32m----> 6\u001b[0m     \u001b[38;5;124m\"\u001b[39m\u001b[38;5;124mmax_range\u001b[39m\u001b[38;5;124m\"\u001b[39m: calculate_max_range(\u001b[43msports_car\u001b[49m)\n\u001b[1;32m      7\u001b[0m }\n",
      "\u001b[0;31mNameError\u001b[0m: name 'sports_car' is not defined"
     ]
    }
   ],
   "source": [
    "sports_car = {\n",
    "    \"mpg\": 17,\n",
    "    \"tank_size\": 15,\n",
    "    \"passengers\": 2,\n",
    "    \"transmission\": \"manual\",\n",
    "    \"max_range\": calculate_max_range(sports_car)\n",
    "}"
   ]
  },
  {
   "cell_type": "markdown",
   "id": "69714a90",
   "metadata": {},
   "source": [
    "The result is that if we want to define a new vehicle and use a function to calculate a value for a new field, we have to first define the vehicle and then perform the `max_range` assignment in a second line of code."
   ]
  },
  {
   "cell_type": "code",
   "execution_count": 21,
   "id": "c4582a6d",
   "metadata": {},
   "outputs": [
    {
     "name": "stdout",
     "output_type": "stream",
     "text": [
      "Sports car max range: 255 miles\n"
     ]
    }
   ],
   "source": [
    "sports_car = {\n",
    "    \"mpg\": 17,\n",
    "    \"tank_size\": 15,\n",
    "    \"passengers\": 2,\n",
    "    \"transmission\": \"manual\",\n",
    "}\n",
    "sports_car[\"max_range\"] = calculate_max_range(sports_car)\n",
    "print(f\"Sports car max range: {sports_car['max_range']} miles\")"
   ]
  },
  {
   "cell_type": "markdown",
   "id": "ab57e74d",
   "metadata": {},
   "source": [
    "If you need to calculate values for many fields using the other values associated with the vehicle, this problem becomes unsustainable quickly."
   ]
  },
  {
   "cell_type": "markdown",
   "id": "56e4d69a",
   "metadata": {},
   "source": [
    "# Classes in Python"
   ]
  },
  {
   "cell_type": "markdown",
   "id": "9ee0a645",
   "metadata": {},
   "source": [
    "A `Class` is an object that serves as a blueprint for data structures. Let's think about an example of a built-in Python class: strings. We have used strings in many different ways so far in this course and even used some of the more advanced operations associated with `Class` objects. If we use the `help()` function, we can get a better idea of what is associated with the `str` class."
   ]
  },
  {
   "cell_type": "code",
   "execution_count": 24,
   "id": "ecb3459e",
   "metadata": {},
   "outputs": [
    {
     "name": "stdout",
     "output_type": "stream",
     "text": [
      "Help on class str in module builtins:\n",
      "\n",
      "class str(object)\n",
      " |  str(object='') -> str\n",
      " |  str(bytes_or_buffer[, encoding[, errors]]) -> str\n",
      " |  \n",
      " |  Create a new string object from the given object. If encoding or\n",
      " |  errors is specified, then the object must expose a data buffer\n",
      " |  that will be decoded using the given encoding and error handler.\n",
      " |  Otherwise, returns the result of object.__str__() (if defined)\n",
      " |  or repr(object).\n",
      " |  encoding defaults to sys.getdefaultencoding().\n",
      " |  errors defaults to 'strict'.\n",
      " |  \n",
      " |  Methods defined here:\n",
      " |  \n",
      " |  __add__(self, value, /)\n",
      " |      Return self+value.\n",
      " |  \n",
      " |  __contains__(self, key, /)\n",
      " |      Return key in self.\n",
      " |  \n",
      " |  __eq__(self, value, /)\n",
      " |      Return self==value.\n",
      " |  \n",
      " |  __format__(self, format_spec, /)\n",
      " |      Return a formatted version of the string as described by format_spec.\n",
      " |  \n",
      " |  __ge__(self, value, /)\n",
      " |      Return self>=value.\n",
      " |  \n",
      " |  __getattribute__(self, name, /)\n",
      " |      Return getattr(self, name).\n",
      " |  \n",
      " |  __getitem__(self, key, /)\n",
      " |      Return self[key].\n",
      " |  \n",
      " |  __getnewargs__(...)\n",
      " |  \n",
      " |  __gt__(self, value, /)\n",
      " |      Return self>value.\n",
      " |  \n",
      " |  __hash__(self, /)\n",
      " |      Return hash(self).\n",
      " |  \n",
      " |  __iter__(self, /)\n",
      " |      Implement iter(self).\n",
      " |  \n",
      " |  __le__(self, value, /)\n",
      " |      Return self<=value.\n",
      " |  \n",
      " |  __len__(self, /)\n",
      " |      Return len(self).\n",
      " |  \n",
      " |  __lt__(self, value, /)\n",
      " |      Return self<value.\n",
      " |  \n",
      " |  __mod__(self, value, /)\n",
      " |      Return self%value.\n",
      " |  \n",
      " |  __mul__(self, value, /)\n",
      " |      Return self*value.\n",
      " |  \n",
      " |  __ne__(self, value, /)\n",
      " |      Return self!=value.\n",
      " |  \n",
      " |  __repr__(self, /)\n",
      " |      Return repr(self).\n",
      " |  \n",
      " |  __rmod__(self, value, /)\n",
      " |      Return value%self.\n",
      " |  \n",
      " |  __rmul__(self, value, /)\n",
      " |      Return value*self.\n",
      " |  \n",
      " |  __sizeof__(self, /)\n",
      " |      Return the size of the string in memory, in bytes.\n",
      " |  \n",
      " |  __str__(self, /)\n",
      " |      Return str(self).\n",
      " |  \n",
      " |  capitalize(self, /)\n",
      " |      Return a capitalized version of the string.\n",
      " |      \n",
      " |      More specifically, make the first character have upper case and the rest lower\n",
      " |      case.\n",
      " |  \n",
      " |  casefold(self, /)\n",
      " |      Return a version of the string suitable for caseless comparisons.\n",
      " |  \n",
      " |  center(self, width, fillchar=' ', /)\n",
      " |      Return a centered string of length width.\n",
      " |      \n",
      " |      Padding is done using the specified fill character (default is a space).\n",
      " |  \n",
      " |  count(...)\n",
      " |      S.count(sub[, start[, end]]) -> int\n",
      " |      \n",
      " |      Return the number of non-overlapping occurrences of substring sub in\n",
      " |      string S[start:end].  Optional arguments start and end are\n",
      " |      interpreted as in slice notation.\n",
      " |  \n",
      " |  encode(self, /, encoding='utf-8', errors='strict')\n",
      " |      Encode the string using the codec registered for encoding.\n",
      " |      \n",
      " |      encoding\n",
      " |        The encoding in which to encode the string.\n",
      " |      errors\n",
      " |        The error handling scheme to use for encoding errors.\n",
      " |        The default is 'strict' meaning that encoding errors raise a\n",
      " |        UnicodeEncodeError.  Other possible values are 'ignore', 'replace' and\n",
      " |        'xmlcharrefreplace' as well as any other name registered with\n",
      " |        codecs.register_error that can handle UnicodeEncodeErrors.\n",
      " |  \n",
      " |  endswith(...)\n",
      " |      S.endswith(suffix[, start[, end]]) -> bool\n",
      " |      \n",
      " |      Return True if S ends with the specified suffix, False otherwise.\n",
      " |      With optional start, test S beginning at that position.\n",
      " |      With optional end, stop comparing S at that position.\n",
      " |      suffix can also be a tuple of strings to try.\n",
      " |  \n",
      " |  expandtabs(self, /, tabsize=8)\n",
      " |      Return a copy where all tab characters are expanded using spaces.\n",
      " |      \n",
      " |      If tabsize is not given, a tab size of 8 characters is assumed.\n",
      " |  \n",
      " |  find(...)\n",
      " |      S.find(sub[, start[, end]]) -> int\n",
      " |      \n",
      " |      Return the lowest index in S where substring sub is found,\n",
      " |      such that sub is contained within S[start:end].  Optional\n",
      " |      arguments start and end are interpreted as in slice notation.\n",
      " |      \n",
      " |      Return -1 on failure.\n",
      " |  \n",
      " |  format(...)\n",
      " |      S.format(*args, **kwargs) -> str\n",
      " |      \n",
      " |      Return a formatted version of S, using substitutions from args and kwargs.\n",
      " |      The substitutions are identified by braces ('{' and '}').\n",
      " |  \n",
      " |  format_map(...)\n",
      " |      S.format_map(mapping) -> str\n",
      " |      \n",
      " |      Return a formatted version of S, using substitutions from mapping.\n",
      " |      The substitutions are identified by braces ('{' and '}').\n",
      " |  \n",
      " |  index(...)\n",
      " |      S.index(sub[, start[, end]]) -> int\n",
      " |      \n",
      " |      Return the lowest index in S where substring sub is found,\n",
      " |      such that sub is contained within S[start:end].  Optional\n",
      " |      arguments start and end are interpreted as in slice notation.\n",
      " |      \n",
      " |      Raises ValueError when the substring is not found.\n",
      " |  \n",
      " |  isalnum(self, /)\n",
      " |      Return True if the string is an alpha-numeric string, False otherwise.\n",
      " |      \n",
      " |      A string is alpha-numeric if all characters in the string are alpha-numeric and\n",
      " |      there is at least one character in the string.\n",
      " |  \n",
      " |  isalpha(self, /)\n",
      " |      Return True if the string is an alphabetic string, False otherwise.\n",
      " |      \n",
      " |      A string is alphabetic if all characters in the string are alphabetic and there\n",
      " |      is at least one character in the string.\n",
      " |  \n",
      " |  isascii(self, /)\n",
      " |      Return True if all characters in the string are ASCII, False otherwise.\n",
      " |      \n",
      " |      ASCII characters have code points in the range U+0000-U+007F.\n",
      " |      Empty string is ASCII too.\n",
      " |  \n",
      " |  isdecimal(self, /)\n",
      " |      Return True if the string is a decimal string, False otherwise.\n",
      " |      \n",
      " |      A string is a decimal string if all characters in the string are decimal and\n",
      " |      there is at least one character in the string.\n",
      " |  \n",
      " |  isdigit(self, /)\n",
      " |      Return True if the string is a digit string, False otherwise.\n",
      " |      \n",
      " |      A string is a digit string if all characters in the string are digits and there\n",
      " |      is at least one character in the string.\n",
      " |  \n",
      " |  isidentifier(self, /)\n",
      " |      Return True if the string is a valid Python identifier, False otherwise.\n",
      " |      \n",
      " |      Call keyword.iskeyword(s) to test whether string s is a reserved identifier,\n",
      " |      such as \"def\" or \"class\".\n",
      " |  \n",
      " |  islower(self, /)\n",
      " |      Return True if the string is a lowercase string, False otherwise.\n",
      " |      \n",
      " |      A string is lowercase if all cased characters in the string are lowercase and\n",
      " |      there is at least one cased character in the string.\n",
      " |  \n",
      " |  isnumeric(self, /)\n",
      " |      Return True if the string is a numeric string, False otherwise.\n",
      " |      \n",
      " |      A string is numeric if all characters in the string are numeric and there is at\n",
      " |      least one character in the string.\n",
      " |  \n",
      " |  isprintable(self, /)\n",
      " |      Return True if the string is printable, False otherwise.\n",
      " |      \n",
      " |      A string is printable if all of its characters are considered printable in\n",
      " |      repr() or if it is empty.\n",
      " |  \n",
      " |  isspace(self, /)\n",
      " |      Return True if the string is a whitespace string, False otherwise.\n",
      " |      \n",
      " |      A string is whitespace if all characters in the string are whitespace and there\n",
      " |      is at least one character in the string.\n",
      " |  \n",
      " |  istitle(self, /)\n",
      " |      Return True if the string is a title-cased string, False otherwise.\n",
      " |      \n",
      " |      In a title-cased string, upper- and title-case characters may only\n",
      " |      follow uncased characters and lowercase characters only cased ones.\n",
      " |  \n",
      " |  isupper(self, /)\n",
      " |      Return True if the string is an uppercase string, False otherwise.\n",
      " |      \n",
      " |      A string is uppercase if all cased characters in the string are uppercase and\n",
      " |      there is at least one cased character in the string.\n",
      " |  \n",
      " |  join(self, iterable, /)\n",
      " |      Concatenate any number of strings.\n",
      " |      \n",
      " |      The string whose method is called is inserted in between each given string.\n",
      " |      The result is returned as a new string.\n",
      " |      \n",
      " |      Example: '.'.join(['ab', 'pq', 'rs']) -> 'ab.pq.rs'\n",
      " |  \n",
      " |  ljust(self, width, fillchar=' ', /)\n",
      " |      Return a left-justified string of length width.\n",
      " |      \n",
      " |      Padding is done using the specified fill character (default is a space).\n",
      " |  \n",
      " |  lower(self, /)\n",
      " |      Return a copy of the string converted to lowercase.\n",
      " |  \n",
      " |  lstrip(self, chars=None, /)\n",
      " |      Return a copy of the string with leading whitespace removed.\n",
      " |      \n",
      " |      If chars is given and not None, remove characters in chars instead.\n",
      " |  \n",
      " |  partition(self, sep, /)\n",
      " |      Partition the string into three parts using the given separator.\n",
      " |      \n",
      " |      This will search for the separator in the string.  If the separator is found,\n",
      " |      returns a 3-tuple containing the part before the separator, the separator\n",
      " |      itself, and the part after it.\n",
      " |      \n",
      " |      If the separator is not found, returns a 3-tuple containing the original string\n",
      " |      and two empty strings.\n",
      " |  \n",
      " |  replace(self, old, new, count=-1, /)\n",
      " |      Return a copy with all occurrences of substring old replaced by new.\n",
      " |      \n",
      " |        count\n",
      " |          Maximum number of occurrences to replace.\n",
      " |          -1 (the default value) means replace all occurrences.\n",
      " |      \n",
      " |      If the optional argument count is given, only the first count occurrences are\n",
      " |      replaced.\n",
      " |  \n",
      " |  rfind(...)\n",
      " |      S.rfind(sub[, start[, end]]) -> int\n",
      " |      \n",
      " |      Return the highest index in S where substring sub is found,\n",
      " |      such that sub is contained within S[start:end].  Optional\n",
      " |      arguments start and end are interpreted as in slice notation.\n",
      " |      \n",
      " |      Return -1 on failure.\n",
      " |  \n",
      " |  rindex(...)\n",
      " |      S.rindex(sub[, start[, end]]) -> int\n",
      " |      \n",
      " |      Return the highest index in S where substring sub is found,\n",
      " |      such that sub is contained within S[start:end].  Optional\n",
      " |      arguments start and end are interpreted as in slice notation.\n",
      " |      \n",
      " |      Raises ValueError when the substring is not found.\n",
      " |  \n",
      " |  rjust(self, width, fillchar=' ', /)\n",
      " |      Return a right-justified string of length width.\n",
      " |      \n",
      " |      Padding is done using the specified fill character (default is a space).\n",
      " |  \n",
      " |  rpartition(self, sep, /)\n",
      " |      Partition the string into three parts using the given separator.\n",
      " |      \n",
      " |      This will search for the separator in the string, starting at the end. If\n",
      " |      the separator is found, returns a 3-tuple containing the part before the\n",
      " |      separator, the separator itself, and the part after it.\n",
      " |      \n",
      " |      If the separator is not found, returns a 3-tuple containing two empty strings\n",
      " |      and the original string.\n",
      " |  \n",
      " |  rsplit(self, /, sep=None, maxsplit=-1)\n",
      " |      Return a list of the words in the string, using sep as the delimiter string.\n",
      " |      \n",
      " |        sep\n",
      " |          The delimiter according which to split the string.\n",
      " |          None (the default value) means split according to any whitespace,\n",
      " |          and discard empty strings from the result.\n",
      " |        maxsplit\n",
      " |          Maximum number of splits to do.\n",
      " |          -1 (the default value) means no limit.\n",
      " |      \n",
      " |      Splits are done starting at the end of the string and working to the front.\n",
      " |  \n",
      " |  rstrip(self, chars=None, /)\n",
      " |      Return a copy of the string with trailing whitespace removed.\n",
      " |      \n",
      " |      If chars is given and not None, remove characters in chars instead.\n",
      " |  \n",
      " |  split(self, /, sep=None, maxsplit=-1)\n",
      " |      Return a list of the words in the string, using sep as the delimiter string.\n",
      " |      \n",
      " |      sep\n",
      " |        The delimiter according which to split the string.\n",
      " |        None (the default value) means split according to any whitespace,\n",
      " |        and discard empty strings from the result.\n",
      " |      maxsplit\n",
      " |        Maximum number of splits to do.\n",
      " |        -1 (the default value) means no limit.\n",
      " |  \n",
      " |  splitlines(self, /, keepends=False)\n",
      " |      Return a list of the lines in the string, breaking at line boundaries.\n",
      " |      \n",
      " |      Line breaks are not included in the resulting list unless keepends is given and\n",
      " |      true.\n",
      " |  \n",
      " |  startswith(...)\n",
      " |      S.startswith(prefix[, start[, end]]) -> bool\n",
      " |      \n",
      " |      Return True if S starts with the specified prefix, False otherwise.\n",
      " |      With optional start, test S beginning at that position.\n",
      " |      With optional end, stop comparing S at that position.\n",
      " |      prefix can also be a tuple of strings to try.\n",
      " |  \n",
      " |  strip(self, chars=None, /)\n",
      " |      Return a copy of the string with leading and trailing whitespace removed.\n",
      " |      \n",
      " |      If chars is given and not None, remove characters in chars instead.\n",
      " |  \n",
      " |  swapcase(self, /)\n",
      " |      Convert uppercase characters to lowercase and lowercase characters to uppercase.\n",
      " |  \n",
      " |  title(self, /)\n",
      " |      Return a version of the string where each word is titlecased.\n",
      " |      \n",
      " |      More specifically, words start with uppercased characters and all remaining\n",
      " |      cased characters have lower case.\n",
      " |  \n",
      " |  translate(self, table, /)\n",
      " |      Replace each character in the string using the given translation table.\n",
      " |      \n",
      " |        table\n",
      " |          Translation table, which must be a mapping of Unicode ordinals to\n",
      " |          Unicode ordinals, strings, or None.\n",
      " |      \n",
      " |      The table must implement lookup/indexing via __getitem__, for instance a\n",
      " |      dictionary or list.  If this operation raises LookupError, the character is\n",
      " |      left untouched.  Characters mapped to None are deleted.\n",
      " |  \n",
      " |  upper(self, /)\n",
      " |      Return a copy of the string converted to uppercase.\n",
      " |  \n",
      " |  zfill(self, width, /)\n",
      " |      Pad a numeric string with zeros on the left, to fill a field of the given width.\n",
      " |      \n",
      " |      The string is never truncated.\n",
      " |  \n",
      " |  ----------------------------------------------------------------------\n",
      " |  Static methods defined here:\n",
      " |  \n",
      " |  __new__(*args, **kwargs) from builtins.type\n",
      " |      Create and return a new object.  See help(type) for accurate signature.\n",
      " |  \n",
      " |  maketrans(...)\n",
      " |      Return a translation table usable for str.translate().\n",
      " |      \n",
      " |      If there is only one argument, it must be a dictionary mapping Unicode\n",
      " |      ordinals (integers) or characters to Unicode ordinals, strings or None.\n",
      " |      Character keys will be then converted to ordinals.\n",
      " |      If there are two arguments, they must be strings of equal length, and\n",
      " |      in the resulting dictionary, each character in x will be mapped to the\n",
      " |      character at the same position in y. If there is a third argument, it\n",
      " |      must be a string, whose characters will be mapped to None in the result.\n",
      "\n"
     ]
    }
   ],
   "source": [
    "help(str) # THIS ONE MIGHT BE TOO COMPLICATED, although most built-ins will be..."
   ]
  },
  {
   "cell_type": "markdown",
   "id": "0a1d2a59",
   "metadata": {},
   "source": [
    "We can define a custom class for our example vehicles. Let's start without defining anything within the class:"
   ]
  },
  {
   "cell_type": "code",
   "execution_count": 28,
   "id": "5739f484",
   "metadata": {},
   "outputs": [],
   "source": [
    "class Vehicle:\n",
    "    pass"
   ]
  },
  {
   "cell_type": "markdown",
   "id": "99841a74",
   "metadata": {},
   "source": [
    "A couple of points immediately stand out. First, unlike the conventional `snake_case` used for naming variables and functions, classes employ a `CapitalizedWord` convention. Second, while defining functions, expected arguments are contained in parentheses. Adding parentheses to a class definition performs a different task that will be covered later. Instead, arguments passed to the class are handled by the `__init__()` function, which runs whenever a new `instance` of the class is defined."
   ]
  },
  {
   "cell_type": "code",
   "execution_count": 29,
   "id": "9aad780a",
   "metadata": {},
   "outputs": [],
   "source": [
    "class Vehicle:\n",
    "    def __init__(self, mpg, tank_size, passengers, transmission):\n",
    "        self.mpg = mpg\n",
    "        self.tank_size = tank_size\n",
    "        self.passengers = passengers\n",
    "        self.transmission = transmission"
   ]
  },
  {
   "cell_type": "markdown",
   "id": "6c1679a1",
   "metadata": {},
   "source": [
    "The `__init__()` function is defined within the class as you would any other function. The surrounding double-underscores (or \"dunders\") indicate that this function is not meant to be called by the user, but rather upon the satisfaction of some condition internally within the class. `__init__()` runs whenever an `instance` is initialized. There are many of these \"magic\" or \"dunder\" functions, some of which we will cover later."
   ]
  },
  {
   "cell_type": "markdown",
   "id": "b69f3a0b",
   "metadata": {},
   "source": [
    "Let's look more closely at the `__init__()` function we have defined for `Vehicle`. We are passing the arguments that we would expect for our vehicles, but there is an additional `self` argument. `self` is also references in the next few lines of definitions. This refers to the `instance` that has just been created and the variables assigned to it with dot notation are `instance attributes`, specific to the current instance only, not accross all `Vehicle` instances."
   ]
  },
  {
   "cell_type": "markdown",
   "id": "78324a63",
   "metadata": {},
   "source": [
    "We have now created a `Vehicle` class, but if we try to call it, we get an error:"
   ]
  },
  {
   "cell_type": "code",
   "execution_count": 27,
   "id": "40efe3c2",
   "metadata": {},
   "outputs": [
    {
     "ename": "TypeError",
     "evalue": "__init__() missing 4 required positional arguments: 'mpg', 'tank_size', 'passengers', and 'transmission'",
     "output_type": "error",
     "traceback": [
      "\u001b[0;31m---------------------------------------------------------------------------\u001b[0m",
      "\u001b[0;31mTypeError\u001b[0m                                 Traceback (most recent call last)",
      "Cell \u001b[0;32mIn [27], line 1\u001b[0m\n\u001b[0;32m----> 1\u001b[0m \u001b[43mVehicle\u001b[49m\u001b[43m(\u001b[49m\u001b[43m)\u001b[49m\n",
      "\u001b[0;31mTypeError\u001b[0m: __init__() missing 4 required positional arguments: 'mpg', 'tank_size', 'passengers', and 'transmission'"
     ]
    }
   ],
   "source": [
    "Vehicle()"
   ]
  },
  {
   "cell_type": "markdown",
   "id": "6ee6eafa",
   "metadata": {},
   "source": [
    "As mentioned earlier, the `Class` is merely a blueprint for storing data in a specific structure. We need to define an `instance` that corresponds to our specific vehicles. This is done by simply calling the `Vehicle` class with the input values."
   ]
  },
  {
   "cell_type": "code",
   "execution_count": 31,
   "id": "ed6e175c",
   "metadata": {},
   "outputs": [
    {
     "name": "stdout",
     "output_type": "stream",
     "text": [
      "<__main__.Vehicle object at 0x7fdb1f077790>\n"
     ]
    }
   ],
   "source": [
    "sedan = Vehicle(35, 15, 5, \"automatic\")\n",
    "print(sedan)"
   ]
  },
  {
   "cell_type": "markdown",
   "id": "d9b13a4a",
   "metadata": {},
   "source": [
    "We can access the values for our sedan through dot notation:"
   ]
  },
  {
   "cell_type": "code",
   "execution_count": 32,
   "id": "4e24db19",
   "metadata": {},
   "outputs": [
    {
     "name": "stdout",
     "output_type": "stream",
     "text": [
      "Sedan fuel efficiency: 35 mpg\n",
      "Sedan fuel capacity: 15 gallons\n",
      "Sedan passenger capacity: 5 passengers\n",
      "Sedan transmission: automatic\n"
     ]
    }
   ],
   "source": [
    "print(f\"Sedan fuel efficiency: {sedan.mpg} mpg\")\n",
    "print(f\"Sedan fuel capacity: {sedan.tank_size} gallons\")\n",
    "print(f\"Sedan passenger capacity: {sedan.passengers} passengers\")\n",
    "print(f\"Sedan transmission: {sedan.transmission}\")"
   ]
  },
  {
   "cell_type": "markdown",
   "id": "223dfc87",
   "metadata": {},
   "source": [
    "Now we can make some tweaks to solve the problems we encountered with primitives. First, we can add default values to the `__init__()` arguments for handling missing data (we can use `None` for the default). Next, we can add our maximum range function as a class function and use it to define `max_range` for the `Vehicle`."
   ]
  },
  {
   "cell_type": "code",
   "execution_count": 1,
   "id": "e00f126d",
   "metadata": {},
   "outputs": [],
   "source": [
    "class Vehicle:\n",
    "    def __init__(self, mpg=None, tank_size=None, passengers=None, transmission=None):\n",
    "        self.mpg = mpg\n",
    "        self.tank_size = tank_size\n",
    "        self.passengers = passengers\n",
    "        self.transmission = transmission\n",
    "        self.max_range = self.calculate_max_range()\n",
    "        \n",
    "    def calculate_max_range(self):\n",
    "        if (self.mpg is None) or (self.tank_size is None):\n",
    "            return None\n",
    "        return self.mpg * self.tank_size"
   ]
  },
  {
   "cell_type": "markdown",
   "id": "085f40b7",
   "metadata": {},
   "source": [
    "`calculate_max_range` is defined similarly to our earlier example, except for a couple of changes. It is indented within the class so that it is defined within scope of `Vehicle` and is called through `self.calculate_max_range`. Additionally, the only input argument is `self`. `self` allows us to access the `instance attributes` we have already defined, meaning that when the function is called at the end of `__init__()`, we can use the input arguments to automatically calculate the range of the vehicle. I have also included some simple logic to prevent an error if either of the input variables are missing. Now let's try our sedan again:"
   ]
  },
  {
   "cell_type": "code",
   "execution_count": 3,
   "id": "16744a4c",
   "metadata": {},
   "outputs": [
    {
     "name": "stdout",
     "output_type": "stream",
     "text": [
      "Sedan max_range: 525 miles\n"
     ]
    }
   ],
   "source": [
    "sedan = Vehicle(35, 15, 5, \"automatic\")\n",
    "print(f\"Sedan max_range: {sedan.max_range} miles\")"
   ]
  },
  {
   "cell_type": "markdown",
   "id": "6de817cf",
   "metadata": {},
   "source": [
    "And the pickup truck and sports car:"
   ]
  },
  {
   "cell_type": "code",
   "execution_count": 4,
   "id": "dbcc3f44",
   "metadata": {},
   "outputs": [
    {
     "name": "stdout",
     "output_type": "stream",
     "text": [
      "Pickup max_range: None\n",
      "Sports car max_range: 255 miles\n"
     ]
    }
   ],
   "source": [
    "pickup = Vehicle(mpg=20, passengers=3, transmission=\"automatic\")\n",
    "sports_car = Vehicle(mpg=17, tank_size=15, passengers=2, transmission=\"manual\")\n",
    "\n",
    "print(f\"Pickup max_range: {pickup.max_range}\")\n",
    "print(f\"Sports car max_range: {sports_car.max_range} miles\")"
   ]
  },
  {
   "cell_type": "markdown",
   "id": "16323527",
   "metadata": {},
   "source": [
    "# Data encapsulation"
   ]
  },
  {
   "cell_type": "markdown",
   "id": "29c18907",
   "metadata": {},
   "source": [
    "Sometimes we need to restrict the ways certain data are accessed. Let's think about class for bank accounts."
   ]
  },
  {
   "cell_type": "code",
   "execution_count": 20,
   "id": "47779d97",
   "metadata": {},
   "outputs": [],
   "source": [
    "class BankAccount:\n",
    "    def __init__(self, account_number, balance):\n",
    "        self.__account_number = account_number\n",
    "        self.__balance = balance\n",
    "\n",
    "    def deposit(self, amount):\n",
    "        if amount > 0:\n",
    "            self.__balance += amount\n",
    "            print(f\"Deposited ${amount} into account {self.__account_number}.\")\n",
    "        else:\n",
    "            print(\"Invalid deposit amount.\")\n",
    "\n",
    "    def withdraw(self, amount):\n",
    "        if amount > 0 and amount <= self.__balance:\n",
    "            self.__balance -= amount\n",
    "            print(f\"Withdrew ${amount} from account {self.__account_number}.\")\n",
    "        else:\n",
    "            print(\"Invalid withdrawal amount or insufficient balance.\")\n",
    "\n",
    "    def get_balance(self):\n",
    "        return self.__balance"
   ]
  },
  {
   "cell_type": "code",
   "execution_count": 21,
   "id": "49499278",
   "metadata": {},
   "outputs": [],
   "source": [
    "# Creating an instance of BankAccount\n",
    "account = BankAccount(\"1234567890\", 1000)"
   ]
  },
  {
   "cell_type": "markdown",
   "id": "fb5bff07",
   "metadata": {},
   "source": [
    "Trying to directly access the balance attribute (encapsulation violation) will produce an `AttributeError`."
   ]
  },
  {
   "cell_type": "code",
   "execution_count": 22,
   "id": "7685988a",
   "metadata": {},
   "outputs": [
    {
     "ename": "AttributeError",
     "evalue": "'BankAccount' object has no attribute '__balance'",
     "output_type": "error",
     "traceback": [
      "\u001b[0;31m---------------------------------------------------------------------------\u001b[0m",
      "\u001b[0;31mAttributeError\u001b[0m                            Traceback (most recent call last)",
      "Cell \u001b[0;32mIn [22], line 1\u001b[0m\n\u001b[0;32m----> 1\u001b[0m \u001b[38;5;28mprint\u001b[39m(\u001b[43maccount\u001b[49m\u001b[38;5;241;43m.\u001b[39;49m\u001b[43m__balance\u001b[49m)\n",
      "\u001b[0;31mAttributeError\u001b[0m: 'BankAccount' object has no attribute '__balance'"
     ]
    }
   ],
   "source": [
    "print(account.__balance)"
   ]
  },
  {
   "cell_type": "markdown",
   "id": "9dd418bc",
   "metadata": {},
   "source": [
    "Instead, we must use the `get_balance()` class function."
   ]
  },
  {
   "cell_type": "code",
   "execution_count": 23,
   "id": "bfe6e548",
   "metadata": {},
   "outputs": [
    {
     "name": "stdout",
     "output_type": "stream",
     "text": [
      "Account balance:  1000\n"
     ]
    }
   ],
   "source": [
    "print(\"Account balance: \", account.get_balance())"
   ]
  },
  {
   "cell_type": "markdown",
   "id": "3794f70b",
   "metadata": {},
   "source": [
    "Additionally, trying to make changes to the balance directly is prohibited."
   ]
  },
  {
   "cell_type": "code",
   "execution_count": 24,
   "id": "83245a19",
   "metadata": {},
   "outputs": [
    {
     "ename": "AttributeError",
     "evalue": "'BankAccount' object has no attribute '__balance'",
     "output_type": "error",
     "traceback": [
      "\u001b[0;31m---------------------------------------------------------------------------\u001b[0m",
      "\u001b[0;31mAttributeError\u001b[0m                            Traceback (most recent call last)",
      "Cell \u001b[0;32mIn [24], line 1\u001b[0m\n\u001b[0;32m----> 1\u001b[0m account\u001b[38;5;241m.\u001b[39m__balance \u001b[38;5;241m+\u001b[39m\u001b[38;5;241m=\u001b[39m \u001b[38;5;241m500\u001b[39m\n",
      "\u001b[0;31mAttributeError\u001b[0m: 'BankAccount' object has no attribute '__balance'"
     ]
    }
   ],
   "source": [
    "account.__balance += 500"
   ]
  },
  {
   "cell_type": "markdown",
   "id": "730f2c57",
   "metadata": {},
   "source": [
    "Again, we are forced to use class functions to change the balance."
   ]
  },
  {
   "cell_type": "code",
   "execution_count": 25,
   "id": "d2d6226a",
   "metadata": {},
   "outputs": [
    {
     "name": "stdout",
     "output_type": "stream",
     "text": [
      "Deposited $500 into account 1234567890.\n",
      "Account balance:  1500\n",
      "Withdrew $200 from account 1234567890.\n",
      "Account balance:  1300\n"
     ]
    }
   ],
   "source": [
    "account.deposit(500)\n",
    "print(\"Account balance: \", account.get_balance())\n",
    "\n",
    "account.withdraw(200)\n",
    "print(\"Account balance: \", account.get_balance())"
   ]
  },
  {
   "cell_type": "markdown",
   "id": "7635cf7f",
   "metadata": {},
   "source": [
    "When sensitive information needs to be associated with a class instance, encapsulation allows the developer to hide that information. For example, our `BankAccount` class has a private attribute for account number, but no way to access it from outside of the instance."
   ]
  },
  {
   "cell_type": "code",
   "execution_count": null,
   "id": "2e9b5878",
   "metadata": {},
   "outputs": [],
   "source": []
  }
 ],
 "metadata": {
  "kernelspec": {
   "display_name": "Python 3 (ipykernel)",
   "language": "python",
   "name": "python3"
  },
  "language_info": {
   "codemirror_mode": {
    "name": "ipython",
    "version": 3
   },
   "file_extension": ".py",
   "mimetype": "text/x-python",
   "name": "python",
   "nbconvert_exporter": "python",
   "pygments_lexer": "ipython3",
   "version": "3.8.2"
  }
 },
 "nbformat": 4,
 "nbformat_minor": 5
}
