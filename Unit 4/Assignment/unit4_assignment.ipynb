{
 "cells": [
  {
   "cell_type": "markdown",
   "id": "d2e48087-9836-46de-9741-dc219b8c3267",
   "metadata": {},
   "source": [
    "# Graded: 14 of 14 correct\n",
    "1. Song class\n",
    "- [x] Title\n",
    "- [x] Length\n",
    "- [x] Magic function for string\n",
    "\n",
    "2. Album class\n",
    "- [x] Title\n",
    "- [x] Song list\n",
    "- [x] Artist\n",
    "- [x] Year\n",
    "- [x] Print function\n",
    "- [x] Magic functions for comparing years\n",
    "\n",
    "3. Artist class\n",
    "- [x] Name\n",
    "- [x] Discography\n",
    "- [x] Sort albums function\n",
    "- [x] Print function\n",
    "\n",
    "4. Adding data\n",
    "- [x] Function(s) add data\n",
    "\n",
    "Comments: \n"
   ]
  },
  {
   "cell_type": "markdown",
   "id": "5eb4b924",
   "metadata": {},
   "source": [
    "# Assignment 4: Creating a music library\n",
    "In this example, you will create classes for song, album, and artist objects. Here are some things to consider:\n",
    "1. Think of each larger class to be a container of objects from the smaller class (e.g. an Album contains a list of Songs)\n",
    "2. Because these classes do not share many characteristics, you don't need to subclass to accomplish the task"
   ]
  },
  {
   "cell_type": "markdown",
   "id": "fcf1ebac",
   "metadata": {},
   "source": [
    "## Create a new class for songs\n",
    "Start by creating a class called `Song` with the following attributes:\n",
    "1. title: a string representing the song title\n",
    "2. length: a string representing the length of the song\n",
    "4. A magic function that allows you to print a string representation of the song as shown below\n",
    "        <br />Title: title\n",
    "        <br />Length: length s (the s stands for seconds)"
   ]
  },
  {
   "cell_type": "code",
   "execution_count": 1,
   "id": "41d39296",
   "metadata": {
    "tags": []
   },
   "outputs": [],
   "source": [
    "class Song:\n",
    "    '''\n",
    "    Class Song, 2 properties, and onve override string function\n",
    "    '''\n",
    "    # CONSTRUCTOR\n",
    "    def __init__(self, title='', length=0):\n",
    "        self.title = title\n",
    "        self.length = length\n",
    "\n",
    "\t# OVERRIDES STR\n",
    "    def __str__(self):\n",
    "        str = f'''\n",
    "Title: {self.title}\n",
    "Length: {self.length} s\n",
    "        '''\n",
    "        return str"
   ]
  },
  {
   "cell_type": "markdown",
   "id": "548246d7",
   "metadata": {},
   "source": [
    "## Create an album class\n",
    "An album is a collection of songs. Make a class called `Album` that has the following characteristics:\n",
    "1. title: a string representing the album title\n",
    "2. songs: a list of Song objects within the album\n",
    "3. artist: a string representing the artist name\n",
    "4. year: an integer representation of the album release year\n",
    "5. A function that allows you to print a string representation of the album as shown below\n",
    "        <br />Title: album title\n",
    "        <br />Artist: artist\n",
    "        <br />Year: year\n",
    "        <br />Songs: print each song on the album\n",
    "6. Magic function(s) for mathematical comparisons based on year for sorting purposes. This can be accomplished using the `sorted()` function (see documentation). **Note:** Do not use the `key` argument of `sorted`, as this would defeat the purpose of including magic functions. Instead define enough mathematical functions to satisfy the default usage `sorted([list of class objects])`"
   ]
  },
  {
   "cell_type": "code",
   "execution_count": 2,
   "id": "0e75675c",
   "metadata": {},
   "outputs": [],
   "source": [
    "class Album:\n",
    "\t''' \n",
    "\tALBUM CLASS, 4 PROPERTIES. OVER RIDE THE LOGIC \n",
    "\t'''\n",
    "\t# CONSTRUCTOR\n",
    "\tdef __init__(self, title=None, artist=None, year=None, songs=[]):\n",
    "\t\tself.title  = title\t\t\n",
    "\t\tself.artist = artist\n",
    "\t\tself.year   = year\n",
    "\t\tself.songs  = songs\n",
    "\t\n",
    "\tdef add_song(self, song):\n",
    "\t\tself.songs.append(song)\n",
    "\n",
    "\t# EQUAL\n",
    "\tdef __eq__(self, other):\n",
    "\t\tif(isinstance(other, Album)):\n",
    "\t\t\treturn self.year == other.year\n",
    "\t\telse:\n",
    "\t\t\treturn False\n",
    "\n",
    "\t# Greater\n",
    "\tdef __ge__(self, other):\n",
    "\t\tif(isinstance(other, Album)):\n",
    "\t\t\treturn self.year > other.year\n",
    "\t\telse:\n",
    "\t\t\treturn False\n",
    "\t\n",
    "\t# Greater Than\n",
    "\tdef __gt__(self, other):\n",
    "\t\tif(isinstance(other, Album)):\n",
    "\t\t\treturn self.year >= other.year\n",
    "\t\telse:\n",
    "\t\t\treturn False\n",
    "\t\n",
    "\t# LESS\n",
    "\tdef __lt__(self, other):\n",
    "\t\tif(isinstance(other, Album)):\n",
    "\t\t\treturn self.year <= other.year\n",
    "\t\telse:\n",
    "\t\t\treturn False\n",
    "\t\n",
    "\t# LESS\n",
    "\tdef __le__(self, other):\n",
    "\t\tif(isinstance(other, Album)):\n",
    "\t\t\treturn self.year < other.year\n",
    "\t\telse:\n",
    "\t\t\treturn False\n",
    "\t\n",
    "\t# OVERRIDES STR\n",
    "\tdef __str__(self):\n",
    "\t\tstr_songs = \"\"\n",
    "\n",
    "\t\t# self_song is an instances of class Song\n",
    "\t\tfor self_song in self.songs:\t\n",
    "\t\t\tif str_songs != \"\":\n",
    "\t\t\t\tstr_songs += \", \"\n",
    "\t\t\tstr_songs += self_song.title # + ' (' + self_song.year + ')'\n",
    "\t\treturn f'''\n",
    "Title (Album): {self.title}\n",
    "Artist: {self.artist}\n",
    "Year: {self.year}\n",
    "Songs: {str_songs}\n",
    "\t\t'''"
   ]
  },
  {
   "cell_type": "markdown",
   "id": "f9d0fcfc",
   "metadata": {},
   "source": [
    "## Create an artist class\n",
    "An artist is a collection of songs. Make a class called `Artist` that has the following characteristics:\n",
    "1. name: a string representing the artist name\n",
    "2. discography: a list of Album objects made by this artist\n",
    "3. A function that sorts the artist's albums by year\n",
    "4. A function that allows you to print a string representation of the artist as shown below\n",
    "        <br />Artist: artist\n",
    "        <br />Albums: print each album (sorted by year)\n"
   ]
  },
  {
   "cell_type": "code",
   "execution_count": 3,
   "id": "bf7daa83",
   "metadata": {},
   "outputs": [],
   "source": [
    "class Artist:\n",
    "\t''' \n",
    "\tClass Artist\n",
    "\t'''\n",
    "\t# CONSTRUCTOR\n",
    "\tdef __init__(self, name=None, discographies=[]):\n",
    "\t\tself.name  \t\t\t= name\t\t\n",
    "\t\tself.discographies \t= discographies\n",
    "\t\n",
    "\t# ADDING AN ALBUM TO DISCOGRAPHY\n",
    "\tdef add_album(self, album):\n",
    "\t\tself.discographies.append(album)\n",
    "\n",
    "\t# not needed anymore\n",
    "\tdef sorted_year(self):\n",
    "\t\tself.discographies = sorted(self.discographies, key=lambda discography:discography.year)\n",
    "\n",
    "\t# OVERRIDES STR\n",
    "\tdef __str__(self):\n",
    "\t\t# OVERRIDES SORTED() BASED ON ALBUM YEAR IN THE ALBUM CLASS\n",
    "\t\tself.discographies = sorted(self.discographies)\n",
    "\t\tstr_discographies = \"\"\n",
    "\n",
    "\t\tfor self_discography in self.discographies:\n",
    "\t\t\tif str_discographies != \"\":\n",
    "\t\t\t\tstr_discographies += \", \"\n",
    "\n",
    "\t\t\t# self_discography is an instances of class Album\n",
    "\t\t\tstr_discographies += self_discography.title + ' (' + str(self_discography.year) + ')'\n",
    "\n",
    "\t\treturn f'''\n",
    "Title         : {self.name}\n",
    "Discographies : {str_discographies}\n",
    "\t\t'''"
   ]
  },
  {
   "cell_type": "markdown",
   "id": "dffc2a38",
   "metadata": {},
   "source": [
    "## Add a batch of data into the new structures\n",
    "The file `music_data.json` contains a batch of music data. JSON files are structured similarly to dictionaries and are used for many purposes (like configuration files, for example). The cell below uses the built-in `json` Python library to read the file in as a dictionary. The keys are artist names (\"Taylor Swift\", \"Drake\", \"BTS\") and each key will return a list of dictionaries, each an album, that have `title`, `year`, and `songs` keys, the latter returning another list of dictionaries containing the `title` and `length` (in seconds) of each song. Here is a summary of how the data are formatted:\n",
    "```\n",
    "{artist name: [\n",
    "        {\n",
    "            title: album title,\n",
    "            year: year,\n",
    "            songs: [\n",
    "                {\n",
    "                    title: song title,\n",
    "                    length: length\n",
    "                },\n",
    "                ...\n",
    "            ]\n",
    "        },\n",
    "        ...\n",
    "    ]\n",
    "}\n",
    "\n",
    "```"
   ]
  },
  {
   "cell_type": "code",
   "execution_count": 4,
   "id": "fc98e322",
   "metadata": {},
   "outputs": [],
   "source": [
    "import json\n",
    "with open('music_data.json', 'r') as f:\n",
    "    artist_dict = json.load(f)"
   ]
  },
  {
   "cell_type": "markdown",
   "id": "4bb946ae",
   "metadata": {},
   "source": [
    "Create one or more functions that add these data to each of the data structures you have created."
   ]
  },
  {
   "cell_type": "code",
   "execution_count": 5,
   "id": "afd2a34a",
   "metadata": {},
   "outputs": [],
   "source": [
    "list_artists = []\n",
    "\n",
    "# LOOP THE DATA, FIRST LEVEL IS ARTIST WHICH HAS LIST OF DISCOGRAPHY\n",
    "for idx, (the_artist, the_discographies) in enumerate(artist_dict.items()):\t\n",
    "\tartist_obj = Artist(the_artist, [])\n",
    "\t# print(the_discographies)\n",
    "\n",
    "\t# LOOP THE DISCOGRAPHIES, CREATE AN INSTANCE FROM ALBUM CLASS\n",
    "\tfor the_discography in the_discographies:\n",
    "\t\talbum_obj = Album(the_discography['title'], the_artist, the_discography['year'], [])\n",
    "\n",
    "\t\t# LOOP THE SONGS, CREATE AN INSTANCE FROM ALBUM SONG, THEN ADD THE SONG OBJ TO ALBUM\n",
    "\t\tfor song in the_discography['songs']:\n",
    "\t\t\tthe_song = Song(song['title'], int(song['length']))\n",
    "\t\t\t# print(the_song)\n",
    "\t\t\talbum_obj.add_song(the_song)\n",
    "\t\n",
    "\t\t# print(album_obj)\t\n",
    "\t\tartist_obj.add_album(album_obj)\n",
    "\t# print(artist_obj)\n",
    "\tlist_artists.append(artist_obj)\n",
    "\t"
   ]
  },
  {
   "cell_type": "markdown",
   "id": "07e55455",
   "metadata": {},
   "source": [
    "Finally, print any artist's discography and the track list for one of their albums"
   ]
  },
  {
   "cell_type": "code",
   "execution_count": 6,
   "id": "c737e5af",
   "metadata": {},
   "outputs": [
    {
     "name": "stdout",
     "output_type": "stream",
     "text": [
      "\n",
      "Title (Album): 1989\n",
      "Artist: Taylor Swift\n",
      "Year: 2014\n",
      "Songs: Welcome to New York, Blank Space, Style, Out of the Woods, All You Had to Do Was Stay, Shake It Off, I Wish You Would, Bad Blood, Wildest Dreams, How You Get the Girl, This Love, I Know Places, Clean\n",
      "\t\t\n",
      "\n",
      "Title (Album): Fearless\n",
      "Artist: Taylor Swift\n",
      "Year: 2008\n",
      "Songs: Fearless, Fifteen, Love Story, Hey Stephen, White Horse, You Belong with Me, Breathe, Tell Me Why, You're Not Sorry, The Way I Loved You, Forever & Always, The Best Day, Change\n",
      "\t\t\n",
      "Taylor Swift Album 1989 was released after her album Fearless:  True\n",
      "Taylor Swift Album 1989 was released before her album Fearless:  False\n",
      "Taylor Swift Album 1989 was released on then same year as her album Fearless:  False\n"
     ]
    }
   ],
   "source": [
    "artist0 = list_artists[0]\n",
    "a0d0 = artist0.discographies[0]\n",
    "a0d1 = artist0.discographies[1]\n",
    "print(a0d0)\n",
    "print(a0d1)\n",
    "print(f\"{artist0.name} Album {a0d0.title} was released after her album {a0d1.title}: \", a0d0 > a0d1)\n",
    "print(f\"{artist0.name} Album {a0d0.title} was released before her album {a0d1.title}: \", a0d0 < a0d1)\n",
    "print(f\"{artist0.name} Album {a0d0.title} was released on then same year as her album {a0d1.title}: \", a0d0 == a0d1)\n"
   ]
  },
  {
   "cell_type": "code",
   "execution_count": 7,
   "id": "5b486528",
   "metadata": {},
   "outputs": [
    {
     "name": "stdout",
     "output_type": "stream",
     "text": [
      "\n",
      "Title         : Taylor Swift\n",
      "Discographies : Taylor Swift (2006), Fearless (2008), Speak Now (2010), Red (2012), 1989 (2014), Reputation (2017), Lover (2019), folklore (2020), evermore (2020), Midnights (2022)\n",
      "\t\t\n"
     ]
    }
   ],
   "source": [
    "print(artist0)"
   ]
  },
  {
   "cell_type": "code",
   "execution_count": 8,
   "id": "e7ad85ae",
   "metadata": {},
   "outputs": [
    {
     "name": "stdout",
     "output_type": "stream",
     "text": [
      "\n",
      "Title         : Drake\n",
      "Discographies : Thank Me Later (2010), Take Care (2011), Nothing Was the Same (2013), Views (2016), Scorpion (2018), Certified Lover Boy (2021), Honestly, Nevermind (2022), For All the Dogs (2023)\n",
      "\t\t\n",
      "\n",
      "Title         : BTS\n",
      "Discographies : Dark & Wild (2014), Wings (2016), Love Yourself: Tear (2018), Map of the Soul: 7 (2020), Be (2020)\n",
      "\t\t\n"
     ]
    }
   ],
   "source": [
    "print(list_artists[1])\n",
    "print(list_artists[2])"
   ]
  },
  {
   "cell_type": "code",
   "execution_count": null,
   "id": "b628abd7",
   "metadata": {},
   "outputs": [],
   "source": []
  }
 ],
 "metadata": {
  "kernelspec": {
   "display_name": "Python 3",
   "language": "python",
   "name": "python3"
  },
  "language_info": {
   "codemirror_mode": {
    "name": "ipython",
    "version": 3
   },
   "file_extension": ".py",
   "mimetype": "text/x-python",
   "name": "python",
   "nbconvert_exporter": "python",
   "pygments_lexer": "ipython3",
   "version": "3.12.5"
  }
 },
 "nbformat": 4,
 "nbformat_minor": 5
}
