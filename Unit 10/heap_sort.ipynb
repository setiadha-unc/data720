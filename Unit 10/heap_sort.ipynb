{
 "cells": [
  {
   "cell_type": "code",
   "execution_count": 1,
   "id": "36f3119f",
   "metadata": {},
   "outputs": [],
   "source": [
    "data = [5,7,3,9,4,2,1,8,6]"
   ]
  },
  {
   "cell_type": "code",
   "execution_count": 2,
   "id": "919e438a",
   "metadata": {},
   "outputs": [],
   "source": [
    "def build_max_heap(arr):\n",
    "    n = len(arr)\n",
    "    # Start from the last non-leaf node and heapify each node in reverse order\n",
    "    for i in range(n // 2 - 1, -1, -1):\n",
    "        heapify(arr, n, i)\n",
    "\n",
    "def heapify(arr, n, parent):\n",
    "    largest = parent\n",
    "    left = 2 * parent + 1\n",
    "    right = 2 * parent + 2\n",
    "\n",
    "    # Check if the left child exists and is greater than the root\n",
    "    if left < n and arr[left] > arr[largest]:\n",
    "        largest = left\n",
    "\n",
    "    # Check if the right child exists and is greater than the root\n",
    "    if right < n and arr[right] > arr[largest]:\n",
    "        largest = right\n",
    "\n",
    "    # If the largest element is not the root, swap them, and continue heapifying the affected subtree\n",
    "    if largest != parent:\n",
    "        arr[parent], arr[largest] = arr[largest], arr[parent]\n",
    "        heapify(arr, n, largest)"
   ]
  },
  {
   "cell_type": "code",
   "execution_count": 3,
   "id": "7d97d922",
   "metadata": {},
   "outputs": [],
   "source": [
    "def heap_sort(arr):\n",
    "    # Build a max-heap from the input array\n",
    "    build_max_heap(arr)\n",
    "\n",
    "    # Perform heap sort\n",
    "    for i in range(len(arr) - 1, 0, -1):\n",
    "        # Swap the maximum element (root of the heap) with the last unsorted element\n",
    "        arr[0], arr[i] = arr[i], arr[0]\n",
    "\n",
    "        # Restore the max-heap property on the reduced heap\n",
    "        heapify(arr, i, 0)"
   ]
  },
  {
   "cell_type": "code",
   "execution_count": 7,
   "id": "1a231fff",
   "metadata": {},
   "outputs": [
    {
     "name": "stdout",
     "output_type": "stream",
     "text": [
      "Original Array: [12, 11, 13, 5, 6, 7]\n",
      "Sorted Array: [5, 6, 7, 11, 12, 13]\n"
     ]
    }
   ],
   "source": [
    "arr = [12, 11, 13, 5, 6, 7]\n",
    "arr1 = arr.copy()\n",
    "heap_sort(arr)\n",
    "print(\"Original Array:\", arr1)\n",
    "print(\"Sorted Array:\", arr)"
   ]
  },
  {
   "cell_type": "code",
   "execution_count": null,
   "id": "2ffe797c",
   "metadata": {},
   "outputs": [],
   "source": []
  }
 ],
 "metadata": {
  "kernelspec": {
   "display_name": "Python 3",
   "language": "python",
   "name": "python3"
  },
  "language_info": {
   "codemirror_mode": {
    "name": "ipython",
    "version": 3
   },
   "file_extension": ".py",
   "mimetype": "text/x-python",
   "name": "python",
   "nbconvert_exporter": "python",
   "pygments_lexer": "ipython3",
   "version": "3.12.5"
  }
 },
 "nbformat": 4,
 "nbformat_minor": 5
}
