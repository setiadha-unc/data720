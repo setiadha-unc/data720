{
 "cells": [
  {
   "cell_type": "code",
   "execution_count": null,
   "id": "0cbc241f",
   "metadata": {},
   "outputs": [],
   "source": [
    "class MaxHeap:\n",
    "    def __init__(self):\n",
    "        self.heap = []\n",
    "\n",
    "    def push(self, item):\n",
    "        self.heap.append(item)\n",
    "        self._sift_up(len(self.heap) - 1)\n",
    "\n",
    "    def pop(self):\n",
    "        if self.is_empty():\n",
    "            raise IndexError(\"Heap is empty\")\n",
    "        self._swap(0, len(self.heap) - 1)\n",
    "        max_item = self.heap.pop()\n",
    "        self._sift_down(0)\n",
    "        return max_item\n",
    "\n",
    "    def peek(self):\n",
    "        if self.is_empty():\n",
    "            raise IndexError(\"Heap is empty\")\n",
    "        return self.heap[0]\n",
    "\n",
    "    def is_empty(self):\n",
    "        return len(self.heap) == 0\n",
    "\n",
    "    def size(self):\n",
    "        return len(self.heap)\n",
    "\n",
    "    def _sift_up(self, index):\n",
    "        parent_index = (index - 1) // 2\n",
    "        while index > 0 and self.heap[index] > self.heap[parent_index]:\n",
    "            self._swap(index, parent_index)\n",
    "            index = parent_index\n",
    "            parent_index = (index - 1) // 2\n",
    "\n",
    "    def _sift_down(self, index):\n",
    "        left_child_index = 2 * index + 1\n",
    "        right_child_index = 2 * index + 2\n",
    "        largest = index\n",
    "\n",
    "        if left_child_index < len(self.heap) and self.heap[left_child_index] > self.heap[largest]:\n",
    "            largest = left_child_index\n",
    "\n",
    "        if right_child_index < len(self.heap) and self.heap[right_child_index] > self.heap[largest]:\n",
    "            largest = right_child_index\n",
    "\n",
    "        if largest != index:\n",
    "            self._swap(index, largest)\n",
    "            self._sift_down(largest)\n",
    "\n",
    "    def _swap(self, i, j):\n",
    "        self.heap[i], self.heap[j] = self.heap[j], self.heap[i]\n"
   ]
  },
  {
   "cell_type": "code",
   "execution_count": null,
   "id": "286b55ea",
   "metadata": {},
   "outputs": [],
   "source": []
  }
 ],
 "metadata": {
  "kernelspec": {
   "display_name": "Python 3 (ipykernel)",
   "language": "python",
   "name": "python3"
  },
  "language_info": {
   "codemirror_mode": {
    "name": "ipython",
    "version": 3
   },
   "file_extension": ".py",
   "mimetype": "text/x-python",
   "name": "python",
   "nbconvert_exporter": "python",
   "pygments_lexer": "ipython3",
   "version": "3.11.5"
  }
 },
 "nbformat": 4,
 "nbformat_minor": 5
}
