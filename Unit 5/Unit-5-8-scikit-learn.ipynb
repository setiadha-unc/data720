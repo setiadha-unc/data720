{
 "cells": [
  {
   "cell_type": "markdown",
   "metadata": {},
   "source": [
    "##### <img src=\"../SDSS-Logo.png\" style=\"display:inline; width:500px\" />\n",
    "\n",
    "\n",
    "## Learning Objectives\n",
    "1. Learn about the scikit-learn Python library\n",
    "\n"
   ]
  },
  {
   "cell_type": "markdown",
   "metadata": {},
   "source": [
    "### scikit-learn is a library for Python that provides a large number of functions for machine learning.\n",
    "### scikit-learn is built on top of Numpy and takes advantage of Numpy's fast math capabilities."
   ]
  },
  {
   "cell_type": "markdown",
   "metadata": {
    "tags": []
   },
   "source": [
    "### scikit-learn provides solutions in a number of machine learning areas\n",
    "\n",
    "\n",
    "|Area|\n",
    "|----------|\n",
    "|Classification|\n",
    "|Regression|\n",
    "|Clustering|\n",
    "|Dimensioality Reduction|\n",
    "|Model selection|\n",
    "|Pre-processing|\n",
    "\n"
   ]
  },
  {
   "cell_type": "markdown",
   "metadata": {},
   "source": [
    "### scikit-learn example\n",
    "### Use a random forest model on the Wisconsin breast cancer dataset\n",
    "\n",
    "* This lesson draws heavily from [Sebastian Raschka's book](https://sebastianraschka.com/blog/2022/ml-pytorch-book.html)\n",
    "* and [James, Witten, Hastie and Tibshirani's book](https://www.statlearning.com/)\n",
    "* The [API](https://scikit-learn.org/stable/modules/classes.html#api-ref) for sklearn is also very useful to see the list of available functions.\n"
   ]
  },
  {
   "cell_type": "code",
   "execution_count": 1,
   "metadata": {
    "tags": []
   },
   "outputs": [],
   "source": [
    "import numpy as np\n",
    "import matplotlib.pyplot as plt\n",
    "import pandas as pd"
   ]
  },
  {
   "cell_type": "markdown",
   "metadata": {},
   "source": [
    "### Load the Wisconsin breast cancer dataset."
   ]
  },
  {
   "cell_type": "code",
   "execution_count": 8,
   "metadata": {
    "tags": []
   },
   "outputs": [
    {
     "data": {
      "text/plain": [
       "sklearn.utils._bunch.Bunch"
      ]
     },
     "execution_count": 8,
     "metadata": {},
     "output_type": "execute_result"
    }
   ],
   "source": [
    "from sklearn.datasets import load_breast_cancer\n",
    "from sklearn.model_selection import train_test_split\n",
    "bc_data = load_breast_cancer()\n",
    "type(bc_data)"
   ]
  },
  {
   "cell_type": "markdown",
   "metadata": {},
   "source": [
    "## Look into the `bunch` data to see what is there.\n",
    "* sklearn info about the [bunch model](https://scikit-learn.org/stable/modules/generated/sklearn.utils.Bunch.html)."
   ]
  },
  {
   "cell_type": "code",
   "execution_count": 9,
   "metadata": {
    "tags": []
   },
   "outputs": [
    {
     "data": {
      "text/plain": [
       "['DESCR',\n",
       " 'data',\n",
       " 'data_module',\n",
       " 'feature_names',\n",
       " 'filename',\n",
       " 'frame',\n",
       " 'target',\n",
       " 'target_names']"
      ]
     },
     "execution_count": 9,
     "metadata": {},
     "output_type": "execute_result"
    }
   ],
   "source": [
    "dir(bc_data)"
   ]
  },
  {
   "cell_type": "code",
   "execution_count": 4,
   "metadata": {
    "tags": []
   },
   "outputs": [
    {
     "data": {
      "text/plain": [
       "array(['mean radius', 'mean texture', 'mean perimeter', 'mean area',\n",
       "       'mean smoothness', 'mean compactness', 'mean concavity',\n",
       "       'mean concave points', 'mean symmetry', 'mean fractal dimension',\n",
       "       'radius error', 'texture error', 'perimeter error', 'area error',\n",
       "       'smoothness error', 'compactness error', 'concavity error',\n",
       "       'concave points error', 'symmetry error',\n",
       "       'fractal dimension error', 'worst radius', 'worst texture',\n",
       "       'worst perimeter', 'worst area', 'worst smoothness',\n",
       "       'worst compactness', 'worst concavity', 'worst concave points',\n",
       "       'worst symmetry', 'worst fractal dimension'], dtype='<U23')"
      ]
     },
     "execution_count": 4,
     "metadata": {},
     "output_type": "execute_result"
    }
   ],
   "source": [
    "bc_data.feature_names"
   ]
  },
  {
   "cell_type": "code",
   "execution_count": 5,
   "metadata": {
    "tags": []
   },
   "outputs": [
    {
     "data": {
      "text/plain": [
       "[np.str_('malignant'), np.str_('benign')]"
      ]
     },
     "execution_count": 5,
     "metadata": {},
     "output_type": "execute_result"
    }
   ],
   "source": [
    "list(bc_data.target_names)"
   ]
  },
  {
   "cell_type": "markdown",
   "metadata": {},
   "source": [
    "### Divide the dataset into a train and test split with 20% test data.\n",
    "### Make sure to maintain positive/negative ratio in train and test sets."
   ]
  },
  {
   "cell_type": "code",
   "execution_count": 6,
   "metadata": {
    "tags": []
   },
   "outputs": [],
   "source": [
    "X = bc_data.data\n",
    "y = bc_data.target\n",
    "X_train, X_test, y_train, y_test = train_test_split(X, y, test_size=0.2,\\\n",
    "                                                    random_state=1, stratify=y)"
   ]
  },
  {
   "cell_type": "markdown",
   "metadata": {},
   "source": [
    "### Use the sklearn `MinMaxScaler` to scale the features to be between 0 and 1."
   ]
  },
  {
   "cell_type": "code",
   "execution_count": 7,
   "metadata": {
    "tags": []
   },
   "outputs": [
    {
     "name": "stdout",
     "output_type": "stream",
     "text": [
      "X_test_std_mm: \n",
      "[[0.32664665 0.39411248 0.30898225 ... 0.50352941 0.45625889 0.52910389]\n",
      " [0.48827701 0.39806678 0.48800285 ... 0.67921569 0.42816501 0.78271213]\n",
      " [0.19376477 0.8602812  0.18535367 ... 0.26803922 0.46870555 0.24187153]\n",
      " ...\n",
      " [0.54896825 0.543058   0.51297832 ... 0.77803922 0.58677098 0.29738303]\n",
      " [0.62052003 0.3897188  0.575417   ... 0.61607843 0.58321479 0.19714512]\n",
      " [0.24870632 0.31370826 0.22388725 ... 0.10917647 0.12482219 0.07597145]] \n",
      "\n",
      "X_test_std_mm2:\n",
      "[[0.32664665 0.39411248 0.30898225 ... 0.50352941 0.45625889 0.52910389]\n",
      " [0.48827701 0.39806678 0.48800285 ... 0.67921569 0.42816501 0.78271213]\n",
      " [0.19376477 0.8602812  0.18535367 ... 0.26803922 0.46870555 0.24187153]\n",
      " ...\n",
      " [0.54896825 0.543058   0.51297832 ... 0.77803922 0.58677098 0.29738303]\n",
      " [0.62052003 0.3897188  0.575417   ... 0.61607843 0.58321479 0.19714512]\n",
      " [0.24870632 0.31370826 0.22388725 ... 0.10917647 0.12482219 0.07597145]]\n"
     ]
    }
   ],
   "source": [
    "from sklearn.preprocessing import MinMaxScaler\n",
    "mm = MinMaxScaler()\n",
    "mm.fit(X_train)\n",
    "X_train_std_mm = mm.transform(X_train)\n",
    "# Scale thet test data independently of the training data scaling\n",
    "X_test_std_mm = MinMaxScaler().fit(X_test).transform(X_test)\n",
    "X_test_std_mm2 = MinMaxScaler().fit_transform(X_test)\n",
    "\n",
    "\n",
    "print(f\"X_test_std_mm: \\n{X_test_std_mm} \\n\\nX_test_std_mm2:\\n{X_test_std_mm2}\")"
   ]
  },
  {
   "cell_type": "markdown",
   "metadata": {},
   "source": [
    "### Create a Random Forest Classifier using [RandomForestClassifier](https://scikit-learn.org/stable/modules/generated/sklearn.ensemble.RandomForestClassifier.html?highlight=randomforestclassifier#sklearn.ensemble.RandomForestClassifier) to classify the dataset"
   ]
  },
  {
   "cell_type": "code",
   "execution_count": 8,
   "metadata": {
    "tags": []
   },
   "outputs": [],
   "source": [
    "from sklearn.ensemble import RandomForestClassifier\n",
    "\n",
    "feat_labels = bc_data.feature_names\n",
    "\n",
    "forest = RandomForestClassifier(n_estimators=100,\n",
    "                                criterion=\"entropy\",\n",
    "                                random_state=1)\n",
    "\n",
    "forest.fit(X_train, y_train)\n",
    "y_train_pred = forest.predict(X_train)\n",
    "y_test_pred = forest.predict(X_test)\n"
   ]
  },
  {
   "cell_type": "markdown",
   "metadata": {},
   "source": [
    "### Compute the confusion matrix for this data.\n",
    "* [`confusion_matrix`](https://scikit-learn.org/stable/modules/generated/sklearn.metrics.confusion_matrix.html)"
   ]
  },
  {
   "cell_type": "code",
   "execution_count": 9,
   "metadata": {
    "tags": []
   },
   "outputs": [
    {
     "name": "stdout",
     "output_type": "stream",
     "text": [
      "[[40  2]\n",
      " [ 2 70]]\n"
     ]
    }
   ],
   "source": [
    "from sklearn.metrics import confusion_matrix\n",
    "confmat = confusion_matrix(y_true=y_test, y_pred=y_test_pred)\n",
    "print(confmat)"
   ]
  },
  {
   "cell_type": "code",
   "execution_count": null,
   "metadata": {},
   "outputs": [],
   "source": []
  }
 ],
 "metadata": {
  "celltoolbar": "Edit Metadata",
  "kernelspec": {
   "display_name": "Python 3",
   "language": "python",
   "name": "python3"
  },
  "language_info": {
   "codemirror_mode": {
    "name": "ipython",
    "version": 3
   },
   "file_extension": ".py",
   "mimetype": "text/x-python",
   "name": "python",
   "nbconvert_exporter": "python",
   "pygments_lexer": "ipython3",
   "version": "3.12.5"
  }
 },
 "nbformat": 4,
 "nbformat_minor": 4
}
