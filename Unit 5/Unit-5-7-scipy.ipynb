{
 "cells": [
  {
   "cell_type": "markdown",
   "metadata": {},
   "source": [
    "##### <img src=\"../SDSS-Logo.png\" style=\"display:inline; width:500px\" />\n",
    "\n",
    "\n",
    "## Learning Objectives\n",
    "1. Learn about the SciPy Python library\n",
    "\n"
   ]
  },
  {
   "cell_type": "markdown",
   "metadata": {},
   "source": [
    "### SciPy is a library for Python that provides a large number of functions for scientific computing.\n",
    "### SciPy is built on top of Numpy and takes advantage of Numpy's fast math capabilities."
   ]
  },
  {
   "cell_type": "markdown",
   "metadata": {
    "jp-MarkdownHeadingCollapsed": true,
    "tags": []
   },
   "source": [
    "### SciPy is mmade of a number  of subpackages, each aimed at a particular problem class\n",
    "\n",
    "\n",
    "|Subpackage|Description|\n",
    "|----------|-----------|\n",
    "|cluster   |Clustering algorithms|\n",
    "|constants|Physical and mathematical constants|\n",
    "|fftpack|Fast Fourier Transform routines|\n",
    "|integrate|Integration and ordinary differential equation solvers|\n",
    "|interpolate|Interpolation and smoothing splines|\n",
    "|io|Input and Output|\n",
    "|linalg|Linear algebra|\n",
    "|ndimage|N-dimensional image processing|\n",
    "|odr|Orthogonal distance regression|\n",
    "|optimize|Optimization and root-finding routines|\n",
    "|signal|Signal processing|\n",
    "|sparse|Sparse matrices and associated routines|\n",
    "|spatial|Spatial data structures and algorithms|\n",
    "|special|Special functions|\n",
    "|stats|Statistical distributions and functions|\n"
   ]
  },
  {
   "cell_type": "markdown",
   "metadata": {},
   "source": [
    "### Integration example\n",
    "* Compute the integral $\\int_0^2 e^{-t} dt$"
   ]
  },
  {
   "cell_type": "code",
   "execution_count": null,
   "metadata": {
    "tags": []
   },
   "outputs": [],
   "source": [
    "from math import exp\n",
    "from scipy.integrate import quad\n",
    "\n",
    "# function we want to integrate\n",
    "def f(t):\n",
    "    return exp(-t)\n",
    "\n",
    "# call quad to integrate f from 0 to 2\n",
    "res, err = quad(f, 0, 2)\n",
    "\n",
    "print(f\"The numerical integral is {res}\")"
   ]
  },
  {
   "cell_type": "markdown",
   "metadata": {},
   "source": [
    "### Curve fitting example\n",
    "* Given data points $(x_i, y_i)$, fit a curve of the form $f(x) = Ae^{-bx}$ to the data, optimizing $A, b$ for best fit."
   ]
  },
  {
   "cell_type": "code",
   "execution_count": null,
   "metadata": {
    "tags": []
   },
   "outputs": [],
   "source": [
    "import numpy as np\n",
    "from scipy.optimize import curve_fit\n",
    "import matplotlib.pyplot as plt\n",
    "\n",
    "\n",
    "def f(x, A, b):\n",
    "    return A * np.exp(- b * x)\n",
    "\n",
    "#create fake data\n",
    "x = np.linspace(0, 2, 50)\n",
    "y = f(x, A=3, b=1)\n",
    "#add noise\n",
    "yi = y + 0.2 * np.random.normal(0, 1, size=len(x))\n",
    "\n",
    "plt.plot(x, yi, 'o', label='data')\n",
    "\n",
    "#call curve fit function\n",
    "popt, pcov = curve_fit(f, x, yi)\n",
    "Ahat, bhat = popt\n",
    "print(f\"Estimated parameters are A = {Ahat}, b = {bhat}\")\n",
    "\n",
    "\n",
    "yfit = f(x, Ahat, bhat)\n",
    "plt.plot(x, yi, 'o')\n",
    "plt.plot(x, yfit, '-')\n",
    "plt.xlabel('x')"
   ]
  },
  {
   "cell_type": "code",
   "execution_count": null,
   "metadata": {},
   "outputs": [],
   "source": []
  }
 ],
 "metadata": {
  "celltoolbar": "Edit Metadata",
  "kernelspec": {
   "display_name": "Python 3 (ipykernel)",
   "language": "python",
   "name": "python3"
  },
  "language_info": {
   "codemirror_mode": {
    "name": "ipython",
    "version": 3
   },
   "file_extension": ".py",
   "mimetype": "text/x-python",
   "name": "python",
   "nbconvert_exporter": "python",
   "pygments_lexer": "ipython3",
   "version": "3.11.4"
  }
 },
 "nbformat": 4,
 "nbformat_minor": 4
}
