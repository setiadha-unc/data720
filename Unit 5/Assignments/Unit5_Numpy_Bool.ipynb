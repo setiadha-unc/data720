{
 "cells": [
  {
   "cell_type": "markdown",
   "id": "cf6026a9-ffb8-47e5-9b45-8351a921bd97",
   "metadata": {},
   "source": [
    "# Graded: 5 of 5 correct\n",
    "- [x] Compute the list of all manufacturers whose \"Real-World Comb MPG\" was higher than 25\n",
    "- [x] Find the list of all manufacturers whose real-world comb MPG was higher that 25 AND whose 0-60 time is less than 8 seconds\n",
    "- [x] What was the HP for GM vehicles?\n",
    "- [x] What were the real-world comb MPG and weight for VW?\n",
    "- [x] Create a Numpy array that has the real-world comb MPG, weight and 0-60 time (in that order) for Ford, VW and Honda (in that order)\n",
    "\n",
    "Comments:\n"
   ]
  },
  {
   "cell_type": "markdown",
   "id": "8fb72e31",
   "metadata": {},
   "source": [
    "## Unit 5 Numpy_Boolean_Selection Quiz\n",
    "* The objective of this quiz is to understand how to use boolean arrays for selecting subsets from Numpy arrays."
   ]
  },
  {
   "cell_type": "code",
   "execution_count": 1,
   "id": "7fae945f",
   "metadata": {},
   "outputs": [
    {
     "name": "stdout",
     "output_type": "stream",
     "text": [
      "Numpy version is 2.0.1\n"
     ]
    }
   ],
   "source": [
    "## Import Numpy and check version\n",
    "import numpy as np\n",
    "print(f\"Numpy version is {np.__version__}\")\n",
    "import pickle\n",
    "import comp116"
   ]
  },
  {
   "cell_type": "markdown",
   "id": "757c3bc7",
   "metadata": {},
   "source": [
    "### Boolean arrays are very useful in selecting subsets of arrays.\n",
    "* Boolean array selection is useful not just for Numpy arays but also Pandas data frames.\n",
    "* In this quiz you will be working with fuel economy data for selected autmotive vehicle manufacturers for the year 2017.\n",
    "    * You can get current data similar to this from [here](https://www.fueleconomy.gov/feg/download.shtml).\n",
    "    * The data you get will need to be cleaned up to get into a format like what we are using in this quiz.\n",
    "* You will be reading in 3 Numpy arrays, `data_var_names`, `manufacturer_names`, and `mpgData`.\n",
    "    * `data_var_names` is the array of the type of data that has been read in.\n",
    "    * `manufacturer_names` is the array of the names of the manufacturer.\n",
    "    * `mpgData` is the data itself\n",
    "* You should consider these three arrays as jointly describing a table.\n",
    "    * `data_var_names` is the first row of the table with headers;\n",
    "    * `manufacturer_names` is the first column of row labels;\n",
    "    * `mpgData` is the data itself\n",
    "    \n",
    "* When you learn about pandas, you will see that the pandas data frame is an elegant way of keeping these 3 pieces of information in one object, the data frame. For now, we work with numpy arrays."
   ]
  },
  {
   "cell_type": "code",
   "execution_count": 2,
   "id": "35ea335a",
   "metadata": {},
   "outputs": [
    {
     "data": {
      "text/html": [
       "<h1>2017 Fuel Economy data by Manufacturer</h1>"
      ],
      "text/plain": [
       "<IPython.core.display.HTML object>"
      ]
     },
     "metadata": {},
     "output_type": "display_data"
    },
    {
     "data": {
      "text/html": [
       "<table border=\"1\" class=\"dataframe\">\n",
       "  <thead>\n",
       "    <tr style=\"text-align: right;\">\n",
       "      <th></th>\n",
       "      <th>Real-World Comb MPG</th>\n",
       "      <th>Real-World Comb CO2 g/mi</th>\n",
       "      <th>Weight (lbs)</th>\n",
       "      <th>HP</th>\n",
       "      <th>0-60 Time (s)</th>\n",
       "    </tr>\n",
       "  </thead>\n",
       "  <tbody>\n",
       "    <tr>\n",
       "      <th>GM</th>\n",
       "      <td>22.9</td>\n",
       "      <td>388.0</td>\n",
       "      <td>4520.0</td>\n",
       "      <td>265.0</td>\n",
       "      <td>8.0</td>\n",
       "    </tr>\n",
       "    <tr>\n",
       "      <th>Toyota</th>\n",
       "      <td>25.3</td>\n",
       "      <td>351.0</td>\n",
       "      <td>4059.0</td>\n",
       "      <td>216.0</td>\n",
       "      <td>8.5</td>\n",
       "    </tr>\n",
       "    <tr>\n",
       "      <th>Ford</th>\n",
       "      <td>22.9</td>\n",
       "      <td>388.0</td>\n",
       "      <td>4360.0</td>\n",
       "      <td>262.0</td>\n",
       "      <td>7.9</td>\n",
       "    </tr>\n",
       "    <tr>\n",
       "      <th>FCA</th>\n",
       "      <td>21.2</td>\n",
       "      <td>420.0</td>\n",
       "      <td>4510.0</td>\n",
       "      <td>280.0</td>\n",
       "      <td>7.5</td>\n",
       "    </tr>\n",
       "    <tr>\n",
       "      <th>Nissan-Mitsubishi</th>\n",
       "      <td>27.1</td>\n",
       "      <td>327.0</td>\n",
       "      <td>3770.0</td>\n",
       "      <td>201.0</td>\n",
       "      <td>8.9</td>\n",
       "    </tr>\n",
       "    <tr>\n",
       "      <th>Honda</th>\n",
       "      <td>29.4</td>\n",
       "      <td>302.0</td>\n",
       "      <td>3595.0</td>\n",
       "      <td>203.0</td>\n",
       "      <td>8.1</td>\n",
       "    </tr>\n",
       "    <tr>\n",
       "      <th>Hyundai</th>\n",
       "      <td>28.6</td>\n",
       "      <td>311.0</td>\n",
       "      <td>3458.0</td>\n",
       "      <td>176.0</td>\n",
       "      <td>8.9</td>\n",
       "    </tr>\n",
       "    <tr>\n",
       "      <th>Subaru</th>\n",
       "      <td>28.5</td>\n",
       "      <td>312.0</td>\n",
       "      <td>3724.0</td>\n",
       "      <td>181.0</td>\n",
       "      <td>9.3</td>\n",
       "    </tr>\n",
       "    <tr>\n",
       "      <th>VW</th>\n",
       "      <td>26.5</td>\n",
       "      <td>335.0</td>\n",
       "      <td>3894.0</td>\n",
       "      <td>225.0</td>\n",
       "      <td>7.9</td>\n",
       "    </tr>\n",
       "    <tr>\n",
       "      <th>Kia</th>\n",
       "      <td>27.2</td>\n",
       "      <td>327.0</td>\n",
       "      <td>3592.0</td>\n",
       "      <td>186.0</td>\n",
       "      <td>8.8</td>\n",
       "    </tr>\n",
       "    <tr>\n",
       "      <th>Mercedes</th>\n",
       "      <td>23.1</td>\n",
       "      <td>385.0</td>\n",
       "      <td>4536.0</td>\n",
       "      <td>288.0</td>\n",
       "      <td>7.0</td>\n",
       "    </tr>\n",
       "    <tr>\n",
       "      <th>BMW</th>\n",
       "      <td>25.9</td>\n",
       "      <td>341.0</td>\n",
       "      <td>4107.0</td>\n",
       "      <td>257.0</td>\n",
       "      <td>7.0</td>\n",
       "    </tr>\n",
       "    <tr>\n",
       "      <th>Mazda</th>\n",
       "      <td>29.0</td>\n",
       "      <td>306.0</td>\n",
       "      <td>3569.0</td>\n",
       "      <td>178.0</td>\n",
       "      <td>8.9</td>\n",
       "    </tr>\n",
       "  </tbody>\n",
       "</table>"
      ],
      "text/plain": [
       "<IPython.core.display.HTML object>"
      ]
     },
     "metadata": {},
     "output_type": "display_data"
    }
   ],
   "source": [
    "### Read the pickle file\n",
    "with open('fuel_economy.data.pickle', 'rb') as fid:\n",
    "    (data_var_names, manufacturer_names, mpgData) = pickle.load(fid)\n",
    "comp116.array_to_html(mpgData, row_names=manufacturer_names, col_names=data_var_names,\n",
    "                      title='2017 Fuel Economy data by Manufacturer')"
   ]
  },
  {
   "cell_type": "markdown",
   "id": "d9662f47",
   "metadata": {},
   "source": [
    "### For the rest of this quiz, you should use comparisons and boolean values to select subsets. You should not make use of the absolute index of the data.\n",
    "* For example, you know that `\"Real-World Comb MPG\"` is in the column with index 0, and `\"Ford\"` is the row with index 2 in `mpgData`. But do not use `mpgData[2, 0]` to get to the real-world mpg data for Ford. Look at the course lecture on this topic to refresh."
   ]
  },
  {
   "cell_type": "markdown",
   "id": "8a71c20c",
   "metadata": {},
   "source": [
    "### Compute the list of all manufacturers whose `\"Real-World Comb MPG\"` was higher than 25."
   ]
  },
  {
   "cell_type": "code",
   "execution_count": 3,
   "id": "97c388e4",
   "metadata": {},
   "outputs": [
    {
     "data": {
      "text/plain": [
       "array([ True, False, False, False, False])"
      ]
     },
     "execution_count": 3,
     "metadata": {},
     "output_type": "execute_result"
    }
   ],
   "source": [
    "# GET THE COLUMN\n",
    "col_mpg = (data_var_names == \"Real-World Comb MPG\")\n",
    "col_mpg"
   ]
  },
  {
   "cell_type": "code",
   "execution_count": 4,
   "id": "f4e4b882",
   "metadata": {},
   "outputs": [
    {
     "data": {
      "text/plain": [
       "array([False,  True, False, False,  True,  True,  True,  True,  True,\n",
       "        True, False,  True,  True])"
      ]
     },
     "execution_count": 4,
     "metadata": {},
     "output_type": "execute_result"
    }
   ],
   "source": [
    "# GET THE ROWS\n",
    "row_mpg_over25 = (mpgData[:, col_mpg] >= 25)\n",
    "row_mpg_over25 = np.reshape(row_mpg_over25, len(row_mpg_over25))\n",
    "row_mpg_over25"
   ]
  },
  {
   "cell_type": "code",
   "execution_count": 5,
   "id": "69af5bc8",
   "metadata": {},
   "outputs": [
    {
     "name": "stdout",
     "output_type": "stream",
     "text": [
      "data:  [[25.3]\n",
      " [27.1]\n",
      " [29.4]\n",
      " [28.6]\n",
      " [28.5]\n",
      " [26.5]\n",
      " [27.2]\n",
      " [25.9]\n",
      " [29. ]]\n",
      "\n",
      "total is  247.5\n"
     ]
    }
   ],
   "source": [
    "# By Compute, I assume you want the total numbers of column mpg that has value over 25?\n",
    "dataMpgOver25 = mpgData[row_mpg_over25, :][:, col_mpg]\n",
    "print(\"data: \", dataMpgOver25)\n",
    "print(\"\\ntotal is \", np.sum(dataMpgOver25))"
   ]
  },
  {
   "cell_type": "markdown",
   "id": "19b93aa3",
   "metadata": {},
   "source": [
    "### Find the list of all manufacturers whose real-world comb MPG was higher that 25 AND whose 0-60 time is less than 8 seconds"
   ]
  },
  {
   "cell_type": "code",
   "execution_count": 6,
   "id": "14c1adbb",
   "metadata": {},
   "outputs": [
    {
     "data": {
      "text/html": [
       "<table border=\"1\" class=\"dataframe\">\n",
       "  <thead>\n",
       "    <tr style=\"text-align: right;\">\n",
       "      <th></th>\n",
       "      <th>Real-World Comb MPG</th>\n",
       "      <th>0-60 Time (s)</th>\n",
       "    </tr>\n",
       "  </thead>\n",
       "  <tbody>\n",
       "    <tr>\n",
       "      <th>VW</th>\n",
       "      <td>26.5</td>\n",
       "      <td>7.9</td>\n",
       "    </tr>\n",
       "    <tr>\n",
       "      <th>BMW</th>\n",
       "      <td>25.9</td>\n",
       "      <td>7.0</td>\n",
       "    </tr>\n",
       "  </tbody>\n",
       "</table>"
      ],
      "text/plain": [
       "<IPython.core.display.HTML object>"
      ]
     },
     "metadata": {},
     "output_type": "display_data"
    }
   ],
   "source": [
    "# Your code here\n",
    "# GET COL TIME <= 8\n",
    "col_time8 = (data_var_names == \"0-60 Time (s)\")\n",
    "\n",
    "# MPG 25 AND TIME <= 8\n",
    "col_mpg25_8s = col_mpg | col_time8\n",
    "\n",
    "# GET ROWS THAT QUALIFIED\n",
    "row_mpg25_8s = (mpgData[:, col_mpg] >= 25) & (mpgData[:, col_time8] <= 8)\n",
    "row_mpg25_8s = np.reshape(row_mpg25_8s, len(row_mpg25_8s))\n",
    "\n",
    "# NOT GET THE DATA\n",
    "data_mpg25_8s = mpgData[row_mpg25_8s, :][:, col_mpg25_8s]\n",
    "\n",
    "comp116.array_to_html(data_mpg25_8s, row_names=manufacturer_names[row_mpg25_8s], col_names=data_var_names[col_mpg25_8s])"
   ]
  },
  {
   "cell_type": "markdown",
   "id": "ef5e8d44",
   "metadata": {},
   "source": [
    "### What was the HP for GM vehicles?"
   ]
  },
  {
   "cell_type": "code",
   "execution_count": 10,
   "id": "c2bb6abb",
   "metadata": {},
   "outputs": [
    {
     "data": {
      "text/html": [
       "<table border=\"1\" class=\"dataframe\">\n",
       "  <thead>\n",
       "    <tr style=\"text-align: right;\">\n",
       "      <th></th>\n",
       "      <th>HP</th>\n",
       "    </tr>\n",
       "  </thead>\n",
       "  <tbody>\n",
       "    <tr>\n",
       "      <th>GM</th>\n",
       "      <td>265.0</td>\n",
       "    </tr>\n",
       "  </tbody>\n",
       "</table>"
      ],
      "text/plain": [
       "<IPython.core.display.HTML object>"
      ]
     },
     "metadata": {},
     "output_type": "display_data"
    }
   ],
   "source": [
    "col_gm = data_var_names == \"HP\"\n",
    "row_gm = manufacturer_names == \"GM\"\n",
    "comp116.array_to_html(mpgData[row_gm,:][:, col_gm], row_names=manufacturer_names[row_gm], col_names=data_var_names[col_gm])\n"
   ]
  },
  {
   "cell_type": "markdown",
   "id": "5ac98492",
   "metadata": {},
   "source": [
    "### What were the real-world comb MPG and weight for VW?"
   ]
  },
  {
   "cell_type": "code",
   "execution_count": 17,
   "id": "b71a43a3",
   "metadata": {},
   "outputs": [
    {
     "data": {
      "text/html": [
       "<table border=\"1\" class=\"dataframe\">\n",
       "  <thead>\n",
       "    <tr style=\"text-align: right;\">\n",
       "      <th></th>\n",
       "      <th>Real-World Comb MPG</th>\n",
       "      <th>Weight (lbs)</th>\n",
       "    </tr>\n",
       "  </thead>\n",
       "  <tbody>\n",
       "    <tr>\n",
       "      <th>VW</th>\n",
       "      <td>26.5</td>\n",
       "      <td>3894.0</td>\n",
       "    </tr>\n",
       "  </tbody>\n",
       "</table>"
      ],
      "text/plain": [
       "<IPython.core.display.HTML object>"
      ]
     },
     "metadata": {},
     "output_type": "display_data"
    }
   ],
   "source": [
    "col_lbs = (data_var_names == \"Weight (lbs)\")\n",
    "col_vw = col_lbs | col_mpg\n",
    "row_vw = (manufacturer_names == \"VW\")\n",
    "comp116.array_to_html(mpgData[row_vw,:][:, col_vw], row_names=manufacturer_names[row_vw], col_names=data_var_names[col_vw])\n"
   ]
  },
  {
   "cell_type": "markdown",
   "id": "63cfd83a",
   "metadata": {},
   "source": [
    "### Create a Numpy array that has the real-world comb MPG, weight and 0-60 time (in that order) for Ford, VW and Honda (in that order)"
   ]
  },
  {
   "cell_type": "code",
   "execution_count": 21,
   "id": "77cf6d66",
   "metadata": {},
   "outputs": [
    {
     "data": {
      "text/html": [
       "<table border=\"1\" class=\"dataframe\">\n",
       "  <thead>\n",
       "    <tr style=\"text-align: right;\">\n",
       "      <th></th>\n",
       "      <th>Real-World Comb MPG</th>\n",
       "      <th>Weight (lbs)</th>\n",
       "      <th>0-60 Time (s)</th>\n",
       "    </tr>\n",
       "  </thead>\n",
       "  <tbody>\n",
       "    <tr>\n",
       "      <th>Ford</th>\n",
       "      <td>22.9</td>\n",
       "      <td>4360.0</td>\n",
       "      <td>7.9</td>\n",
       "    </tr>\n",
       "    <tr>\n",
       "      <th>Honda</th>\n",
       "      <td>29.4</td>\n",
       "      <td>3595.0</td>\n",
       "      <td>8.1</td>\n",
       "    </tr>\n",
       "    <tr>\n",
       "      <th>VW</th>\n",
       "      <td>26.5</td>\n",
       "      <td>3894.0</td>\n",
       "      <td>7.9</td>\n",
       "    </tr>\n",
       "  </tbody>\n",
       "</table>"
      ],
      "text/plain": [
       "<IPython.core.display.HTML object>"
      ]
     },
     "metadata": {},
     "output_type": "display_data"
    }
   ],
   "source": [
    "col_fvh = col_mpg | col_lbs | col_time8\n",
    "row_fvh = row_vw | (manufacturer_names == \"Ford\") | (manufacturer_names == \"Honda\")\n",
    "comp116.array_to_html(mpgData[row_fvh,:][:, col_fvh], row_names=manufacturer_names[row_fvh], col_names=data_var_names[col_fvh])"
   ]
  }
 ],
 "metadata": {
  "kernelspec": {
   "display_name": "Python 3",
   "language": "python",
   "name": "python3"
  },
  "language_info": {
   "codemirror_mode": {
    "name": "ipython",
    "version": 3
   },
   "file_extension": ".py",
   "mimetype": "text/x-python",
   "name": "python",
   "nbconvert_exporter": "python",
   "pygments_lexer": "ipython3",
   "version": "3.12.5"
  }
 },
 "nbformat": 4,
 "nbformat_minor": 5
}
