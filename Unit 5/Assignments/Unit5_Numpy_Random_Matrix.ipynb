{
 "cells": [
  {
   "cell_type": "markdown",
   "id": "2b138be1",
   "metadata": {},
   "source": [
    "## Unit 5 Numpy_Random_Matrix Quiz\n",
    "* The objective of this quiz is to use Numpy for generating random values and look at simple array manipulation."
   ]
  },
  {
   "cell_type": "code",
   "execution_count": 1,
   "id": "ecd853d7",
   "metadata": {},
   "outputs": [
    {
     "name": "stdout",
     "output_type": "stream",
     "text": [
      "Numpy version is 2.0.1\n"
     ]
    }
   ],
   "source": [
    "## Import Numpy and check version\n",
    "import numpy as np\n",
    "print(f\"Numpy version is {np.__version__}\")"
   ]
  },
  {
   "cell_type": "markdown",
   "id": "b42e7de0",
   "metadata": {},
   "source": [
    "### Random numbers are frequently used in Data Science.\n",
    "* Generating random numbers (or rather pseudo-random numbers) is an important function.\n",
    "* Numpy provides a random number module called `numpy.random`.\n",
    "* You can learn more about generating random numbers [here](https://numpy.org/doc/stable/reference/random/index.html) and [here](https://numpy.org/doc/stable/reference/random/generated/numpy.random.Generator.random.html#numpy.random.Generator.random)."
   ]
  },
  {
   "cell_type": "markdown",
   "id": "1bffb647",
   "metadata": {},
   "source": [
    "### Create a random number generator called `my_rng` using the `default_rng()` method in `np.random`. Use the default seed."
   ]
  },
  {
   "cell_type": "code",
   "execution_count": 2,
   "id": "696d68d1",
   "metadata": {},
   "outputs": [
    {
     "data": {
      "text/plain": [
       "0.4143000627560298"
      ]
     },
     "execution_count": 2,
     "metadata": {},
     "output_type": "execute_result"
    }
   ],
   "source": [
    "# Write your code below.\n",
    "my_rng = np.random.default_rng()\n",
    "my_rng.random()"
   ]
  },
  {
   "cell_type": "markdown",
   "id": "b151b270",
   "metadata": {},
   "source": [
    "### Now use `my_rng` to generate a 3X3 numpy array of random values.\n",
    "* Print out this array"
   ]
  },
  {
   "cell_type": "code",
   "execution_count": 3,
   "id": "d9e15e17",
   "metadata": {},
   "outputs": [
    {
     "data": {
      "text/plain": [
       "array([[0.94208485, 0.97272006, 0.09241562],\n",
       "       [0.44770273, 0.91069362, 0.99748499],\n",
       "       [0.90883154, 0.9030687 , 0.11638183]])"
      ]
     },
     "execution_count": 3,
     "metadata": {},
     "output_type": "execute_result"
    }
   ],
   "source": [
    "# Write your code below.\n",
    "my_rng.random((3,3))"
   ]
  },
  {
   "cell_type": "markdown",
   "id": "04c7973f",
   "metadata": {},
   "source": [
    "### What is the distribution of the random numbers generated and what is the range?\n",
    "* This is not something to be computed, simply look up this information in the [`np.random` web page](https://numpy.org/doc/stable/reference/random/generated/numpy.random.rand.html)."
   ]
  },
  {
   "cell_type": "markdown",
   "id": "79bae629",
   "metadata": {},
   "source": [
    "the random number generator default will generate random float64 (default) number within range [0, 1] from \"continues uniform\" distribution"
   ]
  },
  {
   "cell_type": "markdown",
   "id": "a536b7dd",
   "metadata": {},
   "source": [
    "### Use the Numpy array created above to create a second Numpy array of random numbers that is between -10.0 and 10.0.\n",
    "* This question requires you to figure out the mapping that will convert a set of random numbers that are distributed as found in the previous question to have the range from -10.0 to 10.0.\n",
    "* The form of the distributon does not change."
   ]
  },
  {
   "cell_type": "code",
   "execution_count": 4,
   "id": "062efd7f",
   "metadata": {},
   "outputs": [
    {
     "data": {
      "text/plain": [
       "array([[ 6.18120199,  8.72606017,  9.4692802 ],\n",
       "       [-1.20852564, -3.11099243,  6.80027866],\n",
       "       [-8.47244638,  2.61190044,  1.91210842]])"
      ]
     },
     "execution_count": 4,
     "metadata": {},
     "output_type": "execute_result"
    }
   ],
   "source": [
    "20 * my_rng.random((3,3)) - 10"
   ]
  },
  {
   "cell_type": "markdown",
   "id": "12eca1f5",
   "metadata": {},
   "source": [
    "### `np.random` can also generate random integers. Generate a 3X3 array of random integers between 0 and 10."
   ]
  },
  {
   "cell_type": "code",
   "execution_count": 5,
   "id": "fc12c7c6",
   "metadata": {},
   "outputs": [
    {
     "data": {
      "text/plain": [
       "array([[6, 6, 6],\n",
       "       [3, 9, 4],\n",
       "       [8, 7, 7]])"
      ]
     },
     "execution_count": 5,
     "metadata": {},
     "output_type": "execute_result"
    }
   ],
   "source": [
    "(10 * my_rng.random((3,3))).astype(int)"
   ]
  },
  {
   "cell_type": "code",
   "execution_count": 6,
   "id": "38677d48",
   "metadata": {},
   "outputs": [
    {
     "data": {
      "text/plain": [
       "array([[9, 8, 8],\n",
       "       [5, 1, 0],\n",
       "       [4, 8, 4]])"
      ]
     },
     "execution_count": 6,
     "metadata": {},
     "output_type": "execute_result"
    }
   ],
   "source": [
    "# OR\n",
    "my_rng.integers(0, 10, (3, 3))"
   ]
  },
  {
   "cell_type": "markdown",
   "id": "3999c2c2",
   "metadata": {},
   "source": [
    "### `np.random` can also generate various common distributions. Generate a 3X3 array of numbers from a normal distribution with mean 10 and standard deviation 2."
   ]
  },
  {
   "cell_type": "code",
   "execution_count": 7,
   "id": "60cd8b2b",
   "metadata": {},
   "outputs": [
    {
     "data": {
      "text/plain": [
       "array([[12.9511821 ,  8.80722833,  9.20074442],\n",
       "       [ 8.78428977,  8.28584956,  8.38662181],\n",
       "       [11.59097165, 11.5679472 ,  9.68718487]])"
      ]
     },
     "execution_count": 7,
     "metadata": {},
     "output_type": "execute_result"
    }
   ],
   "source": [
    "gm3 = my_rng.normal(10, 2, (3,3))\n",
    "gm3"
   ]
  },
  {
   "cell_type": "markdown",
   "id": "41d5bab2",
   "metadata": {},
   "source": [
    "### Call the 3X3 matrix of normal random variables generated in the last step `gm3`.\n",
    "* Use Numpy methods to create two other numpy arrays, `row_sum` and `col_sum`:\n",
    "* `row_sum` should be the length 3 array of the sum of the rows of `gm3`.\n",
    "* `col_sum` should be the length 3 array of the sum of the columns of `gm3`"
   ]
  },
  {
   "cell_type": "code",
   "execution_count": 12,
   "id": "f567b820",
   "metadata": {},
   "outputs": [
    {
     "name": "stdout",
     "output_type": "stream",
     "text": [
      "row_sum: [30.95915486 25.45676113 32.84610372] \n",
      "col_sum: [33.32644352 28.66102509 27.2745511 ]\n"
     ]
    }
   ],
   "source": [
    "row_sum = gm3.sum(axis=1)\n",
    "col_sum = gm3.sum(axis=0)\n",
    "print(f\"row_sum: {row_sum} \\ncol_sum: {col_sum}\")"
   ]
  },
  {
   "cell_type": "code",
   "execution_count": null,
   "id": "98cfbbdc",
   "metadata": {},
   "outputs": [],
   "source": []
  }
 ],
 "metadata": {
  "kernelspec": {
   "display_name": "Python 3",
   "language": "python",
   "name": "python3"
  },
  "language_info": {
   "codemirror_mode": {
    "name": "ipython",
    "version": 3
   },
   "file_extension": ".py",
   "mimetype": "text/x-python",
   "name": "python",
   "nbconvert_exporter": "python",
   "pygments_lexer": "ipython3",
   "version": "3.12.5"
  }
 },
 "nbformat": 4,
 "nbformat_minor": 5
}
