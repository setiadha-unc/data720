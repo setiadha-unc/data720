{
 "cells": [
  {
   "cell_type": "markdown",
   "id": "c62036fb-a578-48ee-aaef-531e69f6045c",
   "metadata": {},
   "source": [
    "# Graded: 7 of 7 correct\n",
    "- [x] Array `A`: (3,3) random ints\n",
    "- [x] Array `b`: (3,) random ints\n",
    "- [x] `A * b`\n",
    "- [x] Explanation of `A * b`: show broadcast versions\n",
    "- [x] Array `c`: (2,) random ints\n",
    "- [x] `A * c`\n",
    "- [x] Explanation of `A * c`\n",
    "\n",
    "Comments:\n"
   ]
  },
  {
   "cell_type": "markdown",
   "id": "8fb72e31",
   "metadata": {},
   "source": [
    "## Unit 5 Numpy_Broadcast Quiz\n",
    "* The objective of this quiz is to understand how to use how broadcasting works with Numpy arrays."
   ]
  },
  {
   "cell_type": "code",
   "execution_count": 1,
   "id": "7fae945f",
   "metadata": {
    "tags": []
   },
   "outputs": [
    {
     "name": "stdout",
     "output_type": "stream",
     "text": [
      "Numpy version is 2.0.1\n"
     ]
    }
   ],
   "source": [
    "## Import Numpy and check version\n",
    "import numpy as np\n",
    "print(f\"Numpy version is {np.__version__}\")"
   ]
  },
  {
   "cell_type": "markdown",
   "id": "757c3bc7",
   "metadata": {},
   "source": [
    "## Broadcasting is a feature of Numpy arrays that allows arithmetic operations between arrays that are not necessarily of compatible dimension for the computation.\n",
    "* During such an operation, the arrays are \"broadcast\" to a certain size that makes the operartion possible.\n",
    "* Knowledge of broadcasting is useful in a number of places, for example deep learning methids."
   ]
  },
  {
   "cell_type": "markdown",
   "id": "f4633495-8623-41f3-99bf-4f9e1c590508",
   "metadata": {},
   "source": [
    "## Create  a Numpy array `A` as a (3, 3) array of random integers."
   ]
  },
  {
   "cell_type": "code",
   "execution_count": 2,
   "id": "77cf6d66",
   "metadata": {
    "tags": []
   },
   "outputs": [
    {
     "name": "stdout",
     "output_type": "stream",
     "text": [
      "A shape is (3, 3) \n",
      "and has data: \n",
      "[[8 6 8]\n",
      " [6 5 0]\n",
      " [7 5 8]]\n"
     ]
    }
   ],
   "source": [
    "A = np.random.randint(0, 10, (3, 3))\n",
    "print(f\"A shape is {A.shape} \\nand has data: \\n{A}\")"
   ]
  },
  {
   "cell_type": "markdown",
   "id": "c3b1ce6a-67e1-4d64-a71b-37f4e695d6a3",
   "metadata": {},
   "source": [
    "## Create a second numpy array, `b` of size (3,) of random integers."
   ]
  },
  {
   "cell_type": "code",
   "execution_count": 3,
   "id": "6ed21e4a-1ae9-48dc-91d5-332bf7ebab99",
   "metadata": {
    "tags": []
   },
   "outputs": [
    {
     "name": "stdout",
     "output_type": "stream",
     "text": [
      "b shape is (3,) \n",
      "and has data: \n",
      "[3 9 4]\n"
     ]
    }
   ],
   "source": [
    "b = np.random.randint(0, 10, (3,))\n",
    "print(f\"b shape is {b.shape} \\nand has data: \\n{b}\")"
   ]
  },
  {
   "cell_type": "markdown",
   "id": "2e776ac1-0f55-4edb-b885-f02662f56504",
   "metadata": {},
   "source": [
    "## Perform the operation `A*b`"
   ]
  },
  {
   "cell_type": "code",
   "execution_count": 4,
   "id": "f42c9b1f-a211-4b49-a2c5-f3970275fdf1",
   "metadata": {
    "tags": []
   },
   "outputs": [
    {
     "name": "stdout",
     "output_type": "stream",
     "text": [
      "[[24 54 32]\n",
      " [18 45  0]\n",
      " [21 45 32]]\n"
     ]
    }
   ],
   "source": [
    "Ab = A * b\n",
    "print(Ab)"
   ]
  },
  {
   "cell_type": "markdown",
   "id": "7061a3f7-4e03-4cab-93cb-d80669ee16d3",
   "metadata": {
    "tags": []
   },
   "source": [
    "## Explain why it was possible to compute `A*b` in the above case. \n",
    "* As part of your explanation, show the broadcast versions of `A` and `b`"
   ]
  },
  {
   "cell_type": "markdown",
   "id": "2d664b45-550d-4237-a8d8-dde5c16caea7",
   "metadata": {},
   "source": [
    "### Explanation here."
   ]
  },
  {
   "cell_type": "markdown",
   "id": "e97f27e4",
   "metadata": {},
   "source": [
    "When we want to compute A*b, the most important thing is the dimension of each matrix, it has to have the same dimension between col dimension of matrix A with rown dimension of matrix b  OR<br />\n",
    "with the given matrix <b>A[i x j]</b> and <b>b[m x n]</b> where <b>j=m</b>."
   ]
  },
  {
   "cell_type": "code",
   "execution_count": 10,
   "id": "b8cf364a",
   "metadata": {},
   "outputs": [
    {
     "name": "stdout",
     "output_type": "stream",
     "text": [
      "Matrix A: [[8 6 8]\n",
      " [6 5 0]\n",
      " [7 5 8]] \n",
      "\n",
      "Matrix b: [3 9 4] \n",
      "\n",
      "A*b will be: [[24 54 32]\n",
      " [18 45  0]\n",
      " [21 45 32]] \n",
      "\n",
      "Broadcast version of A (stay the same) and b: 3x3 and 3x1 -> 3x3\n",
      "Boradcast b: \n",
      " [[8 6 8]\n",
      " [6 5 0]\n",
      " [7 5 8]]\n",
      "\n",
      "Boradcast b: \n",
      " [[3 9 4]\n",
      " [3 9 4]\n",
      " [3 9 4]]\n"
     ]
    }
   ],
   "source": [
    "print(f\"Matrix A: {A} \\n\\nMatrix b: {b} \\n\\nA*b will be: {Ab} \\n\\nBroadcast version of A (stay the same) and b: 3x3 and 3x1 -> 3x3\")\n",
    "\n",
    "print(\"Boradcast b: \\n\", np.broadcast_to(A, (3,3)))\n",
    "print(\"\\nBoradcast b: \\n\", np.broadcast_to(b, (3,3)))\n"
   ]
  },
  {
   "cell_type": "markdown",
   "id": "68923ee1-b4b2-44cb-a597-09c1687efad3",
   "metadata": {},
   "source": [
    "## Now create a third array `c` that is a (2,) array of random integers."
   ]
  },
  {
   "cell_type": "code",
   "execution_count": 11,
   "id": "dc9edde4-2a86-47f7-98d4-e7147d472ce0",
   "metadata": {
    "tags": []
   },
   "outputs": [
    {
     "data": {
      "text/plain": [
       "array([7, 0], dtype=int32)"
      ]
     },
     "execution_count": 11,
     "metadata": {},
     "output_type": "execute_result"
    }
   ],
   "source": [
    "c = np.random.randint(0, 10, (2,))\n",
    "c"
   ]
  },
  {
   "cell_type": "markdown",
   "id": "1c6a8858-ea34-4d0f-b725-be9cafcca73a",
   "metadata": {},
   "source": [
    "## Perform the operation `A*c`"
   ]
  },
  {
   "cell_type": "code",
   "execution_count": 7,
   "id": "e5f3521c-48a8-4d3a-b45f-38de67fef388",
   "metadata": {
    "tags": []
   },
   "outputs": [
    {
     "ename": "ValueError",
     "evalue": "operands could not be broadcast together with shapes (3,3) (2,) ",
     "output_type": "error",
     "traceback": [
      "\u001b[1;31m---------------------------------------------------------------------------\u001b[0m",
      "\u001b[1;31mValueError\u001b[0m                                Traceback (most recent call last)",
      "Cell \u001b[1;32mIn[7], line 1\u001b[0m\n\u001b[1;32m----> 1\u001b[0m Ac \u001b[38;5;241m=\u001b[39m \u001b[43mA\u001b[49m\u001b[43m \u001b[49m\u001b[38;5;241;43m*\u001b[39;49m\u001b[43m \u001b[49m\u001b[43mc\u001b[49m\n",
      "\u001b[1;31mValueError\u001b[0m: operands could not be broadcast together with shapes (3,3) (2,) "
     ]
    }
   ],
   "source": [
    "Ac = A * c"
   ]
  },
  {
   "cell_type": "markdown",
   "id": "3084d4cd-7dca-48a8-b006-752ce9c81b3a",
   "metadata": {},
   "source": [
    "## Explain, in terms of broadcasting, why it was not possible to compute `A*c`"
   ]
  },
  {
   "cell_type": "markdown",
   "id": "cb9bea9c-86f6-4bc5-a7db-e85a60bc218a",
   "metadata": {},
   "source": [
    "### Your explanation here."
   ]
  },
  {
   "cell_type": "markdown",
   "id": "baeb790c-7b7d-4329-831b-d67a9eebdae2",
   "metadata": {},
   "source": [
    "Looking at the matrix's dimenstion we can say that the conditions is not met for the operation. A has (3x3) while c is (2,). Even after applying the first rule by padding the matrix with fewer dimension which c becomes (2, 2), it still doesn't satisfy rule #2 which the shape of the two arrays does not match in any dimension"
   ]
  },
  {
   "cell_type": "code",
   "execution_count": 12,
   "id": "cdff7ee0",
   "metadata": {},
   "outputs": [
    {
     "ename": "ValueError",
     "evalue": "operands could not be broadcast together with remapped shapes [original->remapped]: (2,)  and requested shape (3,3)",
     "output_type": "error",
     "traceback": [
      "\u001b[1;31m---------------------------------------------------------------------------\u001b[0m",
      "\u001b[1;31mValueError\u001b[0m                                Traceback (most recent call last)",
      "Cell \u001b[1;32mIn[12], line 1\u001b[0m\n\u001b[1;32m----> 1\u001b[0m \u001b[38;5;28mprint\u001b[39m(\u001b[38;5;124m\"\u001b[39m\u001b[38;5;130;01m\\n\u001b[39;00m\u001b[38;5;124mBoradcast c: \u001b[39m\u001b[38;5;130;01m\\n\u001b[39;00m\u001b[38;5;124m\"\u001b[39m, \u001b[43mnp\u001b[49m\u001b[38;5;241;43m.\u001b[39;49m\u001b[43mbroadcast_to\u001b[49m\u001b[43m(\u001b[49m\u001b[43mc\u001b[49m\u001b[43m,\u001b[49m\u001b[43m \u001b[49m\u001b[43m(\u001b[49m\u001b[38;5;241;43m3\u001b[39;49m\u001b[43m,\u001b[49m\u001b[38;5;241;43m3\u001b[39;49m\u001b[43m)\u001b[49m\u001b[43m)\u001b[49m)\n",
      "File \u001b[1;32mc:\\Users\\agung\\AppData\\Local\\Programs\\Python\\Python312\\Lib\\site-packages\\numpy\\lib\\_stride_tricks_impl.py:422\u001b[0m, in \u001b[0;36mbroadcast_to\u001b[1;34m(array, shape, subok)\u001b[0m\n\u001b[0;32m    376\u001b[0m \u001b[38;5;129m@array_function_dispatch\u001b[39m(_broadcast_to_dispatcher, module\u001b[38;5;241m=\u001b[39m\u001b[38;5;124m'\u001b[39m\u001b[38;5;124mnumpy\u001b[39m\u001b[38;5;124m'\u001b[39m)\n\u001b[0;32m    377\u001b[0m \u001b[38;5;28;01mdef\u001b[39;00m \u001b[38;5;21mbroadcast_to\u001b[39m(array, shape, subok\u001b[38;5;241m=\u001b[39m\u001b[38;5;28;01mFalse\u001b[39;00m):\n\u001b[0;32m    378\u001b[0m \u001b[38;5;250m    \u001b[39m\u001b[38;5;124;03m\"\"\"Broadcast an array to a new shape.\u001b[39;00m\n\u001b[0;32m    379\u001b[0m \n\u001b[0;32m    380\u001b[0m \u001b[38;5;124;03m    Parameters\u001b[39;00m\n\u001b[1;32m   (...)\u001b[0m\n\u001b[0;32m    420\u001b[0m \u001b[38;5;124;03m           [1, 2, 3]])\u001b[39;00m\n\u001b[0;32m    421\u001b[0m \u001b[38;5;124;03m    \"\"\"\u001b[39;00m\n\u001b[1;32m--> 422\u001b[0m     \u001b[38;5;28;01mreturn\u001b[39;00m \u001b[43m_broadcast_to\u001b[49m\u001b[43m(\u001b[49m\u001b[43marray\u001b[49m\u001b[43m,\u001b[49m\u001b[43m \u001b[49m\u001b[43mshape\u001b[49m\u001b[43m,\u001b[49m\u001b[43m \u001b[49m\u001b[43msubok\u001b[49m\u001b[38;5;241;43m=\u001b[39;49m\u001b[43msubok\u001b[49m\u001b[43m,\u001b[49m\u001b[43m \u001b[49m\u001b[43mreadonly\u001b[49m\u001b[38;5;241;43m=\u001b[39;49m\u001b[38;5;28;43;01mTrue\u001b[39;49;00m\u001b[43m)\u001b[49m\n",
      "File \u001b[1;32mc:\\Users\\agung\\AppData\\Local\\Programs\\Python\\Python312\\Lib\\site-packages\\numpy\\lib\\_stride_tricks_impl.py:358\u001b[0m, in \u001b[0;36m_broadcast_to\u001b[1;34m(array, shape, subok, readonly)\u001b[0m\n\u001b[0;32m    355\u001b[0m     \u001b[38;5;28;01mraise\u001b[39;00m \u001b[38;5;167;01mValueError\u001b[39;00m(\u001b[38;5;124m'\u001b[39m\u001b[38;5;124mall elements of broadcast shape must be non-\u001b[39m\u001b[38;5;124m'\u001b[39m\n\u001b[0;32m    356\u001b[0m                      \u001b[38;5;124m'\u001b[39m\u001b[38;5;124mnegative\u001b[39m\u001b[38;5;124m'\u001b[39m)\n\u001b[0;32m    357\u001b[0m extras \u001b[38;5;241m=\u001b[39m []\n\u001b[1;32m--> 358\u001b[0m it \u001b[38;5;241m=\u001b[39m \u001b[43mnp\u001b[49m\u001b[38;5;241;43m.\u001b[39;49m\u001b[43mnditer\u001b[49m\u001b[43m(\u001b[49m\n\u001b[0;32m    359\u001b[0m \u001b[43m    \u001b[49m\u001b[43m(\u001b[49m\u001b[43marray\u001b[49m\u001b[43m,\u001b[49m\u001b[43m)\u001b[49m\u001b[43m,\u001b[49m\u001b[43m \u001b[49m\u001b[43mflags\u001b[49m\u001b[38;5;241;43m=\u001b[39;49m\u001b[43m[\u001b[49m\u001b[38;5;124;43m'\u001b[39;49m\u001b[38;5;124;43mmulti_index\u001b[39;49m\u001b[38;5;124;43m'\u001b[39;49m\u001b[43m,\u001b[49m\u001b[43m \u001b[49m\u001b[38;5;124;43m'\u001b[39;49m\u001b[38;5;124;43mrefs_ok\u001b[39;49m\u001b[38;5;124;43m'\u001b[39;49m\u001b[43m,\u001b[49m\u001b[43m \u001b[49m\u001b[38;5;124;43m'\u001b[39;49m\u001b[38;5;124;43mzerosize_ok\u001b[39;49m\u001b[38;5;124;43m'\u001b[39;49m\u001b[43m]\u001b[49m\u001b[43m \u001b[49m\u001b[38;5;241;43m+\u001b[39;49m\u001b[43m \u001b[49m\u001b[43mextras\u001b[49m\u001b[43m,\u001b[49m\n\u001b[0;32m    360\u001b[0m \u001b[43m    \u001b[49m\u001b[43mop_flags\u001b[49m\u001b[38;5;241;43m=\u001b[39;49m\u001b[43m[\u001b[49m\u001b[38;5;124;43m'\u001b[39;49m\u001b[38;5;124;43mreadonly\u001b[39;49m\u001b[38;5;124;43m'\u001b[39;49m\u001b[43m]\u001b[49m\u001b[43m,\u001b[49m\u001b[43m \u001b[49m\u001b[43mitershape\u001b[49m\u001b[38;5;241;43m=\u001b[39;49m\u001b[43mshape\u001b[49m\u001b[43m,\u001b[49m\u001b[43m \u001b[49m\u001b[43morder\u001b[49m\u001b[38;5;241;43m=\u001b[39;49m\u001b[38;5;124;43m'\u001b[39;49m\u001b[38;5;124;43mC\u001b[39;49m\u001b[38;5;124;43m'\u001b[39;49m\u001b[43m)\u001b[49m\n\u001b[0;32m    361\u001b[0m \u001b[38;5;28;01mwith\u001b[39;00m it:\n\u001b[0;32m    362\u001b[0m     \u001b[38;5;66;03m# never really has writebackifcopy semantics\u001b[39;00m\n\u001b[0;32m    363\u001b[0m     broadcast \u001b[38;5;241m=\u001b[39m it\u001b[38;5;241m.\u001b[39mitviews[\u001b[38;5;241m0\u001b[39m]\n",
      "\u001b[1;31mValueError\u001b[0m: operands could not be broadcast together with remapped shapes [original->remapped]: (2,)  and requested shape (3,3)"
     ]
    }
   ],
   "source": [
    "print(\"\\nBoradcast c: \\n\", np.broadcast_to(c, (3,3)))"
   ]
  },
  {
   "cell_type": "markdown",
   "id": "de86222f",
   "metadata": {},
   "source": []
  }
 ],
 "metadata": {
  "kernelspec": {
   "display_name": "Python 3",
   "language": "python",
   "name": "python3"
  },
  "language_info": {
   "codemirror_mode": {
    "name": "ipython",
    "version": 3
   },
   "file_extension": ".py",
   "mimetype": "text/x-python",
   "name": "python",
   "nbconvert_exporter": "python",
   "pygments_lexer": "ipython3",
   "version": "3.12.5"
  }
 },
 "nbformat": 4,
 "nbformat_minor": 5
}
