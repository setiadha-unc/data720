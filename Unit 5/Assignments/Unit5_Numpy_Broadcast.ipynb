{
 "cells": [
  {
   "cell_type": "markdown",
   "id": "c62036fb-a578-48ee-aaef-531e69f6045c",
   "metadata": {},
   "source": [
    "# Graded: 7 of 7 correct\n",
    "- [x] Array `A`: (3,3) random ints\n",
    "- [x] Array `b`: (3,) random ints\n",
    "- [x] `A * b`\n",
    "- [x] Explanation of `A * b`: show broadcast versions\n",
    "- [x] Array `c`: (2,) random ints\n",
    "- [x] `A * c`\n",
    "- [x] Explanation of `A * c`\n",
    "\n",
    "Comments:\n"
   ]
  },
  {
   "cell_type": "markdown",
   "id": "8fb72e31",
   "metadata": {},
   "source": [
    "## Unit 5 Numpy_Broadcast Quiz\n",
    "* The objective of this quiz is to understand how to use how broadcasting works with Numpy arrays."
   ]
  },
  {
   "cell_type": "code",
   "execution_count": 1,
   "id": "7fae945f",
   "metadata": {
    "tags": []
   },
   "outputs": [
    {
     "name": "stdout",
     "output_type": "stream",
     "text": [
      "Numpy version is 2.0.1\n"
     ]
    }
   ],
   "source": [
    "## Import Numpy and check version\n",
    "import numpy as np\n",
    "print(f\"Numpy version is {np.__version__}\")"
   ]
  },
  {
   "cell_type": "markdown",
   "id": "757c3bc7",
   "metadata": {},
   "source": [
    "## Broadcasting is a feature of Numpy arrays that allows arithmetic operations between arrays that are not necessarily of compatible dimension for the computation.\n",
    "* During such an operation, the arrays are \"broadcast\" to a certain size that makes the operartion possible.\n",
    "* Knowledge of broadcasting is useful in a number of places, for example deep learning methids."
   ]
  },
  {
   "cell_type": "markdown",
   "id": "f4633495-8623-41f3-99bf-4f9e1c590508",
   "metadata": {},
   "source": [
    "## Create  a Numpy array `A` as a (3, 3) array of random integers."
   ]
  },
  {
   "cell_type": "code",
   "execution_count": 2,
   "id": "77cf6d66",
   "metadata": {
    "tags": []
   },
   "outputs": [
    {
     "name": "stdout",
     "output_type": "stream",
     "text": [
      "A shape is (3, 3) \n",
      "and has data: \n",
      "[[6 9 9]\n",
      " [5 8 7]\n",
      " [3 2 6]]\n"
     ]
    }
   ],
   "source": [
    "A = np.random.randint(0, 10, (3, 3))\n",
    "print(f\"A shape is {A.shape} \\nand has data: \\n{A}\")"
   ]
  },
  {
   "cell_type": "markdown",
   "id": "c3b1ce6a-67e1-4d64-a71b-37f4e695d6a3",
   "metadata": {},
   "source": [
    "## Create a second numpy array, `b` of size (3,) of random integers."
   ]
  },
  {
   "cell_type": "code",
   "execution_count": 3,
   "id": "6ed21e4a-1ae9-48dc-91d5-332bf7ebab99",
   "metadata": {
    "tags": []
   },
   "outputs": [
    {
     "name": "stdout",
     "output_type": "stream",
     "text": [
      "b shape is (3,) \n",
      "and has data: \n",
      "[3 2 6]\n"
     ]
    }
   ],
   "source": [
    "b = np.random.randint(0, 10, (3,))\n",
    "print(f\"b shape is {b.shape} \\nand has data: \\n{b}\")"
   ]
  },
  {
   "cell_type": "markdown",
   "id": "2e776ac1-0f55-4edb-b885-f02662f56504",
   "metadata": {},
   "source": [
    "## Perform the operation `A*b`"
   ]
  },
  {
   "cell_type": "code",
   "execution_count": null,
   "id": "f42c9b1f-a211-4b49-a2c5-f3970275fdf1",
   "metadata": {
    "tags": []
   },
   "outputs": [],
   "source": [
    "Ab = A * b\n",
    "print(Ab)"
   ]
  },
  {
   "cell_type": "markdown",
   "id": "7061a3f7-4e03-4cab-93cb-d80669ee16d3",
   "metadata": {
    "tags": []
   },
   "source": [
    "## Explain why it was possible to compute `A*b` in the above case. \n",
    "* As part of your explanation, show the broadcast versions of `A` and `b`"
   ]
  },
  {
   "cell_type": "markdown",
   "id": "2d664b45-550d-4237-a8d8-dde5c16caea7",
   "metadata": {},
   "source": [
    "### Explanation here."
   ]
  },
  {
   "cell_type": "markdown",
   "id": "e97f27e4",
   "metadata": {},
   "source": [
    "When we want to compute A*b, the most important thing is the dimension of each matrix, it has to have the same dimension between col dimension of matrix A with rown dimension of matrix b  OR<br />\n",
    "with the given matrix <b>A[i x j]</b> and <b>b[m x n]</b> where <b>j=m</b>. <br />The way we run the operation is by multiplying A with b starting with the first row of matrix A with row of matrix b.\n"
   ]
  },
  {
   "cell_type": "markdown",
   "id": "68923ee1-b4b2-44cb-a597-09c1687efad3",
   "metadata": {},
   "source": [
    "## Now create a third array `c` that is a (2,) array of random integers."
   ]
  },
  {
   "cell_type": "code",
   "execution_count": 5,
   "id": "dc9edde4-2a86-47f7-98d4-e7147d472ce0",
   "metadata": {
    "tags": []
   },
   "outputs": [],
   "source": [
    "# Your code here"
   ]
  },
  {
   "cell_type": "markdown",
   "id": "1c6a8858-ea34-4d0f-b725-be9cafcca73a",
   "metadata": {},
   "source": [
    "## Perform the operation `A*c`"
   ]
  },
  {
   "cell_type": "code",
   "execution_count": 6,
   "id": "e5f3521c-48a8-4d3a-b45f-38de67fef388",
   "metadata": {
    "tags": []
   },
   "outputs": [],
   "source": [
    "# Your code here"
   ]
  },
  {
   "cell_type": "markdown",
   "id": "3084d4cd-7dca-48a8-b006-752ce9c81b3a",
   "metadata": {},
   "source": [
    "## Explain, in terms of broadcasting, why it was not possible to compute `A*c`"
   ]
  },
  {
   "cell_type": "markdown",
   "id": "cb9bea9c-86f6-4bc5-a7db-e85a60bc218a",
   "metadata": {},
   "source": [
    "### Your explanation here."
   ]
  },
  {
   "cell_type": "code",
   "execution_count": null,
   "id": "baeb790c-7b7d-4329-831b-d67a9eebdae2",
   "metadata": {},
   "outputs": [],
   "source": []
  }
 ],
 "metadata": {
  "kernelspec": {
   "display_name": "Python 3",
   "language": "python",
   "name": "python3"
  },
  "language_info": {
   "codemirror_mode": {
    "name": "ipython",
    "version": 3
   },
   "file_extension": ".py",
   "mimetype": "text/x-python",
   "name": "python",
   "nbconvert_exporter": "python",
   "pygments_lexer": "ipython3",
   "version": "3.12.5"
  }
 },
 "nbformat": 4,
 "nbformat_minor": 5
}
