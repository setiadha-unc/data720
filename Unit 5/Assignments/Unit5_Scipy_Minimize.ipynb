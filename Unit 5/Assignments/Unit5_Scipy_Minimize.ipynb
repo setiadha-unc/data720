{
 "cells": [
  {
   "cell_type": "markdown",
   "id": "210b5350-1cbd-40d6-a6f4-3392c5cb88fc",
   "metadata": {
    "tags": []
   },
   "source": [
    "# Graded: 2 of 2 correct\n",
    "- [x] Use correct function f(x)\n",
    "- [x] Find minimum\n",
    "\n",
    "Comments: "
   ]
  },
  {
   "cell_type": "markdown",
   "id": "dc9b5e2a",
   "metadata": {},
   "source": [
    "## Unit 5 Scipy Quiz\n",
    "* The objective of this quiz is for you to write code that uses the optimization methods in scipy.\n",
    "* Consider the function $f(x) = x^2 + 10 \\sin(x)$\n",
    "* Find the minimum value of $f(x)$ and the minimizing $x = x_{min}$ i.e. $f(x_{min})$ is a minimum.\n",
    "\n",
    "* You should organize your code appropriately to show a clean and thoughtful design.\n",
    "    * Use functions as needed.\n",
    "    * Break up into cells so smaller pieces can be easily tested.\n",
    "    * Add the appropriate documentation to make your code comprehensible."
   ]
  },
  {
   "cell_type": "code",
   "execution_count": null,
   "id": "c194bcd6",
   "metadata": {},
   "outputs": [],
   "source": [
    "from math import exp\n",
    "from math import sin\n",
    "from scipy.optimize import minimize_scalar # for single functions\n",
    "# from scipy.optimize import minimize # self note: for multiple variable functions"
   ]
  },
  {
   "cell_type": "code",
   "execution_count": 17,
   "id": "4a5221ce-d733-4154-b9fb-38a7d9b9d35e",
   "metadata": {},
   "outputs": [],
   "source": [
    "def f(x):\n",
    "    return x**2 + 10 * sin(x)"
   ]
  },
  {
   "cell_type": "code",
   "execution_count": 23,
   "id": "e5f226a5",
   "metadata": {},
   "outputs": [
    {
     "data": {
      "text/plain": [
       " message: \n",
       "          Optimization terminated successfully;\n",
       "          The returned value satisfies the termination criteria\n",
       "          (using xtol = 1.48e-08 )\n",
       " success: True\n",
       "     fun: -7.945823375615284\n",
       "       x: -1.3064400120612139\n",
       "     nit: 9\n",
       "    nfev: 13"
      ]
     },
     "execution_count": 23,
     "metadata": {},
     "output_type": "execute_result"
    }
   ],
   "source": [
    "min_x = minimize_scalar(f)\n",
    "min_x"
   ]
  },
  {
   "cell_type": "code",
   "execution_count": 21,
   "id": "fe457c12",
   "metadata": {},
   "outputs": [
    {
     "name": "stdout",
     "output_type": "stream",
     "text": [
      "Minimum value of f(x): -7.945823\n",
      "Minimizing x (xmin): -1.306440\n"
     ]
    }
   ],
   "source": [
    "xmin = min_x.x\n",
    "fmin = min_x.fun\n",
    "\n",
    "print(f\"Minimum value of f(x): {fmin:.6f}\")\n",
    "print(f\"Minimizing x (xmin): {xmin:.6f}\")"
   ]
  },
  {
   "cell_type": "code",
   "execution_count": null,
   "id": "975f727b",
   "metadata": {},
   "outputs": [],
   "source": []
  }
 ],
 "metadata": {
  "kernelspec": {
   "display_name": "Python 3",
   "language": "python",
   "name": "python3"
  },
  "language_info": {
   "codemirror_mode": {
    "name": "ipython",
    "version": 3
   },
   "file_extension": ".py",
   "mimetype": "text/x-python",
   "name": "python",
   "nbconvert_exporter": "python",
   "pygments_lexer": "ipython3",
   "version": "3.12.5"
  }
 },
 "nbformat": 4,
 "nbformat_minor": 5
}
