{
 "cells": [
  {
   "cell_type": "markdown",
   "id": "210b5350-1cbd-40d6-a6f4-3392c5cb88fc",
   "metadata": {
    "tags": []
   },
   "source": [
    "# Graded: 2 of 2 correct\n",
    "- [x] Use correct function f(x)\n",
    "- [x] Find minimum\n",
    "\n",
    "Comments: "
   ]
  },
  {
   "cell_type": "markdown",
   "id": "dc9b5e2a",
   "metadata": {},
   "source": [
    "## Unit 5 Scipy Quiz\n",
    "* The objective of this quiz is for you to write code that uses the optimization methods in scipy.\n",
    "* Consider the function $f(x) = x^2 + 10 \\sin(x)$\n",
    "* Find the minimum value of $f(x)$ and the minimizing $x = x_{min}$ i.e. $f(x_{min})$ is a minimum.\n",
    "\n",
    "* You should organize your code appropriately to show a clean and thoughtful design.\n",
    "    * Use functions as needed.\n",
    "    * Break up into cells so smaller pieces can be easily tested.\n",
    "    * Add the appropriate documentation to make your code comprehensible."
   ]
  },
  {
   "cell_type": "code",
   "execution_count": null,
   "id": "c194bcd6",
   "metadata": {},
   "outputs": [],
   "source": [
    "# Write the code for your program below."
   ]
  },
  {
   "cell_type": "code",
   "execution_count": null,
   "id": "4a5221ce-d733-4154-b9fb-38a7d9b9d35e",
   "metadata": {},
   "outputs": [],
   "source": []
  }
 ],
 "metadata": {
  "kernelspec": {
   "display_name": "Python 3 (ipykernel)",
   "language": "python",
   "name": "python3"
  },
  "language_info": {
   "codemirror_mode": {
    "name": "ipython",
    "version": 3
   },
   "file_extension": ".py",
   "mimetype": "text/x-python",
   "name": "python",
   "nbconvert_exporter": "python",
   "pygments_lexer": "ipython3",
   "version": "3.11.5"
  }
 },
 "nbformat": 4,
 "nbformat_minor": 5
}
