{
 "cells": [
  {
   "cell_type": "markdown",
   "metadata": {},
   "source": [
    "# Graded: 20 of 20 correct\n",
    "1. Part 1\n",
    "- [x] Create 1000 x 1000 matrix\n",
    "- [x] Row sum\n",
    "- [x] Column sum\n",
    "- [x] Time sums\n",
    "- [x] Loop row sum\n",
    "- [x] Loop col sum\n",
    "- [x] Time loop sums\n",
    "- [x] Compare numpy to loop\n",
    "\n",
    "2. Part 2\n",
    "- [x] X array\n",
    "- [x] Y array\n",
    "- [x] Print out vehicle count\n",
    "- [x] Train test split\n",
    "- [x] Y test/train histograms\n",
    "- [x] Linear regression fit\n",
    "- [x] Print the regression coefficients\n",
    "- [x] Print the mean squared error\n",
    "- [x] Print R^2\n",
    "- [x] Correct scatterplots\n",
    "- [x] Correct layout\n",
    "- [x] Axes/labels\n",
    "\n",
    "Comments: \n"
   ]
  },
  {
   "cell_type": "markdown",
   "metadata": {},
   "source": [
    "##### <img src=\"../SDSS-Logo.png\" style=\"display:inline; width:500px\" />\n"
   ]
  },
  {
   "cell_type": "markdown",
   "metadata": {},
   "source": [
    "# The objective of this programming exercise is two-fold:\n",
    "* To run an example that shows the computational efficiency of the Numpy numerical library;\n",
    "* Get experience with scikit-learn by building a predictive model from data."
   ]
  },
  {
   "cell_type": "code",
   "execution_count": 32,
   "metadata": {
    "tags": []
   },
   "outputs": [],
   "source": [
    "import numpy as np\n",
    "import matplotlib.pyplot as plt\n",
    "import pandas as pd\n",
    "import time"
   ]
  },
  {
   "cell_type": "markdown",
   "metadata": {},
   "source": [
    "## Part 1\n",
    "### For this part, you are going to compare the time it takes to compute row sums and column sums for a large matrix using Numpy functions vs for loops."
   ]
  },
  {
   "cell_type": "markdown",
   "metadata": {},
   "source": [
    "#### Numpy method\n",
    "* Create a large matrix of size `(1000 X 1000)` of random values.\n",
    "* Use the Numpy `np.sum()` method to calculate the row sums and column sums of this matrix.\n",
    "* Track the amount of time it took to calculate the row sum and the column sum.\n",
    "    * You can use the `time.time()` function to track time."
   ]
  },
  {
   "cell_type": "code",
   "execution_count": 33,
   "metadata": {
    "tags": []
   },
   "outputs": [],
   "source": [
    "# Write your code here"
   ]
  },
  {
   "cell_type": "markdown",
   "metadata": {},
   "source": [
    "#### for loop method\n",
    "* Now use `for` loops to compute the row sums and columns sums for the same matrix.\n",
    "* Again, track the time using the `time.time()` function"
   ]
  },
  {
   "cell_type": "code",
   "execution_count": 34,
   "metadata": {
    "tags": []
   },
   "outputs": [],
   "source": [
    "# Your code here"
   ]
  },
  {
   "cell_type": "markdown",
   "metadata": {},
   "source": [
    "#### Compare the time taken by the two methods.\n",
    "* What is your conclusion?\n",
    "* Try other array computations and compare the difference."
   ]
  },
  {
   "cell_type": "code",
   "execution_count": 35,
   "metadata": {
    "tags": []
   },
   "outputs": [],
   "source": [
    "# Write your code here"
   ]
  },
  {
   "cell_type": "markdown",
   "metadata": {},
   "source": [
    "## Part 2\n",
    "## For this part, you will create a predictive model using scikit-learn to predict vehicle MPG from vehicle characteristic data.\n",
    "* The data for this part is from [EPA fuel ecomony](https://www.fueleconomy.gov/) website.\n",
    "* For the purpose of this programming exercise, we have downloaded this data and modified it to create a reasonably clean analytical data set.\n",
    "* The data set includes the model years 2020-2023."
   ]
  },
  {
   "cell_type": "markdown",
   "metadata": {},
   "source": [
    "### Load the vehicles data set for 2020-2023.\n",
    "* The data is in the CSV file `carDataMPG2023.csv`\n",
    "* The code below uses the pandas `read_csv()` function to read the data into a pandas data frame.\n",
    "    * You will learn about pandas and data frame in the next unit, but here we are using it here to simplify the setting up of the problem."
   ]
  },
  {
   "cell_type": "code",
   "execution_count": 36,
   "metadata": {
    "tags": []
   },
   "outputs": [
    {
     "data": {
      "text/html": [
       "<div>\n",
       "<style scoped>\n",
       "    .dataframe tbody tr th:only-of-type {\n",
       "        vertical-align: middle;\n",
       "    }\n",
       "\n",
       "    .dataframe tbody tr th {\n",
       "        vertical-align: top;\n",
       "    }\n",
       "\n",
       "    .dataframe thead th {\n",
       "        text-align: right;\n",
       "    }\n",
       "</style>\n",
       "<table border=\"1\" class=\"dataframe\">\n",
       "  <thead>\n",
       "    <tr style=\"text-align: right;\">\n",
       "      <th></th>\n",
       "      <th>id</th>\n",
       "      <th>make</th>\n",
       "      <th>model</th>\n",
       "      <th>year</th>\n",
       "      <th>fuelType1</th>\n",
       "      <th>drive</th>\n",
       "      <th>trany</th>\n",
       "      <th>VClass</th>\n",
       "      <th>cylinders</th>\n",
       "      <th>displ</th>\n",
       "      <th>speeds</th>\n",
       "      <th>drive_number</th>\n",
       "      <th>avgMpg</th>\n",
       "    </tr>\n",
       "  </thead>\n",
       "  <tbody>\n",
       "    <tr>\n",
       "      <th>0</th>\n",
       "      <td>41213</td>\n",
       "      <td>Toyota</td>\n",
       "      <td>Corolla</td>\n",
       "      <td>2020</td>\n",
       "      <td>Regular Gasoline</td>\n",
       "      <td>Front-Wheel Drive</td>\n",
       "      <td>Automatic (AV-S10)</td>\n",
       "      <td>Compact Cars</td>\n",
       "      <td>4.0</td>\n",
       "      <td>2.0</td>\n",
       "      <td>10.0</td>\n",
       "      <td>2</td>\n",
       "      <td>46.31000</td>\n",
       "    </tr>\n",
       "    <tr>\n",
       "      <th>1</th>\n",
       "      <td>41215</td>\n",
       "      <td>Toyota</td>\n",
       "      <td>Corolla</td>\n",
       "      <td>2020</td>\n",
       "      <td>Regular Gasoline</td>\n",
       "      <td>Front-Wheel Drive</td>\n",
       "      <td>Manual 6-spd</td>\n",
       "      <td>Compact Cars</td>\n",
       "      <td>4.0</td>\n",
       "      <td>2.0</td>\n",
       "      <td>6.0</td>\n",
       "      <td>2</td>\n",
       "      <td>42.54910</td>\n",
       "    </tr>\n",
       "    <tr>\n",
       "      <th>2</th>\n",
       "      <td>41216</td>\n",
       "      <td>Toyota</td>\n",
       "      <td>Corolla XSE</td>\n",
       "      <td>2020</td>\n",
       "      <td>Regular Gasoline</td>\n",
       "      <td>Front-Wheel Drive</td>\n",
       "      <td>Automatic (AV-S10)</td>\n",
       "      <td>Compact Cars</td>\n",
       "      <td>4.0</td>\n",
       "      <td>2.0</td>\n",
       "      <td>10.0</td>\n",
       "      <td>2</td>\n",
       "      <td>45.39342</td>\n",
       "    </tr>\n",
       "    <tr>\n",
       "      <th>3</th>\n",
       "      <td>41218</td>\n",
       "      <td>Toyota</td>\n",
       "      <td>Corolla</td>\n",
       "      <td>2020</td>\n",
       "      <td>Regular Gasoline</td>\n",
       "      <td>Front-Wheel Drive</td>\n",
       "      <td>Manual 6-spd</td>\n",
       "      <td>Compact Cars</td>\n",
       "      <td>4.0</td>\n",
       "      <td>1.8</td>\n",
       "      <td>6.0</td>\n",
       "      <td>2</td>\n",
       "      <td>44.54000</td>\n",
       "    </tr>\n",
       "    <tr>\n",
       "      <th>4</th>\n",
       "      <td>41222</td>\n",
       "      <td>Kia</td>\n",
       "      <td>Soul</td>\n",
       "      <td>2020</td>\n",
       "      <td>Regular Gasoline</td>\n",
       "      <td>Front-Wheel Drive</td>\n",
       "      <td>Manual 6-spd</td>\n",
       "      <td>Small Station Wagons</td>\n",
       "      <td>4.0</td>\n",
       "      <td>2.0</td>\n",
       "      <td>6.0</td>\n",
       "      <td>2</td>\n",
       "      <td>35.47000</td>\n",
       "    </tr>\n",
       "    <tr>\n",
       "      <th>5</th>\n",
       "      <td>41223</td>\n",
       "      <td>Kia</td>\n",
       "      <td>Soul</td>\n",
       "      <td>2020</td>\n",
       "      <td>Regular Gasoline</td>\n",
       "      <td>Front-Wheel Drive</td>\n",
       "      <td>Automatic (AM-S7)</td>\n",
       "      <td>Small Station Wagons</td>\n",
       "      <td>4.0</td>\n",
       "      <td>1.6</td>\n",
       "      <td>7.0</td>\n",
       "      <td>2</td>\n",
       "      <td>37.86000</td>\n",
       "    </tr>\n",
       "    <tr>\n",
       "      <th>6</th>\n",
       "      <td>41227</td>\n",
       "      <td>Kia</td>\n",
       "      <td>Sportage FWD</td>\n",
       "      <td>2020</td>\n",
       "      <td>Regular Gasoline</td>\n",
       "      <td>Front-Wheel Drive</td>\n",
       "      <td>Automatic (S6)</td>\n",
       "      <td>Small Sport Utility Vehicle 2WD</td>\n",
       "      <td>4.0</td>\n",
       "      <td>2.4</td>\n",
       "      <td>6.0</td>\n",
       "      <td>2</td>\n",
       "      <td>33.36895</td>\n",
       "    </tr>\n",
       "    <tr>\n",
       "      <th>7</th>\n",
       "      <td>41228</td>\n",
       "      <td>Kia</td>\n",
       "      <td>Sportage FWD</td>\n",
       "      <td>2020</td>\n",
       "      <td>Regular Gasoline</td>\n",
       "      <td>Front-Wheel Drive</td>\n",
       "      <td>Automatic (S6)</td>\n",
       "      <td>Small Sport Utility Vehicle 2WD</td>\n",
       "      <td>4.0</td>\n",
       "      <td>2.0</td>\n",
       "      <td>6.0</td>\n",
       "      <td>2</td>\n",
       "      <td>29.61000</td>\n",
       "    </tr>\n",
       "    <tr>\n",
       "      <th>8</th>\n",
       "      <td>41229</td>\n",
       "      <td>Kia</td>\n",
       "      <td>Telluride FWD</td>\n",
       "      <td>2020</td>\n",
       "      <td>Regular Gasoline</td>\n",
       "      <td>Front-Wheel Drive</td>\n",
       "      <td>Automatic (S8)</td>\n",
       "      <td>Small Sport Utility Vehicle 2WD</td>\n",
       "      <td>6.0</td>\n",
       "      <td>3.8</td>\n",
       "      <td>8.0</td>\n",
       "      <td>2</td>\n",
       "      <td>29.00000</td>\n",
       "    </tr>\n",
       "    <tr>\n",
       "      <th>9</th>\n",
       "      <td>41230</td>\n",
       "      <td>Kia</td>\n",
       "      <td>Sportage AWD</td>\n",
       "      <td>2020</td>\n",
       "      <td>Regular Gasoline</td>\n",
       "      <td>All-Wheel Drive</td>\n",
       "      <td>Automatic (S6)</td>\n",
       "      <td>Small Sport Utility Vehicle 4WD</td>\n",
       "      <td>4.0</td>\n",
       "      <td>2.4</td>\n",
       "      <td>6.0</td>\n",
       "      <td>4</td>\n",
       "      <td>30.21267</td>\n",
       "    </tr>\n",
       "  </tbody>\n",
       "</table>\n",
       "</div>"
      ],
      "text/plain": [
       "      id    make          model  year         fuelType1              drive  \\\n",
       "0  41213  Toyota        Corolla  2020  Regular Gasoline  Front-Wheel Drive   \n",
       "1  41215  Toyota        Corolla  2020  Regular Gasoline  Front-Wheel Drive   \n",
       "2  41216  Toyota    Corolla XSE  2020  Regular Gasoline  Front-Wheel Drive   \n",
       "3  41218  Toyota        Corolla  2020  Regular Gasoline  Front-Wheel Drive   \n",
       "4  41222     Kia           Soul  2020  Regular Gasoline  Front-Wheel Drive   \n",
       "5  41223     Kia           Soul  2020  Regular Gasoline  Front-Wheel Drive   \n",
       "6  41227     Kia   Sportage FWD  2020  Regular Gasoline  Front-Wheel Drive   \n",
       "7  41228     Kia   Sportage FWD  2020  Regular Gasoline  Front-Wheel Drive   \n",
       "8  41229     Kia  Telluride FWD  2020  Regular Gasoline  Front-Wheel Drive   \n",
       "9  41230     Kia   Sportage AWD  2020  Regular Gasoline    All-Wheel Drive   \n",
       "\n",
       "                trany                           VClass  cylinders  displ  \\\n",
       "0  Automatic (AV-S10)                     Compact Cars        4.0    2.0   \n",
       "1        Manual 6-spd                     Compact Cars        4.0    2.0   \n",
       "2  Automatic (AV-S10)                     Compact Cars        4.0    2.0   \n",
       "3        Manual 6-spd                     Compact Cars        4.0    1.8   \n",
       "4        Manual 6-spd             Small Station Wagons        4.0    2.0   \n",
       "5   Automatic (AM-S7)             Small Station Wagons        4.0    1.6   \n",
       "6      Automatic (S6)  Small Sport Utility Vehicle 2WD        4.0    2.4   \n",
       "7      Automatic (S6)  Small Sport Utility Vehicle 2WD        4.0    2.0   \n",
       "8      Automatic (S8)  Small Sport Utility Vehicle 2WD        6.0    3.8   \n",
       "9      Automatic (S6)  Small Sport Utility Vehicle 4WD        4.0    2.4   \n",
       "\n",
       "   speeds  drive_number    avgMpg  \n",
       "0    10.0             2  46.31000  \n",
       "1     6.0             2  42.54910  \n",
       "2    10.0             2  45.39342  \n",
       "3     6.0             2  44.54000  \n",
       "4     6.0             2  35.47000  \n",
       "5     7.0             2  37.86000  \n",
       "6     6.0             2  33.36895  \n",
       "7     6.0             2  29.61000  \n",
       "8     8.0             2  29.00000  \n",
       "9     6.0             4  30.21267  "
      ]
     },
     "execution_count": 36,
     "metadata": {},
     "output_type": "execute_result"
    }
   ],
   "source": [
    "# Read the car MPG data\n",
    "carDataRead = pd.read_csv(\"carDataMPG2023.csv\")\n",
    "carDataRead.head(10)"
   ]
  },
  {
   "cell_type": "markdown",
   "metadata": {},
   "source": [
    "### Next create Numpy arrays of the predictor and target variables.\n",
    "* The predictor variables will be the columns `cylinders`, `displ`, `speeds` and `drive_number`\n",
    "    * Call the array of predictor variables X\n",
    "* The target variable will be the column `avgMpg`\n",
    "    * Call the array of target variable Y\n",
    "* The Numpy `np.array()` function can convert a homogeneous section of a data frame to a Numpy array."
   ]
  },
  {
   "cell_type": "code",
   "execution_count": 37,
   "metadata": {
    "tags": []
   },
   "outputs": [],
   "source": [
    "# Your code here"
   ]
  },
  {
   "cell_type": "markdown",
   "metadata": {},
   "source": [
    "### Print out the number of vehicles in the dataset"
   ]
  },
  {
   "cell_type": "code",
   "execution_count": 38,
   "metadata": {
    "tags": []
   },
   "outputs": [],
   "source": [
    "# Your code here"
   ]
  },
  {
   "cell_type": "markdown",
   "metadata": {},
   "source": [
    "### Split the X and Y arrays into training and testing datasets using `train_test_split()`.\n",
    "* Keep 80% of the data for training and 20% for testing. \n",
    "* Call the training and testing splits `X_train`, `Y_train`, `X_test` and `Y_test`."
   ]
  },
  {
   "cell_type": "code",
   "execution_count": 39,
   "metadata": {
    "tags": []
   },
   "outputs": [],
   "source": [
    "# Your code here"
   ]
  },
  {
   "cell_type": "markdown",
   "metadata": {},
   "source": [
    "### Plot the histograms of `Y_test` and `Y_train` to make sure they are comparable.\n",
    "* With a large dataset of this size, this is less of a problem than with small data set.\n",
    "* Nonetheless  it is worth checking that the training-test split has not biased one of these subsets in one way or another."
   ]
  },
  {
   "cell_type": "code",
   "execution_count": 40,
   "metadata": {
    "tags": []
   },
   "outputs": [],
   "source": [
    "# Your code here"
   ]
  },
  {
   "cell_type": "markdown",
   "metadata": {},
   "source": [
    "### Linear regression fit\n",
    "* Use the `LinearRegression` model in scikit learn to fit a regression model with `X_train` as the predictor variable and `Y_train` as the target.\n",
    "* Use the `predict()` method from the fitted model to predict `avgMpg` from `X_test`, and call the predicted value `Y_pred`."
   ]
  },
  {
   "cell_type": "code",
   "execution_count": 41,
   "metadata": {
    "tags": []
   },
   "outputs": [],
   "source": [
    "# Your code here"
   ]
  },
  {
   "cell_type": "markdown",
   "metadata": {},
   "source": [
    "### Outputs\n",
    "* Print the regression coefficients\n",
    "* Print the mean squared error between `Y_test` and `Y_pred`\n",
    "* Print the R^2, called the [coefficient of determination,](https://en.wikipedia.org/wiki/Coefficient_of_determination) between `Y_test` and `Y_pred`"
   ]
  },
  {
   "cell_type": "code",
   "execution_count": 42,
   "metadata": {
    "tags": []
   },
   "outputs": [],
   "source": [
    "# Your code here"
   ]
  },
  {
   "cell_type": "markdown",
   "metadata": {},
   "source": [
    "### Scatter plots\n",
    "* Create scatter plots of `Y_test` and `Y_pred` against each of the 4 predictor variables `cylinders`, `displ`, `speeds`, `drive_number`.\n",
    "* Do this as subplots in a 2 X 2 grid. \n",
    "* Label the subplots appropriately.\n",
    "* Include axis labels also."
   ]
  },
  {
   "cell_type": "code",
   "execution_count": 43,
   "metadata": {
    "tags": []
   },
   "outputs": [],
   "source": [
    "# Your code here"
   ]
  }
 ],
 "metadata": {
  "celltoolbar": "Edit Metadata",
  "kernelspec": {
   "display_name": "Python 3 (ipykernel)",
   "language": "python",
   "name": "python3"
  },
  "language_info": {
   "codemirror_mode": {
    "name": "ipython",
    "version": 3
   },
   "file_extension": ".py",
   "mimetype": "text/x-python",
   "name": "python",
   "nbconvert_exporter": "python",
   "pygments_lexer": "ipython3",
   "version": "3.12.4"
  }
 },
 "nbformat": 4,
 "nbformat_minor": 4
}
