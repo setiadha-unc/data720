{
 "cells": [
  {
   "cell_type": "markdown",
   "metadata": {},
   "source": [
    "# Graded: 20 of 20 correct\n",
    "1. Part 1\n",
    "- [x] Create 1000 x 1000 matrix\n",
    "- [x] Row sum\n",
    "- [x] Column sum\n",
    "- [x] Time sums\n",
    "- [x] Loop row sum\n",
    "- [x] Loop col sum\n",
    "- [x] Time loop sums\n",
    "- [x] Compare numpy to loop\n",
    "\n",
    "2. Part 2\n",
    "- [x] X array\n",
    "- [x] Y array\n",
    "- [x] Print out vehicle count\n",
    "- [x] Train test split\n",
    "- [x] Y test/train histograms\n",
    "- [x] Linear regression fit\n",
    "- [x] Print the regression coefficients\n",
    "- [x] Print the mean squared error\n",
    "- [x] Print R^2\n",
    "- [x] Correct scatterplots\n",
    "- [x] Correct layout\n",
    "- [x] Axes/labels\n",
    "\n",
    "Comments: \n"
   ]
  },
  {
   "cell_type": "markdown",
   "metadata": {},
   "source": [
    "##### <img src=\"../SDSS-Logo.png\" style=\"display:inline; width:500px\" />\n"
   ]
  },
  {
   "cell_type": "markdown",
   "metadata": {},
   "source": [
    "# The objective of this programming exercise is two-fold:\n",
    "* To run an example that shows the computational efficiency of the Numpy numerical library;\n",
    "* Get experience with scikit-learn by building a predictive model from data."
   ]
  },
  {
   "cell_type": "code",
   "execution_count": 1,
   "metadata": {
    "tags": []
   },
   "outputs": [],
   "source": [
    "import numpy as np\n",
    "import matplotlib.pyplot as plt\n",
    "import pandas as pd\n",
    "import time"
   ]
  },
  {
   "cell_type": "markdown",
   "metadata": {},
   "source": [
    "## Part 1\n",
    "### For this part, you are going to compare the time it takes to compute row sums and column sums for a large matrix using Numpy functions vs for loops."
   ]
  },
  {
   "cell_type": "markdown",
   "metadata": {},
   "source": [
    "#### Numpy method\n",
    "* Create a large matrix of size `(1000 X 1000)` of random values.\n",
    "* Use the Numpy `np.sum()` method to calculate the row sums and column sums of this matrix.\n",
    "* Track the amount of time it took to calculate the row sum and the column sum.\n",
    "    * You can use the `time.time()` function to track time."
   ]
  },
  {
   "cell_type": "code",
   "execution_count": 2,
   "metadata": {},
   "outputs": [],
   "source": [
    "m1k = np.random.randint(0,10, (1000,1000))"
   ]
  },
  {
   "cell_type": "code",
   "execution_count": 3,
   "metadata": {
    "tags": []
   },
   "outputs": [
    {
     "name": "stdout",
     "output_type": "stream",
     "text": [
      "Processing time to sum col and row: 0.001009225845336914 s\n"
     ]
    }
   ],
   "source": [
    "def sum_col_row_np(np_matrix):\n",
    "\ttime_begin = time.time()\n",
    "\tsum_col = np.sum(np_matrix, 0)\n",
    "\tsum_row = np.sum(np_matrix, 1)\n",
    "\ttime_end = time.time()\n",
    "\treturn time_end-time_begin\n",
    "\n",
    "print(f\"\"\"Processing time to sum col and row: {sum_col_row_np(m1k)} s\"\"\")"
   ]
  },
  {
   "cell_type": "markdown",
   "metadata": {},
   "source": [
    "#### for loop method\n",
    "* Now use `for` loops to compute the row sums and columns sums for the same matrix.\n",
    "* Again, track the time using the `time.time()` function"
   ]
  },
  {
   "cell_type": "code",
   "execution_count": 4,
   "metadata": {
    "tags": []
   },
   "outputs": [
    {
     "name": "stdout",
     "output_type": "stream",
     "text": [
      "Processing time to sum col and row: 0.5457260608673096 s\n"
     ]
    }
   ],
   "source": [
    "def sum_col_row_loop(loop_matrix):\n",
    "\tloop_begin = time.time()\n",
    "\tsum_loop_row = np.zeros(loop_matrix.shape[0])\n",
    "\tsum_loop_col = np.zeros(loop_matrix.shape[1])\n",
    "\tfor i in range(loop_matrix.shape[0]): # get row count\n",
    "\t\tfor j in range(loop_matrix.shape[1]): # get col count\n",
    "\t\t\tsum_loop_row[i] += loop_matrix[i][j]\n",
    "\t\t\tsum_loop_col[j] += loop_matrix[i][j]        \n",
    "\tloop_end = time.time()\n",
    "\n",
    "\treturn loop_end-loop_begin\n",
    "\n",
    "print(f\"\"\"Processing time to sum col and row: {sum_col_row_loop(m1k)} s\"\"\")"
   ]
  },
  {
   "cell_type": "markdown",
   "metadata": {},
   "source": [
    "#### Compare the time taken by the two methods.\n",
    "* What is your conclusion?\n",
    "* Try other array computations and compare the difference."
   ]
  },
  {
   "cell_type": "markdown",
   "metadata": {
    "tags": []
   },
   "source": [
    "Using loop iteration is known as inefficient because we iterate the element one by one and it consumes memory back and forth fetching the value and do whatever processing we write. While using Numpy sum, the function is already written and optimized for vectorized operations."
   ]
  },
  {
   "cell_type": "code",
   "execution_count": null,
   "metadata": {},
   "outputs": [
    {
     "name": "stdout",
     "output_type": "stream",
     "text": [
      "Processing time to sum col and row Np.sum : 0.03491568565368652 s\n",
      "Processing time to sum col and row loop\t: 12.809828519821167 s\n"
     ]
    },
    {
     "ename": "",
     "evalue": "",
     "output_type": "error",
     "traceback": [
      "\u001b[1;31mThe Kernel crashed while executing code in the current cell or a previous cell. \n",
      "\u001b[1;31mPlease review the code in the cell(s) to identify a possible cause of the failure. \n",
      "\u001b[1;31mClick <a href='https://aka.ms/vscodeJupyterKernelCrash'>here</a> for more info. \n",
      "\u001b[1;31mView Jupyter <a href='command:jupyter.viewOutput'>log</a> for further details."
     ]
    }
   ],
   "source": [
    "m5k = np.random.randint(0, 10, (5000, 5000))\n",
    "\n",
    "print(f\"\"\"Processing time to sum col and row Np.sum : {sum_col_row_np(m5k)} s\"\"\")\n",
    "print(f\"\"\"Processing time to sum col and row loop\t: {sum_col_row_loop(m5k)} s\"\"\")"
   ]
  },
  {
   "cell_type": "markdown",
   "metadata": {},
   "source": [
    "## Part 2\n",
    "## For this part, you will create a predictive model using scikit-learn to predict vehicle MPG from vehicle characteristic data.\n",
    "* The data for this part is from [EPA fuel ecomony](https://www.fueleconomy.gov/) website.\n",
    "* For the purpose of this programming exercise, we have downloaded this data and modified it to create a reasonably clean analytical data set.\n",
    "* The data set includes the model years 2020-2023."
   ]
  },
  {
   "cell_type": "markdown",
   "metadata": {},
   "source": [
    "### Load the vehicles data set for 2020-2023.\n",
    "* The data is in the CSV file `carDataMPG2023.csv`\n",
    "* The code below uses the pandas `read_csv()` function to read the data into a pandas data frame.\n",
    "    * You will learn about pandas and data frame in the next unit, but here we are using it here to simplify the setting up of the problem."
   ]
  },
  {
   "cell_type": "code",
   "execution_count": 21,
   "metadata": {
    "tags": []
   },
   "outputs": [
    {
     "data": {
      "text/html": [
       "<div>\n",
       "<style scoped>\n",
       "    .dataframe tbody tr th:only-of-type {\n",
       "        vertical-align: middle;\n",
       "    }\n",
       "\n",
       "    .dataframe tbody tr th {\n",
       "        vertical-align: top;\n",
       "    }\n",
       "\n",
       "    .dataframe thead th {\n",
       "        text-align: right;\n",
       "    }\n",
       "</style>\n",
       "<table border=\"1\" class=\"dataframe\">\n",
       "  <thead>\n",
       "    <tr style=\"text-align: right;\">\n",
       "      <th></th>\n",
       "      <th>id</th>\n",
       "      <th>make</th>\n",
       "      <th>model</th>\n",
       "      <th>year</th>\n",
       "      <th>fuelType1</th>\n",
       "      <th>drive</th>\n",
       "      <th>trany</th>\n",
       "      <th>VClass</th>\n",
       "      <th>cylinders</th>\n",
       "      <th>displ</th>\n",
       "      <th>speeds</th>\n",
       "      <th>drive_number</th>\n",
       "      <th>avgMpg</th>\n",
       "    </tr>\n",
       "  </thead>\n",
       "  <tbody>\n",
       "    <tr>\n",
       "      <th>0</th>\n",
       "      <td>41213</td>\n",
       "      <td>Toyota</td>\n",
       "      <td>Corolla</td>\n",
       "      <td>2020</td>\n",
       "      <td>Regular Gasoline</td>\n",
       "      <td>Front-Wheel Drive</td>\n",
       "      <td>Automatic (AV-S10)</td>\n",
       "      <td>Compact Cars</td>\n",
       "      <td>4.0</td>\n",
       "      <td>2.0</td>\n",
       "      <td>10.0</td>\n",
       "      <td>2</td>\n",
       "      <td>46.31000</td>\n",
       "    </tr>\n",
       "    <tr>\n",
       "      <th>1</th>\n",
       "      <td>41215</td>\n",
       "      <td>Toyota</td>\n",
       "      <td>Corolla</td>\n",
       "      <td>2020</td>\n",
       "      <td>Regular Gasoline</td>\n",
       "      <td>Front-Wheel Drive</td>\n",
       "      <td>Manual 6-spd</td>\n",
       "      <td>Compact Cars</td>\n",
       "      <td>4.0</td>\n",
       "      <td>2.0</td>\n",
       "      <td>6.0</td>\n",
       "      <td>2</td>\n",
       "      <td>42.54910</td>\n",
       "    </tr>\n",
       "    <tr>\n",
       "      <th>2</th>\n",
       "      <td>41216</td>\n",
       "      <td>Toyota</td>\n",
       "      <td>Corolla XSE</td>\n",
       "      <td>2020</td>\n",
       "      <td>Regular Gasoline</td>\n",
       "      <td>Front-Wheel Drive</td>\n",
       "      <td>Automatic (AV-S10)</td>\n",
       "      <td>Compact Cars</td>\n",
       "      <td>4.0</td>\n",
       "      <td>2.0</td>\n",
       "      <td>10.0</td>\n",
       "      <td>2</td>\n",
       "      <td>45.39342</td>\n",
       "    </tr>\n",
       "    <tr>\n",
       "      <th>3</th>\n",
       "      <td>41218</td>\n",
       "      <td>Toyota</td>\n",
       "      <td>Corolla</td>\n",
       "      <td>2020</td>\n",
       "      <td>Regular Gasoline</td>\n",
       "      <td>Front-Wheel Drive</td>\n",
       "      <td>Manual 6-spd</td>\n",
       "      <td>Compact Cars</td>\n",
       "      <td>4.0</td>\n",
       "      <td>1.8</td>\n",
       "      <td>6.0</td>\n",
       "      <td>2</td>\n",
       "      <td>44.54000</td>\n",
       "    </tr>\n",
       "    <tr>\n",
       "      <th>4</th>\n",
       "      <td>41222</td>\n",
       "      <td>Kia</td>\n",
       "      <td>Soul</td>\n",
       "      <td>2020</td>\n",
       "      <td>Regular Gasoline</td>\n",
       "      <td>Front-Wheel Drive</td>\n",
       "      <td>Manual 6-spd</td>\n",
       "      <td>Small Station Wagons</td>\n",
       "      <td>4.0</td>\n",
       "      <td>2.0</td>\n",
       "      <td>6.0</td>\n",
       "      <td>2</td>\n",
       "      <td>35.47000</td>\n",
       "    </tr>\n",
       "    <tr>\n",
       "      <th>...</th>\n",
       "      <td>...</td>\n",
       "      <td>...</td>\n",
       "      <td>...</td>\n",
       "      <td>...</td>\n",
       "      <td>...</td>\n",
       "      <td>...</td>\n",
       "      <td>...</td>\n",
       "      <td>...</td>\n",
       "      <td>...</td>\n",
       "      <td>...</td>\n",
       "      <td>...</td>\n",
       "      <td>...</td>\n",
       "      <td>...</td>\n",
       "    </tr>\n",
       "    <tr>\n",
       "      <th>4531</th>\n",
       "      <td>47517</td>\n",
       "      <td>Mitsubishi</td>\n",
       "      <td>Outlander Sport 2WD</td>\n",
       "      <td>2023</td>\n",
       "      <td>Regular Gasoline</td>\n",
       "      <td>Front-Wheel Drive</td>\n",
       "      <td>Automatic (AV-S6)</td>\n",
       "      <td>Small Sport Utility Vehicle 2WD</td>\n",
       "      <td>4.0</td>\n",
       "      <td>2.4</td>\n",
       "      <td>6.0</td>\n",
       "      <td>2</td>\n",
       "      <td>33.59417</td>\n",
       "    </tr>\n",
       "    <tr>\n",
       "      <th>4532</th>\n",
       "      <td>47518</td>\n",
       "      <td>Mercedes-Benz</td>\n",
       "      <td>GLC300 4matic</td>\n",
       "      <td>2023</td>\n",
       "      <td>Premium Gasoline</td>\n",
       "      <td>All-Wheel Drive</td>\n",
       "      <td>Automatic 9-spd</td>\n",
       "      <td>Small Sport Utility Vehicle 4WD</td>\n",
       "      <td>4.0</td>\n",
       "      <td>2.0</td>\n",
       "      <td>9.0</td>\n",
       "      <td>4</td>\n",
       "      <td>34.07000</td>\n",
       "    </tr>\n",
       "    <tr>\n",
       "      <th>4533</th>\n",
       "      <td>47519</td>\n",
       "      <td>Toyota</td>\n",
       "      <td>Corolla Cross Hybrid AWD</td>\n",
       "      <td>2023</td>\n",
       "      <td>Regular Gasoline</td>\n",
       "      <td>All-Wheel Drive</td>\n",
       "      <td>Automatic (AV-S6)</td>\n",
       "      <td>Small Sport Utility Vehicle 4WD</td>\n",
       "      <td>4.0</td>\n",
       "      <td>2.0</td>\n",
       "      <td>6.0</td>\n",
       "      <td>4</td>\n",
       "      <td>64.02492</td>\n",
       "    </tr>\n",
       "    <tr>\n",
       "      <th>4534</th>\n",
       "      <td>47520</td>\n",
       "      <td>INEOS Automotive</td>\n",
       "      <td>Grenadier</td>\n",
       "      <td>2023</td>\n",
       "      <td>Premium Gasoline</td>\n",
       "      <td>4-Wheel Drive</td>\n",
       "      <td>Automatic (S8)</td>\n",
       "      <td>Standard Sport Utility Vehicle 4WD</td>\n",
       "      <td>6.0</td>\n",
       "      <td>3.0</td>\n",
       "      <td>8.0</td>\n",
       "      <td>4</td>\n",
       "      <td>19.75000</td>\n",
       "    </tr>\n",
       "    <tr>\n",
       "      <th>4535</th>\n",
       "      <td>47521</td>\n",
       "      <td>INEOS Automotive</td>\n",
       "      <td>Grenadier Trialmaster Edition</td>\n",
       "      <td>2023</td>\n",
       "      <td>Premium Gasoline</td>\n",
       "      <td>4-Wheel Drive</td>\n",
       "      <td>Automatic (S8)</td>\n",
       "      <td>Standard Sport Utility Vehicle 4WD</td>\n",
       "      <td>6.0</td>\n",
       "      <td>3.0</td>\n",
       "      <td>8.0</td>\n",
       "      <td>4</td>\n",
       "      <td>18.45000</td>\n",
       "    </tr>\n",
       "  </tbody>\n",
       "</table>\n",
       "<p>4536 rows × 13 columns</p>\n",
       "</div>"
      ],
      "text/plain": [
       "         id              make                          model  year  \\\n",
       "0     41213            Toyota                        Corolla  2020   \n",
       "1     41215            Toyota                        Corolla  2020   \n",
       "2     41216            Toyota                    Corolla XSE  2020   \n",
       "3     41218            Toyota                        Corolla  2020   \n",
       "4     41222               Kia                           Soul  2020   \n",
       "...     ...               ...                            ...   ...   \n",
       "4531  47517        Mitsubishi            Outlander Sport 2WD  2023   \n",
       "4532  47518     Mercedes-Benz                  GLC300 4matic  2023   \n",
       "4533  47519            Toyota       Corolla Cross Hybrid AWD  2023   \n",
       "4534  47520  INEOS Automotive                      Grenadier  2023   \n",
       "4535  47521  INEOS Automotive  Grenadier Trialmaster Edition  2023   \n",
       "\n",
       "             fuelType1              drive               trany  \\\n",
       "0     Regular Gasoline  Front-Wheel Drive  Automatic (AV-S10)   \n",
       "1     Regular Gasoline  Front-Wheel Drive        Manual 6-spd   \n",
       "2     Regular Gasoline  Front-Wheel Drive  Automatic (AV-S10)   \n",
       "3     Regular Gasoline  Front-Wheel Drive        Manual 6-spd   \n",
       "4     Regular Gasoline  Front-Wheel Drive        Manual 6-spd   \n",
       "...                ...                ...                 ...   \n",
       "4531  Regular Gasoline  Front-Wheel Drive   Automatic (AV-S6)   \n",
       "4532  Premium Gasoline    All-Wheel Drive     Automatic 9-spd   \n",
       "4533  Regular Gasoline    All-Wheel Drive   Automatic (AV-S6)   \n",
       "4534  Premium Gasoline      4-Wheel Drive      Automatic (S8)   \n",
       "4535  Premium Gasoline      4-Wheel Drive      Automatic (S8)   \n",
       "\n",
       "                                  VClass  cylinders  displ  speeds  \\\n",
       "0                           Compact Cars        4.0    2.0    10.0   \n",
       "1                           Compact Cars        4.0    2.0     6.0   \n",
       "2                           Compact Cars        4.0    2.0    10.0   \n",
       "3                           Compact Cars        4.0    1.8     6.0   \n",
       "4                   Small Station Wagons        4.0    2.0     6.0   \n",
       "...                                  ...        ...    ...     ...   \n",
       "4531     Small Sport Utility Vehicle 2WD        4.0    2.4     6.0   \n",
       "4532     Small Sport Utility Vehicle 4WD        4.0    2.0     9.0   \n",
       "4533     Small Sport Utility Vehicle 4WD        4.0    2.0     6.0   \n",
       "4534  Standard Sport Utility Vehicle 4WD        6.0    3.0     8.0   \n",
       "4535  Standard Sport Utility Vehicle 4WD        6.0    3.0     8.0   \n",
       "\n",
       "      drive_number    avgMpg  \n",
       "0                2  46.31000  \n",
       "1                2  42.54910  \n",
       "2                2  45.39342  \n",
       "3                2  44.54000  \n",
       "4                2  35.47000  \n",
       "...            ...       ...  \n",
       "4531             2  33.59417  \n",
       "4532             4  34.07000  \n",
       "4533             4  64.02492  \n",
       "4534             4  19.75000  \n",
       "4535             4  18.45000  \n",
       "\n",
       "[4536 rows x 13 columns]"
      ]
     },
     "execution_count": 21,
     "metadata": {},
     "output_type": "execute_result"
    }
   ],
   "source": [
    "# Read the car MPG data\n",
    "carDataRead = pd.read_csv(\"carDataMPG2023.csv\")\n",
    "carDataRead #.head(10)"
   ]
  },
  {
   "cell_type": "markdown",
   "metadata": {},
   "source": [
    "### Next create Numpy arrays of the predictor and target variables.\n",
    "* The predictor variables will be the columns `cylinders`, `displ`, `speeds` and `drive_number`\n",
    "    * Call the array of predictor variables X\n",
    "* The target variable will be the column `avgMpg`\n",
    "    * Call the array of target variable Y\n",
    "* The Numpy `np.array()` function can convert a homogeneous section of a data frame to a Numpy array."
   ]
  },
  {
   "cell_type": "code",
   "execution_count": 24,
   "metadata": {
    "tags": []
   },
   "outputs": [],
   "source": [
    "X = np.array([carDataRead['cylinders'], carDataRead['displ'], carDataRead['speeds'], carDataRead['drive_number']])"
   ]
  },
  {
   "cell_type": "markdown",
   "metadata": {},
   "source": [
    "### Print out the number of vehicles in the dataset"
   ]
  },
  {
   "cell_type": "code",
   "execution_count": 8,
   "metadata": {
    "tags": []
   },
   "outputs": [],
   "source": [
    "# Your code here"
   ]
  },
  {
   "cell_type": "markdown",
   "metadata": {},
   "source": [
    "### Split the X and Y arrays into training and testing datasets using `train_test_split()`.\n",
    "* Keep 80% of the data for training and 20% for testing. \n",
    "* Call the training and testing splits `X_train`, `Y_train`, `X_test` and `Y_test`."
   ]
  },
  {
   "cell_type": "code",
   "execution_count": 9,
   "metadata": {
    "tags": []
   },
   "outputs": [],
   "source": [
    "# Your code here"
   ]
  },
  {
   "cell_type": "markdown",
   "metadata": {},
   "source": [
    "### Plot the histograms of `Y_test` and `Y_train` to make sure they are comparable.\n",
    "* With a large dataset of this size, this is less of a problem than with small data set.\n",
    "* Nonetheless  it is worth checking that the training-test split has not biased one of these subsets in one way or another."
   ]
  },
  {
   "cell_type": "code",
   "execution_count": 10,
   "metadata": {
    "tags": []
   },
   "outputs": [],
   "source": [
    "# Your code here"
   ]
  },
  {
   "cell_type": "markdown",
   "metadata": {},
   "source": [
    "### Linear regression fit\n",
    "* Use the `LinearRegression` model in scikit learn to fit a regression model with `X_train` as the predictor variable and `Y_train` as the target.\n",
    "* Use the `predict()` method from the fitted model to predict `avgMpg` from `X_test`, and call the predicted value `Y_pred`."
   ]
  },
  {
   "cell_type": "code",
   "execution_count": 11,
   "metadata": {
    "tags": []
   },
   "outputs": [],
   "source": [
    "# Your code here"
   ]
  },
  {
   "cell_type": "markdown",
   "metadata": {},
   "source": [
    "### Outputs\n",
    "* Print the regression coefficients\n",
    "* Print the mean squared error between `Y_test` and `Y_pred`\n",
    "* Print the R^2, called the [coefficient of determination,](https://en.wikipedia.org/wiki/Coefficient_of_determination) between `Y_test` and `Y_pred`"
   ]
  },
  {
   "cell_type": "code",
   "execution_count": 12,
   "metadata": {
    "tags": []
   },
   "outputs": [],
   "source": [
    "# Your code here"
   ]
  },
  {
   "cell_type": "markdown",
   "metadata": {},
   "source": [
    "### Scatter plots\n",
    "* Create scatter plots of `Y_test` and `Y_pred` against each of the 4 predictor variables `cylinders`, `displ`, `speeds`, `drive_number`.\n",
    "* Do this as subplots in a 2 X 2 grid. \n",
    "* Label the subplots appropriately.\n",
    "* Include axis labels also."
   ]
  },
  {
   "cell_type": "code",
   "execution_count": null,
   "metadata": {
    "tags": []
   },
   "outputs": [],
   "source": [
    "# Your code here"
   ]
  }
 ],
 "metadata": {
  "celltoolbar": "Edit Metadata",
  "kernelspec": {
   "display_name": "Python 3",
   "language": "python",
   "name": "python3"
  },
  "language_info": {
   "codemirror_mode": {
    "name": "ipython",
    "version": 3
   },
   "file_extension": ".py",
   "mimetype": "text/x-python",
   "name": "python",
   "nbconvert_exporter": "python",
   "pygments_lexer": "ipython3",
   "version": "3.12.5"
  }
 },
 "nbformat": 4,
 "nbformat_minor": 4
}
