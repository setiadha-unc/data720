{
 "cells": [
  {
   "cell_type": "markdown",
   "metadata": {},
   "source": [
    "##### <img src=\"../SDSS-Logo.png\" style=\"display:inline; width:500px\" />\n",
    "\n",
    "\n",
    "## Learning Objectives\n",
    "1. Understand broadcasting of numpy arrays\n",
    "\n"
   ]
  },
  {
   "cell_type": "code",
   "execution_count": 1,
   "metadata": {
    "tags": []
   },
   "outputs": [],
   "source": [
    "import numpy as np"
   ]
  },
  {
   "cell_type": "markdown",
   "metadata": {},
   "source": [
    "##### Broadcasting refers to the way Numpy allows operations between ndarrrays of different shapes, as long as they satisy some conditions.\n",
    "##### Broadcasting is an important feature of Numpy, as it allows for some very efficient computation without using unncessary memory.\n",
    "##### Some good  references for this lesson are [PLYMI](https://www.pythonlikeyoumeanit.com/module_3.html), [Vanderplas's book](https://jakevdp.github.io/PythonDataScienceHandbook/02.00-introduction-to-numpy.html) and the [Numpy docs](https://numpy.org/doc/stable/reference/arrays.ndarray.html)."
   ]
  },
  {
   "cell_type": "markdown",
   "metadata": {},
   "source": [
    "#####  Example 1\n",
    "##### Below is a very simple example of broadcasting.\n",
    "\n",
    "##### You can imagine that the scalar value is duplicated to the same shape as `x1` and added to `x1`"
   ]
  },
  {
   "cell_type": "code",
   "execution_count": 2,
   "metadata": {
    "tags": []
   },
   "outputs": [
    {
     "name": "stdout",
     "output_type": "stream",
     "text": [
      "[0 1 2 3 4 5 6 7]\n",
      "[10 11 12 13 14 15 16 17]\n"
     ]
    }
   ],
   "source": [
    "x1 = np.array(range(8))\n",
    "print(x1)\n",
    "print(x1 + 10)"
   ]
  },
  {
   "cell_type": "markdown",
   "metadata": {},
   "source": [
    "##### Example 2\n",
    "##### Consider that you have 4 observations, with each observation consisting of 3 measurements.\n",
    "##### You want to subtract the average of each measurement from all the observations."
   ]
  },
  {
   "cell_type": "code",
   "execution_count": 3,
   "metadata": {
    "tags": []
   },
   "outputs": [
    {
     "name": "stdout",
     "output_type": "stream",
     "text": [
      "[[14.26868502  9.6375515   8.84279182]\n",
      " [11.90850403  7.05280026 12.38387661]\n",
      " [17.49361887 11.34178113 12.99045207]\n",
      " [ 5.22239832 11.65213607  3.62046385]]\n"
     ]
    }
   ],
   "source": [
    "# 4 observations of 3 measurements can be represented by a 4 X 3 ndarray\n",
    "my_data = np.random.normal(10, 3, (4,3))\n",
    "print(my_data)"
   ]
  },
  {
   "cell_type": "code",
   "execution_count": 4,
   "metadata": {
    "tags": []
   },
   "outputs": [
    {
     "name": "stdout",
     "output_type": "stream",
     "text": [
      "[12.22330156  9.92106724  9.45939609]\n"
     ]
    }
   ],
   "source": [
    "# The average of each measurement can be found using the np.mean function\n",
    "measurement_mean = np.mean(my_data, axis=0) # axis=0 -> by column. axis=1 -> by row\n",
    "print(measurement_mean)"
   ]
  },
  {
   "cell_type": "code",
   "execution_count": 5,
   "metadata": {
    "tags": []
   },
   "outputs": [
    {
     "name": "stdout",
     "output_type": "stream",
     "text": [
      "[[ 2.04538346 -0.28351574 -0.61660427]\n",
      " [-0.31479753 -2.86826698  2.92448052]\n",
      " [ 5.27031731  1.42071389  3.53105598]\n",
      " [-7.00090324  1.73106883 -5.83893224]]\n"
     ]
    }
   ],
   "source": [
    "# Subtract the mean for each measurement from the measurement for each observation\n",
    "# In the case the 1 X 3 measurement_mean is being broadcast to 4 X 3.\n",
    "my_data_nomean = my_data - measurement_mean\n",
    "print(my_data_nomean)"
   ]
  },
  {
   "cell_type": "markdown",
   "metadata": {},
   "source": [
    "### Compatibility of two ndarrays for broadcast operation is explained by the following from PLYMI.\n",
    "### Rules of broadcasting:\n",
    "> To determine if two arrays are broadcast-compatible, align the entries of their shapes such that their trailing dimensions are aligned, and then check that each pair of aligned dimensions satisfy either of the following conditions:\n",
    ">\n",
    ">the aligned dimensions have the same size\n",
    ">\n",
    ">one of the dimensions has a size of 1\n",
    ">\n",
    ">The two arrays are broadcast-compatible if either of these conditions are satisfied for each pair of aligned dimensions."
   ]
  },
  {
   "cell_type": "markdown",
   "metadata": {},
   "source": [
    "### A more complicated example broadcasting"
   ]
  },
  {
   "cell_type": "markdown",
   "metadata": {},
   "source": [
    "### `x2` is a 3 X 1 X 2 array"
   ]
  },
  {
   "cell_type": "code",
   "execution_count": 6,
   "metadata": {
    "tags": []
   },
   "outputs": [
    {
     "name": "stdout",
     "output_type": "stream",
     "text": [
      "[[[13 13]]\n",
      "\n",
      " [[ 7 11]]\n",
      "\n",
      " [[ 6 14]]]\n"
     ]
    }
   ],
   "source": [
    "x2 = np.random.randint(0, 15, size = (3, 1, 2))\n",
    "print(x2)"
   ]
  },
  {
   "cell_type": "markdown",
   "metadata": {},
   "source": [
    "### `x3` is 3 X 1 array"
   ]
  },
  {
   "cell_type": "code",
   "execution_count": 7,
   "metadata": {
    "tags": []
   },
   "outputs": [
    {
     "name": "stdout",
     "output_type": "stream",
     "text": [
      "[[-1]\n",
      " [ 1]\n",
      " [-1]]\n"
     ]
    }
   ],
   "source": [
    "x3 = np.array([-1, 1, -1]).reshape(3,1)\n",
    "print(x3)"
   ]
  },
  {
   "cell_type": "markdown",
   "metadata": {},
   "source": [
    "### Any element-wise operation involving `x2` and `x3` will result in a 3 X 3 X 2 array"
   ]
  },
  {
   "cell_type": "code",
   "execution_count": 8,
   "metadata": {
    "tags": []
   },
   "outputs": [
    {
     "name": "stdout",
     "output_type": "stream",
     "text": [
      "[[[-13 -13]\n",
      "  [ 13  13]\n",
      "  [-13 -13]]\n",
      "\n",
      " [[ -7 -11]\n",
      "  [  7  11]\n",
      "  [ -7 -11]]\n",
      "\n",
      " [[ -6 -14]\n",
      "  [  6  14]\n",
      "  [ -6 -14]]]\n",
      "\n",
      "(3, 3, 2)\n"
     ]
    }
   ],
   "source": [
    "x4 = x2*x3\n",
    "print(f\"{x4}\\n\")\n",
    "print(x4.shape)"
   ]
  },
  {
   "cell_type": "markdown",
   "metadata": {},
   "source": [
    "### In the above case, the resulting product after broadcasting is (3, 3, 2)"
   ]
  },
  {
   "cell_type": "markdown",
   "metadata": {},
   "source": [
    "### Returning to the previous example:"
   ]
  },
  {
   "cell_type": "code",
   "execution_count": 9,
   "metadata": {
    "tags": []
   },
   "outputs": [
    {
     "name": "stdout",
     "output_type": "stream",
     "text": [
      "[[[13 13]]\n",
      "\n",
      " [[ 7 11]]\n",
      "\n",
      " [[ 6 14]]]\n"
     ]
    },
    {
     "data": {
      "text/plain": [
       "array([[[13, 13],\n",
       "        [13, 13],\n",
       "        [13, 13]],\n",
       "\n",
       "       [[ 7, 11],\n",
       "        [ 7, 11],\n",
       "        [ 7, 11]],\n",
       "\n",
       "       [[ 6, 14],\n",
       "        [ 6, 14],\n",
       "        [ 6, 14]]], dtype=int32)"
      ]
     },
     "execution_count": 9,
     "metadata": {},
     "output_type": "execute_result"
    }
   ],
   "source": [
    "print(x2)\n",
    "np.broadcast_to(x2, (3,3,2))"
   ]
  },
  {
   "cell_type": "code",
   "execution_count": null,
   "metadata": {
    "tags": []
   },
   "outputs": [
    {
     "data": {
      "text/plain": [
       "array([[[-1, -1],\n",
       "        [ 1,  1],\n",
       "        [-1, -1]],\n",
       "\n",
       "       [[-1, -1],\n",
       "        [ 1,  1],\n",
       "        [-1, -1]],\n",
       "\n",
       "       [[-1, -1],\n",
       "        [ 1,  1],\n",
       "        [-1, -1]]])"
      ]
     },
     "execution_count": 10,
     "metadata": {},
     "output_type": "execute_result"
    },
    {
     "ename": "",
     "evalue": "",
     "output_type": "error",
     "traceback": [
      "\u001b[1;31mThe Kernel crashed while executing code in the current cell or a previous cell. \n",
      "\u001b[1;31mPlease review the code in the cell(s) to identify a possible cause of the failure. \n",
      "\u001b[1;31mClick <a href='https://aka.ms/vscodeJupyterKernelCrash'>here</a> for more info. \n",
      "\u001b[1;31mView Jupyter <a href='command:jupyter.viewOutput'>log</a> for further details."
     ]
    }
   ],
   "source": [
    "np.broadcast_to(x3, (3,3,2))"
   ]
  },
  {
   "cell_type": "markdown",
   "metadata": {},
   "source": [
    "### A nice illustration of broadcasting from [vanderplas's book.](https://jakevdp.github.io/PythonDataScienceHandbook/02.05-computation-on-arrays-broadcasting.html)"
   ]
  },
  {
   "cell_type": "markdown",
   "metadata": {},
   "source": [
    "<img src=\"Unit-5-6-Fig1.png\" width=\"300\" style=\"float: left\" />"
   ]
  },
  {
   "cell_type": "code",
   "execution_count": null,
   "metadata": {},
   "outputs": [],
   "source": []
  }
 ],
 "metadata": {
  "celltoolbar": "Edit Metadata",
  "kernelspec": {
   "display_name": "Python 3",
   "language": "python",
   "name": "python3"
  },
  "language_info": {
   "codemirror_mode": {
    "name": "ipython",
    "version": 3
   },
   "file_extension": ".py",
   "mimetype": "text/x-python",
   "name": "python",
   "nbconvert_exporter": "python",
   "pygments_lexer": "ipython3",
   "version": "3.12.5"
  }
 },
 "nbformat": 4,
 "nbformat_minor": 4
}
