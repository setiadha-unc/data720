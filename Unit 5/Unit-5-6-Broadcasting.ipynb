{
 "cells": [
  {
   "cell_type": "markdown",
   "metadata": {},
   "source": [
    "##### <img src=\"../SDSS-Logo.png\" style=\"display:inline; width:500px\" />\n",
    "\n",
    "\n",
    "## Learning Objectives\n",
    "1. Understand broadcasting of numpy arrays\n",
    "\n"
   ]
  },
  {
   "cell_type": "code",
   "execution_count": 1,
   "metadata": {
    "tags": []
   },
   "outputs": [],
   "source": [
    "import numpy as np"
   ]
  },
  {
   "cell_type": "markdown",
   "metadata": {},
   "source": [
    "### Broadcasting refers to the way Numpy allows operations between ndarrrays of different shapes, as long as they satisy some conditions.\n",
    "### Broadcasting is an important feature of Numpy, as it allows for some very efficient computation without using unncessary memory.\n",
    "### Some good  references for this lesson are [PLYMI](https://www.pythonlikeyoumeanit.com/module_3.html), [Vanderplas's book](https://jakevdp.github.io/PythonDataScienceHandbook/02.00-introduction-to-numpy.html) and the [Numpy docs](https://numpy.org/doc/stable/reference/arrays.ndarray.html)."
   ]
  },
  {
   "cell_type": "markdown",
   "metadata": {},
   "source": [
    "###  Example 1\n",
    "### Below is a very simple example of broadcasting.\n",
    "\n",
    "### You can imagine that the scalar value is duplicated to the same shape as `x1` and added to `x1`"
   ]
  },
  {
   "cell_type": "code",
   "execution_count": 11,
   "metadata": {
    "tags": []
   },
   "outputs": [
    {
     "data": {
      "text/plain": [
       "array([10, 11, 12, 13, 14, 15, 16, 17])"
      ]
     },
     "execution_count": 11,
     "metadata": {},
     "output_type": "execute_result"
    }
   ],
   "source": [
    "x1 = np.array(range(8))\n",
    "x1 + 10"
   ]
  },
  {
   "cell_type": "markdown",
   "metadata": {},
   "source": [
    "### Example 2\n",
    "### Consider that you have 4 observations, with each observation consisting of 3 measurements.\n",
    "### You want to subtract the average of each measurement from all the observations."
   ]
  },
  {
   "cell_type": "code",
   "execution_count": 13,
   "metadata": {
    "tags": []
   },
   "outputs": [
    {
     "name": "stdout",
     "output_type": "stream",
     "text": [
      "[[ 7.51752178 11.39468149 11.64747359]\n",
      " [ 7.13016943  5.7754509  10.45465929]\n",
      " [11.03932985 13.80796145 10.7313594 ]\n",
      " [10.39215901 12.31383238 14.43228064]]\n"
     ]
    }
   ],
   "source": [
    "# 4 observations of 3 measurements can be represented by a 4 X 3 ndarray\n",
    "my_data = np.random.normal(10, 2, (4,3))\n",
    "print(my_data)"
   ]
  },
  {
   "cell_type": "code",
   "execution_count": 14,
   "metadata": {
    "tags": []
   },
   "outputs": [
    {
     "name": "stdout",
     "output_type": "stream",
     "text": [
      "[ 9.01979502 10.82298156 11.81644323]\n"
     ]
    }
   ],
   "source": [
    "# The average of each measurement can be found using the np.mean function\n",
    "measurement_mean = np.mean(my_data, axis=0)\n",
    "print(measurement_mean)"
   ]
  },
  {
   "cell_type": "code",
   "execution_count": 5,
   "metadata": {
    "tags": []
   },
   "outputs": [
    {
     "name": "stdout",
     "output_type": "stream",
     "text": [
      "[[ 0.72904598 -1.55261734 -0.04857876]\n",
      " [-0.25011319  2.04173434 -0.02553066]\n",
      " [ 0.88890175 -0.28077281  1.86799073]\n",
      " [-1.36783454 -0.20834419 -1.79388131]]\n"
     ]
    }
   ],
   "source": [
    "# Subtract the mean for each measurement from the measurement for each observation\n",
    "# In the case the 1 X 3 measurement_mean is being broadcast to 4 X 3.\n",
    "my_data_nomean = my_data - measurement_mean\n",
    "print(my_data_nomean)"
   ]
  },
  {
   "cell_type": "markdown",
   "metadata": {},
   "source": [
    "### Compatibility of two ndarrays for broadcast operation is explained by the following from PLYMI.\n",
    "### Rules of broadcasting:\n",
    "> To determine if two arrays are broadcast-compatible, align the entries of their shapes such that their trailing dimensions are aligned, and then check that each pair of aligned dimensions satisfy either of the following conditions:\n",
    ">\n",
    ">the aligned dimensions have the same size\n",
    ">\n",
    ">one of the dimensions has a size of 1\n",
    ">\n",
    ">The two arrays are broadcast-compatible if either of these conditions are satisfied for each pair of aligned dimensions."
   ]
  },
  {
   "cell_type": "markdown",
   "metadata": {},
   "source": [
    "### A more complicated example broadcasting"
   ]
  },
  {
   "cell_type": "markdown",
   "metadata": {},
   "source": [
    "### `x2` is a 3 X 1 X 2 array"
   ]
  },
  {
   "cell_type": "code",
   "execution_count": 15,
   "metadata": {
    "tags": []
   },
   "outputs": [
    {
     "name": "stdout",
     "output_type": "stream",
     "text": [
      "[[[12 12]]\n",
      "\n",
      " [[12  8]]\n",
      "\n",
      " [[ 4  8]]]\n"
     ]
    }
   ],
   "source": [
    "x2 = np.random.randint(0, 15, size = (3, 1, 2))\n",
    "print(x2)"
   ]
  },
  {
   "cell_type": "markdown",
   "metadata": {},
   "source": [
    "### `x3` is 3 X 1 array"
   ]
  },
  {
   "cell_type": "code",
   "execution_count": 16,
   "metadata": {
    "tags": []
   },
   "outputs": [
    {
     "name": "stdout",
     "output_type": "stream",
     "text": [
      "[[-1]\n",
      " [ 1]\n",
      " [-1]]\n"
     ]
    }
   ],
   "source": [
    "x3 = np.array([-1, 1, -1]).reshape(3,1)\n",
    "print(x3)"
   ]
  },
  {
   "cell_type": "markdown",
   "metadata": {},
   "source": [
    "### Any element-wise operation involving `x2` and `x3` will result in a 3 X 3 X 2 array"
   ]
  },
  {
   "cell_type": "code",
   "execution_count": 8,
   "metadata": {
    "tags": []
   },
   "outputs": [
    {
     "name": "stdout",
     "output_type": "stream",
     "text": [
      "[[[ -4  -3]\n",
      "  [  4   3]\n",
      "  [ -4  -3]]\n",
      "\n",
      " [[ -4  -3]\n",
      "  [  4   3]\n",
      "  [ -4  -3]]\n",
      "\n",
      " [[ -9 -12]\n",
      "  [  9  12]\n",
      "  [ -9 -12]]]\n",
      "\n",
      "(3, 3, 2)\n"
     ]
    }
   ],
   "source": [
    "x4 = x2*x3\n",
    "print(f\"{x4}\\n\")\n",
    "print(x4.shape)"
   ]
  },
  {
   "cell_type": "markdown",
   "metadata": {},
   "source": [
    "### In the above case, the resulting product after broadcasting is (3, 3, 2)"
   ]
  },
  {
   "cell_type": "markdown",
   "metadata": {},
   "source": [
    "### Returning to the previous example:"
   ]
  },
  {
   "cell_type": "code",
   "execution_count": 17,
   "metadata": {
    "tags": []
   },
   "outputs": [
    {
     "name": "stdout",
     "output_type": "stream",
     "text": [
      "[[[12 12]]\n",
      "\n",
      " [[12  8]]\n",
      "\n",
      " [[ 4  8]]]\n"
     ]
    },
    {
     "data": {
      "text/plain": [
       "array([[[12, 12],\n",
       "        [12, 12],\n",
       "        [12, 12]],\n",
       "\n",
       "       [[12,  8],\n",
       "        [12,  8],\n",
       "        [12,  8]],\n",
       "\n",
       "       [[ 4,  8],\n",
       "        [ 4,  8],\n",
       "        [ 4,  8]]], dtype=int32)"
      ]
     },
     "execution_count": 17,
     "metadata": {},
     "output_type": "execute_result"
    }
   ],
   "source": [
    "print(x2)\n",
    "np.broadcast_to(x2, (3,3,2))"
   ]
  },
  {
   "cell_type": "code",
   "execution_count": 10,
   "metadata": {
    "tags": []
   },
   "outputs": [
    {
     "data": {
      "text/plain": [
       "array([[[-1, -1],\n",
       "        [ 1,  1],\n",
       "        [-1, -1]],\n",
       "\n",
       "       [[-1, -1],\n",
       "        [ 1,  1],\n",
       "        [-1, -1]],\n",
       "\n",
       "       [[-1, -1],\n",
       "        [ 1,  1],\n",
       "        [-1, -1]]])"
      ]
     },
     "execution_count": 10,
     "metadata": {},
     "output_type": "execute_result"
    }
   ],
   "source": [
    "np.broadcast_to(x3, (3,3,2))"
   ]
  },
  {
   "cell_type": "markdown",
   "metadata": {},
   "source": [
    "### A nice illustration of broadcasting from [vanderplas's book.](https://jakevdp.github.io/PythonDataScienceHandbook/02.05-computation-on-arrays-broadcasting.html)"
   ]
  },
  {
   "cell_type": "markdown",
   "metadata": {},
   "source": [
    "<img src=\"Unit-5-6-Fig1.png\" width=\"300\" style=\"float: left\" />"
   ]
  },
  {
   "cell_type": "code",
   "execution_count": null,
   "metadata": {},
   "outputs": [],
   "source": []
  }
 ],
 "metadata": {
  "celltoolbar": "Edit Metadata",
  "kernelspec": {
   "display_name": "Python 3",
   "language": "python",
   "name": "python3"
  },
  "language_info": {
   "codemirror_mode": {
    "name": "ipython",
    "version": 3
   },
   "file_extension": ".py",
   "mimetype": "text/x-python",
   "name": "python",
   "nbconvert_exporter": "python",
   "pygments_lexer": "ipython3",
   "version": "3.12.5"
  }
 },
 "nbformat": 4,
 "nbformat_minor": 4
}
