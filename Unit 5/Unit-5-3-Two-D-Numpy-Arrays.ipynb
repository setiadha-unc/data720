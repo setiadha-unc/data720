{
 "cells": [
  {
   "cell_type": "markdown",
   "metadata": {},
   "source": [
    "##### <img src=\"../SDSS-Logo.png\" style=\"display:inline; width:500px\" />\n",
    "\n",
    "\n",
    "## Learning Objectives\n",
    "- use and manipulate 2-d NumPy Arrays\n",
    "- Undertstand how to do row ans column summrization using numpy functions\n"
   ]
  },
  {
   "cell_type": "markdown",
   "metadata": {},
   "source": [
    "# Multi-dimensional arrays\n",
    "\n",
    "* The goal for today's class is to introduce N-dimensional arrays with an emphasis on two dimensional arrays and how to reference them.\n",
    "* Two dimensional arrays are very common in data science.\n",
    "* A spreadsheet can basically be conisdered a 2-d array.\n",
    "* But any table  with rows and columns can be treated as a 2-d array.\n",
    "\n",
    "\n",
    "# Motivation\n",
    "\n",
    "* Arrays are a FUNDAMENTAL data type, and an n-D array can represent some complicated data sources. \n",
    "* For example, dividing up Jordan Lake into cubes, each of which is 1m X 1m X 1m. We can characterize the geometric location of each such cubic meter of water by its longitude, latitude, and depth. For each such cube we can measure the average temperature, turbidity, and salinity.  These 6 measurements can be put in 6-D array, or 6-dimensional \"cube\" or \"matrix\" or hyper-cube.\""
   ]
  },
  {
   "cell_type": "code",
   "execution_count": 2,
   "metadata": {
    "tags": []
   },
   "outputs": [
    {
     "name": "stdout",
     "output_type": "stream",
     "text": [
      "[[149 127 128 129 125]\n",
      " [147 129 131 127 135]\n",
      " [143 123 125 130 133]\n",
      " [144 129 135 131 132]\n",
      " [151 134 130 129 127]\n",
      " [149 127 129 131 133]]\n"
     ]
    }
   ],
   "source": [
    "import numpy as np\n",
    "import random\n",
    "import comp116\n",
    "import pickle\n",
    "\n",
    "bp_reading1 =  np.array([149, 127, 128, 129, 125])\n",
    "bp_reading2 = np.array([147, 129, 131, 127, 135])\n",
    "bp_reading3 = np.array([143, 123, 125, 130, 133])\n",
    "bp_reading4 = np.array([144, 129, 135, 131, 132])\n",
    "bp_reading5 = np.array([151, 134, 130, 129, 127])\n",
    "bp_reading6 = np.array([149, 127, 129, 131, 133])\n",
    "bp_readings = np.concatenate(([bp_reading1], [bp_reading2], [bp_reading3],\n",
    "                              [bp_reading4], [bp_reading5], [bp_reading6]), axis=0)\n",
    "print(bp_readings)\n",
    "\n"
   ]
  },
  {
   "cell_type": "markdown",
   "metadata": {},
   "source": [
    "### Let's examine some blood pressure data\n",
    "\n",
    "Let's look at variable `bp_reading1` which is five blood pressure readings of a patient on day 1.\n",
    "\n",
    "`bp_reading2` is the five blood pressure readings of the same patient on day 2.\n",
    "Repeating we have 6 days of data, upto `bp_reading6`.\n",
    "\n",
    "\n",
    "**NOTE:** This data is totally fictitious. Also, a single blood pressure reading involves two numbers, the systolic and diastolic pressures. Here we are working with the systolic pressure only, so a single blood pressure reading is a single number."
   ]
  },
  {
   "cell_type": "code",
   "execution_count": 4,
   "metadata": {
    "tags": []
   },
   "outputs": [
    {
     "name": "stdout",
     "output_type": "stream",
     "text": [
      "The five blood pressure readings of the patient from day 1 are:\n",
      "[149 127 128 129 125]\n",
      "The five blood pressure readings of the patient from day 2 through 6 are:\n",
      "[147 129 131 127 135]\n",
      "[143 123 125 130 133]\n",
      "[144 129 135 131 132]\n",
      "[151 134 130 129 127]\n",
      "[149 127 129 131 133]\n"
     ]
    }
   ],
   "source": [
    "# Let's assume we took five blood pressure readings \n",
    "# each time the patient came to the office\n",
    "print('The five blood pressure readings of the '\n",
    "      'patient from day 1 are:')\n",
    "print(bp_reading1)\n",
    "\n",
    "print('The five blood pressure readings of the '\n",
    "      'patient from day 2 through 6 are:')\n",
    "print(bp_reading2)\n",
    "print(bp_reading3)\n",
    "print(bp_reading4)\n",
    "print(bp_reading5)\n",
    "print(bp_reading6)"
   ]
  },
  {
   "cell_type": "markdown",
   "metadata": {},
   "source": [
    "### Working with the blood pressure data\n",
    "\n",
    "Let us say we want to compute the average blood pressure data for day 1. You can use the numpy function `mean` or the numpy function `average`. "
   ]
  },
  {
   "cell_type": "code",
   "execution_count": 5,
   "metadata": {
    "tags": []
   },
   "outputs": [
    {
     "name": "stdout",
     "output_type": "stream",
     "text": [
      "The average blood pressure on the first day is 131.6\n"
     ]
    }
   ],
   "source": [
    "# Set average_bp_reading1 to the average of the bp readings in bp_reading1\n",
    "\n",
    "average_bp_reading1 = np.average(bp_reading1)\n",
    "\n",
    "\n",
    "print(\"The average blood pressure on the first day is\", average_bp_reading1)"
   ]
  },
  {
   "cell_type": "markdown",
   "metadata": {},
   "source": [
    "## Average bp over multiple days\n",
    "\n",
    "But what if we wanted to get the _average_ blood pressure reading over multiple days?\n",
    "\n",
    "You can assume that each day has the same number of blood pressure readings"
   ]
  },
  {
   "cell_type": "code",
   "execution_count": 6,
   "metadata": {
    "tags": []
   },
   "outputs": [
    {
     "name": "stdout",
     "output_type": "stream",
     "text": [
      "The averages over all six days calculated two ways are 133.06666666666663 133.0\n"
     ]
    }
   ],
   "source": [
    "overall_average_bp_reading1 = ( np.mean( bp_reading1) +\n",
    "                                np.mean( bp_reading2) +\n",
    "                                np.mean( bp_reading3) +\n",
    "                                np.mean( bp_reading4) +\n",
    "                                np.mean( bp_reading5) +\n",
    "                                np.mean( bp_reading6)) / 6\n",
    "\n",
    "\n",
    "\n",
    "# Another way to calculate the average bp over all days is to add the sum of the readings for each day and divide\n",
    "# by the number of measurements. Assign this to overall_average_bp_reading2\n",
    "\n",
    "\n",
    "overall_average_bp_reading2 = ((np.sum( bp_reading1) + np.sum( bp_reading2) +\n",
    "                                np.sum( bp_reading3) + np.sum( bp_reading4) +\n",
    "                                np.sum( bp_reading6) + np.sum( bp_reading6)) / \n",
    "                                (len(bp_reading1) + len(bp_reading2) + len(bp_reading3) +\n",
    "                                len(bp_reading4) + len(bp_reading5) + len(bp_reading6)))\n",
    "                                                                                       \n",
    "\n",
    "print(\"The averages over all six days calculated two ways are\", overall_average_bp_reading1, overall_average_bp_reading2)\n",
    "\n",
    "\n"
   ]
  },
  {
   "cell_type": "markdown",
   "metadata": {},
   "source": [
    "## Multi-dimensional array (nd-array)\n",
    "\n",
    "Variable `bp_readings` is a two dimensional array read in earlier that is the concatenation of all the previous readings.\n",
    "\n",
    "\n",
    "<br />\n",
    "<br />\n",
    "<br />\n",
    "\n",
    "**NOTE:** `bp_readings` data is totally fictitious.  Dr. Majekis made it all up."
   ]
  },
  {
   "cell_type": "code",
   "execution_count": 7,
   "metadata": {
    "tags": []
   },
   "outputs": [
    {
     "data": {
      "text/html": [
       "<table border=\"1\" class=\"dataframe\">\n",
       "  <thead>\n",
       "    <tr style=\"text-align: right;\">\n",
       "      <th></th>\n",
       "      <th>Reading1</th>\n",
       "      <th>Reading2</th>\n",
       "      <th>Reading3</th>\n",
       "      <th>Reading4</th>\n",
       "      <th>Reading5</th>\n",
       "    </tr>\n",
       "  </thead>\n",
       "  <tbody>\n",
       "    <tr>\n",
       "      <th>Day1</th>\n",
       "      <td>149</td>\n",
       "      <td>127</td>\n",
       "      <td>128</td>\n",
       "      <td>129</td>\n",
       "      <td>125</td>\n",
       "    </tr>\n",
       "    <tr>\n",
       "      <th>Day2</th>\n",
       "      <td>147</td>\n",
       "      <td>129</td>\n",
       "      <td>131</td>\n",
       "      <td>127</td>\n",
       "      <td>135</td>\n",
       "    </tr>\n",
       "    <tr>\n",
       "      <th>Day3</th>\n",
       "      <td>143</td>\n",
       "      <td>123</td>\n",
       "      <td>125</td>\n",
       "      <td>130</td>\n",
       "      <td>133</td>\n",
       "    </tr>\n",
       "    <tr>\n",
       "      <th>Day4</th>\n",
       "      <td>144</td>\n",
       "      <td>129</td>\n",
       "      <td>135</td>\n",
       "      <td>131</td>\n",
       "      <td>132</td>\n",
       "    </tr>\n",
       "    <tr>\n",
       "      <th>Day5</th>\n",
       "      <td>151</td>\n",
       "      <td>134</td>\n",
       "      <td>130</td>\n",
       "      <td>129</td>\n",
       "      <td>127</td>\n",
       "    </tr>\n",
       "    <tr>\n",
       "      <th>Day6</th>\n",
       "      <td>149</td>\n",
       "      <td>127</td>\n",
       "      <td>129</td>\n",
       "      <td>131</td>\n",
       "      <td>133</td>\n",
       "    </tr>\n",
       "  </tbody>\n",
       "</table>"
      ],
      "text/plain": [
       "<IPython.core.display.HTML object>"
      ]
     },
     "metadata": {},
     "output_type": "display_data"
    }
   ],
   "source": [
    "# array_to_html helps to format the data in a table for display\n",
    "comp116.array_to_html(bp_readings, row_names=['Day1', 'Day2', 'Day3', 'Day4', 'Day5', 'Day6'],\n",
    "                     col_names=['Reading1', 'Reading2', 'Reading3', 'Reading4', 'Reading5'])"
   ]
  },
  {
   "cell_type": "markdown",
   "metadata": {},
   "source": [
    "## Referencing individual elements in a two dimensional arrays\n",
    "\n",
    "- We used <font color='green'>*colons*</font> to separate `start`:`stop`:`step` in any given dimension (or axis).  \n",
    "- We use a <font color='green'>*comma*</font> to separate references to the dimensions (or axes).\n",
    "  - Use a *row* and *column* from each other in a two-dimensional array from the table above.\n",
    "\n",
    "So if you use the index `[0, 4]` you get row with index 0 and column with index 4.\n",
    "That element has the value of 125.\n",
    "\n",
    "Print out the first day's fifth blood pressure reading."
   ]
  },
  {
   "cell_type": "code",
   "execution_count": 9,
   "metadata": {
    "tags": []
   },
   "outputs": [
    {
     "data": {
      "text/html": [
       "<table border=\"1\" class=\"dataframe\">\n",
       "  <thead>\n",
       "    <tr style=\"text-align: right;\">\n",
       "      <th></th>\n",
       "      <th>Reading1</th>\n",
       "      <th>Reading2</th>\n",
       "      <th>Reading3</th>\n",
       "      <th>Reading4</th>\n",
       "      <th>Reading5</th>\n",
       "    </tr>\n",
       "  </thead>\n",
       "  <tbody>\n",
       "    <tr>\n",
       "      <th>Day1</th>\n",
       "      <td>149</td>\n",
       "      <td>127</td>\n",
       "      <td>128</td>\n",
       "      <td>129</td>\n",
       "      <td>125</td>\n",
       "    </tr>\n",
       "    <tr>\n",
       "      <th>Day2</th>\n",
       "      <td>147</td>\n",
       "      <td>129</td>\n",
       "      <td>131</td>\n",
       "      <td>127</td>\n",
       "      <td>135</td>\n",
       "    </tr>\n",
       "    <tr>\n",
       "      <th>Day3</th>\n",
       "      <td>143</td>\n",
       "      <td>123</td>\n",
       "      <td>125</td>\n",
       "      <td>130</td>\n",
       "      <td>133</td>\n",
       "    </tr>\n",
       "    <tr>\n",
       "      <th>Day4</th>\n",
       "      <td>144</td>\n",
       "      <td>129</td>\n",
       "      <td>135</td>\n",
       "      <td>131</td>\n",
       "      <td>132</td>\n",
       "    </tr>\n",
       "    <tr>\n",
       "      <th>Day5</th>\n",
       "      <td>151</td>\n",
       "      <td>134</td>\n",
       "      <td>130</td>\n",
       "      <td>129</td>\n",
       "      <td>127</td>\n",
       "    </tr>\n",
       "    <tr>\n",
       "      <th>Day6</th>\n",
       "      <td>149</td>\n",
       "      <td>127</td>\n",
       "      <td>129</td>\n",
       "      <td>131</td>\n",
       "      <td>133</td>\n",
       "    </tr>\n",
       "  </tbody>\n",
       "</table>"
      ],
      "text/plain": [
       "<IPython.core.display.HTML object>"
      ]
     },
     "metadata": {},
     "output_type": "display_data"
    },
    {
     "name": "stdout",
     "output_type": "stream",
     "text": [
      "The first day's fifth reading is  125\n"
     ]
    }
   ],
   "source": [
    "comp116.array_to_html(bp_readings, row_names=['Day1', 'Day2', 'Day3', 'Day4', 'Day5', 'Day6'],\n",
    "                     col_names=['Reading1', 'Reading2', 'Reading3', 'Reading4', 'Reading5'])\n",
    "\n",
    "\n",
    "first_days_fifth_reading = bp_readings[0,4]\n",
    "\n",
    "# First day's fifth reading is referenced\n",
    "# using day offset zero and reading offset four\n",
    "# separated by a comma\n",
    "print(\"The first day's fifth reading is \", first_days_fifth_reading)"
   ]
  },
  {
   "cell_type": "markdown",
   "metadata": {},
   "source": [
    "## Referencing a single cell\n",
    "\n",
    "Using the array_to_html output above to *visually* look up where the value 144 is within `bp_readings`.\n",
    "How would you print out that cell?\n",
    "\n",
    "On an exam or quiz, you will never look things up *visually*.\n",
    "But for now, we'll do it visually.\n",
    "\n",
    "### Find the value 144\n",
    "\n",
    "Set variable `row_144` and `column_144` to the row and column that has 144 in it.\n",
    "\n",
    "Notice that the code references a single cell by using a comma to separate out the rows and columns."
   ]
  },
  {
   "cell_type": "code",
   "execution_count": 12,
   "metadata": {
    "scrolled": true,
    "tags": []
   },
   "outputs": [
    {
     "data": {
      "text/html": [
       "<table border=\"1\" class=\"dataframe\">\n",
       "  <thead>\n",
       "    <tr style=\"text-align: right;\">\n",
       "      <th></th>\n",
       "      <th>Reading1</th>\n",
       "      <th>Reading2</th>\n",
       "      <th>Reading3</th>\n",
       "      <th>Reading4</th>\n",
       "      <th>Reading5</th>\n",
       "    </tr>\n",
       "  </thead>\n",
       "  <tbody>\n",
       "    <tr>\n",
       "      <th>Day1</th>\n",
       "      <td>149</td>\n",
       "      <td>127</td>\n",
       "      <td>128</td>\n",
       "      <td>129</td>\n",
       "      <td>125</td>\n",
       "    </tr>\n",
       "    <tr>\n",
       "      <th>Day2</th>\n",
       "      <td>147</td>\n",
       "      <td>129</td>\n",
       "      <td>131</td>\n",
       "      <td>127</td>\n",
       "      <td>135</td>\n",
       "    </tr>\n",
       "    <tr>\n",
       "      <th>Day3</th>\n",
       "      <td>143</td>\n",
       "      <td>123</td>\n",
       "      <td>125</td>\n",
       "      <td>130</td>\n",
       "      <td>133</td>\n",
       "    </tr>\n",
       "    <tr>\n",
       "      <th>Day4</th>\n",
       "      <td>144</td>\n",
       "      <td>129</td>\n",
       "      <td>135</td>\n",
       "      <td>131</td>\n",
       "      <td>132</td>\n",
       "    </tr>\n",
       "    <tr>\n",
       "      <th>Day5</th>\n",
       "      <td>151</td>\n",
       "      <td>134</td>\n",
       "      <td>130</td>\n",
       "      <td>129</td>\n",
       "      <td>127</td>\n",
       "    </tr>\n",
       "    <tr>\n",
       "      <th>Day6</th>\n",
       "      <td>149</td>\n",
       "      <td>127</td>\n",
       "      <td>129</td>\n",
       "      <td>131</td>\n",
       "      <td>133</td>\n",
       "    </tr>\n",
       "  </tbody>\n",
       "</table>"
      ],
      "text/plain": [
       "<IPython.core.display.HTML object>"
      ]
     },
     "metadata": {},
     "output_type": "display_data"
    },
    {
     "name": "stdout",
     "output_type": "stream",
     "text": [
      "bp_readings[ 0 , 1 ] has the value 127\n"
     ]
    }
   ],
   "source": [
    "comp116.array_to_html(bp_readings, row_names=['Day1', 'Day2', 'Day3', 'Day4', 'Day5', 'Day6'],\n",
    "                     col_names=['Reading1', 'Reading2', 'Reading3', 'Reading4', 'Reading5'])\n",
    "\n",
    "\n",
    "row_144 = np.argmax( np.any(bp_readings == 129, axis=1) )\n",
    "column_144 = np.argmax( np.any(bp_readings == 129, axis=0) )\n",
    "\n",
    "print('bp_readings[', row_144, ',', column_144, '] has the value', bp_readings[row_144, column_144])"
   ]
  },
  {
   "cell_type": "markdown",
   "metadata": {},
   "source": [
    "### Visually find the value 123\n",
    "\n",
    "Set variable `row_123` and `column_123` to the row and column that has 123 in it."
   ]
  },
  {
   "cell_type": "code",
   "execution_count": 13,
   "metadata": {
    "scrolled": true,
    "tags": []
   },
   "outputs": [
    {
     "data": {
      "text/html": [
       "<table border=\"1\" class=\"dataframe\">\n",
       "  <thead>\n",
       "    <tr style=\"text-align: right;\">\n",
       "      <th></th>\n",
       "      <th>Reading1</th>\n",
       "      <th>Reading2</th>\n",
       "      <th>Reading3</th>\n",
       "      <th>Reading4</th>\n",
       "      <th>Reading5</th>\n",
       "    </tr>\n",
       "  </thead>\n",
       "  <tbody>\n",
       "    <tr>\n",
       "      <th>Day1</th>\n",
       "      <td>149</td>\n",
       "      <td>127</td>\n",
       "      <td>128</td>\n",
       "      <td>129</td>\n",
       "      <td>125</td>\n",
       "    </tr>\n",
       "    <tr>\n",
       "      <th>Day2</th>\n",
       "      <td>147</td>\n",
       "      <td>129</td>\n",
       "      <td>131</td>\n",
       "      <td>127</td>\n",
       "      <td>135</td>\n",
       "    </tr>\n",
       "    <tr>\n",
       "      <th>Day3</th>\n",
       "      <td>143</td>\n",
       "      <td>123</td>\n",
       "      <td>125</td>\n",
       "      <td>130</td>\n",
       "      <td>133</td>\n",
       "    </tr>\n",
       "    <tr>\n",
       "      <th>Day4</th>\n",
       "      <td>144</td>\n",
       "      <td>129</td>\n",
       "      <td>135</td>\n",
       "      <td>131</td>\n",
       "      <td>132</td>\n",
       "    </tr>\n",
       "    <tr>\n",
       "      <th>Day5</th>\n",
       "      <td>151</td>\n",
       "      <td>134</td>\n",
       "      <td>130</td>\n",
       "      <td>129</td>\n",
       "      <td>127</td>\n",
       "    </tr>\n",
       "    <tr>\n",
       "      <th>Day6</th>\n",
       "      <td>149</td>\n",
       "      <td>127</td>\n",
       "      <td>129</td>\n",
       "      <td>131</td>\n",
       "      <td>133</td>\n",
       "    </tr>\n",
       "  </tbody>\n",
       "</table>"
      ],
      "text/plain": [
       "<IPython.core.display.HTML object>"
      ]
     },
     "metadata": {},
     "output_type": "display_data"
    },
    {
     "name": "stdout",
     "output_type": "stream",
     "text": [
      "bp_readings[ 2 , 1 ] has the value 123\n"
     ]
    }
   ],
   "source": [
    "comp116.array_to_html(bp_readings, row_names=['Day1', 'Day2', 'Day3', 'Day4', 'Day5', 'Day6'],\n",
    "                     col_names=['Reading1', 'Reading2', 'Reading3', 'Reading4', 'Reading5'])\n",
    "\n",
    "row_123 = np.argmax( np.any(bp_readings == 123, axis=1) )\n",
    "column_123 = np.argmax( np.any(bp_readings == 123, axis=0) )\n",
    "\n",
    "print('bp_readings[', row_123, ',', column_123, '] has the value', bp_readings[row_123, column_123])"
   ]
  },
  {
   "cell_type": "markdown",
   "metadata": {},
   "source": [
    "## What is the length of a two dimensional array?\n",
    "\n",
    "Is the length of a NumPy two-dimensional array the number of rows or the number of columns?\n",
    "\n",
    "Well, let's look at the NumPy property **shape**.\n",
    "\n",
    "**Note** shape is not a function for array.\n",
    "Instead it's a new thing called a property.\n",
    "For a property you just reference it.\n",
    "For example, `bp_readings.shape`.\n",
    "\n",
    "The shape is a tuple and describes the number of elements in each dimension.\n",
    "In our case the dimension is only two so we'll call it rows and columns\n",
    "\n",
    "<br />\n",
    "<br />\n",
    "<br />"
   ]
  },
  {
   "cell_type": "code",
   "execution_count": 14,
   "metadata": {
    "tags": []
   },
   "outputs": [
    {
     "name": "stdout",
     "output_type": "stream",
     "text": [
      "The shape of bp_readings is (6, 5)\n",
      "There are 6 rows and 5 columns in bp_readings\n",
      "The len(bp_readings)= 6 which is the first element in the shape.\n"
     ]
    }
   ],
   "source": [
    "print('The shape of bp_readings is', bp_readings.shape)\n",
    "print('There are', bp_readings.shape[0], 'rows and', bp_readings.shape[1], 'columns in bp_readings')\n",
    "print('The len(bp_readings)=', len(bp_readings), 'which is the first element in the shape.')"
   ]
  },
  {
   "cell_type": "markdown",
   "metadata": {},
   "source": [
    "## What is the maximum row or column offset\n",
    "\n",
    "Given that `bp_readings` has a shape of (6, 5) what is the maximum row offset and maximum column offset that can\n",
    "be used with `bp_readings`?\n",
    "\n",
    "Set variable `max_row_offset` and `max_col_offset` to the largest number that can be \n",
    "used for an offset in `bp_readings`"
   ]
  },
  {
   "cell_type": "code",
   "execution_count": 20,
   "metadata": {
    "tags": []
   },
   "outputs": [
    {
     "data": {
      "text/html": [
       "<table border=\"1\" class=\"dataframe\">\n",
       "  <thead>\n",
       "    <tr style=\"text-align: right;\">\n",
       "      <th></th>\n",
       "      <th>Reading1</th>\n",
       "      <th>Reading2</th>\n",
       "      <th>Reading3</th>\n",
       "      <th>Reading4</th>\n",
       "      <th>Reading5</th>\n",
       "    </tr>\n",
       "  </thead>\n",
       "  <tbody>\n",
       "    <tr>\n",
       "      <th>Day1</th>\n",
       "      <td>149</td>\n",
       "      <td>127</td>\n",
       "      <td>128</td>\n",
       "      <td>129</td>\n",
       "      <td>125</td>\n",
       "    </tr>\n",
       "    <tr>\n",
       "      <th>Day2</th>\n",
       "      <td>147</td>\n",
       "      <td>129</td>\n",
       "      <td>131</td>\n",
       "      <td>127</td>\n",
       "      <td>135</td>\n",
       "    </tr>\n",
       "    <tr>\n",
       "      <th>Day3</th>\n",
       "      <td>143</td>\n",
       "      <td>123</td>\n",
       "      <td>125</td>\n",
       "      <td>130</td>\n",
       "      <td>133</td>\n",
       "    </tr>\n",
       "    <tr>\n",
       "      <th>Day4</th>\n",
       "      <td>144</td>\n",
       "      <td>129</td>\n",
       "      <td>135</td>\n",
       "      <td>131</td>\n",
       "      <td>132</td>\n",
       "    </tr>\n",
       "    <tr>\n",
       "      <th>Day5</th>\n",
       "      <td>151</td>\n",
       "      <td>134</td>\n",
       "      <td>130</td>\n",
       "      <td>129</td>\n",
       "      <td>127</td>\n",
       "    </tr>\n",
       "    <tr>\n",
       "      <th>Day6</th>\n",
       "      <td>149</td>\n",
       "      <td>127</td>\n",
       "      <td>129</td>\n",
       "      <td>131</td>\n",
       "      <td>133</td>\n",
       "    </tr>\n",
       "  </tbody>\n",
       "</table>"
      ],
      "text/plain": [
       "<IPython.core.display.HTML object>"
      ]
     },
     "metadata": {},
     "output_type": "display_data"
    },
    {
     "name": "stdout",
     "output_type": "stream",
     "text": [
      "The shape of bp_readings is (6, 5)\n",
      "The maximum row and column offset that will not give an IndexError is 5 and 4 , respectively.\n"
     ]
    }
   ],
   "source": [
    "comp116.array_to_html(bp_readings, row_names=['Day1', 'Day2', 'Day3', 'Day4', 'Day5', 'Day6'],\n",
    "                     col_names=['Reading1', 'Reading2', 'Reading3', 'Reading4', 'Reading5'])\n",
    "print('The shape of bp_readings is', bp_readings.shape)\n",
    "\n",
    "max_row_offset  = bp_readings.shape[0] - 1\n",
    "max_col_offset  = bp_readings.shape[1] - 1\n",
    "\n",
    "print('The maximum row and column offset that will not give'\n",
    "      ' an IndexError is', max_row_offset, 'and', max_col_offset,\n",
    "      ', respectively.')"
   ]
  },
  {
   "cell_type": "markdown",
   "metadata": {},
   "source": [
    "## Index error\n",
    "\n",
    "What happens if you reference a row with (index) offset 6 or column with index (offset) 5?"
   ]
  },
  {
   "cell_type": "code",
   "execution_count": 21,
   "metadata": {
    "tags": []
   },
   "outputs": [
    {
     "name": "stdout",
     "output_type": "stream",
     "text": [
      "Readings do not exist\n"
     ]
    }
   ],
   "source": [
    "\n",
    "try:\n",
    "    eval(''' \n",
    "\n",
    "print(bp_readings[6, 0])\n",
    "print(bp_readings[0, 5])\n",
    "\n",
    "    ''')\n",
    "except:\n",
    "    print(\"Readings do not exist\")\n"
   ]
  },
  {
   "cell_type": "markdown",
   "metadata": {},
   "source": [
    "## How to reference an entire row of a two dimensional array\n",
    "\n",
    "Think of row zero as the first *group* of blood pressure readings.\n",
    "\n",
    "- With one dimensional arrays,  you specify `start:stop:step` but if you don't there are defaults\n",
    "  - `bp_readings1[0::] == bp_readings1[0:1:] == bp_readings1[0:1:1]`\n",
    "- What happens if you specify the row offset of a two dimensional array but no commas and not column offfset?\n",
    "\n",
    "<br />\n",
    "\n",
    "For a two dimensional array, if you specify zero offset **without a column offset** you get the entire first _row_.  \n",
    "\n",
    "If you specify just the row offset and no column offset, then you get that entire row."
   ]
  },
  {
   "cell_type": "code",
   "execution_count": 12,
   "metadata": {
    "tags": []
   },
   "outputs": [
    {
     "data": {
      "text/html": [
       "<table border=\"1\" class=\"dataframe\">\n",
       "  <thead>\n",
       "    <tr style=\"text-align: right;\">\n",
       "      <th></th>\n",
       "      <th>Reading1</th>\n",
       "      <th>Reading2</th>\n",
       "      <th>Reading3</th>\n",
       "      <th>Reading4</th>\n",
       "      <th>Reading5</th>\n",
       "    </tr>\n",
       "  </thead>\n",
       "  <tbody>\n",
       "    <tr>\n",
       "      <th>Day1</th>\n",
       "      <td>149</td>\n",
       "      <td>127</td>\n",
       "      <td>128</td>\n",
       "      <td>129</td>\n",
       "      <td>125</td>\n",
       "    </tr>\n",
       "    <tr>\n",
       "      <th>Day2</th>\n",
       "      <td>147</td>\n",
       "      <td>129</td>\n",
       "      <td>131</td>\n",
       "      <td>127</td>\n",
       "      <td>135</td>\n",
       "    </tr>\n",
       "    <tr>\n",
       "      <th>Day3</th>\n",
       "      <td>143</td>\n",
       "      <td>123</td>\n",
       "      <td>125</td>\n",
       "      <td>130</td>\n",
       "      <td>133</td>\n",
       "    </tr>\n",
       "    <tr>\n",
       "      <th>Day4</th>\n",
       "      <td>144</td>\n",
       "      <td>129</td>\n",
       "      <td>135</td>\n",
       "      <td>131</td>\n",
       "      <td>132</td>\n",
       "    </tr>\n",
       "    <tr>\n",
       "      <th>Day5</th>\n",
       "      <td>151</td>\n",
       "      <td>134</td>\n",
       "      <td>130</td>\n",
       "      <td>129</td>\n",
       "      <td>127</td>\n",
       "    </tr>\n",
       "    <tr>\n",
       "      <th>Day6</th>\n",
       "      <td>149</td>\n",
       "      <td>127</td>\n",
       "      <td>129</td>\n",
       "      <td>131</td>\n",
       "      <td>133</td>\n",
       "    </tr>\n",
       "  </tbody>\n",
       "</table>"
      ],
      "text/plain": [
       "<IPython.core.display.HTML object>"
      ]
     },
     "metadata": {},
     "output_type": "display_data"
    },
    {
     "name": "stdout",
     "output_type": "stream",
     "text": [
      "The first day of blood pressure readings\n",
      " are bp_readings[0]= [149 127 128 129 125]\n",
      "\n",
      "Another way to get an entire row is to\n",
      "write bp_readins[0,:] [149 127 128 129 125]\n",
      "Another way to get an entire row is to\n",
      "write bp_readins[0,0:] [149 127 128 129 125]\n",
      "Another way to get an entire row is to\n",
      "write bp_readins[0,0::] [149 127 128 129 125]\n"
     ]
    }
   ],
   "source": [
    "comp116.array_to_html(bp_readings, row_names=['Day1', 'Day2', 'Day3', 'Day4', 'Day5', 'Day6'],\n",
    "                     col_names=['Reading1', 'Reading2', 'Reading3', 'Reading4', 'Reading5'])\n",
    "\n",
    "print(\"The first day of blood pressure readings\\n\",\n",
    "      \"are bp_readings[0]=\", bp_readings[0])\n",
    "print()\n",
    "\n",
    "print(\"Another way to get an entire row is to\\n\"\n",
    "      \"write bp_readins[0,:]\", bp_readings[0, :])\n",
    "\n",
    "print(\"Another way to get an entire row is to\\n\"\n",
    "      \"write bp_readins[0,0:]\", bp_readings[0, 0:])\n",
    "\n",
    "\n",
    "print(\"Another way to get an entire row is to\\n\"\n",
    "      \"write bp_readins[0,0::]\", bp_readings[0, 0::])"
   ]
  },
  {
   "cell_type": "markdown",
   "metadata": {},
   "source": [
    "## How do you specify the second row?\n",
    "\n",
    "You want to specify a row offset of 1, **and**:\n",
    " - Don't specify the columns\n",
    " - Specify column `0:`\n",
    " - Specify column `:`\n",
    " - Specify column `::`"
   ]
  },
  {
   "cell_type": "code",
   "execution_count": 22,
   "metadata": {
    "tags": []
   },
   "outputs": [
    {
     "data": {
      "text/html": [
       "<table border=\"1\" class=\"dataframe\">\n",
       "  <thead>\n",
       "    <tr style=\"text-align: right;\">\n",
       "      <th></th>\n",
       "      <th>Reading1</th>\n",
       "      <th>Reading2</th>\n",
       "      <th>Reading3</th>\n",
       "      <th>Reading4</th>\n",
       "      <th>Reading5</th>\n",
       "    </tr>\n",
       "  </thead>\n",
       "  <tbody>\n",
       "    <tr>\n",
       "      <th>Day1</th>\n",
       "      <td>149</td>\n",
       "      <td>127</td>\n",
       "      <td>128</td>\n",
       "      <td>129</td>\n",
       "      <td>125</td>\n",
       "    </tr>\n",
       "    <tr>\n",
       "      <th>Day2</th>\n",
       "      <td>147</td>\n",
       "      <td>129</td>\n",
       "      <td>131</td>\n",
       "      <td>127</td>\n",
       "      <td>135</td>\n",
       "    </tr>\n",
       "    <tr>\n",
       "      <th>Day3</th>\n",
       "      <td>143</td>\n",
       "      <td>123</td>\n",
       "      <td>125</td>\n",
       "      <td>130</td>\n",
       "      <td>133</td>\n",
       "    </tr>\n",
       "    <tr>\n",
       "      <th>Day4</th>\n",
       "      <td>144</td>\n",
       "      <td>129</td>\n",
       "      <td>135</td>\n",
       "      <td>131</td>\n",
       "      <td>132</td>\n",
       "    </tr>\n",
       "    <tr>\n",
       "      <th>Day5</th>\n",
       "      <td>151</td>\n",
       "      <td>134</td>\n",
       "      <td>130</td>\n",
       "      <td>129</td>\n",
       "      <td>127</td>\n",
       "    </tr>\n",
       "    <tr>\n",
       "      <th>Day6</th>\n",
       "      <td>149</td>\n",
       "      <td>127</td>\n",
       "      <td>129</td>\n",
       "      <td>131</td>\n",
       "      <td>133</td>\n",
       "    </tr>\n",
       "  </tbody>\n",
       "</table>"
      ],
      "text/plain": [
       "<IPython.core.display.HTML object>"
      ]
     },
     "metadata": {},
     "output_type": "display_data"
    },
    {
     "name": "stdout",
     "output_type": "stream",
     "text": [
      "The second day of blood pressure readings\n",
      " is bp_readings[1]= [147 129 131 127 135]\n",
      "\n",
      "This is the same as bp_readings[1,:]\n",
      "[147 129 131 127 135]\n",
      "\n"
     ]
    }
   ],
   "source": [
    "comp116.array_to_html(bp_readings, row_names=['Day1', 'Day2', 'Day3', 'Day4', 'Day5', 'Day6'],\n",
    "                     col_names=['Reading1', 'Reading2', 'Reading3', 'Reading4', 'Reading5'])\n",
    "\n",
    "print(\"The second day of blood pressure readings\\n\",\n",
    "      \"is bp_readings[1]=\", bp_readings[1])\n",
    "print()\n",
    "\n",
    "print('This is the same as bp_readings[1,:]')\n",
    "print(bp_readings[1])\n",
    "print()"
   ]
  },
  {
   "cell_type": "markdown",
   "metadata": {},
   "source": [
    "## More ways of specifying data in a two dimensional array\n",
    "\n",
    "Of course, there are lots more powerful ways to specify data in a two-dimensional array.\n",
    "\n",
    "The row specification could be a `start:stop:step` notation.\n",
    "The column  specification could be a `start:stop:step` notation.\n",
    "\n",
    "\n",
    "Later we'll find that booleans can be used for row or column specifications.\n",
    "\n",
    "Knowing these notations will be key for understanding how to reference data.  \n",
    "\n",
    "\n",
    "Knowing how to reference data will be key to doing well on the exam!"
   ]
  },
  {
   "cell_type": "markdown",
   "metadata": {},
   "source": [
    "### Multiple ways to specify the first row of a two-dimensional array"
   ]
  },
  {
   "cell_type": "code",
   "execution_count": 23,
   "metadata": {
    "tags": []
   },
   "outputs": [
    {
     "data": {
      "text/html": [
       "<table border=\"1\" class=\"dataframe\">\n",
       "  <thead>\n",
       "    <tr style=\"text-align: right;\">\n",
       "      <th></th>\n",
       "      <th>0</th>\n",
       "      <th>1</th>\n",
       "      <th>2</th>\n",
       "      <th>3</th>\n",
       "      <th>4</th>\n",
       "    </tr>\n",
       "  </thead>\n",
       "  <tbody>\n",
       "    <tr>\n",
       "      <th>0</th>\n",
       "      <td>149</td>\n",
       "      <td>127</td>\n",
       "      <td>128</td>\n",
       "      <td>129</td>\n",
       "      <td>125</td>\n",
       "    </tr>\n",
       "    <tr>\n",
       "      <th>1</th>\n",
       "      <td>147</td>\n",
       "      <td>129</td>\n",
       "      <td>131</td>\n",
       "      <td>127</td>\n",
       "      <td>135</td>\n",
       "    </tr>\n",
       "    <tr>\n",
       "      <th>2</th>\n",
       "      <td>143</td>\n",
       "      <td>123</td>\n",
       "      <td>125</td>\n",
       "      <td>130</td>\n",
       "      <td>133</td>\n",
       "    </tr>\n",
       "    <tr>\n",
       "      <th>3</th>\n",
       "      <td>144</td>\n",
       "      <td>129</td>\n",
       "      <td>135</td>\n",
       "      <td>131</td>\n",
       "      <td>132</td>\n",
       "    </tr>\n",
       "    <tr>\n",
       "      <th>4</th>\n",
       "      <td>151</td>\n",
       "      <td>134</td>\n",
       "      <td>130</td>\n",
       "      <td>129</td>\n",
       "      <td>127</td>\n",
       "    </tr>\n",
       "    <tr>\n",
       "      <th>5</th>\n",
       "      <td>149</td>\n",
       "      <td>127</td>\n",
       "      <td>129</td>\n",
       "      <td>131</td>\n",
       "      <td>133</td>\n",
       "    </tr>\n",
       "  </tbody>\n",
       "</table>"
      ],
      "text/plain": [
       "<IPython.core.display.HTML object>"
      ]
     },
     "metadata": {},
     "output_type": "display_data"
    },
    {
     "name": "stdout",
     "output_type": "stream",
     "text": [
      "Specify the row and take the default for the column, a colon, to specify bp_readings[0]= [149 127 128 129 125]\n",
      "\n",
      "Specify the row and use a single colon for the column to specify starting column zero and ending column is the last column,bp_readings[0, :]= [149 127 128 129 125]\n",
      "\n",
      "bp_readings[0, 0:] = [149 127 128 129 125]\n",
      "bp_readings[0, :5] = [149 127 128 129 125]\n",
      "bp_readings[0, 0:5]= [149 127 128 129 125]\n"
     ]
    }
   ],
   "source": [
    "comp116.array_to_html(bp_readings)\n",
    "\n",
    "print('Specify the row and take the default for the column, a colon, to specify bp_readings[0]=', bp_readings[0])\n",
    "print()\n",
    "\n",
    "print('Specify the row and use a single colon for the column to specify starting column zero and ending column is the last column,'\n",
    "      'bp_readings[0, :]=', bp_readings[0, :])\n",
    "print()\n",
    "\n",
    "print('bp_readings[0, 0:] =', bp_readings[0, 0:])\n",
    "print('bp_readings[0, :5] =', bp_readings[0, :5])\n",
    "print('bp_readings[0, 0:5]=', bp_readings[0, 0:5])"
   ]
  },
  {
   "cell_type": "markdown",
   "metadata": {},
   "source": [
    "### Specifying the last row of a two dimensional array\n",
    "\n",
    "Set variable `last_row_bp_readings` to the last row of `bp_readings`"
   ]
  },
  {
   "cell_type": "code",
   "execution_count": 24,
   "metadata": {
    "tags": []
   },
   "outputs": [
    {
     "data": {
      "text/html": [
       "<table border=\"1\" class=\"dataframe\">\n",
       "  <thead>\n",
       "    <tr style=\"text-align: right;\">\n",
       "      <th></th>\n",
       "      <th>0</th>\n",
       "      <th>1</th>\n",
       "      <th>2</th>\n",
       "      <th>3</th>\n",
       "      <th>4</th>\n",
       "    </tr>\n",
       "  </thead>\n",
       "  <tbody>\n",
       "    <tr>\n",
       "      <th>0</th>\n",
       "      <td>149</td>\n",
       "      <td>127</td>\n",
       "      <td>128</td>\n",
       "      <td>129</td>\n",
       "      <td>125</td>\n",
       "    </tr>\n",
       "    <tr>\n",
       "      <th>1</th>\n",
       "      <td>147</td>\n",
       "      <td>129</td>\n",
       "      <td>131</td>\n",
       "      <td>127</td>\n",
       "      <td>135</td>\n",
       "    </tr>\n",
       "    <tr>\n",
       "      <th>2</th>\n",
       "      <td>143</td>\n",
       "      <td>123</td>\n",
       "      <td>125</td>\n",
       "      <td>130</td>\n",
       "      <td>133</td>\n",
       "    </tr>\n",
       "    <tr>\n",
       "      <th>3</th>\n",
       "      <td>144</td>\n",
       "      <td>129</td>\n",
       "      <td>135</td>\n",
       "      <td>131</td>\n",
       "      <td>132</td>\n",
       "    </tr>\n",
       "    <tr>\n",
       "      <th>4</th>\n",
       "      <td>151</td>\n",
       "      <td>134</td>\n",
       "      <td>130</td>\n",
       "      <td>129</td>\n",
       "      <td>127</td>\n",
       "    </tr>\n",
       "    <tr>\n",
       "      <th>5</th>\n",
       "      <td>149</td>\n",
       "      <td>127</td>\n",
       "      <td>129</td>\n",
       "      <td>131</td>\n",
       "      <td>133</td>\n",
       "    </tr>\n",
       "  </tbody>\n",
       "</table>"
      ],
      "text/plain": [
       "<IPython.core.display.HTML object>"
      ]
     },
     "metadata": {},
     "output_type": "display_data"
    },
    {
     "name": "stdout",
     "output_type": "stream",
     "text": [
      "The last row of bp_readings is [149 127 129 131 133]\n"
     ]
    }
   ],
   "source": [
    "comp116.array_to_html(bp_readings)\n",
    "\n",
    "\n",
    "\n",
    "last_row_bp_readings = bp_readings[-1,:]\n",
    "\n",
    "\n",
    "print('The last row of bp_readings is', last_row_bp_readings)"
   ]
  },
  {
   "cell_type": "markdown",
   "metadata": {},
   "source": [
    "### Specifying the last column of a two dimensional array\n",
    "\n",
    "If you specify the row as `:` then you're essentially specifying all rows.\n",
    "\n",
    "Set variable `last_column_bp_readings` to the last row of `bp_readings` by using a row offset of `:`\n"
   ]
  },
  {
   "cell_type": "code",
   "execution_count": 25,
   "metadata": {
    "tags": []
   },
   "outputs": [
    {
     "data": {
      "text/html": [
       "<table border=\"1\" class=\"dataframe\">\n",
       "  <thead>\n",
       "    <tr style=\"text-align: right;\">\n",
       "      <th></th>\n",
       "      <th>0</th>\n",
       "      <th>1</th>\n",
       "      <th>2</th>\n",
       "      <th>3</th>\n",
       "      <th>4</th>\n",
       "    </tr>\n",
       "  </thead>\n",
       "  <tbody>\n",
       "    <tr>\n",
       "      <th>0</th>\n",
       "      <td>149</td>\n",
       "      <td>127</td>\n",
       "      <td>128</td>\n",
       "      <td>129</td>\n",
       "      <td>125</td>\n",
       "    </tr>\n",
       "    <tr>\n",
       "      <th>1</th>\n",
       "      <td>147</td>\n",
       "      <td>129</td>\n",
       "      <td>131</td>\n",
       "      <td>127</td>\n",
       "      <td>135</td>\n",
       "    </tr>\n",
       "    <tr>\n",
       "      <th>2</th>\n",
       "      <td>143</td>\n",
       "      <td>123</td>\n",
       "      <td>125</td>\n",
       "      <td>130</td>\n",
       "      <td>133</td>\n",
       "    </tr>\n",
       "    <tr>\n",
       "      <th>3</th>\n",
       "      <td>144</td>\n",
       "      <td>129</td>\n",
       "      <td>135</td>\n",
       "      <td>131</td>\n",
       "      <td>132</td>\n",
       "    </tr>\n",
       "    <tr>\n",
       "      <th>4</th>\n",
       "      <td>151</td>\n",
       "      <td>134</td>\n",
       "      <td>130</td>\n",
       "      <td>129</td>\n",
       "      <td>127</td>\n",
       "    </tr>\n",
       "    <tr>\n",
       "      <th>5</th>\n",
       "      <td>149</td>\n",
       "      <td>127</td>\n",
       "      <td>129</td>\n",
       "      <td>131</td>\n",
       "      <td>133</td>\n",
       "    </tr>\n",
       "  </tbody>\n",
       "</table>"
      ],
      "text/plain": [
       "<IPython.core.display.HTML object>"
      ]
     },
     "metadata": {},
     "output_type": "display_data"
    },
    {
     "name": "stdout",
     "output_type": "stream",
     "text": [
      "The last column of bp_readings is [125 135 133 132 127 133]\n"
     ]
    }
   ],
   "source": [
    "comp116.array_to_html(bp_readings)\n",
    "\n",
    "\n",
    "last_column_bp_readings = bp_readings[:, -1]\n",
    "\n",
    "\n",
    "print('The last column of bp_readings is', last_column_bp_readings)"
   ]
  },
  {
   "cell_type": "markdown",
   "metadata": {},
   "source": [
    "## Specifying a column of a two-dimensional array\n",
    "\n",
    "Remember, the comma separates the specification of the first dimension, the rows, from the \n",
    "second dimension, the columns.\n",
    "\n",
    "But the columns or rows can also use the `start`:`stop`:`step`.\n",
    "So specifying a `:` in either the row or column means *all*.\n",
    "\n",
    "Set variable `second_column_bp_readings` to the second column of `bp_readings`"
   ]
  },
  {
   "cell_type": "code",
   "execution_count": 26,
   "metadata": {
    "tags": []
   },
   "outputs": [
    {
     "data": {
      "text/html": [
       "<table border=\"1\" class=\"dataframe\">\n",
       "  <thead>\n",
       "    <tr style=\"text-align: right;\">\n",
       "      <th></th>\n",
       "      <th>0</th>\n",
       "      <th>1</th>\n",
       "      <th>2</th>\n",
       "      <th>3</th>\n",
       "      <th>4</th>\n",
       "    </tr>\n",
       "  </thead>\n",
       "  <tbody>\n",
       "    <tr>\n",
       "      <th>0</th>\n",
       "      <td>149</td>\n",
       "      <td>127</td>\n",
       "      <td>128</td>\n",
       "      <td>129</td>\n",
       "      <td>125</td>\n",
       "    </tr>\n",
       "    <tr>\n",
       "      <th>1</th>\n",
       "      <td>147</td>\n",
       "      <td>129</td>\n",
       "      <td>131</td>\n",
       "      <td>127</td>\n",
       "      <td>135</td>\n",
       "    </tr>\n",
       "    <tr>\n",
       "      <th>2</th>\n",
       "      <td>143</td>\n",
       "      <td>123</td>\n",
       "      <td>125</td>\n",
       "      <td>130</td>\n",
       "      <td>133</td>\n",
       "    </tr>\n",
       "    <tr>\n",
       "      <th>3</th>\n",
       "      <td>144</td>\n",
       "      <td>129</td>\n",
       "      <td>135</td>\n",
       "      <td>131</td>\n",
       "      <td>132</td>\n",
       "    </tr>\n",
       "    <tr>\n",
       "      <th>4</th>\n",
       "      <td>151</td>\n",
       "      <td>134</td>\n",
       "      <td>130</td>\n",
       "      <td>129</td>\n",
       "      <td>127</td>\n",
       "    </tr>\n",
       "    <tr>\n",
       "      <th>5</th>\n",
       "      <td>149</td>\n",
       "      <td>127</td>\n",
       "      <td>129</td>\n",
       "      <td>131</td>\n",
       "      <td>133</td>\n",
       "    </tr>\n",
       "  </tbody>\n",
       "</table>"
      ],
      "text/plain": [
       "<IPython.core.display.HTML object>"
      ]
     },
     "metadata": {},
     "output_type": "display_data"
    },
    {
     "name": "stdout",
     "output_type": "stream",
     "text": [
      "The second column of bp_readings is [127 129 123 129 134 127]\n"
     ]
    }
   ],
   "source": [
    "comp116.array_to_html(bp_readings)\n",
    "second_column_bp_readings = bp_readings[:, 1]\n",
    "\n",
    "print('The second column of bp_readings is', second_column_bp_readings)"
   ]
  },
  {
   "cell_type": "markdown",
   "metadata": {},
   "source": [
    "# Taking averages\n",
    "\n",
    "What if we wanted the average of a two dimensional array?\n",
    "\n",
    "What would `np.average` return?  Set `average_bp_readings` to be the average of all `bp_readings`"
   ]
  },
  {
   "cell_type": "code",
   "execution_count": 27,
   "metadata": {
    "tags": []
   },
   "outputs": [
    {
     "data": {
      "text/html": [
       "<table border=\"1\" class=\"dataframe\">\n",
       "  <thead>\n",
       "    <tr style=\"text-align: right;\">\n",
       "      <th></th>\n",
       "      <th>0</th>\n",
       "      <th>1</th>\n",
       "      <th>2</th>\n",
       "      <th>3</th>\n",
       "      <th>4</th>\n",
       "    </tr>\n",
       "  </thead>\n",
       "  <tbody>\n",
       "    <tr>\n",
       "      <th>0</th>\n",
       "      <td>149</td>\n",
       "      <td>127</td>\n",
       "      <td>128</td>\n",
       "      <td>129</td>\n",
       "      <td>125</td>\n",
       "    </tr>\n",
       "    <tr>\n",
       "      <th>1</th>\n",
       "      <td>147</td>\n",
       "      <td>129</td>\n",
       "      <td>131</td>\n",
       "      <td>127</td>\n",
       "      <td>135</td>\n",
       "    </tr>\n",
       "    <tr>\n",
       "      <th>2</th>\n",
       "      <td>143</td>\n",
       "      <td>123</td>\n",
       "      <td>125</td>\n",
       "      <td>130</td>\n",
       "      <td>133</td>\n",
       "    </tr>\n",
       "    <tr>\n",
       "      <th>3</th>\n",
       "      <td>144</td>\n",
       "      <td>129</td>\n",
       "      <td>135</td>\n",
       "      <td>131</td>\n",
       "      <td>132</td>\n",
       "    </tr>\n",
       "    <tr>\n",
       "      <th>4</th>\n",
       "      <td>151</td>\n",
       "      <td>134</td>\n",
       "      <td>130</td>\n",
       "      <td>129</td>\n",
       "      <td>127</td>\n",
       "    </tr>\n",
       "    <tr>\n",
       "      <th>5</th>\n",
       "      <td>149</td>\n",
       "      <td>127</td>\n",
       "      <td>129</td>\n",
       "      <td>131</td>\n",
       "      <td>133</td>\n",
       "    </tr>\n",
       "  </tbody>\n",
       "</table>"
      ],
      "text/plain": [
       "<IPython.core.display.HTML object>"
      ]
     },
     "metadata": {},
     "output_type": "display_data"
    },
    {
     "name": "stdout",
     "output_type": "stream",
     "text": [
      "The average of all bp_readings is 133.06666666666666\n"
     ]
    }
   ],
   "source": [
    "comp116.array_to_html(bp_readings)\n",
    "average_bp_readings = np.average(bp_readings)\n",
    "\n",
    "print('The average of all bp_readings is', average_bp_readings)"
   ]
  },
  {
   "cell_type": "markdown",
   "metadata": {},
   "source": [
    "## Taking average of the first readings\n",
    "\n",
    "What if you wanted to take the average of the first reading (columns)?  \n",
    "How would you do it?\n",
    "\n",
    "NumPy numerical computation has an `axis` parameter.\n",
    "\n",
    "\n",
    "Since `bp_readings.shape` is `(6, 5)` and we want the average of the five readings\n",
    "we want to *collapse* the axis that has 6.\n",
    "We want to specify the average with axis=0 to get five averages.\n",
    "\n",
    "Set `bp_readings_averages_of_five_readings` to an array such\n",
    "that `bp_readings_averages_of_five_readings[0]` is the average of all the first \n",
    "readings.\n",
    "`bp_readings_averages_of_five_readings[1]` is the average of all the second readings.\n"
   ]
  },
  {
   "cell_type": "code",
   "execution_count": 28,
   "metadata": {
    "tags": []
   },
   "outputs": [
    {
     "data": {
      "text/html": [
       "<table border=\"1\" class=\"dataframe\">\n",
       "  <thead>\n",
       "    <tr style=\"text-align: right;\">\n",
       "      <th></th>\n",
       "      <th>Reading1</th>\n",
       "      <th>Reading2</th>\n",
       "      <th>Reading3</th>\n",
       "      <th>Reading4</th>\n",
       "      <th>Reading5</th>\n",
       "    </tr>\n",
       "  </thead>\n",
       "  <tbody>\n",
       "    <tr>\n",
       "      <th>Day1</th>\n",
       "      <td>149</td>\n",
       "      <td>127</td>\n",
       "      <td>128</td>\n",
       "      <td>129</td>\n",
       "      <td>125</td>\n",
       "    </tr>\n",
       "    <tr>\n",
       "      <th>Day2</th>\n",
       "      <td>147</td>\n",
       "      <td>129</td>\n",
       "      <td>131</td>\n",
       "      <td>127</td>\n",
       "      <td>135</td>\n",
       "    </tr>\n",
       "    <tr>\n",
       "      <th>Day3</th>\n",
       "      <td>143</td>\n",
       "      <td>123</td>\n",
       "      <td>125</td>\n",
       "      <td>130</td>\n",
       "      <td>133</td>\n",
       "    </tr>\n",
       "    <tr>\n",
       "      <th>Day4</th>\n",
       "      <td>144</td>\n",
       "      <td>129</td>\n",
       "      <td>135</td>\n",
       "      <td>131</td>\n",
       "      <td>132</td>\n",
       "    </tr>\n",
       "    <tr>\n",
       "      <th>Day5</th>\n",
       "      <td>151</td>\n",
       "      <td>134</td>\n",
       "      <td>130</td>\n",
       "      <td>129</td>\n",
       "      <td>127</td>\n",
       "    </tr>\n",
       "    <tr>\n",
       "      <th>Day6</th>\n",
       "      <td>149</td>\n",
       "      <td>127</td>\n",
       "      <td>129</td>\n",
       "      <td>131</td>\n",
       "      <td>133</td>\n",
       "    </tr>\n",
       "  </tbody>\n",
       "</table>"
      ],
      "text/plain": [
       "<IPython.core.display.HTML object>"
      ]
     },
     "metadata": {},
     "output_type": "display_data"
    },
    {
     "name": "stdout",
     "output_type": "stream",
     "text": [
      "The average of the first through five readings are [147.16666667 128.16666667 129.66666667 129.5        130.83333333]\n",
      "The average of [149 147 143 144 151 149] is 147.16666666666666\n"
     ]
    }
   ],
   "source": [
    "comp116.array_to_html(bp_readings, row_names=['Day1', 'Day2', 'Day3', 'Day4', 'Day5', 'Day6'],\n",
    "                     col_names=['Reading1', 'Reading2', 'Reading3', 'Reading4', 'Reading5'])\n",
    "bp_readings_averages_of_five_readings = np.average(bp_readings, axis=0)\n",
    "\n",
    "print('The average of the first through five readings are', bp_readings_averages_of_five_readings)\n",
    "print('The average of', bp_readings[:, 0], 'is', bp_readings_averages_of_five_readings[0])"
   ]
  },
  {
   "cell_type": "code",
   "execution_count": 20,
   "metadata": {
    "tags": []
   },
   "outputs": [
    {
     "data": {
      "text/plain": [
       "array([1, 1, 1])"
      ]
     },
     "execution_count": 20,
     "metadata": {},
     "output_type": "execute_result"
    }
   ],
   "source": [
    "np.diff( [0, 1, 2, 3])"
   ]
  },
  {
   "cell_type": "markdown",
   "metadata": {},
   "source": [
    "## Does each reading always decrease\n",
    "\n",
    "What if you wanted to know the difference going across a row?\n",
    "Maybe each reading goes down as people relax in their office.\n",
    "\n",
    "NumPy difference, [np.diff](https://docs.scipy.org/doc/numpy/reference/generated/numpy.diff.html) takes the difference \n",
    "of successive readings.\n",
    "\n",
    "`np.diff( [0, 1, 2, 3] )` returns `np.array([1, 1, 1])`.  Notice that `np.diff` returns an array that has one less element in in the direction of the difference.\n",
    "\n",
    "Set variable `bp_readings_diff_across_rows` to the difference of each successive reading in `arr`."
   ]
  },
  {
   "cell_type": "code",
   "execution_count": 21,
   "metadata": {
    "tags": []
   },
   "outputs": [
    {
     "data": {
      "text/html": [
       "<table border=\"1\" class=\"dataframe\">\n",
       "  <thead>\n",
       "    <tr style=\"text-align: right;\">\n",
       "      <th></th>\n",
       "      <th>Reading1</th>\n",
       "      <th>Reading2</th>\n",
       "      <th>Reading3</th>\n",
       "      <th>Reading4</th>\n",
       "      <th>Reading5</th>\n",
       "    </tr>\n",
       "  </thead>\n",
       "  <tbody>\n",
       "    <tr>\n",
       "      <th>Day1</th>\n",
       "      <td>149</td>\n",
       "      <td>127</td>\n",
       "      <td>128</td>\n",
       "      <td>129</td>\n",
       "      <td>125</td>\n",
       "    </tr>\n",
       "    <tr>\n",
       "      <th>Day2</th>\n",
       "      <td>147</td>\n",
       "      <td>129</td>\n",
       "      <td>131</td>\n",
       "      <td>127</td>\n",
       "      <td>135</td>\n",
       "    </tr>\n",
       "    <tr>\n",
       "      <th>Day3</th>\n",
       "      <td>143</td>\n",
       "      <td>123</td>\n",
       "      <td>125</td>\n",
       "      <td>130</td>\n",
       "      <td>133</td>\n",
       "    </tr>\n",
       "    <tr>\n",
       "      <th>Day4</th>\n",
       "      <td>144</td>\n",
       "      <td>129</td>\n",
       "      <td>135</td>\n",
       "      <td>131</td>\n",
       "      <td>132</td>\n",
       "    </tr>\n",
       "    <tr>\n",
       "      <th>Day5</th>\n",
       "      <td>151</td>\n",
       "      <td>134</td>\n",
       "      <td>130</td>\n",
       "      <td>129</td>\n",
       "      <td>127</td>\n",
       "    </tr>\n",
       "    <tr>\n",
       "      <th>Day6</th>\n",
       "      <td>149</td>\n",
       "      <td>127</td>\n",
       "      <td>129</td>\n",
       "      <td>131</td>\n",
       "      <td>133</td>\n",
       "    </tr>\n",
       "  </tbody>\n",
       "</table>"
      ],
      "text/plain": [
       "<IPython.core.display.HTML object>"
      ]
     },
     "metadata": {},
     "output_type": "display_data"
    },
    {
     "name": "stdout",
     "output_type": "stream",
     "text": [
      "The successive increases of day 1 is [-22   1   1  -4]\n",
      "The successive increases of day 2 is [-18   2  -4   8]\n",
      "The successive increases of day 3 is [-20   2   5   3]\n",
      "The successive increases of day 4 is [-15   6  -4   1]\n",
      "The successive increases of day 5 is [-17  -4  -1  -2]\n",
      "The successive increases of day 6 is [-22   2   2   2]\n",
      "It looks like the second reading of each day consistently goes down.\n"
     ]
    }
   ],
   "source": [
    "comp116.array_to_html(bp_readings, row_names=['Day1', 'Day2', 'Day3', 'Day4', 'Day5', 'Day6'],\n",
    "                     col_names=['Reading1', 'Reading2', 'Reading3', 'Reading4', 'Reading5'])\n",
    "bp_readings_diff_across_rows = np.diff(bp_readings, axis=1)\n",
    "#print(bp_readings_diff_across_rows)\n",
    "for offset in range(len(bp_readings_diff_across_rows)):\n",
    "    print('The successive increases of day', offset+1, 'is', bp_readings_diff_across_rows[offset])\n",
    "print('It looks like the second reading of each day consistently goes down.')"
   ]
  },
  {
   "cell_type": "code",
   "execution_count": null,
   "metadata": {},
   "outputs": [],
   "source": []
  }
 ],
 "metadata": {
  "celltoolbar": "Edit Metadata",
  "kernelspec": {
   "display_name": "Python 3",
   "language": "python",
   "name": "python3"
  },
  "language_info": {
   "codemirror_mode": {
    "name": "ipython",
    "version": 3
   },
   "file_extension": ".py",
   "mimetype": "text/x-python",
   "name": "python",
   "nbconvert_exporter": "python",
   "pygments_lexer": "ipython3",
   "version": "3.12.5"
  }
 },
 "nbformat": 4,
 "nbformat_minor": 4
}
