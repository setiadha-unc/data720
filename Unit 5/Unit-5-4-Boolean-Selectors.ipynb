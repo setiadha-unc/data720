{
 "cells": [
  {
   "cell_type": "markdown",
   "metadata": {},
   "source": [
    "##### <img src=\"../SDSS-Logo.png\" style=\"display:inline; width:500px\" />\n",
    "\n",
    "\n",
    "## Learning Objectives\n",
    "- Understand Boolean variables\n",
    "- Combinations of Boolean variables\n",
    "- Operations that lead to Boolean values\n",
    "- Arrays of Booleans as masks or selectors\n"
   ]
  },
  {
   "cell_type": "markdown",
   "metadata": {},
   "source": [
    "### Boolean data types and using arrays of Booleans as selectors or masks\n",
    "- A Boolean variable can take on only one of two values, `True` or `False`\n",
    "- Operations on Boolean variables lead to oter Boolean variables\n",
    "- Boolean variables, especially arrays of Boolean variables are used as selectors or masks to subset data in NumPy arrays\n",
    " \n",
    "### A good reference for this lesson is [Vanderplas's Data Science book](https://jakevdp.github.io/PythonDataScienceHandbook/02.06-boolean-arrays-and-masks.html).\n"
   ]
  },
  {
   "cell_type": "code",
   "execution_count": null,
   "metadata": {
    "tags": []
   },
   "outputs": [],
   "source": [
    "\n",
    "# imports needed for setup\n",
    "import comp116\n",
    "import numpy as np\n",
    "import pickle\n",
    "import matplotlib.pyplot as plt\n",
    "\n",
    "with open('Unit-5-4-Numpy.data.pickle', 'rb') as fid:\n",
    "    (state_names, state_co2, state_co2_categories) = pickle.load(fid)"
   ]
  },
  {
   "cell_type": "markdown",
   "metadata": {},
   "source": [
    "## Boolean values result from a number of important operations, for example, whenever we compare things. Arrays of Boolean values are useful as selectors for choosing values from Numpy arrays\n",
    "\n",
    "* We've touched on booleans on and off.  Today we'll cover:\n",
    "    * Boolean _logical_ operators\n",
    "       * **and**, **or**, and **not**\n",
    "    * Booleans resulting from comparisons\n",
    "       * ==, !=, >, <, >=, <=\n",
    "    * Boolean _element by element_ operations\n",
    "       * **&amp;**, **&brvbar;**, and **~**\n",
    "    * Booleans for array indexing\n",
    "        * This is a very powerful and sometimes confusing way to slice an array.\n",
    "        * Instead of using `start:stop:step` you use an array of booleans that is the size of the dimension being indexed.\n",
    "   \n",
    "### The goal for today's class is to understand booleans enough to use them as <a href=\"https://www.python-course.eu/numpy_masking.php\" target=\"_blank\">boolean selectors</a> in an array instead of using `start:stop:step`.\n",
    "\n",
    "### Essentially a boolean selector (or mask) is an array of Boolean values that for each row or columns answers the question, 'Do you want this row/column? True or False?'\n",
    "\n",
    "### Some tutorials are also [here](https://thomas-cokelaer.info/tutorials/python/boolean.html)  "
   ]
  },
  {
   "cell_type": "markdown",
   "metadata": {},
   "source": [
    "## Recap booleans, integers and arrays as booleans\n",
    "\n",
    "* Booleans are either `True` or `False`.\n",
    "    * (Remember, that is not the same as true or false. The capitalized word is a reserved word in Python!)\n",
    "\n",
    "\n",
    "* Booleans _may be_ treated as zeros and ones (integers).\n",
    "    * Looking ahead this means that you can use `np.count_nonzero` or `np.sum` on NumPy arrays of Boolean values\n",
    "\n",
    "* The reverse is that integers and other objects _may be_ treated as Booleans.\n",
    "    * Zero is treated as False while any non-zero value is treated as True.\n",
    "    * Floats, arrays, and all objects have their own mapping to True and False.\n",
    "    * An array with any elements is considered True.\n",
    "    * An empty array is considered False.\n",
    "\n",
    "* You can use the operator `bool()` to cast any variable or value to a Boolean\n",
    "    * This is similar to using `int()` to cast a value to an integer.\n"
   ]
  },
  {
   "cell_type": "markdown",
   "metadata": {},
   "source": [
    "## What is treated as `True` and `False` in python?"
   ]
  },
  {
   "cell_type": "code",
   "execution_count": null,
   "metadata": {
    "tags": []
   },
   "outputs": [],
   "source": [
    "# What is the Boolean value of 0?\n",
    "print('The boolean value of an integer 0 is', bool(0))\n",
    "\n",
    "# What is the Boolean value of -1?\n",
    "\n",
    "\n",
    "print('The boolean value of an integer -1 is', bool(-1))\n",
    "\n",
    "\n",
    "# What is the Boolean value of an array of integers?\n",
    "\n",
    "print('The Boolean value of an array of integers is', bool(np.array([0, 22, -45, 0])))\n"
   ]
  },
  {
   "cell_type": "markdown",
   "metadata": {},
   "source": [
    "### Oops!! What happened in the last statement there? Think about it."
   ]
  },
  {
   "cell_type": "markdown",
   "metadata": {},
   "source": [
    "## A [*truth table* ](https://en.wikipedia.org/wiki/Truth_table) can be used to explain boolean operations\n"
   ]
  },
  {
   "cell_type": "code",
   "execution_count": null,
   "metadata": {
    "tags": []
   },
   "outputs": [],
   "source": [
    "bool_table = np.array([[0, 0, 0, 0, 1, 1],\n",
    "                      [0, 1, 0, 1, 1, 0],\n",
    "                      [1, 0, 0, 1, 0, 1],\n",
    "                      [1, 1, 1, 1, 0, 0]], dtype=bool)\n",
    "row_names = [''] * 4\n",
    "comp116.array_to_html(bool_table, row_names=row_names, col_names=['a', 'b', 'a and b', 'a or b', 'not a', 'not b'])"
   ]
  },
  {
   "cell_type": "markdown",
   "metadata": {},
   "source": [
    "## Boolean comparison operators\n",
    "\n",
    "* In many situations, you want to compare two things, with the result being a `True` or `False` i.e. Boolean value.\n",
    "* Common examples are where we want to tell if something is less than, greater than, equal to, something else.\n",
    "\n",
    "* In python, the operators to do this are `==`, `!=`, `>`, `<`, `>=`, `<=`.\n",
    "\n",
    "### Single element comparison operators\n",
    "* Boolean comparisons can be done with a single element.\n",
    "\n",
    "* Change the words within *<>* below to do the specified comparison operation."
   ]
  },
  {
   "cell_type": "code",
   "execution_count": null,
   "metadata": {
    "tags": []
   },
   "outputs": [],
   "source": [
    "# Boolean comparision of a single element\n",
    "x = 5\n",
    "\n",
    "\n",
    "print('x equals 5 is', x == 5)\n",
    "print('x is not equal to 5 is', x !=5)\n",
    "\n",
    "print('x is greater than 5 is', x > 5)\n",
    "\n",
    "print('x is less than 5 is', x < 5)\n",
    "\n",
    "print('x is greater than or equal to 5 is', x >= 5)\n",
    "\n",
    "print('x is less than or equal to 5 is', x <= 5)"
   ]
  },
  {
   "cell_type": "markdown",
   "metadata": {},
   "source": [
    "### Comparing an array of values to a single element \n",
    "\n",
    "* You can also an array of elements to a single value.\n",
    "\n",
    "* In the cell below, do the same operations as before, but use the variable `arr` for comparison.  "
   ]
  },
  {
   "cell_type": "code",
   "execution_count": null,
   "metadata": {
    "tags": []
   },
   "outputs": [],
   "source": [
    "\n",
    "# Create the array # arr = [ 0, 1, 2, 3, 4, 5, 6, 7, 8, 9 ]\n",
    "arr = np.arange(10) \n",
    "print('arr is', arr)\n",
    "\n",
    "# Boolean array from comparing an array to a scalar\n",
    "\n",
    "print('arr elements are equal to 5 is', arr == 5)\n",
    "\n",
    "print('arr elements are greater than 5 is', arr > 5)\n",
    "\n",
    "print('arr elements are less than 5 is', arr < 5)\n",
    "\n",
    "print('arr elements are greater than or equal to 5 is', arr >= 5)\n",
    "\n",
    "print('arr elements are less than or equal to 5 is', arr <= 5)\n"
   ]
  },
  {
   "cell_type": "markdown",
   "metadata": {},
   "source": [
    "### So comparing an array of values to a single element results in an array of Booleans of the same size\n",
    "\n",
    "* In the cell below, let us confirm this"
   ]
  },
  {
   "cell_type": "code",
   "execution_count": null,
   "metadata": {
    "tags": []
   },
   "outputs": [],
   "source": [
    "print('len(arr) is', len(arr), 'and it has shape', arr.shape)\n",
    "\n",
    "print('The number of elements in arr == 5 is', len(arr == 5), 'and it has shape', (arr == 5).shape)\n",
    "print('The number of elements in arr != 5 ', len(arr != 5), 'and it has shape', (arr != 5).shape)\n",
    "\n",
    "print('The number of elements in arr > 5  ', len(arr > 5), 'and it has shape', (arr > 5).shape)\n",
    "\n",
    "print('The number of elements in arr < 5  ', len(arr < 5), 'and it has shape', (arr < 5).shape)\n",
    "\n",
    "print('The number of elements in arr >= 5 ', len(arr >= 5), 'and it has shape', (arr >= 5).shape)\n",
    "\n",
    "print('The number of elements in arr <= 5 ', len(arr <= 5), 'and it has shape', (arr <= 5).shape)"
   ]
  },
  {
   "cell_type": "markdown",
   "metadata": {},
   "source": [
    "### NumPy has functions that work on an array of Boolean values\n",
    "* `np.any()` returns `True` if any value in the array is `True` and `False` otherwise\n",
    "* `np.all()` returns `True` if every value in the array is `True` and `False` otherwise"
   ]
  },
  {
   "cell_type": "code",
   "execution_count": null,
   "metadata": {
    "tags": []
   },
   "outputs": [],
   "source": [
    "# Let us check out some examples of `np.any` and `np.all`\n",
    "arr1 = np.arange(10)\n",
    "print('arr1 is', arr1)\n",
    "print('Is any value in arr1 > 5?', np.any(arr1 > 5))\n",
    "print('Are all values in arr1 > 5?', np.all(arr1 > 5))\n",
    "print('Are all values in arr1 >= 0?', np.all(arr1 >= 0))"
   ]
  },
  {
   "cell_type": "markdown",
   "metadata": {},
   "source": [
    "## Revisit the data on CO2 emission in different categories by US states in 2016\n",
    "\n",
    "These are the state $CO_2$ datasets we will be using:\n",
    "* `state_names` is an array of state names.\n",
    "Each state name corresponds to a row of `state_co2`.\n",
    "* `state_co2_categories` is an array of category names corresponding to the $CO_2$ source.\n",
    "Each category name corresponds to a column of `state_co2`.\n",
    "* `state_co2` is an array of `n`&Cross;`m` where the `n` rows are the `state_names` and the `m` columns `state_co2_categories` of the number of million metric tons of $CO_2$ produced by that state for that category.\n",
    "* For example, state with name `state_name[5]` had `state_co[5]` $CO_2$ in 2016 in categories `state_co2_categories` for each element in the row.\n",
    "\n",
    "* This means that `len(state_names) == state_co2.shape[0]` and `len(state_co2_categories) == state_co2.shape[1]`"
   ]
  },
  {
   "cell_type": "code",
   "execution_count": null,
   "metadata": {
    "tags": []
   },
   "outputs": [],
   "source": [
    "comp116.array_to_html(state_co2, row_names=state_names, col_names=state_co2_categories,\n",
    "                      title='2016 State CO2 emissions by source type')"
   ]
  },
  {
   "cell_type": "markdown",
   "metadata": {},
   "source": [
    "## Using Boolean arrays for selection\n",
    "### Using Boolean arrays as selectors or masks is common and useful - see [this](https://jakevdp.github.io/PythonDataScienceHandbook/02.06-boolean-arrays-and-masks.html) from the book by Jake Vanderplas\n",
    "\n",
    "### For example, we can use == to create a Boolean array that selects a single row (in this case a state)\n",
    "\n",
    "#### When is the state name `Idaho`?\n",
    "\n",
    "* Set the variable `idaho_boolean_array` to an array of Booleans that is the samesize as `state_names`  and has `True` corresponding to the index of `Idaho` and `False` elsewhere."
   ]
  },
  {
   "cell_type": "code",
   "execution_count": null,
   "metadata": {
    "tags": []
   },
   "outputs": [],
   "source": [
    "print('state_names=', state_names)\n",
    "\n",
    "idaho_boolean_array = (state_names == 'Idaho')\n",
    "\n",
    "print('Boolean array for selecting \"Idaho\" is', idaho_boolean_array)"
   ]
  },
  {
   "cell_type": "markdown",
   "metadata": {},
   "source": [
    "### What is the offset (index) of `Idaho` in `state_names`?\n",
    "\n",
    "* Set variable `idaho_offset` to the offset in `idaho_boolean_array` that corresponds to'Idaho' is `state_names`\n",
    "\n",
    "* **Note:** You should consider using the fact that `True` is `1` in python and `False` is `0`."
   ]
  },
  {
   "cell_type": "code",
   "execution_count": null,
   "metadata": {
    "tags": []
   },
   "outputs": [],
   "source": [
    "\n",
    "idaho_offset = np.argmax(idaho_boolean_array)\n",
    "\n",
    "\n",
    "print('Idaho is at offset', idaho_offset, 'within', state_names)"
   ]
  },
  {
   "cell_type": "markdown",
   "metadata": {},
   "source": [
    "### What are the $CO_2$ emissions from different categories for the state of Idaho?\n",
    "#### In other words, get the row that corresponds to `Idaho` in `state_co2`\n"
   ]
  },
  {
   "cell_type": "code",
   "execution_count": null,
   "metadata": {
    "tags": []
   },
   "outputs": [],
   "source": [
    "\n",
    "idaho_co2= state_co2[idaho_offset, :]\n",
    "\n",
    "# Don't worry about this reshape, just wanted to print it as a table.\n",
    "comp116.array_to_html(np.reshape(idaho_co2, (1,len(idaho_co2))), \n",
    "                      row_names=['Idaho'], col_names=state_co2_categories)\n",
    "\n",
    "# And compare to the table to make sure we got it right\n",
    "comp116.array_to_html(state_co2, row_names=state_names, col_names=state_co2_categories,\n",
    "                      title='2016 State CO2 emissions by source type')"
   ]
  },
  {
   "cell_type": "markdown",
   "metadata": {},
   "source": [
    "### Design patterns:\n",
    "* In software development, certain sequence of operations to achieve some thing occur over and over again.\n",
    "* In these cases, it is worthwhile to capture the sequence as what is called a Design Pattern.\n",
    "* The sequence of steps we used to isolate the data in `state_co2` for `Idaho` can be looked at as a design pattern\n",
    "\n",
    "<br>\n",
    "\n",
    "* Now, from looking at the table, we can see that `Idaho` is at index (offset) 4\n",
    "* So why not just use that to isolate the row corresponding to `Idaho`?\n"
   ]
  },
  {
   "cell_type": "code",
   "execution_count": null,
   "metadata": {
    "tags": []
   },
   "outputs": [],
   "source": [
    "# Why is this not a good idea in general?\n",
    "idaho_co2= state_co2[4, :]\n",
    "comp116.array_to_html(np.reshape(idaho_co2, (1,len(idaho_co2))), \n",
    "                      row_names=['Idaho'], col_names=state_co2_categories)"
   ]
  },
  {
   "cell_type": "markdown",
   "metadata": {},
   "source": [
    "### In the next cell, write the code to get the row in `state_co2` that corresponds to `Alaska`"
   ]
  },
  {
   "cell_type": "code",
   "execution_count": null,
   "metadata": {
    "tags": []
   },
   "outputs": [],
   "source": [
    "# Get the state_co2 row for Alaska\n",
    "\n",
    "alaska_boolean_array = (state_names == 'Alaska')\n",
    "alaska_offset = np.argmax(alaska_boolean_array)\n",
    "alaska_co2= state_co2[alaska_offset, :]\n",
    "\n",
    "\n",
    "comp116.array_to_html(np.reshape(alaska_co2, (1,len(alaska_co2))), \n",
    "                      row_names=['Alaska'], col_names=state_co2_categories)\n"
   ]
  },
  {
   "cell_type": "markdown",
   "metadata": {},
   "source": [
    "### So we have seen the design pattern for selecting a row from a NumPy array.\n",
    "### But you can use the pattern for selecting a column also\n",
    "\n",
    "* In the cell below, get the data that corresponds to the total $CO_2$ emitted by the different states from the use of Natural Gas i.e. isolate the column corresponding to `Total nat gas` in `state_co2`"
   ]
  },
  {
   "cell_type": "code",
   "execution_count": null,
   "metadata": {
    "tags": []
   },
   "outputs": [],
   "source": [
    "# Getting the column that corresponds to 'Total nat gas'\n",
    "print(state_co2_categories)\n",
    "\n",
    "\n",
    "totalNG_boolean_array = (state_co2_categories == 'Total nat gas')\n",
    "totalNG_offset = np.argmax(totalNG_boolean_array)\n",
    "totalNG_states = state_co2[:, totalNG_offset]\n",
    "comp116.array_to_html(totalNG_states, \n",
    "                      row_names=state_names, col_names=['Total nat gas'])\n"
   ]
  },
  {
   "cell_type": "markdown",
   "metadata": {},
   "source": [
    "## Element by Element boolean operators\n",
    "\n",
    "* We see that Boolean selectors or masks are important for data selection.\n",
    "* These are arrays of Boolean (`True` or `False` values.\n",
    "* Can we do Boolean operations between these selectors?\n",
    "* Let us try it in the cell below\n",
    "The element by element operations are formally know as _bitwise_ operations.  \n",
    "That was because a byte was made up of bits and the logical operation happened on each bit within a byte."
   ]
  },
  {
   "cell_type": "code",
   "execution_count": null,
   "metadata": {
    "tags": []
   },
   "outputs": [],
   "source": [
    "# Create a Boolean selectors called florida_mask and kansas_mask that can be used to select the rows for Florida\n",
    "# and Kansas respectively\n",
    "\n",
    "florida_mask = (state_names == 'Florida')\n",
    "kansas_mask = (state_names == 'Kansas')\n",
    "\n",
    "\n",
    "# Now take the logical or of florida_mask and kansas_mask to select either Florida or Kansas\n",
    "\n",
    "florida_or_kansas_mask = florida_mask or kansas_mask\n"
   ]
  },
  {
   "cell_type": "markdown",
   "metadata": {},
   "source": [
    "### What happened there?\n",
    "\n",
    "* The problem is that `and`, `or` etc apply to the complete python object that are the operands\n",
    "* What we want here are element-by-element operations"
   ]
  },
  {
   "cell_type": "markdown",
   "metadata": {},
   "source": [
    "### Element-by-element Boolean operations between Boolean arrays do exist\n",
    "### These are `&`, `|` and `~`\n",
    "\n",
    "\n",
    "* The comparison is done element-by-element.  \n",
    "* These are also called bitwise logical operations because they can be used to do logical operations on bits in a bte.\n",
    "* Look at the examples in the cell below."
   ]
  },
  {
   "cell_type": "code",
   "execution_count": null,
   "metadata": {
    "tags": []
   },
   "outputs": [],
   "source": [
    "a = np.array([ False, True, False, True ]) \n",
    "b = np.array([False, False, True, True])\n",
    "print('a is', a)\n",
    "print('b is', b)\n",
    "print('element by element a & b', a & b)\n",
    "print('element by element a | b', a | b)\n",
    "print('element by element ~a', ~a)"
   ]
  },
  {
   "cell_type": "markdown",
   "metadata": {},
   "source": [
    "### So let us revisit creating a Boolean mask that will pick the Florida and Kansas rows"
   ]
  },
  {
   "cell_type": "code",
   "execution_count": null,
   "metadata": {
    "tags": []
   },
   "outputs": [],
   "source": [
    "# Create a Boolean selectors called florida_mask and kansas_mask that can be used to select the rows for Florida\n",
    "# and Kansas respectively\n",
    "\n",
    "florida_mask = (state_names == 'Florida')\n",
    "kansas_mask = (state_names == 'Kansas')\n",
    "\n",
    "# Now take the logical or of florida_mask and kansas_mask to select either Florida or Kansas\n",
    "\n",
    "florida_or_kansas_mask = florida_mask | kansas_mask\n",
    "\n",
    "\n",
    "print('State names are', state_names)\n",
    "print('Florida or Kansas mask is', florida_or_kansas_mask)"
   ]
  },
  {
   "cell_type": "markdown",
   "metadata": {},
   "source": [
    "### So now let us use `florida_or_kansas_mask` to pull out the `state_co2` rows that correspond to these two states"
   ]
  },
  {
   "cell_type": "code",
   "execution_count": null,
   "metadata": {
    "tags": []
   },
   "outputs": [],
   "source": [
    "# Use florida_or_kansas_mask to select the rows corresponding to these two states\n",
    "\n",
    "florida_kansas_co2 = state_co2[florida_or_kansas_mask, :]\n",
    "\n",
    "\n",
    "comp116.array_to_html(florida_kansas_co2, \n",
    "                      row_names=state_names[florida_or_kansas_mask], col_names=state_co2_categories)\n"
   ]
  },
  {
   "cell_type": "markdown",
   "metadata": {},
   "source": [
    "### Selecting multiple columns using Boolean Selectors\n",
    "\n",
    "* Just like rows, Boolean element-wise operations can be used to select multiple columns at the same time\n",
    "* Let us say that we just want to look at the columns that correspond to the total $CO_2$ emissions from coal, petrol adn natural gas i.e. the `Ttal coal`, `Total petro` and `Total nat gas` columns.\n",
    "* Set variable `total_column_selector` to a boolean selector that picks the `state_co2_categores` corresponding to `Total coal`, `Total petro`,\n",
    "or `Total nat gas`.\n",
    "* Let us do this in 3 steps in the next few cells.\n"
   ]
  },
  {
   "cell_type": "code",
   "execution_count": null,
   "metadata": {
    "scrolled": true,
    "tags": []
   },
   "outputs": [],
   "source": [
    "# In the first step, create Boolean selectors for the three columns of interest\n",
    "print('The state CO2 categories are\\n', state_co2_categories)\n",
    "\n",
    "\n",
    "total_coal_boolean_array = (state_co2_categories == 'Total coal')\n",
    "total_petro_boolean_array = (state_co2_categories ==  'Total petro')\n",
    "total_nat_gas_boolean_array = (state_co2_categories == 'Total nat gas')\n",
    "\n",
    "\n",
    "print('The Boolean selector for Total coal is\\n', total_coal_boolean_array)\n",
    "print('The Boolean selector for Total petro is\\n', total_petro_boolean_array)\n",
    "print('The Boolean selector for Total nat gas is\\n', total_nat_gas_boolean_array)"
   ]
  },
  {
   "cell_type": "markdown",
   "metadata": {},
   "source": [
    "### In step 2, create a `total_boolean_array` that chooses the three total $CO_2$ emissions by element-by-element ops on the boolean arrays you created in the last step.\n"
   ]
  },
  {
   "cell_type": "code",
   "execution_count": null,
   "metadata": {
    "tags": []
   },
   "outputs": [],
   "source": [
    "# In step 2, use Boolean element-by-element operations to choose \n",
    "# the three total CO2 emissions for all states\n",
    "print('The state CO2 categories are\\n', state_co2_categories)\n",
    "\n",
    "\n",
    "total_boolean_array = total_coal_boolean_array | total_petro_boolean_array | \\\n",
    "    total_nat_gas_boolean_array\n",
    "\n",
    "\n",
    "print('The Boolean selector that picks all total columns is', total_boolean_array)\n"
   ]
  },
  {
   "cell_type": "markdown",
   "metadata": {},
   "source": [
    "### Finally, in Step 3, use `total_boolean_array` to display the total $CO_2$ emissions from coal, petroleum and natural gas for all states."
   ]
  },
  {
   "cell_type": "code",
   "execution_count": null,
   "metadata": {
    "tags": []
   },
   "outputs": [],
   "source": [
    "# In step 3, use total_boolean_array to show\n",
    "# the three total CO2 emissions for all states\n",
    "print('The state CO2 categories are\\n', state_co2_categories)\n",
    "print('The state names are', state_names)\n",
    "\n",
    "total_co2_all_states = state_co2[:, total_boolean_array]\n",
    "comp116.array_to_html(total_co2_all_states, \n",
    "                      row_names=state_names, \n",
    "                      col_names=state_co2_categories[total_boolean_array])"
   ]
  },
  {
   "cell_type": "markdown",
   "metadata": {},
   "source": [
    "### Finally, finally, can we combine row and column selectors to isolate a subset of the data?\n",
    "* Can we use `florida_or_and_kansas_mask` and `total_boolean_array` to get the total $CO_2$ emissions from coal, petroleum and natura gas for the states of Florida and Kansas?\n",
    "* We are doing row and column selection here\n",
    "* Write your code in the cell below."
   ]
  },
  {
   "cell_type": "code",
   "execution_count": null,
   "metadata": {
    "tags": []
   },
   "outputs": [],
   "source": [
    "# Pulling out the total Co2 emissions for Florida and Kansas from the state_co2 array\n",
    "\n",
    "\n",
    "total_co2_florida_kansas = state_co2[florida_or_kansas_mask,:][:, total_boolean_array]\n",
    "\n",
    "\n",
    "comp116.array_to_html(total_co2_florida_kansas, \n",
    "                      row_names=state_names[florida_or_kansas_mask], \n",
    "                      col_names=state_co2_categories[total_boolean_array])\n",
    "comp116.array_to_html(state_co2, row_names = state_names, col_names = state_co2_categories)"
   ]
  },
  {
   "cell_type": "markdown",
   "metadata": {},
   "source": [
    "Things to try:\n",
    " * Select category names by different names.\n",
    " * Select states by comparing names *greater* than something\n",
    " * Select $CO_2$ values greater than a certain value using a boolean selector\n"
   ]
  },
  {
   "cell_type": "code",
   "execution_count": null,
   "metadata": {},
   "outputs": [],
   "source": []
  }
 ],
 "metadata": {
  "celltoolbar": "Edit Metadata",
  "kernelspec": {
   "display_name": "Python 3 (ipykernel)",
   "language": "python",
   "name": "python3"
  },
  "language_info": {
   "codemirror_mode": {
    "name": "ipython",
    "version": 3
   },
   "file_extension": ".py",
   "mimetype": "text/x-python",
   "name": "python",
   "nbconvert_exporter": "python",
   "pygments_lexer": "ipython3",
   "version": "3.11.4"
  }
 },
 "nbformat": 4,
 "nbformat_minor": 4
}
