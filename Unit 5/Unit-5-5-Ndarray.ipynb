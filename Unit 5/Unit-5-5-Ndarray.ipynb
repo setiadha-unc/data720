{
 "cells": [
  {
   "cell_type": "markdown",
   "metadata": {},
   "source": [
    "##### <img src=\"../SDSS-Logo.png\" style=\"display:inline; width:500px\" />\n",
    "\n",
    "\n",
    "## Learning Objectives\n",
    "### Understand Numpy's underlying star, the Ndarray\n",
    "### Vectorized functions on Ndarrays\n",
    "\n"
   ]
  },
  {
   "cell_type": "markdown",
   "metadata": {},
   "source": [
    "### By convention, the Numpy library is usually imported as np"
   ]
  },
  {
   "cell_type": "code",
   "execution_count": 1,
   "metadata": {},
   "outputs": [],
   "source": [
    "import numpy as np"
   ]
  },
  {
   "cell_type": "markdown",
   "metadata": {},
   "source": [
    "### The Ndarray and Numpy form the basis for many other important packages in data science such as pandas, scipy, scikit-learn, and tensorflow.\n",
    "### The primary benefit of Numpy comes from the many numerical operations on Ndarrays that are provided by the Numpy API.\n",
    "### The numerical operations are highly optimized, based on fast C implementations - these are also called vectorized operations. \n",
    "\n",
    "### Some good  references for this lesson are [PLYMI](https://www.pythonlikeyoumeanit.com/module_3.html), [Vanderplas's book](https://jakevdp.github.io/PythonDataScienceHandbook/02.00-introduction-to-numpy.html) and the [Numpy docs](https://numpy.org/doc/stable/reference/arrays.ndarray.html)."
   ]
  },
  {
   "cell_type": "code",
   "execution_count": 2,
   "metadata": {
    "tags": []
   },
   "outputs": [],
   "source": [
    "\n",
    "# imports needed for setup\n",
    "import comp116\n",
    "import pickle\n",
    "import matplotlib.pyplot as plt\n",
    "import numpy as np\n"
   ]
  },
  {
   "cell_type": "markdown",
   "metadata": {},
   "source": [
    "## The Ndarray\n",
    "\n",
    "* Fundamentally the Ndarray is a fixed size collection of python objects of the same type that are organized as an N-dimensional array.\n",
    "\n",
    "* An Ndarray is characterized by two aspects: \n",
    "    * a `shape`, which is a tuple of integers  that shows how the data is distributed across the N dimensions\n",
    "    * a `dtype`, which is the data type of each of the elements of the array.\n",
    "    \n",
    "* Numpy provides many ways of creating Ndarrays"
   ]
  },
  {
   "cell_type": "code",
   "execution_count": 3,
   "metadata": {
    "tags": []
   },
   "outputs": [
    {
     "name": "stdout",
     "output_type": "stream",
     "text": [
      "[[ 1.  2.  3.]\n",
      " [ 9. 10. 11.]]\n"
     ]
    }
   ],
   "source": [
    "my_array = np.array([[1, 2, 3],[9, 10, 11]], np.float64)\n",
    "print(my_array)"
   ]
  },
  {
   "cell_type": "markdown",
   "metadata": {},
   "source": [
    "### In the above cell, we started with nested lists of numbers and created a numpy array that has 2 rows and 3 columns.\n",
    "* The `print` output of the ndarray looks like a list of lists - but notice that there are no `,`  between list elements.\n",
    "* Below is `print()` applied to a list of lists. Notice the commas in between the numbers."
   ]
  },
  {
   "cell_type": "code",
   "execution_count": 4,
   "metadata": {
    "tags": []
   },
   "outputs": [
    {
     "name": "stdout",
     "output_type": "stream",
     "text": [
      "[[1, 2, 3], [9, 10, 11]]\n"
     ]
    }
   ],
   "source": [
    "print([[1, 2, 3],[9, 10, 11]])"
   ]
  },
  {
   "cell_type": "markdown",
   "metadata": {},
   "source": [
    "### You can check for the array's type, shape and data type"
   ]
  },
  {
   "cell_type": "code",
   "execution_count": 5,
   "metadata": {
    "tags": []
   },
   "outputs": [
    {
     "name": "stdout",
     "output_type": "stream",
     "text": [
      "TYpe of my_array <class 'numpy.ndarray'>\n",
      "Shape of my_array (2, 3)\n",
      "Data type of my_array float64\n"
     ]
    }
   ],
   "source": [
    "print(f\"TYpe of my_array {type(my_array)}\")\n",
    "print(f\"Shape of my_array {my_array.shape}\")\n",
    "print(f\"Data type of my_array {my_array.dtype}\")"
   ]
  },
  {
   "cell_type": "markdown",
   "metadata": {},
   "source": [
    "### Numpy provides a number of ways of creating ndarrays, see this [link](https://numpy.org/doc/stable/user/basics.creation.html)\n",
    "### The previous example created a ndarray from a Python list, but other python sequences can be used.\n",
    "### A few other useful methods for creating ndarrays are shown below.\n"
   ]
  },
  {
   "cell_type": "code",
   "execution_count": 6,
   "metadata": {
    "tags": []
   },
   "outputs": [
    {
     "name": "stdout",
     "output_type": "stream",
     "text": [
      "[[[0. 0.]\n",
      "  [0. 0.]\n",
      "  [0. 0.]]\n",
      "\n",
      " [[0. 0.]\n",
      "  [0. 0.]\n",
      "  [0. 0.]]]\n",
      "\n",
      "[[1. 1. 1.]\n",
      " [1. 1. 1.]\n",
      " [1. 1. 1.]]\n",
      "\n",
      "[[-0.66791465 -0.65114247]\n",
      " [-0.05153187 -0.27694694]]\n"
     ]
    }
   ],
   "source": [
    "# Create an array of zeros.\n",
    "print(np.zeros((2, 3, 2)))\n",
    "print()\n",
    "# Create an array pf ones.\n",
    "print(np.ones((3, 3)))\n",
    "print()\n",
    "# Create an array of normally distributed values with mean 0 and sd 1\n",
    "print(np.random.normal(0, 1, (2,2)))"
   ]
  },
  {
   "cell_type": "markdown",
   "metadata": {},
   "source": [
    "### Reshaping an ndarray is another useful function"
   ]
  },
  {
   "cell_type": "code",
   "execution_count": 7,
   "metadata": {
    "tags": []
   },
   "outputs": [
    {
     "data": {
      "text/plain": [
       "array([[0, 1, 2, 3, 4],\n",
       "       [5, 6, 7, 8, 9]])"
      ]
     },
     "execution_count": 7,
     "metadata": {},
     "output_type": "execute_result"
    }
   ],
   "source": [
    "np.reshape(list(range(10)), (2, 5))"
   ]
  },
  {
   "cell_type": "markdown",
   "metadata": {},
   "source": [
    "### Indexing and slicing works the same way as for strings and lits."
   ]
  },
  {
   "cell_type": "code",
   "execution_count": 8,
   "metadata": {
    "tags": []
   },
   "outputs": [
    {
     "name": "stdout",
     "output_type": "stream",
     "text": [
      "[[ 0  1  2  3]\n",
      " [ 4  5  6  7]\n",
      " [ 8  9 10 11]] \n",
      "\n",
      "6 \n",
      "\n",
      "[[ 6  7]\n",
      " [10 11]]\n",
      "\n"
     ]
    }
   ],
   "source": [
    "x = np.reshape(list(range(12)), (3, 4))\n",
    "print(f\"{x} \\n\")\n",
    "print(f\"{x[1,2]} \\n\")\n",
    "print(f\"{x[1:3, 2:4]}\\n\")\n",
    "               "
   ]
  },
  {
   "cell_type": "markdown",
   "metadata": {},
   "source": [
    "### Numpy has vectorized arithmetic operations on ndarrays.\n",
    "### The most common of can be used with regular operator symbols that are overloaded."
   ]
  },
  {
   "cell_type": "code",
   "execution_count": 9,
   "metadata": {
    "tags": []
   },
   "outputs": [
    {
     "name": "stdout",
     "output_type": "stream",
     "text": [
      "x1 = [13  5  1 12]\n",
      "\n",
      "x2 = [0.  0.1 0.2 0.3]\n",
      "\n",
      "[13.   5.1  1.2 12.3]\n",
      "\n",
      "[13.   5.1  1.2 12.3]\n",
      "\n"
     ]
    }
   ],
   "source": [
    "x1 = np.random.randint(1, 15, 4)\n",
    "x2 = np.arange(0, 0.4, 0.1)\n",
    "print(f\"x1 = {x1}\\n\")\n",
    "print(f\"x2 = {x2}\\n\")\n",
    "\n",
    "print(f\"{np.add(x1, x2)}\\n\")\n",
    "print(f\"{x1 + x2}\\n\")"
   ]
  },
  {
   "cell_type": "markdown",
   "metadata": {},
   "source": [
    "### There are many vectorized operations in Numpy that compute along one or more dimensions of the ndarray and reduce the array dimension to one alond that axis."
   ]
  },
  {
   "cell_type": "code",
   "execution_count": 10,
   "metadata": {
    "tags": []
   },
   "outputs": [
    {
     "name": "stdout",
     "output_type": "stream",
     "text": [
      "[[16  5  6 10]\n",
      " [ 0  0 12 16]\n",
      " [ 8 15 19 17]]\n"
     ]
    }
   ],
   "source": [
    "x3 = np.random.randint(0, 20, (3,4))\n",
    "print(x3)"
   ]
  },
  {
   "cell_type": "code",
   "execution_count": 11,
   "metadata": {
    "tags": []
   },
   "outputs": [
    {
     "data": {
      "text/plain": [
       "np.int64(124)"
      ]
     },
     "execution_count": 11,
     "metadata": {},
     "output_type": "execute_result"
    }
   ],
   "source": [
    "# Compute the sum of all elements\n",
    "np.sum(x3)"
   ]
  },
  {
   "cell_type": "code",
   "execution_count": 12,
   "metadata": {
    "tags": []
   },
   "outputs": [
    {
     "data": {
      "text/plain": [
       "np.int32(19)"
      ]
     },
     "execution_count": 12,
     "metadata": {},
     "output_type": "execute_result"
    }
   ],
   "source": [
    "# Find the max across all elements\n",
    "np.amax(x3)"
   ]
  },
  {
   "cell_type": "code",
   "execution_count": 13,
   "metadata": {
    "tags": []
   },
   "outputs": [
    {
     "data": {
      "text/plain": [
       "np.int64(10)"
      ]
     },
     "execution_count": 13,
     "metadata": {},
     "output_type": "execute_result"
    }
   ],
   "source": [
    "# Find the indexes of the maximum value\n",
    "np.argmax(x3)"
   ]
  },
  {
   "cell_type": "code",
   "execution_count": 14,
   "metadata": {
    "tags": []
   },
   "outputs": [
    {
     "data": {
      "text/plain": [
       "(np.int64(2), np.int64(2))"
      ]
     },
     "execution_count": 14,
     "metadata": {},
     "output_type": "execute_result"
    }
   ],
   "source": [
    "# Get the 2-d index not the 1-d index  \n",
    "np.unravel_index(np.argmax(x3), x3.shape)"
   ]
  },
  {
   "cell_type": "markdown",
   "metadata": {},
   "source": [
    "## Sometimes you want to do the operation across one of the dimensions"
   ]
  },
  {
   "cell_type": "markdown",
   "metadata": {},
   "source": [
    "## 2D numpy array and axis\n",
    "<img src=\"Unit-5-5-Fig1.png\" width=\"300\" style=\"float: left\" />"
   ]
  },
  {
   "cell_type": "markdown",
   "metadata": {},
   "source": [
    "## Sum of 2D numpy array along axis = 0\n",
    "<img src=\"Unit-5-5-Fig2.png\" width=\"300\" style=\"float: left\" />"
   ]
  },
  {
   "cell_type": "code",
   "execution_count": 15,
   "metadata": {
    "tags": []
   },
   "outputs": [
    {
     "data": {
      "text/plain": [
       "array([24, 20, 37, 43])"
      ]
     },
     "execution_count": 15,
     "metadata": {},
     "output_type": "execute_result"
    }
   ],
   "source": [
    "np.sum(x3, axis = 0)"
   ]
  },
  {
   "cell_type": "markdown",
   "metadata": {},
   "source": [
    "## Sum of 2D numpy array along axis = 1\n",
    "<img src=\"Unit-5-5-Fig3.png\" width=\"300\" style=\"float: left\" />"
   ]
  },
  {
   "cell_type": "code",
   "execution_count": 16,
   "metadata": {},
   "outputs": [
    {
     "data": {
      "text/plain": [
       "array([37, 28, 59])"
      ]
     },
     "execution_count": 16,
     "metadata": {},
     "output_type": "execute_result"
    }
   ],
   "source": [
    "np.sum(x3, axis = 1)"
   ]
  },
  {
   "cell_type": "markdown",
   "metadata": {},
   "source": [
    "### See the references for many more exanples of numpy functions."
   ]
  },
  {
   "cell_type": "code",
   "execution_count": null,
   "metadata": {},
   "outputs": [],
   "source": []
  }
 ],
 "metadata": {
  "celltoolbar": "Edit Metadata",
  "kernelspec": {
   "display_name": "Python 3",
   "language": "python",
   "name": "python3"
  },
  "language_info": {
   "codemirror_mode": {
    "name": "ipython",
    "version": 3
   },
   "file_extension": ".py",
   "mimetype": "text/x-python",
   "name": "python",
   "nbconvert_exporter": "python",
   "pygments_lexer": "ipython3",
   "version": "3.12.5"
  }
 },
 "nbformat": 4,
 "nbformat_minor": 4
}
