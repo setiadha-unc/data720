{
 "cells": [
  {
   "cell_type": "markdown",
   "metadata": {},
   "source": [
    "##### <img src=\"../SDSS-Logo.png\" style=\"display:inline; width:500px\" />\n",
    "\n",
    "\n",
    "## Learning Objectives\n",
    "- use and manipulate NumPy Arrays\n",
    "- use the functions that come with NumPy library \n"
   ]
  },
  {
   "cell_type": "markdown",
   "metadata": {},
   "source": [
    "\n",
    "### Continuing our study of different data types in python\n",
    "- There are several data types in Python that can hold data collections.\n",
    "- We've covered strings, lists, and now moving on to NumPy arrays.\n",
    "- Numpy arrays are the backbone of a lot of Data Science work in Python.\n",
    "\n",
    "### NumPy arrays:\n",
    " * Build on the capabilities of strings and lists, but are\n",
    "   * Faster\n",
    "   * Handle only homogeneous elements (all elements of the same type)\n",
    "   * Have multiple ways to initalize \n",
    "   * Allow Boolean selection of elements (this is important, and highly useful)\n",
    "   \n",
    "### Some NumPy facts:\n",
    "- NumPy is an external library and not a part of the standard python libraries.\n",
    "- Find out more about NumPy at [NumPy](https://www.numpy.org/) and [PLYMI-Module 3](https://www.pythonlikeyoumeanit.com/module_3.html)\n",
    " \n",
    "\n",
    "## Motivation\n",
    "\n",
    "Arrays are another FUNDAMENTAL data type.  You can think of an array as a spreadsheet, or a table, or more generally, a collection of things arranged in rows and columns. N-dimensional arrays generalize this concept.\n",
    "\n",
    "We will often use arrays to hold, access, and manipulate collections of data that are related to interesting problems, or hold intermediate forms of problem solutions.  \n",
    "\n",
    "Thus, we need to be able to manipuate arrays in a fascile fashion, and that requires us to learn all of the details on how to slice and dice these 2D structures."
   ]
  },
  {
   "cell_type": "code",
   "execution_count": 1,
   "metadata": {
    "tags": []
   },
   "outputs": [],
   "source": [
    "import comp116\n",
    "import numpy as np\n",
    "\n",
    "\n",
    "import pickle\n",
    "\n",
    "import json\n",
    "import pathlib \n",
    "import os\n",
    "import sys\n",
    "\n",
    "EMISS = []\n",
    "for line in open('Unit-5-2-EMISS.txt'):\n",
    "    EMISS.append(json.loads(line))\n",
    "description_prefix = 'Total carbon dioxide emissions from all sectors, '\n",
    "\n",
    "years = []\n",
    "us_coal = []\n",
    "us_petro = []\n",
    "us_nat_gas = []\n",
    "for d in EMISS:\n",
    "    if description_prefix + 'coal, United States' in d['name']:\n",
    "        for row in d['data']:\n",
    "            years.append(int(row[0]))\n",
    "            us_coal.append(row[1])\n",
    "    if description_prefix + 'petroleum, United States' in d['name']:\n",
    "        for row in d['data']:\n",
    "            us_petro.append(row[1])\n",
    "    if description_prefix + 'natural gas, United States' in d['name']:\n",
    "        for row in d['data']:\n",
    "            us_nat_gas.append(row[1])\n",
    "            \n",
    "us_coal = np.array(us_coal)\n",
    "us_petro = np.array(us_petro)\n",
    "us_nat_gas = np.array(us_nat_gas)\n",
    "us_co2 = np.array([us_coal, us_nat_gas, us_petro])\n",
    "us_co2 = np.transpose(us_co2)\n",
    "\n",
    "assert len(years) == len(us_co2)\n",
    "\n",
    "\n",
    "with open('Unit-5-2-Numpy.data.pickle', 'wb') as f:\n",
    "    pickle.dump((years, us_coal, us_petro, us_nat_gas ), f)\n",
    "del row, us_co2, us_coal, us_petro, us_nat_gas, years\n",
    "#End\n",
    "\n",
    "# Read in some data that we will use later\n",
    "with open('Unit-5-2-Numpy.data.pickle', 'rb') as f:\n",
    "    years, us_coal, us_petro, us_nat_gas = pickle.load(f)\n"
   ]
  },
  {
   "cell_type": "markdown",
   "metadata": {},
   "source": [
    "### Since NumPy is an external library, or in Python parlance, *module,* we need to import numpy to be able to use it.\n",
    "- The statement `import numpy as np` in the first code cell is importing the numpy library.\n",
    "- Notice that we are importing numpy as np.   We are renaming it becuase we don't like to type long names!\n",
    "- This means that we can refer to numpy functions using just np instead of having to type numpy everytime.\n",
    "- `import numpy as np` is widely used - a common convention.\n",
    "- ### generally speaking, modules contain valuable built-in defintions and functions.\n",
    "- you can use these to save time and also be reasonably confident that the function will work correctly.\n",
    "- you can just import pieces, which may be useful if you only need a limited number of the functions and you want to save space, e.g., `from math import factorial`\n"
   ]
  },
  {
   "cell_type": "markdown",
   "metadata": {},
   "source": [
    "### range and numpy arange functions\n",
    "- You can generate a range of values for a Python list using the `range()` function.\n",
    "- `range(start, stop, step)` generates integers starting from start and ending at stop, with increments of step between numbers.\n",
    "\n",
    "\n",
    "<br />"
   ]
  },
  {
   "cell_type": "code",
   "execution_count": 2,
   "metadata": {
    "tags": []
   },
   "outputs": [
    {
     "name": "stdout",
     "output_type": "stream",
     "text": [
      "range(0, 10)\n",
      "iX is of type  <class 'range'>\n",
      "[0, 1, 2, 3, 4, 5, 6, 7, 8, 9]\n"
     ]
    },
    {
     "data": {
      "text/plain": [
       "list"
      ]
     },
     "execution_count": 2,
     "metadata": {},
     "output_type": "execute_result"
    }
   ],
   "source": [
    "# Use range to get a range of 0 to 9\n",
    "iX = range(10)\n",
    "# What type of an object is range?\n",
    "print(iX)\n",
    "print(\"iX is of type \", type(iX))\n",
    "# We can use the list function to convert the range to a list\n",
    "iL = list(iX)\n",
    "print(iL)\n",
    "type(iL)"
   ]
  },
  {
   "cell_type": "markdown",
   "metadata": {},
   "source": [
    "### numpy arange()\n",
    "- The numpy `arange(start, stop, step)` function generates a numpy array, starting at `start` and going upto (but not including) `stop` in steps of `step`.\n",
    "- Check out <a target=\"_blank\" href='https://docs.scipy.org/doc/numpy/reference/generated/numpy.arange.html'>`arange()`</a> function.   \n",
    "- There's also a length function, `len` that returns the number of elements in the array.\n",
    "\n",
    "<br />\n",
    "<br />"
   ]
  },
  {
   "cell_type": "code",
   "execution_count": 3,
   "metadata": {
    "tags": []
   },
   "outputs": [
    {
     "name": "stdout",
     "output_type": "stream",
     "text": [
      "arr= [0 1 2 3 4]\n",
      "len(arr)= 5\n",
      "After arr[5] = 36, arr= [ 0  1  2 36  4]\n"
     ]
    },
    {
     "data": {
      "text/plain": [
       "numpy.ndarray"
      ]
     },
     "execution_count": 3,
     "metadata": {},
     "output_type": "execute_result"
    }
   ],
   "source": [
    "# Initial an np array \n",
    "import numpy as np\n",
    "arr = np.arange(5)  # Creates an nd-array [ 0, 1, 2, 3, 4, 5, 6, 7, 8, 9 ]\n",
    "print(\"arr=\", arr)\n",
    "# You can get the length of a nd-array\n",
    "print(\"len(arr)=\", len(arr))\n",
    "\n",
    "# You can modify elements of an nd-array\n",
    "arr[3] = 36\n",
    "print(\"After arr[5] = 36, arr=\", arr)\n",
    "\n",
    "type(arr)"
   ]
  },
  {
   "cell_type": "markdown",
   "metadata": {},
   "source": [
    "### Once the `import numpy as np` statement in run:\n",
    "\n",
    "* All NumPy functions will be called `np.xxx()` in our code, where `xxx` is the specific Numpy function.  \n",
    "\n",
    "* Essentially we are importing all of NumPy functionality and then tell the Python compiler we want to use NumPy's average function by typing in `np.average()`.\n",
    "\n",
    "* In this way, Python knows we want to use the numpy `average()` function.\n",
    "\n"
   ]
  },
  {
   "cell_type": "markdown",
   "metadata": {},
   "source": [
    "## NumPy array elements are all of the same type\n",
    "\n",
    "Since all members of a NumPy array are required to be the same type,\n",
    "you can be assured that if the first element of array `arr` is an integer then they all are.\n",
    "This is different than Python lists where each element can be of a different type.\n",
    "NumPy arrays are **homogenous** types.\n",
    "\n",
    "Since `arr[0]` is an integer 0, what do you think \n",
    "happens when we assign a float value to one element?"
   ]
  },
  {
   "cell_type": "markdown",
   "metadata": {},
   "source": [
    "## Update the middle element of a NumPy array\n",
    "\n",
    "Set the middle element of `arr` to the value 36.5 and then print out `arr`.\n",
    "\n",
    "What are the steps to do this:\n",
    "1. Find out how many elements are in the array\n",
    "1. Find the middle element of an array\n",
    "1. Set the middle element of the array to 36.5\n"
   ]
  },
  {
   "cell_type": "code",
   "execution_count": 4,
   "metadata": {
    "tags": []
   },
   "outputs": [
    {
     "name": "stdout",
     "output_type": "stream",
     "text": [
      "Arr is [ 0  1 36 36  4]\n"
     ]
    }
   ],
   "source": [
    "\n",
    "arr[ len(arr) // 2 ] = 36.5\n",
    "   \n",
    "print('Arr is', arr)"
   ]
  },
  {
   "cell_type": "markdown",
   "metadata": {},
   "source": [
    "### Assigning a value that can't be converted\n",
    "\n",
    "The above worked, because 36.5 could be converted to an integer.\n",
    "What happens if we assign a value that can't be converted to an integer?\n",
    "\n",
    "Assign the character string `'ar'` to `arr[0]`.\n"
   ]
  },
  {
   "cell_type": "code",
   "execution_count": 5,
   "metadata": {
    "tags": []
   },
   "outputs": [
    {
     "name": "stdout",
     "output_type": "stream",
     "text": [
      "Exception occured invalid literal for int() with base 10: 'ar'\n"
     ]
    }
   ],
   "source": [
    "# Assign the value 'ar' to arr[0]\n",
    "try:\n",
    "    arr[0] = 'ar'\n",
    "except:\n",
    "    print('Exception occured', sys.exc_info()[1])\n",
    "    pass\n"
   ]
  },
  {
   "cell_type": "markdown",
   "metadata": {},
   "source": [
    "## Create a NumPy array of zeros\n",
    "\n",
    "* There's a NumPy function `zeros`. that creates an array of zeros.\n",
    "* Print out `zero_arr` to see what it's value is.\n",
    "* Print out the length of `zero_arr`\n"
   ]
  },
  {
   "cell_type": "code",
   "execution_count": 6,
   "metadata": {
    "tags": []
   },
   "outputs": [
    {
     "name": "stdout",
     "output_type": "stream",
     "text": [
      "The length of zero_arr is 10\n",
      "The contents of zero_arr is [0. 0. 0. 0. 0. 0. 0. 0. 0. 0.]\n"
     ]
    }
   ],
   "source": [
    "# Create an array of zeros\n",
    "zero_arr = np.zeros(10)\n",
    "\n",
    "print('The length of zero_arr is', len(zero_arr))\n",
    "print('The contents of zero_arr is', zero_arr)\n"
   ]
  },
  {
   "cell_type": "markdown",
   "metadata": {},
   "source": [
    "### NumPy Zeros takes an optional parameter\n",
    "\n",
    "* The optional parameter for allows you to make the array boolean False's.\n",
    "\n",
    "* Variable `five_falses` is a NumPy array of five Falses.\n",
    "\n",
    "* You can also initialize a NumPy array using a Python list.\n",
    "* In fact, there are so many ways to initialize an array, there's a whole web page on [NumPy array creation](https://docs.scipy.org/doc/numpy-1.13.0/user/basics.creation.html).\n"
   ]
  },
  {
   "cell_type": "code",
   "execution_count": 24,
   "metadata": {
    "scrolled": true,
    "tags": []
   },
   "outputs": [
    {
     "name": "stdout",
     "output_type": "stream",
     "text": [
      "five_falses is [False False False False False]\n",
      "The following members of five_falses is equal to the same members of another_five_falses [ True  True  True  True  True]\n",
      "[1.5 2.  3.  4.  5. ] float64 <U4\n"
     ]
    }
   ],
   "source": [
    "five_falses = np.zeros(5, dtype=bool)\n",
    "\n",
    "print('five_falses is', five_falses)\n",
    "\n",
    "\n",
    "another_five_falses = np.array([False] * 5)\n",
    "\n",
    "print('The following members of five_falses is equal to the same members of another_five_falses', \n",
    "      five_falses == another_five_falses)\n",
    "\n",
    "five_seth = np.array(['Seth'] * 5)\n",
    "my_np = np.array([1.5, 2.0, 3, 4, 5])\n",
    "print(my_np, my_np.dtype, five_seth.dtype)"
   ]
  },
  {
   "cell_type": "markdown",
   "metadata": {},
   "source": [
    "## What did == do?\n",
    "\n",
    "For a NumPy array, ==\n",
    "tested if **each** element was equal.\n",
    "This will come in handy later.\n",
    "\n",
    "Some numpy functions that are widely used:\n",
    "\n",
    " - <a href=\"https://docs.scipy.org/doc/numpy/reference/generated/numpy.any.html?highlight=any#numpy.any\" target=\"_blank\">np.any()</a> Will tell you if *any* element of a Numpy array **evaluates** to true.\n",
    " - <a href=\"https://docs.scipy.org/doc/numpy/reference/generated/numpy.all.html?highlight=all#numpy.all\" target=\"_blank\">np.all()</a> Will tell you if *all* elements of a Numpy array **evaluates** to true.\n",
    "   \n",
    "   \n",
    "Set variable `any_five_equal` to the value of whether any element in `five_falses` is equal to any element in `another_five_falses`.\n",
    "\n",
    "Set variable `all_five_equal` to the value of whether all elements in `five_falses` are equal to all element in `another_five_falses`.\n"
   ]
  },
  {
   "cell_type": "code",
   "execution_count": 30,
   "metadata": {},
   "outputs": [
    {
     "name": "stdout",
     "output_type": "stream",
     "text": [
      "[False False False False False] [ True False  True  True  True]\n",
      "any_five_equal is True\n",
      "all_five_equal is False\n"
     ]
    }
   ],
   "source": [
    "# five_falses and another_five_falses should have the same dimension\n",
    "\n",
    "another_five_falses = np.array([True] * 5)\n",
    "another_five_falses[1] = False\n",
    "print(five_falses, another_five_falses)\n",
    "any_five_equal = np.any(five_falses == another_five_falses)\n",
    "print('any_five_equal is', any_five_equal)\n",
    "\n",
    "all_five_equal = np.all(five_falses == another_five_falses)\n",
    "\n",
    "print('all_five_equal is', all_five_equal)"
   ]
  },
  {
   "cell_type": "code",
   "execution_count": 29,
   "metadata": {
    "tags": []
   },
   "outputs": [
    {
     "name": "stdout",
     "output_type": "stream",
     "text": [
      "[False False False False False] [False False False False False]\n",
      "any_five_equal is True\n",
      "all_five_equal is True\n"
     ]
    }
   ],
   "source": [
    "another_five_falses = np.array([False] * 5)\n",
    "print(five_falses, another_five_falses)\n",
    "any_five_equal = np.any(five_falses == another_five_falses)\n",
    "print('any_five_equal is', any_five_equal)\n",
    "\n",
    "all_five_equal = np.all(five_falses == another_five_falses)\n",
    "\n",
    "print('all_five_equal is', all_five_equal)"
   ]
  },
  {
   "cell_type": "markdown",
   "metadata": {},
   "source": [
    "\n",
    "## Let's read in some data\n",
    "\n",
    "The original data is taken from the <a href=\"https://www.eia.gov/\" target=\"_blank\">U.S. Energy Information Administration</a> which has the mission, authorized by U.S. Congress, to _\"Collect, analyze, and disseminate independent and impartial energy information to promote sound policymaking, efficient markets, and public understanding of energy and its interaction with the economy and the environment.\"_\n",
    "\n",
    "If you are interested in this data, you can download the actual data from their <a href=\"https://www.eia.gov/opendata/bulkfiles.php\" target=\"_blank\">latest bulk download site</a>.\n",
    "\n",
    "Essentially `us_coal` is a variable that has the number of millions of metric tons of $CO_2$ emitted by the United States.\n",
    " "
   ]
  },
  {
   "cell_type": "code",
   "execution_count": 33,
   "metadata": {
    "tags": []
   },
   "outputs": [
    {
     "name": "stdout",
     "output_type": "stream",
     "text": [
      "United State CO2 emissions from coal starting in the year 1980\n"
     ]
    },
    {
     "data": {
      "text/html": [
       "<h1>United States CO2 emmissions from coal in millions of metric tons</h1>"
      ],
      "text/plain": [
       "<IPython.core.display.HTML object>"
      ]
     },
     "metadata": {},
     "output_type": "display_data"
    },
    {
     "data": {
      "text/html": [
       "<table border=\"1\" class=\"dataframe\">\n",
       "  <thead>\n",
       "    <tr style=\"text-align: right;\">\n",
       "      <th></th>\n",
       "      <th>Coal CO2</th>\n",
       "    </tr>\n",
       "  </thead>\n",
       "  <tbody>\n",
       "    <tr>\n",
       "      <th>2016</th>\n",
       "      <td>1341.554505</td>\n",
       "    </tr>\n",
       "    <tr>\n",
       "      <th>2015</th>\n",
       "      <td>1466.690348</td>\n",
       "    </tr>\n",
       "    <tr>\n",
       "      <th>2014</th>\n",
       "      <td>1697.674855</td>\n",
       "    </tr>\n",
       "    <tr>\n",
       "      <th>2013</th>\n",
       "      <td>1701.695889</td>\n",
       "    </tr>\n",
       "    <tr>\n",
       "      <th>2012</th>\n",
       "      <td>1639.630926</td>\n",
       "    </tr>\n",
       "    <tr>\n",
       "      <th>2011</th>\n",
       "      <td>1855.156011</td>\n",
       "    </tr>\n",
       "    <tr>\n",
       "      <th>2010</th>\n",
       "      <td>1965.117129</td>\n",
       "    </tr>\n",
       "    <tr>\n",
       "      <th>2009</th>\n",
       "      <td>1858.135179</td>\n",
       "    </tr>\n",
       "    <tr>\n",
       "      <th>2008</th>\n",
       "      <td>2113.011264</td>\n",
       "    </tr>\n",
       "    <tr>\n",
       "      <th>2007</th>\n",
       "      <td>2147.475127</td>\n",
       "    </tr>\n",
       "    <tr>\n",
       "      <th>2006</th>\n",
       "      <td>2118.951530</td>\n",
       "    </tr>\n",
       "    <tr>\n",
       "      <th>2005</th>\n",
       "      <td>2151.634481</td>\n",
       "    </tr>\n",
       "    <tr>\n",
       "      <th>2004</th>\n",
       "      <td>2118.667109</td>\n",
       "    </tr>\n",
       "    <tr>\n",
       "      <th>2003</th>\n",
       "      <td>2105.208730</td>\n",
       "    </tr>\n",
       "    <tr>\n",
       "      <th>2002</th>\n",
       "      <td>2065.769005</td>\n",
       "    </tr>\n",
       "    <tr>\n",
       "      <th>2001</th>\n",
       "      <td>2066.578455</td>\n",
       "    </tr>\n",
       "    <tr>\n",
       "      <th>2000</th>\n",
       "      <td>2130.265877</td>\n",
       "    </tr>\n",
       "    <tr>\n",
       "      <th>1999</th>\n",
       "      <td>2036.957360</td>\n",
       "    </tr>\n",
       "    <tr>\n",
       "      <th>1998</th>\n",
       "      <td>2037.022266</td>\n",
       "    </tr>\n",
       "    <tr>\n",
       "      <th>1997</th>\n",
       "      <td>2023.406571</td>\n",
       "    </tr>\n",
       "    <tr>\n",
       "      <th>1996</th>\n",
       "      <td>1980.796698</td>\n",
       "    </tr>\n",
       "    <tr>\n",
       "      <th>1995</th>\n",
       "      <td>1895.882384</td>\n",
       "    </tr>\n",
       "    <tr>\n",
       "      <th>1994</th>\n",
       "      <td>1875.711472</td>\n",
       "    </tr>\n",
       "    <tr>\n",
       "      <th>1993</th>\n",
       "      <td>1868.516516</td>\n",
       "    </tr>\n",
       "    <tr>\n",
       "      <th>1992</th>\n",
       "      <td>1800.345924</td>\n",
       "    </tr>\n",
       "    <tr>\n",
       "      <th>1991</th>\n",
       "      <td>1789.700588</td>\n",
       "    </tr>\n",
       "    <tr>\n",
       "      <th>1990</th>\n",
       "      <td>1805.088859</td>\n",
       "    </tr>\n",
       "    <tr>\n",
       "      <th>1989</th>\n",
       "      <td>1791.079765</td>\n",
       "    </tr>\n",
       "    <tr>\n",
       "      <th>1988</th>\n",
       "      <td>1774.686881</td>\n",
       "    </tr>\n",
       "    <tr>\n",
       "      <th>1987</th>\n",
       "      <td>1685.109549</td>\n",
       "    </tr>\n",
       "    <tr>\n",
       "      <th>1986</th>\n",
       "      <td>1618.083494</td>\n",
       "    </tr>\n",
       "    <tr>\n",
       "      <th>1985</th>\n",
       "      <td>1646.116998</td>\n",
       "    </tr>\n",
       "    <tr>\n",
       "      <th>1984</th>\n",
       "      <td>1594.839451</td>\n",
       "    </tr>\n",
       "    <tr>\n",
       "      <th>1983</th>\n",
       "      <td>1487.372207</td>\n",
       "    </tr>\n",
       "    <tr>\n",
       "      <th>1982</th>\n",
       "      <td>1430.450562</td>\n",
       "    </tr>\n",
       "    <tr>\n",
       "      <th>1981</th>\n",
       "      <td>1489.863791</td>\n",
       "    </tr>\n",
       "    <tr>\n",
       "      <th>1980</th>\n",
       "      <td>1444.002171</td>\n",
       "    </tr>\n",
       "  </tbody>\n",
       "</table>"
      ],
      "text/plain": [
       "<IPython.core.display.HTML object>"
      ]
     },
     "metadata": {},
     "output_type": "display_data"
    }
   ],
   "source": [
    "with open('Unit-5-2-Numpy.data.pickle', 'rb') as f:\n",
    "    years, us_coal, us_petro, us_nat_gas = pickle.load(f)\n",
    "print('United State CO2 emissions from coal starting in the year', years[-1])\n",
    "\n",
    "# Use a function created by Majikes at UNC to pretty-print this data.\n",
    "comp116.array_to_html(us_coal, row_names=years, col_names=['Coal CO2'],\n",
    "                      title='United States CO2 emmissions from coal in millions of metric tons')\n"
   ]
  },
  {
   "cell_type": "markdown",
   "metadata": {},
   "source": [
    "## Did the United States ever produce more than two billion metric tons of $CO_2$ from coal?\n",
    "\n",
    "Looking at the data, you can see if there ever was a time the U.S. produced more than a metric ton of $CO_2$ from coal.\n",
    "But how would you do it with NumPy?\n",
    "\n",
    "\n",
    "Remember how `np.any` will take a Boolean expression?"
   ]
  },
  {
   "cell_type": "code",
   "execution_count": 11,
   "metadata": {
    "tags": []
   },
   "outputs": [
    {
     "data": {
      "text/plain": [
       "array([False, False, False, False, False, False, False, False,  True,\n",
       "        True,  True,  True,  True,  True,  True,  True,  True,  True,\n",
       "        True,  True, False, False, False, False, False, False, False,\n",
       "       False, False, False, False, False, False, False, False, False,\n",
       "       False])"
      ]
     },
     "execution_count": 11,
     "metadata": {},
     "output_type": "execute_result"
    }
   ],
   "source": [
    "# First let's just see what the comparison creates\n",
    "\n",
    "us_coal > 2000\n"
   ]
  },
  {
   "cell_type": "code",
   "execution_count": 12,
   "metadata": {
    "tags": []
   },
   "outputs": [
    {
     "name": "stdout",
     "output_type": "stream",
     "text": [
      "Since 1980 the United States has, during some years, produced over two billion metric tons of CO2 from coal is a True statement\n"
     ]
    }
   ],
   "source": [
    "# Let's use np.any to see if ANY values are True\n",
    "over_two_billion_tons = np.any( us_coal > 2000)\n",
    "\n",
    "print('Since 1980 the United States has, during some years, produced over two billion metric tons of CO2 from coal is a', \n",
    "      over_two_billion_tons, 'statement')"
   ]
  },
  {
   "cell_type": "markdown",
   "metadata": {},
   "source": [
    "## Has the U.S. always produced at least 2 billion metric tons of $CO_2$ from coal?\n",
    "\n",
    "Set the variable `always_over_two_billion_tons` to be the boolean of whether the U.S. has always (since 1980) produced \n",
    "over two billion metric tons of $CO_2$ from coal.\n",
    "\n",
    "Use the NumPy all function to test if all are equal."
   ]
  },
  {
   "cell_type": "code",
   "execution_count": 13,
   "metadata": {
    "tags": []
   },
   "outputs": [
    {
     "name": "stdout",
     "output_type": "stream",
     "text": [
      "The U.S., since 1980, has always produced at least 2 billion metric tons of CO2 from coal is a False statement\n"
     ]
    }
   ],
   "source": [
    "\n",
    "always_over_two_billion_tons = np.all(us_coal >= 2000)\n",
    "\n",
    "print('The U.S., since 1980, has always produced at least 2 billion metric tons of CO2 from coal is a',\n",
    "     always_over_two_billion_tons, 'statement')"
   ]
  },
  {
   "cell_type": "markdown",
   "metadata": {},
   "source": [
    "### Various NumPy functions\n",
    "\n",
    "There are various NumPy functions.\n",
    "Below is  a list of functions that are quite useful.\n",
    " * [np.sum()](https://docs.scipy.org/doc/numpy-1.15.0/reference/generated/numpy.sum.html) takes the sum of items in the array\n",
    " * [np.mean()](https://docs.scipy.org/doc/numpy-1.15.0/reference/generated/numpy.mean.html) takes the mean of the items in the array.   Note that there is also a [np.average()](https://docs.scipy.org/doc/numpy-1.15.0/reference/generated/numpy.average.html)\n",
    " * [np.std()](https://docs.scipy.org/doc/numpy-1.15.0/reference/generated/numpy.std.html) takes the standard deviation of the items in the array.\n",
    " * [np.max()](https://docs.scipy.org/doc/numpy-1.15.0/reference/generated/numpy.maximum.html) finds the maximum value element in the array.\n",
    " * [np.min()](https://docs.scipy.org/doc/numpy-1.15.0/reference/generated/numpy.minimum.html) finds the minimum value element in the array. \n",
    " * [np.prd()](https://docs.scipy.org/doc/numpy-1.15.0/reference/generated/numpy.prod.html) computes the product of all the elements in the array.\n",
    "\n",
    " "
   ]
  },
  {
   "cell_type": "markdown",
   "metadata": {},
   "source": [
    "## What is the minimum US emission of $CO_2$ from coal?\n",
    "\n",
    "Set variable `min_coal` to the minimum of United States emission of $CO_2$ from coal since 1980."
   ]
  },
  {
   "cell_type": "code",
   "execution_count": 14,
   "metadata": {
    "tags": []
   },
   "outputs": [
    {
     "name": "stdout",
     "output_type": "stream",
     "text": [
      "Since 1980 the United States minimum annual production of CO2 from coal is, 1341.554505\n",
      "The offset of the minimum within the \"us_coal\" array is 0\n"
     ]
    }
   ],
   "source": [
    "\n",
    "min_coal = np.min(us_coal)\n",
    "\n",
    "print('Since 1980 the United States minimum annual production of CO2 from coal is,' ,\n",
    "     min_coal)\n",
    "\n",
    "print('The offset of the minimum within the \"us_coal\" array is', np.argmin(us_coal))  #see below!"
   ]
  },
  {
   "cell_type": "markdown",
   "metadata": {},
   "source": [
    "## Which year was the minimum?\n",
    "\n",
    "Notice that we have an array `years` that match `us_coal` in size?\n",
    "`len(years) == len(us_coal)` is True.\n",
    "So if the first year (year with offset 0) is 2016, what year was the minimum.\n",
    "\n",
    " * [np.argmax](https://docs.scipy.org/doc/numpy-1.15.0/reference/generated/numpy.argmax.html) returns the offset of the maximum value\n",
    " * [np.argmin](https://docs.scipy.org/doc/numpy-1.15.0/reference/generated/numpy.argmin.html) returns the offset of the minimum value\n",
    " \n",
    "Set variable `min_offset` to the offset minimum United States emission of $CO_2$ from coal since 1980.  \n",
    "Set the variable `min_year` to the year that had the minimum emission  \n",
    "\n",
    "1. Find the offset of the minumum amount of `us_coal` and assign it to `min_offset`.\n",
    "2. Find the element in `years` that is the same offset.\n"
   ]
  },
  {
   "cell_type": "code",
   "execution_count": 15,
   "metadata": {
    "tags": []
   },
   "outputs": [
    {
     "name": "stdout",
     "output_type": "stream",
     "text": [
      "The number of elements in variable years matches the number elements in us_coal is a True statement.\n",
      "0\n",
      "Since 1980 the United States minimum annual production of CO2 from coal was, 1341.554505 in 2016\n"
     ]
    }
   ],
   "source": [
    "print('The number of elements in variable years matches the number elements in us_coal is a',\n",
    "      len(years) == len(us_coal), 'statement.')\n",
    "\n",
    "min_offset = np.argmin(us_coal)\n",
    "print(min_offset)\n",
    "\n",
    "# If so, in this case, it just turns out that min_offset is 0 so years[0] - min_offset is same as years[min_offset]\n",
    "# what is the RIGHT way to do this?\n",
    "min_year = years[0] - min_offset\n",
    "#print(min_year)\n",
    "#min_year = years[min_offset]\n",
    "#print(min_year)\n",
    "\n",
    "\n",
    "print('Since 1980 the United States minimum annual production of CO2 from coal was,' ,\n",
    "     min_coal, 'in', min_year)"
   ]
  },
  {
   "cell_type": "markdown",
   "metadata": {},
   "source": [
    "### You can use min_offset to get to the year from the `years` array.\n"
   ]
  },
  {
   "cell_type": "code",
   "execution_count": 16,
   "metadata": {
    "tags": []
   },
   "outputs": [
    {
     "name": "stdout",
     "output_type": "stream",
     "text": [
      "The minimum year, 2016 , the US emitted 1341.554505 million metric tons of CO2 from coal\n",
      "You can also reference the year directly using min_year[min_offset] = 2016\n"
     ]
    }
   ],
   "source": [
    "min_year = years[min_offset]\n",
    "print('The minimum year,', min_year, ', the US emitted', min_coal, 'million metric tons of CO2 from coal')\n",
    "\n",
    "print('You can also reference the year directly using min_year[min_offset] =', years[min_offset])"
   ]
  },
  {
   "cell_type": "markdown",
   "metadata": {},
   "source": [
    "## Counting items\n",
    "\n",
    "What if you wanted to know the number of years that the U.S. emitted two billion metric tons of $CO_2$ from coal?\n",
    "\n",
    "NumPy has a function for that.\n",
    "[np.count_nonzero](https://docs.scipy.org/doc/numpy/reference/generated/numpy.count_nonzero.html?highlight=count#numpy.count_nonzero) will return the values that are non-zero.\n",
    "\n",
    "To use this, you have to remember that False evaluates to an integer 0.\n",
    "\n",
    "print out `coal_us >= 20000`"
   ]
  },
  {
   "cell_type": "code",
   "execution_count": 17,
   "metadata": {
    "tags": []
   },
   "outputs": [
    {
     "name": "stdout",
     "output_type": "stream",
     "text": [
      "[False False False False False False False False  True  True  True  True\n",
      "  True  True  True  True  True  True  True  True False False False False\n",
      " False False False False False False False False False False False False\n",
      " False]\n"
     ]
    }
   ],
   "source": [
    "print(us_coal >= 2000)"
   ]
  },
  {
   "cell_type": "markdown",
   "metadata": {},
   "source": [
    "### Count up the emissions that are 2 billion metric tons or greater\n",
    "\n",
    "Set variable `num_2_billion` to the number of years that were equal to or greater than two billion"
   ]
  },
  {
   "cell_type": "code",
   "execution_count": 18,
   "metadata": {
    "tags": []
   },
   "outputs": [
    {
     "name": "stdout",
     "output_type": "stream",
     "text": [
      "The United States emitted more than two billion metric tons of CO2 from coal for 12 years.\n"
     ]
    }
   ],
   "source": [
    "\n",
    "num_2_billion = np.count_nonzero(us_coal >= 2000)\n",
    "\n",
    "print('The United States emitted more than two billion metric tons of CO2 from coal for', num_2_billion,\n",
    "     'years.')"
   ]
  },
  {
   "cell_type": "markdown",
   "metadata": {},
   "source": [
    "## What is the maximum US emission of $CO_2$ from coal?\n",
    "\n",
    "Set variable `max_coal` to the max of United States emission of $CO_2$ from coal since 1980."
   ]
  },
  {
   "cell_type": "code",
   "execution_count": 19,
   "metadata": {
    "tags": []
   },
   "outputs": [
    {
     "name": "stdout",
     "output_type": "stream",
     "text": [
      "Since 1980 the United States produced the maximum number of million metric tons produced was 2151.634481\n"
     ]
    }
   ],
   "source": [
    "\n",
    "max_coal = np.max(us_coal)\n",
    "\n",
    "print('Since 1980 the United States produced the maximum number of million metric tons produced was' ,\n",
    "     max_coal)"
   ]
  },
  {
   "cell_type": "markdown",
   "metadata": {},
   "source": [
    "## What is the average US emission of $CO_2$ from coal?\n",
    "\n",
    "Set variable `average_coal` to the average of United States emission of $CO_2$ from coal since 1980."
   ]
  },
  {
   "cell_type": "code",
   "execution_count": 20,
   "metadata": {
    "tags": []
   },
   "outputs": [
    {
     "name": "stdout",
     "output_type": "stream",
     "text": [
      "Since 1980 the United States produced, on average, 1827.5202682972972 million metric tons annually.\n"
     ]
    }
   ],
   "source": [
    "\n",
    "average_coal = np.average(us_coal)\n",
    "\n",
    "print('Since 1980 the United States produced, on average,' ,\n",
    "     average_coal, 'million metric tons annually.')"
   ]
  },
  {
   "cell_type": "code",
   "execution_count": null,
   "metadata": {},
   "outputs": [],
   "source": []
  }
 ],
 "metadata": {
  "celltoolbar": "Edit Metadata",
  "kernelspec": {
   "display_name": "Python 3",
   "language": "python",
   "name": "python3"
  },
  "language_info": {
   "codemirror_mode": {
    "name": "ipython",
    "version": 3
   },
   "file_extension": ".py",
   "mimetype": "text/x-python",
   "name": "python",
   "nbconvert_exporter": "python",
   "pygments_lexer": "ipython3",
   "version": "3.12.5"
  }
 },
 "nbformat": 4,
 "nbformat_minor": 4
}
